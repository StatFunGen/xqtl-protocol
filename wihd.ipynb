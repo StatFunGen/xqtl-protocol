{
 "cells": [
  {
   "cell_type": "markdown",
   "id": "5692d569-6015-4822-a380-4c8847c526d7",
   "metadata": {
    "kernel": "SoS",
    "tags": []
   },
   "source": [
    "# Summary about what I did"
   ]
  },
  {
   "cell_type": "markdown",
   "id": "eacf2563-fa8f-4a37-bf2b-15fe3f68e5b1",
   "metadata": {
    "kernel": "SoS",
    "tags": []
   },
   "source": [
    "## A\n",
    "\n",
    "Build containers and debug：\n",
    "\n",
    "I build these containers follow the introduction from [this link](https://github.com/Jiacheng0007/xqtl-pipeline/blob/main/code/misc/build_container.ipynb)\n",
    "\n",
    "I successfully build up container：`stephenslab fastenloc leafcutter METAL psichomics rna_quantification SOS TensorQTL` without debugging.\n",
    "\n",
    "And following are the problems I met when building other containers and how to solve it:"
   ]
  },
  {
   "cell_type": "markdown",
   "id": "d3ae6cd8-05db-4723-9864-425592ea2f5c",
   "metadata": {
    "kernel": "SoS"
   },
   "source": [
    "### Bioinfo\n",
    "\n",
    "For the `bioinfo` container, the problem is:\n",
    "\n",
    "`The following package could not be installed`\n",
    " \n",
    "`└─ cugg   is uninstallable because it requires`\n",
    "\n",
    "Solve it by exclude the package `cugg` when build up the container."
   ]
  },
  {
   "cell_type": "markdown",
   "id": "3280e8cb-989b-49bb-9abe-804880a295c7",
   "metadata": {
    "kernel": "SoS"
   },
   "source": [
    "### Methylation\n",
    "\n",
    "Same as the `bioinfo` container, the `methylation` container also have the same problem\n",
    "\n",
    "`The following packages are incompatible`\n",
    "\n",
    "`├─ bioconductor-illuminahumanmethylationepicanno.ilm10b4.hg19`\n",
    "\n",
    "`└─ r-illuminahumanmethylationepicanno.ilm10b5.hg38`\n",
    "\n",
    "Also, solve it by exclude these two packages when build up the container."
   ]
  },
  {
   "cell_type": "markdown",
   "id": "cd170017-6230-492a-8f3e-4ddf38082d65",
   "metadata": {
    "kernel": "SoS"
   },
   "source": [
    "### Ployfun\n",
    "\n",
    "For the `polyfun` container, it first returns an error\n",
    "\n",
    "`critical libmamba Unable to read repodata JSON file 'bioconda?/linux-64', error was: parse error line 1`\n",
    "\n",
    "It's a typo in the `.csv` [file](https://github.com/Jiacheng0007/xqtl-pipeline/blob/main/code/misc/xQTL_conda_packages.csv) that the `finemap` package's channel is `bioconda?`, then I go to the [website](https://anaconda.org/bioconda/finemap) find that the package `finemap` is under `bioconda`, therefore, I solve the problem by delete the `?` and it was build up successfully."
   ]
  },
  {
   "cell_type": "markdown",
   "id": "fae9504e-8084-4210-acf9-611e523627c8",
   "metadata": {
    "kernel": "SoS"
   },
   "source": [
    "## B\n"
   ]
  },
  {
   "cell_type": "markdown",
   "id": "16711fb3-1930-4981-8cd3-1bb68ec7fb2d",
   "metadata": {
    "kernel": "SoS"
   },
   "source": [
    "What I'm doing now is test the `entrypoint` version SoS following the [instruction](https://cumc.github.io/xqtl-pipeline/code/xqtl_protocol_demo.html)\n",
    "\n",
    "I have reach to the [STAR_output](https://cumc.github.io/xqtl-pipeline/code/molecular_phenotypes/calling/RNA_calling.html) part.\n",
    "\n",
    "When trying to run the SoS command in this part I come up with a problem\n",
    "\n",
    "`samtools: command not found`\n",
    "\n",
    "I found that it's because the comtainer `rna_quantification` doesn't include the `samtools` package, then I refer to the `xqtl conda package.csv` and found that the `samtools` package just include in `dapars2` but not `rna_quantification` then I add the package in `rna_quantification` and rebuild the container."
   ]
  },
  {
   "cell_type": "code",
   "execution_count": null,
   "id": "48c93c54-1bc8-46cf-ac1b-a2918f00bd39",
   "metadata": {
    "kernel": "SoS"
   },
   "outputs": [],
   "source": []
  }
 ],
 "metadata": {
  "kernelspec": {
   "display_name": "SoS",
   "language": "sos",
   "name": "sos"
  },
  "language_info": {
   "codemirror_mode": "sos",
   "file_extension": ".sos",
   "mimetype": "text/x-sos",
   "name": "sos",
   "nbconvert_exporter": "sos_notebook.converter.SoS_Exporter",
   "pygments_lexer": "sos"
  },
  "sos": {
   "kernels": [
    [
     "SoS",
     "sos",
     "",
     ""
    ]
   ],
   "version": "0.24.1"
  }
 },
 "nbformat": 4,
 "nbformat_minor": 5
}
