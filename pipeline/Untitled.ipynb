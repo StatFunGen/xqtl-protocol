{
 "cells": [
  {
   "cell_type": "code",
   "execution_count": 2,
   "id": "24c51f56-4a76-46ba-8cc5-d913e20c62f7",
   "metadata": {},
   "outputs": [
    {
     "data": {
      "text/html": [
       "<div class=\"sos_logging sos_warning\">WARNING: Embedding script \"tmp = read...\" without indentation is error-prone and will be deprecated in the future.</div>"
      ]
     },
     "metadata": {},
     "output_type": "display_data"
    }
   ],
   "source": [
    "R:\n",
    "    tmp = readRDS(\"~/ABCA7_res/h3k9ac_whole.h3k9ac_whole.k9_cov.xqtl_protocol_data.filtered.related.filtered.extracted.pca.projected.resid.PEER.merged.resid.bed_ABC7.rds\")"
   ]
  },
  {
   "cell_type": "code",
   "execution_count": null,
   "id": "ab81b6bf-7b0c-40ab-9c63-786778d4c9f0",
   "metadata": {},
   "outputs": [],
   "source": []
  }
 ],
 "metadata": {
  "kernelspec": {
   "display_name": "SoS",
   "language": "sos",
   "name": "sos"
  },
  "language_info": {
   "codemirror_mode": "sos",
   "file_extension": ".sos",
   "mimetype": "text/x-sos",
   "name": "sos",
   "nbconvert_exporter": "sos_notebook.converter.SoS_Exporter",
   "pygments_lexer": "sos"
  },
  "sos": {
   "kernels": [
    [
     "SoS",
     "sos",
     "",
     ""
    ]
   ],
   "version": ""
  }
 },
 "nbformat": 4,
 "nbformat_minor": 5
}
