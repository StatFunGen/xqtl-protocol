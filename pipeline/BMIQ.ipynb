{
 "cells": [
  {
   "cell_type": "markdown",
   "id": "e02add11-a8f4-4cf7-b175-6bfb84b67c7a",
   "metadata": {
    "kernel": "SoS",
    "tags": []
   },
   "source": [
    "# BMIQ for methylation beta value"
   ]
  },
  {
   "cell_type": "code",
   "execution_count": null,
   "id": "8b0e9895-fc39-4baf-abb9-4eac3b7e8e16",
   "metadata": {
    "kernel": "SoS"
   },
   "outputs": [],
   "source": [
    "sos run xqtl-pipeline/pipeline/BMIQ.ipynb BMIQ \\\n",
    "    --cwd /mnt/vast/hpc/csg/ROSMAP_methy_QTL_beta/data_preprocessing/methyl_QTL/phenotype_data \\\n",
    "    --phenoFile /mnt/vast/hpc/csg/ROSMAP_methy_QTL_beta/raw_data/ROSMAP_arrayMethylation_covariates.sesame.methyl.beta.sample_matched.bed.gz \\\n",
    "    --pheno_annotation /mnt/vast/hpc/csg/ROSMAP_methy_QTL_beta/raw_data/cpgAnno_ill450k_finalList_420132.txt \\\n",
    "    --mem 50G \\\n",
    "    --container /mnt/vast/hpc/csg/containers/rna_quantification.sif \\\n",
    "    -J 1 -c csg.yml -q csg2\n"
   ]
  },
  {
   "cell_type": "code",
   "execution_count": null,
   "id": "375e95da-1510-4bf4-8231-3646b047f2f5",
   "metadata": {
    "kernel": "SoS"
   },
   "outputs": [],
   "source": [
    "[global]\n",
    "# Current work directory\n",
    "parameter: cwd = path('./')\n",
    "# path for dir containing the PLINK genotype file\n",
    "parameter: phenoFile = path\n",
    "# path for the annotation of methylation file\n",
    "parameter: pheno_annotation = path\n",
    "# BMIQ parameter\n",
    "parameter: nfit = 500\n",
    "# container option to run this pipeline, HS: This docker can be downloaded from via 'docker pull gaow/xqtl'\n",
    "# parameter: container = \"/mnt/mfs/statgen/containers/xqtl_latest.sif\" [FIXME] Add sif file\n",
    "# How many regions to analyze per job\n",
    "parameter: job_size = 200\n",
    "# whether to perform INT to the methylation data\n",
    "parameter: isINT = 1\n",
    "parameter: job_size = 1\n",
    "# Wall clock time expected\n",
    "parameter: walltime = \"5h\"\n",
    "# Memory expected\n",
    "parameter: mem = \"16G\"\n",
    "# Number of threads\n",
    "parameter: numThreads = 8\n",
    "parameter: container = \"\""
   ]
  },
  {
   "cell_type": "code",
   "execution_count": null,
   "id": "a441e1cd-1535-40ea-8173-2c74f0ba10b3",
   "metadata": {
    "kernel": "SoS"
   },
   "outputs": [],
   "source": [
    "[BMIQ]\n",
    "output: f'{cwd}/{phenoFile:bn}_BMIQ.bed.gz'\n",
    "task: trunk_workers = 1, trunk_size = job_size, walltime = walltime, mem = mem, cores = numThreads, tags = f'{step_name}_{_output:bn}'\n",
    "R: expand = \"${ }\", stderr = f'{_output:nn}.stderr', stdout = f'{_output:nn}.stdout'\n",
    "    library(readr)\n",
    "    library(dplyr)\n",
    "    library(wateRmelon)\n",
    "    library(RNOmni)\n",
    "  \n",
    "    methy = read_delim(\"${phenoFile}\", delim = \"\\t\")\n",
    "    methy_ann = read_delim(\"${pheno_annotation}\",delim = \"\\t\")\n",
    "    cpg_order = match(methy$ID, methy_ann$TargetID)\n",
    "    methy_ann = methy_ann[cpg_order,]\n",
    "    # cpg_ord = match(methy$TargetID,methy_ann$TargetID)\n",
    "    # methy_ann = methy_ann[cpg_ord,]\n",
    "    # perform BMIQ\n",
    "    print(\"start BMIQ\")\n",
    "    probes_type = ifelse(methy_ann$Type == \"I\",1,2)\n",
    "    methy_norm = methy[,1:4]\n",
    "    for(i in 5:ncol(methy)){\n",
    "      print(paste(\"start sample\", as.character(i)))\n",
    "      file_i = paste(\"${_output:n}\",\"_sample_\",i,\".bed\", sep = \"\")\n",
    "      if(file.exists(file_i)){\n",
    "          cur_column = read_delim(file_i, delim = \"\\t\")\n",
    "      }else{\n",
    "          tmp = BMIQ(methy[[i]],design.v = probes_type,nfit = ${nfit})\n",
    "          cur_column = as.data.frame(tmp$nbeta)\n",
    "          colnames(cur_column) = colnames(methy)[i]\n",
    "          write_delim(cur_column, file = file_i)\n",
    "      }\n",
    "      methy_norm = cbind(methy_norm, cur_column)\n",
    "      }\n",
    "      rownames(methy_norm) = rownames(methy)\n",
    "      colnames(methy_norm) = colnames(methy)\n",
    "      write_delim(methy_norm, file = \"${_output:n}\", delim = \"\\t\")\n",
    "\n",
    "bash: expand = \"${ }\", stderr = f'{_output:nn}.stderr', stdout = f'{_output:nn}.stdout', container = container\n",
    "    bgzip -f ${_output:n}\n",
    "    tabix -p ${_output} -f\n",
    "    rm ${_output:n}_sample_*\n"
   ]
  }
 ],
 "metadata": {
  "kernelspec": {
   "display_name": "SoS",
   "language": "sos",
   "name": "sos"
  },
  "language_info": {
   "codemirror_mode": "sos",
   "file_extension": ".sos",
   "mimetype": "text/x-sos",
   "name": "sos",
   "nbconvert_exporter": "sos_notebook.converter.SoS_Exporter",
   "pygments_lexer": "sos"
  },
  "sos": {
   "kernels": [
    [
     "SoS",
     "sos",
     "",
     "",
     "sos"
    ]
   ],
   "version": "0.21.18"
  }
 },
 "nbformat": 4,
 "nbformat_minor": 5
}
