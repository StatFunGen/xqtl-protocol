{
 "cells": [
  {
   "cell_type": "markdown",
   "id": "3b6a5ae2-25a0-4581-a33c-de07241827eb",
   "metadata": {},
   "source": [
    "# Example Manuscript\n",
    "\n",
    "An outline of what to include in a [nature protocols](https://www.nature.com/nprot/for-authors/preparing-your-submission) paper.  \n",
    "The `Keywords` section at the end of this notebooks shows which sections will take text from the website/notebooks. "
   ]
  },
  {
   "cell_type": "markdown",
   "id": "8f926d2b-04a1-458c-8e6c-23b944356a76",
   "metadata": {},
   "source": [
    "## Title"
   ]
  },
  {
   "cell_type": "markdown",
   "id": "b040fe45-f9bb-4115-ac18-b04f1bdb0968",
   "metadata": {},
   "source": [
    "Nature Protocols Recommendations: 30 words max"
   ]
  },
  {
   "cell_type": "markdown",
   "id": "8c560582-c1ae-466b-8661-3f8f6fd7787e",
   "metadata": {},
   "source": [
    "## Authors\n"
   ]
  },
  {
   "cell_type": "markdown",
   "id": "7b902786-5566-4adf-8f02-ba4f0fc7c184",
   "metadata": {},
   "source": [
    "Hao Sun, Francis Grenn, developers and leaders on [website table](https://statfungen.github.io/xqtl-protocol/README.html#our-team)"
   ]
  },
  {
   "cell_type": "markdown",
   "id": "6a7b0890-1a35-4f0c-a641-dea058ba9f20",
   "metadata": {},
   "source": [
    "## Abstract\n"
   ]
  },
  {
   "cell_type": "markdown",
   "id": "38ac0762-5c5b-4a75-b278-d411e8b11fbf",
   "metadata": {},
   "source": [
    "Nature Protocols Recommendations: 250 words max"
   ]
  },
  {
   "cell_type": "markdown",
   "id": "5d9184bf-6c84-4c17-924b-52ca3ef36cdb",
   "metadata": {},
   "source": [
    "## Introduction\n"
   ]
  },
  {
   "cell_type": "markdown",
   "id": "d944273a-4b91-4877-a333-3b64d69ce386",
   "metadata": {},
   "source": [
    "Nature Protocols Recommendations: could use suggested subheadings (below)"
   ]
  },
  {
   "cell_type": "code",
   "execution_count": null,
   "id": "b5da58fe-0b8d-40a7-8062-32f1cfc6008d",
   "metadata": {},
   "outputs": [],
   "source": []
  },
  {
   "cell_type": "markdown",
   "id": "eb9f30b8-7542-470c-8cfe-16631335b81e",
   "metadata": {},
   "source": [
    "### Development of the protocol\n"
   ]
  },
  {
   "cell_type": "markdown",
   "id": "887e6b2b-c8b5-4784-b5ea-710036978d76",
   "metadata": {},
   "source": [
    "Nature Protocols Recommendations: include references to our own peer-reviewed primary research publications"
   ]
  },
  {
   "cell_type": "markdown",
   "id": "b319ce4b-5455-4395-af3d-28d92fb1f53c",
   "metadata": {},
   "source": [
    "### Overview of the procedure\n"
   ]
  },
  {
   "cell_type": "markdown",
   "id": "2122f053-011d-4d69-be61-0a4b8157de5e",
   "metadata": {},
   "source": [
    "Outline the key stages of the method, referencing the relevant procedure step numbers. A flowchart can be often be helpful here"
   ]
  },
  {
   "cell_type": "markdown",
   "id": "627e1527-8ea1-4600-8d41-6947a64675b0",
   "metadata": {},
   "source": [
    "### Applications of the method\n"
   ]
  },
  {
   "cell_type": "markdown",
   "id": "7ea8b3fd-aae3-4043-b2f0-9f0092597dc8",
   "metadata": {},
   "source": [
    "Nature Protocols Recommendations: discuss diversity of the applications of the method"
   ]
  },
  {
   "cell_type": "markdown",
   "id": "456a4476-faa2-41f2-ac13-d8fb18e20bba",
   "metadata": {},
   "source": [
    "### Comparison with other methods\n"
   ]
  },
  {
   "cell_type": "markdown",
   "id": "ea48fe08-ea3f-4f69-8113-abf2d4f99c17",
   "metadata": {},
   "source": [
    "Nature Protocols Recommendations: Reference alternative methods that are commonly used to achieve similar results as the protocol. Discus advantages and disadvantages of our protocol compared to alternatives."
   ]
  },
  {
   "cell_type": "markdown",
   "id": "70c6e0e6-3e37-4d46-ae25-e56e8dee11d4",
   "metadata": {},
   "source": [
    "### Experimental Design\n"
   ]
  },
  {
   "cell_type": "markdown",
   "id": "a61f8d0f-3a13-4161-b360-40d691d856e7",
   "metadata": {},
   "source": [
    "Nature Protocols Recommendations: Information on design of experiments that would allow readers to adapt the protocol to their own experiments. Also discuss controls necessary for the protocol. \n",
    "\n",
    "Description of tools and parts in the `Procedure` section below.  \n",
    "Include a paragraph describing each tool/part that would be extracted form the `Description` part of the module page/notebook for the website."
   ]
  },
  {
   "cell_type": "markdown",
   "id": "044b25a9-32ca-461e-8a76-c776801ed359",
   "metadata": {},
   "source": [
    "#### Reference data (Step 1)"
   ]
  },
  {
   "cell_type": "code",
   "execution_count": null,
   "id": "2cf95556-7e82-4afd-b901-d5a2f695eaa7",
   "metadata": {},
   "outputs": [],
   "source": []
  },
  {
   "cell_type": "markdown",
   "id": "ed107377-971f-44ad-8d97-65e15ed2bdaf",
   "metadata": {},
   "source": [
    "#### Molecular Phenotypes (Step 2)"
   ]
  },
  {
   "cell_type": "code",
   "execution_count": null,
   "id": "58ac4559-9aed-4665-9f19-425848f184ed",
   "metadata": {},
   "outputs": [],
   "source": []
  },
  {
   "cell_type": "markdown",
   "id": "7291d694-a58d-452b-bd48-3a045f95726b",
   "metadata": {},
   "source": [
    "#### Data Pre-Processing (Step 3)"
   ]
  },
  {
   "cell_type": "code",
   "execution_count": null,
   "id": "ea565b96-374c-415c-ab61-ea232e529519",
   "metadata": {},
   "outputs": [],
   "source": []
  },
  {
   "cell_type": "markdown",
   "id": "cc2662f9-58ac-4dec-a446-0a7cc598ce90",
   "metadata": {},
   "source": [
    "#### QTL Association Testing (Step 4)"
   ]
  },
  {
   "cell_type": "code",
   "execution_count": null,
   "id": "cc2c7f41-8d21-475f-9d22-8e8f35eb2ecf",
   "metadata": {},
   "outputs": [],
   "source": []
  },
  {
   "cell_type": "markdown",
   "id": "1555a2dd-baf0-49ef-bca8-ce04791258c0",
   "metadata": {},
   "source": [
    "#### Multivariate Mixture Model (Step 5)"
   ]
  },
  {
   "cell_type": "code",
   "execution_count": null,
   "id": "e95c5787-3700-4d8e-a1d8-1d28a72703ae",
   "metadata": {},
   "outputs": [],
   "source": []
  },
  {
   "cell_type": "markdown",
   "id": "cae1c35b-8630-4276-9976-0c183061e20d",
   "metadata": {},
   "source": [
    "#### Multiomics Regression Models (Step 6)"
   ]
  },
  {
   "cell_type": "code",
   "execution_count": null,
   "id": "46f545c0-3957-4916-9dc2-c7ac7f9f403e",
   "metadata": {},
   "outputs": [],
   "source": []
  },
  {
   "cell_type": "markdown",
   "id": "1a8e249c-a817-48e9-ab4f-c587d0c743f2",
   "metadata": {},
   "source": [
    "#### GWAS Integration (Step 7)"
   ]
  },
  {
   "cell_type": "code",
   "execution_count": null,
   "id": "b3293cdb-62c7-4cd4-ab15-77e89a00dbf9",
   "metadata": {},
   "outputs": [],
   "source": []
  },
  {
   "cell_type": "markdown",
   "id": "ab6cf03b-bbb8-4b71-9233-7ca3568021f9",
   "metadata": {},
   "source": [
    "#### Enrichment and Validation (Step 8)"
   ]
  },
  {
   "cell_type": "code",
   "execution_count": null,
   "id": "23bb6a35-4d2b-4e8e-9ed3-b5b121f50083",
   "metadata": {},
   "outputs": [],
   "source": []
  },
  {
   "cell_type": "markdown",
   "id": "e34cabf8-1629-4f88-a946-06fd4640142a",
   "metadata": {},
   "source": [
    "## Materials"
   ]
  },
  {
   "cell_type": "markdown",
   "id": "e2733197-27c7-43fd-b473-e22d98d19c97",
   "metadata": {},
   "source": [
    "### Software"
   ]
  },
  {
   "cell_type": "markdown",
   "id": "b0e28a6d-cafc-44ad-9320-967802dd19cf",
   "metadata": {},
   "source": []
  },
  {
   "cell_type": "markdown",
   "id": "d1541950-0610-4eb6-8f23-6dbb135b5573",
   "metadata": {},
   "source": [
    "### Hardware"
   ]
  },
  {
   "cell_type": "markdown",
   "id": "ac61f1bb-666f-447a-bc9f-924a877540f8",
   "metadata": {},
   "source": []
  },
  {
   "cell_type": "markdown",
   "id": "77a3add9-b6da-4af8-b8e9-8015fb1968df",
   "metadata": {},
   "source": [
    "## Procedure\n"
   ]
  },
  {
   "cell_type": "markdown",
   "id": "9bf825a2-eb64-45a0-b002-e011fe27433d",
   "metadata": {},
   "source": [
    "Nature Protocols Recommendations: \n",
    "* Numbered list of direct experimental instructions. \n",
    "* Use active, not passive, tense\n",
    "* Include subheadings to separate stages\n",
    "* Include a TIMING callout with each subheading and state how long the section will take to complete\n",
    "* Include PAUSE POINT flag after steps where you can resume the rest of the procedure later (I think that is all steps in our case, so no need)\n",
    "* Include CRITICAL STEP flag with explanation for steps that need to be performed in a precise manner to maximize likelihood of success \n",
    "* Include TROUBLESHOOTING flags after steps wehre problems are encountered. Include details in Troubleshooting main section below.\n",
    "* Use letters (A, B, C, ...) to identify different options\n",
    "* Use Roman numerals (i,ii,iii,...) to break down steps\n"
   ]
  },
  {
   "cell_type": "markdown",
   "id": "f9946b53-37f1-4939-a924-6183a86fd251",
   "metadata": {},
   "source": [
    "### 1. Reference data\n"
   ]
  },
  {
   "cell_type": "code",
   "execution_count": null,
   "id": "abdb4506-5c09-474a-b34c-a6bdbc558946",
   "metadata": {},
   "outputs": [],
   "source": []
  },
  {
   "cell_type": "markdown",
   "id": "2baf08ca-10e0-44a9-8213-531550971bec",
   "metadata": {},
   "source": [
    "### 2. Molecular Phenotypes\n",
    "Any one of the steps below must be completed"
   ]
  },
  {
   "cell_type": "markdown",
   "id": "45d6c21b-2370-4845-89d2-6fd377a8ab7b",
   "metadata": {},
   "source": [
    "#### A) RNA-seq Expression"
   ]
  },
  {
   "cell_type": "markdown",
   "id": "5fd7d82a-9eaa-426f-97df-9b9e3ff1211b",
   "metadata": {},
   "source": [
    "extract `Minimal Working Example Steps` text from the different module webpages/notebooks under the RNA-seq Expression miniprotocol. If no module pages, then just use the steps outlined on the miniprotocol."
   ]
  },
  {
   "cell_type": "code",
   "execution_count": null,
   "id": "ac814d88-52f5-46c8-8180-d9c6fd2a2043",
   "metadata": {},
   "outputs": [],
   "source": []
  },
  {
   "cell_type": "markdown",
   "id": "65520b6d-7c26-4023-9ddb-19589129445f",
   "metadata": {},
   "source": [
    "#### B) Methylation"
   ]
  },
  {
   "cell_type": "code",
   "execution_count": null,
   "id": "eb50f02a-13d3-4351-84e2-bc0e1d78f51e",
   "metadata": {},
   "outputs": [],
   "source": []
  },
  {
   "cell_type": "markdown",
   "id": "9deff270-267b-42bf-91c5-e28701675564",
   "metadata": {},
   "source": [
    "#### C) Alternative Splicing from RNA-seq Data"
   ]
  },
  {
   "cell_type": "code",
   "execution_count": null,
   "id": "4dc9fab7-7d47-4130-9256-c2844d4d735d",
   "metadata": {},
   "outputs": [],
   "source": []
  },
  {
   "cell_type": "markdown",
   "id": "0dca12f5-b676-4b40-8db8-87722851d762",
   "metadata": {},
   "source": [
    "### 3. Data Pre-Processing\n",
    "Each step below must be completed"
   ]
  },
  {
   "cell_type": "markdown",
   "id": "c5801a01-a41c-4ae6-89c6-1ee1d13c541c",
   "metadata": {},
   "source": [
    "#### i) Genotype Data Preprocessing"
   ]
  },
  {
   "cell_type": "code",
   "execution_count": null,
   "id": "aa5f58ad-1d5d-4151-af87-5d46568d05cf",
   "metadata": {},
   "outputs": [],
   "source": []
  },
  {
   "cell_type": "markdown",
   "id": "e307833f-1324-4832-a15f-c7705b661cc1",
   "metadata": {},
   "source": [
    "#### ii) Phenotype Data Preprocessing"
   ]
  },
  {
   "cell_type": "code",
   "execution_count": null,
   "id": "524bc360-337f-4676-967d-7c12d1f19af7",
   "metadata": {},
   "outputs": [],
   "source": []
  },
  {
   "cell_type": "markdown",
   "id": "7a76c98b-6dff-4d00-bbc8-e1dd39daa768",
   "metadata": {},
   "source": [
    "#### iii) Covariate Data Preprocessing"
   ]
  },
  {
   "cell_type": "code",
   "execution_count": null,
   "id": "15a136b0-eaf4-4b83-94be-e4c5c131c4f8",
   "metadata": {},
   "outputs": [],
   "source": []
  },
  {
   "cell_type": "markdown",
   "id": "dfbd8bcf-7bc6-4959-a01e-09322a723af1",
   "metadata": {},
   "source": [
    "### 4. QTL Association Testing\n",
    "One of the steps below must be completed"
   ]
  },
  {
   "cell_type": "markdown",
   "id": "1b013b0d-04db-4680-ac41-60758c4bd583",
   "metadata": {},
   "source": [
    "#### A) cisQTL Analysis Workflows"
   ]
  },
  {
   "cell_type": "code",
   "execution_count": null,
   "id": "0f932e55-aa3d-4ba6-a524-dd49c1b3b990",
   "metadata": {},
   "outputs": [],
   "source": []
  },
  {
   "cell_type": "markdown",
   "id": "9c8893c9-dcd4-4396-8fb2-9b6dcc0bc424",
   "metadata": {},
   "source": [
    "#### B) transQTL Analysis Workflows"
   ]
  },
  {
   "cell_type": "code",
   "execution_count": null,
   "id": "63d42182-8d1b-41f9-a284-a9ff4cceed86",
   "metadata": {},
   "outputs": [],
   "source": []
  },
  {
   "cell_type": "markdown",
   "id": "71d99ece-4e60-415d-a8bf-97e08ee3f79d",
   "metadata": {},
   "source": [
    "### 5. Multivariate Mixture Model"
   ]
  },
  {
   "cell_type": "code",
   "execution_count": null,
   "id": "a7f5832d-f9b1-47dc-83a7-ccbe926019fd",
   "metadata": {},
   "outputs": [],
   "source": []
  },
  {
   "cell_type": "code",
   "execution_count": null,
   "id": "69cc05b0-b1c1-41e6-ab5d-52298664fec9",
   "metadata": {},
   "outputs": [],
   "source": []
  },
  {
   "cell_type": "markdown",
   "id": "93a938d4-ad36-4554-87d5-9f7a23523275",
   "metadata": {},
   "source": [
    "## Timing\n"
   ]
  },
  {
   "cell_type": "markdown",
   "id": "811c88e8-482f-4ebc-92a7-5407be146524",
   "metadata": {},
   "source": [
    "Nature Protocols Recommendations: include timeline indicating time each step will take.\n",
    "\n",
    "For us:  \n",
    "just list the timing for the overall \"major step\" (Reference Data, Molecular Phenotypes, etc). This should be in the miniprotocols. "
   ]
  },
  {
   "cell_type": "markdown",
   "id": "406cac13-f217-443f-90d9-5e620be1ae49",
   "metadata": {},
   "source": [
    "| Step | Time|\n",
    "|------|-----|\n",
    "|Reference data |x hours |\n",
    "|Molecular Phenotypes |x hours |\n"
   ]
  },
  {
   "cell_type": "markdown",
   "id": "7cae7462-ce78-41a5-8749-61e5565db390",
   "metadata": {},
   "source": [
    "## Troubleshooting\n"
   ]
  },
  {
   "cell_type": "markdown",
   "id": "9cd02d09-5d85-46e2-b572-3d3b3afbbc08",
   "metadata": {},
   "source": [
    "Nature Protocols Recommendations: \n",
    "* Information on how to troubleshoot most likely problems mentioned in the Procedures section\n",
    "* Provide this information in a table\n",
    "\n",
    "For us:  \n",
    "This would be extracted from the `Troubleshooting` table of the module notebooks"
   ]
  },
  {
   "cell_type": "markdown",
   "id": "6db74c9a-e303-4fd7-a688-90ac6948f0be",
   "metadata": {},
   "source": [
    "| Step | Substep | Problem | Possible Reason | Solution |\n",
    "|------|---------|---------|------------------|---------|\n",
    "| Molecular Phenotype Quantification | RNA-seq Expression iii) | STAR and Picard run separately | STAR_align,picard_qc,strand_detect were run separately | run these together by running STAR_output |\n",
    "| Molecular Phenotype Quantification | RNA-seq Expression v) | Error when running RSEM | STAR alignment not run with gtf file generated before collapsing to gene | use the gtf file used to generate the RSEM index |\n",
    "\n"
   ]
  },
  {
   "cell_type": "markdown",
   "id": "574fc361-5e76-4d32-8017-0b042a09ffe8",
   "metadata": {},
   "source": [
    "## Anticipated Results\n"
   ]
  },
  {
   "cell_type": "markdown",
   "id": "3363ac6d-51d1-4303-9821-d7717cd34dc8",
   "metadata": {},
   "source": [
    "Nature Protocols Recommendations: \n",
    "* Information about likely outcome of protocol\n",
    "* If possible, include one set of data from an experiment that worked well, and a second for an experiment that required troubleshooting to get meaningful results.\n",
    "* Include advice on how to interpret and analyze raw data, including equations where needed.\n",
    "\n",
    "For us:  \n",
    "Anticipated results from steps in  `Procedure` section above.  \n",
    "Include a paragraph for each step. Would be extracted form the `Anticipated Results` part of the miniprotocol website/notebooks. So this would not include exact details of the results of each invdividual notebook to be run in each module, just the output of the final one in the miniprotocol. "
   ]
  },
  {
   "cell_type": "markdown",
   "id": "2f9177ac-0aef-4b8e-8652-3fe6a102c46d",
   "metadata": {},
   "source": [
    "#### Reference data (Step 1)"
   ]
  },
  {
   "cell_type": "markdown",
   "id": "fb0b1d96-3215-416c-91f9-735b3312f835",
   "metadata": {},
   "source": [
    "#### Molecular Phenotypes (Step 2)"
   ]
  },
  {
   "cell_type": "markdown",
   "id": "14ca6ccb-5b41-481b-9a9f-6c39e86fb236",
   "metadata": {},
   "source": [
    "#### Data Pre-Processing (Step 3)"
   ]
  },
  {
   "cell_type": "markdown",
   "id": "6e2f4167-cc47-406a-870b-79133aa848b5",
   "metadata": {},
   "source": [
    "#### QTL Association Testing (Step 4)"
   ]
  },
  {
   "cell_type": "markdown",
   "id": "d78cf3b0-33fb-4453-8496-8ca3911e2767",
   "metadata": {},
   "source": [
    "#### Multivariate Mixture Model (Step 5)"
   ]
  },
  {
   "cell_type": "markdown",
   "id": "6a8f6a9b-02cf-457a-9c2a-47b63db7e177",
   "metadata": {},
   "source": [
    "#### Multiomics Regression Models (Step 6)"
   ]
  },
  {
   "cell_type": "markdown",
   "id": "9e05da1d-8863-436c-ac35-156b3a27c041",
   "metadata": {},
   "source": [
    "#### GWAS Integration (Step 7)"
   ]
  },
  {
   "cell_type": "markdown",
   "id": "ff303ba1-e575-423b-a966-fe432eb5da10",
   "metadata": {},
   "source": [
    "#### Enrichment and Validation (Step 8)"
   ]
  },
  {
   "cell_type": "code",
   "execution_count": null,
   "id": "1afd8247-d96d-4468-8898-1e2cc37ab75d",
   "metadata": {},
   "outputs": [],
   "source": []
  },
  {
   "cell_type": "markdown",
   "id": "ca4e110c-ad6c-4711-af45-dc0563cd5256",
   "metadata": {},
   "source": [
    "## Figures\n"
   ]
  },
  {
   "cell_type": "markdown",
   "id": "00949470-e6aa-485e-bda8-1316986870e1",
   "metadata": {},
   "source": [
    "Nature Protocols Recommendations: \n",
    "* To be uploaded separately when submitting\n",
    "* Title and legend for each figure\n",
    "* Sans-serif typeface for text on figures and font no smaller than 7 point\n",
    "* For multipart figures use lower case bold letters\n",
    "* 300 dpi\n",
    "* For numbers, separate thousands by commas (1,000)"
   ]
  },
  {
   "cell_type": "markdown",
   "id": "a4bf1f4a-6e64-4560-ac05-eefba4fa84ec",
   "metadata": {},
   "source": [
    "## Tables\n"
   ]
  },
  {
   "cell_type": "markdown",
   "id": "97206c54-bc9f-4678-9859-122b4bf206e5",
   "metadata": {},
   "source": [
    "Nature Protocols Recommendations: \n",
    "* Submit in Word format\n",
    "* Title for each table"
   ]
  },
  {
   "cell_type": "code",
   "execution_count": null,
   "id": "e09f9906-eec2-460a-83d7-44b2e6c8e201",
   "metadata": {},
   "outputs": [],
   "source": []
  },
  {
   "cell_type": "markdown",
   "id": "4e7643d5-074b-484e-9cc6-741c18d531cd",
   "metadata": {},
   "source": [
    "## Supplementary Information\n"
   ]
  },
  {
   "cell_type": "markdown",
   "id": "8e31c2ee-fd3d-4f2a-87d4-3d883067ef46",
   "metadata": {},
   "source": [
    "Nature Protocols Recommendations: One of three categories\n",
    "* EXTENDED DATA: integral part of paper tha includes data that directly contributes to main message. Includes up to 10 figures.\n",
    "* SUPPLEMENTARY INFORMATION: material essential to background of study, but not practical to include in PDF version of paper. Tables in excel format. Figures can also be included. \n",
    "* SOURCE DATA: Source data for figures. Can include Excel file tables. "
   ]
  },
  {
   "cell_type": "markdown",
   "id": "bcd1ae27-25f1-46c2-8eae-05cf81ea7679",
   "metadata": {},
   "source": [
    "## Author Contributions Statements"
   ]
  },
  {
   "cell_type": "code",
   "execution_count": null,
   "id": "07de81d9-4dce-48d0-bad3-e36aabce50c7",
   "metadata": {},
   "outputs": [],
   "source": []
  },
  {
   "cell_type": "markdown",
   "id": "a89e48f7-cdf7-4485-81b4-4bb35a903a7c",
   "metadata": {},
   "source": [
    "## Acknowledgements"
   ]
  },
  {
   "cell_type": "code",
   "execution_count": null,
   "id": "e6b20bfc-31c1-489b-89e5-342f16a996c0",
   "metadata": {},
   "outputs": [],
   "source": []
  },
  {
   "cell_type": "markdown",
   "id": "808c1e38-b85d-48f3-b579-a9ff3176e8e3",
   "metadata": {},
   "source": [
    "## Competing Interests"
   ]
  },
  {
   "cell_type": "code",
   "execution_count": null,
   "id": "74f98094-2e04-428d-8cc9-689bd7925c5e",
   "metadata": {},
   "outputs": [],
   "source": []
  },
  {
   "cell_type": "markdown",
   "id": "5224826f-29ae-4df5-949d-147764516fa6",
   "metadata": {},
   "source": [
    "## References"
   ]
  },
  {
   "cell_type": "code",
   "execution_count": null,
   "id": "173bf441-20ff-4705-93a6-f4684003b1f9",
   "metadata": {},
   "outputs": [],
   "source": []
  },
  {
   "cell_type": "markdown",
   "id": "9646523b-70d4-44a3-bd85-7457ef5f1f1b",
   "metadata": {},
   "source": [
    "## Keywords\n"
   ]
  },
  {
   "cell_type": "markdown",
   "id": "ef1e143d-9a18-4b2b-a961-879e4ad18776",
   "metadata": {},
   "source": [
    "keywords in the manuscript that identify parts to be read from the website for use in the paper\n"
   ]
  },
  {
   "cell_type": "code",
   "execution_count": null,
   "id": "a3aa4318-2084-478a-a499-65b376bb51e7",
   "metadata": {},
   "outputs": [],
   "source": []
  }
 ],
 "metadata": {
  "kernelspec": {
   "display_name": "Markdown",
   "language": "markdown",
   "name": "markdown"
  },
  "language_info": {
   "codemirror_mode": "markdown",
   "file_extension": ".md",
   "mimetype": "text/markdown",
   "name": "Markdown",
   "pygments_lexer": "markdown"
  }
 },
 "nbformat": 4,
 "nbformat_minor": 5
}
