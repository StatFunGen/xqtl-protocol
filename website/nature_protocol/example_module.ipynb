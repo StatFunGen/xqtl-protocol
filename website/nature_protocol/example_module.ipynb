{
 "cells": [
  {
   "cell_type": "markdown",
   "id": "3b3c0453-5949-4198-a806-26e8fb972e8b",
   "metadata": {
    "kernel": "SoS"
   },
   "source": [
    "# Example Module\n",
    "\n",
    "An example of a module section on the [xqtl-protocol website](https://statfungen.github.io/xqtl-protocol/README.html) that could be used in the paper.  \n",
    "Parts marked with superscript \"hint_[name]\" would be referenced in the paper to mark places to take text from.\n",
    "\n",
    "Everything below would replace or augment what is in the module page on the website.   \n",
    "For example, everything below would replace or augment what is on the [Quantifying expression from RNA-seq data](https://statfungen.github.io/xqtl-protocol/code/molecular_phenotypes/calling/RNA_calling.html) page under the `RNA-seq expression` miniprotocol section on the website."
   ]
  },
  {
   "cell_type": "markdown",
   "id": "62cdbf10-79f8-4a9e-93dc-769294eab564",
   "metadata": {
    "kernel": "SoS"
   },
   "source": [
    "# Title (ex: Quantifying expression from RNA-seq data)\n",
    "this would be the name of a part under a subsection in the Procedures in the paper"
   ]
  },
  {
   "cell_type": "markdown",
   "id": "44f4c685-4d20-4221-bc53-80d745a93caa",
   "metadata": {},
   "source": [
    "## Description\n",
    "this would go in the Experimental Design part of the Introduction section of the paper.\n",
    "\n",
    "This is a longer description of what this does and the tools invovled. \n"
   ]
  },
  {
   "cell_type": "markdown",
   "id": "6c9fb9a7-bd50-4420-a11e-c3d49bab6b1f",
   "metadata": {
    "kernel": "SoS"
   },
   "source": [
    "## Input\n",
    "Input for this module. If there are multiple steps to this module (like with `Quantifying expression from RNA-seq data`), then place this section under each step in the Command Interface section below instead."
   ]
  },
  {
   "cell_type": "markdown",
   "id": "3f911acf-1a78-4c88-a8d7-b18b3142694a",
   "metadata": {
    "kernel": "SoS"
   },
   "source": [
    "## Output\n",
    "Input for this module. If there are multiple steps to this module (like with `Quantifying expression from RNA-seq data`), then place this section under each step in the Command Interface section below instead."
   ]
  },
  {
   "cell_type": "markdown",
   "id": "d8beb9f9-f655-4c43-b127-e7b1102de571",
   "metadata": {
    "kernel": "SoS"
   },
   "source": [
    "## Minimal Working Example Steps\n",
    "This would be the steps and code cells to be displayed on both the website and paper. \n",
    "\n",
    "Include CRITICAL STEP parts where something important needs to be mentioned\n",
    "\n",
    "Each step should have a Timing part noting how long it takes sto run\n",
    "\n",
    "If troubleshooting may be invovled, add a TROUBLESHOOTING note to tell readers to look at the Troubleshooting section table elsewhere in this notebook"
   ]
  },
  {
   "cell_type": "markdown",
   "id": "09b1eb4f-425c-421e-a44d-31c5bff28199",
   "metadata": {
    "kernel": "SoS"
   },
   "source": [
    "> #### CRITICAL STEP\n",
    ">\n",
    "> something critical you may need to do"
   ]
  },
  {
   "cell_type": "markdown",
   "id": "965179e6-2253-498a-9573-107cc6953d37",
   "metadata": {
    "kernel": "SoS"
   },
   "source": [
    "### i. step 1"
   ]
  },
  {
   "cell_type": "markdown",
   "id": "251f216e-f6cb-4b57-8658-eb6ba2bd4582",
   "metadata": {
    "kernel": "SoS"
   },
   "source": [
    "Timing <X hours"
   ]
  },
  {
   "cell_type": "markdown",
   "id": "c754af09-254b-4045-a43e-2e79822b2fe5",
   "metadata": {
    "kernel": "SoS"
   },
   "source": [
    "brief description."
   ]
  },
  {
   "cell_type": "code",
   "execution_count": null,
   "id": "8a946bb9-a20a-445a-a8ce-c1028701cb2d",
   "metadata": {
    "kernel": "SoS"
   },
   "outputs": [],
   "source": [
    "sos run pipeline/RNA_calling.ipynb fastqc \\\n",
    "    --cwd output_test \\\n",
    "    --samples test_data/test_data.fastqlist \\\n",
    "    --data-dir test_data/ \\\n",
    "    --container containers/rna_quantification.sif "
   ]
  },
  {
   "cell_type": "markdown",
   "id": "2f69fb99-24fb-4714-8b50-4e4ec5dbd435",
   "metadata": {
    "kernel": "SoS"
   },
   "source": [
    "### ii. step 2"
   ]
  },
  {
   "cell_type": "markdown",
   "id": "7da496d3-70e3-4547-b41c-664155fc55af",
   "metadata": {
    "kernel": "SoS"
   },
   "source": [
    "Timing <X hours"
   ]
  },
  {
   "cell_type": "markdown",
   "id": "933150be-b05b-4b18-97f1-42c291867b7f",
   "metadata": {
    "kernel": "SoS"
   },
   "source": [
    "brief description."
   ]
  },
  {
   "cell_type": "markdown",
   "id": "016553d9-69a7-42db-b171-d925366109b8",
   "metadata": {
    "kernel": "SoS"
   },
   "source": [
    "> TROUBLESHOOTING"
   ]
  },
  {
   "cell_type": "code",
   "execution_count": null,
   "id": "0a4486eb-2869-4b99-bd6a-86c371e9368e",
   "metadata": {
    "kernel": "SoS"
   },
   "outputs": [],
   "source": [
    "sos run pipeline/RNA_calling.ipynb fastp_trim_adaptor \\\n",
    "    --cwd output_test \\\n",
    "    --samples test_data/test_data.fastqlist \\\n",
    "    --data-dir test_data/ \\\n",
    "    --STAR-index reference_data/STAR_Index/ \\\n",
    "    --gtf reference_data/Homo_sapiens.GRCh38.103.chr.reformatted.ERCC.gtf \\\n",
    "    --container containers/rna_quantification.sif \\\n",
    "    --reference-fasta reference_data/GRCh38_full_analysis_set_plus_decoy_hla.noALT_noHLA_noDecoy_ERCC.fasta \\\n",
    "    --ref-flat reference_data/Homo_sapiens.GRCh38.103.chr.reformatted.ERCC.gtf.ref.flat -s build "
   ]
  },
  {
   "cell_type": "markdown",
   "id": "ad498164-72b9-4071-b52b-70f61c13648b",
   "metadata": {
    "kernel": "SoS"
   },
   "source": [
    "## Troubleshooting"
   ]
  },
  {
   "cell_type": "markdown",
   "id": "9dd3c1de-915c-44a4-84dc-e121c2b278fe",
   "metadata": {
    "kernel": "SoS"
   },
   "source": [
    "| Step | Substep | Problem | Possible Reason | Solution |\n",
    "|------|---------|---------|------------------|---------|\n",
    "| Molecular Phenotype Quantification | step 2 ii) | couldn't find file | you used the wrong file | use the right file |\n",
    "\n",
    "\n"
   ]
  },
  {
   "cell_type": "markdown",
   "id": "temporal-worse",
   "metadata": {
    "kernel": "Bash"
   },
   "source": [
    "## Command interface\n",
    "all the code in the section with the same name in the current notebooks containing actual code to run"
   ]
  },
  {
   "cell_type": "markdown",
   "id": "1dbc833c-542c-43e6-8255-3a657d6c69bf",
   "metadata": {
    "kernel": "SoS"
   },
   "source": [
    "## Setup and global parameters\n",
    "\n",
    "varies depending on the module, but looks something like this:"
   ]
  },
  {
   "cell_type": "code",
   "execution_count": null,
   "id": "b6223e44-ae46-4556-bcb4-70a1fb18164e",
   "metadata": {},
   "outputs": [],
   "source": [
    "\n",
    "[global]\n",
    "# Covariate file\n",
    "parameter: covariate_file = path\n",
    "# A genotype file in PLINK binary format (bed/bam/fam) format, per chrom\n",
    "parameter: genotype_file = path\n",
    "# An optional subset of regions of molecular features to analyze. The last column is the  gene names\n",
    "parameter: region_list = path()\n",
    "# An optional list documenting the custom cis window for each region to analyze, with four column, chr, start, end, region ID (eg gene ID).\n",
    "# If this list is not provided, the default `window` parameter (see below) will be used.\n",
    "parameter: customized_cis_windows = path()\n",
    "# Path to the work directory of the analysis.\n",
    "parameter: cwd = path('output')\n",
    "# Phenotype file, a list of phenotype per region.\n",
    "parameter: phenotype_file = path\n",
    "\n",
    "# Prefix for the analysis output\n",
    "parameter: name = f\"{phenotype_file:bn}_{covariate_file:bn}\"\n",
    "# Minor allele count cutoff\n",
    "parameter: MAC = 0\n",
    "# The name of phenotype corresponding to gene_id or gene_name in the region\n",
    "parameter: region_name = \"gene_id\"\n",
    "# The phenotype group file to group molecule_trait into molecule_trait_object\n",
    "# This applies to multiple molecular events in the same region, such as sQTL analysis.\n",
    "parameter: phenotype_group = path() \n",
    "parameter: region_list_phenotype_column = 4\n",
    "\n",
    "\n",
    "# Specify the cis window for the up and downstream radius to analyze around the region of interest in units of bp\n",
    "# This parameter will be zero if `customized_cis_windows` is provided.\n",
    "parameter: window = 1000000\n",
    "# Set number of sample to be keep\n",
    "parameter: keep_sample = path()\n",
    "\n",
    "# Number of threads\n",
    "parameter: numThreads = 8\n",
    "# For cluster jobs, number commands to run per job\n",
    "parameter: job_size = 1\n",
    "parameter: walltime = '12h'\n",
    "parameter: mem = '16G'\n",
    "# Container option for software to run the analysis: docker or singularity\n",
    "parameter: container = ''\n",
    "import re\n",
    "parameter: entrypoint= ('micromamba run -a \"\" -n' + ' ' + re.sub(r'(_apptainer:latest|_docker:latest|\\.sif)$', '', container.split('/')[-1])) if container else \"\"\n",
    "\n",
    "# Use the header of the covariate file to decide the sample size\n",
    "import pandas as pd\n",
    "N = len(pd.read_csv(covariate_file, sep = \"\\t\",nrows = 1).columns) - 1\n",
    "\n",
    "# Minor allele frequency cutoff. It will overwrite minor allele cutoff.\n",
    "parameter: maf_threshold = MAC/(2.0*N)\n"
   ]
  },
  {
   "cell_type": "markdown",
   "id": "fa712297-876f-4c2a-8be1-0ddd6afdbeed",
   "metadata": {},
   "source": [
    "\n",
    "\n",
    "cells after this should have the actual code used by the pipeline."
   ]
  },
  {
   "cell_type": "code",
   "execution_count": null,
   "id": "bd630c53-bb09-4083-a7e3-5288f2218c2f",
   "metadata": {},
   "outputs": [],
   "source": []
  }
 ],
 "metadata": {
  "kernelspec": {
   "display_name": "SoS",
   "language": "sos",
   "name": "sos"
  },
  "language_info": {
   "codemirror_mode": "sos",
   "file_extension": ".sos",
   "mimetype": "text/x-sos",
   "name": "sos",
   "nbconvert_exporter": "sos_notebook.converter.SoS_Exporter",
   "pygments_lexer": "sos"
  },
  "sos": {
   "kernels": [
    [
     "Bash",
     "bash",
     "Bash",
     "#E6EEFF",
     "shell"
    ],
    [
     "SoS",
     "sos",
     "",
     "",
     "sos"
    ]
   ],
   "version": "0.24.0"
  }
 },
 "nbformat": 4,
 "nbformat_minor": 5
}
