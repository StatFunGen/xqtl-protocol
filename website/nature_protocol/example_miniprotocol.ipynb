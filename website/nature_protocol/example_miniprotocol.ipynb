{
 "cells": [
  {
   "cell_type": "markdown",
   "id": "3b6a5ae2-25a0-4581-a33c-de07241827eb",
   "metadata": {},
   "source": [
    "# Example Miniprotocol\n",
    "\n",
    "An example of a miniprotocol page on the [xqtl-protocol website](https://statfungen.github.io/xqtl-protocol/README.html) that could be used in the paper.  \n",
    "Parts marked with superscript \"hint_[name]\" would be referenced in the paper to mark places to take text from.\n",
    "\n",
    "Everything below would replace or augment what is in the page on the website.   \n",
    "For example, everything below would replace or augment what is on the [RNA-seq expression](https://statfungen.github.io/xqtl-protocol/code/molecular_phenotypes/bulk_expression.html) page under the main `MOLECULAR PHENOTYPES` section on the website."
   ]
  },
  {
   "cell_type": "markdown",
   "id": "6cfb9a92-b3f0-43a4-8542-3f5bfe9bd97d",
   "metadata": {},
   "source": [
    "# Title (ex: RNA-seq expression)\n",
    "this would be the name of a subsection in the Procedures in the paper"
   ]
  },
  {
   "cell_type": "markdown",
   "id": "4199dc80-2ddb-4061-a119-768136b10f1b",
   "metadata": {
    "tags": []
   },
   "source": [
    "#### Miniprotocol Timing\n",
    "Timing <X hours"
   ]
  },
  {
   "cell_type": "markdown",
   "id": "cf865821-d909-4723-aa7e-fde6edcfb95d",
   "metadata": {},
   "source": [
    "## Overview"
   ]
  },
  {
   "cell_type": "markdown",
   "id": "88be96a9-b358-4636-8ef0-88ffba7d2161",
   "metadata": {
    "tags": []
   },
   "source": [
    "breif description of the miniprotocol followed by a list of the modules (if any):"
   ]
  },
  {
   "cell_type": "markdown",
   "id": "d3ad24b1-58a3-4272-a215-548bc77b0b26",
   "metadata": {
    "tags": []
   },
   "source": [
    "This miniprotocol shows the use of various modules to do X,Y,Z. The modules are as follows:\n",
    "1. `notebook1.ipynb` (steps i-v): name of subsection on website for this notebook\n",
    "2. `notebook2.ipynb` (step vi): name of subsection on website for this notebook\n",
    "3. `notebook3.ipynb`  (step vii): name of subsection on website for this notebook"
   ]
  },
  {
   "cell_type": "markdown",
   "id": "88526874-156e-4b43-8382-ed7cf5438b63",
   "metadata": {},
   "source": [
    "## Steps\n",
    "This would be the steps and code cells to be displayed on the website (not in the paper). The steps to show in the paper will come from the module notebooks (assuming this miniprotocol has modules)."
   ]
  },
  {
   "cell_type": "markdown",
   "id": "95fc0bf7-efd4-49d2-802b-5407538afb63",
   "metadata": {},
   "source": [
    "### i) Run `step1.ipynb`\n",
    "\n",
    "\n"
   ]
  },
  {
   "cell_type": "code",
   "execution_count": 1,
   "id": "de37ee9c-4b82-4a2d-9461-a40ce1e92bfd",
   "metadata": {},
   "outputs": [
    {
     "data": {
      "text/markdown": [
       "code"
      ]
     },
     "metadata": {},
     "output_type": "display_data",
     "source": "markdown"
    }
   ],
   "source": [
    "code"
   ]
  },
  {
   "cell_type": "markdown",
   "id": "58528591-4df1-425c-8074-ac3530fde7ce",
   "metadata": {},
   "source": [
    "### ii) Run `step2.ipynb`\n"
   ]
  },
  {
   "cell_type": "code",
   "execution_count": null,
   "id": "f1238e82-cb0d-481f-86cb-cfb90598f872",
   "metadata": {},
   "outputs": [],
   "source": [
    "code"
   ]
  },
  {
   "cell_type": "markdown",
   "id": "1373b8da-43da-4ce7-ab01-95d39f5e6be1",
   "metadata": {},
   "source": [
    "## Anticipated Results"
   ]
  },
  {
   "cell_type": "markdown",
   "id": "4e0898f2-473c-4893-b149-0c3acc77359b",
   "metadata": {
    "tags": []
   },
   "source": [
    "This would include information on the expected output and relevant example figures.   \n",
    "This could also reference the results of the minimal working example.  \n",
    "Also anything on how to interpret the results if needed.\n",
    "\n",
    "This would be included in the Anticipated Results section of the paper"
   ]
  },
  {
   "cell_type": "code",
   "execution_count": null,
   "id": "a68cfaad-4835-4a55-a4f8-a786bc500345",
   "metadata": {},
   "outputs": [],
   "source": []
  }
 ],
 "metadata": {
  "kernelspec": {
   "display_name": "Markdown",
   "language": "markdown",
   "name": "markdown"
  },
  "language_info": {
   "codemirror_mode": "markdown",
   "file_extension": ".md",
   "mimetype": "text/markdown",
   "name": "Markdown",
   "pygments_lexer": "markdown"
  }
 },
 "nbformat": 4,
 "nbformat_minor": 5
}
