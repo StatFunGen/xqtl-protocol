{
 "cells": [
  {
   "cell_type": "markdown",
   "id": "ae2cc8ff-a301-4d41-92e2-247091bd1c07",
   "metadata": {
    "kernel": "SoS",
    "tags": []
   },
   "source": [
    "# Unit testing for xQTL protocol"
   ]
  },
  {
   "cell_type": "markdown",
   "id": "5d3be2c1-a5b3-4746-be3f-3d61cb8be568",
   "metadata": {
    "kernel": "SoS",
    "tags": []
   },
   "source": [
    "## Overview\n",
    "\n",
    "Most, if not all, of our protocols are SoS pipelines with command interface. Although unit testing for command programs in bioinformatics is not a wide-spread idea, it is definitely a helpful practice\n",
    "and some projects such as [bedtools](https://github.com/arq5x/bedtools2/tree/master/test) already have this framework. However, a good unit testing system takes some time to build and even more time to\n",
    "maintain and keep them up to date. \n",
    "\n",
    "Here, I would like to implement a simple, automated unit test system that does not require extra effort from the developers. The rough idea of this simple system works as follows:\n",
    "\n",
    "1. We recursively go through  commands under that section will be extracted as commands to run for unit tests.\n",
    "2. We will use a simple test criteria: to ensure changes to code does not break existing pipeline, the current analysis result should agree with that of the previous analysis. Specifically, assuming we have a bunch of files from previous analysis already generated. \n",
    "We call that the \"reference file bundle\". Then for each new command, we will detect which files are generated from the command, and then check 1) if they exist in the reference file bundle under the same name, and 2) if their md5sum are the same.\n",
    "3. We summarize the following status: \n",
    "    - PASS: both 1) and 2) above are satisfied \n",
    "    - WARNING: a new file is generated which is not in the existing file bundle -- this is an indication of changes of interface and filenames, or additional files generated as continued development of the protocol. At this point the reference file bundle should be updated to keep up with the change.\n",
    "    - FAIL: 1) is satisfied but not 2)"
   ]
  },
  {
   "cell_type": "markdown",
   "id": "8a1a66ec-d331-4ab0-882c-c62e37a66e6c",
   "metadata": {
    "kernel": "SoS",
    "tags": []
   },
   "source": [
    "## Implementation\n",
    "\n",
    "This notebook, `xqtl_unittest.ipynb`, implements the idea outlined above."
   ]
  },
  {
   "cell_type": "code",
   "execution_count": 1,
   "id": "6ce92a9f-5cb6-4ace-afbe-1772519c6aed",
   "metadata": {
    "kernel": "Bash",
    "tags": []
   },
   "outputs": [
    {
     "name": "stdout",
     "output_type": "stream",
     "text": [
      "usage: sos run xqtl_unittest.ipynb [workflow_name | -t targets] [options] [workflow_options]\n",
      "  workflow_name:        Single or combined workflows defined in this script\n",
      "  targets:              One or more targets to generate\n",
      "  options:              Single-hyphen sos parameters (see \"sos run -h\" for details)\n",
      "  workflow_options:     Double-hyphen workflow-specific parameters\n",
      "\n",
      "Workflows:\n",
      "  default\n",
      "\n",
      "Sections\n",
      "  default:\n"
     ]
    }
   ],
   "source": [
    "sos run xqtl_unittest.ipynb -h"
   ]
  },
  {
   "cell_type": "markdown",
   "id": "6a3241f0-64e8-4efd-9fdf-fccbc755fa40",
   "metadata": {
    "kernel": "Bash"
   },
   "source": [
    "## Examples"
   ]
  },
  {
   "cell_type": "code",
   "execution_count": null,
   "id": "282cd79a-0461-4a1b-9e96-99867436fc37",
   "metadata": {
    "kernel": "Bash"
   },
   "outputs": [],
   "source": []
  },
  {
   "cell_type": "code",
   "execution_count": null,
   "id": "36699416-adea-4463-ac8f-edcfb65c9356",
   "metadata": {
    "kernel": "Bash"
   },
   "outputs": [],
   "source": [
    "[global]\n",
    "# Without specifying reference dir\n",
    "parameter: reference_dir = path()\n",
    "parameter: "
   ]
  }
 ],
 "metadata": {
  "kernelspec": {
   "display_name": "SoS",
   "language": "sos",
   "name": "sos"
  },
  "language_info": {
   "codemirror_mode": "sos",
   "file_extension": ".sos",
   "mimetype": "text/x-sos",
   "name": "sos",
   "nbconvert_exporter": "sos_notebook.converter.SoS_Exporter",
   "pygments_lexer": "sos"
  },
  "sos": {
   "kernels": [
    [
     "Bash",
     "bash",
     "Bash",
     "#E6EEFF",
     ""
    ]
   ],
   "version": "0.22.9"
  }
 },
 "nbformat": 4,
 "nbformat_minor": 5
}
