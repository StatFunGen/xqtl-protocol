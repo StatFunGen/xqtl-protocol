{
 "cells": [
  {
   "cell_type": "markdown",
   "id": "59d5b415-b698-4f4c-830f-fa4e63f0115f",
   "metadata": {
    "kernel": "SoS",
    "tags": []
   },
   "source": [
    "# SuSIE results post process"
   ]
  },
  {
   "cell_type": "markdown",
   "id": "8c3e81ce-3d9e-43ba-9722-4a84e6a86936",
   "metadata": {
    "kernel": "SoS"
   },
   "source": [
    "This notebook is to post-process the susie results into different text file\n"
   ]
  },
  {
   "cell_type": "code",
   "execution_count": null,
   "id": "5518c6a8-375c-4bb8-943b-04dba7e61759",
   "metadata": {
    "kernel": "SoS"
   },
   "outputs": [],
   "source": []
  },
  {
   "cell_type": "code",
   "execution_count": null,
   "id": "d88a03a1-9c13-4cd4-a495-ec628c5e5bc0",
   "metadata": {
    "kernel": "SoS"
   },
   "outputs": [],
   "source": [
    "sos run pipeline/SuSiE_post_processing.ipynb susie_to_tsv \\\n",
    "    --cwd output/test --rds_path `ls output/test/cache/*rds | head ` --region-list <(head -50  ./dlpfc_region_list) --container containers/stephenslab.sif "
   ]
  },
  {
   "cell_type": "code",
   "execution_count": null,
   "id": "3819b186-187f-4b00-b066-41cb774f5993",
   "metadata": {
    "kernel": "SoS"
   },
   "outputs": [],
   "source": [
    "[global]\n",
    "import glob\n",
    "import pandas as pd\n",
    "\n",
    "# For complete susie, region_list or tad_list, for susie_rss , LD region list \n",
    "parameter: region_list = path\n",
    "\n",
    "# A region list file documenting the chr_pos_ref_alt of a susie_object\n",
    "parameter: cwd = path(\"output\")\n",
    "parameter: name = \"demo\"\n",
    "region_tbl = pd.read_csv(region_list,sep = \"\\t\")\n",
    "\n",
    "## Path to work directory where output locates\n",
    "## Containers that contains the necessary packages\n",
    "parameter: container = \"\"\n",
    "# For cluster jobs, number commands to run per job\n",
    "parameter: job_size = 1\n",
    "# Wall clock time expected\n",
    "parameter: walltime = \"5h\"\n",
    "# Memory expected\n",
    "parameter: mem = \"16G\"\n",
    "# Number of threads\n",
    "parameter: numThreads = 20\n",
    "parameter: windows = 1000000\n",
    "# use this function to edit memory string for PLINK input\n",
    "from sos.utils import expand_size"
   ]
  },
  {
   "cell_type": "code",
   "execution_count": 1,
   "id": "9e39ee42-5012-400d-9c53-982a5ea3087a",
   "metadata": {
    "kernel": "SoS"
   },
   "outputs": [],
   "source": [
    "[susie_to_tsv]\n",
    "# Input\n",
    "parameter: rds_path = paths\n",
    "input: rds_path, group_by = 1\n",
    "output: f\"{cwd}/{_input:bn}.lbf.tsv\",f\"{cwd}/{_input:bn}.variant.tsv\",f\"{cwd}/{_input:bn}.effect.tsv\"\n",
    "task: trunk_workers = 1, trunk_size = job_size, walltime = walltime, mem = mem, cores = numThreads, tags = f'{step_name}_{_output[0]:bn}'\n",
    "R: expand = '${ }', stdout = f\"{_output[0]:nn}.stdout\", stderr = f\"{_output[0]:nn}.stderr\", container = container\n",
    "    library(\"dplyr\")\n",
    "    library(\"tibble\")\n",
    "    library(\"purrr\")\n",
    "    library(\"tidyr\")\n",
    "    library(\"readr\")\n",
    "    library(\"stringr\")\n",
    "    library(\"susieR\")\n",
    "\n",
    "    extract_lbf = function(susie_obj){\n",
    "    \n",
    "    if(\"variants\" %in% names(susie_obj) ){\n",
    "    ss_bf = tibble(snps = susie_obj$variants%>%str_replace(\"_\",\":\"), cs_index = ifelse(is.null(susie_obj$sets$cs_index), 0, paste0(susie_obj$sets$cs_index,collapse =\",\")),names = \"${f'{_input:br}'.split('.')[-4]}\")\n",
    "    }\n",
    "      else \n",
    "      {\n",
    "    ss_bf = tibble(snps = susie_obj$variable_name, cs_index = ifelse(is.null(susie_obj$sets$cs_index), 0, paste0(susie_obj$sets$cs_index,collapse =\",\")),names = \"${_input:bnnn}\")\n",
    "     }\n",
    "    \n",
    "    ss_bf = ss_bf%>%cbind(susie_obj$lbf_variable%>%t)%>%as_tibble()\n",
    "    \n",
    "    return(ss_bf)\n",
    "    }\n",
    "    \n",
    "    extract_variants_pip = function(susie_obj,region_list){\n",
    "    susie_tb = tibble( variants =  names(susie_obj$pip)[which( susie_obj$pip >= 0)],\n",
    "                           snps_index = which(( susie_obj$pip >= 0))) %>%\n",
    "        mutate(chromosome = map_chr(variants, ~read.table(text = .x, sep = \":\")$V1%>%str_replace(\"chr\",\"\") ),\n",
    "                position  = map_chr(variants, ~read.table(text = .x, sep = \":\")$V2  ),\n",
    "                ref = map_chr(position , ~read.table(text = .x, sep = \"_\",colClasses = \"character\")$V2  ),\n",
    "                alt = map_chr(position , ~read.table(text = .x, sep = \"_\",colClasses = \"character\")$V3  ),\n",
    "                position  = map_dbl(position , ~read.table(text = .x, sep = \"_\",as.is = T)$V1  )\n",
    "                             )\n",
    "      susie_tb = susie_tb%>%mutate(cs_order =(map(susie_tb$snps_index , ~tryCatch(which(pmap(list( a= susie_obj$sets$cs) , function(a) .x %in% a )%>%unlist()), error = function(e) return(0) )  ))%>%as.character%>%str_replace(\"integer\\\\(0\\\\)\",\"0\"),\n",
    "                             cs_id = map_chr(cs_order,~ifelse(.x ==\"0\", \"None\" ,names(susie_obj$sets$cs)[.x%>%str_split(\":\")%>%unlist%>%as.numeric] ) ),\n",
    "                             log10_base_factor = map_chr(snps_index,~paste0( susie_obj$lbf_variable[,.x],  collapse = \";\")),\n",
    "                             pip = map_dbl(snps_index,~( susie_obj$pip[.x])),\n",
    "                             posterior_mean = map_dbl(snps_index,~( susie_obj$coef[.x])),\n",
    "                             posterior_sd = map_dbl(snps_index,~(susie_get_posterior_sd(susie_obj)[.x])),\n",
    "                             z = posterior_mean/posterior_sd)\n",
    "    \n",
    "          susie_tb =  susie_tb%>%mutate(  molecular_trait_id = region_list$molecular_trait_id,\n",
    "                             finemapped_region_start = region_list$finemapped_region_start,\n",
    "                             finemapped_region_end = region_list$finemapped_region_end)\n",
    "          return(susie_tb)    }\n",
    "          \n",
    "        \n",
    "\n",
    "     extract_effect_pip = function(susie_obj,region_list,susie_tb){\n",
    "      result_tb =  tibble(phenotype = susie_obj$name,\n",
    "        V = susie_obj$V,effect_id = paste0(\"L\",1:length(V) ) ,\n",
    "        cs_log10bf = susie_obj$lbf)\n",
    "        if(is.null(susie_obj$sets$cs)){\n",
    "            cs_min_r2 = cs_avg_r2 =  coverage =  0 \n",
    "            cs = \"None\"} else {         cs = map_chr(susie_obj$sets$cs[result_tb$effect_id],~susie_tb$variants[.x]%>%paste0(collapse = \";\"))\n",
    "        coverage = map(result_tb$effect_id, ~susie_obj$sets$coverage[which(names(susie_obj$sets$cs) == .x )])%>%as.numeric%>%replace_na(0)\n",
    "        cs_min_r2  = (susie_obj$sets$purity[result_tb$effect_id,1])%>%as.numeric%>%replace_na(0)  \n",
    "        cs_avg_r2  = (susie_obj$sets$purity[result_tb$effect_id,2])%>%as.numeric%>%replace_na(0) }\n",
    "        result_tb = result_tb%>%mutate(cs_min_r2 = cs_min_r2,cs_avg_r2 = cs_avg_r2 ,coverage = coverage%>%unlist,cs = cs )            \n",
    "      return(result_tb)\n",
    "      }\n",
    "       \n",
    "  \n",
    "    susie_obj = readRDS(\"${_input:a}\")\n",
    "    if(\"variants\" %in% names(susie_obj) ){susie_obj$variants = susie_obj$variants%>%str_replace(\"_\",\":\")}\n",
    "    if(is.null(names(susie_obj$pip ))){names(susie_obj$pip) = susie_obj$variants}\n",
    "    lbf = extract_lbf(susie_obj)\n",
    "    region_list = read_delim(\"${region_list}\",\"\\t\")\n",
    "    if(ncol(region_list) == 3 ){   region_list =  region_list%>%mutate(`#chr` = `#chr`%>%str_remove_all(\" \") , ID = paste0(`#chr`,\"_\",start,\"_\",stop) ) } # LD_list \n",
    "    if(region_list$start[1] - region_list$end[1]  == -1 ){ \n",
    "        region_list = region_list%>%mutate( start = start - ${windows} ,end = start +${windows}) # region_list for fix cis windows  \n",
    "          } \n",
    "      if(\"gene_id\" %in% colnames(region_list)){region_list = region_list%>%mutate(ID = gene_id)  } # region_list for gene\n",
    "    region_list = region_list%>%select(molecular_trait_id = ID, chromosome  = `#chr`,finemapped_region_start = start ,finemapped_region_end = end)  # Formatting\n",
    "    region_list = region_list%>%filter(molecular_trait_id == \"${f'{_input:br}'.split('.')[-4]}\")\n",
    "    variants_pip = extract_variants_pip( susie_obj , region_list)\n",
    "    effect_pip = extract_effect_pip( susie_obj , region_list,variants_pip)\n",
    "    lbf%>%write_delim(\"${_output[0]}\",\"\\t\")\n",
    "    variants_pip%>%write_delim(\"${_output[1]}\",\"\\t\")\n",
    "    effect_pip%>%write_delim(\"${_output[2]}\",\"\\t\")"
   ]
  },
  {
   "cell_type": "code",
   "execution_count": null,
   "id": "b50c78bb-4357-4146-be2a-445147f32213",
   "metadata": {
    "kernel": "SoS"
   },
   "outputs": [],
   "source": [
    "[susie_tsv_collapse]\n",
    "parameter: tsv_path = paths # TSV needs have the name ends with  *.chr1_2_3.unisusie(_rss).lbf.tsv\n",
    "tsv_list  = pd.DataFrame({\"lbf_path\" : [str(x) for x in sumstat_rds]})\n",
    "chromosome = [f'{x.split(\".\")[-4].split(\"_\")[0].replace(\"chr\",\"\")}'  for x in tsv_list.lbf_path ] ## Add chr if there is no chr prefix. This is to accomodata chr XY and M\n",
    "input: tsv_path, for_each = \"chromosome\"\n",
    "output: f'{cwd}/{_input:bnnnn}.{_chromosome}.unisusie_rss.lbf.tsv'\n",
    "bash: expand = '${ }', stdout = f\"{_output}.stdout\", stderr = f\"{_output}.stderr\", container = container\n",
    "        head -1 ${_input} > ${_output}\n",
    "        cat \"${_input:bnnnn}.${_chromosome}_*lbf.tsv\" | grep -v cs_index >> ${_output}\n",
    "        "
   ]
  }
 ],
 "metadata": {
  "kernelspec": {
   "display_name": "SoS",
   "language": "sos",
   "name": "sos"
  },
  "language_info": {
   "codemirror_mode": "sos",
   "file_extension": ".sos",
   "mimetype": "text/x-sos",
   "name": "sos",
   "nbconvert_exporter": "sos_notebook.converter.SoS_Exporter",
   "pygments_lexer": "sos"
  },
  "sos": {
   "kernels": [
    [
     "SoS",
     "sos",
     "",
     ""
    ]
   ],
   "version": "0.23.4"
  }
 },
 "nbformat": 4,
 "nbformat_minor": 5
}
