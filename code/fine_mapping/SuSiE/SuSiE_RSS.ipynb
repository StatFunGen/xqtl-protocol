{
 "cells": [
  {
   "cell_type": "markdown",
   "id": "c95d8992-e05e-482a-8b33-5c6725650d43",
   "metadata": {},
   "source": [
    "# Fine-mapping with SuSiE RSS model"
   ]
  },
  {
   "cell_type": "markdown",
   "id": "29b654fe-c703-479f-a1af-4c68f0a862e3",
   "metadata": {},
   "source": [
    "This notebook take a list of LD file and a list of sumstat file and do salmon QC and susie RSS for each overlap LD block."
   ]
  },
  {
   "cell_type": "code",
   "execution_count": null,
   "id": "d1c31441-f4f8-41cd-9b5e-cdc65d22e314",
   "metadata": {},
   "outputs": [],
   "source": [
    "[global]\n",
    "\n",
    "parameter: container = \"\"\n",
    "# For cluster jobs, number commands to run per job\n",
    "parameter: job_size = 1\n",
    "# Wall clock time expected\n",
    "parameter: walltime = \"5h\"\n",
    "# Memory expected\n",
    "parameter: mem = \"16G\"\n",
    "# Number of threads\n",
    "parameter: numThreads = 20\n",
    "\n",
    "# getting the overlapped input\n",
    "parameter: LD_list = path\n",
    "parameter: sumstat_list = path\n",
    "import pandas as pd\n",
    "LD_list = pd.read_csv(LD_list,\"\\t\")\n",
    "sumstat_list = pd.read_csv(sumstat_list,\"\\t\")\n",
    "LD_list[\"#chr\"] = [x[0].replace(\"chr\", \"\") for x in  LD_list[\"#id\"].str.split(\"_\") ]\n",
    "sumstat_list[\"#chr\"] = [str(x).replace(\"chr\", \"\") for x in  sumstat_list[\"#chr\"] ]\n",
    "input_inv = LD_list.merge(sumstat_list)\n",
    "input_list = input_inv.iloc[:,[1,3]].values.tolist()\n",
    "parameter: cwd = path(\"output\")\n",
    "\n",
    "\n",
    "[SuSiE_RSS_1]\n",
    "input: input_list, group_by = 2\n",
    "output: f'{cwd:a}/{_input[1]:bn}.{_input[0].split(\".\")[-3]}.unisusie_rss.fit.rds'\n",
    "task: trunk_workers = 1, trunk_size = job_size, walltime = walltime, mem = mem, cores = numThreads, tags = f'{step_name}_{_output[0]:bn}'\n",
    "python: expand = '${ }', stdout = f\"{_output:nn}.stdout\", stderr = f\"{_output:nn}.stderr\", container = container\n",
    "    import pandas as pd\n",
    "    import numpy as np\n",
    "    def load_npz_ld(path):\n",
    "        np_ld_loaded = np.load(path,allow_pickle=True)\n",
    "        # sort by start position\n",
    "        snp_id = [x.replace(\":\",\"_\") for x in np_ld_loaded.get(\"arr_1\")]\n",
    "        np_ld_loaded = np_ld_loaded.get(\"arr_0\")\n",
    "        new = np_ld_loaded + np_ld_loaded.T\n",
    "        np.fill_diagonal(new, np.diag(new)/2)\n",
    "        return new,snp_id\n",
    "\n",
    "    def get_bcor_meta(bcor_obj):\n",
    "        df_ld_snps = bcor_obj.getMeta()\n",
    "        df_ld_snps.rename(columns={'rsid':'SNP', 'position':'BP', 'chromosome':'CHR', 'allele1':'A1', 'allele2':'A2'}, inplace=True, errors='raise')\n",
    "        ###df_ld_snps['CHR'] = df_ld_snps['CHR'].astype(np.int64)\n",
    "        df_ld_snps['BP'] = df_ld_snps['BP'].astype(np.int64)\n",
    "        return df_ld_snps\n",
    "\n",
    "    def load_ld_bcor(ld_prefix):\n",
    "        bcor_file = ld_prefix+'.bcor'\n",
    "        import os\n",
    "        import time\n",
    "        from ldstore.bcor import bcor\n",
    "        if not os.path.exists(bcor_file):\n",
    "            raise IOError('%s not found'%(bcor_file))\n",
    "        t0 = time.time()\n",
    "        bcor_obj = bcor(bcor_file)\n",
    "        df_ld_snps = get_bcor_meta(bcor_obj)\n",
    "        ld_arr = bcor_obj.readCorr([])\n",
    "        assert np.all(~np.isnan(ld_arr))\n",
    "        return ld_arr, df_ld_snps\n",
    "\n",
    "    def abf(beta, se, W=0.04):\n",
    "        from scipy import special \n",
    "        z = beta / se\n",
    "        V = se ** 2\n",
    "        r = W / (W + V)\n",
    "        lbf = 0.5 * (np.log(1 - r) + (r * z ** 2))\n",
    "        denom = special.logsumexp(lbf)\n",
    "        prob = np.exp(lbf - denom)\n",
    "        return lbf, prob\n",
    "    \n",
    "    def get_cs(variant, prob, coverage=0.95):\n",
    "        ordering = np.argsort(prob)[::-1]\n",
    "        idx = np.where(np.cumsum(prob[ordering]) > coverage)[0][0]\n",
    "        cs = variant[ordering][: (idx + 1)]\n",
    "        return cs\n",
    "    def slalom(df,LD):\n",
    "        lbf, prob = abf(df.beta, df.se, W=args.abf_prior_variance)\n",
    "        cs = get_cs(df.variant, prob, coverage=0.95)\n",
    "        cs_99 = get_cs(df.variant, prob, coverage=0.99)\n",
    "        df[\"lbf\"] = lbf\n",
    "        df[\"prob\"] = prob\n",
    "        df[\"cs\"] = df.variant.isin(cs)\n",
    "        df[\"cs_99\"] = df.variant.isin(cs_99)\n",
    "        lead_idx_snp = df.prob.idxmax()\n",
    "        lead_variant = df.variant[lead_idx_snp]\n",
    "        df[\"lead_variant\"] = False\n",
    "        df[\"lead_variant\"].iloc[lead_idx_snp] = True\n",
    "        # annotate LD     \n",
    "        ## This is to identify the R for each snp vs the lead snp\n",
    "        df[\"r\"] = [LD[np.where(np.in1d(df.variant,lead_variant))][:,np.where(np.in1d(df.variant,x))][0][0][0] for x in df.variant]\n",
    "        lead_z = (df.beta / df.se).iloc[lead_idx_snp]\n",
    "        # Dentist_test     \n",
    "        ## This is to identify the outlier\n",
    "        df[\"t_dentist_s\"] = ((df.beta / df.se) - df.r * lead_z) ** 2 / (1 - df.r ** 2)\n",
    "        df[\"t_dentist_s\"] = np.where(df[\"t_dentist_s\"] < 0, np.inf, df[\"t_dentist_s\"])\n",
    "        df[\"t_dentist_s\"].iloc[lead_idx_snp] = np.nan\n",
    "        df[\"nlog10p_dentist_s\"] = sp.stats.chi2.logsf(df[\"t_dentist_s\"], df=1) / -np.log(10)\n",
    "        df_output = df\n",
    "        df[\"r2\"] = df.r ** 2\n",
    "        n_r2 = np.sum(df.r2 > args.r2_threshold)\n",
    "        n_dentist_s_outlier = np.sum(\n",
    "            (df.r2 > args.r2_threshold) & (df.nlog10p_dentist_s > args.nlog10p_dentist_s_threshold)\n",
    "        )\n",
    "        max_pip_idx = df.prob.idxmax()\n",
    "        variant = df.chromosome.str.cat([df.position.astype(str), df.allele1, df.allele2], sep=\":\")\n",
    "        df_summary = pd.DataFrame(\n",
    "            {\n",
    "                \"lead_pip_variant\": [variant.iloc[max_pip_idx]],\n",
    "                \"n_total\": [len(df.index)],\n",
    "                \"n_r2\": [n_r2],\n",
    "                \"n_dentist_s_outlier\": [n_dentist_s_outlier],\n",
    "                \"fraction\": [n_dentist_s_outlier / n_r2 if n_r2 > 0 else 0],\n",
    "                \"max_pip\": [np.max(df.prob)]\n",
    "            }\n",
    "            )\n",
    "    return df, df_summary\n",
    "    \n",
    "    ## Load LD\n",
    "    if \"${_input[0]}\".endswith(\"npz\"):\n",
    "        LD,snp_id = load_npz_ld(${_input[0]:r}) \n",
    "    if \"${_input[0]}\".endswith(\"bcor\"):\n",
    "        LD,snp_id = load_ld_bcor(${_input[0]:nr}) \n",
    "        \n",
    "    sumstat = pd.read_csv(${_input[1]:r}, \"\\t\")\n",
    "    ## Get only intersect snp\n",
    "    intersct = np.intersect1d(sumstat.variant.to_numpy(),snp_id)\n",
    "    sumstat = sumstat.query(\"variant in @intersct\")\n",
    "    indice = np.where(np.in1d(snp_id, intersct))\n",
    "    LD = LD[np.ix_(indice[0].tolist(), indice[0].tolist())]    \n",
    "    ## slalom\n",
    "    sumstat_qc = slalom(sumstat,LD)\n",
    "    ## SuSiERSS\n",
    "    "
   ]
  },
  {
   "cell_type": "markdown",
   "id": "fcb502e7-950a-4c74-90c1-4ce49e643d1b",
   "metadata": {},
   "source": [
    "# Draft"
   ]
  },
  {
   "cell_type": "code",
   "execution_count": null,
   "id": "9e4f369c-7df9-4aee-b15f-21141b108deb",
   "metadata": {},
   "outputs": [],
   "source": [
    "    elif \"${_input[0]}\".endswith(\"bcor\"):\n",
    "        LD,snp_id = load_bcor_ld(${_input[0]:r})"
   ]
  },
  {
   "cell_type": "code",
   "execution_count": 53,
   "id": "ad26d3ab-da3b-477f-b188-4ff66dd84768",
   "metadata": {},
   "outputs": [],
   "source": [
    "import pandas as pd\n",
    "import numpy as np"
   ]
  },
  {
   "cell_type": "code",
   "execution_count": 105,
   "id": "ee664d6e-d3a0-4f8c-80d2-2e86241088ca",
   "metadata": {},
   "outputs": [
    {
     "name": "stderr",
     "output_type": "stream",
     "text": [
      "/home/hs3163/miniconda3/lib/python3.9/site-packages/IPython/core/interactiveshell.py:3441: FutureWarning: In a future version of pandas all arguments of read_csv except for the argument 'filepath_or_buffer' will be keyword-only.\n",
      "  exec(code_obj, self.user_global_ns, self.user_ns)\n",
      "/home/hs3163/miniconda3/lib/python3.9/site-packages/IPython/core/interactiveshell.py:3441: FutureWarning: In a future version of pandas all arguments of read_csv except for the argument 'filepath_or_buffer' will be keyword-only.\n",
      "  exec(code_obj, self.user_global_ns, self.user_ns)\n"
     ]
    }
   ],
   "source": [
    "LD_list = pd.read_csv(\"/mnt/vast/hpc/csg/molecular_phenotype_calling/LD/output_npz_2/1300_hg38_EUR_LD_blocks_npz_files/ROSMAP_NIA_WGS.leftnorm.filtered.filtered.ld.list\",\"\\t\")\n",
    "sumstat_list = pd.read_csv(\"/mnt/vast/hpc/csg/xqtl_workflow_testing/ADGWAS/data_intergration/ADGWAS2022/qced_sumstat_list.txt\",\"\\t\")\n"
   ]
  },
  {
   "cell_type": "code",
   "execution_count": 106,
   "id": "dc2f9808-a098-4e6a-b73b-6ed84df2bc67",
   "metadata": {},
   "outputs": [
    {
     "data": {
      "text/html": [
       "<div>\n",
       "<style scoped>\n",
       "    .dataframe tbody tr th:only-of-type {\n",
       "        vertical-align: middle;\n",
       "    }\n",
       "\n",
       "    .dataframe tbody tr th {\n",
       "        vertical-align: top;\n",
       "    }\n",
       "\n",
       "    .dataframe thead th {\n",
       "        text-align: right;\n",
       "    }\n",
       "</style>\n",
       "<table border=\"1\" class=\"dataframe\">\n",
       "  <thead>\n",
       "    <tr style=\"text-align: right;\">\n",
       "      <th></th>\n",
       "      <th>#chr</th>\n",
       "      <th>ADGWAS_Bellenguez_2022</th>\n",
       "    </tr>\n",
       "  </thead>\n",
       "  <tbody>\n",
       "    <tr>\n",
       "      <th>0</th>\n",
       "      <td>1</td>\n",
       "      <td>/mnt/vast/hpc/csg/xqtl_workflow_testing/ADGWAS...</td>\n",
       "    </tr>\n",
       "    <tr>\n",
       "      <th>1</th>\n",
       "      <td>2</td>\n",
       "      <td>/mnt/vast/hpc/csg/xqtl_workflow_testing/ADGWAS...</td>\n",
       "    </tr>\n",
       "    <tr>\n",
       "      <th>2</th>\n",
       "      <td>3</td>\n",
       "      <td>/mnt/vast/hpc/csg/xqtl_workflow_testing/ADGWAS...</td>\n",
       "    </tr>\n",
       "    <tr>\n",
       "      <th>3</th>\n",
       "      <td>4</td>\n",
       "      <td>/mnt/vast/hpc/csg/xqtl_workflow_testing/ADGWAS...</td>\n",
       "    </tr>\n",
       "    <tr>\n",
       "      <th>4</th>\n",
       "      <td>5</td>\n",
       "      <td>/mnt/vast/hpc/csg/xqtl_workflow_testing/ADGWAS...</td>\n",
       "    </tr>\n",
       "    <tr>\n",
       "      <th>5</th>\n",
       "      <td>6</td>\n",
       "      <td>/mnt/vast/hpc/csg/xqtl_workflow_testing/ADGWAS...</td>\n",
       "    </tr>\n",
       "    <tr>\n",
       "      <th>6</th>\n",
       "      <td>7</td>\n",
       "      <td>/mnt/vast/hpc/csg/xqtl_workflow_testing/ADGWAS...</td>\n",
       "    </tr>\n",
       "    <tr>\n",
       "      <th>7</th>\n",
       "      <td>8</td>\n",
       "      <td>/mnt/vast/hpc/csg/xqtl_workflow_testing/ADGWAS...</td>\n",
       "    </tr>\n",
       "    <tr>\n",
       "      <th>8</th>\n",
       "      <td>9</td>\n",
       "      <td>/mnt/vast/hpc/csg/xqtl_workflow_testing/ADGWAS...</td>\n",
       "    </tr>\n",
       "    <tr>\n",
       "      <th>9</th>\n",
       "      <td>10</td>\n",
       "      <td>/mnt/vast/hpc/csg/xqtl_workflow_testing/ADGWAS...</td>\n",
       "    </tr>\n",
       "    <tr>\n",
       "      <th>10</th>\n",
       "      <td>11</td>\n",
       "      <td>/mnt/vast/hpc/csg/xqtl_workflow_testing/ADGWAS...</td>\n",
       "    </tr>\n",
       "    <tr>\n",
       "      <th>11</th>\n",
       "      <td>12</td>\n",
       "      <td>/mnt/vast/hpc/csg/xqtl_workflow_testing/ADGWAS...</td>\n",
       "    </tr>\n",
       "    <tr>\n",
       "      <th>12</th>\n",
       "      <td>13</td>\n",
       "      <td>/mnt/vast/hpc/csg/xqtl_workflow_testing/ADGWAS...</td>\n",
       "    </tr>\n",
       "    <tr>\n",
       "      <th>13</th>\n",
       "      <td>14</td>\n",
       "      <td>/mnt/vast/hpc/csg/xqtl_workflow_testing/ADGWAS...</td>\n",
       "    </tr>\n",
       "    <tr>\n",
       "      <th>14</th>\n",
       "      <td>15</td>\n",
       "      <td>/mnt/vast/hpc/csg/xqtl_workflow_testing/ADGWAS...</td>\n",
       "    </tr>\n",
       "    <tr>\n",
       "      <th>15</th>\n",
       "      <td>16</td>\n",
       "      <td>/mnt/vast/hpc/csg/xqtl_workflow_testing/ADGWAS...</td>\n",
       "    </tr>\n",
       "    <tr>\n",
       "      <th>16</th>\n",
       "      <td>17</td>\n",
       "      <td>/mnt/vast/hpc/csg/xqtl_workflow_testing/ADGWAS...</td>\n",
       "    </tr>\n",
       "    <tr>\n",
       "      <th>17</th>\n",
       "      <td>18</td>\n",
       "      <td>/mnt/vast/hpc/csg/xqtl_workflow_testing/ADGWAS...</td>\n",
       "    </tr>\n",
       "    <tr>\n",
       "      <th>18</th>\n",
       "      <td>19</td>\n",
       "      <td>/mnt/vast/hpc/csg/xqtl_workflow_testing/ADGWAS...</td>\n",
       "    </tr>\n",
       "    <tr>\n",
       "      <th>19</th>\n",
       "      <td>20</td>\n",
       "      <td>/mnt/vast/hpc/csg/xqtl_workflow_testing/ADGWAS...</td>\n",
       "    </tr>\n",
       "    <tr>\n",
       "      <th>20</th>\n",
       "      <td>21</td>\n",
       "      <td>/mnt/vast/hpc/csg/xqtl_workflow_testing/ADGWAS...</td>\n",
       "    </tr>\n",
       "    <tr>\n",
       "      <th>21</th>\n",
       "      <td>22</td>\n",
       "      <td>/mnt/vast/hpc/csg/xqtl_workflow_testing/ADGWAS...</td>\n",
       "    </tr>\n",
       "  </tbody>\n",
       "</table>\n",
       "</div>"
      ],
      "text/plain": [
       "    #chr                             ADGWAS_Bellenguez_2022\n",
       "0      1  /mnt/vast/hpc/csg/xqtl_workflow_testing/ADGWAS...\n",
       "1      2  /mnt/vast/hpc/csg/xqtl_workflow_testing/ADGWAS...\n",
       "2      3  /mnt/vast/hpc/csg/xqtl_workflow_testing/ADGWAS...\n",
       "3      4  /mnt/vast/hpc/csg/xqtl_workflow_testing/ADGWAS...\n",
       "4      5  /mnt/vast/hpc/csg/xqtl_workflow_testing/ADGWAS...\n",
       "5      6  /mnt/vast/hpc/csg/xqtl_workflow_testing/ADGWAS...\n",
       "6      7  /mnt/vast/hpc/csg/xqtl_workflow_testing/ADGWAS...\n",
       "7      8  /mnt/vast/hpc/csg/xqtl_workflow_testing/ADGWAS...\n",
       "8      9  /mnt/vast/hpc/csg/xqtl_workflow_testing/ADGWAS...\n",
       "9     10  /mnt/vast/hpc/csg/xqtl_workflow_testing/ADGWAS...\n",
       "10    11  /mnt/vast/hpc/csg/xqtl_workflow_testing/ADGWAS...\n",
       "11    12  /mnt/vast/hpc/csg/xqtl_workflow_testing/ADGWAS...\n",
       "12    13  /mnt/vast/hpc/csg/xqtl_workflow_testing/ADGWAS...\n",
       "13    14  /mnt/vast/hpc/csg/xqtl_workflow_testing/ADGWAS...\n",
       "14    15  /mnt/vast/hpc/csg/xqtl_workflow_testing/ADGWAS...\n",
       "15    16  /mnt/vast/hpc/csg/xqtl_workflow_testing/ADGWAS...\n",
       "16    17  /mnt/vast/hpc/csg/xqtl_workflow_testing/ADGWAS...\n",
       "17    18  /mnt/vast/hpc/csg/xqtl_workflow_testing/ADGWAS...\n",
       "18    19  /mnt/vast/hpc/csg/xqtl_workflow_testing/ADGWAS...\n",
       "19    20  /mnt/vast/hpc/csg/xqtl_workflow_testing/ADGWAS...\n",
       "20    21  /mnt/vast/hpc/csg/xqtl_workflow_testing/ADGWAS...\n",
       "21    22  /mnt/vast/hpc/csg/xqtl_workflow_testing/ADGWAS..."
      ]
     },
     "execution_count": 106,
     "metadata": {},
     "output_type": "execute_result"
    }
   ],
   "source": [
    "sumstat_list"
   ]
  },
  {
   "cell_type": "code",
   "execution_count": 25,
   "id": "5faa5ee5-bac2-40cc-9aee-27ea53cde918",
   "metadata": {},
   "outputs": [],
   "source": [
    "LD_list[\"#chr\"] = [x[0].replace(\"chr\", \"\") for x in  LD_list[\"#id\"].str.split(\"_\") ]"
   ]
  },
  {
   "cell_type": "code",
   "execution_count": 24,
   "id": "e11b1c68-e8ee-4bc7-9a8b-094f61ad6785",
   "metadata": {},
   "outputs": [],
   "source": [
    "sumstat_list[\"#chr\"] = [str(x).replace(\"chr\", \"\") for x in  sumstat_list[\"#chr\"] ]"
   ]
  },
  {
   "cell_type": "code",
   "execution_count": 27,
   "id": "aead0cd2-d02c-43da-90a5-d42da4da0e7a",
   "metadata": {},
   "outputs": [],
   "source": [
    "input_inv = LD_list.merge(sumstat_list)"
   ]
  },
  {
   "cell_type": "code",
   "execution_count": 141,
   "id": "ecb73edf-9913-4563-af7c-39000051f774",
   "metadata": {},
   "outputs": [
    {
     "data": {
      "text/html": [
       "<div>\n",
       "<style scoped>\n",
       "    .dataframe tbody tr th:only-of-type {\n",
       "        vertical-align: middle;\n",
       "    }\n",
       "\n",
       "    .dataframe tbody tr th {\n",
       "        vertical-align: top;\n",
       "    }\n",
       "\n",
       "    .dataframe thead th {\n",
       "        text-align: right;\n",
       "    }\n",
       "</style>\n",
       "<table border=\"1\" class=\"dataframe\">\n",
       "  <thead>\n",
       "    <tr style=\"text-align: right;\">\n",
       "      <th></th>\n",
       "      <th>#id</th>\n",
       "      <th>dir</th>\n",
       "      <th>#chr</th>\n",
       "      <th>ADGWAS_Bellenguez_2022</th>\n",
       "    </tr>\n",
       "  </thead>\n",
       "  <tbody>\n",
       "    <tr>\n",
       "      <th>0</th>\n",
       "      <td>chr1_16103_2888443</td>\n",
       "      <td>/mnt/vast/hpc/csg/molecular_phenotype_calling/...</td>\n",
       "      <td>1</td>\n",
       "      <td>/mnt/vast/hpc/csg/xqtl_workflow_testing/ADGWAS...</td>\n",
       "    </tr>\n",
       "    <tr>\n",
       "      <th>1</th>\n",
       "      <td>chr1_2888443_4320284</td>\n",
       "      <td>/mnt/vast/hpc/csg/molecular_phenotype_calling/...</td>\n",
       "      <td>1</td>\n",
       "      <td>/mnt/vast/hpc/csg/xqtl_workflow_testing/ADGWAS...</td>\n",
       "    </tr>\n",
       "    <tr>\n",
       "      <th>2</th>\n",
       "      <td>chr1_4320284_5853833</td>\n",
       "      <td>/mnt/vast/hpc/csg/molecular_phenotype_calling/...</td>\n",
       "      <td>1</td>\n",
       "      <td>/mnt/vast/hpc/csg/xqtl_workflow_testing/ADGWAS...</td>\n",
       "    </tr>\n",
       "    <tr>\n",
       "      <th>3</th>\n",
       "      <td>chr1_5853833_7110219</td>\n",
       "      <td>/mnt/vast/hpc/csg/molecular_phenotype_calling/...</td>\n",
       "      <td>1</td>\n",
       "      <td>/mnt/vast/hpc/csg/xqtl_workflow_testing/ADGWAS...</td>\n",
       "    </tr>\n",
       "    <tr>\n",
       "      <th>4</th>\n",
       "      <td>chr1_7110219_9473386</td>\n",
       "      <td>/mnt/vast/hpc/csg/molecular_phenotype_calling/...</td>\n",
       "      <td>1</td>\n",
       "      <td>/mnt/vast/hpc/csg/xqtl_workflow_testing/ADGWAS...</td>\n",
       "    </tr>\n",
       "    <tr>\n",
       "      <th>...</th>\n",
       "      <td>...</td>\n",
       "      <td>...</td>\n",
       "      <td>...</td>\n",
       "      <td>...</td>\n",
       "    </tr>\n",
       "    <tr>\n",
       "      <th>1356</th>\n",
       "      <td>chr22_43251864_44603286</td>\n",
       "      <td>/mnt/vast/hpc/csg/molecular_phenotype_calling/...</td>\n",
       "      <td>22</td>\n",
       "      <td>/mnt/vast/hpc/csg/xqtl_workflow_testing/ADGWAS...</td>\n",
       "    </tr>\n",
       "    <tr>\n",
       "      <th>1357</th>\n",
       "      <td>chr22_44603286_46177037</td>\n",
       "      <td>/mnt/vast/hpc/csg/molecular_phenotype_calling/...</td>\n",
       "      <td>22</td>\n",
       "      <td>/mnt/vast/hpc/csg/xqtl_workflow_testing/ADGWAS...</td>\n",
       "    </tr>\n",
       "    <tr>\n",
       "      <th>1358</th>\n",
       "      <td>chr22_46177037_47876022</td>\n",
       "      <td>/mnt/vast/hpc/csg/molecular_phenotype_calling/...</td>\n",
       "      <td>22</td>\n",
       "      <td>/mnt/vast/hpc/csg/xqtl_workflow_testing/ADGWAS...</td>\n",
       "    </tr>\n",
       "    <tr>\n",
       "      <th>1359</th>\n",
       "      <td>chr22_47876022_49355984</td>\n",
       "      <td>/mnt/vast/hpc/csg/molecular_phenotype_calling/...</td>\n",
       "      <td>22</td>\n",
       "      <td>/mnt/vast/hpc/csg/xqtl_workflow_testing/ADGWAS...</td>\n",
       "    </tr>\n",
       "    <tr>\n",
       "      <th>1360</th>\n",
       "      <td>chr22_49355984_50799822</td>\n",
       "      <td>/mnt/vast/hpc/csg/molecular_phenotype_calling/...</td>\n",
       "      <td>22</td>\n",
       "      <td>/mnt/vast/hpc/csg/xqtl_workflow_testing/ADGWAS...</td>\n",
       "    </tr>\n",
       "  </tbody>\n",
       "</table>\n",
       "<p>1361 rows × 4 columns</p>\n",
       "</div>"
      ],
      "text/plain": [
       "                          #id  \\\n",
       "0          chr1_16103_2888443   \n",
       "1        chr1_2888443_4320284   \n",
       "2        chr1_4320284_5853833   \n",
       "3        chr1_5853833_7110219   \n",
       "4        chr1_7110219_9473386   \n",
       "...                       ...   \n",
       "1356  chr22_43251864_44603286   \n",
       "1357  chr22_44603286_46177037   \n",
       "1358  chr22_46177037_47876022   \n",
       "1359  chr22_47876022_49355984   \n",
       "1360  chr22_49355984_50799822   \n",
       "\n",
       "                                                    dir #chr  \\\n",
       "0     /mnt/vast/hpc/csg/molecular_phenotype_calling/...    1   \n",
       "1     /mnt/vast/hpc/csg/molecular_phenotype_calling/...    1   \n",
       "2     /mnt/vast/hpc/csg/molecular_phenotype_calling/...    1   \n",
       "3     /mnt/vast/hpc/csg/molecular_phenotype_calling/...    1   \n",
       "4     /mnt/vast/hpc/csg/molecular_phenotype_calling/...    1   \n",
       "...                                                 ...  ...   \n",
       "1356  /mnt/vast/hpc/csg/molecular_phenotype_calling/...   22   \n",
       "1357  /mnt/vast/hpc/csg/molecular_phenotype_calling/...   22   \n",
       "1358  /mnt/vast/hpc/csg/molecular_phenotype_calling/...   22   \n",
       "1359  /mnt/vast/hpc/csg/molecular_phenotype_calling/...   22   \n",
       "1360  /mnt/vast/hpc/csg/molecular_phenotype_calling/...   22   \n",
       "\n",
       "                                 ADGWAS_Bellenguez_2022  \n",
       "0     /mnt/vast/hpc/csg/xqtl_workflow_testing/ADGWAS...  \n",
       "1     /mnt/vast/hpc/csg/xqtl_workflow_testing/ADGWAS...  \n",
       "2     /mnt/vast/hpc/csg/xqtl_workflow_testing/ADGWAS...  \n",
       "3     /mnt/vast/hpc/csg/xqtl_workflow_testing/ADGWAS...  \n",
       "4     /mnt/vast/hpc/csg/xqtl_workflow_testing/ADGWAS...  \n",
       "...                                                 ...  \n",
       "1356  /mnt/vast/hpc/csg/xqtl_workflow_testing/ADGWAS...  \n",
       "1357  /mnt/vast/hpc/csg/xqtl_workflow_testing/ADGWAS...  \n",
       "1358  /mnt/vast/hpc/csg/xqtl_workflow_testing/ADGWAS...  \n",
       "1359  /mnt/vast/hpc/csg/xqtl_workflow_testing/ADGWAS...  \n",
       "1360  /mnt/vast/hpc/csg/xqtl_workflow_testing/ADGWAS...  \n",
       "\n",
       "[1361 rows x 4 columns]"
      ]
     },
     "execution_count": 141,
     "metadata": {},
     "output_type": "execute_result"
    }
   ],
   "source": [
    "input_inv"
   ]
  },
  {
   "cell_type": "code",
   "execution_count": 33,
   "id": "110ddf7d-4d54-44a9-9147-fe7c9779517f",
   "metadata": {},
   "outputs": [],
   "source": [
    "LD_file = input_inv.iloc[:,1].values.tolist()\n",
    "sumstat_file = input_inv.iloc[:,3].values.tolist()"
   ]
  },
  {
   "cell_type": "code",
   "execution_count": 36,
   "id": "6d16735f-58d1-4b31-990a-26e83d33ad1a",
   "metadata": {},
   "outputs": [],
   "source": [
    "sumstat_file = input_inv.iloc[:,3].values.tolist()"
   ]
  },
  {
   "cell_type": "code",
   "execution_count": 47,
   "id": "8ae6c273-0a7a-4e6b-a1af-4f604a67cd3a",
   "metadata": {},
   "outputs": [],
   "source": [
    "test = input_inv.iloc[:,[1,3]].values.tolist()[0]"
   ]
  },
  {
   "cell_type": "code",
   "execution_count": 50,
   "id": "e7d39cad-433b-44cb-bdab-db693261f348",
   "metadata": {},
   "outputs": [
    {
     "data": {
      "text/plain": [
       "True"
      ]
     },
     "execution_count": 50,
     "metadata": {},
     "output_type": "execute_result"
    }
   ],
   "source": [
    "test[0].endswith(\"npz\")"
   ]
  },
  {
   "cell_type": "code",
   "execution_count": 51,
   "id": "0f89fbec-7207-43c6-808a-36f15099a5eb",
   "metadata": {},
   "outputs": [],
   "source": []
  },
  {
   "cell_type": "code",
   "execution_count": 54,
   "id": "45b94340-63e1-436b-80c0-3c7050b49654",
   "metadata": {},
   "outputs": [],
   "source": []
  },
  {
   "cell_type": "code",
   "execution_count": 55,
   "id": "a017f5ce-b4f8-4d5d-8bbf-5f47c3267d41",
   "metadata": {},
   "outputs": [
    {
     "data": {
      "text/plain": [
       "array([[ 1.000e+00, -4.330e-03, -4.761e-03, ..., -5.127e-03, -3.656e-03,\n",
       "         5.508e-03],\n",
       "       [-4.330e-03,  1.000e+00, -4.761e-03, ..., -5.127e-03, -3.656e-03,\n",
       "        -2.812e-02],\n",
       "       [-4.761e-03, -4.761e-03,  1.000e+00, ..., -5.638e-03, -4.021e-03,\n",
       "        -2.127e-04],\n",
       "       ...,\n",
       "       [-5.127e-03, -5.127e-03, -5.638e-03, ...,  1.000e+00, -4.330e-03,\n",
       "        -3.329e-02],\n",
       "       [-3.656e-03, -3.656e-03, -4.021e-03, ..., -4.330e-03,  1.000e+00,\n",
       "         4.654e-03],\n",
       "       [ 5.508e-03, -2.812e-02, -2.127e-04, ..., -3.329e-02,  4.654e-03,\n",
       "         1.000e+00]], dtype=float16)"
      ]
     },
     "execution_count": 55,
     "metadata": {},
     "output_type": "execute_result"
    }
   ],
   "source": [
    "new"
   ]
  },
  {
   "cell_type": "code",
   "execution_count": 127,
   "id": "ddc35bed-03f7-4b8d-b790-195f8cbfffc3",
   "metadata": {},
   "outputs": [],
   "source": [
    "def load_npz_ld(path):\n",
    "        np_ld_loaded = np.load(path,allow_pickle=True)\n",
    "        # sort by start position\n",
    "        snp_id = [x.replace(\":\",\"_\") for x in np_ld_loaded.get(\"arr_1\")]\n",
    "        np_ld_loaded = np_ld_loaded.get(\"arr_0\")\n",
    "        new = np_ld_loaded + np_ld_loaded.T\n",
    "        np.fill_diagonal(new, np.diag(new)/2)\n",
    "        return new,snp_id\n",
    "\n",
    "\n",
    "def load_ld_bcor(ld_prefix):\n",
    "    bcor_file = ld_prefix+'.bcor'\n",
    "    import os\n",
    "    import time\n",
    "    from ldstore.bcor import bcor\n",
    "    if not os.path.exists(bcor_file):\n",
    "        raise IOError('%s not found'%(bcor_file))\n",
    "    t0 = time.time()\n",
    "    bcor_obj = bcor(bcor_file)\n",
    "    df_ld_snps = get_bcor_meta(bcor_obj)\n",
    "    ld_arr = bcor_obj.readCorr([])\n",
    "    assert np.all(~np.isnan(ld_arr))\n",
    "    return ld_arr, df_ld_snps"
   ]
  },
  {
   "cell_type": "code",
   "execution_count": null,
   "id": "336c7b77-4c19-4b45-9be6-3599f6fff8c6",
   "metadata": {},
   "outputs": [],
   "source": []
  },
  {
   "cell_type": "code",
   "execution_count": 142,
   "id": "857153ff-06ce-42ce-a9ab-a0b4283f6abb",
   "metadata": {},
   "outputs": [
    {
     "ename": "NameError",
     "evalue": "name 'get_bcor_meta' is not defined",
     "output_type": "error",
     "traceback": [
      "\u001b[0;31m---------------------------------------------------------------------------\u001b[0m",
      "\u001b[0;31mNameError\u001b[0m                                 Traceback (most recent call last)",
      "\u001b[0;32m/tmp/3229975.1.plot.q/ipykernel_13455/2880814431.py\u001b[0m in \u001b[0;36m<module>\u001b[0;34m\u001b[0m\n\u001b[0;32m----> 1\u001b[0;31m \u001b[0mload_ld_bcor\u001b[0m\u001b[0;34m(\u001b[0m\u001b[0;34m\"/mnt/vast/hpc/csg/UKBiobank/results/pleiotropy_AD_ARHI/111822_LDstore_files/regions_chr1_22/22/22_18296088_19912358\"\u001b[0m\u001b[0;34m)\u001b[0m\u001b[0;34m\u001b[0m\u001b[0;34m\u001b[0m\u001b[0m\n\u001b[0m",
      "\u001b[0;32m/tmp/3229975.1.plot.q/ipykernel_13455/2584348757.py\u001b[0m in \u001b[0;36mload_ld_bcor\u001b[0;34m(ld_prefix)\u001b[0m\n\u001b[1;32m     18\u001b[0m     \u001b[0mt0\u001b[0m \u001b[0;34m=\u001b[0m \u001b[0mtime\u001b[0m\u001b[0;34m.\u001b[0m\u001b[0mtime\u001b[0m\u001b[0;34m(\u001b[0m\u001b[0;34m)\u001b[0m\u001b[0;34m\u001b[0m\u001b[0;34m\u001b[0m\u001b[0m\n\u001b[1;32m     19\u001b[0m     \u001b[0mbcor_obj\u001b[0m \u001b[0;34m=\u001b[0m \u001b[0mbcor\u001b[0m\u001b[0;34m(\u001b[0m\u001b[0mbcor_file\u001b[0m\u001b[0;34m)\u001b[0m\u001b[0;34m\u001b[0m\u001b[0;34m\u001b[0m\u001b[0m\n\u001b[0;32m---> 20\u001b[0;31m     \u001b[0mdf_ld_snps\u001b[0m \u001b[0;34m=\u001b[0m \u001b[0mget_bcor_meta\u001b[0m\u001b[0;34m(\u001b[0m\u001b[0mbcor_obj\u001b[0m\u001b[0;34m)\u001b[0m\u001b[0;34m\u001b[0m\u001b[0;34m\u001b[0m\u001b[0m\n\u001b[0m\u001b[1;32m     21\u001b[0m     \u001b[0mld_arr\u001b[0m \u001b[0;34m=\u001b[0m \u001b[0mbcor_obj\u001b[0m\u001b[0;34m.\u001b[0m\u001b[0mreadCorr\u001b[0m\u001b[0;34m(\u001b[0m\u001b[0;34m[\u001b[0m\u001b[0;34m]\u001b[0m\u001b[0;34m)\u001b[0m\u001b[0;34m\u001b[0m\u001b[0;34m\u001b[0m\u001b[0m\n\u001b[1;32m     22\u001b[0m     \u001b[0;32massert\u001b[0m \u001b[0mnp\u001b[0m\u001b[0;34m.\u001b[0m\u001b[0mall\u001b[0m\u001b[0;34m(\u001b[0m\u001b[0;34m~\u001b[0m\u001b[0mnp\u001b[0m\u001b[0;34m.\u001b[0m\u001b[0misnan\u001b[0m\u001b[0;34m(\u001b[0m\u001b[0mld_arr\u001b[0m\u001b[0;34m)\u001b[0m\u001b[0;34m)\u001b[0m\u001b[0;34m\u001b[0m\u001b[0;34m\u001b[0m\u001b[0m\n",
      "\u001b[0;31mNameError\u001b[0m: name 'get_bcor_meta' is not defined"
     ]
    }
   ],
   "source": [
    "load_ld_bcor(\"/mnt/vast/hpc/csg/UKBiobank/results/pleiotropy_AD_ARHI/111822_LDstore_files/regions_chr1_22/22/22_16050408_17674295.bcor\")"
   ]
  },
  {
   "cell_type": "code",
   "execution_count": 146,
   "id": "6fe95c01-6c4a-4b9e-a0fb-ffa474c5a503",
   "metadata": {},
   "outputs": [],
   "source": [
    "from ldstore.bcor import bcor"
   ]
  },
  {
   "cell_type": "code",
   "execution_count": 147,
   "id": "0de9b409-76cf-4081-9d6c-94b6c2e284d4",
   "metadata": {},
   "outputs": [
    {
     "data": {
      "text/plain": [
       "<ldstore.bcor.bcor at 0x2b8dcebaa910>"
      ]
     },
     "execution_count": 147,
     "metadata": {},
     "output_type": "execute_result"
    }
   ],
   "source": [
    "bcor(\"/mnt/vast/hpc/csg/UKBiobank/results/pleiotropy_AD_ARHI/111822_LDstore_files/regions_chr1_22/22/22_16050408_17674295.bcor\")\n"
   ]
  },
  {
   "cell_type": "code",
   "execution_count": 80,
   "id": "a5a78091-c3f3-4ada-96ba-482a97a5b46b",
   "metadata": {},
   "outputs": [],
   "source": [
    "new,snp_id = load_npz_ld(test[0])"
   ]
  },
  {
   "cell_type": "code",
   "execution_count": 82,
   "id": "6851a200-739b-49f8-989a-0219e9e49b82",
   "metadata": {},
   "outputs": [],
   "source": [
    "np_ld_loaded = np.load(test[0],allow_pickle=True)"
   ]
  },
  {
   "cell_type": "code",
   "execution_count": 87,
   "id": "c8130911-c87c-4c14-a9e4-fc1f1c82692b",
   "metadata": {},
   "outputs": [
    {
     "data": {
      "text/plain": [
       "array('chr1:16433_C_G', dtype='<U14')"
      ]
     },
     "execution_count": 87,
     "metadata": {},
     "output_type": "execute_result"
    }
   ],
   "source": [
    "np_ld_loaded.get(\"arr_1\")"
   ]
  },
  {
   "cell_type": "code",
   "execution_count": 171,
   "id": "32bb9157-0e13-4b1d-a283-c889c022a5d9",
   "metadata": {},
   "outputs": [
    {
     "data": {
      "text/plain": [
       "array([[ 1.000e+00, -4.330e-03, -4.761e-03, ..., -5.127e-03, -3.656e-03,\n",
       "         5.508e-03],\n",
       "       [-4.330e-03,  1.000e+00, -4.761e-03, ..., -5.127e-03, -3.656e-03,\n",
       "        -2.812e-02],\n",
       "       [-4.761e-03, -4.761e-03,  1.000e+00, ..., -5.638e-03, -4.021e-03,\n",
       "        -2.127e-04],\n",
       "       ...,\n",
       "       [-5.127e-03, -5.127e-03, -5.638e-03, ...,  1.000e+00, -4.330e-03,\n",
       "        -3.329e-02],\n",
       "       [-3.656e-03, -3.656e-03, -4.021e-03, ..., -4.330e-03,  1.000e+00,\n",
       "         4.654e-03],\n",
       "       [ 5.508e-03, -2.812e-02, -2.127e-04, ..., -3.329e-02,  4.654e-03,\n",
       "         1.000e+00]], dtype=float16)"
      ]
     },
     "execution_count": 171,
     "metadata": {},
     "output_type": "execute_result"
    }
   ],
   "source": [
    "new"
   ]
  },
  {
   "cell_type": "code",
   "execution_count": 107,
   "id": "d1fdeb4a-ddb5-4191-98c6-2001330e0d46",
   "metadata": {},
   "outputs": [
    {
     "name": "stderr",
     "output_type": "stream",
     "text": [
      "/home/hs3163/miniconda3/lib/python3.9/site-packages/IPython/core/interactiveshell.py:3441: FutureWarning: In a future version of pandas all arguments of read_csv except for the argument 'filepath_or_buffer' will be keyword-only.\n",
      "  exec(code_obj, self.user_global_ns, self.user_ns)\n"
     ]
    }
   ],
   "source": [
    "sumstat = pd.read_csv(test[1], \"\\t\")"
   ]
  },
  {
   "cell_type": "code",
   "execution_count": 108,
   "id": "a1a58fea-7397-4087-9e09-3d7edbcee6b2",
   "metadata": {},
   "outputs": [
    {
     "data": {
      "text/plain": [
       "0              chr1_594445_C_T\n",
       "1            chr1_595762_C_CTG\n",
       "2              chr1_630947_G_A\n",
       "3              chr1_646157_G_A\n",
       "4              chr1_727233_G_A\n",
       "                  ...         \n",
       "1451875     chr1_248934257_A_C\n",
       "1451876     chr1_248935675_T_C\n",
       "1451877     chr1_248936715_C_T\n",
       "1451878     chr1_248937246_A_G\n",
       "1451879    chr1_248941807_AG_A\n",
       "Name: variant, Length: 1451880, dtype: object"
      ]
     },
     "execution_count": 108,
     "metadata": {},
     "output_type": "execute_result"
    }
   ],
   "source": [
    "sumstat.variant"
   ]
  },
  {
   "cell_type": "code",
   "execution_count": 125,
   "id": "d184e537-21e2-468c-8fbc-75c70bef0f18",
   "metadata": {},
   "outputs": [],
   "source": [
    "a = np.intersect1d(sumstat.variant.to_numpy(),[x.replace(\":\",\"_\") for x in snp_id])"
   ]
  },
  {
   "cell_type": "code",
   "execution_count": 126,
   "id": "d5116dc8-316e-41a1-a06c-4b2aa4483356",
   "metadata": {},
   "outputs": [
    {
     "data": {
      "text/plain": [
       "6668"
      ]
     },
     "execution_count": 126,
     "metadata": {},
     "output_type": "execute_result"
    }
   ],
   "source": [
    "len(a)"
   ]
  },
  {
   "cell_type": "code",
   "execution_count": 120,
   "id": "cd7381a3-c0af-409b-bea0-85b9f9b0d2ff",
   "metadata": {},
   "outputs": [
    {
     "data": {
      "text/plain": [
       "array(['chr1:16206_T_A', 'chr1:16433_C_G', 'chr1:16619_C_T', ...,\n",
       "       'chr1:2887986_T_C', 'chr1:2888101_C_G', 'chr1:2888245_G_A'],\n",
       "      dtype=object)"
      ]
     },
     "execution_count": 120,
     "metadata": {},
     "output_type": "execute_result"
    }
   ],
   "source": [
    "snp_id"
   ]
  },
  {
   "cell_type": "code",
   "execution_count": 111,
   "id": "579af183-7bce-4ca5-884b-d2615e110760",
   "metadata": {},
   "outputs": [
    {
     "data": {
      "text/plain": [
       "array(['chr1_594445_C_T', 'chr1_595762_C_CTG', 'chr1_630947_G_A', ...,\n",
       "       'chr1_248936715_C_T', 'chr1_248937246_A_G', 'chr1_248941807_AG_A'],\n",
       "      dtype=object)"
      ]
     },
     "execution_count": 111,
     "metadata": {},
     "output_type": "execute_result"
    }
   ],
   "source": [
    "sumstat.variant.to_numpy()"
   ]
  },
  {
   "cell_type": "code",
   "execution_count": 77,
   "id": "43cfa668-24ef-40a7-8d50-030634a3bc2d",
   "metadata": {},
   "outputs": [
    {
     "data": {
      "text/plain": [
       "array(['chr1_100000223_C_T', 'chr1_100000723_G_A', 'chr1_100000874_G_T',\n",
       "       ..., 'chr1_248936715_C_T', 'chr1_248937246_A_G',\n",
       "       'chr1_248941807_AG_A'], dtype=object)"
      ]
     },
     "execution_count": 77,
     "metadata": {},
     "output_type": "execute_result"
    }
   ],
   "source": [
    "sumstat.variant.to_numpy()"
   ]
  },
  {
   "cell_type": "code",
   "execution_count": 94,
   "id": "4e0c3dc2-6fd3-494c-aaa9-28ba0fab4ae3",
   "metadata": {},
   "outputs": [
    {
     "name": "stderr",
     "output_type": "stream",
     "text": [
      "/home/hs3163/miniconda3/lib/python3.9/site-packages/IPython/core/interactiveshell.py:3441: FutureWarning: In a future version of pandas all arguments of read_csv except for the argument 'filepath_or_buffer' will be keyword-only.\n",
      "  exec(code_obj, self.user_global_ns, self.user_ns)\n"
     ]
    }
   ],
   "source": [
    "snp_id = pd.read_csv(\"/mnt/vast/hpc/csg/molecular_phenotype_calling/LD/output_npz_2/1300_hg38_EUR_LD_blocks_plink_files/ROSMAP_NIA_WGS.leftnorm.filtered.filtered.chr1_16103_2888443.bim\",\"\\t\",header = None)[1].to_numpy()"
   ]
  },
  {
   "cell_type": "code",
   "execution_count": 95,
   "id": "341cac71-717b-4982-b53e-2719c2b5d5c4",
   "metadata": {},
   "outputs": [
    {
     "data": {
      "text/plain": [
       "array(['chr1:16206_T_A', 'chr1:16433_C_G', 'chr1:16619_C_T', ...,\n",
       "       'chr1:2887986_T_C', 'chr1:2888101_C_G', 'chr1:2888245_G_A'],\n",
       "      dtype=object)"
      ]
     },
     "execution_count": 95,
     "metadata": {},
     "output_type": "execute_result"
    }
   ],
   "source": [
    "snp_id"
   ]
  },
  {
   "cell_type": "code",
   "execution_count": 88,
   "id": "2ed963af-c874-4239-96bc-bacfab84c4ba",
   "metadata": {},
   "outputs": [
    {
     "data": {
      "text/plain": [
       "'/mnt/vast/hpc/csg/molecular_phenotype_calling/LD/output_npz_2/1300_hg38_EUR_LD_blocks_npz_files/ROSMAP_NIA_WGS.leftnorm.filtered.filtered.chr1_16103_2888443.flt16.npz'"
      ]
     },
     "execution_count": 88,
     "metadata": {},
     "output_type": "execute_result"
    }
   ],
   "source": [
    "test[0]"
   ]
  },
  {
   "cell_type": "code",
   "execution_count": 96,
   "id": "11a73660-fe0d-479a-afc8-5c6c02927867",
   "metadata": {},
   "outputs": [
    {
     "data": {
      "text/plain": [
       "array([], dtype=object)"
      ]
     },
     "execution_count": 96,
     "metadata": {},
     "output_type": "execute_result"
    }
   ],
   "source": [
    "np.intersect1d(sumstat.variant.to_numpy(),snp_id)"
   ]
  },
  {
   "cell_type": "code",
   "execution_count": 97,
   "id": "edfebbc9-8a89-43c7-9e84-d1b00fdd2fd7",
   "metadata": {},
   "outputs": [
    {
     "data": {
      "text/plain": [
       "array(['chr1:16206_T_A', 'chr1:16433_C_G', 'chr1:16619_C_T', ...,\n",
       "       'chr1:2887986_T_C', 'chr1:2888101_C_G', 'chr1:2888245_G_A'],\n",
       "      dtype=object)"
      ]
     },
     "execution_count": 97,
     "metadata": {},
     "output_type": "execute_result"
    }
   ],
   "source": [
    "snp_id"
   ]
  },
  {
   "cell_type": "code",
   "execution_count": 98,
   "id": "f50b01ea-d7c3-4a23-ba2a-d6b44ed13ecc",
   "metadata": {},
   "outputs": [
    {
     "data": {
      "text/plain": [
       "array(['chr1_100000223_C_T', 'chr1_100000723_G_A', 'chr1_100000874_G_T',\n",
       "       ..., 'chr1_248936715_C_T', 'chr1_248937246_A_G',\n",
       "       'chr1_248941807_AG_A'], dtype=object)"
      ]
     },
     "execution_count": 98,
     "metadata": {},
     "output_type": "execute_result"
    }
   ],
   "source": [
    "sumstat.variant.to_numpy()"
   ]
  },
  {
   "cell_type": "code",
   "execution_count": 104,
   "id": "b7ba638b-6722-4f97-be76-cf88fc44baf2",
   "metadata": {},
   "outputs": [
    {
     "data": {
      "text/html": [
       "<div>\n",
       "<style scoped>\n",
       "    .dataframe tbody tr th:only-of-type {\n",
       "        vertical-align: middle;\n",
       "    }\n",
       "\n",
       "    .dataframe tbody tr th {\n",
       "        vertical-align: top;\n",
       "    }\n",
       "\n",
       "    .dataframe thead th {\n",
       "        text-align: right;\n",
       "    }\n",
       "</style>\n",
       "<table border=\"1\" class=\"dataframe\">\n",
       "  <thead>\n",
       "    <tr style=\"text-align: right;\">\n",
       "      <th></th>\n",
       "      <th>chromosome</th>\n",
       "      <th>position</th>\n",
       "      <th>ref</th>\n",
       "      <th>alt</th>\n",
       "      <th>variant</th>\n",
       "      <th>beta</th>\n",
       "      <th>se</th>\n",
       "      <th>pvalue</th>\n",
       "      <th>maf</th>\n",
       "      <th>n_cases</th>\n",
       "      <th>n_controls</th>\n",
       "      <th>original_effect_allele_frequency</th>\n",
       "    </tr>\n",
       "  </thead>\n",
       "  <tbody>\n",
       "    <tr>\n",
       "      <th>0</th>\n",
       "      <td>1</td>\n",
       "      <td>100000223</td>\n",
       "      <td>C</td>\n",
       "      <td>T</td>\n",
       "      <td>chr1_100000223_C_T</td>\n",
       "      <td>0.1758</td>\n",
       "      <td>0.2049</td>\n",
       "      <td>0.391100</td>\n",
       "      <td>0.0011</td>\n",
       "      <td>69576</td>\n",
       "      <td>360279</td>\n",
       "      <td>0.0011</td>\n",
       "    </tr>\n",
       "    <tr>\n",
       "      <th>1</th>\n",
       "      <td>1</td>\n",
       "      <td>100000723</td>\n",
       "      <td>G</td>\n",
       "      <td>A</td>\n",
       "      <td>chr1_100000723_G_A</td>\n",
       "      <td>-0.0031</td>\n",
       "      <td>0.0134</td>\n",
       "      <td>0.817700</td>\n",
       "      <td>0.1023</td>\n",
       "      <td>85934</td>\n",
       "      <td>401577</td>\n",
       "      <td>0.1023</td>\n",
       "    </tr>\n",
       "    <tr>\n",
       "      <th>2</th>\n",
       "      <td>1</td>\n",
       "      <td>100000874</td>\n",
       "      <td>G</td>\n",
       "      <td>T</td>\n",
       "      <td>chr1_100000874_G_T</td>\n",
       "      <td>0.2609</td>\n",
       "      <td>0.0749</td>\n",
       "      <td>0.000499</td>\n",
       "      <td>0.0038</td>\n",
       "      <td>83561</td>\n",
       "      <td>392587</td>\n",
       "      <td>0.0038</td>\n",
       "    </tr>\n",
       "    <tr>\n",
       "      <th>3</th>\n",
       "      <td>1</td>\n",
       "      <td>100001444</td>\n",
       "      <td>AT</td>\n",
       "      <td>A</td>\n",
       "      <td>chr1_100001444_AT_A</td>\n",
       "      <td>-0.0070</td>\n",
       "      <td>0.2303</td>\n",
       "      <td>0.975800</td>\n",
       "      <td>0.0009</td>\n",
       "      <td>26798</td>\n",
       "      <td>28624</td>\n",
       "      <td>0.0009</td>\n",
       "    </tr>\n",
       "    <tr>\n",
       "      <th>4</th>\n",
       "      <td>1</td>\n",
       "      <td>100001756</td>\n",
       "      <td>T</td>\n",
       "      <td>C</td>\n",
       "      <td>chr1_100001756_T_C</td>\n",
       "      <td>-0.0312</td>\n",
       "      <td>0.0344</td>\n",
       "      <td>0.364400</td>\n",
       "      <td>0.0145</td>\n",
       "      <td>85934</td>\n",
       "      <td>401577</td>\n",
       "      <td>0.9855</td>\n",
       "    </tr>\n",
       "    <tr>\n",
       "      <th>...</th>\n",
       "      <td>...</td>\n",
       "      <td>...</td>\n",
       "      <td>...</td>\n",
       "      <td>...</td>\n",
       "      <td>...</td>\n",
       "      <td>...</td>\n",
       "      <td>...</td>\n",
       "      <td>...</td>\n",
       "      <td>...</td>\n",
       "      <td>...</td>\n",
       "      <td>...</td>\n",
       "      <td>...</td>\n",
       "    </tr>\n",
       "    <tr>\n",
       "      <th>811292</th>\n",
       "      <td>1</td>\n",
       "      <td>248934257</td>\n",
       "      <td>A</td>\n",
       "      <td>C</td>\n",
       "      <td>chr1_248934257_A_C</td>\n",
       "      <td>-0.0051</td>\n",
       "      <td>0.0302</td>\n",
       "      <td>0.866400</td>\n",
       "      <td>0.0386</td>\n",
       "      <td>34556</td>\n",
       "      <td>49251</td>\n",
       "      <td>0.9614</td>\n",
       "    </tr>\n",
       "    <tr>\n",
       "      <th>811293</th>\n",
       "      <td>1</td>\n",
       "      <td>248935675</td>\n",
       "      <td>T</td>\n",
       "      <td>C</td>\n",
       "      <td>chr1_248935675_T_C</td>\n",
       "      <td>0.1627</td>\n",
       "      <td>0.3225</td>\n",
       "      <td>0.614100</td>\n",
       "      <td>0.0007</td>\n",
       "      <td>20301</td>\n",
       "      <td>21839</td>\n",
       "      <td>0.9993</td>\n",
       "    </tr>\n",
       "    <tr>\n",
       "      <th>811294</th>\n",
       "      <td>1</td>\n",
       "      <td>248936715</td>\n",
       "      <td>C</td>\n",
       "      <td>T</td>\n",
       "      <td>chr1_248936715_C_T</td>\n",
       "      <td>-0.0207</td>\n",
       "      <td>0.0552</td>\n",
       "      <td>0.707500</td>\n",
       "      <td>0.0065</td>\n",
       "      <td>83831</td>\n",
       "      <td>387691</td>\n",
       "      <td>0.0065</td>\n",
       "    </tr>\n",
       "    <tr>\n",
       "      <th>811295</th>\n",
       "      <td>1</td>\n",
       "      <td>248937246</td>\n",
       "      <td>A</td>\n",
       "      <td>G</td>\n",
       "      <td>chr1_248937246_A_G</td>\n",
       "      <td>0.1434</td>\n",
       "      <td>0.1920</td>\n",
       "      <td>0.455200</td>\n",
       "      <td>0.0012</td>\n",
       "      <td>76073</td>\n",
       "      <td>367064</td>\n",
       "      <td>0.9988</td>\n",
       "    </tr>\n",
       "    <tr>\n",
       "      <th>811296</th>\n",
       "      <td>1</td>\n",
       "      <td>248941807</td>\n",
       "      <td>AG</td>\n",
       "      <td>A</td>\n",
       "      <td>chr1_248941807_AG_A</td>\n",
       "      <td>0.0935</td>\n",
       "      <td>0.0850</td>\n",
       "      <td>0.271300</td>\n",
       "      <td>0.0067</td>\n",
       "      <td>71904</td>\n",
       "      <td>367415</td>\n",
       "      <td>0.0067</td>\n",
       "    </tr>\n",
       "  </tbody>\n",
       "</table>\n",
       "<p>811297 rows × 12 columns</p>\n",
       "</div>"
      ],
      "text/plain": [
       "        chromosome   position ref alt              variant    beta      se  \\\n",
       "0                1  100000223   C   T   chr1_100000223_C_T  0.1758  0.2049   \n",
       "1                1  100000723   G   A   chr1_100000723_G_A -0.0031  0.0134   \n",
       "2                1  100000874   G   T   chr1_100000874_G_T  0.2609  0.0749   \n",
       "3                1  100001444  AT   A  chr1_100001444_AT_A -0.0070  0.2303   \n",
       "4                1  100001756   T   C   chr1_100001756_T_C -0.0312  0.0344   \n",
       "...            ...        ...  ..  ..                  ...     ...     ...   \n",
       "811292           1  248934257   A   C   chr1_248934257_A_C -0.0051  0.0302   \n",
       "811293           1  248935675   T   C   chr1_248935675_T_C  0.1627  0.3225   \n",
       "811294           1  248936715   C   T   chr1_248936715_C_T -0.0207  0.0552   \n",
       "811295           1  248937246   A   G   chr1_248937246_A_G  0.1434  0.1920   \n",
       "811296           1  248941807  AG   A  chr1_248941807_AG_A  0.0935  0.0850   \n",
       "\n",
       "          pvalue     maf  n_cases  n_controls  \\\n",
       "0       0.391100  0.0011    69576      360279   \n",
       "1       0.817700  0.1023    85934      401577   \n",
       "2       0.000499  0.0038    83561      392587   \n",
       "3       0.975800  0.0009    26798       28624   \n",
       "4       0.364400  0.0145    85934      401577   \n",
       "...          ...     ...      ...         ...   \n",
       "811292  0.866400  0.0386    34556       49251   \n",
       "811293  0.614100  0.0007    20301       21839   \n",
       "811294  0.707500  0.0065    83831      387691   \n",
       "811295  0.455200  0.0012    76073      367064   \n",
       "811296  0.271300  0.0067    71904      367415   \n",
       "\n",
       "        original_effect_allele_frequency  \n",
       "0                                 0.0011  \n",
       "1                                 0.1023  \n",
       "2                                 0.0038  \n",
       "3                                 0.0009  \n",
       "4                                 0.9855  \n",
       "...                                  ...  \n",
       "811292                            0.9614  \n",
       "811293                            0.9993  \n",
       "811294                            0.0065  \n",
       "811295                            0.9988  \n",
       "811296                            0.0067  \n",
       "\n",
       "[811297 rows x 12 columns]"
      ]
     },
     "execution_count": 104,
     "metadata": {},
     "output_type": "execute_result"
    }
   ],
   "source": [
    "sumstat.sort_values(\"position\")"
   ]
  },
  {
   "cell_type": "code",
   "execution_count": 149,
   "id": "37601c47-f71b-44d7-a41c-37141b139bd5",
   "metadata": {},
   "outputs": [
    {
     "data": {
      "text/html": [
       "<div>\n",
       "<style scoped>\n",
       "    .dataframe tbody tr th:only-of-type {\n",
       "        vertical-align: middle;\n",
       "    }\n",
       "\n",
       "    .dataframe tbody tr th {\n",
       "        vertical-align: top;\n",
       "    }\n",
       "\n",
       "    .dataframe thead th {\n",
       "        text-align: right;\n",
       "    }\n",
       "</style>\n",
       "<table border=\"1\" class=\"dataframe\">\n",
       "  <thead>\n",
       "    <tr style=\"text-align: right;\">\n",
       "      <th></th>\n",
       "      <th>chromosome</th>\n",
       "      <th>position</th>\n",
       "      <th>ref</th>\n",
       "      <th>alt</th>\n",
       "      <th>variant</th>\n",
       "      <th>beta</th>\n",
       "      <th>se</th>\n",
       "      <th>pvalue</th>\n",
       "      <th>maf</th>\n",
       "      <th>n_cases</th>\n",
       "      <th>n_controls</th>\n",
       "      <th>original_effect_allele_frequency</th>\n",
       "    </tr>\n",
       "  </thead>\n",
       "  <tbody>\n",
       "    <tr>\n",
       "      <th>0</th>\n",
       "      <td>1</td>\n",
       "      <td>594445</td>\n",
       "      <td>C</td>\n",
       "      <td>T</td>\n",
       "      <td>chr1_594445_C_T</td>\n",
       "      <td>-0.0152</td>\n",
       "      <td>0.3236</td>\n",
       "      <td>0.9626</td>\n",
       "      <td>0.0006</td>\n",
       "      <td>20301</td>\n",
       "      <td>21839</td>\n",
       "      <td>0.0006</td>\n",
       "    </tr>\n",
       "    <tr>\n",
       "      <th>1</th>\n",
       "      <td>1</td>\n",
       "      <td>595762</td>\n",
       "      <td>C</td>\n",
       "      <td>CTG</td>\n",
       "      <td>chr1_595762_C_CTG</td>\n",
       "      <td>-0.2494</td>\n",
       "      <td>0.2247</td>\n",
       "      <td>0.2670</td>\n",
       "      <td>0.0014</td>\n",
       "      <td>26798</td>\n",
       "      <td>28624</td>\n",
       "      <td>0.9986</td>\n",
       "    </tr>\n",
       "    <tr>\n",
       "      <th>2</th>\n",
       "      <td>1</td>\n",
       "      <td>630947</td>\n",
       "      <td>G</td>\n",
       "      <td>A</td>\n",
       "      <td>chr1_630947_G_A</td>\n",
       "      <td>0.0975</td>\n",
       "      <td>0.4320</td>\n",
       "      <td>0.8214</td>\n",
       "      <td>0.0003</td>\n",
       "      <td>20301</td>\n",
       "      <td>21839</td>\n",
       "      <td>0.0003</td>\n",
       "    </tr>\n",
       "    <tr>\n",
       "      <th>3</th>\n",
       "      <td>1</td>\n",
       "      <td>646157</td>\n",
       "      <td>G</td>\n",
       "      <td>A</td>\n",
       "      <td>chr1_646157_G_A</td>\n",
       "      <td>-0.3028</td>\n",
       "      <td>0.3180</td>\n",
       "      <td>0.3411</td>\n",
       "      <td>0.0013</td>\n",
       "      <td>20301</td>\n",
       "      <td>21839</td>\n",
       "      <td>0.0013</td>\n",
       "    </tr>\n",
       "    <tr>\n",
       "      <th>4</th>\n",
       "      <td>1</td>\n",
       "      <td>727233</td>\n",
       "      <td>G</td>\n",
       "      <td>A</td>\n",
       "      <td>chr1_727233_G_A</td>\n",
       "      <td>-0.0210</td>\n",
       "      <td>0.0453</td>\n",
       "      <td>0.6424</td>\n",
       "      <td>0.0191</td>\n",
       "      <td>81166</td>\n",
       "      <td>386644</td>\n",
       "      <td>0.0191</td>\n",
       "    </tr>\n",
       "    <tr>\n",
       "      <th>...</th>\n",
       "      <td>...</td>\n",
       "      <td>...</td>\n",
       "      <td>...</td>\n",
       "      <td>...</td>\n",
       "      <td>...</td>\n",
       "      <td>...</td>\n",
       "      <td>...</td>\n",
       "      <td>...</td>\n",
       "      <td>...</td>\n",
       "      <td>...</td>\n",
       "      <td>...</td>\n",
       "      <td>...</td>\n",
       "    </tr>\n",
       "    <tr>\n",
       "      <th>1451875</th>\n",
       "      <td>1</td>\n",
       "      <td>248934257</td>\n",
       "      <td>A</td>\n",
       "      <td>C</td>\n",
       "      <td>chr1_248934257_A_C</td>\n",
       "      <td>-0.0051</td>\n",
       "      <td>0.0302</td>\n",
       "      <td>0.8664</td>\n",
       "      <td>0.0386</td>\n",
       "      <td>34556</td>\n",
       "      <td>49251</td>\n",
       "      <td>0.9614</td>\n",
       "    </tr>\n",
       "    <tr>\n",
       "      <th>1451876</th>\n",
       "      <td>1</td>\n",
       "      <td>248935675</td>\n",
       "      <td>T</td>\n",
       "      <td>C</td>\n",
       "      <td>chr1_248935675_T_C</td>\n",
       "      <td>0.1627</td>\n",
       "      <td>0.3225</td>\n",
       "      <td>0.6141</td>\n",
       "      <td>0.0007</td>\n",
       "      <td>20301</td>\n",
       "      <td>21839</td>\n",
       "      <td>0.9993</td>\n",
       "    </tr>\n",
       "    <tr>\n",
       "      <th>1451877</th>\n",
       "      <td>1</td>\n",
       "      <td>248936715</td>\n",
       "      <td>C</td>\n",
       "      <td>T</td>\n",
       "      <td>chr1_248936715_C_T</td>\n",
       "      <td>-0.0207</td>\n",
       "      <td>0.0552</td>\n",
       "      <td>0.7075</td>\n",
       "      <td>0.0065</td>\n",
       "      <td>83831</td>\n",
       "      <td>387691</td>\n",
       "      <td>0.0065</td>\n",
       "    </tr>\n",
       "    <tr>\n",
       "      <th>1451878</th>\n",
       "      <td>1</td>\n",
       "      <td>248937246</td>\n",
       "      <td>A</td>\n",
       "      <td>G</td>\n",
       "      <td>chr1_248937246_A_G</td>\n",
       "      <td>0.1434</td>\n",
       "      <td>0.1920</td>\n",
       "      <td>0.4552</td>\n",
       "      <td>0.0012</td>\n",
       "      <td>76073</td>\n",
       "      <td>367064</td>\n",
       "      <td>0.9988</td>\n",
       "    </tr>\n",
       "    <tr>\n",
       "      <th>1451879</th>\n",
       "      <td>1</td>\n",
       "      <td>248941807</td>\n",
       "      <td>AG</td>\n",
       "      <td>A</td>\n",
       "      <td>chr1_248941807_AG_A</td>\n",
       "      <td>0.0935</td>\n",
       "      <td>0.0850</td>\n",
       "      <td>0.2713</td>\n",
       "      <td>0.0067</td>\n",
       "      <td>71904</td>\n",
       "      <td>367415</td>\n",
       "      <td>0.0067</td>\n",
       "    </tr>\n",
       "  </tbody>\n",
       "</table>\n",
       "<p>1451880 rows × 12 columns</p>\n",
       "</div>"
      ],
      "text/plain": [
       "         chromosome   position ref  alt              variant    beta      se  \\\n",
       "0                 1     594445   C    T      chr1_594445_C_T -0.0152  0.3236   \n",
       "1                 1     595762   C  CTG    chr1_595762_C_CTG -0.2494  0.2247   \n",
       "2                 1     630947   G    A      chr1_630947_G_A  0.0975  0.4320   \n",
       "3                 1     646157   G    A      chr1_646157_G_A -0.3028  0.3180   \n",
       "4                 1     727233   G    A      chr1_727233_G_A -0.0210  0.0453   \n",
       "...             ...        ...  ..  ...                  ...     ...     ...   \n",
       "1451875           1  248934257   A    C   chr1_248934257_A_C -0.0051  0.0302   \n",
       "1451876           1  248935675   T    C   chr1_248935675_T_C  0.1627  0.3225   \n",
       "1451877           1  248936715   C    T   chr1_248936715_C_T -0.0207  0.0552   \n",
       "1451878           1  248937246   A    G   chr1_248937246_A_G  0.1434  0.1920   \n",
       "1451879           1  248941807  AG    A  chr1_248941807_AG_A  0.0935  0.0850   \n",
       "\n",
       "         pvalue     maf  n_cases  n_controls  original_effect_allele_frequency  \n",
       "0        0.9626  0.0006    20301       21839                            0.0006  \n",
       "1        0.2670  0.0014    26798       28624                            0.9986  \n",
       "2        0.8214  0.0003    20301       21839                            0.0003  \n",
       "3        0.3411  0.0013    20301       21839                            0.0013  \n",
       "4        0.6424  0.0191    81166      386644                            0.0191  \n",
       "...         ...     ...      ...         ...                               ...  \n",
       "1451875  0.8664  0.0386    34556       49251                            0.9614  \n",
       "1451876  0.6141  0.0007    20301       21839                            0.9993  \n",
       "1451877  0.7075  0.0065    83831      387691                            0.0065  \n",
       "1451878  0.4552  0.0012    76073      367064                            0.9988  \n",
       "1451879  0.2713  0.0067    71904      367415                            0.0067  \n",
       "\n",
       "[1451880 rows x 12 columns]"
      ]
     },
     "execution_count": 149,
     "metadata": {},
     "output_type": "execute_result"
    }
   ],
   "source": [
    "sumstat"
   ]
  },
  {
   "cell_type": "code",
   "execution_count": 176,
   "id": "e4221c7b-7c86-4dda-8fa3-b60eb08778d5",
   "metadata": {},
   "outputs": [
    {
     "data": {
      "text/html": [
       "<div>\n",
       "<style scoped>\n",
       "    .dataframe tbody tr th:only-of-type {\n",
       "        vertical-align: middle;\n",
       "    }\n",
       "\n",
       "    .dataframe tbody tr th {\n",
       "        vertical-align: top;\n",
       "    }\n",
       "\n",
       "    .dataframe thead th {\n",
       "        text-align: right;\n",
       "    }\n",
       "</style>\n",
       "<table border=\"1\" class=\"dataframe\">\n",
       "  <thead>\n",
       "    <tr style=\"text-align: right;\">\n",
       "      <th></th>\n",
       "      <th>chromosome</th>\n",
       "      <th>position</th>\n",
       "      <th>ref</th>\n",
       "      <th>alt</th>\n",
       "      <th>variant</th>\n",
       "      <th>beta</th>\n",
       "      <th>se</th>\n",
       "      <th>pvalue</th>\n",
       "      <th>maf</th>\n",
       "      <th>n_cases</th>\n",
       "      <th>n_controls</th>\n",
       "      <th>original_effect_allele_frequency</th>\n",
       "      <th>lbf</th>\n",
       "      <th>prob</th>\n",
       "      <th>cs</th>\n",
       "      <th>cs_99</th>\n",
       "    </tr>\n",
       "  </thead>\n",
       "  <tbody>\n",
       "    <tr>\n",
       "      <th>4</th>\n",
       "      <td>1</td>\n",
       "      <td>727233</td>\n",
       "      <td>G</td>\n",
       "      <td>A</td>\n",
       "      <td>chr1_727233_G_A</td>\n",
       "      <td>-0.0210</td>\n",
       "      <td>0.0453</td>\n",
       "      <td>0.6424</td>\n",
       "      <td>0.0191</td>\n",
       "      <td>81166</td>\n",
       "      <td>386644</td>\n",
       "      <td>0.0191</td>\n",
       "      <td>-1.407817</td>\n",
       "      <td>9.027621e-32</td>\n",
       "      <td>False</td>\n",
       "      <td>False</td>\n",
       "    </tr>\n",
       "    <tr>\n",
       "      <th>9</th>\n",
       "      <td>1</td>\n",
       "      <td>733014</td>\n",
       "      <td>AG</td>\n",
       "      <td>A</td>\n",
       "      <td>chr1_733014_AG_A</td>\n",
       "      <td>0.0108</td>\n",
       "      <td>0.0413</td>\n",
       "      <td>0.7935</td>\n",
       "      <td>0.0267</td>\n",
       "      <td>78401</td>\n",
       "      <td>374200</td>\n",
       "      <td>0.0267</td>\n",
       "      <td>-1.565541</td>\n",
       "      <td>7.710363e-32</td>\n",
       "      <td>False</td>\n",
       "      <td>False</td>\n",
       "    </tr>\n",
       "    <tr>\n",
       "      <th>13</th>\n",
       "      <td>1</td>\n",
       "      <td>758213</td>\n",
       "      <td>AT</td>\n",
       "      <td>A</td>\n",
       "      <td>chr1_758213_AT_A</td>\n",
       "      <td>0.1318</td>\n",
       "      <td>0.1069</td>\n",
       "      <td>0.2173</td>\n",
       "      <td>0.0038</td>\n",
       "      <td>79473</td>\n",
       "      <td>380718</td>\n",
       "      <td>0.0038</td>\n",
       "      <td>-0.160906</td>\n",
       "      <td>3.141232e-31</td>\n",
       "      <td>False</td>\n",
       "      <td>False</td>\n",
       "    </tr>\n",
       "    <tr>\n",
       "      <th>16</th>\n",
       "      <td>1</td>\n",
       "      <td>758540</td>\n",
       "      <td>T</td>\n",
       "      <td>C</td>\n",
       "      <td>chr1_758540_T_C</td>\n",
       "      <td>0.0429</td>\n",
       "      <td>0.1113</td>\n",
       "      <td>0.6996</td>\n",
       "      <td>0.0040</td>\n",
       "      <td>77766</td>\n",
       "      <td>372990</td>\n",
       "      <td>0.9960</td>\n",
       "      <td>-0.664266</td>\n",
       "      <td>1.898863e-31</td>\n",
       "      <td>False</td>\n",
       "      <td>False</td>\n",
       "    </tr>\n",
       "    <tr>\n",
       "      <th>19</th>\n",
       "      <td>1</td>\n",
       "      <td>766399</td>\n",
       "      <td>GAATA</td>\n",
       "      <td>G</td>\n",
       "      <td>chr1_766399_GAATA_G</td>\n",
       "      <td>0.0055</td>\n",
       "      <td>0.0249</td>\n",
       "      <td>0.8246</td>\n",
       "      <td>0.0678</td>\n",
       "      <td>80801</td>\n",
       "      <td>380538</td>\n",
       "      <td>0.0678</td>\n",
       "      <td>-2.067118</td>\n",
       "      <td>4.669203e-32</td>\n",
       "      <td>False</td>\n",
       "      <td>False</td>\n",
       "    </tr>\n",
       "    <tr>\n",
       "      <th>...</th>\n",
       "      <td>...</td>\n",
       "      <td>...</td>\n",
       "      <td>...</td>\n",
       "      <td>...</td>\n",
       "      <td>...</td>\n",
       "      <td>...</td>\n",
       "      <td>...</td>\n",
       "      <td>...</td>\n",
       "      <td>...</td>\n",
       "      <td>...</td>\n",
       "      <td>...</td>\n",
       "      <td>...</td>\n",
       "      <td>...</td>\n",
       "      <td>...</td>\n",
       "      <td>...</td>\n",
       "      <td>...</td>\n",
       "    </tr>\n",
       "    <tr>\n",
       "      <th>15105</th>\n",
       "      <td>1</td>\n",
       "      <td>2886544</td>\n",
       "      <td>G</td>\n",
       "      <td>A</td>\n",
       "      <td>chr1_2886544_G_A</td>\n",
       "      <td>0.0071</td>\n",
       "      <td>0.0451</td>\n",
       "      <td>0.8746</td>\n",
       "      <td>0.0110</td>\n",
       "      <td>85502</td>\n",
       "      <td>400497</td>\n",
       "      <td>0.0110</td>\n",
       "      <td>-1.502443</td>\n",
       "      <td>8.212549e-32</td>\n",
       "      <td>False</td>\n",
       "      <td>False</td>\n",
       "    </tr>\n",
       "    <tr>\n",
       "      <th>15109</th>\n",
       "      <td>1</td>\n",
       "      <td>2887241</td>\n",
       "      <td>C</td>\n",
       "      <td>T</td>\n",
       "      <td>chr1_2887241_C_T</td>\n",
       "      <td>-0.0055</td>\n",
       "      <td>0.0090</td>\n",
       "      <td>0.5417</td>\n",
       "      <td>0.3818</td>\n",
       "      <td>84196</td>\n",
       "      <td>393797</td>\n",
       "      <td>0.3818</td>\n",
       "      <td>-2.915753</td>\n",
       "      <td>1.998412e-32</td>\n",
       "      <td>False</td>\n",
       "      <td>False</td>\n",
       "    </tr>\n",
       "    <tr>\n",
       "      <th>15114</th>\n",
       "      <td>1</td>\n",
       "      <td>2887908</td>\n",
       "      <td>T</td>\n",
       "      <td>C</td>\n",
       "      <td>chr1_2887908_T_C</td>\n",
       "      <td>-0.0194</td>\n",
       "      <td>0.0138</td>\n",
       "      <td>0.1594</td>\n",
       "      <td>0.1043</td>\n",
       "      <td>85665</td>\n",
       "      <td>400902</td>\n",
       "      <td>0.8957</td>\n",
       "      <td>-1.692573</td>\n",
       "      <td>6.790557e-32</td>\n",
       "      <td>False</td>\n",
       "      <td>False</td>\n",
       "    </tr>\n",
       "    <tr>\n",
       "      <th>15116</th>\n",
       "      <td>1</td>\n",
       "      <td>2887986</td>\n",
       "      <td>T</td>\n",
       "      <td>C</td>\n",
       "      <td>chr1_2887986_T_C</td>\n",
       "      <td>0.0809</td>\n",
       "      <td>0.1020</td>\n",
       "      <td>0.4275</td>\n",
       "      <td>0.0034</td>\n",
       "      <td>81503</td>\n",
       "      <td>380555</td>\n",
       "      <td>0.9966</td>\n",
       "      <td>-0.539330</td>\n",
       "      <td>2.151555e-31</td>\n",
       "      <td>False</td>\n",
       "      <td>False</td>\n",
       "    </tr>\n",
       "    <tr>\n",
       "      <th>15117</th>\n",
       "      <td>1</td>\n",
       "      <td>2888245</td>\n",
       "      <td>G</td>\n",
       "      <td>A</td>\n",
       "      <td>chr1_2888245_G_A</td>\n",
       "      <td>-0.0052</td>\n",
       "      <td>0.0144</td>\n",
       "      <td>0.7175</td>\n",
       "      <td>0.0979</td>\n",
       "      <td>85665</td>\n",
       "      <td>400902</td>\n",
       "      <td>0.0979</td>\n",
       "      <td>-2.568810</td>\n",
       "      <td>2.827226e-32</td>\n",
       "      <td>False</td>\n",
       "      <td>False</td>\n",
       "    </tr>\n",
       "  </tbody>\n",
       "</table>\n",
       "<p>6668 rows × 16 columns</p>\n",
       "</div>"
      ],
      "text/plain": [
       "       chromosome  position    ref alt              variant    beta      se  \\\n",
       "4               1    727233      G   A      chr1_727233_G_A -0.0210  0.0453   \n",
       "9               1    733014     AG   A     chr1_733014_AG_A  0.0108  0.0413   \n",
       "13              1    758213     AT   A     chr1_758213_AT_A  0.1318  0.1069   \n",
       "16              1    758540      T   C      chr1_758540_T_C  0.0429  0.1113   \n",
       "19              1    766399  GAATA   G  chr1_766399_GAATA_G  0.0055  0.0249   \n",
       "...           ...       ...    ...  ..                  ...     ...     ...   \n",
       "15105           1   2886544      G   A     chr1_2886544_G_A  0.0071  0.0451   \n",
       "15109           1   2887241      C   T     chr1_2887241_C_T -0.0055  0.0090   \n",
       "15114           1   2887908      T   C     chr1_2887908_T_C -0.0194  0.0138   \n",
       "15116           1   2887986      T   C     chr1_2887986_T_C  0.0809  0.1020   \n",
       "15117           1   2888245      G   A     chr1_2888245_G_A -0.0052  0.0144   \n",
       "\n",
       "       pvalue     maf  n_cases  n_controls  original_effect_allele_frequency  \\\n",
       "4      0.6424  0.0191    81166      386644                            0.0191   \n",
       "9      0.7935  0.0267    78401      374200                            0.0267   \n",
       "13     0.2173  0.0038    79473      380718                            0.0038   \n",
       "16     0.6996  0.0040    77766      372990                            0.9960   \n",
       "19     0.8246  0.0678    80801      380538                            0.0678   \n",
       "...       ...     ...      ...         ...                               ...   \n",
       "15105  0.8746  0.0110    85502      400497                            0.0110   \n",
       "15109  0.5417  0.3818    84196      393797                            0.3818   \n",
       "15114  0.1594  0.1043    85665      400902                            0.8957   \n",
       "15116  0.4275  0.0034    81503      380555                            0.9966   \n",
       "15117  0.7175  0.0979    85665      400902                            0.0979   \n",
       "\n",
       "            lbf          prob     cs  cs_99  \n",
       "4     -1.407817  9.027621e-32  False  False  \n",
       "9     -1.565541  7.710363e-32  False  False  \n",
       "13    -0.160906  3.141232e-31  False  False  \n",
       "16    -0.664266  1.898863e-31  False  False  \n",
       "19    -2.067118  4.669203e-32  False  False  \n",
       "...         ...           ...    ...    ...  \n",
       "15105 -1.502443  8.212549e-32  False  False  \n",
       "15109 -2.915753  1.998412e-32  False  False  \n",
       "15114 -1.692573  6.790557e-32  False  False  \n",
       "15116 -0.539330  2.151555e-31  False  False  \n",
       "15117 -2.568810  2.827226e-32  False  False  \n",
       "\n",
       "[6668 rows x 16 columns]"
      ]
     },
     "execution_count": 176,
     "metadata": {},
     "output_type": "execute_result"
    }
   ],
   "source": [
    "sumstat.query(\"variant in @a\")"
   ]
  },
  {
   "cell_type": "code",
   "execution_count": 172,
   "id": "edd1e436-fd2e-4713-b6ee-730112a93df3",
   "metadata": {},
   "outputs": [
    {
     "data": {
      "text/plain": [
       "15423"
      ]
     },
     "execution_count": 172,
     "metadata": {},
     "output_type": "execute_result"
    }
   ],
   "source": [
    "len(new)"
   ]
  },
  {
   "cell_type": "code",
   "execution_count": 174,
   "id": "6312d8f1-543c-43c4-8342-94f2bfc416f3",
   "metadata": {},
   "outputs": [
    {
     "data": {
      "text/plain": [
       "15423"
      ]
     },
     "execution_count": 174,
     "metadata": {},
     "output_type": "execute_result"
    }
   ],
   "source": [
    "len(snp_id)"
   ]
  },
  {
   "cell_type": "code",
   "execution_count": 175,
   "id": "6a1f8a6e-51c2-47be-bc49-9a28a3e2b32a",
   "metadata": {},
   "outputs": [
    {
     "data": {
      "text/plain": [
       "1451880"
      ]
     },
     "execution_count": 175,
     "metadata": {},
     "output_type": "execute_result"
    }
   ],
   "source": [
    "len(sumstat)"
   ]
  },
  {
   "cell_type": "code",
   "execution_count": 209,
   "id": "58bc7361-bff0-43b7-94b8-8703b9194beb",
   "metadata": {},
   "outputs": [],
   "source": [
    "LD = new"
   ]
  },
  {
   "cell_type": "code",
   "execution_count": 212,
   "id": "0b14877e-beef-4155-a565-3a565bcadec9",
   "metadata": {},
   "outputs": [
    {
     "data": {
      "text/plain": [
       "(6668, 6668)"
      ]
     },
     "execution_count": 212,
     "metadata": {},
     "output_type": "execute_result"
    }
   ],
   "source": [
    "np.shape(LD)"
   ]
  },
  {
   "cell_type": "code",
   "execution_count": 178,
   "id": "ab5601bc-c905-493e-bcb8-b78b6e8c8bb2",
   "metadata": {},
   "outputs": [],
   "source": [
    "intersct = np.intersect1d(sumstat.variant.to_numpy(),snp_id)\n",
    "sumstat = sumstat.query(\"variant in @intersct\")\n",
    "indice = np.where(np.in1d(snp_id, intersct))\n",
    "LD[np.ix_(indice[0].tolist(), indice[0].tolist())]"
   ]
  },
  {
   "cell_type": "code",
   "execution_count": 238,
   "id": "dac73375-3c14-4758-ba70-a7b9168f5490",
   "metadata": {},
   "outputs": [],
   "source": [
    "sumstat[\"r\"] = [LD[np.where(np.in1d(intersct,lead_variant))][:,np.where(np.in1d(intersct,x))][0][0][0] for x in sumstat.variant]"
   ]
  },
  {
   "cell_type": "code",
   "execution_count": 240,
   "id": "1820a18b-d0f5-477c-984f-72ee03d7ff2b",
   "metadata": {},
   "outputs": [
    {
     "data": {
      "text/html": [
       "<div>\n",
       "<style scoped>\n",
       "    .dataframe tbody tr th:only-of-type {\n",
       "        vertical-align: middle;\n",
       "    }\n",
       "\n",
       "    .dataframe tbody tr th {\n",
       "        vertical-align: top;\n",
       "    }\n",
       "\n",
       "    .dataframe thead th {\n",
       "        text-align: right;\n",
       "    }\n",
       "</style>\n",
       "<table border=\"1\" class=\"dataframe\">\n",
       "  <thead>\n",
       "    <tr style=\"text-align: right;\">\n",
       "      <th></th>\n",
       "      <th>chromosome</th>\n",
       "      <th>position</th>\n",
       "      <th>ref</th>\n",
       "      <th>alt</th>\n",
       "      <th>variant</th>\n",
       "      <th>beta</th>\n",
       "      <th>se</th>\n",
       "      <th>pvalue</th>\n",
       "      <th>maf</th>\n",
       "      <th>n_cases</th>\n",
       "      <th>n_controls</th>\n",
       "      <th>original_effect_allele_frequency</th>\n",
       "      <th>lbf</th>\n",
       "      <th>prob</th>\n",
       "      <th>cs</th>\n",
       "      <th>cs_99</th>\n",
       "      <th>r</th>\n",
       "    </tr>\n",
       "  </thead>\n",
       "  <tbody>\n",
       "    <tr>\n",
       "      <th>1385</th>\n",
       "      <td>1</td>\n",
       "      <td>1000335</td>\n",
       "      <td>C</td>\n",
       "      <td>T</td>\n",
       "      <td>chr1_1000335_C_T</td>\n",
       "      <td>-0.0241</td>\n",
       "      <td>0.0106</td>\n",
       "      <td>0.02273</td>\n",
       "      <td>0.2123</td>\n",
       "      <td>82635</td>\n",
       "      <td>393749</td>\n",
       "      <td>0.2123</td>\n",
       "      <td>-0.361512</td>\n",
       "      <td>2.570266e-31</td>\n",
       "      <td>False</td>\n",
       "      <td>False</td>\n",
       "      <td>1.0</td>\n",
       "    </tr>\n",
       "  </tbody>\n",
       "</table>\n",
       "</div>"
      ],
      "text/plain": [
       "      chromosome  position ref alt           variant    beta      se   pvalue  \\\n",
       "1385           1   1000335   C   T  chr1_1000335_C_T -0.0241  0.0106  0.02273   \n",
       "\n",
       "         maf  n_cases  n_controls  original_effect_allele_frequency       lbf  \\\n",
       "1385  0.2123    82635      393749                            0.2123 -0.361512   \n",
       "\n",
       "              prob     cs  cs_99    r  \n",
       "1385  2.570266e-31  False  False  1.0  "
      ]
     },
     "execution_count": 240,
     "metadata": {},
     "output_type": "execute_result"
    }
   ],
   "source": [
    "sumstat.query('variant == @lead_variant')"
   ]
  },
  {
   "cell_type": "code",
   "execution_count": 191,
   "id": "7152b838-530c-454d-ae4c-898bedcf839c",
   "metadata": {},
   "outputs": [
    {
     "data": {
      "text/plain": [
       "array([[[-1.4275e-02, -1.4275e-02,  4.0283e-02, ..., -1.5640e-02,\n",
       "         -1.2062e-02,  5.0903e-02],\n",
       "        [-1.6953e-02, -1.6953e-02,  2.8625e-02, ..., -2.0081e-02,\n",
       "         -1.4320e-02,  1.1177e-02],\n",
       "        [-6.1226e-03, -6.1226e-03, -6.7329e-03, ...,  8.5083e-02,\n",
       "         -5.1727e-03,  3.3356e-02],\n",
       "        ...,\n",
       "        [ 2.7790e-03, -2.9465e-02, -2.9564e-03, ..., -3.4882e-02,\n",
       "          2.3479e-03,  9.0967e-01],\n",
       "        [-5.1270e-03, -5.1270e-03, -5.6381e-03, ...,  1.0000e+00,\n",
       "         -4.3297e-03, -3.3295e-02],\n",
       "        [ 5.5084e-03, -2.8122e-02, -2.1267e-04, ..., -3.3295e-02,\n",
       "          4.6539e-03,  1.0000e+00]]], dtype=float16)"
      ]
     },
     "execution_count": 191,
     "metadata": {},
     "output_type": "execute_result"
    }
   ],
   "source": [
    "LD[indice,:]"
   ]
  },
  {
   "cell_type": "code",
   "execution_count": 211,
   "id": "e70dafcf-b1a5-48c9-95cd-2571b576d40e",
   "metadata": {},
   "outputs": [],
   "source": [
    "LD = LD[np.ix_(indice[0].tolist(), indice[0].tolist())]"
   ]
  },
  {
   "cell_type": "code",
   "execution_count": 229,
   "id": "e4d770cc-14ca-4cc9-a5b6-f4f77634d510",
   "metadata": {},
   "outputs": [],
   "source": [
    "sumstat = sumstat.query(\"variant in @intersct\")"
   ]
  },
  {
   "cell_type": "code",
   "execution_count": 195,
   "id": "f0ded6e1-b968-498d-9583-16a0e68b1737",
   "metadata": {},
   "outputs": [
    {
     "ename": "AttributeError",
     "evalue": "'tuple' object has no attribute 'values'",
     "output_type": "error",
     "traceback": [
      "\u001b[0;31m---------------------------------------------------------------------------\u001b[0m",
      "\u001b[0;31mAttributeError\u001b[0m                            Traceback (most recent call last)",
      "\u001b[0;32m/tmp/3229975.1.plot.q/ipykernel_13455/753346537.py\u001b[0m in \u001b[0;36m<module>\u001b[0;34m\u001b[0m\n\u001b[0;32m----> 1\u001b[0;31m \u001b[0mnp\u001b[0m\u001b[0;34m.\u001b[0m\u001b[0mix_\u001b[0m\u001b[0;34m(\u001b[0m\u001b[0mindice\u001b[0m\u001b[0;34m.\u001b[0m\u001b[0mvalues\u001b[0m\u001b[0;34m,\u001b[0m \u001b[0mindice\u001b[0m\u001b[0;34m)\u001b[0m\u001b[0;34m\u001b[0m\u001b[0;34m\u001b[0m\u001b[0m\n\u001b[0m",
      "\u001b[0;31mAttributeError\u001b[0m: 'tuple' object has no attribute 'values'"
     ]
    }
   ],
   "source": [
    "np.ix_(indice.values, indice)"
   ]
  },
  {
   "cell_type": "code",
   "execution_count": 140,
   "id": "5fe43f62-9fc0-4f55-befa-8dcbc8266c40",
   "metadata": {},
   "outputs": [],
   "source": [
    "where = np.where(np.in1d(snp_id, a))\n",
    "new[where,where]"
   ]
  },
  {
   "cell_type": "code",
   "execution_count": 138,
   "id": "cfa3032d-91ad-42ce-85cb-b82e1eca571d",
   "metadata": {},
   "outputs": [],
   "source": [
    "snp_id = [x.replace(\":\",\"_\") for x in snp_id]"
   ]
  },
  {
   "cell_type": "code",
   "execution_count": null,
   "id": "aaeb1c93-2e58-494c-8be0-dbe5b8f3f7df",
   "metadata": {},
   "outputs": [],
   "source": [
    "    hl._set_flags(no_whole_stage_codegen=\"1\")\n",
    "    reference_genome = args.reference_genome\n",
    "    gnomad_version = gnomad_latest_versions[reference_genome]\n",
    "    gnomad_ht_path = f\"gs://finucane-requester-pays/slalom/gnomad/release/{gnomad_version}/ht/genomes/gnomad.genomes.r{gnomad_version}.sites.most_severe.ht\"\n",
    "\n",
    "    ht_snp = hl.import_table(args.snp, impute=True, types={\"chromosome\": hl.tstr}, delimiter=\"\\s+\")\n",
    "    ht_snp = ht_snp.annotate(\n",
    "        locus=hl.parse_locus(\n",
    "            hl.delimit([ht_snp.chromosome, hl.str(ht_snp.position)], delimiter=\":\"), reference_genome=reference_genome\n",
    "        ),\n",
    "        alleles=[ht_snp.allele1, ht_snp.allele2],\n",
    "    )\n",
    "    if args.align_alleles:\n",
    "        ht_gnomad = hl.read_table(gnomad_ht_path)\n",
    "        ht_snp = align_alleles(ht_snp, ht_gnomad, flip_rows=[\"beta\"])\n",
    "\n",
    "    ht_snp = ht_snp.annotate(variant=hl.variant_str(ht_snp.locus, ht_snp.alleles))\n",
    "    ht_snp = ht_snp.key_by(\"locus\", \"alleles\")\n",
    "    ht_snp = ht_snp.add_index(\"idx_snp\")\n",
    "\n",
    "    # annotate in novel CUPs and reject\n",
    "    cup = hl.read_table(f\"gs://finucane-requester-pays/slalom/cup_files/FASTA_BED.ALL_{reference_genome}.novel_CUPs.ht\")\n",
    "    reject = hl.read_table(\n",
    "        f\"gs://finucane-requester-pays/slalom/cup_files/FASTA_BED.ALL_{reference_genome}.reject_2.ht\"\n",
    "    )\n",
    "    ht_snp = ht_snp.annotate(in_cups=hl.is_defined(cup[ht_snp.locus]) | hl.is_defined(reject[ht_snp.locus]))\n",
    "\n",
    "    # annotate vep and freq\n",
    "    if args.annotate_consequence or args.annotate_gnomad_freq:\n",
    "        ht_gnomad = hl.read_table(gnomad_ht_path)\n",
    "        consequences = [\"most_severe\", \"gene_most_severe\", \"consequence\"] if args.annotate_consequence else []\n",
    "        freq_expr = (\n",
    "            {f\"gnomad_v{gnomad_version[0]}_af_{pop}\": ht_gnomad.freq[pop].AF for pop in gnomad_pops[reference_genome]}\n",
    "            if args.annotate_gnomad_freq\n",
    "            else {}\n",
    "        )\n",
    "        ht_gnomad = ht_gnomad.select(*consequences, **freq_expr)\n",
    "        ht_snp = ht_snp.join(ht_gnomad, how=\"left\")\n",
    "    ht_snp = ht_snp.checkpoint(new_temp_file())\n"
   ]
  },
  {
   "cell_type": "code",
   "execution_count": 226,
   "id": "c6e761bd-bebe-4a92-82f6-3ff81735b067",
   "metadata": {},
   "outputs": [
    {
     "data": {
      "text/plain": [
       "array([[ 0.007248,  1.      , -0.02397 , ...,  0.01753 , -0.02008 ,\n",
       "         0.01118 ]], dtype=float16)"
      ]
     },
     "execution_count": 226,
     "metadata": {},
     "output_type": "execute_result"
    }
   ],
   "source": [
    "LD[np.where(np.in1d(intersct,lead_variant))]"
   ]
  },
  {
   "cell_type": "code",
   "execution_count": 228,
   "id": "91e44b9c-7f8d-4450-b07b-d491bbb52053",
   "metadata": {},
   "outputs": [
    {
     "data": {
      "text/plain": [
       "4            chr1_727233_G_A\n",
       "9           chr1_733014_AG_A\n",
       "13          chr1_758213_AT_A\n",
       "16           chr1_758540_T_C\n",
       "19       chr1_766399_GAATA_G\n",
       "                ...         \n",
       "15105       chr1_2886544_G_A\n",
       "15109       chr1_2887241_C_T\n",
       "15114       chr1_2887908_T_C\n",
       "15116       chr1_2887986_T_C\n",
       "15117       chr1_2888245_G_A\n",
       "Name: variant, Length: 6668, dtype: object"
      ]
     },
     "execution_count": 228,
     "metadata": {},
     "output_type": "execute_result"
    }
   ],
   "source": [
    "sumstat.variant"
   ]
  },
  {
   "cell_type": "code",
   "execution_count": 224,
   "id": "3a819b2b-ca7c-4a9c-b9c6-1dc097870d84",
   "metadata": {},
   "outputs": [],
   "source": [
    "\n",
    "lead_variant = \"chr1_1000335_C_T\"\n"
   ]
  },
  {
   "cell_type": "code",
   "execution_count": 218,
   "id": "44c44977-78d0-4588-8362-9e6ffb5ccb89",
   "metadata": {},
   "outputs": [
    {
     "data": {
      "text/plain": [
       "array(['chr1_1000018_G_A', 'chr1_1000335_C_T', 'chr1_1001034_G_A', ...,\n",
       "       'chr1_998364_C_T', 'chr1_999005_G_A', 'chr1_999842_C_A'],\n",
       "      dtype=object)"
      ]
     },
     "execution_count": 218,
     "metadata": {},
     "output_type": "execute_result"
    }
   ],
   "source": [
    "intersct"
   ]
  },
  {
   "cell_type": "code",
   "execution_count": null,
   "id": "5f51d661-69eb-4df2-9f7c-be1219cd9b7d",
   "metadata": {},
   "outputs": [],
   "source": [
    "import scipy as sp"
   ]
  },
  {
   "cell_type": "code",
   "execution_count": 155,
   "id": "4f1d7743-ac18-41c9-a5b8-9916992328d9",
   "metadata": {},
   "outputs": [],
   "source": [
    "lbf, prob = abf(sumstat.beta, sumstat.se)\n",
    "sumstat[\"lbf\"] = lbf\n",
    "sumstat[\"prob\"] = prob\n",
    "sumstat[\"cs\"] = sumstat.variant.isin(cs)\n",
    "cs_99 = get_cs(sumstat.variant, prob, coverage=0.99)\n",
    "sumstat[\"cs_99\"] = sumstat.variant.isin(cs_99)"
   ]
  },
  {
   "cell_type": "code",
   "execution_count": 158,
   "id": "5010550f-121f-4d56-80c9-a84cff8b99bf",
   "metadata": {},
   "outputs": [],
   "source": [
    "cs = get_cs(sumstat.variant, prob, coverage=0.95)\n"
   ]
  },
  {
   "cell_type": "code",
   "execution_count": 166,
   "id": "6a72301e-37af-433a-b4f2-0cef014e9f4d",
   "metadata": {},
   "outputs": [],
   "source": [
    "lead_idx_snp = sumstat.prob.idxmax()"
   ]
  },
  {
   "cell_type": "code",
   "execution_count": 168,
   "id": "cca96165-29a1-4eaa-91db-5dd032fd117c",
   "metadata": {},
   "outputs": [
    {
     "data": {
      "text/plain": [
       "0.5219822472224083"
      ]
     },
     "execution_count": 168,
     "metadata": {},
     "output_type": "execute_result"
    }
   ],
   "source": [
    "sumstat.prob.max()"
   ]
  },
  {
   "cell_type": "code",
   "execution_count": 167,
   "id": "2c0a82e9-3930-493d-985d-01ef440453b4",
   "metadata": {},
   "outputs": [
    {
     "data": {
      "text/plain": [
       "1164649"
      ]
     },
     "execution_count": 167,
     "metadata": {},
     "output_type": "execute_result"
    }
   ],
   "source": [
    "lead_idx_snp"
   ]
  },
  {
   "cell_type": "code",
   "execution_count": 202,
   "id": "71084665-8655-4e9b-8587-05c40f95e00b",
   "metadata": {},
   "outputs": [
    {
     "data": {
      "text/plain": [
       "15423"
      ]
     },
     "execution_count": 202,
     "metadata": {},
     "output_type": "execute_result"
    }
   ],
   "source": [
    "len(LD)"
   ]
  },
  {
   "cell_type": "code",
   "execution_count": 208,
   "id": "d8242242-2f55-4c74-a933-03198459b0ae",
   "metadata": {},
   "outputs": [
    {
     "data": {
      "text/plain": [
       "(15423,)"
      ]
     },
     "execution_count": 208,
     "metadata": {},
     "output_type": "execute_result"
    }
   ],
   "source": [
    "np.shape(LD[2,:])"
   ]
  },
  {
   "cell_type": "code",
   "execution_count": 169,
   "id": "89f0f106-bd5c-4b2d-9775-6083e7bf739d",
   "metadata": {},
   "outputs": [
    {
     "ename": "SyntaxError",
     "evalue": "invalid syntax (784063505.py, line 22)",
     "output_type": "error",
     "traceback": [
      "\u001b[0;36m  File \u001b[0;32m\"/tmp/3229975.1.plot.q/ipykernel_13455/784063505.py\"\u001b[0;36m, line \u001b[0;32m22\u001b[0m\n\u001b[0;31m    else:\u001b[0m\n\u001b[0m    ^\u001b[0m\n\u001b[0;31mSyntaxError\u001b[0m\u001b[0;31m:\u001b[0m invalid syntax\n"
     ]
    }
   ],
   "source": [
    "def slalom(df,LD):\n",
    "    lbf, prob = abf(df.beta, df.se, W=args.abf_prior_variance)\n",
    "    cs = get_cs(df.variant, prob, coverage=0.95)\n",
    "    cs_99 = get_cs(df.variant, prob, coverage=0.99)\n",
    "    df[\"lbf\"] = lbf\n",
    "    df[\"prob\"] = prob\n",
    "    df[\"cs\"] = df.variant.isin(cs)\n",
    "    df[\"cs_99\"] = df.variant.isin(cs_99)\n",
    "    lead_idx_snp = df.prob.idxmax()\n",
    "    lead_variant = df.variant[lead_idx_snp]\n",
    "    df[\"lead_variant\"] = False\n",
    "    df[\"lead_variant\"].iloc[lead_idx_snp] = True\n",
    "    # annotate LD     \n",
    "    ## This is to identify the R for each snp vs the lead snp\n",
    "    df[\"r\"] = [LD[np.where(np.in1d(df.variant,lead_variant))][:,np.where(np.in1d(df.variant,x))][0][0][0] for x in df.variant]\n",
    "    lead_z = (df.beta / df.se).iloc[lead_idx_snp]\n",
    "    df[\"t_dentist_s\"] = ((df.beta / df.se) - df.r * lead_z) ** 2 / (1 - df.r ** 2)\n",
    "    df[\"t_dentist_s\"] = np.where(df[\"t_dentist_s\"] < 0, np.inf, df[\"t_dentist_s\"])\n",
    "    df[\"t_dentist_s\"].iloc[lead_idx_snp] = np.nan\n",
    "    df[\"nlog10p_dentist_s\"] = sp.stats.chi2.logsf(df[\"t_dentist_s\"], df=1) / -np.log(10)\n",
    "    df_output = df\n",
    "    \n",
    "    df.drop(columns=[\"variant\"]).to_csv(f, sep=\"\\t\", na_rep=\"NA\", index=False)\n",
    "\n",
    "    df[\"r2\"] = df.r ** 2\n",
    "    n_r2 = np.sum(df.r2 > args.r2_threshold)\n",
    "    n_dentist_s_outlier = np.sum(\n",
    "        (df.r2 > args.r2_threshold) & (df.nlog10p_dentist_s > args.nlog10p_dentist_s_threshold)\n",
    "    )\n",
    "    max_pip_idx = df.prob.idxmax()\n",
    "    variant = df.chromosome.str.cat([df.position.astype(str), df.allele1, df.allele2], sep=\":\")\n",
    "    df_summary = pd.DataFrame(\n",
    "        {\n",
    "            \"lead_pip_variant\": [variant.iloc[max_pip_idx]],\n",
    "            \"n_total\": [len(df.index)],\n",
    "            \"n_r2\": [n_r2],\n",
    "            \"n_dentist_s_outlier\": [n_dentist_s_outlier],\n",
    "            \"fraction\": [n_dentist_s_outlier / n_r2 if n_r2 > 0 else 0],\n",
    "            \"max_pip\": [np.max(df.prob)]\n",
    "        }\n",
    "        )\n",
    "    return df, df_summary\n"
   ]
  },
  {
   "cell_type": "code",
   "execution_count": null,
   "id": "aa977f82-1510-4609-964c-2cdcbe657c8e",
   "metadata": {},
   "outputs": [],
   "source": []
  }
 ],
 "metadata": {
  "kernelspec": {
   "display_name": "Python 3 (ipykernel)",
   "language": "python",
   "name": "python3"
  },
  "language_info": {
   "codemirror_mode": {
    "name": "ipython",
    "version": 3
   },
   "file_extension": ".py",
   "mimetype": "text/x-python",
   "name": "python",
   "nbconvert_exporter": "python",
   "pygments_lexer": "ipython3",
   "version": "3.9.5"
  }
 },
 "nbformat": 4,
 "nbformat_minor": 5
}
