{
 "cells": [
  {
   "cell_type": "markdown",
   "id": "c95d8992-e05e-482a-8b33-5c6725650d43",
   "metadata": {},
   "source": [
    "# Fine-mapping with SuSiE RSS model"
   ]
  },
  {
   "cell_type": "code",
   "execution_count": null,
   "id": "93f125aa-1492-4b3e-aa71-4097225a2465",
   "metadata": {},
   "outputs": [],
   "source": []
  },
  {
   "cell_type": "markdown",
   "id": "29b654fe-c703-479f-a1af-4c68f0a862e3",
   "metadata": {},
   "source": [
    "This notebook take a list of LD file and a list of sumstat file and do salmon QC and susie RSS for each overlap LD block."
   ]
  },
  {
   "cell_type": "code",
   "execution_count": null,
   "id": "d1c31441-f4f8-41cd-9b5e-cdc65d22e314",
   "metadata": {},
   "outputs": [],
   "source": [
    "[global]\n",
    "\n",
    "parameter: container = \"\"\n",
    "# For cluster jobs, number commands to run per job\n",
    "parameter: job_size = 1\n",
    "# Wall clock time expected\n",
    "parameter: walltime = \"5h\"\n",
    "# Memory expected\n",
    "parameter: mem = \"16G\"\n",
    "# Number of threads\n",
    "parameter: numThreads = 20\n",
    "\n",
    "# getting the overlapped input\n",
    "parameter: LD_list = path\n",
    "parameter: sumstat_list = path\n",
    "import pandas as pd\n",
    "LD_list = pd.read_csv(LD_list,\"\\t\")\n",
    "sumstat_list = pd.read_csv(sumstat_list,\"\\t\")\n",
    "LD_list[\"#chr\"] = [x[0].replace(\"chr\", \"\") for x in  LD_list[\"#id\"].str.split(\"_\") ]\n",
    "sumstat_list[\"#chr\"] = [str(x).replace(\"chr\", \"\") for x in  sumstat_list[\"#chr\"] ]\n",
    "input_inv = LD_list.merge(sumstat_list)\n",
    "input_list = input_inv.iloc[:,[1,3]].values.tolist()\n",
    "parameter: lead_idx_choice = \"pvalue\"\n",
    "parameter: abf_prior_variance = 0.4\n",
    "parameter: nlog10p_dentist_s_threshold = 4\n",
    "parameter: r2_threshold = 0.6\n",
    "\n",
    "\n",
    "[SuSiE_RSS_1]\n",
    "input: input_list, group_by = 2\n",
    "output: f'{cwd:a}/{_input[1]:bn}.{_input[0].split(\".\")[-3]}.unisusie_rss.fit.rds'\n",
    "task: trunk_workers = 1, trunk_size = job_size, walltime = walltime, mem = mem, cores = numThreads, tags = f'{step_name}_{_output[0]:bn}'\n",
    "python: expand = '${ }', stdout = f\"{_output:nn}.stdout\", stderr = f\"{_output:nn}.stderr\", container = container\n",
    "    import pandas as pd\n",
    "    import numpy as np\n",
    "    def load_npz_ld(path):\n",
    "        np_ld_loaded = np.load(path,allow_pickle=True)\n",
    "        # sort by start position\n",
    "        snp_id = [x.replace(\":\",\"_\") for x in np_ld_loaded.get(\"arr_1\")]\n",
    "        np_ld_loaded = np_ld_loaded.get(\"arr_0\")\n",
    "        new = np_ld_loaded + np_ld_loaded.T\n",
    "        np.fill_diagonal(new, np.diag(new)/2)\n",
    "        return new,snp_id\n",
    "\n",
    "    def get_bcor_meta(bcor_obj):\n",
    "        df_ld_snps = bcor_obj.getMeta()\n",
    "        df_ld_snps.rename(columns={'rsid':'SNP', 'position':'BP', 'chromosome':'CHR', 'allele1':'A1', 'allele2':'A2'}, inplace=True, errors='raise')\n",
    "        ###df_ld_snps['CHR'] = df_ld_snps['CHR'].astype(np.int64)\n",
    "        df_ld_snps['BP'] = df_ld_snps['BP'].astype(np.int64)\n",
    "        return df_ld_snps\n",
    "\n",
    "    def load_ld_bcor(ld_prefix):\n",
    "        bcor_file = ld_prefix+'.bcor'\n",
    "        import os\n",
    "        import time\n",
    "        from ldstore.bcor import bcor\n",
    "        if not os.path.exists(bcor_file):\n",
    "            raise IOError('%s not found'%(bcor_file))\n",
    "        t0 = time.time()\n",
    "        bcor_obj = bcor(bcor_file)\n",
    "        df_ld_snps = get_bcor_meta(bcor_obj)\n",
    "        ld_arr = bcor_obj.readCorr([])\n",
    "        assert np.all(~np.isnan(ld_arr))\n",
    "        return ld_arr, df_ld_snps\n",
    "\n",
    "    def abf(beta, se, W=0.04):\n",
    "        from scipy import special \n",
    "        z = beta / se\n",
    "        V = se ** 2\n",
    "        r = W / (W + V)\n",
    "        lbf = 0.5 * (np.log(1 - r) + (r * z ** 2))\n",
    "        denom = special.logsumexp(lbf)\n",
    "        prob = np.exp(lbf - denom)\n",
    "        return lbf, prob\n",
    "    \n",
    "    def get_cs(variant, prob, coverage=0.95):\n",
    "        ordering = np.argsort(prob)[::-1]\n",
    "        idx = np.where(np.cumsum(prob[ordering]) > coverage)[0][0]\n",
    "        cs = variant[ordering][: (idx + 1)]\n",
    "        return cs\n",
    "    def slalom(df,LD,abf_prior_variance = 0.4 ,nlog10p_dentist_s_threshold = 4, r2_threshold = 0.6  ):\n",
    "        from scipy import stats\n",
    "        lbf, prob = abf(df.beta, df.se, W=abf_prior_variance)\n",
    "        cs = get_cs(df.variant, prob, coverage=0.95)\n",
    "        cs_99 = get_cs(df.variant, prob, coverage=0.99)\n",
    "        df[\"lbf\"] = lbf\n",
    "        df[\"prob\"] = prob\n",
    "        df[\"cs\"] = df.variant.isin(cs)\n",
    "        df[\"cs_99\"] = df.variant.isin(cs_99)\n",
    "        \n",
    "        if ${lead_idx_choice} == \"pvalue\":\n",
    "            lead_idx_snp = df.pvalue.idxmin()\n",
    "        else:\n",
    "            lead_idx_snp = df.prob.idxmax()\n",
    "        \n",
    "        \n",
    "        \n",
    "        lead_variant = df.variant[lead_idx_snp]\n",
    "        df[\"lead_variant\"] = False\n",
    "        df[\"lead_variant\"].iloc[lead_idx_snp] = True\n",
    "        # annotate LD     \n",
    "        ## This is to identify the R for each snp vs the lead snp\n",
    "        df[\"r\"] = [LD[np.where(np.in1d(df.variant,lead_variant))][:,np.where(np.in1d(df.variant,x))][0][0][0] for x in df.variant]\n",
    "        lead_z = (df.beta / df.se).iloc[lead_idx_snp]\n",
    "        df[\"t_dentist_s\"] = ((df.beta / df.se) - df.r * lead_z) ** 2 / (1 - df.r ** 2)\n",
    "        df[\"t_dentist_s\"] = np.where(df[\"t_dentist_s\"] < 0, np.inf, df[\"t_dentist_s\"])\n",
    "        df[\"t_dentist_s\"].iloc[lead_idx_snp] = np.nan\n",
    "        df[\"nlog10p_dentist_s\"] = stats.chi2.logsf(df[\"t_dentist_s\"], df=1) / -np.log(10)\n",
    "        df[\"r2\"] = df.r ** 2\n",
    "        df[\"outliers\"] = (df.r2 > r2_threshold) & (df.nlog10p_dentist_s > nlog10p_dentist_s_threshold)\n",
    "        df_output = df\n",
    "        n_r2 = np.sum(df.r2 > r2_threshold)\n",
    "        n_dentist_s_outlier = np.sum(\n",
    "            (df.r2 > r2_threshold) & (df.nlog10p_dentist_s > nlog10p_dentist_s_threshold)\n",
    "        )\n",
    "        max_pip_idx = df.prob.idxmax()\n",
    "        df_summary = pd.DataFrame(\n",
    "            {\n",
    "                \"lead_pip_variant\": [df.variant.iloc[max_pip_idx]],\n",
    "                \"n_total\": [len(df.index)],\n",
    "                \"n_r2\": [n_r2],\n",
    "                \"n_dentist_s_outlier\": [n_dentist_s_outlier],\n",
    "                \"fraction\": [n_dentist_s_outlier / n_r2 if n_r2 > 0 else 0],\n",
    "                \"max_pip\": [np.max(df.prob)]\n",
    "            }\n",
    "            )\n",
    "        return df, df_summary\n",
    "    \n",
    "    ## Load LD\n",
    "    if \"${_input[0]}\".endswith(\"npz\"):\n",
    "        LD,snp_id = load_npz_ld(${_input[0]:r}) \n",
    "    if \"${_input[0]}\".endswith(\"bcor\"):\n",
    "        LD,snp_id = load_ld_bcor(${_input[0]:nr}) \n",
    "        \n",
    "    sumstat = pd.read_csv(${_input[1]:r}, \"\\t\")\n",
    "    ## Get only intersect snp\n",
    "    intersct = np.intersect1d(sumstat.variant.to_numpy(),snp_id)\n",
    "    sumstat = sumstat.query(\"variant in @intersct\").reset_index()\n",
    "    indice = np.where(np.in1d(snp_id, intersct))\n",
    "    LD = LD[np.ix_(indice[0].tolist(), indice[0].tolist())]    \n",
    "    ## slalom\n",
    "    ss_qc,ss_qc_sum = slalom(sumstat,LD,${abf_prior_variance},${nlog10p_dentist_s_threshold},${r2_threshold})\n",
    "    \n",
    "    ## Filter out outlier\n",
    "    LD = LD[np.ix_(ss_qc[~ss_qc.outliers].index,ss_qc[~ss_qc.outliers].index)]  \n",
    "    ss_qc = ss_qc[~ss_qc.outliers]\n",
    "    \n",
    "    ## SuSiERSS"
   ]
  },
  {
   "cell_type": "code",
   "execution_count": 153,
   "id": "93b871a3-1577-477e-8911-feba7d82dc71",
   "metadata": {},
   "outputs": [
    {
     "data": {
      "text/plain": [
       "array([[ 1.      ,  0.007248, -0.02019 , ...,  0.05038 , -0.01564 ,\n",
       "         0.0509  ],\n",
       "       [ 0.007248,  1.      , -0.02397 , ...,  0.01753 , -0.02008 ,\n",
       "         0.01118 ],\n",
       "       [-0.02019 , -0.02397 ,  1.      , ...,  0.0109  ,  0.0851  ,\n",
       "         0.03336 ],\n",
       "       ...,\n",
       "       [ 0.05038 ,  0.01753 ,  0.0109  , ...,  1.      , -0.03488 ,\n",
       "         0.9097  ],\n",
       "       [-0.01564 , -0.02008 ,  0.0851  , ..., -0.03488 ,  1.      ,\n",
       "        -0.0333  ],\n",
       "       [ 0.0509  ,  0.01118 ,  0.03336 , ...,  0.9097  , -0.0333  ,\n",
       "         1.      ]], dtype=float16)"
      ]
     },
     "execution_count": 153,
     "metadata": {},
     "output_type": "execute_result"
    }
   ],
   "source": [
    "LD[np.ix_(ss_qc[~ss_qc.outliers].index,ss_qc[~ss_qc.outliers].index)]"
   ]
  },
  {
   "cell_type": "code",
   "execution_count": 152,
   "id": "6bd60b1a-7110-4922-8d78-44802c83ce52",
   "metadata": {},
   "outputs": [
    {
     "data": {
      "text/plain": [
       "(6668, 6668)"
      ]
     },
     "execution_count": 152,
     "metadata": {},
     "output_type": "execute_result"
    }
   ],
   "source": [
    "np.shape(LD[np.ix_(ss_qc[~ss_qc.outliers].index,ss_qc[~ss_qc.outliers].index)])"
   ]
  },
  {
   "cell_type": "code",
   "execution_count": 147,
   "id": "9937e58f-f853-4d61-ac64-bec43bb2e83b",
   "metadata": {},
   "outputs": [
    {
     "data": {
      "text/plain": [
       "(6668, 6668)"
      ]
     },
     "execution_count": 147,
     "metadata": {},
     "output_type": "execute_result"
    }
   ],
   "source": [
    "np.shape(LD)"
   ]
  },
  {
   "cell_type": "code",
   "execution_count": 134,
   "id": "84a8b84c-6880-4284-95fc-0b96a8cbe308",
   "metadata": {},
   "outputs": [
    {
     "ename": "TypeError",
     "evalue": "an integer is required (got type Int64Index)",
     "output_type": "error",
     "traceback": [
      "\u001b[0;31m---------------------------------------------------------------------------\u001b[0m",
      "\u001b[0;31mTypeError\u001b[0m                                 Traceback (most recent call last)",
      "\u001b[0;32m/tmp/3306819.1.high_mem.q/ipykernel_10941/859135344.py\u001b[0m in \u001b[0;36m<module>\u001b[0;34m\u001b[0m\n\u001b[0;32m----> 1\u001b[0;31m \u001b[0mnp\u001b[0m\u001b[0;34m.\u001b[0m\u001b[0mdelete\u001b[0m\u001b[0;34m(\u001b[0m\u001b[0mLD\u001b[0m\u001b[0;34m,\u001b[0m \u001b[0mss_qc\u001b[0m\u001b[0;34m[\u001b[0m\u001b[0mss_qc\u001b[0m\u001b[0;34m.\u001b[0m\u001b[0moutliers\u001b[0m\u001b[0;34m]\u001b[0m\u001b[0;34m.\u001b[0m\u001b[0mindex\u001b[0m\u001b[0;34m,\u001b[0m \u001b[0mss_qc\u001b[0m\u001b[0;34m[\u001b[0m\u001b[0mss_qc\u001b[0m\u001b[0;34m.\u001b[0m\u001b[0moutliers\u001b[0m\u001b[0;34m]\u001b[0m\u001b[0;34m.\u001b[0m\u001b[0mindex\u001b[0m\u001b[0;34m)\u001b[0m\u001b[0;34m\u001b[0m\u001b[0;34m\u001b[0m\u001b[0m\n\u001b[0m",
      "\u001b[0;32m<__array_function__ internals>\u001b[0m in \u001b[0;36mdelete\u001b[0;34m(*args, **kwargs)\u001b[0m\n",
      "\u001b[0;32m~/miniconda3/lib/python3.9/site-packages/numpy/lib/function_base.py\u001b[0m in \u001b[0;36mdelete\u001b[0;34m(arr, obj, axis)\u001b[0m\n\u001b[1;32m   4462\u001b[0m         \u001b[0maxis\u001b[0m \u001b[0;34m=\u001b[0m \u001b[0mndim\u001b[0m \u001b[0;34m-\u001b[0m \u001b[0;36m1\u001b[0m\u001b[0;34m\u001b[0m\u001b[0;34m\u001b[0m\u001b[0m\n\u001b[1;32m   4463\u001b[0m     \u001b[0;32melse\u001b[0m\u001b[0;34m:\u001b[0m\u001b[0;34m\u001b[0m\u001b[0;34m\u001b[0m\u001b[0m\n\u001b[0;32m-> 4464\u001b[0;31m         \u001b[0maxis\u001b[0m \u001b[0;34m=\u001b[0m \u001b[0mnormalize_axis_index\u001b[0m\u001b[0;34m(\u001b[0m\u001b[0maxis\u001b[0m\u001b[0;34m,\u001b[0m \u001b[0mndim\u001b[0m\u001b[0;34m)\u001b[0m\u001b[0;34m\u001b[0m\u001b[0;34m\u001b[0m\u001b[0m\n\u001b[0m\u001b[1;32m   4465\u001b[0m \u001b[0;34m\u001b[0m\u001b[0m\n\u001b[1;32m   4466\u001b[0m     \u001b[0mslobj\u001b[0m \u001b[0;34m=\u001b[0m \u001b[0;34m[\u001b[0m\u001b[0mslice\u001b[0m\u001b[0;34m(\u001b[0m\u001b[0;32mNone\u001b[0m\u001b[0;34m)\u001b[0m\u001b[0;34m]\u001b[0m\u001b[0;34m*\u001b[0m\u001b[0mndim\u001b[0m\u001b[0;34m\u001b[0m\u001b[0;34m\u001b[0m\u001b[0m\n",
      "\u001b[0;31mTypeError\u001b[0m: an integer is required (got type Int64Index)"
     ]
    }
   ],
   "source": [
    "np.delete(LD, ss_qc[ss_qc.outliers].index, ss_qc[ss_qc.outliers].index)"
   ]
  },
  {
   "cell_type": "markdown",
   "id": "fcb502e7-950a-4c74-90c1-4ce49e643d1b",
   "metadata": {},
   "source": [
    "# Draft"
   ]
  },
  {
   "cell_type": "code",
   "execution_count": null,
   "id": "9e4f369c-7df9-4aee-b15f-21141b108deb",
   "metadata": {},
   "outputs": [],
   "source": [
    "    elif \"${_input[0]}\".endswith(\"bcor\"):\n",
    "        LD,snp_id = load_bcor_ld(${_input[0]:r})"
   ]
  },
  {
   "cell_type": "code",
   "execution_count": 2,
   "id": "ad26d3ab-da3b-477f-b188-4ff66dd84768",
   "metadata": {},
   "outputs": [],
   "source": [
    "import pandas as pd\n",
    "import numpy as np\n"
   ]
  },
  {
   "cell_type": "code",
   "execution_count": 3,
   "id": "ee664d6e-d3a0-4f8c-80d2-2e86241088ca",
   "metadata": {},
   "outputs": [],
   "source": [
    "LD_list = pd.read_csv(\"/mnt/vast/hpc/csg/molecular_phenotype_calling/LD/output_npz_2/1300_hg38_EUR_LD_blocks_npz_files/ROSMAP_NIA_WGS.leftnorm.filtered.filtered.ld.list\",\"\\t\")\n",
    "sumstat_list = pd.read_csv(\"/mnt/vast/hpc/csg/xqtl_workflow_testing/ADGWAS/data_intergration/ADGWAS2022/qced_sumstat_list.txt\",\"\\t\")\n"
   ]
  },
  {
   "cell_type": "code",
   "execution_count": 96,
   "id": "dc2f9808-a098-4e6a-b73b-6ed84df2bc67",
   "metadata": {},
   "outputs": [
    {
     "data": {
      "text/html": [
       "<div>\n",
       "<style scoped>\n",
       "    .dataframe tbody tr th:only-of-type {\n",
       "        vertical-align: middle;\n",
       "    }\n",
       "\n",
       "    .dataframe tbody tr th {\n",
       "        vertical-align: top;\n",
       "    }\n",
       "\n",
       "    .dataframe thead th {\n",
       "        text-align: right;\n",
       "    }\n",
       "</style>\n",
       "<table border=\"1\" class=\"dataframe\">\n",
       "  <thead>\n",
       "    <tr style=\"text-align: right;\">\n",
       "      <th></th>\n",
       "      <th>index</th>\n",
       "      <th>chromosome</th>\n",
       "      <th>position</th>\n",
       "      <th>ref</th>\n",
       "      <th>alt</th>\n",
       "      <th>variant</th>\n",
       "      <th>beta</th>\n",
       "      <th>se</th>\n",
       "      <th>pvalue</th>\n",
       "      <th>maf</th>\n",
       "      <th>n_cases</th>\n",
       "      <th>n_controls</th>\n",
       "      <th>original_effect_allele_frequency</th>\n",
       "    </tr>\n",
       "  </thead>\n",
       "  <tbody>\n",
       "    <tr>\n",
       "      <th>0</th>\n",
       "      <td>4</td>\n",
       "      <td>1</td>\n",
       "      <td>727233</td>\n",
       "      <td>G</td>\n",
       "      <td>A</td>\n",
       "      <td>chr1_727233_G_A</td>\n",
       "      <td>-0.0210</td>\n",
       "      <td>0.0453</td>\n",
       "      <td>0.6424</td>\n",
       "      <td>0.0191</td>\n",
       "      <td>81166</td>\n",
       "      <td>386644</td>\n",
       "      <td>0.0191</td>\n",
       "    </tr>\n",
       "    <tr>\n",
       "      <th>1</th>\n",
       "      <td>9</td>\n",
       "      <td>1</td>\n",
       "      <td>733014</td>\n",
       "      <td>AG</td>\n",
       "      <td>A</td>\n",
       "      <td>chr1_733014_AG_A</td>\n",
       "      <td>0.0108</td>\n",
       "      <td>0.0413</td>\n",
       "      <td>0.7935</td>\n",
       "      <td>0.0267</td>\n",
       "      <td>78401</td>\n",
       "      <td>374200</td>\n",
       "      <td>0.0267</td>\n",
       "    </tr>\n",
       "    <tr>\n",
       "      <th>2</th>\n",
       "      <td>13</td>\n",
       "      <td>1</td>\n",
       "      <td>758213</td>\n",
       "      <td>AT</td>\n",
       "      <td>A</td>\n",
       "      <td>chr1_758213_AT_A</td>\n",
       "      <td>0.1318</td>\n",
       "      <td>0.1069</td>\n",
       "      <td>0.2173</td>\n",
       "      <td>0.0038</td>\n",
       "      <td>79473</td>\n",
       "      <td>380718</td>\n",
       "      <td>0.0038</td>\n",
       "    </tr>\n",
       "    <tr>\n",
       "      <th>3</th>\n",
       "      <td>16</td>\n",
       "      <td>1</td>\n",
       "      <td>758540</td>\n",
       "      <td>T</td>\n",
       "      <td>C</td>\n",
       "      <td>chr1_758540_T_C</td>\n",
       "      <td>0.0429</td>\n",
       "      <td>0.1113</td>\n",
       "      <td>0.6996</td>\n",
       "      <td>0.0040</td>\n",
       "      <td>77766</td>\n",
       "      <td>372990</td>\n",
       "      <td>0.9960</td>\n",
       "    </tr>\n",
       "    <tr>\n",
       "      <th>4</th>\n",
       "      <td>19</td>\n",
       "      <td>1</td>\n",
       "      <td>766399</td>\n",
       "      <td>GAATA</td>\n",
       "      <td>G</td>\n",
       "      <td>chr1_766399_GAATA_G</td>\n",
       "      <td>0.0055</td>\n",
       "      <td>0.0249</td>\n",
       "      <td>0.8246</td>\n",
       "      <td>0.0678</td>\n",
       "      <td>80801</td>\n",
       "      <td>380538</td>\n",
       "      <td>0.0678</td>\n",
       "    </tr>\n",
       "    <tr>\n",
       "      <th>...</th>\n",
       "      <td>...</td>\n",
       "      <td>...</td>\n",
       "      <td>...</td>\n",
       "      <td>...</td>\n",
       "      <td>...</td>\n",
       "      <td>...</td>\n",
       "      <td>...</td>\n",
       "      <td>...</td>\n",
       "      <td>...</td>\n",
       "      <td>...</td>\n",
       "      <td>...</td>\n",
       "      <td>...</td>\n",
       "      <td>...</td>\n",
       "    </tr>\n",
       "    <tr>\n",
       "      <th>6663</th>\n",
       "      <td>15105</td>\n",
       "      <td>1</td>\n",
       "      <td>2886544</td>\n",
       "      <td>G</td>\n",
       "      <td>A</td>\n",
       "      <td>chr1_2886544_G_A</td>\n",
       "      <td>0.0071</td>\n",
       "      <td>0.0451</td>\n",
       "      <td>0.8746</td>\n",
       "      <td>0.0110</td>\n",
       "      <td>85502</td>\n",
       "      <td>400497</td>\n",
       "      <td>0.0110</td>\n",
       "    </tr>\n",
       "    <tr>\n",
       "      <th>6664</th>\n",
       "      <td>15109</td>\n",
       "      <td>1</td>\n",
       "      <td>2887241</td>\n",
       "      <td>C</td>\n",
       "      <td>T</td>\n",
       "      <td>chr1_2887241_C_T</td>\n",
       "      <td>-0.0055</td>\n",
       "      <td>0.0090</td>\n",
       "      <td>0.5417</td>\n",
       "      <td>0.3818</td>\n",
       "      <td>84196</td>\n",
       "      <td>393797</td>\n",
       "      <td>0.3818</td>\n",
       "    </tr>\n",
       "    <tr>\n",
       "      <th>6665</th>\n",
       "      <td>15114</td>\n",
       "      <td>1</td>\n",
       "      <td>2887908</td>\n",
       "      <td>T</td>\n",
       "      <td>C</td>\n",
       "      <td>chr1_2887908_T_C</td>\n",
       "      <td>-0.0194</td>\n",
       "      <td>0.0138</td>\n",
       "      <td>0.1594</td>\n",
       "      <td>0.1043</td>\n",
       "      <td>85665</td>\n",
       "      <td>400902</td>\n",
       "      <td>0.8957</td>\n",
       "    </tr>\n",
       "    <tr>\n",
       "      <th>6666</th>\n",
       "      <td>15116</td>\n",
       "      <td>1</td>\n",
       "      <td>2887986</td>\n",
       "      <td>T</td>\n",
       "      <td>C</td>\n",
       "      <td>chr1_2887986_T_C</td>\n",
       "      <td>0.0809</td>\n",
       "      <td>0.1020</td>\n",
       "      <td>0.4275</td>\n",
       "      <td>0.0034</td>\n",
       "      <td>81503</td>\n",
       "      <td>380555</td>\n",
       "      <td>0.9966</td>\n",
       "    </tr>\n",
       "    <tr>\n",
       "      <th>6667</th>\n",
       "      <td>15117</td>\n",
       "      <td>1</td>\n",
       "      <td>2888245</td>\n",
       "      <td>G</td>\n",
       "      <td>A</td>\n",
       "      <td>chr1_2888245_G_A</td>\n",
       "      <td>-0.0052</td>\n",
       "      <td>0.0144</td>\n",
       "      <td>0.7175</td>\n",
       "      <td>0.0979</td>\n",
       "      <td>85665</td>\n",
       "      <td>400902</td>\n",
       "      <td>0.0979</td>\n",
       "    </tr>\n",
       "  </tbody>\n",
       "</table>\n",
       "<p>6668 rows × 13 columns</p>\n",
       "</div>"
      ],
      "text/plain": [
       "      index  chromosome  position    ref alt              variant    beta  \\\n",
       "0         4           1    727233      G   A      chr1_727233_G_A -0.0210   \n",
       "1         9           1    733014     AG   A     chr1_733014_AG_A  0.0108   \n",
       "2        13           1    758213     AT   A     chr1_758213_AT_A  0.1318   \n",
       "3        16           1    758540      T   C      chr1_758540_T_C  0.0429   \n",
       "4        19           1    766399  GAATA   G  chr1_766399_GAATA_G  0.0055   \n",
       "...     ...         ...       ...    ...  ..                  ...     ...   \n",
       "6663  15105           1   2886544      G   A     chr1_2886544_G_A  0.0071   \n",
       "6664  15109           1   2887241      C   T     chr1_2887241_C_T -0.0055   \n",
       "6665  15114           1   2887908      T   C     chr1_2887908_T_C -0.0194   \n",
       "6666  15116           1   2887986      T   C     chr1_2887986_T_C  0.0809   \n",
       "6667  15117           1   2888245      G   A     chr1_2888245_G_A -0.0052   \n",
       "\n",
       "          se  pvalue     maf  n_cases  n_controls  \\\n",
       "0     0.0453  0.6424  0.0191    81166      386644   \n",
       "1     0.0413  0.7935  0.0267    78401      374200   \n",
       "2     0.1069  0.2173  0.0038    79473      380718   \n",
       "3     0.1113  0.6996  0.0040    77766      372990   \n",
       "4     0.0249  0.8246  0.0678    80801      380538   \n",
       "...      ...     ...     ...      ...         ...   \n",
       "6663  0.0451  0.8746  0.0110    85502      400497   \n",
       "6664  0.0090  0.5417  0.3818    84196      393797   \n",
       "6665  0.0138  0.1594  0.1043    85665      400902   \n",
       "6666  0.1020  0.4275  0.0034    81503      380555   \n",
       "6667  0.0144  0.7175  0.0979    85665      400902   \n",
       "\n",
       "      original_effect_allele_frequency  \n",
       "0                               0.0191  \n",
       "1                               0.0267  \n",
       "2                               0.0038  \n",
       "3                               0.9960  \n",
       "4                               0.0678  \n",
       "...                                ...  \n",
       "6663                            0.0110  \n",
       "6664                            0.3818  \n",
       "6665                            0.8957  \n",
       "6666                            0.9966  \n",
       "6667                            0.0979  \n",
       "\n",
       "[6668 rows x 13 columns]"
      ]
     },
     "execution_count": 96,
     "metadata": {},
     "output_type": "execute_result"
    }
   ],
   "source": [
    "sumstat"
   ]
  },
  {
   "cell_type": "code",
   "execution_count": 12,
   "id": "5faa5ee5-bac2-40cc-9aee-27ea53cde918",
   "metadata": {},
   "outputs": [],
   "source": [
    "LD_list[\"#chr\"] = [x[0].replace(\"chr\", \"\") for x in  LD_list[\"#id\"].str.split(\"_\") ]"
   ]
  },
  {
   "cell_type": "code",
   "execution_count": 13,
   "id": "e11b1c68-e8ee-4bc7-9a8b-094f61ad6785",
   "metadata": {},
   "outputs": [],
   "source": [
    "sumstat_list[\"#chr\"] = [str(x).replace(\"chr\", \"\") for x in  sumstat_list[\"#chr\"] ]"
   ]
  },
  {
   "cell_type": "code",
   "execution_count": 14,
   "id": "aead0cd2-d02c-43da-90a5-d42da4da0e7a",
   "metadata": {},
   "outputs": [],
   "source": [
    "input_inv = LD_list.merge(sumstat_list)"
   ]
  },
  {
   "cell_type": "code",
   "execution_count": 15,
   "id": "ecb73edf-9913-4563-af7c-39000051f774",
   "metadata": {},
   "outputs": [
    {
     "data": {
      "text/html": [
       "<div>\n",
       "<style scoped>\n",
       "    .dataframe tbody tr th:only-of-type {\n",
       "        vertical-align: middle;\n",
       "    }\n",
       "\n",
       "    .dataframe tbody tr th {\n",
       "        vertical-align: top;\n",
       "    }\n",
       "\n",
       "    .dataframe thead th {\n",
       "        text-align: right;\n",
       "    }\n",
       "</style>\n",
       "<table border=\"1\" class=\"dataframe\">\n",
       "  <thead>\n",
       "    <tr style=\"text-align: right;\">\n",
       "      <th></th>\n",
       "      <th>#id</th>\n",
       "      <th>dir</th>\n",
       "      <th>#chr</th>\n",
       "      <th>ADGWAS_Bellenguez_2022</th>\n",
       "    </tr>\n",
       "  </thead>\n",
       "  <tbody>\n",
       "    <tr>\n",
       "      <th>0</th>\n",
       "      <td>chr1_16103_2888443</td>\n",
       "      <td>/mnt/vast/hpc/csg/molecular_phenotype_calling/...</td>\n",
       "      <td>1</td>\n",
       "      <td>/mnt/vast/hpc/csg/xqtl_workflow_testing/ADGWAS...</td>\n",
       "    </tr>\n",
       "    <tr>\n",
       "      <th>1</th>\n",
       "      <td>chr1_2888443_4320284</td>\n",
       "      <td>/mnt/vast/hpc/csg/molecular_phenotype_calling/...</td>\n",
       "      <td>1</td>\n",
       "      <td>/mnt/vast/hpc/csg/xqtl_workflow_testing/ADGWAS...</td>\n",
       "    </tr>\n",
       "    <tr>\n",
       "      <th>2</th>\n",
       "      <td>chr1_4320284_5853833</td>\n",
       "      <td>/mnt/vast/hpc/csg/molecular_phenotype_calling/...</td>\n",
       "      <td>1</td>\n",
       "      <td>/mnt/vast/hpc/csg/xqtl_workflow_testing/ADGWAS...</td>\n",
       "    </tr>\n",
       "    <tr>\n",
       "      <th>3</th>\n",
       "      <td>chr1_5853833_7110219</td>\n",
       "      <td>/mnt/vast/hpc/csg/molecular_phenotype_calling/...</td>\n",
       "      <td>1</td>\n",
       "      <td>/mnt/vast/hpc/csg/xqtl_workflow_testing/ADGWAS...</td>\n",
       "    </tr>\n",
       "    <tr>\n",
       "      <th>4</th>\n",
       "      <td>chr1_7110219_9473386</td>\n",
       "      <td>/mnt/vast/hpc/csg/molecular_phenotype_calling/...</td>\n",
       "      <td>1</td>\n",
       "      <td>/mnt/vast/hpc/csg/xqtl_workflow_testing/ADGWAS...</td>\n",
       "    </tr>\n",
       "    <tr>\n",
       "      <th>...</th>\n",
       "      <td>...</td>\n",
       "      <td>...</td>\n",
       "      <td>...</td>\n",
       "      <td>...</td>\n",
       "    </tr>\n",
       "    <tr>\n",
       "      <th>1356</th>\n",
       "      <td>chr22_43251864_44603286</td>\n",
       "      <td>/mnt/vast/hpc/csg/molecular_phenotype_calling/...</td>\n",
       "      <td>22</td>\n",
       "      <td>/mnt/vast/hpc/csg/xqtl_workflow_testing/ADGWAS...</td>\n",
       "    </tr>\n",
       "    <tr>\n",
       "      <th>1357</th>\n",
       "      <td>chr22_44603286_46177037</td>\n",
       "      <td>/mnt/vast/hpc/csg/molecular_phenotype_calling/...</td>\n",
       "      <td>22</td>\n",
       "      <td>/mnt/vast/hpc/csg/xqtl_workflow_testing/ADGWAS...</td>\n",
       "    </tr>\n",
       "    <tr>\n",
       "      <th>1358</th>\n",
       "      <td>chr22_46177037_47876022</td>\n",
       "      <td>/mnt/vast/hpc/csg/molecular_phenotype_calling/...</td>\n",
       "      <td>22</td>\n",
       "      <td>/mnt/vast/hpc/csg/xqtl_workflow_testing/ADGWAS...</td>\n",
       "    </tr>\n",
       "    <tr>\n",
       "      <th>1359</th>\n",
       "      <td>chr22_47876022_49355984</td>\n",
       "      <td>/mnt/vast/hpc/csg/molecular_phenotype_calling/...</td>\n",
       "      <td>22</td>\n",
       "      <td>/mnt/vast/hpc/csg/xqtl_workflow_testing/ADGWAS...</td>\n",
       "    </tr>\n",
       "    <tr>\n",
       "      <th>1360</th>\n",
       "      <td>chr22_49355984_50799822</td>\n",
       "      <td>/mnt/vast/hpc/csg/molecular_phenotype_calling/...</td>\n",
       "      <td>22</td>\n",
       "      <td>/mnt/vast/hpc/csg/xqtl_workflow_testing/ADGWAS...</td>\n",
       "    </tr>\n",
       "  </tbody>\n",
       "</table>\n",
       "<p>1361 rows × 4 columns</p>\n",
       "</div>"
      ],
      "text/plain": [
       "                          #id  \\\n",
       "0          chr1_16103_2888443   \n",
       "1        chr1_2888443_4320284   \n",
       "2        chr1_4320284_5853833   \n",
       "3        chr1_5853833_7110219   \n",
       "4        chr1_7110219_9473386   \n",
       "...                       ...   \n",
       "1356  chr22_43251864_44603286   \n",
       "1357  chr22_44603286_46177037   \n",
       "1358  chr22_46177037_47876022   \n",
       "1359  chr22_47876022_49355984   \n",
       "1360  chr22_49355984_50799822   \n",
       "\n",
       "                                                    dir #chr  \\\n",
       "0     /mnt/vast/hpc/csg/molecular_phenotype_calling/...    1   \n",
       "1     /mnt/vast/hpc/csg/molecular_phenotype_calling/...    1   \n",
       "2     /mnt/vast/hpc/csg/molecular_phenotype_calling/...    1   \n",
       "3     /mnt/vast/hpc/csg/molecular_phenotype_calling/...    1   \n",
       "4     /mnt/vast/hpc/csg/molecular_phenotype_calling/...    1   \n",
       "...                                                 ...  ...   \n",
       "1356  /mnt/vast/hpc/csg/molecular_phenotype_calling/...   22   \n",
       "1357  /mnt/vast/hpc/csg/molecular_phenotype_calling/...   22   \n",
       "1358  /mnt/vast/hpc/csg/molecular_phenotype_calling/...   22   \n",
       "1359  /mnt/vast/hpc/csg/molecular_phenotype_calling/...   22   \n",
       "1360  /mnt/vast/hpc/csg/molecular_phenotype_calling/...   22   \n",
       "\n",
       "                                 ADGWAS_Bellenguez_2022  \n",
       "0     /mnt/vast/hpc/csg/xqtl_workflow_testing/ADGWAS...  \n",
       "1     /mnt/vast/hpc/csg/xqtl_workflow_testing/ADGWAS...  \n",
       "2     /mnt/vast/hpc/csg/xqtl_workflow_testing/ADGWAS...  \n",
       "3     /mnt/vast/hpc/csg/xqtl_workflow_testing/ADGWAS...  \n",
       "4     /mnt/vast/hpc/csg/xqtl_workflow_testing/ADGWAS...  \n",
       "...                                                 ...  \n",
       "1356  /mnt/vast/hpc/csg/xqtl_workflow_testing/ADGWAS...  \n",
       "1357  /mnt/vast/hpc/csg/xqtl_workflow_testing/ADGWAS...  \n",
       "1358  /mnt/vast/hpc/csg/xqtl_workflow_testing/ADGWAS...  \n",
       "1359  /mnt/vast/hpc/csg/xqtl_workflow_testing/ADGWAS...  \n",
       "1360  /mnt/vast/hpc/csg/xqtl_workflow_testing/ADGWAS...  \n",
       "\n",
       "[1361 rows x 4 columns]"
      ]
     },
     "execution_count": 15,
     "metadata": {},
     "output_type": "execute_result"
    }
   ],
   "source": [
    "input_inv"
   ]
  },
  {
   "cell_type": "code",
   "execution_count": 16,
   "id": "110ddf7d-4d54-44a9-9147-fe7c9779517f",
   "metadata": {},
   "outputs": [],
   "source": [
    "LD_file = input_inv.iloc[:,1].values.tolist()\n",
    "sumstat_file = input_inv.iloc[:,3].values.tolist()"
   ]
  },
  {
   "cell_type": "code",
   "execution_count": 17,
   "id": "6d16735f-58d1-4b31-990a-26e83d33ad1a",
   "metadata": {},
   "outputs": [],
   "source": [
    "sumstat_file = input_inv.iloc[:,3].values.tolist()"
   ]
  },
  {
   "cell_type": "code",
   "execution_count": 18,
   "id": "8ae6c273-0a7a-4e6b-a1af-4f604a67cd3a",
   "metadata": {},
   "outputs": [],
   "source": [
    "test = input_inv.iloc[:,[1,3]].values.tolist()[0]"
   ]
  },
  {
   "cell_type": "code",
   "execution_count": 154,
   "id": "a1076bc3-e980-4428-aca2-4e269fe2ea6a",
   "metadata": {},
   "outputs": [],
   "source": [
    "test = input_inv.iloc[:,[1,3]].values.tolist()[1208]"
   ]
  },
  {
   "cell_type": "code",
   "execution_count": 155,
   "id": "61aa28fc-df46-4449-b756-c1cf417aae31",
   "metadata": {},
   "outputs": [
    {
     "data": {
      "text/plain": [
       "['/mnt/vast/hpc/csg/molecular_phenotype_calling/LD/output_npz_2/1300_hg38_EUR_LD_blocks_npz_files/ROSMAP_NIA_WGS.leftnorm.filtered.filtered.chr17_60570445_65149278.flt16.npz',\n",
       " '/mnt/vast/hpc/csg/xqtl_workflow_testing/ADGWAS/data_intergration/ADGWAS2022/ADGWAS_Bellenguez_2022.17/ADGWAS2022.chr17.sumstat.tsv']"
      ]
     },
     "execution_count": 155,
     "metadata": {},
     "output_type": "execute_result"
    }
   ],
   "source": [
    "test"
   ]
  },
  {
   "cell_type": "code",
   "execution_count": 156,
   "id": "e7d39cad-433b-44cb-bdab-db693261f348",
   "metadata": {},
   "outputs": [
    {
     "data": {
      "text/plain": [
       "True"
      ]
     },
     "execution_count": 156,
     "metadata": {},
     "output_type": "execute_result"
    }
   ],
   "source": [
    "test[0].endswith(\"npz\")"
   ]
  },
  {
   "cell_type": "code",
   "execution_count": 98,
   "id": "0f89fbec-7207-43c6-808a-36f15099a5eb",
   "metadata": {},
   "outputs": [],
   "source": [
    "a = ['Brian', 'Steve', 'Andrew', 'Craig']\n",
    "b = ['Andrew','Steve']\n",
    "c = np.setxor1d(a, b)\n"
   ]
  },
  {
   "cell_type": "code",
   "execution_count": 99,
   "id": "45b94340-63e1-436b-80c0-3c7050b49654",
   "metadata": {},
   "outputs": [
    {
     "data": {
      "text/plain": [
       "array(['Brian', 'Craig'], dtype='<U6')"
      ]
     },
     "execution_count": 99,
     "metadata": {},
     "output_type": "execute_result"
    }
   ],
   "source": [
    "c"
   ]
  },
  {
   "cell_type": "code",
   "execution_count": 116,
   "id": "a017f5ce-b4f8-4d5d-8bbf-5f47c3267d41",
   "metadata": {},
   "outputs": [
    {
     "data": {
      "text/plain": [
       "numpy.ndarray"
      ]
     },
     "execution_count": 116,
     "metadata": {},
     "output_type": "execute_result"
    }
   ],
   "source": [
    "type(intersct)"
   ]
  },
  {
   "cell_type": "code",
   "execution_count": 115,
   "id": "07ffedf5-6860-43a1-93ea-e22a64d2850b",
   "metadata": {},
   "outputs": [
    {
     "data": {
      "text/plain": [
       "numpy.ndarray"
      ]
     },
     "execution_count": 115,
     "metadata": {},
     "output_type": "execute_result"
    }
   ],
   "source": [
    "type()"
   ]
  },
  {
   "cell_type": "code",
   "execution_count": 104,
   "id": "310888d8-0bf5-4c4f-9152-59bd45e4a02b",
   "metadata": {},
   "outputs": [
    {
     "data": {
      "text/plain": [
       "Series([], Name: variant, dtype: object)"
      ]
     },
     "execution_count": 104,
     "metadata": {},
     "output_type": "execute_result"
    }
   ],
   "source": [
    "ss_qc[ss_qc.outliers].variant"
   ]
  },
  {
   "cell_type": "code",
   "execution_count": 21,
   "id": "ddc35bed-03f7-4b8d-b790-195f8cbfffc3",
   "metadata": {},
   "outputs": [],
   "source": [
    "def load_npz_ld(path):\n",
    "        np_ld_loaded = np.load(path,allow_pickle=True)\n",
    "        # sort by start position\n",
    "        snp_id = [x.replace(\":\",\"_\") for x in np_ld_loaded.get(\"arr_1\")]\n",
    "        np_ld_loaded = np_ld_loaded.get(\"arr_0\")\n",
    "        new = np_ld_loaded + np_ld_loaded.T\n",
    "        np.fill_diagonal(new, np.diag(new)/2)\n",
    "        return new,snp_id\n",
    "\n",
    "\n",
    "def load_ld_bcor(ld_prefix):\n",
    "    bcor_file = ld_prefix+'.bcor'\n",
    "    import os\n",
    "    import time\n",
    "    from ldstore.bcor import bcor\n",
    "    if not os.path.exists(bcor_file):\n",
    "        raise IOError('%s not found'%(bcor_file))\n",
    "    t0 = time.time()\n",
    "    bcor_obj = bcor(bcor_file)\n",
    "    df_ld_snps = get_bcor_meta(bcor_obj)\n",
    "    ld_arr = bcor_obj.readCorr([])\n",
    "    assert np.all(~np.isnan(ld_arr))\n",
    "    return ld_arr, df_ld_snps"
   ]
  },
  {
   "cell_type": "code",
   "execution_count": null,
   "id": "336c7b77-4c19-4b45-9be6-3599f6fff8c6",
   "metadata": {},
   "outputs": [],
   "source": []
  },
  {
   "cell_type": "code",
   "execution_count": 142,
   "id": "857153ff-06ce-42ce-a9ab-a0b4283f6abb",
   "metadata": {},
   "outputs": [
    {
     "ename": "NameError",
     "evalue": "name 'get_bcor_meta' is not defined",
     "output_type": "error",
     "traceback": [
      "\u001b[0;31m---------------------------------------------------------------------------\u001b[0m",
      "\u001b[0;31mNameError\u001b[0m                                 Traceback (most recent call last)",
      "\u001b[0;32m/tmp/3229975.1.plot.q/ipykernel_13455/2880814431.py\u001b[0m in \u001b[0;36m<module>\u001b[0;34m\u001b[0m\n\u001b[0;32m----> 1\u001b[0;31m \u001b[0mload_ld_bcor\u001b[0m\u001b[0;34m(\u001b[0m\u001b[0;34m\"/mnt/vast/hpc/csg/UKBiobank/results/pleiotropy_AD_ARHI/111822_LDstore_files/regions_chr1_22/22/22_18296088_19912358\"\u001b[0m\u001b[0;34m)\u001b[0m\u001b[0;34m\u001b[0m\u001b[0;34m\u001b[0m\u001b[0m\n\u001b[0m",
      "\u001b[0;32m/tmp/3229975.1.plot.q/ipykernel_13455/2584348757.py\u001b[0m in \u001b[0;36mload_ld_bcor\u001b[0;34m(ld_prefix)\u001b[0m\n\u001b[1;32m     18\u001b[0m     \u001b[0mt0\u001b[0m \u001b[0;34m=\u001b[0m \u001b[0mtime\u001b[0m\u001b[0;34m.\u001b[0m\u001b[0mtime\u001b[0m\u001b[0;34m(\u001b[0m\u001b[0;34m)\u001b[0m\u001b[0;34m\u001b[0m\u001b[0;34m\u001b[0m\u001b[0m\n\u001b[1;32m     19\u001b[0m     \u001b[0mbcor_obj\u001b[0m \u001b[0;34m=\u001b[0m \u001b[0mbcor\u001b[0m\u001b[0;34m(\u001b[0m\u001b[0mbcor_file\u001b[0m\u001b[0;34m)\u001b[0m\u001b[0;34m\u001b[0m\u001b[0;34m\u001b[0m\u001b[0m\n\u001b[0;32m---> 20\u001b[0;31m     \u001b[0mdf_ld_snps\u001b[0m \u001b[0;34m=\u001b[0m \u001b[0mget_bcor_meta\u001b[0m\u001b[0;34m(\u001b[0m\u001b[0mbcor_obj\u001b[0m\u001b[0;34m)\u001b[0m\u001b[0;34m\u001b[0m\u001b[0;34m\u001b[0m\u001b[0m\n\u001b[0m\u001b[1;32m     21\u001b[0m     \u001b[0mld_arr\u001b[0m \u001b[0;34m=\u001b[0m \u001b[0mbcor_obj\u001b[0m\u001b[0;34m.\u001b[0m\u001b[0mreadCorr\u001b[0m\u001b[0;34m(\u001b[0m\u001b[0;34m[\u001b[0m\u001b[0;34m]\u001b[0m\u001b[0;34m)\u001b[0m\u001b[0;34m\u001b[0m\u001b[0;34m\u001b[0m\u001b[0m\n\u001b[1;32m     22\u001b[0m     \u001b[0;32massert\u001b[0m \u001b[0mnp\u001b[0m\u001b[0;34m.\u001b[0m\u001b[0mall\u001b[0m\u001b[0;34m(\u001b[0m\u001b[0;34m~\u001b[0m\u001b[0mnp\u001b[0m\u001b[0;34m.\u001b[0m\u001b[0misnan\u001b[0m\u001b[0;34m(\u001b[0m\u001b[0mld_arr\u001b[0m\u001b[0;34m)\u001b[0m\u001b[0;34m)\u001b[0m\u001b[0;34m\u001b[0m\u001b[0;34m\u001b[0m\u001b[0m\n",
      "\u001b[0;31mNameError\u001b[0m: name 'get_bcor_meta' is not defined"
     ]
    }
   ],
   "source": [
    "load_ld_bcor(\"/mnt/vast/hpc/csg/UKBiobank/results/pleiotropy_AD_ARHI/111822_LDstore_files/regions_chr1_22/22/22_16050408_17674295.bcor\")"
   ]
  },
  {
   "cell_type": "code",
   "execution_count": 146,
   "id": "6fe95c01-6c4a-4b9e-a0fb-ffa474c5a503",
   "metadata": {},
   "outputs": [],
   "source": [
    "from ldstore.bcor import bcor"
   ]
  },
  {
   "cell_type": "code",
   "execution_count": 147,
   "id": "0de9b409-76cf-4081-9d6c-94b6c2e284d4",
   "metadata": {},
   "outputs": [
    {
     "data": {
      "text/plain": [
       "<ldstore.bcor.bcor at 0x2b8dcebaa910>"
      ]
     },
     "execution_count": 147,
     "metadata": {},
     "output_type": "execute_result"
    }
   ],
   "source": [
    "bcor(\"/mnt/vast/hpc/csg/UKBiobank/results/pleiotropy_AD_ARHI/111822_LDstore_files/regions_chr1_22/22/22_16050408_17674295.bcor\")\n"
   ]
  },
  {
   "cell_type": "code",
   "execution_count": 157,
   "id": "a5a78091-c3f3-4ada-96ba-482a97a5b46b",
   "metadata": {},
   "outputs": [],
   "source": [
    "new,snp_id = load_npz_ld(test[0])"
   ]
  },
  {
   "cell_type": "code",
   "execution_count": 158,
   "id": "d1fdeb4a-ddb5-4191-98c6-2001330e0d46",
   "metadata": {},
   "outputs": [
    {
     "name": "stderr",
     "output_type": "stream",
     "text": [
      "/home/hs3163/miniconda3/lib/python3.9/site-packages/IPython/core/interactiveshell.py:3441: FutureWarning: In a future version of pandas all arguments of read_csv except for the argument 'filepath_or_buffer' will be keyword-only.\n",
      "  exec(code_obj, self.user_global_ns, self.user_ns)\n"
     ]
    }
   ],
   "source": [
    "sumstat = pd.read_csv(test[1], \"\\t\")"
   ]
  },
  {
   "cell_type": "code",
   "execution_count": 159,
   "id": "a1a58fea-7397-4087-9e09-3d7edbcee6b2",
   "metadata": {},
   "outputs": [
    {
     "data": {
      "text/plain": [
       "0               chr17_129957_G_A\n",
       "1               chr17_130935_T_C\n",
       "2               chr17_130971_T_C\n",
       "3               chr17_131543_T_C\n",
       "4            chr17_138820_C_CCCG\n",
       "                   ...          \n",
       "503590        chr17_83205421_G_A\n",
       "503591        chr17_83206344_G_A\n",
       "503592        chr17_83206991_C_T\n",
       "503593        chr17_83214512_G_A\n",
       "503594    chr17_83219409_GGAGT_G\n",
       "Name: variant, Length: 503595, dtype: object"
      ]
     },
     "execution_count": 159,
     "metadata": {},
     "output_type": "execute_result"
    }
   ],
   "source": [
    "sumstat.variant"
   ]
  },
  {
   "cell_type": "code",
   "execution_count": 125,
   "id": "d184e537-21e2-468c-8fbc-75c70bef0f18",
   "metadata": {},
   "outputs": [],
   "source": [
    "a = np.intersect1d(sumstat.variant.to_numpy(),[x.replace(\":\",\"_\") for x in snp_id])"
   ]
  },
  {
   "cell_type": "code",
   "execution_count": 126,
   "id": "d5116dc8-316e-41a1-a06c-4b2aa4483356",
   "metadata": {},
   "outputs": [
    {
     "data": {
      "text/plain": [
       "6668"
      ]
     },
     "execution_count": 126,
     "metadata": {},
     "output_type": "execute_result"
    }
   ],
   "source": [
    "len(a)"
   ]
  },
  {
   "cell_type": "code",
   "execution_count": 120,
   "id": "cd7381a3-c0af-409b-bea0-85b9f9b0d2ff",
   "metadata": {},
   "outputs": [
    {
     "data": {
      "text/plain": [
       "array(['chr1:16206_T_A', 'chr1:16433_C_G', 'chr1:16619_C_T', ...,\n",
       "       'chr1:2887986_T_C', 'chr1:2888101_C_G', 'chr1:2888245_G_A'],\n",
       "      dtype=object)"
      ]
     },
     "execution_count": 120,
     "metadata": {},
     "output_type": "execute_result"
    }
   ],
   "source": [
    "snp_id"
   ]
  },
  {
   "cell_type": "code",
   "execution_count": 111,
   "id": "579af183-7bce-4ca5-884b-d2615e110760",
   "metadata": {},
   "outputs": [
    {
     "data": {
      "text/plain": [
       "array(['chr1_594445_C_T', 'chr1_595762_C_CTG', 'chr1_630947_G_A', ...,\n",
       "       'chr1_248936715_C_T', 'chr1_248937246_A_G', 'chr1_248941807_AG_A'],\n",
       "      dtype=object)"
      ]
     },
     "execution_count": 111,
     "metadata": {},
     "output_type": "execute_result"
    }
   ],
   "source": [
    "sumstat.variant.to_numpy()"
   ]
  },
  {
   "cell_type": "code",
   "execution_count": 77,
   "id": "43cfa668-24ef-40a7-8d50-030634a3bc2d",
   "metadata": {},
   "outputs": [
    {
     "data": {
      "text/plain": [
       "array(['chr1_100000223_C_T', 'chr1_100000723_G_A', 'chr1_100000874_G_T',\n",
       "       ..., 'chr1_248936715_C_T', 'chr1_248937246_A_G',\n",
       "       'chr1_248941807_AG_A'], dtype=object)"
      ]
     },
     "execution_count": 77,
     "metadata": {},
     "output_type": "execute_result"
    }
   ],
   "source": [
    "sumstat.variant.to_numpy()"
   ]
  },
  {
   "cell_type": "code",
   "execution_count": 94,
   "id": "4e0c3dc2-6fd3-494c-aaa9-28ba0fab4ae3",
   "metadata": {},
   "outputs": [
    {
     "name": "stderr",
     "output_type": "stream",
     "text": [
      "/home/hs3163/miniconda3/lib/python3.9/site-packages/IPython/core/interactiveshell.py:3441: FutureWarning: In a future version of pandas all arguments of read_csv except for the argument 'filepath_or_buffer' will be keyword-only.\n",
      "  exec(code_obj, self.user_global_ns, self.user_ns)\n"
     ]
    }
   ],
   "source": [
    "snp_id = pd.read_csv(\"/mnt/vast/hpc/csg/molecular_phenotype_calling/LD/output_npz_2/1300_hg38_EUR_LD_blocks_plink_files/ROSMAP_NIA_WGS.leftnorm.filtered.filtered.chr1_16103_2888443.bim\",\"\\t\",header = None)[1].to_numpy()"
   ]
  },
  {
   "cell_type": "code",
   "execution_count": 95,
   "id": "341cac71-717b-4982-b53e-2719c2b5d5c4",
   "metadata": {},
   "outputs": [
    {
     "data": {
      "text/plain": [
       "array(['chr1:16206_T_A', 'chr1:16433_C_G', 'chr1:16619_C_T', ...,\n",
       "       'chr1:2887986_T_C', 'chr1:2888101_C_G', 'chr1:2888245_G_A'],\n",
       "      dtype=object)"
      ]
     },
     "execution_count": 95,
     "metadata": {},
     "output_type": "execute_result"
    }
   ],
   "source": [
    "snp_id"
   ]
  },
  {
   "cell_type": "code",
   "execution_count": 88,
   "id": "2ed963af-c874-4239-96bc-bacfab84c4ba",
   "metadata": {},
   "outputs": [
    {
     "data": {
      "text/plain": [
       "'/mnt/vast/hpc/csg/molecular_phenotype_calling/LD/output_npz_2/1300_hg38_EUR_LD_blocks_npz_files/ROSMAP_NIA_WGS.leftnorm.filtered.filtered.chr1_16103_2888443.flt16.npz'"
      ]
     },
     "execution_count": 88,
     "metadata": {},
     "output_type": "execute_result"
    }
   ],
   "source": [
    "test[0]"
   ]
  },
  {
   "cell_type": "code",
   "execution_count": 96,
   "id": "11a73660-fe0d-479a-afc8-5c6c02927867",
   "metadata": {},
   "outputs": [
    {
     "data": {
      "text/plain": [
       "array([], dtype=object)"
      ]
     },
     "execution_count": 96,
     "metadata": {},
     "output_type": "execute_result"
    }
   ],
   "source": [
    "np.intersect1d(sumstat.variant.to_numpy(),snp_id)"
   ]
  },
  {
   "cell_type": "code",
   "execution_count": 97,
   "id": "edfebbc9-8a89-43c7-9e84-d1b00fdd2fd7",
   "metadata": {},
   "outputs": [
    {
     "data": {
      "text/plain": [
       "array(['chr1:16206_T_A', 'chr1:16433_C_G', 'chr1:16619_C_T', ...,\n",
       "       'chr1:2887986_T_C', 'chr1:2888101_C_G', 'chr1:2888245_G_A'],\n",
       "      dtype=object)"
      ]
     },
     "execution_count": 97,
     "metadata": {},
     "output_type": "execute_result"
    }
   ],
   "source": [
    "snp_id"
   ]
  },
  {
   "cell_type": "code",
   "execution_count": 98,
   "id": "f50b01ea-d7c3-4a23-ba2a-d6b44ed13ecc",
   "metadata": {},
   "outputs": [
    {
     "data": {
      "text/plain": [
       "array(['chr1_100000223_C_T', 'chr1_100000723_G_A', 'chr1_100000874_G_T',\n",
       "       ..., 'chr1_248936715_C_T', 'chr1_248937246_A_G',\n",
       "       'chr1_248941807_AG_A'], dtype=object)"
      ]
     },
     "execution_count": 98,
     "metadata": {},
     "output_type": "execute_result"
    }
   ],
   "source": [
    "sumstat.variant.to_numpy()"
   ]
  },
  {
   "cell_type": "code",
   "execution_count": 161,
   "id": "b7ba638b-6722-4f97-be76-cf88fc44baf2",
   "metadata": {},
   "outputs": [
    {
     "data": {
      "text/html": [
       "<div>\n",
       "<style scoped>\n",
       "    .dataframe tbody tr th:only-of-type {\n",
       "        vertical-align: middle;\n",
       "    }\n",
       "\n",
       "    .dataframe tbody tr th {\n",
       "        vertical-align: top;\n",
       "    }\n",
       "\n",
       "    .dataframe thead th {\n",
       "        text-align: right;\n",
       "    }\n",
       "</style>\n",
       "<table border=\"1\" class=\"dataframe\">\n",
       "  <thead>\n",
       "    <tr style=\"text-align: right;\">\n",
       "      <th></th>\n",
       "      <th>chromosome</th>\n",
       "      <th>position</th>\n",
       "      <th>ref</th>\n",
       "      <th>alt</th>\n",
       "      <th>variant</th>\n",
       "      <th>beta</th>\n",
       "      <th>se</th>\n",
       "      <th>pvalue</th>\n",
       "      <th>maf</th>\n",
       "      <th>n_cases</th>\n",
       "      <th>n_controls</th>\n",
       "      <th>original_effect_allele_frequency</th>\n",
       "    </tr>\n",
       "  </thead>\n",
       "  <tbody>\n",
       "    <tr>\n",
       "      <th>0</th>\n",
       "      <td>17</td>\n",
       "      <td>129957</td>\n",
       "      <td>G</td>\n",
       "      <td>A</td>\n",
       "      <td>chr17_129957_G_A</td>\n",
       "      <td>0.0288</td>\n",
       "      <td>0.0262</td>\n",
       "      <td>0.27320</td>\n",
       "      <td>0.0501</td>\n",
       "      <td>34556</td>\n",
       "      <td>49251</td>\n",
       "      <td>0.0501</td>\n",
       "    </tr>\n",
       "    <tr>\n",
       "      <th>1</th>\n",
       "      <td>17</td>\n",
       "      <td>130935</td>\n",
       "      <td>T</td>\n",
       "      <td>C</td>\n",
       "      <td>chr17_130935_T_C</td>\n",
       "      <td>-0.0252</td>\n",
       "      <td>0.0134</td>\n",
       "      <td>0.05962</td>\n",
       "      <td>0.4255</td>\n",
       "      <td>34556</td>\n",
       "      <td>49251</td>\n",
       "      <td>0.4255</td>\n",
       "    </tr>\n",
       "    <tr>\n",
       "      <th>2</th>\n",
       "      <td>17</td>\n",
       "      <td>130971</td>\n",
       "      <td>T</td>\n",
       "      <td>C</td>\n",
       "      <td>chr17_130971_T_C</td>\n",
       "      <td>-0.0259</td>\n",
       "      <td>0.0134</td>\n",
       "      <td>0.05388</td>\n",
       "      <td>0.4197</td>\n",
       "      <td>34556</td>\n",
       "      <td>49251</td>\n",
       "      <td>0.4197</td>\n",
       "    </tr>\n",
       "    <tr>\n",
       "      <th>3</th>\n",
       "      <td>17</td>\n",
       "      <td>131543</td>\n",
       "      <td>T</td>\n",
       "      <td>C</td>\n",
       "      <td>chr17_131543_T_C</td>\n",
       "      <td>-0.0273</td>\n",
       "      <td>0.0135</td>\n",
       "      <td>0.04305</td>\n",
       "      <td>0.4171</td>\n",
       "      <td>34556</td>\n",
       "      <td>49251</td>\n",
       "      <td>0.4171</td>\n",
       "    </tr>\n",
       "    <tr>\n",
       "      <th>4</th>\n",
       "      <td>17</td>\n",
       "      <td>138820</td>\n",
       "      <td>C</td>\n",
       "      <td>CCCG</td>\n",
       "      <td>chr17_138820_C_CCCG</td>\n",
       "      <td>-0.7155</td>\n",
       "      <td>0.4643</td>\n",
       "      <td>0.12340</td>\n",
       "      <td>0.0005</td>\n",
       "      <td>20301</td>\n",
       "      <td>21839</td>\n",
       "      <td>0.0005</td>\n",
       "    </tr>\n",
       "    <tr>\n",
       "      <th>...</th>\n",
       "      <td>...</td>\n",
       "      <td>...</td>\n",
       "      <td>...</td>\n",
       "      <td>...</td>\n",
       "      <td>...</td>\n",
       "      <td>...</td>\n",
       "      <td>...</td>\n",
       "      <td>...</td>\n",
       "      <td>...</td>\n",
       "      <td>...</td>\n",
       "      <td>...</td>\n",
       "      <td>...</td>\n",
       "    </tr>\n",
       "    <tr>\n",
       "      <th>503590</th>\n",
       "      <td>17</td>\n",
       "      <td>83205421</td>\n",
       "      <td>G</td>\n",
       "      <td>A</td>\n",
       "      <td>chr17_83205421_G_A</td>\n",
       "      <td>-0.0960</td>\n",
       "      <td>0.2479</td>\n",
       "      <td>0.69860</td>\n",
       "      <td>0.0008</td>\n",
       "      <td>69576</td>\n",
       "      <td>360279</td>\n",
       "      <td>0.0008</td>\n",
       "    </tr>\n",
       "    <tr>\n",
       "      <th>503591</th>\n",
       "      <td>17</td>\n",
       "      <td>83206344</td>\n",
       "      <td>G</td>\n",
       "      <td>A</td>\n",
       "      <td>chr17_83206344_G_A</td>\n",
       "      <td>0.0662</td>\n",
       "      <td>0.0804</td>\n",
       "      <td>0.41080</td>\n",
       "      <td>0.0057</td>\n",
       "      <td>84196</td>\n",
       "      <td>393797</td>\n",
       "      <td>0.0057</td>\n",
       "    </tr>\n",
       "    <tr>\n",
       "      <th>503592</th>\n",
       "      <td>17</td>\n",
       "      <td>83206991</td>\n",
       "      <td>C</td>\n",
       "      <td>T</td>\n",
       "      <td>chr17_83206991_C_T</td>\n",
       "      <td>-0.0015</td>\n",
       "      <td>0.0823</td>\n",
       "      <td>0.98550</td>\n",
       "      <td>0.0054</td>\n",
       "      <td>83196</td>\n",
       "      <td>386481</td>\n",
       "      <td>0.0054</td>\n",
       "    </tr>\n",
       "    <tr>\n",
       "      <th>503593</th>\n",
       "      <td>17</td>\n",
       "      <td>83214512</td>\n",
       "      <td>G</td>\n",
       "      <td>A</td>\n",
       "      <td>chr17_83214512_G_A</td>\n",
       "      <td>-0.0051</td>\n",
       "      <td>0.0205</td>\n",
       "      <td>0.80510</td>\n",
       "      <td>0.1278</td>\n",
       "      <td>34921</td>\n",
       "      <td>55357</td>\n",
       "      <td>0.1278</td>\n",
       "    </tr>\n",
       "    <tr>\n",
       "      <th>503594</th>\n",
       "      <td>17</td>\n",
       "      <td>83219409</td>\n",
       "      <td>GGAGT</td>\n",
       "      <td>G</td>\n",
       "      <td>chr17_83219409_GGAGT_G</td>\n",
       "      <td>-0.1201</td>\n",
       "      <td>0.2270</td>\n",
       "      <td>0.59680</td>\n",
       "      <td>0.0011</td>\n",
       "      <td>20301</td>\n",
       "      <td>21839</td>\n",
       "      <td>0.0011</td>\n",
       "    </tr>\n",
       "  </tbody>\n",
       "</table>\n",
       "<p>503595 rows × 12 columns</p>\n",
       "</div>"
      ],
      "text/plain": [
       "        chromosome  position    ref   alt                 variant    beta  \\\n",
       "0               17    129957      G     A        chr17_129957_G_A  0.0288   \n",
       "1               17    130935      T     C        chr17_130935_T_C -0.0252   \n",
       "2               17    130971      T     C        chr17_130971_T_C -0.0259   \n",
       "3               17    131543      T     C        chr17_131543_T_C -0.0273   \n",
       "4               17    138820      C  CCCG     chr17_138820_C_CCCG -0.7155   \n",
       "...            ...       ...    ...   ...                     ...     ...   \n",
       "503590          17  83205421      G     A      chr17_83205421_G_A -0.0960   \n",
       "503591          17  83206344      G     A      chr17_83206344_G_A  0.0662   \n",
       "503592          17  83206991      C     T      chr17_83206991_C_T -0.0015   \n",
       "503593          17  83214512      G     A      chr17_83214512_G_A -0.0051   \n",
       "503594          17  83219409  GGAGT     G  chr17_83219409_GGAGT_G -0.1201   \n",
       "\n",
       "            se   pvalue     maf  n_cases  n_controls  \\\n",
       "0       0.0262  0.27320  0.0501    34556       49251   \n",
       "1       0.0134  0.05962  0.4255    34556       49251   \n",
       "2       0.0134  0.05388  0.4197    34556       49251   \n",
       "3       0.0135  0.04305  0.4171    34556       49251   \n",
       "4       0.4643  0.12340  0.0005    20301       21839   \n",
       "...        ...      ...     ...      ...         ...   \n",
       "503590  0.2479  0.69860  0.0008    69576      360279   \n",
       "503591  0.0804  0.41080  0.0057    84196      393797   \n",
       "503592  0.0823  0.98550  0.0054    83196      386481   \n",
       "503593  0.0205  0.80510  0.1278    34921       55357   \n",
       "503594  0.2270  0.59680  0.0011    20301       21839   \n",
       "\n",
       "        original_effect_allele_frequency  \n",
       "0                                 0.0501  \n",
       "1                                 0.4255  \n",
       "2                                 0.4197  \n",
       "3                                 0.4171  \n",
       "4                                 0.0005  \n",
       "...                                  ...  \n",
       "503590                            0.0008  \n",
       "503591                            0.0057  \n",
       "503592                            0.0054  \n",
       "503593                            0.1278  \n",
       "503594                            0.0011  \n",
       "\n",
       "[503595 rows x 12 columns]"
      ]
     },
     "execution_count": 161,
     "metadata": {},
     "output_type": "execute_result"
    }
   ],
   "source": [
    "sumstat.sort_values(\"position\")"
   ]
  },
  {
   "cell_type": "code",
   "execution_count": 160,
   "id": "37601c47-f71b-44d7-a41c-37141b139bd5",
   "metadata": {},
   "outputs": [
    {
     "data": {
      "text/html": [
       "<div>\n",
       "<style scoped>\n",
       "    .dataframe tbody tr th:only-of-type {\n",
       "        vertical-align: middle;\n",
       "    }\n",
       "\n",
       "    .dataframe tbody tr th {\n",
       "        vertical-align: top;\n",
       "    }\n",
       "\n",
       "    .dataframe thead th {\n",
       "        text-align: right;\n",
       "    }\n",
       "</style>\n",
       "<table border=\"1\" class=\"dataframe\">\n",
       "  <thead>\n",
       "    <tr style=\"text-align: right;\">\n",
       "      <th></th>\n",
       "      <th>chromosome</th>\n",
       "      <th>position</th>\n",
       "      <th>ref</th>\n",
       "      <th>alt</th>\n",
       "      <th>variant</th>\n",
       "      <th>beta</th>\n",
       "      <th>se</th>\n",
       "      <th>pvalue</th>\n",
       "      <th>maf</th>\n",
       "      <th>n_cases</th>\n",
       "      <th>n_controls</th>\n",
       "      <th>original_effect_allele_frequency</th>\n",
       "    </tr>\n",
       "  </thead>\n",
       "  <tbody>\n",
       "    <tr>\n",
       "      <th>0</th>\n",
       "      <td>17</td>\n",
       "      <td>129957</td>\n",
       "      <td>G</td>\n",
       "      <td>A</td>\n",
       "      <td>chr17_129957_G_A</td>\n",
       "      <td>0.0288</td>\n",
       "      <td>0.0262</td>\n",
       "      <td>0.27320</td>\n",
       "      <td>0.0501</td>\n",
       "      <td>34556</td>\n",
       "      <td>49251</td>\n",
       "      <td>0.0501</td>\n",
       "    </tr>\n",
       "    <tr>\n",
       "      <th>1</th>\n",
       "      <td>17</td>\n",
       "      <td>130935</td>\n",
       "      <td>T</td>\n",
       "      <td>C</td>\n",
       "      <td>chr17_130935_T_C</td>\n",
       "      <td>-0.0252</td>\n",
       "      <td>0.0134</td>\n",
       "      <td>0.05962</td>\n",
       "      <td>0.4255</td>\n",
       "      <td>34556</td>\n",
       "      <td>49251</td>\n",
       "      <td>0.4255</td>\n",
       "    </tr>\n",
       "    <tr>\n",
       "      <th>2</th>\n",
       "      <td>17</td>\n",
       "      <td>130971</td>\n",
       "      <td>T</td>\n",
       "      <td>C</td>\n",
       "      <td>chr17_130971_T_C</td>\n",
       "      <td>-0.0259</td>\n",
       "      <td>0.0134</td>\n",
       "      <td>0.05388</td>\n",
       "      <td>0.4197</td>\n",
       "      <td>34556</td>\n",
       "      <td>49251</td>\n",
       "      <td>0.4197</td>\n",
       "    </tr>\n",
       "    <tr>\n",
       "      <th>3</th>\n",
       "      <td>17</td>\n",
       "      <td>131543</td>\n",
       "      <td>T</td>\n",
       "      <td>C</td>\n",
       "      <td>chr17_131543_T_C</td>\n",
       "      <td>-0.0273</td>\n",
       "      <td>0.0135</td>\n",
       "      <td>0.04305</td>\n",
       "      <td>0.4171</td>\n",
       "      <td>34556</td>\n",
       "      <td>49251</td>\n",
       "      <td>0.4171</td>\n",
       "    </tr>\n",
       "    <tr>\n",
       "      <th>4</th>\n",
       "      <td>17</td>\n",
       "      <td>138820</td>\n",
       "      <td>C</td>\n",
       "      <td>CCCG</td>\n",
       "      <td>chr17_138820_C_CCCG</td>\n",
       "      <td>-0.7155</td>\n",
       "      <td>0.4643</td>\n",
       "      <td>0.12340</td>\n",
       "      <td>0.0005</td>\n",
       "      <td>20301</td>\n",
       "      <td>21839</td>\n",
       "      <td>0.0005</td>\n",
       "    </tr>\n",
       "    <tr>\n",
       "      <th>...</th>\n",
       "      <td>...</td>\n",
       "      <td>...</td>\n",
       "      <td>...</td>\n",
       "      <td>...</td>\n",
       "      <td>...</td>\n",
       "      <td>...</td>\n",
       "      <td>...</td>\n",
       "      <td>...</td>\n",
       "      <td>...</td>\n",
       "      <td>...</td>\n",
       "      <td>...</td>\n",
       "      <td>...</td>\n",
       "    </tr>\n",
       "    <tr>\n",
       "      <th>503590</th>\n",
       "      <td>17</td>\n",
       "      <td>83205421</td>\n",
       "      <td>G</td>\n",
       "      <td>A</td>\n",
       "      <td>chr17_83205421_G_A</td>\n",
       "      <td>-0.0960</td>\n",
       "      <td>0.2479</td>\n",
       "      <td>0.69860</td>\n",
       "      <td>0.0008</td>\n",
       "      <td>69576</td>\n",
       "      <td>360279</td>\n",
       "      <td>0.0008</td>\n",
       "    </tr>\n",
       "    <tr>\n",
       "      <th>503591</th>\n",
       "      <td>17</td>\n",
       "      <td>83206344</td>\n",
       "      <td>G</td>\n",
       "      <td>A</td>\n",
       "      <td>chr17_83206344_G_A</td>\n",
       "      <td>0.0662</td>\n",
       "      <td>0.0804</td>\n",
       "      <td>0.41080</td>\n",
       "      <td>0.0057</td>\n",
       "      <td>84196</td>\n",
       "      <td>393797</td>\n",
       "      <td>0.0057</td>\n",
       "    </tr>\n",
       "    <tr>\n",
       "      <th>503592</th>\n",
       "      <td>17</td>\n",
       "      <td>83206991</td>\n",
       "      <td>C</td>\n",
       "      <td>T</td>\n",
       "      <td>chr17_83206991_C_T</td>\n",
       "      <td>-0.0015</td>\n",
       "      <td>0.0823</td>\n",
       "      <td>0.98550</td>\n",
       "      <td>0.0054</td>\n",
       "      <td>83196</td>\n",
       "      <td>386481</td>\n",
       "      <td>0.0054</td>\n",
       "    </tr>\n",
       "    <tr>\n",
       "      <th>503593</th>\n",
       "      <td>17</td>\n",
       "      <td>83214512</td>\n",
       "      <td>G</td>\n",
       "      <td>A</td>\n",
       "      <td>chr17_83214512_G_A</td>\n",
       "      <td>-0.0051</td>\n",
       "      <td>0.0205</td>\n",
       "      <td>0.80510</td>\n",
       "      <td>0.1278</td>\n",
       "      <td>34921</td>\n",
       "      <td>55357</td>\n",
       "      <td>0.1278</td>\n",
       "    </tr>\n",
       "    <tr>\n",
       "      <th>503594</th>\n",
       "      <td>17</td>\n",
       "      <td>83219409</td>\n",
       "      <td>GGAGT</td>\n",
       "      <td>G</td>\n",
       "      <td>chr17_83219409_GGAGT_G</td>\n",
       "      <td>-0.1201</td>\n",
       "      <td>0.2270</td>\n",
       "      <td>0.59680</td>\n",
       "      <td>0.0011</td>\n",
       "      <td>20301</td>\n",
       "      <td>21839</td>\n",
       "      <td>0.0011</td>\n",
       "    </tr>\n",
       "  </tbody>\n",
       "</table>\n",
       "<p>503595 rows × 12 columns</p>\n",
       "</div>"
      ],
      "text/plain": [
       "        chromosome  position    ref   alt                 variant    beta  \\\n",
       "0               17    129957      G     A        chr17_129957_G_A  0.0288   \n",
       "1               17    130935      T     C        chr17_130935_T_C -0.0252   \n",
       "2               17    130971      T     C        chr17_130971_T_C -0.0259   \n",
       "3               17    131543      T     C        chr17_131543_T_C -0.0273   \n",
       "4               17    138820      C  CCCG     chr17_138820_C_CCCG -0.7155   \n",
       "...            ...       ...    ...   ...                     ...     ...   \n",
       "503590          17  83205421      G     A      chr17_83205421_G_A -0.0960   \n",
       "503591          17  83206344      G     A      chr17_83206344_G_A  0.0662   \n",
       "503592          17  83206991      C     T      chr17_83206991_C_T -0.0015   \n",
       "503593          17  83214512      G     A      chr17_83214512_G_A -0.0051   \n",
       "503594          17  83219409  GGAGT     G  chr17_83219409_GGAGT_G -0.1201   \n",
       "\n",
       "            se   pvalue     maf  n_cases  n_controls  \\\n",
       "0       0.0262  0.27320  0.0501    34556       49251   \n",
       "1       0.0134  0.05962  0.4255    34556       49251   \n",
       "2       0.0134  0.05388  0.4197    34556       49251   \n",
       "3       0.0135  0.04305  0.4171    34556       49251   \n",
       "4       0.4643  0.12340  0.0005    20301       21839   \n",
       "...        ...      ...     ...      ...         ...   \n",
       "503590  0.2479  0.69860  0.0008    69576      360279   \n",
       "503591  0.0804  0.41080  0.0057    84196      393797   \n",
       "503592  0.0823  0.98550  0.0054    83196      386481   \n",
       "503593  0.0205  0.80510  0.1278    34921       55357   \n",
       "503594  0.2270  0.59680  0.0011    20301       21839   \n",
       "\n",
       "        original_effect_allele_frequency  \n",
       "0                                 0.0501  \n",
       "1                                 0.4255  \n",
       "2                                 0.4197  \n",
       "3                                 0.4171  \n",
       "4                                 0.0005  \n",
       "...                                  ...  \n",
       "503590                            0.0008  \n",
       "503591                            0.0057  \n",
       "503592                            0.0054  \n",
       "503593                            0.1278  \n",
       "503594                            0.0011  \n",
       "\n",
       "[503595 rows x 12 columns]"
      ]
     },
     "execution_count": 160,
     "metadata": {},
     "output_type": "execute_result"
    }
   ],
   "source": [
    "sumstat"
   ]
  },
  {
   "cell_type": "code",
   "execution_count": 176,
   "id": "e4221c7b-7c86-4dda-8fa3-b60eb08778d5",
   "metadata": {},
   "outputs": [
    {
     "data": {
      "text/html": [
       "<div>\n",
       "<style scoped>\n",
       "    .dataframe tbody tr th:only-of-type {\n",
       "        vertical-align: middle;\n",
       "    }\n",
       "\n",
       "    .dataframe tbody tr th {\n",
       "        vertical-align: top;\n",
       "    }\n",
       "\n",
       "    .dataframe thead th {\n",
       "        text-align: right;\n",
       "    }\n",
       "</style>\n",
       "<table border=\"1\" class=\"dataframe\">\n",
       "  <thead>\n",
       "    <tr style=\"text-align: right;\">\n",
       "      <th></th>\n",
       "      <th>chromosome</th>\n",
       "      <th>position</th>\n",
       "      <th>ref</th>\n",
       "      <th>alt</th>\n",
       "      <th>variant</th>\n",
       "      <th>beta</th>\n",
       "      <th>se</th>\n",
       "      <th>pvalue</th>\n",
       "      <th>maf</th>\n",
       "      <th>n_cases</th>\n",
       "      <th>n_controls</th>\n",
       "      <th>original_effect_allele_frequency</th>\n",
       "      <th>lbf</th>\n",
       "      <th>prob</th>\n",
       "      <th>cs</th>\n",
       "      <th>cs_99</th>\n",
       "    </tr>\n",
       "  </thead>\n",
       "  <tbody>\n",
       "    <tr>\n",
       "      <th>4</th>\n",
       "      <td>1</td>\n",
       "      <td>727233</td>\n",
       "      <td>G</td>\n",
       "      <td>A</td>\n",
       "      <td>chr1_727233_G_A</td>\n",
       "      <td>-0.0210</td>\n",
       "      <td>0.0453</td>\n",
       "      <td>0.6424</td>\n",
       "      <td>0.0191</td>\n",
       "      <td>81166</td>\n",
       "      <td>386644</td>\n",
       "      <td>0.0191</td>\n",
       "      <td>-1.407817</td>\n",
       "      <td>9.027621e-32</td>\n",
       "      <td>False</td>\n",
       "      <td>False</td>\n",
       "    </tr>\n",
       "    <tr>\n",
       "      <th>9</th>\n",
       "      <td>1</td>\n",
       "      <td>733014</td>\n",
       "      <td>AG</td>\n",
       "      <td>A</td>\n",
       "      <td>chr1_733014_AG_A</td>\n",
       "      <td>0.0108</td>\n",
       "      <td>0.0413</td>\n",
       "      <td>0.7935</td>\n",
       "      <td>0.0267</td>\n",
       "      <td>78401</td>\n",
       "      <td>374200</td>\n",
       "      <td>0.0267</td>\n",
       "      <td>-1.565541</td>\n",
       "      <td>7.710363e-32</td>\n",
       "      <td>False</td>\n",
       "      <td>False</td>\n",
       "    </tr>\n",
       "    <tr>\n",
       "      <th>13</th>\n",
       "      <td>1</td>\n",
       "      <td>758213</td>\n",
       "      <td>AT</td>\n",
       "      <td>A</td>\n",
       "      <td>chr1_758213_AT_A</td>\n",
       "      <td>0.1318</td>\n",
       "      <td>0.1069</td>\n",
       "      <td>0.2173</td>\n",
       "      <td>0.0038</td>\n",
       "      <td>79473</td>\n",
       "      <td>380718</td>\n",
       "      <td>0.0038</td>\n",
       "      <td>-0.160906</td>\n",
       "      <td>3.141232e-31</td>\n",
       "      <td>False</td>\n",
       "      <td>False</td>\n",
       "    </tr>\n",
       "    <tr>\n",
       "      <th>16</th>\n",
       "      <td>1</td>\n",
       "      <td>758540</td>\n",
       "      <td>T</td>\n",
       "      <td>C</td>\n",
       "      <td>chr1_758540_T_C</td>\n",
       "      <td>0.0429</td>\n",
       "      <td>0.1113</td>\n",
       "      <td>0.6996</td>\n",
       "      <td>0.0040</td>\n",
       "      <td>77766</td>\n",
       "      <td>372990</td>\n",
       "      <td>0.9960</td>\n",
       "      <td>-0.664266</td>\n",
       "      <td>1.898863e-31</td>\n",
       "      <td>False</td>\n",
       "      <td>False</td>\n",
       "    </tr>\n",
       "    <tr>\n",
       "      <th>19</th>\n",
       "      <td>1</td>\n",
       "      <td>766399</td>\n",
       "      <td>GAATA</td>\n",
       "      <td>G</td>\n",
       "      <td>chr1_766399_GAATA_G</td>\n",
       "      <td>0.0055</td>\n",
       "      <td>0.0249</td>\n",
       "      <td>0.8246</td>\n",
       "      <td>0.0678</td>\n",
       "      <td>80801</td>\n",
       "      <td>380538</td>\n",
       "      <td>0.0678</td>\n",
       "      <td>-2.067118</td>\n",
       "      <td>4.669203e-32</td>\n",
       "      <td>False</td>\n",
       "      <td>False</td>\n",
       "    </tr>\n",
       "    <tr>\n",
       "      <th>...</th>\n",
       "      <td>...</td>\n",
       "      <td>...</td>\n",
       "      <td>...</td>\n",
       "      <td>...</td>\n",
       "      <td>...</td>\n",
       "      <td>...</td>\n",
       "      <td>...</td>\n",
       "      <td>...</td>\n",
       "      <td>...</td>\n",
       "      <td>...</td>\n",
       "      <td>...</td>\n",
       "      <td>...</td>\n",
       "      <td>...</td>\n",
       "      <td>...</td>\n",
       "      <td>...</td>\n",
       "      <td>...</td>\n",
       "    </tr>\n",
       "    <tr>\n",
       "      <th>15105</th>\n",
       "      <td>1</td>\n",
       "      <td>2886544</td>\n",
       "      <td>G</td>\n",
       "      <td>A</td>\n",
       "      <td>chr1_2886544_G_A</td>\n",
       "      <td>0.0071</td>\n",
       "      <td>0.0451</td>\n",
       "      <td>0.8746</td>\n",
       "      <td>0.0110</td>\n",
       "      <td>85502</td>\n",
       "      <td>400497</td>\n",
       "      <td>0.0110</td>\n",
       "      <td>-1.502443</td>\n",
       "      <td>8.212549e-32</td>\n",
       "      <td>False</td>\n",
       "      <td>False</td>\n",
       "    </tr>\n",
       "    <tr>\n",
       "      <th>15109</th>\n",
       "      <td>1</td>\n",
       "      <td>2887241</td>\n",
       "      <td>C</td>\n",
       "      <td>T</td>\n",
       "      <td>chr1_2887241_C_T</td>\n",
       "      <td>-0.0055</td>\n",
       "      <td>0.0090</td>\n",
       "      <td>0.5417</td>\n",
       "      <td>0.3818</td>\n",
       "      <td>84196</td>\n",
       "      <td>393797</td>\n",
       "      <td>0.3818</td>\n",
       "      <td>-2.915753</td>\n",
       "      <td>1.998412e-32</td>\n",
       "      <td>False</td>\n",
       "      <td>False</td>\n",
       "    </tr>\n",
       "    <tr>\n",
       "      <th>15114</th>\n",
       "      <td>1</td>\n",
       "      <td>2887908</td>\n",
       "      <td>T</td>\n",
       "      <td>C</td>\n",
       "      <td>chr1_2887908_T_C</td>\n",
       "      <td>-0.0194</td>\n",
       "      <td>0.0138</td>\n",
       "      <td>0.1594</td>\n",
       "      <td>0.1043</td>\n",
       "      <td>85665</td>\n",
       "      <td>400902</td>\n",
       "      <td>0.8957</td>\n",
       "      <td>-1.692573</td>\n",
       "      <td>6.790557e-32</td>\n",
       "      <td>False</td>\n",
       "      <td>False</td>\n",
       "    </tr>\n",
       "    <tr>\n",
       "      <th>15116</th>\n",
       "      <td>1</td>\n",
       "      <td>2887986</td>\n",
       "      <td>T</td>\n",
       "      <td>C</td>\n",
       "      <td>chr1_2887986_T_C</td>\n",
       "      <td>0.0809</td>\n",
       "      <td>0.1020</td>\n",
       "      <td>0.4275</td>\n",
       "      <td>0.0034</td>\n",
       "      <td>81503</td>\n",
       "      <td>380555</td>\n",
       "      <td>0.9966</td>\n",
       "      <td>-0.539330</td>\n",
       "      <td>2.151555e-31</td>\n",
       "      <td>False</td>\n",
       "      <td>False</td>\n",
       "    </tr>\n",
       "    <tr>\n",
       "      <th>15117</th>\n",
       "      <td>1</td>\n",
       "      <td>2888245</td>\n",
       "      <td>G</td>\n",
       "      <td>A</td>\n",
       "      <td>chr1_2888245_G_A</td>\n",
       "      <td>-0.0052</td>\n",
       "      <td>0.0144</td>\n",
       "      <td>0.7175</td>\n",
       "      <td>0.0979</td>\n",
       "      <td>85665</td>\n",
       "      <td>400902</td>\n",
       "      <td>0.0979</td>\n",
       "      <td>-2.568810</td>\n",
       "      <td>2.827226e-32</td>\n",
       "      <td>False</td>\n",
       "      <td>False</td>\n",
       "    </tr>\n",
       "  </tbody>\n",
       "</table>\n",
       "<p>6668 rows × 16 columns</p>\n",
       "</div>"
      ],
      "text/plain": [
       "       chromosome  position    ref alt              variant    beta      se  \\\n",
       "4               1    727233      G   A      chr1_727233_G_A -0.0210  0.0453   \n",
       "9               1    733014     AG   A     chr1_733014_AG_A  0.0108  0.0413   \n",
       "13              1    758213     AT   A     chr1_758213_AT_A  0.1318  0.1069   \n",
       "16              1    758540      T   C      chr1_758540_T_C  0.0429  0.1113   \n",
       "19              1    766399  GAATA   G  chr1_766399_GAATA_G  0.0055  0.0249   \n",
       "...           ...       ...    ...  ..                  ...     ...     ...   \n",
       "15105           1   2886544      G   A     chr1_2886544_G_A  0.0071  0.0451   \n",
       "15109           1   2887241      C   T     chr1_2887241_C_T -0.0055  0.0090   \n",
       "15114           1   2887908      T   C     chr1_2887908_T_C -0.0194  0.0138   \n",
       "15116           1   2887986      T   C     chr1_2887986_T_C  0.0809  0.1020   \n",
       "15117           1   2888245      G   A     chr1_2888245_G_A -0.0052  0.0144   \n",
       "\n",
       "       pvalue     maf  n_cases  n_controls  original_effect_allele_frequency  \\\n",
       "4      0.6424  0.0191    81166      386644                            0.0191   \n",
       "9      0.7935  0.0267    78401      374200                            0.0267   \n",
       "13     0.2173  0.0038    79473      380718                            0.0038   \n",
       "16     0.6996  0.0040    77766      372990                            0.9960   \n",
       "19     0.8246  0.0678    80801      380538                            0.0678   \n",
       "...       ...     ...      ...         ...                               ...   \n",
       "15105  0.8746  0.0110    85502      400497                            0.0110   \n",
       "15109  0.5417  0.3818    84196      393797                            0.3818   \n",
       "15114  0.1594  0.1043    85665      400902                            0.8957   \n",
       "15116  0.4275  0.0034    81503      380555                            0.9966   \n",
       "15117  0.7175  0.0979    85665      400902                            0.0979   \n",
       "\n",
       "            lbf          prob     cs  cs_99  \n",
       "4     -1.407817  9.027621e-32  False  False  \n",
       "9     -1.565541  7.710363e-32  False  False  \n",
       "13    -0.160906  3.141232e-31  False  False  \n",
       "16    -0.664266  1.898863e-31  False  False  \n",
       "19    -2.067118  4.669203e-32  False  False  \n",
       "...         ...           ...    ...    ...  \n",
       "15105 -1.502443  8.212549e-32  False  False  \n",
       "15109 -2.915753  1.998412e-32  False  False  \n",
       "15114 -1.692573  6.790557e-32  False  False  \n",
       "15116 -0.539330  2.151555e-31  False  False  \n",
       "15117 -2.568810  2.827226e-32  False  False  \n",
       "\n",
       "[6668 rows x 16 columns]"
      ]
     },
     "execution_count": 176,
     "metadata": {},
     "output_type": "execute_result"
    }
   ],
   "source": [
    "sumstat.query(\"variant in @a\")"
   ]
  },
  {
   "cell_type": "code",
   "execution_count": 172,
   "id": "edd1e436-fd2e-4713-b6ee-730112a93df3",
   "metadata": {},
   "outputs": [
    {
     "data": {
      "text/plain": [
       "15423"
      ]
     },
     "execution_count": 172,
     "metadata": {},
     "output_type": "execute_result"
    }
   ],
   "source": [
    "len(new)"
   ]
  },
  {
   "cell_type": "code",
   "execution_count": 174,
   "id": "6312d8f1-543c-43c4-8342-94f2bfc416f3",
   "metadata": {},
   "outputs": [
    {
     "data": {
      "text/plain": [
       "15423"
      ]
     },
     "execution_count": 174,
     "metadata": {},
     "output_type": "execute_result"
    }
   ],
   "source": [
    "len(snp_id)"
   ]
  },
  {
   "cell_type": "code",
   "execution_count": 175,
   "id": "6a1f8a6e-51c2-47be-bc49-9a28a3e2b32a",
   "metadata": {},
   "outputs": [
    {
     "data": {
      "text/plain": [
       "1451880"
      ]
     },
     "execution_count": 175,
     "metadata": {},
     "output_type": "execute_result"
    }
   ],
   "source": [
    "len(sumstat)"
   ]
  },
  {
   "cell_type": "code",
   "execution_count": 162,
   "id": "58bc7361-bff0-43b7-94b8-8703b9194beb",
   "metadata": {},
   "outputs": [],
   "source": [
    "LD = new"
   ]
  },
  {
   "cell_type": "code",
   "execution_count": 167,
   "id": "0b14877e-beef-4155-a565-3a565bcadec9",
   "metadata": {},
   "outputs": [
    {
     "data": {
      "text/plain": [
       "(9346, 9346)"
      ]
     },
     "execution_count": 167,
     "metadata": {},
     "output_type": "execute_result"
    }
   ],
   "source": [
    "np.shape(LD)"
   ]
  },
  {
   "cell_type": "code",
   "execution_count": 166,
   "id": "ab5601bc-c905-493e-bcb8-b78b6e8c8bb2",
   "metadata": {},
   "outputs": [],
   "source": [
    "intersct = np.intersect1d(sumstat.variant.to_numpy(),snp_id)\n",
    "sumstat = sumstat.query(\"variant in @intersct\")\n",
    "indice = np.where(np.in1d(snp_id, intersct))\n",
    "LD=LD[np.ix_(indice[0].tolist(), indice[0].tolist())]"
   ]
  },
  {
   "cell_type": "code",
   "execution_count": 150,
   "id": "d77b4730-f88f-4b24-9b4f-913093494e0f",
   "metadata": {},
   "outputs": [
    {
     "data": {
      "text/plain": [
       "array([-0.02258, -0.03102, -0.01105], dtype=float16)"
      ]
     },
     "execution_count": 150,
     "metadata": {},
     "output_type": "execute_result"
    }
   ],
   "source": [
    "LD[[1,2,3],[4,5,6]]"
   ]
  },
  {
   "cell_type": "code",
   "execution_count": 238,
   "id": "dac73375-3c14-4758-ba70-a7b9168f5490",
   "metadata": {},
   "outputs": [],
   "source": [
    "sumstat[\"r\"] = [LD[np.where(np.in1d(intersct,lead_variant))][:,np.where(np.in1d(intersct,x))][0][0][0] for x in sumstat.variant]"
   ]
  },
  {
   "cell_type": "code",
   "execution_count": 240,
   "id": "1820a18b-d0f5-477c-984f-72ee03d7ff2b",
   "metadata": {},
   "outputs": [
    {
     "data": {
      "text/html": [
       "<div>\n",
       "<style scoped>\n",
       "    .dataframe tbody tr th:only-of-type {\n",
       "        vertical-align: middle;\n",
       "    }\n",
       "\n",
       "    .dataframe tbody tr th {\n",
       "        vertical-align: top;\n",
       "    }\n",
       "\n",
       "    .dataframe thead th {\n",
       "        text-align: right;\n",
       "    }\n",
       "</style>\n",
       "<table border=\"1\" class=\"dataframe\">\n",
       "  <thead>\n",
       "    <tr style=\"text-align: right;\">\n",
       "      <th></th>\n",
       "      <th>chromosome</th>\n",
       "      <th>position</th>\n",
       "      <th>ref</th>\n",
       "      <th>alt</th>\n",
       "      <th>variant</th>\n",
       "      <th>beta</th>\n",
       "      <th>se</th>\n",
       "      <th>pvalue</th>\n",
       "      <th>maf</th>\n",
       "      <th>n_cases</th>\n",
       "      <th>n_controls</th>\n",
       "      <th>original_effect_allele_frequency</th>\n",
       "      <th>lbf</th>\n",
       "      <th>prob</th>\n",
       "      <th>cs</th>\n",
       "      <th>cs_99</th>\n",
       "      <th>r</th>\n",
       "    </tr>\n",
       "  </thead>\n",
       "  <tbody>\n",
       "    <tr>\n",
       "      <th>1385</th>\n",
       "      <td>1</td>\n",
       "      <td>1000335</td>\n",
       "      <td>C</td>\n",
       "      <td>T</td>\n",
       "      <td>chr1_1000335_C_T</td>\n",
       "      <td>-0.0241</td>\n",
       "      <td>0.0106</td>\n",
       "      <td>0.02273</td>\n",
       "      <td>0.2123</td>\n",
       "      <td>82635</td>\n",
       "      <td>393749</td>\n",
       "      <td>0.2123</td>\n",
       "      <td>-0.361512</td>\n",
       "      <td>2.570266e-31</td>\n",
       "      <td>False</td>\n",
       "      <td>False</td>\n",
       "      <td>1.0</td>\n",
       "    </tr>\n",
       "  </tbody>\n",
       "</table>\n",
       "</div>"
      ],
      "text/plain": [
       "      chromosome  position ref alt           variant    beta      se   pvalue  \\\n",
       "1385           1   1000335   C   T  chr1_1000335_C_T -0.0241  0.0106  0.02273   \n",
       "\n",
       "         maf  n_cases  n_controls  original_effect_allele_frequency       lbf  \\\n",
       "1385  0.2123    82635      393749                            0.2123 -0.361512   \n",
       "\n",
       "              prob     cs  cs_99    r  \n",
       "1385  2.570266e-31  False  False  1.0  "
      ]
     },
     "execution_count": 240,
     "metadata": {},
     "output_type": "execute_result"
    }
   ],
   "source": [
    "sumstat.query('variant == @lead_variant')"
   ]
  },
  {
   "cell_type": "code",
   "execution_count": 27,
   "id": "7152b838-530c-454d-ae4c-898bedcf839c",
   "metadata": {},
   "outputs": [
    {
     "data": {
      "text/plain": [
       "array([[[-1.4275e-02, -1.4275e-02,  4.0283e-02, ..., -1.5640e-02,\n",
       "         -1.2062e-02,  5.0903e-02],\n",
       "        [-1.6953e-02, -1.6953e-02,  2.8625e-02, ..., -2.0081e-02,\n",
       "         -1.4320e-02,  1.1177e-02],\n",
       "        [-6.1226e-03, -6.1226e-03, -6.7329e-03, ...,  8.5083e-02,\n",
       "         -5.1727e-03,  3.3356e-02],\n",
       "        ...,\n",
       "        [ 2.7790e-03, -2.9465e-02, -2.9564e-03, ..., -3.4882e-02,\n",
       "          2.3479e-03,  9.0967e-01],\n",
       "        [-5.1270e-03, -5.1270e-03, -5.6381e-03, ...,  1.0000e+00,\n",
       "         -4.3297e-03, -3.3295e-02],\n",
       "        [ 5.5084e-03, -2.8122e-02, -2.1267e-04, ..., -3.3295e-02,\n",
       "          4.6539e-03,  1.0000e+00]]], dtype=float16)"
      ]
     },
     "execution_count": 27,
     "metadata": {},
     "output_type": "execute_result"
    }
   ],
   "source": [
    "LD[indice,:]"
   ]
  },
  {
   "cell_type": "code",
   "execution_count": 211,
   "id": "e70dafcf-b1a5-48c9-95cd-2571b576d40e",
   "metadata": {},
   "outputs": [],
   "source": [
    "LD = LD[np.ix_(indice[0].tolist(), indice[0].tolist())]"
   ]
  },
  {
   "cell_type": "code",
   "execution_count": 229,
   "id": "e4d770cc-14ca-4cc9-a5b6-f4f77634d510",
   "metadata": {},
   "outputs": [],
   "source": [
    "sumstat = sumstat.query(\"variant in @intersct\")"
   ]
  },
  {
   "cell_type": "code",
   "execution_count": 195,
   "id": "f0ded6e1-b968-498d-9583-16a0e68b1737",
   "metadata": {},
   "outputs": [
    {
     "ename": "AttributeError",
     "evalue": "'tuple' object has no attribute 'values'",
     "output_type": "error",
     "traceback": [
      "\u001b[0;31m---------------------------------------------------------------------------\u001b[0m",
      "\u001b[0;31mAttributeError\u001b[0m                            Traceback (most recent call last)",
      "\u001b[0;32m/tmp/3229975.1.plot.q/ipykernel_13455/753346537.py\u001b[0m in \u001b[0;36m<module>\u001b[0;34m\u001b[0m\n\u001b[0;32m----> 1\u001b[0;31m \u001b[0mnp\u001b[0m\u001b[0;34m.\u001b[0m\u001b[0mix_\u001b[0m\u001b[0;34m(\u001b[0m\u001b[0mindice\u001b[0m\u001b[0;34m.\u001b[0m\u001b[0mvalues\u001b[0m\u001b[0;34m,\u001b[0m \u001b[0mindice\u001b[0m\u001b[0;34m)\u001b[0m\u001b[0;34m\u001b[0m\u001b[0;34m\u001b[0m\u001b[0m\n\u001b[0m",
      "\u001b[0;31mAttributeError\u001b[0m: 'tuple' object has no attribute 'values'"
     ]
    }
   ],
   "source": [
    "np.ix_(indice.values, indice)"
   ]
  },
  {
   "cell_type": "code",
   "execution_count": 140,
   "id": "5fe43f62-9fc0-4f55-befa-8dcbc8266c40",
   "metadata": {},
   "outputs": [],
   "source": [
    "where = np.where(np.in1d(snp_id, a))\n",
    "new[where,where]"
   ]
  },
  {
   "cell_type": "code",
   "execution_count": 138,
   "id": "cfa3032d-91ad-42ce-85cb-b82e1eca571d",
   "metadata": {},
   "outputs": [],
   "source": [
    "snp_id = [x.replace(\":\",\"_\") for x in snp_id]"
   ]
  },
  {
   "cell_type": "code",
   "execution_count": null,
   "id": "aaeb1c93-2e58-494c-8be0-dbe5b8f3f7df",
   "metadata": {},
   "outputs": [],
   "source": [
    "    hl._set_flags(no_whole_stage_codegen=\"1\")\n",
    "    reference_genome = args.reference_genome\n",
    "    gnomad_version = gnomad_latest_versions[reference_genome]\n",
    "    gnomad_ht_path = f\"gs://finucane-requester-pays/slalom/gnomad/release/{gnomad_version}/ht/genomes/gnomad.genomes.r{gnomad_version}.sites.most_severe.ht\"\n",
    "\n",
    "    ht_snp = hl.import_table(args.snp, impute=True, types={\"chromosome\": hl.tstr}, delimiter=\"\\s+\")\n",
    "    ht_snp = ht_snp.annotate(\n",
    "        locus=hl.parse_locus(\n",
    "            hl.delimit([ht_snp.chromosome, hl.str(ht_snp.position)], delimiter=\":\"), reference_genome=reference_genome\n",
    "        ),\n",
    "        alleles=[ht_snp.allele1, ht_snp.allele2],\n",
    "    )\n",
    "    if args.align_alleles:\n",
    "        ht_gnomad = hl.read_table(gnomad_ht_path)\n",
    "        ht_snp = align_alleles(ht_snp, ht_gnomad, flip_rows=[\"beta\"])\n",
    "\n",
    "    ht_snp = ht_snp.annotate(variant=hl.variant_str(ht_snp.locus, ht_snp.alleles))\n",
    "    ht_snp = ht_snp.key_by(\"locus\", \"alleles\")\n",
    "    ht_snp = ht_snp.add_index(\"idx_snp\")\n",
    "\n",
    "    # annotate in novel CUPs and reject\n",
    "    cup = hl.read_table(f\"gs://finucane-requester-pays/slalom/cup_files/FASTA_BED.ALL_{reference_genome}.novel_CUPs.ht\")\n",
    "    reject = hl.read_table(\n",
    "        f\"gs://finucane-requester-pays/slalom/cup_files/FASTA_BED.ALL_{reference_genome}.reject_2.ht\"\n",
    "    )\n",
    "    ht_snp = ht_snp.annotate(in_cups=hl.is_defined(cup[ht_snp.locus]) | hl.is_defined(reject[ht_snp.locus]))\n",
    "\n",
    "    # annotate vep and freq\n",
    "    if args.annotate_consequence or args.annotate_gnomad_freq:\n",
    "        ht_gnomad = hl.read_table(gnomad_ht_path)\n",
    "        consequences = [\"most_severe\", \"gene_most_severe\", \"consequence\"] if args.annotate_consequence else []\n",
    "        freq_expr = (\n",
    "            {f\"gnomad_v{gnomad_version[0]}_af_{pop}\": ht_gnomad.freq[pop].AF for pop in gnomad_pops[reference_genome]}\n",
    "            if args.annotate_gnomad_freq\n",
    "            else {}\n",
    "        )\n",
    "        ht_gnomad = ht_gnomad.select(*consequences, **freq_expr)\n",
    "        ht_snp = ht_snp.join(ht_gnomad, how=\"left\")\n",
    "    ht_snp = ht_snp.checkpoint(new_temp_file())\n"
   ]
  },
  {
   "cell_type": "code",
   "execution_count": 226,
   "id": "c6e761bd-bebe-4a92-82f6-3ff81735b067",
   "metadata": {},
   "outputs": [
    {
     "data": {
      "text/plain": [
       "array([[ 0.007248,  1.      , -0.02397 , ...,  0.01753 , -0.02008 ,\n",
       "         0.01118 ]], dtype=float16)"
      ]
     },
     "execution_count": 226,
     "metadata": {},
     "output_type": "execute_result"
    }
   ],
   "source": [
    "LD[np.where(np.in1d(intersct,lead_variant))]"
   ]
  },
  {
   "cell_type": "code",
   "execution_count": 228,
   "id": "91e44b9c-7f8d-4450-b07b-d491bbb52053",
   "metadata": {},
   "outputs": [
    {
     "data": {
      "text/plain": [
       "4            chr1_727233_G_A\n",
       "9           chr1_733014_AG_A\n",
       "13          chr1_758213_AT_A\n",
       "16           chr1_758540_T_C\n",
       "19       chr1_766399_GAATA_G\n",
       "                ...         \n",
       "15105       chr1_2886544_G_A\n",
       "15109       chr1_2887241_C_T\n",
       "15114       chr1_2887908_T_C\n",
       "15116       chr1_2887986_T_C\n",
       "15117       chr1_2888245_G_A\n",
       "Name: variant, Length: 6668, dtype: object"
      ]
     },
     "execution_count": 228,
     "metadata": {},
     "output_type": "execute_result"
    }
   ],
   "source": [
    "sumstat.variant"
   ]
  },
  {
   "cell_type": "code",
   "execution_count": 224,
   "id": "3a819b2b-ca7c-4a9c-b9c6-1dc097870d84",
   "metadata": {},
   "outputs": [],
   "source": [
    "\n",
    "lead_variant = \"chr1_1000335_C_T\"\n"
   ]
  },
  {
   "cell_type": "code",
   "execution_count": 218,
   "id": "44c44977-78d0-4588-8362-9e6ffb5ccb89",
   "metadata": {},
   "outputs": [
    {
     "data": {
      "text/plain": [
       "array(['chr1_1000018_G_A', 'chr1_1000335_C_T', 'chr1_1001034_G_A', ...,\n",
       "       'chr1_998364_C_T', 'chr1_999005_G_A', 'chr1_999842_C_A'],\n",
       "      dtype=object)"
      ]
     },
     "execution_count": 218,
     "metadata": {},
     "output_type": "execute_result"
    }
   ],
   "source": [
    "intersct"
   ]
  },
  {
   "cell_type": "code",
   "execution_count": null,
   "id": "5f51d661-69eb-4df2-9f7c-be1219cd9b7d",
   "metadata": {},
   "outputs": [],
   "source": [
    "import scipy as sp"
   ]
  },
  {
   "cell_type": "code",
   "execution_count": 155,
   "id": "4f1d7743-ac18-41c9-a5b8-9916992328d9",
   "metadata": {},
   "outputs": [],
   "source": [
    "lbf, prob = abf(sumstat.beta, sumstat.se)\n",
    "sumstat[\"lbf\"] = lbf\n",
    "sumstat[\"prob\"] = prob\n",
    "sumstat[\"cs\"] = sumstat.variant.isin(cs)\n",
    "cs_99 = get_cs(sumstat.variant, prob, coverage=0.99)\n",
    "sumstat[\"cs_99\"] = sumstat.variant.isin(cs_99)"
   ]
  },
  {
   "cell_type": "code",
   "execution_count": 158,
   "id": "5010550f-121f-4d56-80c9-a84cff8b99bf",
   "metadata": {},
   "outputs": [],
   "source": [
    "cs = get_cs(sumstat.variant, prob, coverage=0.95)\n"
   ]
  },
  {
   "cell_type": "code",
   "execution_count": 166,
   "id": "6a72301e-37af-433a-b4f2-0cef014e9f4d",
   "metadata": {},
   "outputs": [],
   "source": [
    "lead_idx_snp = sumstat.prob.idxmax()"
   ]
  },
  {
   "cell_type": "code",
   "execution_count": 168,
   "id": "cca96165-29a1-4eaa-91db-5dd032fd117c",
   "metadata": {},
   "outputs": [
    {
     "data": {
      "text/plain": [
       "0.5219822472224083"
      ]
     },
     "execution_count": 168,
     "metadata": {},
     "output_type": "execute_result"
    }
   ],
   "source": [
    "sumstat.prob.max()"
   ]
  },
  {
   "cell_type": "code",
   "execution_count": 167,
   "id": "2c0a82e9-3930-493d-985d-01ef440453b4",
   "metadata": {},
   "outputs": [
    {
     "data": {
      "text/plain": [
       "1164649"
      ]
     },
     "execution_count": 167,
     "metadata": {},
     "output_type": "execute_result"
    }
   ],
   "source": [
    "lead_idx_snp"
   ]
  },
  {
   "cell_type": "code",
   "execution_count": null,
   "id": "71084665-8655-4e9b-8587-05c40f95e00b",
   "metadata": {},
   "outputs": [],
   "source": []
  },
  {
   "cell_type": "code",
   "execution_count": 208,
   "id": "d8242242-2f55-4c74-a933-03198459b0ae",
   "metadata": {},
   "outputs": [
    {
     "data": {
      "text/plain": [
       "(15423,)"
      ]
     },
     "execution_count": 208,
     "metadata": {},
     "output_type": "execute_result"
    }
   ],
   "source": [
    "np.shape(LD[2,:])"
   ]
  },
  {
   "cell_type": "code",
   "execution_count": 173,
   "id": "89f0f106-bd5c-4b2d-9775-6083e7bf739d",
   "metadata": {},
   "outputs": [],
   "source": [
    "def slalom(df,LD,abf_prior_variance = 0.4 ,nlog10p_dentist_s_threshold = 4, r2_threshold = 0.6  ):\n",
    "    from scipy import stats\n",
    "    lbf, prob = abf(df.beta, df.se, W=abf_prior_variance)\n",
    "    cs = get_cs(df.variant, prob, coverage=0.95)\n",
    "    cs_99 = get_cs(df.variant, prob, coverage=0.99)\n",
    "    df[\"lbf\"] = lbf\n",
    "    df[\"prob\"] = prob\n",
    "    df[\"cs\"] = df.variant.isin(cs)\n",
    "    df[\"cs_99\"] = df.variant.isin(cs_99)\n",
    "    lead_idx_snp = df.prob.idxmax()\n",
    "    lead_variant = df.variant[lead_idx_snp]\n",
    "    df[\"lead_variant\"] = False\n",
    "    df[\"lead_variant\"].iloc[lead_idx_snp] = True\n",
    "    # annotate LD     \n",
    "    ## This is to identify the R for each snp vs the lead snp\n",
    "    df[\"r\"] = [LD[np.where(np.in1d(df.variant,lead_variant))][:,np.where(np.in1d(df.variant,x))][0][0][0] for x in df.variant]\n",
    "    lead_z = (df.beta / df.se).iloc[lead_idx_snp]\n",
    "    df[\"t_dentist_s\"] = ((df.beta / df.se) - df.r * lead_z) ** 2 / (1 - df.r ** 2)\n",
    "    df[\"t_dentist_s\"] = np.where(df[\"t_dentist_s\"] < 0, np.inf, df[\"t_dentist_s\"])\n",
    "    df[\"t_dentist_s\"].iloc[lead_idx_snp] = np.nan\n",
    "    df[\"nlog10p_dentist_s\"] = stats.chi2.logsf(df[\"t_dentist_s\"], df=1) / -np.log(10)\n",
    "    df[\"r2\"] = df.r ** 2\n",
    "    df[\"outliers\"] = (df.r2 > r2_threshold) & (df.nlog10p_dentist_s > nlog10p_dentist_s_threshold)\n",
    "    df_output = df\n",
    "    n_r2 = np.sum(df.r2 > r2_threshold)\n",
    "    n_dentist_s_outlier = np.sum(\n",
    "        (df.r2 > r2_threshold) & (df.nlog10p_dentist_s > nlog10p_dentist_s_threshold)\n",
    "    )\n",
    "    max_pip_idx = df.prob.idxmax()\n",
    "    df_summary = pd.DataFrame(\n",
    "        {\n",
    "            \"lead_pip_variant\": [df.variant.iloc[max_pip_idx]],\n",
    "            \"n_total\": [len(df.index)],\n",
    "            \"n_r2\": [n_r2],\n",
    "            \"n_dentist_s_outlier\": [n_dentist_s_outlier],\n",
    "            \"fraction\": [n_dentist_s_outlier / n_r2 if n_r2 > 0 else 0],\n",
    "            \"max_pip\": [np.max(df.prob)]\n",
    "        }\n",
    "        )\n",
    "    return df, df_summary\n"
   ]
  },
  {
   "cell_type": "code",
   "execution_count": 186,
   "id": "61e1017b-1adf-410c-9976-063ca52b9c8a",
   "metadata": {},
   "outputs": [
    {
     "data": {
      "text/html": [
       "<div>\n",
       "<style scoped>\n",
       "    .dataframe tbody tr th:only-of-type {\n",
       "        vertical-align: middle;\n",
       "    }\n",
       "\n",
       "    .dataframe tbody tr th {\n",
       "        vertical-align: top;\n",
       "    }\n",
       "\n",
       "    .dataframe thead th {\n",
       "        text-align: right;\n",
       "    }\n",
       "</style>\n",
       "<table border=\"1\" class=\"dataframe\">\n",
       "  <thead>\n",
       "    <tr style=\"text-align: right;\">\n",
       "      <th></th>\n",
       "      <th>chromosome</th>\n",
       "      <th>position</th>\n",
       "      <th>ref</th>\n",
       "      <th>alt</th>\n",
       "      <th>variant</th>\n",
       "      <th>beta</th>\n",
       "      <th>se</th>\n",
       "      <th>pvalue</th>\n",
       "      <th>maf</th>\n",
       "      <th>n_cases</th>\n",
       "      <th>n_controls</th>\n",
       "      <th>original_effect_allele_frequency</th>\n",
       "    </tr>\n",
       "  </thead>\n",
       "  <tbody>\n",
       "    <tr>\n",
       "      <th>346227</th>\n",
       "      <td>17</td>\n",
       "      <td>60570542</td>\n",
       "      <td>C</td>\n",
       "      <td>T</td>\n",
       "      <td>chr17_60570542_C_T</td>\n",
       "      <td>0.0447</td>\n",
       "      <td>0.0294</td>\n",
       "      <td>0.12900</td>\n",
       "      <td>0.0225</td>\n",
       "      <td>85502</td>\n",
       "      <td>400497</td>\n",
       "      <td>0.0225</td>\n",
       "    </tr>\n",
       "    <tr>\n",
       "      <th>346229</th>\n",
       "      <td>17</td>\n",
       "      <td>60571044</td>\n",
       "      <td>C</td>\n",
       "      <td>A</td>\n",
       "      <td>chr17_60571044_C_A</td>\n",
       "      <td>0.0253</td>\n",
       "      <td>0.0352</td>\n",
       "      <td>0.47270</td>\n",
       "      <td>0.0151</td>\n",
       "      <td>85137</td>\n",
       "      <td>394391</td>\n",
       "      <td>0.0151</td>\n",
       "    </tr>\n",
       "    <tr>\n",
       "      <th>346234</th>\n",
       "      <td>17</td>\n",
       "      <td>60572325</td>\n",
       "      <td>C</td>\n",
       "      <td>T</td>\n",
       "      <td>chr17_60572325_C_T</td>\n",
       "      <td>0.0304</td>\n",
       "      <td>0.1131</td>\n",
       "      <td>0.78820</td>\n",
       "      <td>0.0026</td>\n",
       "      <td>77766</td>\n",
       "      <td>372990</td>\n",
       "      <td>0.0026</td>\n",
       "    </tr>\n",
       "    <tr>\n",
       "      <th>346244</th>\n",
       "      <td>17</td>\n",
       "      <td>60575249</td>\n",
       "      <td>G</td>\n",
       "      <td>A</td>\n",
       "      <td>chr17_60575249_G_A</td>\n",
       "      <td>0.0270</td>\n",
       "      <td>0.0171</td>\n",
       "      <td>0.11450</td>\n",
       "      <td>0.0687</td>\n",
       "      <td>85934</td>\n",
       "      <td>401577</td>\n",
       "      <td>0.0687</td>\n",
       "    </tr>\n",
       "    <tr>\n",
       "      <th>346246</th>\n",
       "      <td>17</td>\n",
       "      <td>60576951</td>\n",
       "      <td>T</td>\n",
       "      <td>G</td>\n",
       "      <td>chr17_60576951_T_G</td>\n",
       "      <td>-0.0273</td>\n",
       "      <td>0.2901</td>\n",
       "      <td>0.92510</td>\n",
       "      <td>0.0004</td>\n",
       "      <td>69576</td>\n",
       "      <td>360279</td>\n",
       "      <td>0.9996</td>\n",
       "    </tr>\n",
       "    <tr>\n",
       "      <th>...</th>\n",
       "      <td>...</td>\n",
       "      <td>...</td>\n",
       "      <td>...</td>\n",
       "      <td>...</td>\n",
       "      <td>...</td>\n",
       "      <td>...</td>\n",
       "      <td>...</td>\n",
       "      <td>...</td>\n",
       "      <td>...</td>\n",
       "      <td>...</td>\n",
       "      <td>...</td>\n",
       "      <td>...</td>\n",
       "    </tr>\n",
       "    <tr>\n",
       "      <th>370420</th>\n",
       "      <td>17</td>\n",
       "      <td>65146804</td>\n",
       "      <td>C</td>\n",
       "      <td>T</td>\n",
       "      <td>chr17_65146804_C_T</td>\n",
       "      <td>0.0034</td>\n",
       "      <td>0.0105</td>\n",
       "      <td>0.74350</td>\n",
       "      <td>0.1902</td>\n",
       "      <td>85569</td>\n",
       "      <td>395471</td>\n",
       "      <td>0.1902</td>\n",
       "    </tr>\n",
       "    <tr>\n",
       "      <th>370422</th>\n",
       "      <td>17</td>\n",
       "      <td>65147121</td>\n",
       "      <td>C</td>\n",
       "      <td>T</td>\n",
       "      <td>chr17_65147121_C_T</td>\n",
       "      <td>-0.0265</td>\n",
       "      <td>0.0174</td>\n",
       "      <td>0.12780</td>\n",
       "      <td>0.0791</td>\n",
       "      <td>85569</td>\n",
       "      <td>395471</td>\n",
       "      <td>0.0791</td>\n",
       "    </tr>\n",
       "    <tr>\n",
       "      <th>370426</th>\n",
       "      <td>17</td>\n",
       "      <td>65147645</td>\n",
       "      <td>C</td>\n",
       "      <td>T</td>\n",
       "      <td>chr17_65147645_C_T</td>\n",
       "      <td>0.0036</td>\n",
       "      <td>0.0105</td>\n",
       "      <td>0.73070</td>\n",
       "      <td>0.1900</td>\n",
       "      <td>85569</td>\n",
       "      <td>395471</td>\n",
       "      <td>0.1900</td>\n",
       "    </tr>\n",
       "    <tr>\n",
       "      <th>370431</th>\n",
       "      <td>17</td>\n",
       "      <td>65148432</td>\n",
       "      <td>G</td>\n",
       "      <td>A</td>\n",
       "      <td>chr17_65148432_G_A</td>\n",
       "      <td>-0.2126</td>\n",
       "      <td>0.1057</td>\n",
       "      <td>0.04432</td>\n",
       "      <td>0.0025</td>\n",
       "      <td>83196</td>\n",
       "      <td>386481</td>\n",
       "      <td>0.0025</td>\n",
       "    </tr>\n",
       "    <tr>\n",
       "      <th>370438</th>\n",
       "      <td>17</td>\n",
       "      <td>65149105</td>\n",
       "      <td>G</td>\n",
       "      <td>A</td>\n",
       "      <td>chr17_65149105_G_A</td>\n",
       "      <td>0.0887</td>\n",
       "      <td>0.1416</td>\n",
       "      <td>0.53080</td>\n",
       "      <td>0.0020</td>\n",
       "      <td>72606</td>\n",
       "      <td>367432</td>\n",
       "      <td>0.0020</td>\n",
       "    </tr>\n",
       "  </tbody>\n",
       "</table>\n",
       "<p>9346 rows × 12 columns</p>\n",
       "</div>"
      ],
      "text/plain": [
       "        chromosome  position ref alt             variant    beta      se  \\\n",
       "346227          17  60570542   C   T  chr17_60570542_C_T  0.0447  0.0294   \n",
       "346229          17  60571044   C   A  chr17_60571044_C_A  0.0253  0.0352   \n",
       "346234          17  60572325   C   T  chr17_60572325_C_T  0.0304  0.1131   \n",
       "346244          17  60575249   G   A  chr17_60575249_G_A  0.0270  0.0171   \n",
       "346246          17  60576951   T   G  chr17_60576951_T_G -0.0273  0.2901   \n",
       "...            ...       ...  ..  ..                 ...     ...     ...   \n",
       "370420          17  65146804   C   T  chr17_65146804_C_T  0.0034  0.0105   \n",
       "370422          17  65147121   C   T  chr17_65147121_C_T -0.0265  0.0174   \n",
       "370426          17  65147645   C   T  chr17_65147645_C_T  0.0036  0.0105   \n",
       "370431          17  65148432   G   A  chr17_65148432_G_A -0.2126  0.1057   \n",
       "370438          17  65149105   G   A  chr17_65149105_G_A  0.0887  0.1416   \n",
       "\n",
       "         pvalue     maf  n_cases  n_controls  original_effect_allele_frequency  \n",
       "346227  0.12900  0.0225    85502      400497                            0.0225  \n",
       "346229  0.47270  0.0151    85137      394391                            0.0151  \n",
       "346234  0.78820  0.0026    77766      372990                            0.0026  \n",
       "346244  0.11450  0.0687    85934      401577                            0.0687  \n",
       "346246  0.92510  0.0004    69576      360279                            0.9996  \n",
       "...         ...     ...      ...         ...                               ...  \n",
       "370420  0.74350  0.1902    85569      395471                            0.1902  \n",
       "370422  0.12780  0.0791    85569      395471                            0.0791  \n",
       "370426  0.73070  0.1900    85569      395471                            0.1900  \n",
       "370431  0.04432  0.0025    83196      386481                            0.0025  \n",
       "370438  0.53080  0.0020    72606      367432                            0.0020  \n",
       "\n",
       "[9346 rows x 12 columns]"
      ]
     },
     "execution_count": 186,
     "metadata": {},
     "output_type": "execute_result"
    }
   ],
   "source": [
    "sumstat"
   ]
  },
  {
   "cell_type": "code",
   "execution_count": 89,
   "id": "24f35a04-aca0-4b76-a7fa-39806e47e074",
   "metadata": {},
   "outputs": [
    {
     "data": {
      "text/plain": [
       "0"
      ]
     },
     "execution_count": 89,
     "metadata": {},
     "output_type": "execute_result"
    }
   ],
   "source": [
    "sum((ss_qc.r2 > 0.4) & (ss_qc.nlog10p_dentist_s > 4))"
   ]
  },
  {
   "cell_type": "code",
   "execution_count": 39,
   "id": "94bc03ae-4183-4aff-869e-faf1405d6459",
   "metadata": {},
   "outputs": [],
   "source": [
    "LD = LD[np.ix_(indice[0].tolist(), indice[0].tolist())]    "
   ]
  },
  {
   "cell_type": "code",
   "execution_count": 41,
   "id": "085b7b12-96f1-4b09-819a-cad8958163b4",
   "metadata": {},
   "outputs": [
    {
     "data": {
      "text/plain": [
       "6668"
      ]
     },
     "execution_count": 41,
     "metadata": {},
     "output_type": "execute_result"
    }
   ],
   "source": [
    "len(LD)"
   ]
  },
  {
   "cell_type": "code",
   "execution_count": 43,
   "id": "852b593c-e707-44f6-a585-1c86ed43569d",
   "metadata": {},
   "outputs": [
    {
     "ename": "NameError",
     "evalue": "name 'prob' is not defined",
     "output_type": "error",
     "traceback": [
      "\u001b[0;31m---------------------------------------------------------------------------\u001b[0m",
      "\u001b[0;31mNameError\u001b[0m                                 Traceback (most recent call last)",
      "\u001b[0;32m/tmp/3306819.1.high_mem.q/ipykernel_10941/198983382.py\u001b[0m in \u001b[0;36m<module>\u001b[0;34m\u001b[0m\n\u001b[0;32m----> 1\u001b[0;31m \u001b[0mcs\u001b[0m \u001b[0;34m=\u001b[0m \u001b[0mget_cs\u001b[0m\u001b[0;34m(\u001b[0m\u001b[0msumstat\u001b[0m\u001b[0;34m.\u001b[0m\u001b[0mvariant\u001b[0m\u001b[0;34m,\u001b[0m \u001b[0mprob\u001b[0m\u001b[0;34m,\u001b[0m \u001b[0mcoverage\u001b[0m\u001b[0;34m=\u001b[0m\u001b[0;36m0.95\u001b[0m\u001b[0;34m)\u001b[0m\u001b[0;34m\u001b[0m\u001b[0;34m\u001b[0m\u001b[0m\n\u001b[0m",
      "\u001b[0;31mNameError\u001b[0m: name 'prob' is not defined"
     ]
    }
   ],
   "source": [
    "cs = get_cs(sumstat.variant, prob, coverage=0.95)"
   ]
  },
  {
   "cell_type": "code",
   "execution_count": 46,
   "id": "dcae872e-34cb-4d39-a398-c7d516d41819",
   "metadata": {},
   "outputs": [],
   "source": [
    "abf_prior_variance = 0.4"
   ]
  },
  {
   "cell_type": "code",
   "execution_count": 52,
   "id": "d4d26343-55e9-473f-ba16-4d02b5e5dce4",
   "metadata": {},
   "outputs": [],
   "source": [
    "lbf, prob = abf(sumstat.beta, sumstat.se, W=abf_prior_variance)"
   ]
  },
  {
   "cell_type": "code",
   "execution_count": 53,
   "id": "22f0eade-2a4d-4007-8600-72f563127018",
   "metadata": {},
   "outputs": [
    {
     "data": {
      "text/plain": [
       "0       0.000059\n",
       "1       0.000050\n",
       "2       0.000259\n",
       "3       0.000138\n",
       "4       0.000030\n",
       "          ...   \n",
       "6663    0.000053\n",
       "6664    0.000013\n",
       "6665    0.000043\n",
       "6666    0.000161\n",
       "6667    0.000018\n",
       "Length: 6668, dtype: float64"
      ]
     },
     "execution_count": 53,
     "metadata": {},
     "output_type": "execute_result"
    }
   ],
   "source": [
    "prob"
   ]
  },
  {
   "cell_type": "code",
   "execution_count": 51,
   "id": "6fec681f-c25c-4af8-9204-a71b3d93473f",
   "metadata": {},
   "outputs": [],
   "source": [
    "sumstat = sumstat.reset_index()"
   ]
  },
  {
   "cell_type": "code",
   "execution_count": 54,
   "id": "31ba1e5b-8dc4-4f10-830d-4a7c4e24f0a1",
   "metadata": {},
   "outputs": [],
   "source": [
    "cs = get_cs(sumstat.variant, prob, coverage=0.95)"
   ]
  },
  {
   "cell_type": "code",
   "execution_count": 174,
   "id": "aa977f82-1510-4609-964c-2cdcbe657c8e",
   "metadata": {},
   "outputs": [
    {
     "name": "stderr",
     "output_type": "stream",
     "text": [
      "/tmp/3306819.1.high_mem.q/ipykernel_10941/4286988787.py:13: SettingWithCopyWarning: \n",
      "A value is trying to be set on a copy of a slice from a DataFrame\n",
      "\n",
      "See the caveats in the documentation: https://pandas.pydata.org/pandas-docs/stable/user_guide/indexing.html#returning-a-view-versus-a-copy\n",
      "  df[\"lead_variant\"].iloc[lead_idx_snp] = True\n",
      "/tmp/3306819.1.high_mem.q/ipykernel_10941/4286988787.py:20: SettingWithCopyWarning: \n",
      "A value is trying to be set on a copy of a slice from a DataFrame\n",
      "\n",
      "See the caveats in the documentation: https://pandas.pydata.org/pandas-docs/stable/user_guide/indexing.html#returning-a-view-versus-a-copy\n",
      "  df[\"t_dentist_s\"].iloc[lead_idx_snp] = np.nan\n"
     ]
    }
   ],
   "source": [
    "ss_qc,ss_qc_sum = slalom(sumstat.reset_index(),LD)"
   ]
  },
  {
   "cell_type": "code",
   "execution_count": 183,
   "id": "8b647f22-4a68-47ca-88b1-0d5500ec0b0e",
   "metadata": {},
   "outputs": [
    {
     "data": {
      "text/html": [
       "<div>\n",
       "<style scoped>\n",
       "    .dataframe tbody tr th:only-of-type {\n",
       "        vertical-align: middle;\n",
       "    }\n",
       "\n",
       "    .dataframe tbody tr th {\n",
       "        vertical-align: top;\n",
       "    }\n",
       "\n",
       "    .dataframe thead th {\n",
       "        text-align: right;\n",
       "    }\n",
       "</style>\n",
       "<table border=\"1\" class=\"dataframe\">\n",
       "  <thead>\n",
       "    <tr style=\"text-align: right;\">\n",
       "      <th></th>\n",
       "      <th>lead_pip_variant</th>\n",
       "      <th>n_total</th>\n",
       "      <th>n_r2</th>\n",
       "      <th>n_dentist_s_outlier</th>\n",
       "      <th>fraction</th>\n",
       "      <th>max_pip</th>\n",
       "    </tr>\n",
       "  </thead>\n",
       "  <tbody>\n",
       "    <tr>\n",
       "      <th>0</th>\n",
       "      <td>chr17_63492371_G_A</td>\n",
       "      <td>9346</td>\n",
       "      <td>22</td>\n",
       "      <td>5</td>\n",
       "      <td>0.227273</td>\n",
       "      <td>0.322572</td>\n",
       "    </tr>\n",
       "  </tbody>\n",
       "</table>\n",
       "</div>"
      ],
      "text/plain": [
       "     lead_pip_variant  n_total  n_r2  n_dentist_s_outlier  fraction   max_pip\n",
       "0  chr17_63492371_G_A     9346    22                    5  0.227273  0.322572"
      ]
     },
     "execution_count": 183,
     "metadata": {},
     "output_type": "execute_result"
    }
   ],
   "source": [
    "ss_qc_sum"
   ]
  },
  {
   "cell_type": "code",
   "execution_count": 181,
   "id": "15030177-a408-499c-a734-81e3b2629794",
   "metadata": {},
   "outputs": [
    {
     "data": {
      "text/html": [
       "<div>\n",
       "<style scoped>\n",
       "    .dataframe tbody tr th:only-of-type {\n",
       "        vertical-align: middle;\n",
       "    }\n",
       "\n",
       "    .dataframe tbody tr th {\n",
       "        vertical-align: top;\n",
       "    }\n",
       "\n",
       "    .dataframe thead th {\n",
       "        text-align: right;\n",
       "    }\n",
       "</style>\n",
       "<table border=\"1\" class=\"dataframe\">\n",
       "  <thead>\n",
       "    <tr style=\"text-align: right;\">\n",
       "      <th></th>\n",
       "      <th>index</th>\n",
       "      <th>chromosome</th>\n",
       "      <th>position</th>\n",
       "      <th>ref</th>\n",
       "      <th>alt</th>\n",
       "      <th>variant</th>\n",
       "      <th>beta</th>\n",
       "      <th>se</th>\n",
       "      <th>pvalue</th>\n",
       "      <th>maf</th>\n",
       "      <th>...</th>\n",
       "      <th>lbf</th>\n",
       "      <th>prob</th>\n",
       "      <th>cs</th>\n",
       "      <th>cs_99</th>\n",
       "      <th>lead_variant</th>\n",
       "      <th>r</th>\n",
       "      <th>t_dentist_s</th>\n",
       "      <th>nlog10p_dentist_s</th>\n",
       "      <th>r2</th>\n",
       "      <th>outliers</th>\n",
       "    </tr>\n",
       "  </thead>\n",
       "  <tbody>\n",
       "    <tr>\n",
       "      <th>6074</th>\n",
       "      <td>361975</td>\n",
       "      <td>17</td>\n",
       "      <td>63498093</td>\n",
       "      <td>ACT</td>\n",
       "      <td>A</td>\n",
       "      <td>chr17_63498093_ACT_A</td>\n",
       "      <td>-0.0547</td>\n",
       "      <td>0.0084</td>\n",
       "      <td>8.092000e-11</td>\n",
       "      <td>0.4673</td>\n",
       "      <td>...</td>\n",
       "      <td>16.877246</td>\n",
       "      <td>0.003979</td>\n",
       "      <td>False</td>\n",
       "      <td>False</td>\n",
       "      <td>False</td>\n",
       "      <td>0.945312</td>\n",
       "      <td>1657.156510</td>\n",
       "      <td>inf</td>\n",
       "      <td>0.893555</td>\n",
       "      <td>True</td>\n",
       "    </tr>\n",
       "    <tr>\n",
       "      <th>6081</th>\n",
       "      <td>361992</td>\n",
       "      <td>17</td>\n",
       "      <td>63499673</td>\n",
       "      <td>G</td>\n",
       "      <td>A</td>\n",
       "      <td>chr17_63499673_G_A</td>\n",
       "      <td>0.0488</td>\n",
       "      <td>0.0082</td>\n",
       "      <td>2.917000e-09</td>\n",
       "      <td>0.4775</td>\n",
       "      <td>...</td>\n",
       "      <td>13.359971</td>\n",
       "      <td>0.000118</td>\n",
       "      <td>False</td>\n",
       "      <td>False</td>\n",
       "      <td>False</td>\n",
       "      <td>-0.850098</td>\n",
       "      <td>522.431636</td>\n",
       "      <td>114.902490</td>\n",
       "      <td>0.722656</td>\n",
       "      <td>True</td>\n",
       "    </tr>\n",
       "    <tr>\n",
       "      <th>6082</th>\n",
       "      <td>361994</td>\n",
       "      <td>17</td>\n",
       "      <td>63499854</td>\n",
       "      <td>G</td>\n",
       "      <td>A</td>\n",
       "      <td>chr17_63499854_G_A</td>\n",
       "      <td>0.0488</td>\n",
       "      <td>0.0082</td>\n",
       "      <td>2.786000e-09</td>\n",
       "      <td>0.4774</td>\n",
       "      <td>...</td>\n",
       "      <td>13.359971</td>\n",
       "      <td>0.000118</td>\n",
       "      <td>False</td>\n",
       "      <td>False</td>\n",
       "      <td>False</td>\n",
       "      <td>-0.850586</td>\n",
       "      <td>524.618012</td>\n",
       "      <td>115.378159</td>\n",
       "      <td>0.723633</td>\n",
       "      <td>True</td>\n",
       "    </tr>\n",
       "    <tr>\n",
       "      <th>6085</th>\n",
       "      <td>362002</td>\n",
       "      <td>17</td>\n",
       "      <td>63500497</td>\n",
       "      <td>A</td>\n",
       "      <td>G</td>\n",
       "      <td>chr17_63500497_A_G</td>\n",
       "      <td>0.0495</td>\n",
       "      <td>0.0082</td>\n",
       "      <td>1.602000e-09</td>\n",
       "      <td>0.4777</td>\n",
       "      <td>...</td>\n",
       "      <td>13.871559</td>\n",
       "      <td>0.000197</td>\n",
       "      <td>False</td>\n",
       "      <td>False</td>\n",
       "      <td>False</td>\n",
       "      <td>-0.849609</td>\n",
       "      <td>527.668525</td>\n",
       "      <td>116.041824</td>\n",
       "      <td>0.721680</td>\n",
       "      <td>True</td>\n",
       "    </tr>\n",
       "    <tr>\n",
       "      <th>6086</th>\n",
       "      <td>362005</td>\n",
       "      <td>17</td>\n",
       "      <td>63500774</td>\n",
       "      <td>G</td>\n",
       "      <td>A</td>\n",
       "      <td>chr17_63500774_G_A</td>\n",
       "      <td>0.0493</td>\n",
       "      <td>0.0082</td>\n",
       "      <td>1.832000e-09</td>\n",
       "      <td>0.4777</td>\n",
       "      <td>...</td>\n",
       "      <td>13.724648</td>\n",
       "      <td>0.000170</td>\n",
       "      <td>False</td>\n",
       "      <td>False</td>\n",
       "      <td>False</td>\n",
       "      <td>-0.849121</td>\n",
       "      <td>524.287428</td>\n",
       "      <td>115.306238</td>\n",
       "      <td>0.721191</td>\n",
       "      <td>True</td>\n",
       "    </tr>\n",
       "  </tbody>\n",
       "</table>\n",
       "<p>5 rows × 23 columns</p>\n",
       "</div>"
      ],
      "text/plain": [
       "       index  chromosome  position  ref alt               variant    beta  \\\n",
       "6074  361975          17  63498093  ACT   A  chr17_63498093_ACT_A -0.0547   \n",
       "6081  361992          17  63499673    G   A    chr17_63499673_G_A  0.0488   \n",
       "6082  361994          17  63499854    G   A    chr17_63499854_G_A  0.0488   \n",
       "6085  362002          17  63500497    A   G    chr17_63500497_A_G  0.0495   \n",
       "6086  362005          17  63500774    G   A    chr17_63500774_G_A  0.0493   \n",
       "\n",
       "          se        pvalue     maf  ...        lbf      prob     cs  cs_99  \\\n",
       "6074  0.0084  8.092000e-11  0.4673  ...  16.877246  0.003979  False  False   \n",
       "6081  0.0082  2.917000e-09  0.4775  ...  13.359971  0.000118  False  False   \n",
       "6082  0.0082  2.786000e-09  0.4774  ...  13.359971  0.000118  False  False   \n",
       "6085  0.0082  1.602000e-09  0.4777  ...  13.871559  0.000197  False  False   \n",
       "6086  0.0082  1.832000e-09  0.4777  ...  13.724648  0.000170  False  False   \n",
       "\n",
       "      lead_variant         r  t_dentist_s  nlog10p_dentist_s        r2  \\\n",
       "6074         False  0.945312  1657.156510                inf  0.893555   \n",
       "6081         False -0.850098   522.431636         114.902490  0.722656   \n",
       "6082         False -0.850586   524.618012         115.378159  0.723633   \n",
       "6085         False -0.849609   527.668525         116.041824  0.721680   \n",
       "6086         False -0.849121   524.287428         115.306238  0.721191   \n",
       "\n",
       "      outliers  \n",
       "6074      True  \n",
       "6081      True  \n",
       "6082      True  \n",
       "6085      True  \n",
       "6086      True  \n",
       "\n",
       "[5 rows x 23 columns]"
      ]
     },
     "execution_count": 181,
     "metadata": {},
     "output_type": "execute_result"
    }
   ],
   "source": [
    "ss_qc.query(\"r2 > 0.6\").query(\"nlog10p_dentist_s > 4\")"
   ]
  },
  {
   "cell_type": "code",
   "execution_count": 177,
   "id": "bd5aba41-b6bc-4a66-81d8-62ca85c08dcd",
   "metadata": {},
   "outputs": [
    {
     "data": {
      "text/plain": [
       "6060"
      ]
     },
     "execution_count": 177,
     "metadata": {},
     "output_type": "execute_result"
    }
   ],
   "source": [
    "ss_qc.prob.idxmax()"
   ]
  },
  {
   "cell_type": "code",
   "execution_count": 178,
   "id": "66044dce-e5dd-4522-a015-eb36e7e4b72f",
   "metadata": {},
   "outputs": [
    {
     "data": {
      "text/plain": [
       "6060"
      ]
     },
     "execution_count": 178,
     "metadata": {},
     "output_type": "execute_result"
    }
   ],
   "source": [
    "ss_qc.pvalue.idxmin()"
   ]
  },
  {
   "cell_type": "code",
   "execution_count": 185,
   "id": "97171aa0-0309-4703-9e49-b72b5ddd3730",
   "metadata": {},
   "outputs": [
    {
     "data": {
      "text/html": [
       "<div>\n",
       "<style scoped>\n",
       "    .dataframe tbody tr th:only-of-type {\n",
       "        vertical-align: middle;\n",
       "    }\n",
       "\n",
       "    .dataframe tbody tr th {\n",
       "        vertical-align: top;\n",
       "    }\n",
       "\n",
       "    .dataframe thead th {\n",
       "        text-align: right;\n",
       "    }\n",
       "</style>\n",
       "<table border=\"1\" class=\"dataframe\">\n",
       "  <thead>\n",
       "    <tr style=\"text-align: right;\">\n",
       "      <th></th>\n",
       "      <th>index</th>\n",
       "      <th>chromosome</th>\n",
       "      <th>position</th>\n",
       "      <th>ref</th>\n",
       "      <th>alt</th>\n",
       "      <th>variant</th>\n",
       "      <th>beta</th>\n",
       "      <th>se</th>\n",
       "      <th>pvalue</th>\n",
       "      <th>maf</th>\n",
       "      <th>...</th>\n",
       "      <th>lbf</th>\n",
       "      <th>prob</th>\n",
       "      <th>cs</th>\n",
       "      <th>cs_99</th>\n",
       "      <th>lead_variant</th>\n",
       "      <th>r</th>\n",
       "      <th>t_dentist_s</th>\n",
       "      <th>nlog10p_dentist_s</th>\n",
       "      <th>r2</th>\n",
       "      <th>outliers</th>\n",
       "    </tr>\n",
       "  </thead>\n",
       "  <tbody>\n",
       "  </tbody>\n",
       "</table>\n",
       "<p>0 rows × 23 columns</p>\n",
       "</div>"
      ],
      "text/plain": [
       "Empty DataFrame\n",
       "Columns: [index, chromosome, position, ref, alt, variant, beta, se, pvalue, maf, n_cases, n_controls, original_effect_allele_frequency, lbf, prob, cs, cs_99, lead_variant, r, t_dentist_s, nlog10p_dentist_s, r2, outliers]\n",
       "Index: []\n",
       "\n",
       "[0 rows x 23 columns]"
      ]
     },
     "execution_count": 185,
     "metadata": {},
     "output_type": "execute_result"
    }
   ],
   "source": [
    "ss_qc.query(\"position == 63476980\")"
   ]
  },
  {
   "cell_type": "code",
   "execution_count": 79,
   "id": "876f1371-afb5-45e5-9267-74039b25ed9e",
   "metadata": {},
   "outputs": [
    {
     "data": {
      "text/html": [
       "<div>\n",
       "<style scoped>\n",
       "    .dataframe tbody tr th:only-of-type {\n",
       "        vertical-align: middle;\n",
       "    }\n",
       "\n",
       "    .dataframe tbody tr th {\n",
       "        vertical-align: top;\n",
       "    }\n",
       "\n",
       "    .dataframe thead th {\n",
       "        text-align: right;\n",
       "    }\n",
       "</style>\n",
       "<table border=\"1\" class=\"dataframe\">\n",
       "  <thead>\n",
       "    <tr style=\"text-align: right;\">\n",
       "      <th></th>\n",
       "      <th>level_0</th>\n",
       "      <th>index</th>\n",
       "      <th>chromosome</th>\n",
       "      <th>position</th>\n",
       "      <th>ref</th>\n",
       "      <th>alt</th>\n",
       "      <th>variant</th>\n",
       "      <th>beta</th>\n",
       "      <th>se</th>\n",
       "      <th>pvalue</th>\n",
       "      <th>...</th>\n",
       "      <th>original_effect_allele_frequency</th>\n",
       "      <th>lbf</th>\n",
       "      <th>prob</th>\n",
       "      <th>cs</th>\n",
       "      <th>cs_99</th>\n",
       "      <th>lead_variant</th>\n",
       "      <th>r</th>\n",
       "      <th>t_dentist_s</th>\n",
       "      <th>nlog10p_dentist_s</th>\n",
       "      <th>r2</th>\n",
       "    </tr>\n",
       "  </thead>\n",
       "  <tbody>\n",
       "    <tr>\n",
       "      <th>4838</th>\n",
       "      <td>4838</td>\n",
       "      <td>11200</td>\n",
       "      <td>1</td>\n",
       "      <td>2314630</td>\n",
       "      <td>G</td>\n",
       "      <td>A</td>\n",
       "      <td>chr1_2314630_G_A</td>\n",
       "      <td>0.2503</td>\n",
       "      <td>0.0764</td>\n",
       "      <td>0.001059</td>\n",
       "      <td>...</td>\n",
       "      <td>0.0054</td>\n",
       "      <td>3.168614</td>\n",
       "      <td>0.017654</td>\n",
       "      <td>True</td>\n",
       "      <td>True</td>\n",
       "      <td>True</td>\n",
       "      <td>1.0</td>\n",
       "      <td>NaN</td>\n",
       "      <td>NaN</td>\n",
       "      <td>1.0</td>\n",
       "    </tr>\n",
       "  </tbody>\n",
       "</table>\n",
       "<p>1 rows × 23 columns</p>\n",
       "</div>"
      ],
      "text/plain": [
       "      level_0  index  chromosome  position ref alt           variant    beta  \\\n",
       "4838     4838  11200           1   2314630   G   A  chr1_2314630_G_A  0.2503   \n",
       "\n",
       "          se    pvalue  ...  original_effect_allele_frequency       lbf  \\\n",
       "4838  0.0764  0.001059  ...                            0.0054  3.168614   \n",
       "\n",
       "          prob    cs  cs_99  lead_variant    r  t_dentist_s  \\\n",
       "4838  0.017654  True   True          True  1.0          NaN   \n",
       "\n",
       "      nlog10p_dentist_s   r2  \n",
       "4838                NaN  1.0  \n",
       "\n",
       "[1 rows x 23 columns]"
      ]
     },
     "execution_count": 79,
     "metadata": {},
     "output_type": "execute_result"
    }
   ],
   "source": [
    "ss_qc[ss_qc.nlog10p_dentist_s.isna()]"
   ]
  },
  {
   "cell_type": "code",
   "execution_count": 32,
   "id": "93b293ef-0ad3-42e4-a977-742ce5ed2f90",
   "metadata": {},
   "outputs": [],
   "source": [
    "def abf(beta, se, W=0.04):\n",
    "        from scipy import special \n",
    "        z = beta / se\n",
    "        V = se ** 2\n",
    "        r = W / (W + V)\n",
    "        lbf = 0.5 * (np.log(1 - r) + (r * z ** 2))\n",
    "        denom = special.logsumexp(lbf)\n",
    "        prob = np.exp(lbf - denom)\n",
    "        return lbf, prob\n",
    "    \n",
    "def get_cs(variant, prob, coverage=0.95):\n",
    "        ordering = np.argsort(prob)[::-1]\n",
    "        idx = np.where(np.cumsum(prob[ordering]) > coverage)[0][0]\n",
    "        cs = variant[ordering][: (idx + 1)]\n",
    "        return cs\n"
   ]
  },
  {
   "cell_type": "code",
   "execution_count": 189,
   "id": "69d670a2-247c-40ba-88c2-0b61d5034a60",
   "metadata": {},
   "outputs": [
    {
     "data": {
      "text/plain": [
       "(array([], dtype=int64),)"
      ]
     },
     "execution_count": 189,
     "metadata": {},
     "output_type": "execute_result"
    }
   ],
   "source": [
    "np.where(np.in1d(snp_id,\"chr17_63476980_C_T\"))"
   ]
  },
  {
   "cell_type": "code",
   "execution_count": 192,
   "id": "c53e9e0a-704f-4aed-b07b-658c795085d9",
   "metadata": {},
   "outputs": [
    {
     "data": {
      "text/plain": [
       "'chr17_65149142_GTTGTTATGTT_*'"
      ]
     },
     "execution_count": 192,
     "metadata": {},
     "output_type": "execute_result"
    }
   ],
   "source": [
    "snp_id[-1]"
   ]
  },
  {
   "cell_type": "code",
   "execution_count": 202,
   "id": "d1e493d9-0879-4de9-b4e9-117fe9cece8f",
   "metadata": {},
   "outputs": [
    {
     "ename": "ModuleNotFoundError",
     "evalue": "No module named 'rpy2'",
     "output_type": "error",
     "traceback": [
      "\u001b[0;31m---------------------------------------------------------------------------\u001b[0m",
      "\u001b[0;31mModuleNotFoundError\u001b[0m                       Traceback (most recent call last)",
      "\u001b[0;32m/tmp/3306819.1.high_mem.q/ipykernel_10941/997118941.py\u001b[0m in \u001b[0;36m<module>\u001b[0;34m\u001b[0m\n\u001b[0;32m----> 1\u001b[0;31m \u001b[0;32mimport\u001b[0m \u001b[0mrpy2\u001b[0m\u001b[0;34m\u001b[0m\u001b[0;34m\u001b[0m\u001b[0m\n\u001b[0m",
      "\u001b[0;31mModuleNotFoundError\u001b[0m: No module named 'rpy2'"
     ]
    }
   ],
   "source": [
    "import rpy2"
   ]
  },
  {
   "cell_type": "code",
   "execution_count": 12,
   "id": "492dcf2d-e8ef-400c-8eba-20015f940569",
   "metadata": {},
   "outputs": [
    {
     "name": "stderr",
     "output_type": "stream",
     "text": [
      "R[write to console]: Error in dyn.load(file, DLLpath = DLLpath, ...) : \n",
      "  unable to load shared object '/mnt/mfs/cluster/bin/R-4.0.0/library/methods/libs/methods.so':\n",
      "  libR.so: cannot open shared object file: No such file or directory\n",
      "\n"
     ]
    },
    {
     "ename": "RRuntimeError",
     "evalue": "Error in dyn.load(file, DLLpath = DLLpath, ...) : \n  unable to load shared object '/mnt/mfs/cluster/bin/R-4.0.0/library/methods/libs/methods.so':\n  libR.so: cannot open shared object file: No such file or directory\n",
     "output_type": "error",
     "traceback": [
      "\u001b[0;31m---------------------------------------------------------------------------\u001b[0m",
      "\u001b[0;31mRRuntimeError\u001b[0m                             Traceback (most recent call last)",
      "\u001b[0;32m/tmp/3350571.1.high_mem.q/ipykernel_20554/4167828453.py\u001b[0m in \u001b[0;36m<module>\u001b[0;34m\u001b[0m\n\u001b[1;32m      1\u001b[0m \u001b[0;32mimport\u001b[0m \u001b[0mrpy2\u001b[0m\u001b[0;34m\u001b[0m\u001b[0;34m\u001b[0m\u001b[0m\n\u001b[0;32m----> 2\u001b[0;31m \u001b[0;32mimport\u001b[0m \u001b[0mrpy2\u001b[0m\u001b[0;34m.\u001b[0m\u001b[0mrobjects\u001b[0m\u001b[0;34m.\u001b[0m\u001b[0mnumpy2ri\u001b[0m \u001b[0;32mas\u001b[0m \u001b[0mnumpy2ri\u001b[0m\u001b[0;34m\u001b[0m\u001b[0;34m\u001b[0m\u001b[0m\n\u001b[0m\u001b[1;32m      3\u001b[0m \u001b[0;32mimport\u001b[0m \u001b[0mrpy2\u001b[0m\u001b[0;34m.\u001b[0m\u001b[0mrobjects\u001b[0m \u001b[0;32mas\u001b[0m \u001b[0mro\u001b[0m\u001b[0;34m\u001b[0m\u001b[0;34m\u001b[0m\u001b[0m\n\u001b[1;32m      4\u001b[0m \u001b[0mro\u001b[0m\u001b[0;34m.\u001b[0m\u001b[0mconversion\u001b[0m\u001b[0;34m.\u001b[0m\u001b[0mpy2ri\u001b[0m \u001b[0;34m=\u001b[0m \u001b[0mnumpy2ri\u001b[0m\u001b[0;34m\u001b[0m\u001b[0;34m\u001b[0m\u001b[0m\n\u001b[1;32m      5\u001b[0m \u001b[0mnumpy2ri\u001b[0m\u001b[0;34m.\u001b[0m\u001b[0mactivate\u001b[0m\u001b[0;34m(\u001b[0m\u001b[0;34m)\u001b[0m\u001b[0;34m\u001b[0m\u001b[0;34m\u001b[0m\u001b[0m\n",
      "\u001b[0;32m~/miniconda3/lib/python3.9/site-packages/rpy2/robjects/__init__.py\u001b[0m in \u001b[0;36m<module>\u001b[0;34m\u001b[0m\n\u001b[1;32m     16\u001b[0m \u001b[0;32mimport\u001b[0m \u001b[0mrpy2\u001b[0m\u001b[0;34m.\u001b[0m\u001b[0mrlike\u001b[0m\u001b[0;34m.\u001b[0m\u001b[0mcontainer\u001b[0m \u001b[0;32mas\u001b[0m \u001b[0mrlc\u001b[0m\u001b[0;34m\u001b[0m\u001b[0;34m\u001b[0m\u001b[0m\n\u001b[1;32m     17\u001b[0m \u001b[0;34m\u001b[0m\u001b[0m\n\u001b[0;32m---> 18\u001b[0;31m \u001b[0;32mfrom\u001b[0m \u001b[0mrpy2\u001b[0m\u001b[0;34m.\u001b[0m\u001b[0mrobjects\u001b[0m\u001b[0;34m.\u001b[0m\u001b[0mrobject\u001b[0m \u001b[0;32mimport\u001b[0m \u001b[0mRObjectMixin\u001b[0m\u001b[0;34m,\u001b[0m \u001b[0mRObject\u001b[0m\u001b[0;34m\u001b[0m\u001b[0;34m\u001b[0m\u001b[0m\n\u001b[0m\u001b[1;32m     19\u001b[0m \u001b[0;32mimport\u001b[0m \u001b[0mrpy2\u001b[0m\u001b[0;34m.\u001b[0m\u001b[0mrobjects\u001b[0m\u001b[0;34m.\u001b[0m\u001b[0mfunctions\u001b[0m\u001b[0;34m\u001b[0m\u001b[0;34m\u001b[0m\u001b[0m\n\u001b[1;32m     20\u001b[0m from rpy2.robjects.environments import (Environment,\n",
      "\u001b[0;32m~/miniconda3/lib/python3.9/site-packages/rpy2/robjects/robject.py\u001b[0m in \u001b[0;36m<module>\u001b[0;34m\u001b[0m\n\u001b[1;32m     79\u001b[0m \u001b[0;34m\u001b[0m\u001b[0m\n\u001b[1;32m     80\u001b[0m \u001b[0;34m\u001b[0m\u001b[0m\n\u001b[0;32m---> 81\u001b[0;31m \u001b[0;32mclass\u001b[0m \u001b[0mRObjectMixin\u001b[0m\u001b[0;34m(\u001b[0m\u001b[0mabc\u001b[0m\u001b[0;34m.\u001b[0m\u001b[0mABC\u001b[0m\u001b[0;34m)\u001b[0m\u001b[0;34m:\u001b[0m\u001b[0;34m\u001b[0m\u001b[0;34m\u001b[0m\u001b[0m\n\u001b[0m\u001b[1;32m     82\u001b[0m     \u001b[0;34m\"\"\" Abstract class to provide methods common to all RObject instances. \"\"\"\u001b[0m\u001b[0;34m\u001b[0m\u001b[0;34m\u001b[0m\u001b[0m\n\u001b[1;32m     83\u001b[0m \u001b[0;34m\u001b[0m\u001b[0m\n",
      "\u001b[0;32m~/miniconda3/lib/python3.9/site-packages/rpy2/robjects/robject.py\u001b[0m in \u001b[0;36mRObjectMixin\u001b[0;34m()\u001b[0m\n\u001b[1;32m     91\u001b[0m     \u001b[0m__readlines\u001b[0m \u001b[0;34m=\u001b[0m \u001b[0mrpy2\u001b[0m\u001b[0;34m.\u001b[0m\u001b[0mrinterface\u001b[0m\u001b[0;34m.\u001b[0m\u001b[0mbaseenv\u001b[0m\u001b[0;34m.\u001b[0m\u001b[0mfind\u001b[0m\u001b[0;34m(\u001b[0m\u001b[0;34m\"readLines\"\u001b[0m\u001b[0;34m)\u001b[0m\u001b[0;34m\u001b[0m\u001b[0;34m\u001b[0m\u001b[0m\n\u001b[1;32m     92\u001b[0m     \u001b[0m__unlink\u001b[0m \u001b[0;34m=\u001b[0m \u001b[0mrpy2\u001b[0m\u001b[0;34m.\u001b[0m\u001b[0mrinterface\u001b[0m\u001b[0;34m.\u001b[0m\u001b[0mbaseenv\u001b[0m\u001b[0;34m.\u001b[0m\u001b[0mfind\u001b[0m\u001b[0;34m(\u001b[0m\u001b[0;34m\"unlink\"\u001b[0m\u001b[0;34m)\u001b[0m\u001b[0;34m\u001b[0m\u001b[0;34m\u001b[0m\u001b[0m\n\u001b[0;32m---> 93\u001b[0;31m     \u001b[0m__show\u001b[0m \u001b[0;34m=\u001b[0m \u001b[0m_get_exported_value\u001b[0m\u001b[0;34m(\u001b[0m\u001b[0;34m'methods'\u001b[0m\u001b[0;34m,\u001b[0m \u001b[0;34m'show'\u001b[0m\u001b[0;34m)\u001b[0m\u001b[0;34m\u001b[0m\u001b[0;34m\u001b[0m\u001b[0m\n\u001b[0m\u001b[1;32m     94\u001b[0m     \u001b[0m__print\u001b[0m \u001b[0;34m=\u001b[0m \u001b[0m_get_exported_value\u001b[0m\u001b[0;34m(\u001b[0m\u001b[0;34m'base'\u001b[0m\u001b[0;34m,\u001b[0m \u001b[0;34m'print'\u001b[0m\u001b[0;34m)\u001b[0m\u001b[0;34m\u001b[0m\u001b[0;34m\u001b[0m\u001b[0m\n\u001b[1;32m     95\u001b[0m \u001b[0;34m\u001b[0m\u001b[0m\n",
      "\u001b[0;32m~/miniconda3/lib/python3.9/site-packages/rpy2/rinterface_lib/conversion.py\u001b[0m in \u001b[0;36m_\u001b[0;34m(*args, **kwargs)\u001b[0m\n\u001b[1;32m     43\u001b[0m \u001b[0;32mdef\u001b[0m \u001b[0m_cdata_res_to_rinterface\u001b[0m\u001b[0;34m(\u001b[0m\u001b[0mfunction\u001b[0m\u001b[0;34m)\u001b[0m\u001b[0;34m:\u001b[0m\u001b[0;34m\u001b[0m\u001b[0;34m\u001b[0m\u001b[0m\n\u001b[1;32m     44\u001b[0m     \u001b[0;32mdef\u001b[0m \u001b[0m_\u001b[0m\u001b[0;34m(\u001b[0m\u001b[0;34m*\u001b[0m\u001b[0margs\u001b[0m\u001b[0;34m,\u001b[0m \u001b[0;34m**\u001b[0m\u001b[0mkwargs\u001b[0m\u001b[0;34m)\u001b[0m\u001b[0;34m:\u001b[0m\u001b[0;34m\u001b[0m\u001b[0;34m\u001b[0m\u001b[0m\n\u001b[0;32m---> 45\u001b[0;31m         \u001b[0mcdata\u001b[0m \u001b[0;34m=\u001b[0m \u001b[0mfunction\u001b[0m\u001b[0;34m(\u001b[0m\u001b[0;34m*\u001b[0m\u001b[0margs\u001b[0m\u001b[0;34m,\u001b[0m \u001b[0;34m**\u001b[0m\u001b[0mkwargs\u001b[0m\u001b[0;34m)\u001b[0m\u001b[0;34m\u001b[0m\u001b[0;34m\u001b[0m\u001b[0m\n\u001b[0m\u001b[1;32m     46\u001b[0m         \u001b[0;31m# TODO: test cdata is of the expected CType\u001b[0m\u001b[0;34m\u001b[0m\u001b[0;34m\u001b[0m\u001b[0;34m\u001b[0m\u001b[0m\n\u001b[1;32m     47\u001b[0m         \u001b[0;32mreturn\u001b[0m \u001b[0m_cdata_to_rinterface\u001b[0m\u001b[0;34m(\u001b[0m\u001b[0mcdata\u001b[0m\u001b[0;34m)\u001b[0m\u001b[0;34m\u001b[0m\u001b[0;34m\u001b[0m\u001b[0m\n",
      "\u001b[0;32m~/miniconda3/lib/python3.9/site-packages/rpy2/rinterface.py\u001b[0m in \u001b[0;36m__call__\u001b[0;34m(self, *args, **kwargs)\u001b[0m\n\u001b[1;32m    815\u001b[0m             )\n\u001b[1;32m    816\u001b[0m             \u001b[0;32mif\u001b[0m \u001b[0merror_occured\u001b[0m\u001b[0;34m[\u001b[0m\u001b[0;36m0\u001b[0m\u001b[0;34m]\u001b[0m\u001b[0;34m:\u001b[0m\u001b[0;34m\u001b[0m\u001b[0;34m\u001b[0m\u001b[0m\n\u001b[0;32m--> 817\u001b[0;31m                 \u001b[0;32mraise\u001b[0m \u001b[0membedded\u001b[0m\u001b[0;34m.\u001b[0m\u001b[0mRRuntimeError\u001b[0m\u001b[0;34m(\u001b[0m\u001b[0m_rinterface\u001b[0m\u001b[0;34m.\u001b[0m\u001b[0m_geterrmessage\u001b[0m\u001b[0;34m(\u001b[0m\u001b[0;34m)\u001b[0m\u001b[0;34m)\u001b[0m\u001b[0;34m\u001b[0m\u001b[0;34m\u001b[0m\u001b[0m\n\u001b[0m\u001b[1;32m    818\u001b[0m         \u001b[0;32mreturn\u001b[0m \u001b[0mres\u001b[0m\u001b[0;34m\u001b[0m\u001b[0;34m\u001b[0m\u001b[0m\n\u001b[1;32m    819\u001b[0m \u001b[0;34m\u001b[0m\u001b[0m\n",
      "\u001b[0;31mRRuntimeError\u001b[0m: Error in dyn.load(file, DLLpath = DLLpath, ...) : \n  unable to load shared object '/mnt/mfs/cluster/bin/R-4.0.0/library/methods/libs/methods.so':\n  libR.so: cannot open shared object file: No such file or directory\n"
     ]
    }
   ],
   "source": [
    "import rpy2\n",
    "import rpy2.robjects.numpy2ri as numpy2ri\n",
    "import rpy2.robjects as ro\n",
    "ro.conversion.py2ri = numpy2ri\n",
    "numpy2ri.activate()\n",
    "from rpy2.robjects.packages import importr\n",
    "susieR = importr('susieR')\n",
    "R_null = ro.rinterface.NULL"
   ]
  },
  {
   "cell_type": "code",
   "execution_count": 9,
   "id": "9bd312d9-9b7f-4b5a-8e64-916496bd267c",
   "metadata": {},
   "outputs": [],
   "source": [
    "import os\n",
    "os.environ['R_HOME'] = '/mnt/mfs/cluster/bin/R-4.0.0/'"
   ]
  },
  {
   "cell_type": "code",
   "execution_count": 204,
   "id": "64d7d2d1-4843-4ecb-a921-f4f47f8e316d",
   "metadata": {},
   "outputs": [],
   "source": [
    "import rpy2"
   ]
  },
  {
   "cell_type": "code",
   "execution_count": 11,
   "id": "5e822559-5ca8-4f0c-a9ff-415a403d70cd",
   "metadata": {},
   "outputs": [
    {
     "name": "stderr",
     "output_type": "stream",
     "text": [
      "R[write to console]: Error in dyn.load(file, DLLpath = DLLpath, ...) : \n",
      "  unable to load shared object '/mnt/mfs/cluster/bin/R-4.0.0/library/methods/libs/methods.so':\n",
      "  libR.so: cannot open shared object file: No such file or directory\n",
      "\n"
     ]
    },
    {
     "ename": "RRuntimeError",
     "evalue": "Error in dyn.load(file, DLLpath = DLLpath, ...) : \n  unable to load shared object '/mnt/mfs/cluster/bin/R-4.0.0/library/methods/libs/methods.so':\n  libR.so: cannot open shared object file: No such file or directory\n",
     "output_type": "error",
     "traceback": [
      "\u001b[0;31m---------------------------------------------------------------------------\u001b[0m",
      "\u001b[0;31mRRuntimeError\u001b[0m                             Traceback (most recent call last)",
      "\u001b[0;32m/tmp/3350571.1.high_mem.q/ipykernel_20554/1493130825.py\u001b[0m in \u001b[0;36m<module>\u001b[0;34m\u001b[0m\n\u001b[0;32m----> 1\u001b[0;31m \u001b[0;32mimport\u001b[0m \u001b[0mrpy2\u001b[0m\u001b[0;34m.\u001b[0m\u001b[0mrobjects\u001b[0m\u001b[0;34m\u001b[0m\u001b[0;34m\u001b[0m\u001b[0m\n\u001b[0m",
      "\u001b[0;32m~/miniconda3/lib/python3.9/site-packages/rpy2/robjects/__init__.py\u001b[0m in \u001b[0;36m<module>\u001b[0;34m\u001b[0m\n\u001b[1;32m     16\u001b[0m \u001b[0;32mimport\u001b[0m \u001b[0mrpy2\u001b[0m\u001b[0;34m.\u001b[0m\u001b[0mrlike\u001b[0m\u001b[0;34m.\u001b[0m\u001b[0mcontainer\u001b[0m \u001b[0;32mas\u001b[0m \u001b[0mrlc\u001b[0m\u001b[0;34m\u001b[0m\u001b[0;34m\u001b[0m\u001b[0m\n\u001b[1;32m     17\u001b[0m \u001b[0;34m\u001b[0m\u001b[0m\n\u001b[0;32m---> 18\u001b[0;31m \u001b[0;32mfrom\u001b[0m \u001b[0mrpy2\u001b[0m\u001b[0;34m.\u001b[0m\u001b[0mrobjects\u001b[0m\u001b[0;34m.\u001b[0m\u001b[0mrobject\u001b[0m \u001b[0;32mimport\u001b[0m \u001b[0mRObjectMixin\u001b[0m\u001b[0;34m,\u001b[0m \u001b[0mRObject\u001b[0m\u001b[0;34m\u001b[0m\u001b[0;34m\u001b[0m\u001b[0m\n\u001b[0m\u001b[1;32m     19\u001b[0m \u001b[0;32mimport\u001b[0m \u001b[0mrpy2\u001b[0m\u001b[0;34m.\u001b[0m\u001b[0mrobjects\u001b[0m\u001b[0;34m.\u001b[0m\u001b[0mfunctions\u001b[0m\u001b[0;34m\u001b[0m\u001b[0;34m\u001b[0m\u001b[0m\n\u001b[1;32m     20\u001b[0m from rpy2.robjects.environments import (Environment,\n",
      "\u001b[0;32m~/miniconda3/lib/python3.9/site-packages/rpy2/robjects/robject.py\u001b[0m in \u001b[0;36m<module>\u001b[0;34m\u001b[0m\n\u001b[1;32m     79\u001b[0m \u001b[0;34m\u001b[0m\u001b[0m\n\u001b[1;32m     80\u001b[0m \u001b[0;34m\u001b[0m\u001b[0m\n\u001b[0;32m---> 81\u001b[0;31m \u001b[0;32mclass\u001b[0m \u001b[0mRObjectMixin\u001b[0m\u001b[0;34m(\u001b[0m\u001b[0mabc\u001b[0m\u001b[0;34m.\u001b[0m\u001b[0mABC\u001b[0m\u001b[0;34m)\u001b[0m\u001b[0;34m:\u001b[0m\u001b[0;34m\u001b[0m\u001b[0;34m\u001b[0m\u001b[0m\n\u001b[0m\u001b[1;32m     82\u001b[0m     \u001b[0;34m\"\"\" Abstract class to provide methods common to all RObject instances. \"\"\"\u001b[0m\u001b[0;34m\u001b[0m\u001b[0;34m\u001b[0m\u001b[0m\n\u001b[1;32m     83\u001b[0m \u001b[0;34m\u001b[0m\u001b[0m\n",
      "\u001b[0;32m~/miniconda3/lib/python3.9/site-packages/rpy2/robjects/robject.py\u001b[0m in \u001b[0;36mRObjectMixin\u001b[0;34m()\u001b[0m\n\u001b[1;32m     91\u001b[0m     \u001b[0m__readlines\u001b[0m \u001b[0;34m=\u001b[0m \u001b[0mrpy2\u001b[0m\u001b[0;34m.\u001b[0m\u001b[0mrinterface\u001b[0m\u001b[0;34m.\u001b[0m\u001b[0mbaseenv\u001b[0m\u001b[0;34m.\u001b[0m\u001b[0mfind\u001b[0m\u001b[0;34m(\u001b[0m\u001b[0;34m\"readLines\"\u001b[0m\u001b[0;34m)\u001b[0m\u001b[0;34m\u001b[0m\u001b[0;34m\u001b[0m\u001b[0m\n\u001b[1;32m     92\u001b[0m     \u001b[0m__unlink\u001b[0m \u001b[0;34m=\u001b[0m \u001b[0mrpy2\u001b[0m\u001b[0;34m.\u001b[0m\u001b[0mrinterface\u001b[0m\u001b[0;34m.\u001b[0m\u001b[0mbaseenv\u001b[0m\u001b[0;34m.\u001b[0m\u001b[0mfind\u001b[0m\u001b[0;34m(\u001b[0m\u001b[0;34m\"unlink\"\u001b[0m\u001b[0;34m)\u001b[0m\u001b[0;34m\u001b[0m\u001b[0;34m\u001b[0m\u001b[0m\n\u001b[0;32m---> 93\u001b[0;31m     \u001b[0m__show\u001b[0m \u001b[0;34m=\u001b[0m \u001b[0m_get_exported_value\u001b[0m\u001b[0;34m(\u001b[0m\u001b[0;34m'methods'\u001b[0m\u001b[0;34m,\u001b[0m \u001b[0;34m'show'\u001b[0m\u001b[0;34m)\u001b[0m\u001b[0;34m\u001b[0m\u001b[0;34m\u001b[0m\u001b[0m\n\u001b[0m\u001b[1;32m     94\u001b[0m     \u001b[0m__print\u001b[0m \u001b[0;34m=\u001b[0m \u001b[0m_get_exported_value\u001b[0m\u001b[0;34m(\u001b[0m\u001b[0;34m'base'\u001b[0m\u001b[0;34m,\u001b[0m \u001b[0;34m'print'\u001b[0m\u001b[0;34m)\u001b[0m\u001b[0;34m\u001b[0m\u001b[0;34m\u001b[0m\u001b[0m\n\u001b[1;32m     95\u001b[0m \u001b[0;34m\u001b[0m\u001b[0m\n",
      "\u001b[0;32m~/miniconda3/lib/python3.9/site-packages/rpy2/rinterface_lib/conversion.py\u001b[0m in \u001b[0;36m_\u001b[0;34m(*args, **kwargs)\u001b[0m\n\u001b[1;32m     43\u001b[0m \u001b[0;32mdef\u001b[0m \u001b[0m_cdata_res_to_rinterface\u001b[0m\u001b[0;34m(\u001b[0m\u001b[0mfunction\u001b[0m\u001b[0;34m)\u001b[0m\u001b[0;34m:\u001b[0m\u001b[0;34m\u001b[0m\u001b[0;34m\u001b[0m\u001b[0m\n\u001b[1;32m     44\u001b[0m     \u001b[0;32mdef\u001b[0m \u001b[0m_\u001b[0m\u001b[0;34m(\u001b[0m\u001b[0;34m*\u001b[0m\u001b[0margs\u001b[0m\u001b[0;34m,\u001b[0m \u001b[0;34m**\u001b[0m\u001b[0mkwargs\u001b[0m\u001b[0;34m)\u001b[0m\u001b[0;34m:\u001b[0m\u001b[0;34m\u001b[0m\u001b[0;34m\u001b[0m\u001b[0m\n\u001b[0;32m---> 45\u001b[0;31m         \u001b[0mcdata\u001b[0m \u001b[0;34m=\u001b[0m \u001b[0mfunction\u001b[0m\u001b[0;34m(\u001b[0m\u001b[0;34m*\u001b[0m\u001b[0margs\u001b[0m\u001b[0;34m,\u001b[0m \u001b[0;34m**\u001b[0m\u001b[0mkwargs\u001b[0m\u001b[0;34m)\u001b[0m\u001b[0;34m\u001b[0m\u001b[0;34m\u001b[0m\u001b[0m\n\u001b[0m\u001b[1;32m     46\u001b[0m         \u001b[0;31m# TODO: test cdata is of the expected CType\u001b[0m\u001b[0;34m\u001b[0m\u001b[0;34m\u001b[0m\u001b[0;34m\u001b[0m\u001b[0m\n\u001b[1;32m     47\u001b[0m         \u001b[0;32mreturn\u001b[0m \u001b[0m_cdata_to_rinterface\u001b[0m\u001b[0;34m(\u001b[0m\u001b[0mcdata\u001b[0m\u001b[0;34m)\u001b[0m\u001b[0;34m\u001b[0m\u001b[0;34m\u001b[0m\u001b[0m\n",
      "\u001b[0;32m~/miniconda3/lib/python3.9/site-packages/rpy2/rinterface.py\u001b[0m in \u001b[0;36m__call__\u001b[0;34m(self, *args, **kwargs)\u001b[0m\n\u001b[1;32m    815\u001b[0m             )\n\u001b[1;32m    816\u001b[0m             \u001b[0;32mif\u001b[0m \u001b[0merror_occured\u001b[0m\u001b[0;34m[\u001b[0m\u001b[0;36m0\u001b[0m\u001b[0;34m]\u001b[0m\u001b[0;34m:\u001b[0m\u001b[0;34m\u001b[0m\u001b[0;34m\u001b[0m\u001b[0m\n\u001b[0;32m--> 817\u001b[0;31m                 \u001b[0;32mraise\u001b[0m \u001b[0membedded\u001b[0m\u001b[0;34m.\u001b[0m\u001b[0mRRuntimeError\u001b[0m\u001b[0;34m(\u001b[0m\u001b[0m_rinterface\u001b[0m\u001b[0;34m.\u001b[0m\u001b[0m_geterrmessage\u001b[0m\u001b[0;34m(\u001b[0m\u001b[0;34m)\u001b[0m\u001b[0;34m)\u001b[0m\u001b[0;34m\u001b[0m\u001b[0;34m\u001b[0m\u001b[0m\n\u001b[0m\u001b[1;32m    818\u001b[0m         \u001b[0;32mreturn\u001b[0m \u001b[0mres\u001b[0m\u001b[0;34m\u001b[0m\u001b[0;34m\u001b[0m\u001b[0m\n\u001b[1;32m    819\u001b[0m \u001b[0;34m\u001b[0m\u001b[0m\n",
      "\u001b[0;31mRRuntimeError\u001b[0m: Error in dyn.load(file, DLLpath = DLLpath, ...) : \n  unable to load shared object '/mnt/mfs/cluster/bin/R-4.0.0/library/methods/libs/methods.so':\n  libR.so: cannot open shared object file: No such file or directory\n"
     ]
    }
   ],
   "source": [
    "import rpy2.robjects"
   ]
  },
  {
   "cell_type": "code",
   "execution_count": 1,
   "id": "37650df9-80cd-41ab-b9fb-116a2b24f129",
   "metadata": {},
   "outputs": [],
   "source": [
    "import pandas as pd"
   ]
  },
  {
   "cell_type": "code",
   "execution_count": 2,
   "id": "c3930e1d-e9ea-4731-8b1a-3c2ef7ccd3bc",
   "metadata": {},
   "outputs": [
    {
     "name": "stderr",
     "output_type": "stream",
     "text": [
      "/home/hs3163/miniconda3/lib/python3.9/site-packages/IPython/core/interactiveshell.py:3441: FutureWarning: In a future version of pandas all arguments of read_csv except for the argument 'filepath_or_buffer' will be keyword-only.\n",
      "  exec(code_obj, self.user_global_ns, self.user_ns)\n"
     ]
    }
   ],
   "source": [
    "a = pd.read_csv(\"/mnt/vast/hpc/csg/UKBiobank/results/pleiotropy_AD_ARHI/111822_LDstore_files/regions_chr1_22/ADx/ukb_mfi_chr1_22_v3.tsv.ref\",\"\\t\")"
   ]
  },
  {
   "cell_type": "code",
   "execution_count": 3,
   "id": "379da1f1-6d4e-4801-86ae-de8f630164e5",
   "metadata": {},
   "outputs": [
    {
     "data": {
      "text/html": [
       "<div>\n",
       "<style scoped>\n",
       "    .dataframe tbody tr th:only-of-type {\n",
       "        vertical-align: middle;\n",
       "    }\n",
       "\n",
       "    .dataframe tbody tr th {\n",
       "        vertical-align: top;\n",
       "    }\n",
       "\n",
       "    .dataframe thead th {\n",
       "        text-align: right;\n",
       "    }\n",
       "</style>\n",
       "<table border=\"1\" class=\"dataframe\">\n",
       "  <thead>\n",
       "    <tr style=\"text-align: right;\">\n",
       "      <th></th>\n",
       "      <th>CHR</th>\n",
       "      <th>POS</th>\n",
       "      <th>REF</th>\n",
       "      <th>ALT</th>\n",
       "    </tr>\n",
       "  </thead>\n",
       "  <tbody>\n",
       "    <tr>\n",
       "      <th>0</th>\n",
       "      <td>1</td>\n",
       "      <td>10177.0</td>\n",
       "      <td>A</td>\n",
       "      <td>AC</td>\n",
       "    </tr>\n",
       "    <tr>\n",
       "      <th>1</th>\n",
       "      <td>1</td>\n",
       "      <td>10235.0</td>\n",
       "      <td>T</td>\n",
       "      <td>TA</td>\n",
       "    </tr>\n",
       "    <tr>\n",
       "      <th>2</th>\n",
       "      <td>1</td>\n",
       "      <td>10352.0</td>\n",
       "      <td>T</td>\n",
       "      <td>TA</td>\n",
       "    </tr>\n",
       "    <tr>\n",
       "      <th>3</th>\n",
       "      <td>1</td>\n",
       "      <td>10505.0</td>\n",
       "      <td>A</td>\n",
       "      <td>T</td>\n",
       "    </tr>\n",
       "    <tr>\n",
       "      <th>4</th>\n",
       "      <td>1</td>\n",
       "      <td>10506.0</td>\n",
       "      <td>C</td>\n",
       "      <td>G</td>\n",
       "    </tr>\n",
       "    <tr>\n",
       "      <th>...</th>\n",
       "      <td>...</td>\n",
       "      <td>...</td>\n",
       "      <td>...</td>\n",
       "      <td>...</td>\n",
       "    </tr>\n",
       "    <tr>\n",
       "      <th>93095618</th>\n",
       "      <td>22</td>\n",
       "      <td>51241342.0</td>\n",
       "      <td>C</td>\n",
       "      <td>A</td>\n",
       "    </tr>\n",
       "    <tr>\n",
       "      <th>93095619</th>\n",
       "      <td>22</td>\n",
       "      <td>51241386.0</td>\n",
       "      <td>C</td>\n",
       "      <td>G</td>\n",
       "    </tr>\n",
       "    <tr>\n",
       "      <th>93095620</th>\n",
       "      <td>22</td>\n",
       "      <td>51244163.0</td>\n",
       "      <td>A</td>\n",
       "      <td>G</td>\n",
       "    </tr>\n",
       "    <tr>\n",
       "      <th>93095621</th>\n",
       "      <td>22</td>\n",
       "      <td>51244205.0</td>\n",
       "      <td>C</td>\n",
       "      <td>T</td>\n",
       "    </tr>\n",
       "    <tr>\n",
       "      <th>93095622</th>\n",
       "      <td>22</td>\n",
       "      <td>51244237.0</td>\n",
       "      <td>C</td>\n",
       "      <td>T</td>\n",
       "    </tr>\n",
       "  </tbody>\n",
       "</table>\n",
       "<p>93095623 rows × 4 columns</p>\n",
       "</div>"
      ],
      "text/plain": [
       "         CHR         POS REF ALT\n",
       "0          1     10177.0   A  AC\n",
       "1          1     10235.0   T  TA\n",
       "2          1     10352.0   T  TA\n",
       "3          1     10505.0   A   T\n",
       "4          1     10506.0   C   G\n",
       "...       ..         ...  ..  ..\n",
       "93095618  22  51241342.0   C   A\n",
       "93095619  22  51241386.0   C   G\n",
       "93095620  22  51244163.0   A   G\n",
       "93095621  22  51244205.0   C   T\n",
       "93095622  22  51244237.0   C   T\n",
       "\n",
       "[93095623 rows x 4 columns]"
      ]
     },
     "execution_count": 3,
     "metadata": {},
     "output_type": "execute_result"
    }
   ],
   "source": [
    "a"
   ]
  },
  {
   "cell_type": "code",
   "execution_count": null,
   "id": "6bd11469-ae90-4049-90d2-ace2b525e2d0",
   "metadata": {},
   "outputs": [],
   "source": [
    "{ \n",
    "\"language\": \"python\",\n",
    " \"argv\": [\n",
    "  \"/mnt/mfs/cluster/bin/Singularity-ce-3.9.4/bin/singularity\",\n",
    "   \"exec\",\n",
    "   \"-B\", \n",
    "   \"/mnt/:/mnt/\",\n",
    "   \"/home/hs3163/GIT/xqtl-pipeline/container/singularity/stephenslab_rpy2.sif\",\n",
    "   \"/opt/conda/bin/python\",\n",
    "   \"-m\",\n",
    "  \"ipykernel\",\n",
    "  \"-f\",\n",
    "  \"{connection_file}\"\n",
    " ],\n",
    " \"display_name\": \"Singularity Susie_rpy2\",\n",
    " \"metadata\": {\n",
    "  \"debugger\": true\n",
    " }\n",
    "}"
   ]
  },
  {
   "cell_type": "code",
   "execution_count": null,
   "id": "0f81fd95-b038-40ab-bef1-0908b3b23314",
   "metadata": {},
   "outputs": [],
   "source": [
    "{\n",
    " \"language\": \"python\",\n",
    " \"argv\": [\"/usr/local/bin/singularity\",\n",
    "   \"exec\",\n",
    "   \"-B\",\n",
    "   \"/mnt/:/mnt/\"\n",
    "   \"/home/hs3163/GIT/xqtl-pipeline/container/singularity/stephenslab_rpy2.sif\",\n",
    "   \"/opt/conda/bin/python\",\n",
    "   \"-m\",\n",
    "   \"ipykernel\",\n",
    "   \"-f\",\n",
    "   \"{connection_file}\"\n",
    " ],\n",
    " \"display_name\": \"Python 3 (Singularity)\"\n",
    "}"
   ]
  }
 ],
 "metadata": {
  "kernelspec": {
   "display_name": "Singularity Susie_rpy2",
   "language": "python",
   "name": "rpy2_susie"
  },
  "language_info": {
   "codemirror_mode": {
    "name": "ipython",
    "version": 3
   },
   "file_extension": ".py",
   "mimetype": "text/x-python",
   "name": "python",
   "nbconvert_exporter": "python",
   "pygments_lexer": "ipython3",
   "version": "3.8.6"
  }
 },
 "nbformat": 4,
 "nbformat_minor": 5
}
