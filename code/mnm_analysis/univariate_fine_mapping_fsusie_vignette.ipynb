{
 "cells": [
  {
   "cell_type": "markdown",
   "id": "5839a8ae-e13c-44ba-b06c-8346a0e65655",
   "metadata": {},
   "source": [
    "# Univariate Fine-Mapping of Functional (Epigenomic) Data with fSuSiE\n"
   ]
  },
  {
   "cell_type": "markdown",
   "id": "fe924afb-7f78-4e1e-8b53-2cda19856bc7",
   "metadata": {},
   "source": [
    "## Description"
   ]
  },
  {
   "cell_type": "markdown",
   "id": "4b860370-77bb-4095-b9b1-1613ed681bf4",
   "metadata": {},
   "source": [
    "Univariate fine-mapping for functional (epigenomic) data is conducted with fSuSiE. This is similar to the normal univariate fine-mapping, with the main difference being the use of epigonmic data. \n"
   ]
  },
  {
   "cell_type": "markdown",
   "id": "6eef2529-79a1-4af6-9b96-98c10a5e0b5e",
   "metadata": {},
   "source": [
    "## Input"
   ]
  },
  {
   "cell_type": "markdown",
   "id": "5f0bcf9f-55c4-43fa-b846-170c935403b9",
   "metadata": {},
   "source": [
    "\n",
    "    \n",
    "`--genoFile`: path to a text file contatining information on genotype files. For example:\n",
    "```\n",
    "#id     #path\n",
    "21      $PATH/protocol_example.genotype.chr21_22.21.bed\n",
    "22      $PATH/protocol_example.genotype.chr21_22.22.bed\n",
    "```\n",
    "`--phenoFile`: a tab delimited file containing chr, start, end, ID and path for the regions. For example:\n",
    "```\n",
    "#chr    start   end     ID      path\n",
    "chr21   0       14120807        TADB_1297       $PATH/protocol_example.ha.bed.gz\n",
    "chr21   10840000        16880069        TADB_1298       $PATH/protocol_example.ha.bed.gz\n",
    "```\n",
    "\n",
    "`--covFile`: path to a gzipped file containing covariates in the rows, and sample ids in the columns.  \n",
    "`--customized-association-windows`: a tab delimited file containing chr, start, end, and ID regions. For example:\n",
    "```\n",
    "#chr    start   end     ID\n",
    "chr21   0       14120807        TADB_1297\n",
    "chr21   10840000        16880069        TADB_1298\n",
    "```\n",
    "`--region-name`: if you only wish to analyze one region, then include the ID of a region found in the `customized-association-windows` file"
   ]
  },
  {
   "cell_type": "markdown",
   "id": "f8e1c046-33da-4626-a5fd-8afb29f81e16",
   "metadata": {},
   "source": [
    "## Output"
   ]
  },
  {
   "cell_type": "markdown",
   "id": "436a39bb-b182-49c0-9ec9-c4b899c8b684",
   "metadata": {},
   "source": [
    "* `*_marks.dataset.rds`\n",
    "```\n",
    "> str(readRDS(\"/restricted/projectnb/xqtl/xqtl_protocol/toy_xqtl_protocol/output/fsusie/fsus/Mic.chr7_139293693_145380632.16_marks.dataset.rds\"))\n",
    "List of 1\n",
    " $ chr7:139293693-145380632:List of 13\n",
    "  ..$ residual_Y       :List of 1\n",
    "  .. ..$ ROSMAP_Mic_snATACQTL: num [1:65, 1:166] -0.0444 -0.3137 -0.0634 0.0658 0.8817 ...\n",
    "  .. .. ..- attr(*, \"dimnames\")=List of 2\n",
    "  .. .. .. ..$ : chr [1:65] \"sample_10\" \"sample_11\" \"sample_12\" \"sample_13\" ...\n",
    "  .. .. .. ..$ : NULL\n",
    "  ..$ residual_X       :List of 1\n",
    "  .. ..$ : num [1:65, 1:15857] -0.4025 -0.8767 -0.2054 -0.0908 0.6848 ...\n",
    "  .. .. ..- attr(*, \"dimnames\")=List of 2\n",
    "  .. .. .. ..$ : chr [1:65] \"sample_10\" \"sample_11\" \"sample_12\" \"sample_13\" ...\n",
    "  .. .. .. ..$ : chr [1:15857] \"chr7:139302775:AACACACACAC:AACACACACACAC\" \"chr7:139302775:AACACACACAC:AACACACACACACAC\" \"chr7:139304706:G:GGT\" \"chr7:139305695:G:T\" ...\n",
    "  ..$ residual_Y_scalar: num 1\n",
    "  ..$ residual_X_scalar: num 1\n",
    "  ..$ covar            :List of 1\n",
    "  .. ..$ : num [1:65, 1:48] 1 1 1 0 0 0 0 0 1 0 ...\n",
    "  .. .. ..- attr(*, \"dimnames\")=List of 2\n",
    "  .. .. .. ..$ : chr [1:65] \"sample_10\" \"sample_11\" \"sample_12\" \"sample_13\" ...\n",
    "  .. .. .. ..$ : NULL\n",
    "  ..$ Y                :List of 1\n",
    "  .. ..$ : num [1:65, 1:166] 1.99 2.19 2.02 2.48 3.42 ...\n",
    "  .. .. ..- attr(*, \"dimnames\")=List of 2\n",
    "  .. .. .. ..$ : chr [1:65] \"sample_10\" \"sample_11\" \"sample_12\" \"sample_13\" ...\n",
    "  .. .. .. ..$ : NULL\n",
    "  ..$ X_data           :List of 1\n",
    "  .. ..$ : num [1:65, 1:15857] 0 0 1 1 1 0 2 0 1 1 ...\n",
    "  .. .. ..- attr(*, \"dimnames\")=List of 2\n",
    "  .. .. .. ..$ : chr [1:65] \"sample_10\" \"sample_11\" \"sample_12\" \"sample_13\" ...\n",
    "  .. .. .. ..$ : chr [1:15857] \"chr7:139302775:AACACACACAC:AACACACACACAC\" \"chr7:139302775:AACACACACAC:AACACACACACACAC\" \"chr7:139304706:G:GGT\" \"chr7:139305695:G:T\" ...\n",
    "  ..$ maf              :List of 1\n",
    "  .. ..$ : Named num [1:15857] 0.2692 0.1538 0.0692 0.0923 0.4615 ...\n",
    "  .. .. ..- attr(*, \"names\")= chr [1:15857] \"chr7:139302775:AACACACACAC:AACACACACACAC\" \"chr7:139302775:AACACACACAC:AACACACACACACAC\" \"chr7:139304706:G:GGT\" \"chr7:139305695:G:T\" ...\n",
    "  ..$ grange           : chr [1:2] \"139293693\" \"145380632\"\n",
    "  ..$ Y_coordinates    :List of 1\n",
    "  .. ..$ :Classes ‘tbl_df’, ‘tbl’ and 'data.frame':\t166 obs. of  3 variables:\n",
    "  .. .. ..$ #chr : chr [1:166] \"chr7\" \"chr7\" \"chr7\" \"chr7\" ...\n",
    "  .. .. ..$ start: num [1:166] 1.39e+08 1.39e+08 1.39e+08 1.39e+08 1.39e+08 ...\n",
    "  .. .. ..$ end  : num [1:166] 1.39e+08 1.39e+08 1.39e+08 1.39e+08 1.39e+08 ...\n",
    "  ..$ dropped_sample   :List of 3\n",
    "  .. ..$ X    :List of 1\n",
    "  .. .. ..$ : chr [1:3] \"sample_71\" \"sample_6\" \"sample_46\"\n",
    "  .. ..$ Y    :List of 1\n",
    "  .. .. ..$ : chr [1:5] \"sample_1\" \"sample_6\" \"sample_7\" \"sample_46\" ...\n",
    "  .. ..$ covar:List of 1\n",
    "  .. .. ..$ : chr [1:3] \"sample_1\" \"sample_47\" \"sample_7\"\n",
    "  ..$ X                : num [1:65, 1:15857] 0 0 1 1 1 0 2 0 1 1 ...\n",
    "  .. ..- attr(*, \"dimnames\")=List of 2\n",
    "  .. .. ..$ : chr [1:65] \"sample_10\" \"sample_11\" \"sample_12\" \"sample_13\" ...\n",
    "  .. .. ..$ : chr [1:15857] \"chr7:139302775:AACACACACAC:AACACACACACAC\" \"chr7:139302775:AACACACACAC:AACACACACACACAC\" \"chr7:139304706:G:GGT\" \"chr7:139305695:G:T\" ...\n",
    "  ..$ chrom            : chr \"chr7\"\n",
    "```\n",
    "\n",
    "* `*_top_pc_weights.rds`\n",
    "```\n",
    "> str(readRDS(\"/restricted/projectnb/xqtl/xqtl_protocol/toy_xqtl_protocol/output/fsusie/fsus/Mic.chr7_139293693_145380632.fsusie_mixture_normal_none__top_pc_weights.rds\"),max.level = 3)\n",
    "List of 1\n",
    " $ chr7:139293693-145380632:List of 1\n",
    "  ..$ ROSMAP_Mic_snATACQTL:List of 10\n",
    "  .. ..$ susie_on_top_pc           :List of 1\n",
    "  .. ..$ susie_weights_intermediate:List of 6\n",
    "  .. ..$ twas_weights              :List of 6\n",
    "  .. ..$ twas_predictions          :List of 6\n",
    "  .. ..$ twas_cv_result            :List of 4\n",
    "  .. ..$ total_time_elapsed        : 'proc_time' Named num [1:5] 31992.49 40.47 32206.65 304.39 4.65\n",
    "  .. .. ..- attr(*, \"names\")= chr [1:5] \"user.self\" \"sys.self\" \"elapsed\" \"user.child\" ...\n",
    "  .. ..$ fsusie_result             :List of 34\n",
    "  .. .. ..- attr(*, \"class\")= chr \"susiF\"\n",
    "  .. ..$ Y_coordinates             :Classes ‘tbl_df’, ‘tbl’ and 'data.frame':\t166 obs. of  3 variables:\n",
    "  .. ..$ fsusie_summary            :List of 5\n",
    "  .. ..$ region_info               :List of 3\n",
    "```"
   ]
  },
  {
   "cell_type": "markdown",
   "id": "397a4dc3-1e4c-4845-ad8b-beed40f1f408",
   "metadata": {},
   "source": [
    "## Minimal Working Example Steps"
   ]
  },
  {
   "cell_type": "markdown",
   "id": "3bca0962-ae57-422c-a79f-892ef3b7f7ae",
   "metadata": {},
   "source": [
    "### iii. [Run the Fine-Mapping with fSuSiE](https://statfungen.github.io/xqtl-protocol/code/mnm_analysis/mnm_methods/mnm_regression.html#ii-fsusie)"
   ]
  },
  {
   "cell_type": "code",
   "execution_count": null,
   "id": "dff2c979-52a1-4ec8-a0be-51b289327d37",
   "metadata": {},
   "outputs": [],
   "source": [
    "sos run pipeline/mnm_regression.ipynb fsusie \\\n",
    "    --cwd output/fsusie/ \\\n",
    "    --name   Mic  \\\n",
    "    --genoFile data/fsusie/mwe.genotype_by_chrom_files.txt \\\n",
    "    --phenoFile data/fsusie/mwe.pheno.region_list \\\n",
    "    --covFile   data/fsusie/mwe.chr7_139293693_145380632.Marchenko_PC.anon.gz \\\n",
    "    --cis-window 0 --max-cv-variants 5000 \\\n",
    "    --susie_top_pc 0 --phenotype-names ROSMAP_Mic_snATACQTL --maf 0.01 \\\n",
    "    --save-data \\\n",
    "    --numThreads 8 \\\n",
    "    --post_processing \"none\" --small-sample-correction "
   ]
  },
  {
   "cell_type": "markdown",
   "id": "cc7691e6-954c-4dc1-bac3-25d56026ab96",
   "metadata": {},
   "source": [
    "## Anticipated Results"
   ]
  },
  {
   "cell_type": "markdown",
   "id": "c698203c-976e-49d6-9056-a17238bf2099",
   "metadata": {},
   "source": [
    "Univariate finemapping for functional data will produce a file containing results for the top hits and a file containing residuals from SuSiE."
   ]
  },
  {
   "cell_type": "markdown",
   "id": "199a2637-cc0c-4aff-b4ea-a2546936f073",
   "metadata": {},
   "source": [
    "`Mic.chr7_139293693_145380632.fsusie_mixture_normal_none__top_pc_weights.rds`:\n",
    "* For each region of interest, this file contains: \n",
    "    1. susie_on_top_pc \n",
    "    2. twas_weights - for each variant (for enet, lasso and mrash methods). \n",
    "    3. twas predictions - for each sample (for enet, lasso, mrash methods)\n",
    "    4. twas cross validation results - information on the best method. Data is split into five parts\n",
    "    6. fsusie results \n",
    "    7. Y coordinates \n",
    "    8. fsusie summary \n",
    "    9. total time elapsed\n",
    "    10. region info - information on the region specified\n",
    "\n",
    "`Mic.chr7_139293693_145380632.16_marks.dataset.rds`:\n",
    "* For each gene of interest, contains residuals for each sample and phenotype\n",
    "* see [pecotmr code](https://github.com/statfungen/pecotmr/blob/68d87ca1d0a059022bf4e55339621cbddc8993cc/R/file_utils.R#L461) for description at fsusie uses the `load_regional_functional_data` function, an explanation of the arguments can be found at the similar `load_regional_association_data` function"
   ]
  },
  {
   "cell_type": "code",
   "execution_count": null,
   "id": "159e580c-e290-4403-a701-d9dfa1043341",
   "metadata": {},
   "outputs": [],
   "source": []
  }
 ],
 "metadata": {
  "kernelspec": {
   "display_name": "Python 3 (ipykernel)",
   "language": "python",
   "name": "python3"
  },
  "language_info": {
   "codemirror_mode": {
    "name": "ipython",
    "version": 3
   },
   "file_extension": ".py",
   "mimetype": "text/x-python",
   "name": "python",
   "nbconvert_exporter": "python",
   "pygments_lexer": "ipython3",
   "version": "3.10.12"
  }
 },
 "nbformat": 4,
 "nbformat_minor": 5
}
