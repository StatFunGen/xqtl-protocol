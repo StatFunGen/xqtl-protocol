{
 "cells": [
  {
   "cell_type": "markdown",
   "id": "5839a8ae-e13c-44ba-b06c-8346a0e65655",
   "metadata": {},
   "source": [
    "# Univariate Fine-Mapping and TWAS with SuSiE\n"
   ]
  },
  {
   "cell_type": "markdown",
   "id": "eeeb172c-8630-45a9-9203-eb8c11d6d00a",
   "metadata": {},
   "source": [
    "## Description"
   ]
  },
  {
   "cell_type": "markdown",
   "id": "4b860370-77bb-4095-b9b1-1613ed681bf4",
   "metadata": {},
   "source": [
    "Our pipeline is capable of performing univariate fine-mapping with SuSiE with TWAS weights. The TWAS portion makes use of TWAS weights, linkage disequilibrium data and GWAS summary statistics. Preset variants used are taken from the linkage disequilibrium data and used only for TWAS. TWAS cross validation tell us which of the four methods (enet, lasso, mrash, SuSiE) are best to use. By default, we limit to under 5000 variants for cross validation. In cross validation, the data is split into five parts. Training is done on four parts, and prediction is done on the fifth. Linear regression is used to assess the results and get r squared and pvalues. \n",
    "\n",
    "Fine mapping with SuSiE follows the formulat y=xb+e where x has many highly correlated variables due to linkage disequilibrium. Therefore, true effects (b), are very sparse. The SuSiE wrapper looks for five independent signals in each region to increase convergence speed. However, if five signals are found, then the the upper limit is increased. SuSiE does not allow for the inclusion of covariates. Therefore, covariates are regressed in."
   ]
  },
  {
   "cell_type": "markdown",
   "id": "a48d1cb3-d073-44ef-853f-6980199e2b6d",
   "metadata": {},
   "source": [
    "## Input:"
   ]
  },
  {
   "cell_type": "markdown",
   "id": "c31442aa-01ea-4053-bec6-48deebb724d5",
   "metadata": {},
   "source": [
    "    \n",
    "`--genoFile`: path to a plink bed file containing genotypes.  \n",
    "`--phenoFile`: at least one tab delimited file containing chr, start, end, ID and path for the regions. For example:\n",
    "```\n",
    "#chr    start   end     ID      path\n",
    "chr12   389272  389273  ENSG00000120647 $PATH/Ast.log2cpm.bed.gz\n",
    "chr12   389319  389320  ENSG00000073614 $PATH/Ast.log2cpm.bed.gz\n",
    "```\n",
    "\n",
    "`--covFile`: at least one tab delimited file containing covariates in the rows and samples in the columns.  \n",
    "`--customized-association-windows`: a tab delimited file containing chr, start, end, and gene_id. For example:\n",
    "```\n",
    "#chr    start   end     gene_id\n",
    "chr1    0       6480000 ENSG00000008128\n",
    "chr1    0       6480000 ENSG00000008130\n",
    "```\n",
    "`----phenotype-names`: the names of the phenotypes if multiple are included. There should be one for each phenotype file you include.   \n",
    "`--max-cv-variants`: maximum number of variants for cross-validation.  \n",
    "`--ld_reference_meta_file`: path to file containing chrom, start, end and path for linkage disequilibrium region information. For example:\n",
    "```\n",
    "#chrom  start   end     path\n",
    "chr1    101384274       104443097       $PATH/chr1_101384274_104443097.cor.xz.bim\n",
    "chr1    104443097       106225286       $PATH/chr1_104443097_106225286.cor.xz.bim\n",
    "```\n",
    "`--region-name`: if you only wish to analyze one region, then include the gene_id of a region found in the `customized-association-windows` file"
   ]
  },
  {
   "cell_type": "markdown",
   "id": "397a4dc3-1e4c-4845-ad8b-beed40f1f408",
   "metadata": {},
   "source": [
    "## Minimal Working Example Steps"
   ]
  },
  {
   "cell_type": "markdown",
   "id": "3bca0962-ae57-422c-a79f-892ef3b7f7ae",
   "metadata": {},
   "source": [
    "### i. Run the Fine-Mapping and TWAS with SuSiE"
   ]
  },
  {
   "cell_type": "code",
   "execution_count": null,
   "id": "dff2c979-52a1-4ec8-a0be-51b289327d37",
   "metadata": {},
   "outputs": [],
   "source": [
    "sos run $PATH/protocol/pipeline/mnm_regression.ipynb susie_twas \\\n",
    "    --name ROSMAP_mega_eQTL \\\n",
    "    --genoFile $PATH/genofile/ROSMAP_NIA_WGS.leftnorm.bcftools_qc.plink_qc.11.bed \\\n",
    "    --phenoFile $PATH/phenofile/Mic/analysis_ready/phenotype_preprocessing/snuc_pseudo_bulk.Mic.mega.normalized.log2cpm.region_list.txt \\\n",
    "                $PATH/phenofile/Ast/analysis_ready/phenotype_preprocessing/snuc_pseudo_bulk.Ast.mega.normalized.log2cpm.region_list.txt \\\n",
    "                $PATH/phenofile/Oli/analysis_ready/phenotype_preprocessing/snuc_pseudo_bulk.Oli.mega.normalized.log2cpm.region_list.txt \\\n",
    "                $PATH/phenofile/OPC/analysis_ready/phenotype_preprocessing/snuc_pseudo_bulk.OPC.mega.normalized.log2cpm.region_list.txt \\\n",
    "                $PATH/phenofile/Exc/analysis_ready/phenotype_preprocessing/snuc_pseudo_bulk.Exc.mega.normalized.log2cpm.region_list.txt \\\n",
    "                $PATH/phenofile/Inh/analysis_ready/phenotype_preprocessing/snuc_pseudo_bulk.Inh.mega.normalized.log2cpm.region_list.txt \\\n",
    "    --covFile $PATH/phenofile/Mic/analysis_ready/covariate_preprocessing/snuc_pseudo_bulk.Mic.mega.normalized.log2cpm.rosmap_cov.ROSMAP_NIA_WGS.leftnorm.bcftools_qc.plink_qc.snuc_pseudo_bulk_mega.related.plink_qc.extracted.pca.projected.Marchenko_PC.gz \\\n",
    "              $PATH/phenofile/Ast/analysis_ready/covariate_preprocessing/snuc_pseudo_bulk.Ast.mega.normalized.log2cpm.rosmap_cov.ROSMAP_NIA_WGS.leftnorm.bcftools_qc.plink_qc.snuc_pseudo_bulk_mega.related.plink_qc.extracted.pca.projected.Marchenko_PC.gz \\\n",
    "              $PATH/phenofile/Oli/analysis_ready/covariate_preprocessing/snuc_pseudo_bulk.Oli.mega.normalized.log2cpm.rosmap_cov.ROSMAP_NIA_WGS.leftnorm.bcftools_qc.plink_qc.snuc_pseudo_bulk_mega.related.plink_qc.extracted.pca.projected.Marchenko_PC.gz \\\n",
    "              $PATH/phenofile/OPC/analysis_ready/covariate_preprocessing/snuc_pseudo_bulk.OPC.mega.normalized.log2cpm.rosmap_cov.ROSMAP_NIA_WGS.leftnorm.bcftools_qc.plink_qc.snuc_pseudo_bulk_mega.related.plink_qc.extracted.pca.projected.Marchenko_PC.gz \\\n",
    "              $PATH/phenofile/Exc/analysis_ready/covariate_preprocessing/snuc_pseudo_bulk.Exc.mega.normalized.log2cpm.rosmap_cov.ROSMAP_NIA_WGS.leftnorm.bcftools_qc.plink_qc.snuc_pseudo_bulk_mega.related.plink_qc.extracted.pca.projected.Marchenko_PC.gz \\\n",
    "              $PATH/phenofile/Inh/analysis_ready/covariate_preprocessing/snuc_pseudo_bulk.Inh.mega.normalized.log2cpm.rosmap_cov.ROSMAP_NIA_WGS.leftnorm.bcftools_qc.plink_qc.snuc_pseudo_bulk_mega.related.plink_qc.extracted.pca.projected.Marchenko_PC.gz \\\n",
    "    --customized-association-windows $PATH/windows/TADB_enhanced_cis.coding.bed \\\n",
    "    --phenotype-names Mic_mega_eQTL Ast_mega_eQTL Oli_mega_eQTL OPC_mega_eQTL Exc_mega_eQTL Inh_mega_eQTL \\\n",
    "    --max-cv-variants 5000 --ld_reference_meta_file $PATH/ldref/ld_meta_file.tsv \\\n",
    "    --region-name ENSG00000073921 \\\n",
    "    --save-data \\\n",
    "    --cwd $PATH/output/ -s build"
   ]
  },
  {
   "cell_type": "markdown",
   "id": "cc7691e6-954c-4dc1-bac3-25d56026ab96",
   "metadata": {},
   "source": [
    "## Anticipated Results"
   ]
  },
  {
   "cell_type": "markdown",
   "id": "10a535c4-8121-4c89-9958-a8ce88a970b6",
   "metadata": {},
   "source": [
    "Univariate finemapping will produce a file containing results for the top hits and a file containing twas weights produced by susie. "
   ]
  },
  {
   "cell_type": "markdown",
   "id": "199a2637-cc0c-4aff-b4ea-a2546936f073",
   "metadata": {},
   "source": [
    "`ROSMAP_mega_eQTL.chr11_ENSG00000073921.univariate_bvrs.rds`:\n",
    "* For each gene of interest and phenotype, this file contains:\n",
    "    1. susie_fitted\n",
    "    2. variant_names\n",
    "    3. analysis_script\n",
    "    4. other quantities - information on dropped samples, if any\n",
    "    5. summary statistics (beta and se) for each variant\n",
    "    6. sample names\n",
    "    7. summary statistics for top loci\n",
    "    8. susie results trimmed - includes pip, sets, cs_corr, sets_secondary, alpha, lbf_variable, V, niter, X_column_scale_factors, mu, mu2\n",
    "    9. total time elapsed\n",
    "    10. region info\n",
    "    11. preset_variants_results\n",
    "\n",
    "`ROSMAP_mega_eQTL.chr11_ENSG00000073921.univariate_data.rds` (from the --save-data argument):\n",
    "* For each gene of interest, contains residuals for each sample and phenotype\n",
    "* see [pecotmr code](https://github.com/statfungen/pecotmr/blob/68d87ca1d0a059022bf4e55339621cbddc8993cc/R/file_utils.R#L461) for description at `load_regional_association_data` function\n",
    "\n",
    "`ROSMAP_mega_eQTL.chr11_ENSG00000073921.univariate_twas_weights.rds`:\n",
    "* For each gene of interest and phenotype, this file contains:\n",
    "    1. twas_weights - weights for enet, lasso, bayes r, mrash and susie methods\n",
    "    2. twas_predictions - twas predictions for enet, lasso, bayes r, mrash and susie methods\n",
    "    3. twas_cv_result\n",
    "    4. total_time_elapsed\n",
    "    5. variant_names\n",
    "    6. region_info\n"
   ]
  },
  {
   "cell_type": "code",
   "execution_count": null,
   "id": "894acfcd-54f2-416e-adf7-9432a321ec6c",
   "metadata": {},
   "outputs": [],
   "source": []
  }
 ],
 "metadata": {
  "kernelspec": {
   "display_name": "Python 3 (ipykernel)",
   "language": "python",
   "name": "python3"
  },
  "language_info": {
   "codemirror_mode": {
    "name": "ipython",
    "version": 3
   },
   "file_extension": ".py",
   "mimetype": "text/x-python",
   "name": "python",
   "nbconvert_exporter": "python",
   "pygments_lexer": "ipython3",
   "version": "3.12.6"
  }
 },
 "nbformat": 4,
 "nbformat_minor": 5
}
