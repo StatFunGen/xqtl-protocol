{
 "cells": [
  {
   "cell_type": "markdown",
   "metadata": {
    "kernel": "SoS"
   },
   "source": [
    "# Pathway Analysis"
   ]
  },
  {
   "cell_type": "markdown",
   "metadata": {
    "kernel": "SoS"
   },
   "source": [
    "## Description"
   ]
  },
  {
   "cell_type": "markdown",
   "metadata": {
    "kernel": "SoS"
   },
   "source": [
    "This workflow performs pathway enrichment analysis using the KEGG database and the clusterProfiler package in R.\n",
    "\n",
    "### 1. Purpose\n",
    "\n",
    "This workflow performs pathway enrichment analysis using the KEGG database and the `clusterProfiler` package in R. It identifies biologically significant KEGG pathways associated with groups of genes based on their enrichment in known pathways.\n",
    "\n",
    "Key objectives:\n",
    "\n",
    "- Analyze biological significance of gene groups in a pathway context.\n",
    "- Perform enrichment analysis for different groups (e.g., cell types, conditions).\n",
    "- Generate a summarized output for downstream interpretation.\n",
    "\n",
    "\n",
    "### 2. Input\n",
    "\n",
    "- **Gene List** (TSV format): A table containing grouped genes.\n",
    "    - Columns:\n",
    "        - `group`: The group/category to which a gene belongs (e.g., `Neuron`, `Microglia`).\n",
    "        - `gene_id`: ENSEMBL gene IDs for the corresponding genes.\n",
    "    - Example:\n",
    "        \n",
    "        ```csharp\n",
    "        group       gene_id\n",
    "        Neuron      ENSG00000139618\n",
    "        Neuron      ENSG00000091831\n",
    "        Microglia   ENSG00000196839\n",
    "        Microglia   ENSG00000081237\n",
    "        \n",
    "        ```\n",
    "        \n",
    "- **Parameters**:\n",
    "    - `pvalue_cutoff`: Cutoff for pathway enrichment significance (default: 1).\n",
    "    - `organism`: KEGG organism code (default: `hsa` for humans).\n",
    "\n",
    "\n",
    "### 3. Output\n",
    "\n",
    "- **Pathway Results File**:\n",
    "    - A compressed RDS file (`.rds`) containing enrichment results for all groups.\n",
    "    - Each group has its pathway results stored in a combined data frame.\n",
    "    - Columns in the results:\n",
    "        - `ID`: KEGG pathway ID.\n",
    "        - `Description`: KEGG pathway name.\n",
    "        - `GeneRatio`: Ratio of genes in the group that are in the pathway.\n",
    "        - `BgRatio`: Ratio of all genes in the database associated with the pathway.\n",
    "        - `pvalue`: Enrichment p-value.\n",
    "        - `qvalue`: Adjusted p-value.\n",
    "        - `group`: Name of the gene group.\n",
    "\n",
    "\n",
    "### 4. Workflow Steps\n",
    "\n",
    "1. **Load Input Data**:\n",
    "    - Read the input TSV file containing grouped ENSEMBL gene IDs.\n",
    "2. **Gene ID Conversion**:\n",
    "    - Convert ENSEMBL gene IDs to ENTREZ IDs using `org.Hs.eg.db`.\n",
    "    - Omit genes without valid mappings.\n",
    "3. **Pathway Enrichment Analysis**:\n",
    "    - Perform KEGG pathway enrichment analysis using the `enrichKEGG` function for each group.\n",
    "    - Apply the specified `pvalue_cutoff` to filter results.\n",
    "4. **Combine Results**:\n",
    "    - Merge the enrichment results for all groups into a single data frame.\n",
    "5. **Save Output**:\n",
    "    - Save the combined results as a compressed RDS file for downstream analysis.\n",
    "\n",
    "\n",
    "### 5. Methods\n",
    "\n",
    "- **Pathway Enrichment Analysis**:\n",
    "    - The workflow uses the `enrichKEGG` function from the `clusterProfiler` package.\n",
    "    - Genes are mapped to KEGG pathways, and statistical tests are performed to identify significantly enriched pathways.\n",
    "    - Adjusted p-values (`qvalue`) control for multiple testing.\n",
    "- **Gene Conversion**:\n",
    "    - ENSEMBL IDs are converted to ENTREZ IDs using `org.Hs.eg.db`.\n",
    "    - Only successfully mapped genes are used for enrichment.\n",
    "- **Output Integration**:\n",
    "    - Results are organized into a structured data frame with pathway enrichment statistics for each group."
   ]
  },
  {
   "cell_type": "markdown",
   "metadata": {
    "kernel": "SoS"
   },
   "source": [
    "## Minimal Working Example Steps"
   ]
  },
  {
   "cell_type": "code",
   "execution_count": null,
   "metadata": {
    "kernel": "SoS"
   },
   "outputs": [],
   "source": [
    "sos run /home/al4225/project/quantile_twas/analysis/pathway/pathway.ipynb pathway_analysis \\\n",
    "    --genes_file /home/al4225/project/quantile_twas/analysis/pathway/test_data/157_genes_input.tsv \\\n",
    "    --cwd /home/al4225/project/quantile_twas/analysis/pathway/output --name rosmap.157genes -s build"
   ]
  },
  {
   "cell_type": "markdown",
   "metadata": {
    "kernel": "SoS"
   },
   "source": [
    "## Command interface"
   ]
  },
  {
   "cell_type": "code",
   "execution_count": null,
   "metadata": {
    "kernel": "SoS"
   },
   "outputs": [
    {
     "name": "stdout",
     "output_type": "stream",
     "text": [
      "usage: sos run D:/research_code/software/pecotmr_vqtl/xqtl-protocol/code/enrichment/pathway.ipynb\n",
      "               [workflow_name | -t targets] [options] [workflow_options]\n",
      "  workflow_name:        Single or combined workflows defined in this script\n",
      "  targets:              One or more targets to generate\n",
      "  options:              Single-hyphen sos parameters (see \"sos run -h\" for details)\n",
      "  workflow_options:     Double-hyphen workflow-specific parameters\n",
      "\n",
      "Workflows:\n",
      "  pathway_analysis\n",
      "\n",
      "Global Workflow Options:\n",
      "  --cwd output (as path)\n",
      "                        Path to the work directory of the analysis.\n",
      "  --genes-file . (as path)\n",
      "  --name VAL (as str, required)\n",
      "  --numThreads 8 (as int)\n",
      "                        Number of threads\n",
      "  --job-size 1 (as int)\n",
      "                        For cluster jobs, number commands to run per job\n",
      "  --walltime 12h\n",
      "  --mem 16G\n",
      "  --container ''\n",
      "                        Container option for software to run the analysis:\n",
      "                        docker or singularity\n",
      "  --entrypoint  ('micromamba run -a \"\" -n' + ' ' + re.sub(r'(_apptainer:latest|_docker:latest|\\.sif)$', '', container.split('/')[-1])) if container else \"\"\n",
      "\n",
      "\n",
      "Sections\n",
      "  pathway_analysis:\n",
      "    Workflow Options:\n",
      "      --pvalue-cutoff 1 (as int)\n",
      "      --organism hsa\n"
     ]
    }
   ],
   "source": [
    "!sos run xqtl-protocol/code/enrichment/pathway.ipynb -h"
   ]
  },
  {
   "cell_type": "markdown",
   "metadata": {
    "kernel": "SoS"
   },
   "source": [
    "## Workflow implementation"
   ]
  },
  {
   "cell_type": "code",
   "execution_count": null,
   "metadata": {
    "kernel": "SoS"
   },
   "outputs": [],
   "source": [
    "[global]\n",
    "# Path to the work directory of the analysis.\n",
    "parameter: cwd = path('output')\n",
    "\n",
    "parameter: genes_file = path()  # TSV file with columns: group, gene_id\n",
    "parameter: name = str\n",
    "# Number of threads\n",
    "parameter: numThreads = 8\n",
    "# For cluster jobs, number commands to run per job\n",
    "parameter: job_size = 1\n",
    "parameter: walltime = '12h'\n",
    "parameter: mem = '16G'"
   ]
  },
  {
   "cell_type": "code",
   "execution_count": null,
   "metadata": {
    "kernel": "SoS"
   },
   "outputs": [],
   "source": [
    "[pathway_analysis]\n",
    "parameter: pvalue_cutoff = 1\n",
    "parameter: organism = 'hsa'\n",
    "output: pathway = f'{cwd:a}/{step_name}/{name}.pathway_results.rds'\n",
    "\n",
    "task: trunk_workers = 1, trunk_size = job_size, walltime = walltime, mem = mem, cores = numThreads, tags = f'{step_name}_{_output[0]:bnn}'\n",
    "R: expand = '${ }', stderr = f'{_output[0]}.stderr', stdout = f'{_output[0]}.stdout', container = container, entrypoint = entrypoint\n",
    "    library(org.Hs.eg.db)\n",
    "    library(AnnotationDbi)\n",
    "    library(clusterProfiler)\n",
    "    library(dplyr)\n",
    "    organism <- '${organism}'\n",
    "    print(organism)\n",
    "    pvalue_cutoff <- ${pvalue_cutoff}\n",
    "    print(pvalue_cutoff)\n",
    "    # Read input TSV file\n",
    "    gene_data <- read.table('${genes_file}', \n",
    "                           header = TRUE, \n",
    "                           sep = \"\\t\", \n",
    "                           stringsAsFactors = FALSE)\n",
    "    \n",
    "    # Function to convert and perform enrichment for one group\n",
    "    process_gene_list <- function(group_genes, group_name) {\n",
    "        # Convert ENSEMBL to ENTREZ\n",
    "        entrez_ids <- mapIds(org.Hs.eg.db, \n",
    "                           keys = group_genes, \n",
    "                           column = \"ENTREZID\", \n",
    "                           keytype = \"ENSEMBL\")\n",
    "        entrez_ids <- na.omit(unique(entrez_ids))\n",
    "        \n",
    "        # Perform enrichment\n",
    "        enriched <- enrichKEGG(\n",
    "            gene = entrez_ids,\n",
    "            organism = organism,\n",
    "            pvalueCutoff = pvalue_cutoff\n",
    "        )\n",
    "        \n",
    "        # Convert to dataframe and add group information\n",
    "        result_df <- as.data.frame(enriched)\n",
    "        if(nrow(result_df) > 0) {\n",
    "            result_df$group <- group_name\n",
    "        }\n",
    "        return(result_df)\n",
    "    }\n",
    "    \n",
    "    # Process each group\n",
    "    unique_groups <- unique(gene_data$group)\n",
    "    all_results <- lapply(unique_groups, function(group_name) {\n",
    "        group_genes <- gene_data$gene_id[gene_data$group == group_name]\n",
    "        process_gene_list(group_genes, group_name)\n",
    "    })\n",
    "    \n",
    "    # Combine results\n",
    "    combined_results <- do.call(rbind, all_results)\n",
    "    print('pathway combined_results')\n",
    "    print(head(combined_results))\n",
    "    # Save results\n",
    "    \n",
    "    saveRDS(combined_results, '${_output['pathway']}', compress='xz')\n",
    "    print(paste(\"Results saved to:\", '${_output['pathway']}'))"
   ]
  }
 ],
 "metadata": {
  "kernelspec": {
   "display_name": "SoS",
   "language": "sos",
   "name": "sos"
  },
  "language_info": {
   "codemirror_mode": "sos",
   "file_extension": ".sos",
   "mimetype": "text/x-sos",
   "name": "sos",
   "nbconvert_exporter": "sos_notebook.converter.SoS_Exporter",
   "pygments_lexer": "sos"
  },
  "sos": {
   "kernels": [
    [
     "Markdown",
     "markdown",
     "markdown",
     "",
     ""
    ],
    [
     "SoS",
     "sos",
     "",
     "",
     "sos"
    ]
   ],
   "version": "0.24.1"
  }
 },
 "nbformat": 4,
 "nbformat_minor": 4
}
