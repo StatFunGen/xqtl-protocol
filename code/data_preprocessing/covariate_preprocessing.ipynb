{
 "cells": [
  {
   "attachments": {},
   "cell_type": "markdown",
   "metadata": {},
   "source": [
    "# Covariate Preprocessing\n",
    "\n",
    "This notebook contains workflow of processing covariate files and computes PCA-derived covariates from phenotype data."
   ]
  },
  {
   "attachments": {},
   "cell_type": "markdown",
   "metadata": {},
   "source": [
    "#### Miniprotocol Timing\n",
    "This represents the total duration for all miniprotocol phases. While module-specific timings are provided separately on their respective pages, they are also included in this overall estimate.   \n",
    "\n",
    "Timing <X hours"
   ]
  },
  {
   "attachments": {},
   "cell_type": "markdown",
   "metadata": {},
   "source": [
    "## Overview\n",
    "\n",
    "This mini-protocol contains workflow of processing covariate files and computes PCA-derived covariates from phenotype data.\n",
    "1. `covariate_formatting.ipynb` (step i): Merges covariates and genotype PCA\n",
    "2. `covariate_hidden_factor.ipynb` (step ii): Compute residual on merged covariates and perform hidden factor analysis  "
   ]
  },
  {
   "attachments": {},
   "cell_type": "markdown",
   "metadata": {},
   "source": [
    "## Steps\n"
   ]
  },
  {
   "attachments": {},
   "cell_type": "markdown",
   "metadata": {},
   "source": [
    "### i. Merge Covariates"
   ]
  },
  {
   "cell_type": "code",
   "execution_count": null,
   "metadata": {
    "vscode": {
     "languageId": "plaintext"
    }
   },
   "outputs": [],
   "source": [
    "sos run pipeline/covariate_formatting.ipynb merge_genotype_pc \\\n",
    "    --cwd output/covariate \\\n",
    "    --pcaFile output/genotype_pca/protocol_example.genotype.chr21_22.pQTL.plink_qc.prune.pca.rds \\\n",
    "    --covFile  input/protocol_example.samples.tsv \\\n",
    "    --tol_cov 0.4  \\\n",
    "    --k 15 \\\n",
    "    --container singularity/bioinfo.sif"
   ]
  },
  {
   "attachments": {},
   "cell_type": "markdown",
   "metadata": {},
   "source": [
    "### ii. Compute Residual on Merged Conflicts and Perform Hidden Factor Analysis"
   ]
  },
  {
   "cell_type": "code",
   "execution_count": null,
   "metadata": {
    "vscode": {
     "languageId": "plaintext"
    }
   },
   "outputs": [],
   "source": [
    "sos run pipeline/covariate_hidden_factor.ipynb Marchenko_PC \\\n",
    "   --cwd output/covariate \\\n",
    "   --phenoFile output/phenotype/protocol_example.protein.bed.gz  \\\n",
    "   --covFile output/covariate/protocol_example.samples.protocol_example.genotype.chr21_22.pQTL.plink_qc.prune.pca.gz \\\n",
    "   --mean-impute-missing \\\n",
    "   --container singularity/PCAtools.sif"
   ]
  },
  {
   "attachments": {},
   "cell_type": "markdown",
   "metadata": {},
   "source": [
    "## Anticipated Results"
   ]
  }
 ],
 "metadata": {
  "language_info": {
   "name": "python"
  },
  "orig_nbformat": 4
 },
 "nbformat": 4,
 "nbformat_minor": 2
}
