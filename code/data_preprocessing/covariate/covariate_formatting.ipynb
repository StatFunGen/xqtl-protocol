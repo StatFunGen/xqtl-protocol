{
 "cells": [
  {
   "cell_type": "markdown",
   "id": "married-ladder",
   "metadata": {
    "kernel": "SoS",
    "tags": []
   },
   "source": [
    "# Merge Covariate\n",
    "This is the module where the output of factor analysis were merged into 1 covariate file that can be fed into both APEX and tensorQTL\n",
    "\n",
    "### Input\n",
    "1. factor+cov file as output from peer or BiCV factor module, It is assumed it to have columns as #id + samplesname and each rows is a covariateor factor (start with factor_)\n",
    "\n",
    "1. pca file as output from the PCA module\n",
    "\n",
    "### Output\n",
    "1. PCA + Factor + Covariate file\n"
   ]
  },
  {
   "cell_type": "code",
   "execution_count": 2,
   "id": "changing-backing",
   "metadata": {
    "kernel": "SoS"
   },
   "outputs": [],
   "source": [
    "[global]\n",
    "# The output directory for generated files. MUST BE FULL PATH\n",
    "parameter: cwd = path\n",
    "# The covariate file\n",
    "parameter: covFile = path\n",
    "# For cluster jobs, number commands to run per job\n",
    "parameter: job_size = 1\n",
    "# Wall clock time expected\n",
    "parameter: walltime = \"5h\"\n",
    "# Memory expected\n",
    "parameter: mem = \"2G\"\n",
    "# Number of threads\n",
    "parameter: numThreads = 8\n",
    "# Software container option\n",
    "parameter: container = \"\"\n",
    "parameter: name = \"\"\n",
    "# The number of the external covariates to be included, -1 means includs all of them, 0 means include none of them,\n",
    "# but keeping only the header (Basicaaly just formatting the PCs).\n",
    "parameter: nCov = -1\n",
    "# Tolerance of missingness in covariates, -1 means quit, otherwise for covariate with missing rate larger than tol_cov will be removed,\n",
    "# with missing rate smaller than tol_cov will be mean_imputed.\n",
    "parameter: tol_cov = -1"
   ]
  },
  {
   "cell_type": "code",
   "execution_count": null,
   "id": "capital-subject",
   "metadata": {
    "kernel": "SoS"
   },
   "outputs": [],
   "source": [
    "[merge_pca_covariate]\n",
    "# The PCA file. an RDS file as the output of the pca module\n",
    "parameter: pcaFile = path\n",
    "input: pcaFile, covFile\n",
    "output:  f'{cwd:a}/{_input[1]:bn}.pca.cov.gz'\n",
    "task: trunk_workers = 1, walltime = walltime, mem = mem, cores = numThreads, tags = f'{step_name}_{_output[0]:bn}'\n",
    "R: expand= \"$[ ]\", stderr = f'{_output:n}.stderr', stdout = f'{_output:n}.stdout'\n",
    "        library(\"dplyr\")\n",
    "        library(\"tibble\")\n",
    "        library(\"readr\")\n",
    "        compute_missing <- function(mtx){\n",
    "          miss <- sum(is.na(mtx))/length(mtx)\n",
    "          return(miss)\n",
    "        }\n",
    "\n",
    "        mean_impute <- function(mtx){\n",
    "          f <- apply(mtx, 2, function(x) mean(x,na.rm = TRUE))\n",
    "          for (i in 1:length(f)) mtx[,i][which(is.na(mtx[,i]))] <- f[i]\n",
    "          return(mtx)\n",
    "        }\n",
    "    \n",
    "        filter_mtx <- function(X, missing_rate_thresh) {\n",
    "            rm_col <- which(apply(X, 2, compute_missing) > missing_rate_thresh)\n",
    "            if (length(rm_col)) X <- X[, -rm_col]\n",
    "            return(mean_impute(X))\n",
    "        }  \n",
    "        pca_output = readRDS(\"$[_input[0]]\")$pc_scores\n",
    "        mtx = pca_output%>%select(contains(\"PC\"))%>%t()\n",
    "        colnames(mtx) <- pca_output$IID\n",
    "        mtx = mtx%>%as_tibble(rownames = \"#id\")\n",
    "        cov = read_delim(\"$[_input[1]]\",\"\\t\")\n",
    "        colnames(cov)[1] = \"#id\"\n",
    "        ## Retaining only the overlapped samples\n",
    "        int = intersect(colnames(cov),colnames(mtx))\n",
    "        cov = cov%>%select(int)\n",
    "        # keep only the desired amount of covariates\n",
    "        if($[nCov] > 0 ){cov = cov[1:$[nCov],]} else if ($[nCov] == 0){cov = cov[$[nCov],]}\n",
    "        mtx = mtx%>%select(int)\n",
    "        output = bind_rows(cov,mtx)\n",
    "        ## Handle missingess in ncov\n",
    "        if($[tol_cov] == -1){if(is.na(output) > 0 ){ stop(\"NA in covariates/PCs input: Check input file or raise parameter tol_cov to allow for imputation & filtering\")}\n",
    "        output = filter_mtx(output,$[tol_cov])\n",
    "        output%>%write_delim(\"$[_output]\",\"\\t\")"
   ]
  },
  {
   "cell_type": "code",
   "execution_count": null,
   "id": "e1ba663c-d423-4c14-ab5f-20538f097ad1",
   "metadata": {
    "kernel": "SoS"
   },
   "outputs": [],
   "source": [
    "[Residual_Y_1]\n",
    "# Path to the input molecular phenotype data.\n",
    "parameter: phenoFile = path\n",
    "# name for the analysis output\n",
    "parameter: name = f'{phenoFile:bnn}'\n",
    "input: phenoFile,covFile\n",
    "output: f'{cwd}/{name}.resid.bed'\n",
    "task: trunk_workers = 1, trunk_size = 1, walltime = '4h',  mem = '20G', tags = f'{step_name}_{_output[0]:bn}'\n",
    "R: expand = \"${ }\", stderr = f'{_output[0]}.stderr', stdout = f'{_output[0]}.stdout' , container = container\n",
    "\n",
    "    library(dplyr)\n",
    "    library(readr)\n",
    "\n",
    "    pheno = read_delim(${_input[0]:r},delim = \"\\t\")\n",
    "    factor= read_delim(${_input[1]:r},delim = \"\\t\")%>%na.omit()# Remove covariates that have na values for issue 199, subject to changes\n",
    "\n",
    "    # Extract samples in both files\n",
    "    extraction_sample_list <- intersect(colnames(pheno), colnames(factor)) \n",
    "    \n",
    "    \n",
    "    if(length(extraction_sample_list) == 0){\n",
    "      stop(\"No samples are overlapped in two files!\")\n",
    "    }\n",
    "    \n",
    "    # Report identical samples:\n",
    "    \n",
    "    print(\"Listed samples are included in the analysis:\")\n",
    "    print(extraction_sample_list)\n",
    "    \n",
    "    # Subset the data:\n",
    "    factor = factor[,extraction_sample_list]%>%as.matrix()%>%t()\n",
    "    pheno_id = pheno%>%select(1:4)\n",
    "    pheno = pheno%>%select(rownames(factor))%>%as.matrix()%>%t()\n",
    "    \n",
    "    # Get residual \n",
    "    pheno_resid = .lm.fit(x = cbind(1,factor), y = pheno)$residuals\n",
    "    pheno_output = cbind(pheno_id, pheno_resid%>%t())\n",
    "    pheno_output%>%write_delim(${_output[0]:r},delim = \"\\t\")\n",
    "\n",
    "# tabix via samtools\n",
    "[Residual_Y_2]\n",
    "output: f'{_input}.gz'\n",
    "task: trunk_workers = 1, trunk_size = 1, walltime = '4h',  mem = '20G', tags = f'{step_name}_{_output[0]:bn}'\n",
    "bash: expand = \"${ }\", stderr = f'{_output}.stderr', stdout = f'{_output}.stdout', container = container\n",
    "    bgzip -f ${_input}\n",
    "    tabix -p bed ${_output}"
   ]
  },
  {
   "cell_type": "code",
   "execution_count": 3,
   "id": "ba260d3e-394f-458d-97fb-af2de10b89f8",
   "metadata": {
    "kernel": "SoS"
   },
   "outputs": [],
   "source": [
    "[merge_PEER_covariate]\n",
    "parameter: peerFile = path\n",
    "input: peerFile, covFile\n",
    "output:  f'{cwd:a}/{_input[1]:bn}.PEER.cov.gz'\n",
    "task: trunk_workers = 1, walltime = walltime, mem = mem, cores = numThreads, tags = f'{step_name}_{_output[0]:bn}'\n",
    "R: expand= \"$[ ]\", stderr = f'{_output:n}.stderr', stdout = f'{_output:n}.stdout'\n",
    "        library(\"dplyr\")\n",
    "        library(\"readr\")\n",
    "        peer_res = read_delim(\"$[_input[0]]\", delim = \"\\t\")\n",
    "        cov_pca = read_delim(\"$[_input[1]]\", delim = \"\\t\")\n",
    "        com_col = intersect(colnames(peer_res), colnames(cov_pca))\n",
    "        write_delim((rbind(cov_pca[,com_col], peer_res[,com_col])), \"$[_output]\", \"\\t\")"
   ]
  },
  {
   "cell_type": "code",
   "execution_count": null,
   "id": "1339c133-e846-4734-ac2f-15af26210b2d",
   "metadata": {
    "kernel": "SoS"
   },
   "outputs": [],
   "source": []
  }
 ],
 "metadata": {
  "kernelspec": {
   "display_name": "SoS",
   "language": "sos",
   "name": "sos"
  },
  "language_info": {
   "codemirror_mode": "sos",
   "file_extension": ".sos",
   "mimetype": "text/x-sos",
   "name": "sos",
   "nbconvert_exporter": "sos_notebook.converter.SoS_Exporter",
   "pygments_lexer": "sos"
  },
  "sos": {
   "kernels": [
    [
     "SoS",
     "sos",
     "",
     ""
    ]
   ],
   "version": "0.22.7"
  }
 },
 "nbformat": 4,
 "nbformat_minor": 5
}
