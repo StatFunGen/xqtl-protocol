{
 "cells": [
  {
   "cell_type": "markdown",
   "id": "correct-acquisition",
   "metadata": {
    "kernel": "SoS",
    "tags": []
   },
   "source": [
    "# Factor analysis using Bi-Cross validation\n",
    "\n",
    "Implemented in APEX"
   ]
  },
  {
   "cell_type": "markdown",
   "id": "floating-healing",
   "metadata": {
    "kernel": "SoS"
   },
   "source": [
    "## Main code for the pipeline: APEX\n",
    "Input: \n",
    "1. a bed file for molecular phenotype\n",
    "if covariate file is required:\n",
    "1. A cov file with colnames as samples and covariates/pca/factor named as #id columns on the side.\n",
    "2. A vcf file documenting the genotype of the samples for any genetics regions.\n",
    "\n",
    "Output:\n",
    "\n",
    "1. A covariate file with colnames as samples and covariates/pca/factor named as #id columns on the side."
   ]
  },
  {
   "cell_type": "code",
   "execution_count": null,
   "id": "christian-hours",
   "metadata": {
    "kernel": "SoS"
   },
   "outputs": [],
   "source": [
    "[global]\n",
    "# The output directory for generated files. MUST BE FULL PATH\n",
    "parameter: wd = path\n",
    "cwd = wd\n",
    "# For cluster jobs, number commands to run per job\n",
    "parameter: job_size = 1\n",
    "# Wall clock time expected\n",
    "parameter: walltime = \"5h\"\n",
    "# Memory expected\n",
    "parameter: mem = \"16G\"\n",
    "# Number of threads\n",
    "parameter: numThreads = 8\n",
    "# Software container option\n",
    "parameter: container = str\n",
    "parameter: name = str\n",
    "\n",
    "# N PEER factors, If do not specify or specified as 0, default values suggested by \n",
    "# UCSC (based on different sample size) Will be used\n",
    "parameter: N = 4\n",
    "n_of_factor = N\n",
    "\n",
    "# Default values from PEER:\n",
    "## The number of max iteration\n",
    "\n",
    "parameter: iteration = 30\n",
    "\n",
    "# The molecular phenotype matrix, in bed, after annotation\n",
    "parameter: molecular_pheno = path\n",
    "# The covariate file\n",
    "parameter: covariate = \"None\"\n",
    "\n",
    "# vcf Genotypy list, so that apex factor can run with covariate file input, requirment: vcf shall have the same sample as the cov and molecular phenotype\n",
    "parameter: genotype_list = path\n",
    "import pandas as pd\n",
    "import os\n",
    "vcf_file = pd.read_csv(genotype_list,sep = \"\\t\")[\"dir\"][0]"
   ]
  },
  {
   "cell_type": "code",
   "execution_count": 3,
   "id": "healthy-smart",
   "metadata": {
    "kernel": "SoS"
   },
   "outputs": [],
   "source": [
    "[BiCV]\n",
    "input:  molecular_pheno\n",
    "output: f'{wd:a}/{name}.BiCV.cov.gz',\n",
    "        f'{wd:a}/{name}.BiCV.cov'\n",
    "task: trunk_workers = 1, trunk_size = 1, walltime = '4h',  mem = '20G', tags = f'{step_name}_{_output[0]:bn}'\n",
    "bash: expand = \"$[ ]\", stderr = f'{_output[0]}.stderr', stdout = f'{_output[0]}.stdout',container = container,volumes = [f'{wd:ad}:{wd:ad}']\n",
    "    apex factor \\\n",
    "    --out $[_output[0]:nn] \\\n",
    "    --iter $[iteration] \\\n",
    "    --factors $[n_of_factor] \\\n",
    "    --bed $[_input] \\\n",
    "    --vcf $[vcf_file] $[f'--cov {covariate}' if os.path.exists(covariate) else f'']\n",
    "\n",
    "    gunzip -f -k $[_output[0]]"
   ]
  }
 ],
 "metadata": {
  "kernelspec": {
   "display_name": "SoS",
   "language": "sos",
   "name": "sos"
  },
  "language_info": {
   "codemirror_mode": "sos",
   "file_extension": ".sos",
   "mimetype": "text/x-sos",
   "name": "sos",
   "nbconvert_exporter": "sos_notebook.converter.SoS_Exporter",
   "pygments_lexer": "sos"
  },
  "sos": {
   "kernels": [
    [
     "Bash",
     "bash",
     "Bash",
     "#E6EEFF",
     "shell"
    ],
    [
     "R",
     "ir",
     "R",
     "#DCDCDA",
     "r"
    ],
    [
     "SoS",
     "sos",
     "",
     "",
     "sos"
    ]
   ],
   "version": "0.22.4"
  }
 },
 "nbformat": 4,
 "nbformat_minor": 5
}
