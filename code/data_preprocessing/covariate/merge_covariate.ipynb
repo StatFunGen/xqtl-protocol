{
 "cells": [
  {
   "cell_type": "markdown",
   "id": "married-ladder",
   "metadata": {
    "kernel": "SoS",
    "tags": []
   },
   "source": [
    "# Merge Covariate\n",
    "This is the module where the output of factor analysis were merged into 1 covariate file that can be fed into both APEX and tensorQTL\n",
    "\n",
    "### Input\n",
    "1. factor+cov file as output from peer or BiCV factor module, It is assumed it to have columns as #id + samplesname and each rows is a covariateor factor (start with factor_)\n",
    "\n",
    "1. pca file as output from the PCA module\n",
    "\n",
    "### Output\n",
    "1. PCA + Factor + Covariate file\n"
   ]
  },
  {
   "cell_type": "code",
   "execution_count": 2,
   "id": "changing-backing",
   "metadata": {
    "kernel": "SoS"
   },
   "outputs": [],
   "source": [
    "[global]\n",
    "import os\n",
    "# Work directory & output directory\n",
    "parameter: wd = path(\"./\")\n",
    "# The filename name for output data\n",
    "parameter: container = 'gaow/twas'\n",
    "# name for the analysis output\n",
    "parameter: name = 'ROSMAP'\n",
    "# For cluster jobs, number commands to run per job\n",
    "parameter: job_size = 1\n",
    "# Wall clock time expected\n",
    "parameter: walltime = \"5h\"\n",
    "# Memory expected\n",
    "parameter: mem = \"16G\"\n",
    "# Number of threads\n",
    "parameter: numThreads = 20\n",
    "# Input 1\n",
    "parameter: factor_and_covariate = path\n",
    "# Input 2\n",
    "parameter: PC = path"
   ]
  },
  {
   "cell_type": "code",
   "execution_count": null,
   "id": "capital-subject",
   "metadata": {
    "kernel": "SoS"
   },
   "outputs": [],
   "source": [
    "[pca_factor_merge]\n",
    "## PCA models\n",
    "input: PC, factor_and_covariate\n",
    "output:  f'{wd:a}/{_input[1]:bn}.pca.cov'\n",
    "R: expand= \"$[ ]\", stderr = f'{_output:n}.stderr', stdout = f'{_output:n}.stdout'\n",
    "        library(\"dplyr\")\n",
    "        library(\"tibble\")\n",
    "        library(\"readr\")\n",
    "        library(\"modelr\")\n",
    "        library(\"purrr\")\n",
    "        pca_output = readRDS(\"$[_input[0]]\")$pc_scores\n",
    "        mtx = pca_output%>%select(contains(\"PC\"))%>%t()\n",
    "        colnames(mtx) <- pca_output$IID\n",
    "        mtx = mtx%>%as_tibble()%>%mutate(\"#id\" = rownames(mtx))%>%select(\"#id\",everything())\n",
    "        factor_cov = read_delim(\"$[_input[1]]\",\"\\t\")\n",
    "        output = bind_rows(factor_cov,mtx)\n",
    "        output%>%write_delim(\"$[_output]\",\"\\t\")"
   ]
  }
 ],
 "metadata": {
  "kernelspec": {
   "display_name": "SoS",
   "language": "sos",
   "name": "sos"
  },
  "language_info": {
   "codemirror_mode": "sos",
   "file_extension": ".sos",
   "mimetype": "text/x-sos",
   "name": "sos",
   "nbconvert_exporter": "sos_notebook.converter.SoS_Exporter",
   "pygments_lexer": "sos"
  },
  "sos": {
   "kernels": [
    [
     "SoS",
     "sos",
     "",
     ""
    ]
   ],
   "version": "0.22.4"
  }
 },
 "nbformat": 4,
 "nbformat_minor": 5
}
