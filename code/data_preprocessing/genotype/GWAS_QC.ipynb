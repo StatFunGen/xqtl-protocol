{
 "cells": [
  {
   "attachments": {},
   "cell_type": "markdown",
   "metadata": {},
   "source": [
    "# Genotype PLINK file quality control\n",
    "\n",
    "This step is necessary for TensorQTL applications."
   ]
  },
  {
   "attachments": {},
   "cell_type": "markdown",
   "metadata": {},
   "source": [
    "## Input\n",
    "\n",
    "1. `protocol_example.genotype.chr21_22.bed`"
   ]
  },
  {
   "attachments": {},
   "cell_type": "markdown",
   "metadata": {},
   "source": [
    "## Output\n",
    "\n",
    "1. `protocol_example.genotype.chr21_22.21.bed`\n",
    "2. `protocol_example.genotype.chr21_22.22.bed`\n",
    "3. `protocol_example.genotype.chr21_22.genotype_by_chrom_files.txt`"
   ]
  },
  {
   "attachments": {},
   "cell_type": "markdown",
   "metadata": {},
   "source": [
    "## Minimal Working Example\n",
    "\n",
    "The proteomics data used through this MWE can be found on [synapse](https://www.synapse.org/#!Synapse:syn52369482)."
   ]
  },
  {
   "attachments": {},
   "cell_type": "markdown",
   "metadata": {},
   "source": [
    "### Step 1: Genotype data partition by chromosome\n",
    "Timing: < 1 minute"
   ]
  },
  {
   "cell_type": "code",
   "execution_count": null,
   "metadata": {
    "vscode": {
     "languageId": "plaintext"
    }
   },
   "outputs": [],
   "source": [
    "sos run pipeline/genotype_formatting.ipynb genotype_by_chrom \\\n",
    "    --genoFile input/protocol_example.genotype.chr21_22.bed \\\n",
    "    --cwd output \\\n",
    "    --chrom `cut -f 1 input/protocol_example.genotype.chr21_22.bim | uniq | sed \"s/chr//g\"` \\\n",
    "    --container singularity/bioinfo.sif "
   ]
  },
  {
   "attachments": {},
   "cell_type": "markdown",
   "metadata": {},
   "source": [
    "```\n",
    "INFO: Running genotype_by_chrom_1:\n",
    "INFO: genotype_by_chrom_1 (index=0) is completed.\n",
    "INFO: genotype_by_chrom_1 (index=1) is completed.\n",
    "INFO: genotype_by_chrom_1 output:   /Users/alexmccreight/xqtl-pipeline-new/output/protocol_example.genotype.chr21_22.21.bed /Users/alexmccreight/xqtl-pipeline-new/output/protocol_example.genotype.chr21_22.22.bed in 2 groups\n",
    "INFO: Running genotype_by_chrom_2:\n",
    "INFO: genotype_by_chrom_2 is completed (pending nested workflow).\n",
    "INFO: Running write_data_list:\n",
    "INFO: write_data_list is completed.\n",
    "INFO: write_data_list output:   /Users/alexmccreight/xqtl-pipeline-new/output/protocol_example.genotype.chr21_22.genotype_by_chrom_files.txt\n",
    "INFO: genotype_by_chrom_2 output:   /Users/alexmccreight/xqtl-pipeline-new/output/protocol_example.genotype.chr21_22.genotype_by_chrom_files.txt\n",
    "INFO: Workflow genotype_by_chrom (ID=wee2aaca94d6f6708) is executed successfully with 3 completed steps and 4 completed substeps.\n",
    "```"
   ]
  },
  {
   "attachments": {},
   "cell_type": "markdown",
   "metadata": {},
   "source": [
    "## Command interface"
   ]
  },
  {
   "cell_type": "code",
   "execution_count": null,
   "metadata": {
    "vscode": {
     "languageId": "plaintext"
    }
   },
   "outputs": [],
   "source": [
    "sos run genotype_formatting.ipynb -h"
   ]
  },
  {
   "cell_type": "code",
   "execution_count": null,
   "metadata": {
    "vscode": {
     "languageId": "plaintext"
    }
   },
   "outputs": [],
   "source": [
    "usage: sos run genotype_formatting.ipynb\n",
    "               [workflow_name | -t targets] [options] [workflow_options]\n",
    "  workflow_name:        Single or combined workflows defined in this script\n",
    "  targets:              One or more targets to generate\n",
    "  options:              Single-hyphen sos parameters (see \"sos run -h\" for details)\n",
    "  workflow_options:     Double-hyphen workflow-specific parameters\n",
    "\n",
    "Workflows:\n",
    "  plink_to_vcf\n",
    "  vcf_to_plink\n",
    "  genotype_by_region\n",
    "  ld_by_region_plink\n",
    "  genotype_by_chrom\n",
    "  write_data_list\n",
    "  merge_plink\n",
    "  merge_vcf\n",
    "\n",
    "Global Workflow Options:\n",
    "  --cwd output (as path)\n",
    "                        Work directory & output directory\n",
    "  --container ''\n",
    "                        The filename name for containers\n",
    "  --entrypoint ('micromamba run -a \"\" -n' + ' ' + container.split('/')[-1][:-4]) if container.endswith('.sif') else \"\"\n",
    "\n",
    "  --job-size 1 (as int)\n",
    "                        For cluster jobs, number commands to run per job\n",
    "  --walltime 5h\n",
    "                        Wall clock time expected\n",
    "  --mem 3G\n",
    "                        Memory expected\n",
    "  --numThreads 20 (as int)\n",
    "                        Number of threads\n",
    "  --genoFile  paths\n",
    "\n",
    "                        the path to a bed file or VCF file, a vector of bed\n",
    "                        files or VCF files, or a text file listing the bed files\n",
    "                        or VCF files to process\n",
    "  --[no-]keep-allele-order (default to False)\n",
    "                        Do not keep allele order by default -- let PLINK decide\n",
    "                        about major and minor alleles\n",
    "\n",
    "Sections\n",
    "  plink_to_vcf_1:\n",
    "  vcf_to_plink:\n",
    "    Workflow Options:\n",
    "      --[no-]remove-duplicates (default to False)\n",
    "      --remove-samples . (as path)\n",
    "                        The path to the file that contains the list of samples\n",
    "                        to remove (format FID, IID)\n",
    "      --keep-samples . (as path)\n",
    "                        The path to the file that contains the list of samples\n",
    "                        to keep (format FID, IID)\n",
    "  genotype_by_region_1:\n",
    "    Workflow Options:\n",
    "      --window 0 (as int)\n",
    "                        cis window size\n",
    "      --region-list VAL (as path, required)\n",
    "                        Region definition\n",
    "  ld_by_region_plink_1:\n",
    "    Workflow Options:\n",
    "      --region-list VAL (as path, required)\n",
    "                        Region definition\n",
    "      --float-type 16 (as int)\n",
    "  genotype_by_chrom_1:\n",
    "    Workflow Options:\n",
    "      --chrom VAL VAL ... (as type, required)\n",
    "  genotype_by_chrom_2:\n",
    "  plink_to_vcf_2:\n",
    "  genotype_by_region_2:\n",
    "  ld_by_region_*_2:\n",
    "    Workflow Options:\n",
    "      --region-list VAL (as path, required)\n",
    "  write_data_list:\n",
    "    Workflow Options:\n",
    "      --out VAL (as path, required)\n",
    "      --ext VAL (as str, required)\n",
    "      --data-files  paths\n",
    "\n",
    "  merge_plink:\n",
    "    Workflow Options:\n",
    "      --name VAL (as str, required)\n",
    "                        File prefix for the analysis output\n",
    "      --keep-samples . (as path)\n",
    "                        The path to the file that contains the list of samples\n",
    "                        to keep (format FID, IID)\n",
    "  merge_vcf:\n",
    "    Workflow Options:\n",
    "      --name VAL (as str, required)\n",
    "                        File prefix for the analysis output"
   ]
  },
  {
   "attachments": {},
   "cell_type": "markdown",
   "metadata": {},
   "source": [
    "### Step 1: Genotype data partition by chromosome"
   ]
  },
  {
   "cell_type": "code",
   "execution_count": null,
   "metadata": {
    "vscode": {
     "languageId": "plaintext"
    }
   },
   "outputs": [],
   "source": [
    "[genotype_by_chrom_1]\n",
    "stop_if(len(paths(genoFile))>1, msg = \"This workflow expects one input genotype file.\")\n",
    "parameter: chrom = list\n",
    "chrom = list(set(chrom))\n",
    "input: genoFile, for_each = \"chrom\"\n",
    "output: f'{cwd}/{_input:bn}.{_chrom}.bed'\n",
    "# look up for genotype file\n",
    "task: trunk_workers = 1, trunk_size = job_size, walltime = walltime, mem = mem, cores = numThreads, tags = f'{step_name}_{_output:bn}'\n",
    "bash: expand= \"$[ ]\", stderr = f'{_output:n}.stderr', stdout = f'{_output:n}.stdout', container = container, volumes = [f'{genoFile:ad}:{genoFile:ad}'], entrypoint=entrypoint\n",
    "    ##### Get the locus genotypes for $[_chrom]\n",
    "    plink --bfile $[_input:an] \\\n",
    "    --make-bed \\\n",
    "    --out $[_output[0]:n] \\\n",
    "    --chr $[_chrom] \\\n",
    "    --threads $[numThreads] \\\n",
    "    --memory $[int(expand_size(mem) * 0.9)/1e06] \\\n",
    "    --allow-no-sex  $[\"--keep-allele-order\" if keep_allele_order else \"\"]"
   ]
  },
  {
   "cell_type": "code",
   "execution_count": null,
   "metadata": {
    "vscode": {
     "languageId": "plaintext"
    }
   },
   "outputs": [],
   "source": [
    "[genotype_by_chrom_2]\n",
    "input: group_by = \"all\"\n",
    "output: f'{_input[0]:nn}.{step_name[:-2]}_files.txt'\n",
    "sos_run(\"write_data_list\", data_files = _input, out = _output, ext = \"bed\")"
   ]
  }
 ],
 "metadata": {
  "language_info": {
   "name": "python"
  },
  "orig_nbformat": 4
 },
 "nbformat": 4,
 "nbformat_minor": 2
}
