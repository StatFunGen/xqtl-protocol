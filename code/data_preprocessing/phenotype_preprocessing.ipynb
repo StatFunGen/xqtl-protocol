{
 "cells": [
  {
   "attachments": {},
   "cell_type": "markdown",
   "metadata": {},
   "source": [
    "# Phenotype Preprocessing"
   ]
  },
  {
   "attachments": {},
   "cell_type": "markdown",
   "metadata": {},
   "source": [
    "#### Miniprotocol Timing\n",
    "This represents the total duration for all miniprotocol phases. While module-specific timings are provided separately on their respective pages, they are also included in this overall estimate.  \n",
    "\n",
    "Timing <5 minutes"
   ]
  },
  {
   "attachments": {},
   "cell_type": "markdown",
   "metadata": {},
   "source": [
    "## Overview\n",
    "\n",
    "This mini-protocol documents the shared post processing step and some utilities to handle molecular phenotype files including imputations. The modules are as follows:\n",
    "1. `gene_annotation.ipynb` (step i): Adds genomic coordinate annotation to gene-level molecular phenotype files.\n",
    "2. `phenotype_formatting.ipynb` (step ii): Separates phenotypes by chromosome"
   ]
  },
  {
   "attachments": {},
   "cell_type": "markdown",
   "metadata": {},
   "source": [
    "## Steps\n"
   ]
  },
  {
   "attachments": {},
   "cell_type": "markdown",
   "metadata": {},
   "source": [
    "### i. Phenotype Annotation"
   ]
  },
  {
   "cell_type": "code",
   "execution_count": null,
   "metadata": {
    "vscode": {
     "languageId": "plaintext"
    }
   },
   "outputs": [],
   "source": [
    "sos run pipeline/gene_annotation.ipynb annotate_coord_protein \\\n",
    "    --cwd output/phenotype \\\n",
    "    --phenoFile input/protocol_example.protein.csv \\\n",
    "    --annotation-gtf reference_data/Homo_sapiens.GRCh38.103.chr.reformatted.collapse_only.gene.ERCC.gtf \\\n",
    "    --phenotype-id-type gene_name \\\n",
    "    --sample-participant-lookup output/sample_meta/protocol_example.protein.sample_overlap.txt \\\n",
    "    --container singularity/rna_quantification.sif"
   ]
  },
  {
   "attachments": {},
   "cell_type": "markdown",
   "metadata": {},
   "source": [
    "### ii. Partition by Chromosome"
   ]
  },
  {
   "cell_type": "code",
   "execution_count": null,
   "metadata": {
    "vscode": {
     "languageId": "plaintext"
    }
   },
   "outputs": [],
   "source": [
    "sos run pipeline/phenotype_formatting.ipynb phenotype_by_chrom \\\n",
    "    --cwd output/phenotype_by_chrom \\\n",
    "    --phenoFile output/phenotype/protocol_example.protein.bed.gz \\\n",
    "    --chrom `for i in {21..22}; do echo chr$i; done` \\\n",
    "    --container singularity/bioinfo.sif"
   ]
  },
  {
   "attachments": {},
   "cell_type": "markdown",
   "metadata": {},
   "source": [
    "## Anticipated Results"
   ]
  }
 ],
 "metadata": {
  "language_info": {
   "name": "python"
  },
  "orig_nbformat": 4
 },
 "nbformat": 4,
 "nbformat_minor": 2
}
