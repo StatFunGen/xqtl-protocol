{
 "cells": [
  {
   "cell_type": "markdown",
   "id": "controlling-necklace",
   "metadata": {
    "kernel": "SoS",
    "tags": []
   },
   "source": [
    "# Molecular phenotype residuals\n",
    "This is the region extraction step for data processing pipeline for xqtl workflow, containing the generation of:\n",
    "1. regressed out molecular phenotype file\n",
    "\n",
    "### Input\n",
    "The input for this workflow is the collection of data for 1 conditions as described in the readme of this git repo\n",
    "1. 1 complete molecular phenotype data ib bed format\n",
    "2. 1 file containing the factors to be regressed out, with a #id column documenting the name of factors and other column names = sample names\n",
    "\n",
    "### Output\n",
    "\n",
    "1 residual expression file with everything in the factors+covariate file regressed out"
   ]
  },
  {
   "cell_type": "code",
   "execution_count": 2,
   "id": "superior-outline",
   "metadata": {
    "kernel": "SoS"
   },
   "outputs": [],
   "source": [
    "[global]\n",
    "import os\n",
    "# Work directory & output directory\n",
    "parameter: wd = \"./\"\n",
    "# The filename name for output data\n",
    "parameter: container = '/mnt/mfs/statgen/containers/apex.sif'\n",
    "# name for the analysis output\n",
    "parameter: name = 'ROSMAP'\n",
    "# For cluster jobs, number commands to run per job\n",
    "parameter: job_size = 1\n",
    "# Wall clock time expected\n",
    "parameter: walltime = \"5h\"\n",
    "# Memory expected\n",
    "parameter: mem = \"16G\"\n",
    "# Number of threads\n",
    "parameter: numThreads = 20\n",
    "parameter: pop_file = \"None\""
   ]
  },
  {
   "cell_type": "code",
   "execution_count": null,
   "id": "behavioral-pattern",
   "metadata": {
    "kernel": "SoS"
   },
   "outputs": [],
   "source": [
    "[Residual_Expression]\n",
    "# Path to the input molecular phenotype data.\n",
    "parameter: molecular_pheno_whole = path\n",
    "# Path to the factor file \n",
    "parameter: factor_covariate = path\n",
    "input: molecular_pheno_whole,factor_covariate\n",
    "output: f'{wd}/{name}.mol_phe.resid.bed.gz'\n",
    "task: trunk_workers = 1, trunk_size = 1, walltime = '4h',  mem = '20G', tags = f'{step_name}_{_output[0]:bn}'\n",
    "R: expand = \"$[ ]\", stderr = f'{_output[0]}.stderr', stdout = f'{_output[0]}.stdout',container = container\n",
    "    library(\"dplyr\")\n",
    "    library(\"tibble\")\n",
    "    library(\"readr\")\n",
    "    library(\"purrr\")\n",
    "    factor = read_delim(\"$[_input[1]]\",delim = \"\\t\")\n",
    "    pheno = read_delim(\"$[_input[0]]\",delim = \"\\t\")\n",
    "    int = intersect(colnames(factor),pheno%>%colnames)\n",
    "    factor = factor%>%filter()%>%select(int)%>%as.matrix()%>%t()\n",
    "    pheno_id = pheno[,1:4]\n",
    "    pheno = pheno%>%select(int)%>%as.matrix()%>%t()\n",
    "    # Pheno is a matrixs samles as rows, and gene as column \n",
    "    pheno_resid = .lm.fit(x = factor, y = pheno)$residuals\n",
    "    pheno_output = cbind(pheno_id, pheno_resid%>%t())\n",
    "    pheno_output%>%write_delim(\"$[_output[0]:n]\",delim = \"\\t\")\n",
    "  \n",
    "bash: expand = \"$[ ]\", stderr = f'{_output[0]}.stderr', stdout = f'{_output[0]}.stdout',container = container\n",
    "    bgzip -f $[_output[0]:n]\n",
    "    tabix -p bed $[_output[0]] -f"
   ]
  }
 ],
 "metadata": {
  "kernelspec": {
   "display_name": "SoS",
   "language": "sos",
   "name": "sos"
  },
  "language_info": {
   "codemirror_mode": "sos",
   "file_extension": ".sos",
   "mimetype": "text/x-sos",
   "name": "sos",
   "nbconvert_exporter": "sos_notebook.converter.SoS_Exporter",
   "pygments_lexer": "sos"
  },
  "sos": {
   "kernels": [
    [
     "SoS",
     "sos",
     "",
     ""
    ]
   ],
   "version": "0.22.4"
  }
 },
 "nbformat": 4,
 "nbformat_minor": 5
}
