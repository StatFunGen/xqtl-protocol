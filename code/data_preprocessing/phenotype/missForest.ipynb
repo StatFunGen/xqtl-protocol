{
 "cells": [
  {
   "cell_type": "markdown",
   "id": "therapeutic-assist",
   "metadata": {
    "kernel": "SoS",
    "tags": []
   },
   "source": [
    "# Phenotype data formatting"
   ]
  },
  {
   "cell_type": "code",
   "execution_count": null,
   "id": "df9a8139-4f80-4497-b6fa-fe5b9253bd02",
   "metadata": {
    "kernel": "SoS"
   },
   "outputs": [],
   "source": [
    " nohup sos run /mnt/mfs/hgrcgrid/homes/zq2209/missForest.ipynb miss_forest \\\n",
    "    --phenoFile /mnt/mfs/hgrcgrid/homes/zq2209/proteomics/rosmap/test1.bed.gz \\\n",
    "    --cwd /mnt/mfs/hgrcgrid/homes/zq2209/proteomics/rosmap/ \\\n",
    "    --mem 40G \\\n",
    "    --walltime 100h"
   ]
  },
  {
   "cell_type": "code",
   "execution_count": 2,
   "id": "equal-silence",
   "metadata": {
    "kernel": "SoS"
   },
   "outputs": [],
   "source": [
    "[global]\n",
    "import os\n",
    "# Work directory & output directory\n",
    "parameter: cwd = path(\"output\")\n",
    "# The filename namefor output data\n",
    "parameter: container = ''\n",
    "\n",
    "# For cluster jobs, number commands to run per job\n",
    "parameter: job_size = 1\n",
    "# Wall clock time expected\n",
    "parameter: walltime = \"72h\"\n",
    "# Memory expected\n",
    "parameter: mem = \"16G\"\n",
    "# Number of threads\n",
    "parameter: numThreads = 20\n",
    "# Path to the input molecular phenotype data.\n",
    "parameter: phenoFile = paths\n",
    "# name for the analysis output\n",
    "parameter: name= f'{phenoFile:bn}'\n",
    "# Whether the input data is named by gene_id or gene_name. By default it is gene_id, if not, please change it to gene_name\n",
    "parameter: phenotype_id_type = 'gene_id'\n",
    "gene_name_as_phenotype_id = \"gene_name\" == phenotype_id_type"
   ]
  },
  {
   "cell_type": "code",
   "execution_count": 1,
   "id": "b7494e52-0954-48a5-86ee-9a518efa3c7f",
   "metadata": {
    "kernel": "SoS"
   },
   "outputs": [],
   "source": [
    "[miss_forest]\n",
    "input: phenoFile\n",
    "output: f'{_input:nn}.filter_na.bed.gz'\n",
    "task: trunk_workers = 1, trunk_size = job_size, walltime = walltime, mem = mem, cores = numThreads\n",
    "R: expand= \"${ }\", stderr = f'{_output:n}.stderr', stdout = f'{_output:n}.stdout', container=container\n",
    "   library(\"tibble\")\n",
    "   library(\"readr\")\n",
    "   library(\"dplyr\")\n",
    "   library(missForest)\n",
    "  \n",
    "    bed = read_delim(\"${_input}\")\n",
    "    mtx = as.matrix(bed[,5:ncol(bed)])\n",
    "    rownames(mtx) = unlist(bed[,4])\n",
    "    tbl_filtered = missForest::missForest(mtx)\n",
    "    tbl_filtered = as_tibble(tbl_filtered$ximp, rownames = colnames(bed)[4])  \n",
    "    bed_filtered = inner_join(bed[,1:4],tbl_filtered)\n",
    "    write_delim(bed_filtered, \"${_output:n}\", \"\\t\" )\n",
    "\n",
    "bash: expand= \"${ }\", stderr = f'{_output:n}.stderr', stdout = f'{_output:n}.stdout', container=container\n",
    "    bgzip -f ${_output:n}\n",
    "    tabix ${_output}\n",
    "\n",
    "bash: expand= \"$[ ]\", stderr = f'{_output:n}.stderr', stdout = f'{_output:n}.stdout', container = container\n",
    "        stdout=$[_output:n].stdout\n",
    "        for i in $[_output] ; do \n",
    "        echo \"output_info: $i \" >> $stdout;\n",
    "        echo \"output_size:\" `ls -lh $i | cut -f 5  -d  \" \"`   >> $stdout;\n",
    "        echo \"output_rows:\" `cat $i | wc -l  | cut -f 1 -d \" \"`   >> $stdout;\n",
    "        echo \"output_column:\" `cat $i | head -1 | wc -w `   >> $stdout;\n",
    "        echo \"output_headerow:\" `cat $i | grep \"##\" | wc -l `   >> $stdout;\n",
    "        echo \"output_preview:\"   >> $stdout;\n",
    "        cat $i  | grep -v \"##\" | head  | cut -f 1,2,3,4,5,6   >> $stdout ; done"
   ]
  },
  {
   "cell_type": "code",
   "execution_count": null,
   "id": "45622a6b-fd4d-47c4-963e-cbd736cb5825",
   "metadata": {
    "kernel": "SoS"
   },
   "outputs": [],
   "source": [
    "[xgboost]\n",
    "input: phenoFile\n",
    "output: f'{_input:nn}.filter_na.bed.gz'\n",
    "task: trunk_workers = 1, trunk_size = job_size, walltime = walltime, mem = mem, cores = numThreads\n",
    "R: expand= \"${ }\", stderr = f'{_output:n}.stderr', stdout = f'{_output:n}.stdout', container=container\n",
    "   library(\"tibble\")\n",
    "   library(\"readr\")\n",
    "   library(\"dplyr\")\n",
    "   library(mixgb)\n",
    "  \n",
    "    bed = read_delim(\"${_input}\")\n",
    "    mtx = bed[,5:ncol(bed)]\n",
    "    rownames(mtx) = unlist(bed[,4])\n",
    "    tbl_filtered = mixgb::mixgb(mtx)\n",
    "    tbl_filtered = as_tibble(tbl_filtered$ximp, rownames = colnames(bed)[4])  \n",
    "    bed_filtered = inner_join(bed[,1:4],tbl_filtered)\n",
    "    write_delim(bed_filtered, \"${_output:n}\", \"\\t\" )\n",
    "\n",
    "bash: expand= \"${ }\", stderr = f'{_output:n}.stderr', stdout = f'{_output:n}.stdout', container=container\n",
    "    bgzip -f ${_output:n}\n",
    "    tabix ${_output}\n",
    "bash: expand= \"$[ ]\", stderr = f'{_output:n}.stderr', stdout = f'{_output:n}.stdout', container = container\n",
    "        stdout=$[_output:n].stdout\n",
    "        for i in $[_output] ; do \n",
    "        echo \"output_info: $i \" >> $stdout;\n",
    "        echo \"output_size:\" `ls -lh $i | cut -f 5  -d  \" \"`   >> $stdout;\n",
    "        echo \"output_rows:\" `cat $i | wc -l  | cut -f 1 -d \" \"`   >> $stdout;\n",
    "        echo \"output_column:\" `cat $i | head -1 | wc -w `   >> $stdout;\n",
    "        echo \"output_headerow:\" `cat $i | grep \"##\" | wc -l `   >> $stdout;\n",
    "        echo \"output_preview:\"   >> $stdout;\n",
    "        cat $i  | grep -v \"##\" | head  | cut -f 1,2,3,4,5,6   >> $stdout ; done"
   ]
  }
 ],
 "metadata": {
  "kernelspec": {
   "display_name": "SoS",
   "language": "sos",
   "name": "sos"
  },
  "language_info": {
   "codemirror_mode": "sos",
   "file_extension": ".sos",
   "mimetype": "text/x-sos",
   "name": "sos",
   "nbconvert_exporter": "sos_notebook.converter.SoS_Exporter",
   "pygments_lexer": "sos"
  },
  "sos": {
   "kernels": [
    [
     "SoS",
     "sos",
     "",
     ""
    ]
   ],
   "version": "0.24.1"
  }
 },
 "nbformat": 4,
 "nbformat_minor": 5
}
