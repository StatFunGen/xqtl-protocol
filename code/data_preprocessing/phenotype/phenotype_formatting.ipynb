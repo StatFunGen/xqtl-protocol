{
 "cells": [
  {
   "attachments": {},
   "cell_type": "markdown",
   "metadata": {},
   "source": [
    "# Phenotype Formatting\n",
    "\n",
    "This module implements a workflow used to format phenotype data to prepare it for cis TensorQTL analysis."
   ]
  },
  {
   "attachments": {},
   "cell_type": "markdown",
   "metadata": {},
   "source": [
    "## Input\n",
    "\n",
    "1. `protocol_example.protein.bed.gz`"
   ]
  },
  {
   "attachments": {},
   "cell_type": "markdown",
   "metadata": {},
   "source": [
    "## Output\n",
    "\n",
    "1. `protocol_example.protein.bed.chr21.bed.gz`\n",
    "2. `protocol_example.protein.bed.chr22.bed.gz`\n",
    "3. `protocol_example.protein.bed.phenotype_by_chrom_files.txt`"
   ]
  },
  {
   "attachments": {},
   "cell_type": "markdown",
   "metadata": {},
   "source": [
    "## Minimal Working Example\n",
    "\n",
    "The proteomics data used in this MWE can be found on [synapse](https://www.synapse.org/#!Synapse:syn52369482)."
   ]
  },
  {
   "attachments": {},
   "cell_type": "markdown",
   "metadata": {},
   "source": [
    "### Step 1: Partition by Chromosome\n",
    "Timing: < 1 minute"
   ]
  },
  {
   "cell_type": "code",
   "execution_count": null,
   "metadata": {
    "vscode": {
     "languageId": "plaintext"
    }
   },
   "outputs": [],
   "source": [
    "sos run pipeline/phenotype_formatting.ipynb phenotype_by_chrom \\\n",
    "    --cwd output/phenotype_by_chrom \\\n",
    "    --phenoFile output/phenotype/protocol_example.protein.bed.gz \\\n",
    "    --chrom `for i in {21..22}; do echo chr$i; done` \\\n",
    "    --container singularity/bioinfo.sif"
   ]
  },
  {
   "attachments": {},
   "cell_type": "markdown",
   "metadata": {},
   "source": [
    "```\n",
    "INFO: Running phenotype_by_chrom_1:\n",
    "INFO: phenotype_by_chrom_1 (index=0) is completed.\n",
    "INFO: phenotype_by_chrom_1 (index=1) is completed.\n",
    "INFO: phenotype_by_chrom_1 output:   output/phenotype_by_chrom/protocol_example.protein.bed.chr22.bed.gz output/phenotype_by_chrom/protocol_example.protein.bed.chr21.bed.gz in 2 groups\n",
    "INFO: Running phenotype_by_chrom_2:\n",
    "INFO: phenotype_by_chrom_2 is completed.\n",
    "INFO: phenotype_by_chrom_2 output:   output/phenotype_by_chrom/protocol_example.protein.bed.phenotype_by_chrom_files.txt\n",
    "INFO: Workflow phenotype_by_chrom (ID=w39bcae3df05196d5) is executed successfully with 2 completed steps and 3 completed substeps.\n",
    "```"
   ]
  },
  {
   "attachments": {},
   "cell_type": "markdown",
   "metadata": {},
   "source": [
    "## Command interface"
   ]
  },
  {
   "cell_type": "code",
   "execution_count": null,
   "metadata": {
    "vscode": {
     "languageId": "plaintext"
    }
   },
   "outputs": [],
   "source": [
    "sos run phenotype_formatting.ipynb -h"
   ]
  },
  {
   "cell_type": "code",
   "execution_count": null,
   "metadata": {
    "vscode": {
     "languageId": "plaintext"
    }
   },
   "outputs": [],
   "source": [
    "usage: sos run phenotype_formatting.ipynb\n",
    "               [workflow_name | -t targets] [options] [workflow_options]\n",
    "  workflow_name:        Single or combined workflows defined in this script\n",
    "  targets:              One or more targets to generate\n",
    "  options:              Single-hyphen sos parameters (see \"sos run -h\" for details)\n",
    "  workflow_options:     Double-hyphen workflow-specific parameters\n",
    "\n",
    "Workflows:\n",
    "  phenotype_by_chrom\n",
    "  phenotype_by_region\n",
    "  bam_subsetting\n",
    "  gct_extract_samples\n",
    "\n",
    "Global Workflow Options:\n",
    "  --cwd output (as path)\n",
    "                        Work directory & output directory\n",
    "  --container ''\n",
    "                        The filename namefor output data\n",
    "  --entrypoint {('micromamba run -a \"\" -n' + ' ' + container.split('/')[-1][:-4]) if container.endswith('.sif') else f''}\n",
    "\n",
    "  --job-size 1 (as int)\n",
    "                        For cluster jobs, number commands to run per job\n",
    "  --walltime 5h\n",
    "                        Wall clock time expected\n",
    "  --mem 16G\n",
    "                        Memory expected\n",
    "  --numThreads 20 (as int)\n",
    "                        Number of threads\n",
    "  --phenoFile VAL (as path, required)\n",
    "                        Path to the input molecular phenotype data.\n",
    "  --name  f'{phenoFile:bn}'\n",
    "\n",
    "                        name for the analysis output\n",
    "\n",
    "Sections\n",
    "  phenotype_by_chrom_1:\n",
    "    Workflow Options:\n",
    "      --chrom VAL VAL ... (as type, required)\n",
    "                        list of chroms to extract\n",
    "  phenotype_by_chrom_2:\n",
    "  phenotype_by_region_1:\n",
    "    Workflow Options:\n",
    "      --region-list VAL (as path, required)\n",
    "                        An index text file with 4 columns specifying the chr,\n",
    "                        start, end and name of regions to analyze\n",
    "  phenotype_by_region_2:\n",
    "  bam_subsetting:\n",
    "    Workflow Options:\n",
    "      --region VAL VAL ... (as type, required)\n",
    "                        Input to `samtools view` coordinates, for example,\n",
    "                        --region chr21 chr22\n",
    "  gct_extract_samples:  Extract samples from expression data generated by\n",
    "                        RNASeQC\n",
    "    Workflow Options:\n",
    "      --keep-samples VAL (as path, required)"
   ]
  },
  {
   "attachments": {},
   "cell_type": "markdown",
   "metadata": {},
   "source": [
    "### Step 1: Partition by chromosome"
   ]
  },
  {
   "cell_type": "code",
   "execution_count": null,
   "metadata": {
    "vscode": {
     "languageId": "plaintext"
    }
   },
   "outputs": [],
   "source": [
    "[phenotype_by_chrom_1]\n",
    "# list of chroms to extract \n",
    "parameter: chrom = list\n",
    "chrom = list(set(chrom))\n",
    "# Path to the input molecular phenotype data.\n",
    "input: phenoFile, for_each = \"chrom\"\n",
    "output: f'{cwd}/{name}.{_chrom}.bed.gz'\n",
    "task: trunk_workers = 1, trunk_size = job_size, walltime = walltime,  mem = mem, tags = f'{step_name}_{_output:bn}'  \n",
    "bash: expand = \"$[ ]\", stderr = f'{_output:n}.stderr', stdout = f'{_output:n}.stdout',container = container, entrypoint=entrypoint\n",
    "    zcat $[_input] | head -1 > $[_output:n]\n",
    "    tabix $[_input] $[_chrom] >> $[_output:n] \n",
    "    bgzip -f $[_output:n]\n",
    "    tabix -p bed $[_output] -f\n",
    "bash: expand= \"$[ ]\", stderr = f'{_output:n}.stderr', stdout = f'{_output:n}.stdout', container = container, entrypoint=entrypoint\n",
    "        stdout=$[_output:n].stdout\n",
    "        for i in $[_output] ; do \n",
    "        echo \"output_info: $i \" >> $stdout;\n",
    "        echo \"output_size:\" `ls -lh $i | cut -f 5  -d  \" \"`   >> $stdout;\n",
    "        echo \"output_rows:\" `zcat $i | wc -l  | cut -f 1 -d \" \"`   >> $stdout;\n",
    "        echo \"output_column:\" `zcat $i | grep -v \"##\"   | head -1 | wc -w `   >> $stdout;\n",
    "        echo \"output_headerow:\" `zcat $i | grep \"##\" | wc -l `   >> $stdout;\n",
    "        echo \"output_preview:\"   >> $stdout;\n",
    "        zcat $i  | grep -v \"##\" | head  | cut -f 1,2,3,4,5,6   >> $stdout ; done"
   ]
  },
  {
   "cell_type": "code",
   "execution_count": null,
   "metadata": {
    "vscode": {
     "languageId": "plaintext"
    }
   },
   "outputs": [],
   "source": [
    "[phenotype_by_chrom_2]\n",
    "# Path to the input molecular phenotype data.\n",
    "input: group_by = \"all\"\n",
    "output: f'{cwd}/{name}.{step_name[:-2]}_files.txt'\n",
    "import pandas as pd\n",
    "chrom = [str(x).split(\".\")[-3].replace(\"chr\",\"\") for x in _input]\n",
    "chrom_df = pd.DataFrame({\"#id\" : chrom ,\"#dir\" : _input})\n",
    "chrom_df.to_csv(_output,index = 0,sep = \"\\t\")"
   ]
  }
 ],
 "metadata": {
  "language_info": {
   "name": "python"
  },
  "orig_nbformat": 4
 },
 "nbformat": 4,
 "nbformat_minor": 2
}
