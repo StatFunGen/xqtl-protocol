{
 "cells": [
  {
   "cell_type": "code",
   "execution_count": null,
   "id": "73f9c0b4-2124-4252-9b37-c99f8763977b",
   "metadata": {
    "kernel": "SoS"
   },
   "outputs": [],
   "source": [
    "sos run /home/rf2872/codes/xqtl-pipeline/pipeline/wasp_vcf.ipynb reformat_vcf_wasp \\\n",
    "    --QCed_VCF_files `ls /home/rf2872/Work/leaf_cutter2/db/rosmap_wgs/QC_ed/*filtered.vcf.gz` \\  #maybe I should give real path \n",
    "    -J 50 -c ~/test/csg.yml -q csg\n"
   ]
  },
  {
   "cell_type": "code",
   "execution_count": null,
   "id": "0a1ce483-6e29-4c0f-9269-362529667f00",
   "metadata": {
    "kernel": "SoS"
   },
   "outputs": [],
   "source": [
    "#work\n",
    "sos run /home/rf2872/codes/xqtl-pipeline/pipeline/wasp_vcf.ipynb reformat_vcf_wasp \\\n",
    "    --QCed_VCF_files `ls ~/Work/leaf_cutter2/db/rosmap_wgs/t/*gz` \\\n",
    "    -J 50 -c ~/test/csg.yml -q csg\n"
   ]
  },
  {
   "cell_type": "code",
   "execution_count": null,
   "id": "0a11c307-3868-45b2-8062-c2a8cf27dfa9",
   "metadata": {
    "kernel": "SoS"
   },
   "outputs": [],
   "source": [
    "[global]\n",
    "import os\n",
    "# Work directory & output directory\n",
    "parameter: cwd = path('./')\n",
    "# The filename prefix for output data\n",
    "parameter: job_size = 1\n",
    "parameter: mem = '60G'\n",
    "parameter: container = ''\n",
    "parameter: QCed_VCF_files = paths\n",
    "import pandas as pd\n",
    "#parameter: analysis_units = path\n",
    "# handle N = per_chunk data-set in one job\n",
    "parameter: per_chunk = 1\n"
   ]
  },
  {
   "cell_type": "code",
   "execution_count": null,
   "id": "8f937a4b-3c9c-469b-b106-6b0b4529da53",
   "metadata": {
    "kernel": "SoS",
    "tags": []
   },
   "outputs": [],
   "source": [
    "[reformat_vcf_wasp_1]\n",
    "parameter: frequency_threshold = 0.01\n",
    "input: QCed_VCF_files, group_by = 1\n",
    "output:f'{cwd:a}/wasp_vcf/{_input:bnn}.AF.WASP.vcf.gz'\n",
    "task: trunk_workers = 1, trunk_size = job_size, mem = mem,  walltime = '24h', tags = f'{step_name}_{_output[0]:bn}'\n",
    "bash: expand= \"$[ ]\", stderr = f'{_output[0]}.stderr', stdout = f'{_output[0]}.stdout'\n",
    "    cd $[cwd]\n",
    "    module load BCFTOOLS/1.17\n",
    "    #echo $[_input]\n",
    "    #echo $[_output:nnn].vcf.gz \n",
    "    bcftools view -i \"AF>$[frequency_threshold]\" -Oz -o $[_output:nnn].vcf.gz  $[_input] \n",
    "    #bcftools view $[_output:nnn].vcf.gz | awk -v OFS='\\t' '{if ($0 ~ /^##/) print $0; else {for (i=1; i<=9; i++) printf $i \"\\t\"; printf \"0/1\\n\"}}'| gzip > $[_output]\n",
    "    sample_name=`bcftools query -l $[_output:nnn].vcf.gz | head -n1`\n",
    "    bcftools view -s $sample_name $[_output:nnn].vcf.gz | awk -v OFS='\\t' 'BEGIN {FS=OFS} !/^#/ && NR>1 {$9=\"GT\"; $10=\"0/1\"}1' | bcftools reheader -s <(echo \"GENO\") - | gzip -c > $[_output]\n"
   ]
  },
  {
   "cell_type": "code",
   "execution_count": null,
   "id": "cd46ae67-a8bd-4233-8275-3c624ccdde63",
   "metadata": {
    "kernel": "SoS"
   },
   "outputs": [],
   "source": [
    "[reformat_vcf_wasp_2]\n",
    "input: group_by = 'all'\n",
    "parameter: prefix = \"ZOD14598_AD_GRM_WGS_2021-04-29_all\"\n",
    "parameter: suffix = \"recalibrated_variants.leftnorm.filtered.AF.WASP.vcf.gz\"\n",
    "output: f'{cwd:a}/wasp_vcf/{prefix}.{suffix}'\n",
    "task: trunk_workers = 1, trunk_size = job_size, mem = mem,  walltime = '24h', tags = f'{step_name}_{_output[0]:bn}'\n",
    "bash: expand= \"$[ ]\", stderr = f'{_output[0]}.stderr', stdout = f'{_output[0]}.stdout'\n",
    "    module load BCFTOOLS/1.17\n",
    "    bcftools concat $[_input]  -Oz -o $[_output] \n"
   ]
  },
  {
   "cell_type": "code",
   "execution_count": null,
   "id": "cbbcef97-c4a3-4f2e-b55a-f82737d29baf",
   "metadata": {
    "kernel": "SoS"
   },
   "outputs": [],
   "source": []
  }
 ],
 "metadata": {
  "kernelspec": {
   "display_name": "SoS",
   "language": "sos",
   "name": "sos"
  },
  "language_info": {
   "codemirror_mode": "sos",
   "file_extension": ".sos",
   "mimetype": "text/x-sos",
   "name": "sos",
   "nbconvert_exporter": "sos_notebook.converter.SoS_Exporter",
   "pygments_lexer": "sos"
  },
  "sos": {
   "kernels": [
    [
     "SoS",
     "sos",
     "",
     ""
    ]
   ],
   "version": "0.24.0"
  }
 },
 "nbformat": 4,
 "nbformat_minor": 5
}
