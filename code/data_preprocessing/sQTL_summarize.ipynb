{
 "cells": [
  {
   "cell_type": "markdown",
   "id": "a1401e64-59a7-42d2-a095-080bb1b7c189",
   "metadata": {
    "kernel": "SoS"
   },
   "source": [
    "# sQTL summarize"
   ]
  },
  {
   "cell_type": "markdown",
   "id": "55cd523f-e991-4f34-858e-d7699db38406",
   "metadata": {
    "kernel": "SoS"
   },
   "source": [
    "From Chao:     \n",
    "In my sQTL mapping result which each row has intron ID, intron cluster ID, and intron label (Productive or UnProductive).    \n",
    "I then first created another label to categorize what kind of sQTL a cluster has based on the qvalue of the introns in the cluster:    \n",
    "    - Productive clusters: all introns that are significant are Productive    \n",
    "    - UnProductive clusters: all introns that are significant are UnProductive    \n",
    "    - Productive, UnProductive clusters: some significant introns are Productive, some are UnProductive     \n",
    "Any clusters that do not have any significant introns are not included in analysis     \n",
    "Then to pick 1 representative intron for a cluster:    \n",
    "    - Productive clusters: pick the intron with the smallest p-value for the cluster, and label as Productive     \n",
    "    - UnProductive clusters: if this cluster doesn't have any Productive intron (regardless of pvalue), remove cluster. Otherwise, pick the smallest UnProductive intron for the cluster, and label as UnProductive    \n",
    "    - Productive, UnProductive clusters: since clearly there are both types of introns here, and that there are significant UnProductive introns, I pick the smallest UnProductive intron for the cluster, and label as UnProductive.    \n",
    "(cell 171)"
   ]
  },
  {
   "cell_type": "code",
   "execution_count": null,
   "id": "4a2945f9-854d-4564-8e04-354627540c82",
   "metadata": {
    "kernel": "SoS"
   },
   "outputs": [],
   "source": [
    "#work\n",
    "sos run /home/rf2872/codes/xqtl-pipeline/pipeline/sQTL_summarize.ipynb pick_top_intron \\\n",
    "    --emp_file /mnt/vast/hpc/csg/rf2872/Work/leaf_cutter2/ROSMAP_DLPFC/output/association_scan/sQTL/TensorQTL_without_phenogroup/ROSMAP_DLPFC_perind.counts.noise.gz_raw_data.qqnorm.formated.bed.per_chrom_ROSMAP_DLPFC_perind.counts.noise.gz_raw_data.qqnorm.formated.cov_pca.resid.Marchenko_pc.emprical.cis_sumstats.txt"
   ]
  },
  {
   "cell_type": "code",
   "execution_count": null,
   "id": "11adeb27-be06-4898-810f-cbd94168982c",
   "metadata": {
    "kernel": "SoS",
    "tags": []
   },
   "outputs": [],
   "source": [
    "[global]\n",
    "import os\n",
    "# Work directory & output directory\n",
    "parameter: cwd = path('./')\n",
    "# The filename prefix for output data\n",
    "parameter: job_size = 1\n",
    "parameter: mem = '60G'\n",
    "parameter: container = ''\n",
    "\n",
    "import pandas as pd\n",
    "#parameter: analysis_units = path\n",
    "# handle N = per_chunk data-set in one job\n",
    "parameter: per_chunk = 1\n"
   ]
  },
  {
   "cell_type": "code",
   "execution_count": null,
   "id": "b83ae403-cef4-49b1-a3c7-cb3886b8244c",
   "metadata": {
    "kernel": "SoS"
   },
   "outputs": [],
   "source": [
    "#[merge_emp]\n",
    "parameter: emp_files = paths\n",
    "input: emp_files, group_by = 'all'\n",
    "output:merged_emp=f'{_input[0]:annnn}.all.emprical.cis_sumstats.txt'\n",
    "task: trunk_workers = 1, trunk_size = job_size, mem = mem,  walltime = '24h', tags = f'{step_name}_{_output[0]:bn}'\n",
    "R: expand= \"${ }\", stderr = f'{_output:n}.stderr', stdout = f'{_output:n}.stdout'\n",
    "      library(tidyverse)\n",
    "      library(data.table)\n",
    "      emp<-data.table()\n",
    "      emp_files<-stringr::str_split(${_input:r},\"' '\",simplify=T)%>%as.character\n",
    "\n",
    "      for(i in emp_files){\n",
    "          #print (i)\n",
    "          emp_tmp<-fread(i)\n",
    "          emp<-rbind(emp,emp_tmp) \n",
    "      }\n",
    "      emp = emp%>%unnest()\n",
    "      emp[\"q_beta\"] = qvalue(emp$p_beta)$qvalue\n",
    "      emp[\"q_perm\"] = qvalue(emp$p_perm)$qvalue\n",
    "      emp[\"fdr_beta\"] = p.adjust(emp$p_beta,\"fdr\")    \n",
    "      emp[\"fdr_perm\"] = p.adjust(emp$p_perm,\"fdr\")    \n",
    "      emp$cluster_ID<-str_split(emp$molecular_trait_id,\":\",simplify = T)%>%.[,4]%>%str_split(.,\"_\",simplify = T)%>%.[,1:2]%>%apply(.,1,function(x) paste(x,collapse=\"_\")) \n",
    "      #write.table(emp, file=\"${_output}\",col.names=TRUE, row.names=FALSE, quote=FALSE)"
   ]
  },
  {
   "cell_type": "code",
   "execution_count": null,
   "id": "fcb2c3f0-23b3-4aa5-ab1d-7a33fe3ec55f",
   "metadata": {
    "kernel": "SoS",
    "tags": []
   },
   "outputs": [],
   "source": [
    "[pick_top_intron]\n",
    "parameter: pvalue = \"fdr_beta\"\n",
    "parameter: p_thres = 0.01\n",
    "parameter: emp_file = path\n",
    "input:emp_file\n",
    "output:f'{cwd:a}/cluster_resresentative_StrategyByChao.txt'\n",
    "task: trunk_workers = 1, trunk_size = job_size, mem = mem,  walltime = '24h', tags = f'{step_name}_{_output[0]:bn}'\n",
    "R: expand= \"${ }\", stderr = f'{_output:n}.stderr', stdout = f'{_output:n}.stdout'\n",
    "        library(tidyverse)\n",
    "        library(data.table)\n",
    "        emp<-fread(${_input:r})\n",
    "        p_id <- \"${pvalue}\"\n",
    "        emp_sig<-emp[emp[[p_id]]<${p_thres},] \n",
    "        clus_top <- data.table()\n",
    "        for (clu in unique(emp_sig$cluster_ID)) {\n",
    "            tmp_raw <- emp[emp$cluster_ID == clu, ]\n",
    "            tmp <- emp_sig[emp_sig$cluster_ID == clu, ]\n",
    "\n",
    "            if ( # 1. Productive clusters:\n",
    "                    tmp$molecular_trait_id %>%\n",
    "                    grep(\"[*]\", .) %>%\n",
    "                    length() == 0) {\n",
    "                print(\"#1 P\")\n",
    "                clus_top_tmp <- tmp[which.min(tmp[[p_id]]), ]\n",
    "                clus_top_tmp$\"category\" <- \"Productive\"\n",
    "                } \n",
    "            if ( # 2. UnProductive clusters:\n",
    "                    tmp$molecular_trait_id %>%\n",
    "                    grep(\"[*]\", .) %>%\n",
    "                    length() == nrow(tmp)) {\n",
    "                print(\"#2 Unp\")\n",
    "                if (tmp_raw$molecular_trait_id %>%\n",
    "                    grep(\"[*]\", .) %>%\n",
    "                    length() == nrow(tmp_raw)){\n",
    "                clus_top_tmp <- NULL\n",
    "                } \n",
    "                if (tmp_raw$molecular_trait_id %>%\n",
    "                    grep(\"[*]\", .) %>%\n",
    "                    length() < nrow(tmp_raw)){\n",
    "                clus_top_tmp <- tmp[which.min(tmp[[p_id]]), ]\n",
    "                clus_top_tmp$\"category\" <- \"UnProductive\"      \n",
    "                }\n",
    "            } \n",
    "            if ( # 3. Productive and UnProductive clusters:\n",
    "                tmp$molecular_trait_id %>%\n",
    "                    grep(\"[*]\", .) %>%\n",
    "                    length() != nrow(tmp) & tmp$molecular_trait_id %>%\n",
    "                    grep(\"[*]\", .) %>%\n",
    "                    length() != 0){   \n",
    "                print(\"#3 P & Unp\")\n",
    "                tmp_unp <- tmp$molecular_trait_id %>%\n",
    "                    grep(\"[*]\", .) %>%\n",
    "                    tmp[., ]\n",
    "                tmp_p <- tmp[-which(tmp$molecular_trait_id %in% tmp_unp$molecular_trait_id), ]\n",
    "                clus_top_tmp <- tmp_unp[which.min(tmp_unp[[p_id]]), ]\n",
    "                clus_top_tmp$\"category\" <- \"UnProductive\" \n",
    "            }\n",
    "            clus_top <- rbind(clus_top, clus_top_tmp)\n",
    "        }\n",
    "     #saveRDS(clus_top,\"${_output}\")\n",
    "    write.table(clus_top, file=\"${_output}\",col.names=TRUE, row.names=FALSE, quote=FALSE)"
   ]
  }
 ],
 "metadata": {
  "kernelspec": {
   "display_name": "SoS",
   "language": "sos",
   "name": "sos"
  },
  "language_info": {
   "codemirror_mode": "sos",
   "file_extension": ".sos",
   "mimetype": "text/x-sos",
   "name": "sos",
   "nbconvert_exporter": "sos_notebook.converter.SoS_Exporter",
   "pygments_lexer": "sos"
  },
  "sos": {
   "kernels": [
    [
     "SoS",
     "sos",
     "",
     ""
    ]
   ],
   "version": "0.24.0"
  }
 },
 "nbformat": 4,
 "nbformat_minor": 5
}
