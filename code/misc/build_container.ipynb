{
 "cells": [
  {
   "cell_type": "code",
   "execution_count": null,
   "metadata": {
    "kernel": "SoS",
    "tags": []
   },
   "outputs": [],
   "source": [
    "sos run xqtl-pipeline/code/misc/build_container.ipynb \\\n",
    "    --container_list xqtl-pipeline/code/misc/xQTL_conda_packages.csv \\\n",
    "    --env bioinfo fastenloc leafcutter METAL methylation polyfun psichomics rna_quantification SOS stephenslab TensorQTL\\\n",
    "    --output some_image_name_prefix -n"
   ]
  },
  {
   "cell_type": "code",
   "execution_count": null,
   "metadata": {
    "kernel": "SoS",
    "tags": []
   },
   "outputs": [],
   "source": [
    "[global]\n",
    "parameter: container_list = path\n",
    "parameter: env = list\n",
    "parameter: output = env\n",
    "parameter: cwd=path(\"output\")\n",
    "parameter: def_file = \"/mnt/mfs/hgrcgrid/homes/jl6702/git/xqtl-pipeline/code/misc/test.def\""
   ]
  },
  {
   "cell_type": "code",
   "execution_count": null,
   "metadata": {
    "kernel": "SoS"
   },
   "outputs": [],
   "source": [
    "[contain_generator_1]\n",
    "input: container_list, for_each=\"env\"\n",
    "output: f'{cwd}/{_env}/{_env}.yml'\n",
    "python: expand = \"$[ ]\", stderr = f'{_output}.stderr', stdout = f'{_output}.stdout'\n",
    "    import os\n",
    "    import yaml\n",
    "    import pandas as pd\n",
    "    container_list = pd.read_csv(\"$[_input]\")\n",
    "    container_tempt = dict()        \n",
    "    ## dict\n",
    "    container_list = container_list[container_list.Channel.notna()]\n",
    "    container_tempt[\"name\"]  = \"$[_env]\"\n",
    "    container_tempt[\"channels\"] = list(set(container_list.query(\"Environment.str.contains('$[_env]') | Environment == 'Universial'\").Channel))\n",
    "    container_tempt[\"dependencies\"] = [ x.split(\"/\")[-1] for x in  set(container_list.query(\"Environment.str.contains('$[_env]') | Environment == 'Universial'\").query(\"Channel in @container_tempt['channels'] \"  ).iloc[:,8] )]\n",
    "    container_tempt[\"channels\"].sort(reverse=True)\n",
    "    container_tempt[\"channels\"].append(\"nodefaults\")\n",
    "    container_tempt[\"channels\"].sort(reverse=True)\n",
    "    class IndentDumper(yaml.Dumper):\n",
    "        def increase_indent(self, flow=False, indentless=False):\n",
    "            return super(IndentDumper, self).increase_indent(flow, False)\n",
    "    with open(\"$[_output]\", 'w') as f:\n",
    "        yaml.dump(container_tempt,f,sort_keys = False, Dumper=IndentDumper )"
   ]
  },
  {
   "cell_type": "code",
   "execution_count": null,
   "metadata": {
    "kernel": "SoS"
   },
   "outputs": [],
   "source": [
    "[contain_generator_2]\n",
    "output: f'{_input:na}.sif'\n",
    "bash: expand = \"$[ ]\", stderr = f'{_output}.stderr', stdout = f'{_output}.stdout'\n",
    "  cd $[_input:d]\n",
    "  rm -f $[_output]\n",
    "  singularity build --fakeroot $[_output] $[def_file]\n",
    "  md5sum $[_output] > $[_output].md5"
   ]
  }
 ],
 "metadata": {
  "kernelspec": {
   "display_name": "Python 3 (ipykernel)",
   "language": "python",
   "name": "python3"
  },
  "language_info": {
   "codemirror_mode": {
    "name": "ipython",
    "version": 3
   },
   "file_extension": ".py",
   "mimetype": "text/x-python",
   "name": "python",
   "nbconvert_exporter": "python",
   "pygments_lexer": "ipython3",
   "version": "3.10.10"
  },
  "sos": {
   "kernels": [
    [
     "SoS",
     "sos",
     "",
     ""
    ]
   ],
   "version": "0.24.1"
  }
 },
 "nbformat": 4,
 "nbformat_minor": 4
}
