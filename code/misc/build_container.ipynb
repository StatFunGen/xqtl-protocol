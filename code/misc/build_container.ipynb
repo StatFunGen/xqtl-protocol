{
 "cells": [
  {
   "cell_type": "code",
   "execution_count": 103,
   "id": "26dcb8f9-dded-4f87-8f9b-0816d610ccc0",
   "metadata": {},
   "outputs": [],
   "source": [
    "import pandas as pd\n",
    "import os\n",
    "import yaml"
   ]
  },
  {
   "cell_type": "code",
   "execution_count": 104,
   "id": "80f74a8c-3c82-4ea1-8e44-497d51a3736e",
   "metadata": {},
   "outputs": [],
   "source": [
    "table = pd.read_csv(\"./xQTL conda packages - Sheet1 (2).csv\")"
   ]
  },
  {
   "cell_type": "code",
   "execution_count": 105,
   "id": "56aa1fd5-d426-4604-891e-b4d9a153d583",
   "metadata": {},
   "outputs": [],
   "source": [
    "table = table[table.Channel.notna()]"
   ]
  },
  {
   "cell_type": "code",
   "execution_count": 106,
   "id": "c542961e-d8fb-4f8f-84e0-c25d7b85bbda",
   "metadata": {},
   "outputs": [
    {
     "data": {
      "text/html": [
       "<div>\n",
       "<style scoped>\n",
       "    .dataframe tbody tr th:only-of-type {\n",
       "        vertical-align: middle;\n",
       "    }\n",
       "\n",
       "    .dataframe tbody tr th {\n",
       "        vertical-align: top;\n",
       "    }\n",
       "\n",
       "    .dataframe thead th {\n",
       "        text-align: right;\n",
       "    }\n",
       "</style>\n",
       "<table border=\"1\" class=\"dataframe\">\n",
       "  <thead>\n",
       "    <tr style=\"text-align: right;\">\n",
       "      <th></th>\n",
       "      <th>Package</th>\n",
       "      <th>URL</th>\n",
       "      <th>Language</th>\n",
       "      <th>Version</th>\n",
       "      <th>Git revision</th>\n",
       "      <th>Channel</th>\n",
       "      <th>Environment</th>\n",
       "      <th>License</th>\n",
       "      <th>Conda package</th>\n",
       "      <th>Notes</th>\n",
       "      <th>Docker image name</th>\n",
       "      <th>Universial Package</th>\n",
       "    </tr>\n",
       "  </thead>\n",
       "  <tbody>\n",
       "    <tr>\n",
       "      <th>0</th>\n",
       "      <td>METAL</td>\n",
       "      <td>https://github.com/statgen/METAL</td>\n",
       "      <td>C/C++</td>\n",
       "      <td>2020_05_05</td>\n",
       "      <td>NaN</td>\n",
       "      <td>dnachun</td>\n",
       "      <td>METAL</td>\n",
       "      <td>?</td>\n",
       "      <td>https://anaconda.org/dnachun/metal</td>\n",
       "      <td>NaN</td>\n",
       "      <td>NaN</td>\n",
       "      <td>NaN</td>\n",
       "    </tr>\n",
       "    <tr>\n",
       "      <th>1</th>\n",
       "      <td>MOFA2</td>\n",
       "      <td>https://bioconductor.org/packages/3.16/bioc/ht...</td>\n",
       "      <td>R/Python</td>\n",
       "      <td>1.10.0</td>\n",
       "      <td>NaN</td>\n",
       "      <td>bioconda</td>\n",
       "      <td>TensorQTL</td>\n",
       "      <td>LGPL v3</td>\n",
       "      <td>https://anaconda.org/bioconda/bioconductor-mofa2</td>\n",
       "      <td>bioconda package is outdated</td>\n",
       "      <td>NaN</td>\n",
       "      <td>NaN</td>\n",
       "    </tr>\n",
       "    <tr>\n",
       "      <th>2</th>\n",
       "      <td>plink</td>\n",
       "      <td>https://www.cog-genomics.org/plink2</td>\n",
       "      <td>C/C++</td>\n",
       "      <td>1.90b6.21</td>\n",
       "      <td>NaN</td>\n",
       "      <td>bioconda</td>\n",
       "      <td>TensorQTL, bioinfo</td>\n",
       "      <td>GPL</td>\n",
       "      <td>https://anaconda.org/bioconda/plink</td>\n",
       "      <td>NaN</td>\n",
       "      <td>NaN</td>\n",
       "      <td>NaN</td>\n",
       "    </tr>\n",
       "    <tr>\n",
       "      <th>3</th>\n",
       "      <td>qvalue</td>\n",
       "      <td>https://www.bioconductor.org/packages/release/...</td>\n",
       "      <td>R</td>\n",
       "      <td>2.32.0</td>\n",
       "      <td>NaN</td>\n",
       "      <td>bioconda</td>\n",
       "      <td>TensorQTL, qvalue</td>\n",
       "      <td>NaN</td>\n",
       "      <td>https://anaconda.org/bioconda/bioconductor-qvalue</td>\n",
       "      <td>NaN</td>\n",
       "      <td>NaN</td>\n",
       "      <td>NaN</td>\n",
       "    </tr>\n",
       "    <tr>\n",
       "      <th>4</th>\n",
       "      <td>multipy</td>\n",
       "      <td>https://github.com/puolival/multipy</td>\n",
       "      <td>Python</td>\n",
       "      <td>0.16</td>\n",
       "      <td>NaN</td>\n",
       "      <td>dnachun</td>\n",
       "      <td>TensorQTL</td>\n",
       "      <td>NaN</td>\n",
       "      <td>https://anaconda.org/dnachun/multipy</td>\n",
       "      <td>Git was used because a fix was needed to suppo...</td>\n",
       "      <td>NaN</td>\n",
       "      <td>NaN</td>\n",
       "    </tr>\n",
       "    <tr>\n",
       "      <th>...</th>\n",
       "      <td>...</td>\n",
       "      <td>...</td>\n",
       "      <td>...</td>\n",
       "      <td>...</td>\n",
       "      <td>...</td>\n",
       "      <td>...</td>\n",
       "      <td>...</td>\n",
       "      <td>...</td>\n",
       "      <td>...</td>\n",
       "      <td>...</td>\n",
       "      <td>...</td>\n",
       "      <td>...</td>\n",
       "    </tr>\n",
       "    <tr>\n",
       "      <th>69</th>\n",
       "      <td>susif</td>\n",
       "      <td>https://github.com/stephenslab/susiF.alpha</td>\n",
       "      <td>R</td>\n",
       "      <td>0.1.212</td>\n",
       "      <td>NaN</td>\n",
       "      <td>dnachun</td>\n",
       "      <td>stephenslab</td>\n",
       "      <td>NaN</td>\n",
       "      <td>https://anaconda.org/dnachun/r-susif.alpha</td>\n",
       "      <td>NaN</td>\n",
       "      <td>NaN</td>\n",
       "      <td>NaN</td>\n",
       "    </tr>\n",
       "    <tr>\n",
       "      <th>70</th>\n",
       "      <td>mvf.susie</td>\n",
       "      <td>https://github.com/william-denault/mvf.susie.a...</td>\n",
       "      <td>R</td>\n",
       "      <td>0.1.021</td>\n",
       "      <td>NaN</td>\n",
       "      <td>dnachun</td>\n",
       "      <td>stephenslab</td>\n",
       "      <td>NaN</td>\n",
       "      <td>https://anaconda.org/dnachun/r-mvf.susie.alpha</td>\n",
       "      <td>NaN</td>\n",
       "      <td>NaN</td>\n",
       "      <td>NaN</td>\n",
       "    </tr>\n",
       "    <tr>\n",
       "      <th>71</th>\n",
       "      <td>tidyverse</td>\n",
       "      <td>NaN</td>\n",
       "      <td>R</td>\n",
       "      <td>NaN</td>\n",
       "      <td>NaN</td>\n",
       "      <td>conda-forge</td>\n",
       "      <td>Universial</td>\n",
       "      <td>NaN</td>\n",
       "      <td>https://anaconda.org/conda-forge/r-tidyverse</td>\n",
       "      <td>NaN</td>\n",
       "      <td>NaN</td>\n",
       "      <td>NaN</td>\n",
       "    </tr>\n",
       "    <tr>\n",
       "      <th>72</th>\n",
       "      <td>pandas</td>\n",
       "      <td>NaN</td>\n",
       "      <td>Python</td>\n",
       "      <td>NaN</td>\n",
       "      <td>NaN</td>\n",
       "      <td>conda-forge</td>\n",
       "      <td>Universial</td>\n",
       "      <td>NaN</td>\n",
       "      <td>https://anaconda.org/conda-forge/pandas</td>\n",
       "      <td>NaN</td>\n",
       "      <td>NaN</td>\n",
       "      <td>NaN</td>\n",
       "    </tr>\n",
       "    <tr>\n",
       "      <th>74</th>\n",
       "      <td>ComplexUpset</td>\n",
       "      <td>NaN</td>\n",
       "      <td>NaN</td>\n",
       "      <td>NaN</td>\n",
       "      <td>NaN</td>\n",
       "      <td>conda-forge</td>\n",
       "      <td>stephenslab</td>\n",
       "      <td>NaN</td>\n",
       "      <td>https://anaconda.org/conda-forge/r-complexupset</td>\n",
       "      <td>NaN</td>\n",
       "      <td>NaN</td>\n",
       "      <td>NaN</td>\n",
       "    </tr>\n",
       "  </tbody>\n",
       "</table>\n",
       "<p>74 rows × 12 columns</p>\n",
       "</div>"
      ],
      "text/plain": [
       "         Package                                                URL  Language  \\\n",
       "0          METAL                   https://github.com/statgen/METAL     C/C++   \n",
       "1          MOFA2  https://bioconductor.org/packages/3.16/bioc/ht...  R/Python   \n",
       "2          plink                https://www.cog-genomics.org/plink2     C/C++   \n",
       "3         qvalue  https://www.bioconductor.org/packages/release/...         R   \n",
       "4        multipy                https://github.com/puolival/multipy    Python   \n",
       "..           ...                                                ...       ...   \n",
       "69         susif         https://github.com/stephenslab/susiF.alpha         R   \n",
       "70     mvf.susie  https://github.com/william-denault/mvf.susie.a...         R   \n",
       "71     tidyverse                                                NaN         R   \n",
       "72        pandas                                                NaN    Python   \n",
       "74  ComplexUpset                                                NaN       NaN   \n",
       "\n",
       "       Version  Git revision      Channel         Environment  License  \\\n",
       "0   2020_05_05           NaN      dnachun               METAL        ?   \n",
       "1       1.10.0           NaN     bioconda           TensorQTL  LGPL v3   \n",
       "2    1.90b6.21           NaN     bioconda  TensorQTL, bioinfo      GPL   \n",
       "3       2.32.0           NaN     bioconda   TensorQTL, qvalue      NaN   \n",
       "4         0.16           NaN      dnachun           TensorQTL      NaN   \n",
       "..         ...           ...          ...                 ...      ...   \n",
       "69     0.1.212           NaN      dnachun         stephenslab      NaN   \n",
       "70     0.1.021           NaN      dnachun         stephenslab      NaN   \n",
       "71         NaN           NaN  conda-forge          Universial      NaN   \n",
       "72         NaN           NaN  conda-forge          Universial      NaN   \n",
       "74         NaN           NaN  conda-forge         stephenslab      NaN   \n",
       "\n",
       "                                        Conda package  \\\n",
       "0                  https://anaconda.org/dnachun/metal   \n",
       "1    https://anaconda.org/bioconda/bioconductor-mofa2   \n",
       "2                 https://anaconda.org/bioconda/plink   \n",
       "3   https://anaconda.org/bioconda/bioconductor-qvalue   \n",
       "4                https://anaconda.org/dnachun/multipy   \n",
       "..                                                ...   \n",
       "69         https://anaconda.org/dnachun/r-susif.alpha   \n",
       "70     https://anaconda.org/dnachun/r-mvf.susie.alpha   \n",
       "71       https://anaconda.org/conda-forge/r-tidyverse   \n",
       "72            https://anaconda.org/conda-forge/pandas   \n",
       "74    https://anaconda.org/conda-forge/r-complexupset   \n",
       "\n",
       "                                                Notes  Docker image name  \\\n",
       "0                                                 NaN                NaN   \n",
       "1                        bioconda package is outdated                NaN   \n",
       "2                                                 NaN                NaN   \n",
       "3                                                 NaN                NaN   \n",
       "4   Git was used because a fix was needed to suppo...                NaN   \n",
       "..                                                ...                ...   \n",
       "69                                                NaN                NaN   \n",
       "70                                                NaN                NaN   \n",
       "71                                                NaN                NaN   \n",
       "72                                                NaN                NaN   \n",
       "74                                                NaN                NaN   \n",
       "\n",
       "    Universial Package  \n",
       "0                  NaN  \n",
       "1                  NaN  \n",
       "2                  NaN  \n",
       "3                  NaN  \n",
       "4                  NaN  \n",
       "..                 ...  \n",
       "69                 NaN  \n",
       "70                 NaN  \n",
       "71                 NaN  \n",
       "72                 NaN  \n",
       "74                 NaN  \n",
       "\n",
       "[74 rows x 12 columns]"
      ]
     },
     "execution_count": 106,
     "metadata": {},
     "output_type": "execute_result"
    }
   ],
   "source": [
    "table"
   ]
  },
  {
   "cell_type": "code",
   "execution_count": 107,
   "id": "d90d3152-6032-4f25-bea8-b69835f6b318",
   "metadata": {},
   "outputs": [],
   "source": [
    "yml_tempt = dict()"
   ]
  },
  {
   "cell_type": "code",
   "execution_count": 108,
   "id": "e290dcaa-7ae7-4094-9f6f-3c05bbedc40c",
   "metadata": {},
   "outputs": [],
   "source": [
    "yml_tempt[\"name\"]  = \"stephenslab\"\n",
    "yml_tempt[\"channels\"] = list(set(table.query(\"Environment == 'stephenslab' | Environment == 'Universial'\").Channel))\n",
    "yml_tempt[\"dependencies\"] = [ x.split(\"/\")[-1] for x in  set(table.query(\"Environment == 'stephenslab' | Environment == 'Universial'\").query(\"Channel in @yml_tempt['channels'] \"  ).iloc[:,8] )]\n",
    "yml_tempt[\"channels\"].sort(reverse=True)\n",
    "yml_tempt[\"channels\"].append(\"nodefaults\")"
   ]
  },
  {
   "cell_type": "code",
   "execution_count": 78,
   "id": "ea67b0c4-7e22-4d63-8db7-15a9fe01f602",
   "metadata": {},
   "outputs": [
    {
     "data": {
      "text/plain": [
       "['https://anaconda.org/dnachun/r-flashier',\n",
       " 'https://anaconda.org/dnachun/r-mvsusier',\n",
       " 'https://anaconda.org/dnachun/r-gwasrapidd',\n",
       " 'https://anaconda.org/dnachun/r-mashr',\n",
       " 'https://anaconda.org/bioconda/bioconductor-variantannotation',\n",
       " 'https://anaconda.org/conda-forge/r-rfast',\n",
       " 'https://anaconda.org/dnachun/r-flashr',\n",
       " 'https://anaconda.org/dnachun/r-mvf.susie.alpha',\n",
       " 'https://anaconda.org/bioconda/r-coloc',\n",
       " 'https://anaconda.org/conda-forge/r-tidyverse',\n",
       " 'https://anaconda.org/dnachun/r-udr',\n",
       " 'https://anaconda.org/dnachun/r-susif.alpha',\n",
       " 'https://anaconda.org/conda-forge/backports.zoneinfo',\n",
       " 'https://anaconda.org/dnachun/python-ldstore',\n",
       " 'https://anaconda.org/conda-forge/r-cowplot',\n",
       " 'https://anaconda.org/conda-forge/r-complexupset',\n",
       " 'https://anaconda.org/conda-forge/pandas',\n",
       " 'https://anaconda.org/conda-forge/r-susier']"
      ]
     },
     "execution_count": 78,
     "metadata": {},
     "output_type": "execute_result"
    }
   ],
   "source": [
    "yml_tempt[\"dependency\"]"
   ]
  },
  {
   "cell_type": "code",
   "execution_count": 111,
   "id": "96faa38b-d519-4ff8-8caa-8c947ddf73eb",
   "metadata": {},
   "outputs": [
    {
     "data": {
      "text/plain": [
       "{'name': 'stephenslab',\n",
       " 'channels': ['dnachun', 'conda-forge', 'bioconda', 'nodefaults'],\n",
       " 'dependency': ['r-flashier',\n",
       "  'r-mvsusier',\n",
       "  'r-gwasrapidd',\n",
       "  'r-mashr',\n",
       "  'bioconductor-variantannotation',\n",
       "  'r-rfast',\n",
       "  'r-flashr',\n",
       "  'r-mvf.susie.alpha',\n",
       "  'r-coloc',\n",
       "  'r-tidyverse',\n",
       "  'r-udr',\n",
       "  'r-susif.alpha',\n",
       "  'backports.zoneinfo',\n",
       "  'python-ldstore',\n",
       "  'r-cowplot',\n",
       "  'r-complexupset',\n",
       "  'pandas',\n",
       "  'r-susier']}"
      ]
     },
     "execution_count": 111,
     "metadata": {},
     "output_type": "execute_result"
    }
   ],
   "source": [
    "yml_tempt"
   ]
  },
  {
   "cell_type": "code",
   "execution_count": 112,
   "id": "8a455042-481d-4f55-9c50-b63d593d66b2",
   "metadata": {},
   "outputs": [],
   "source": [
    "class IndentDumper(yaml.Dumper):\n",
    "    def increase_indent(self, flow=False, indentless=False):\n",
    "        return super(IndentDumper, self).increase_indent(flow, False)"
   ]
  },
  {
   "cell_type": "code",
   "execution_count": 113,
   "id": "21cc677d-5930-457c-9c74-46d3b36e648e",
   "metadata": {},
   "outputs": [],
   "source": [
    "with open(\"test.yml\", 'w') as f:\n",
    "        yaml.dump(yml_tempt,f,sort_keys = False, Dumper=IndentDumper )"
   ]
  },
  {
   "cell_type": "code",
   "execution_count": 85,
   "id": "7e0d74b8-97f2-43a5-b15f-79d02d93eb1a",
   "metadata": {},
   "outputs": [],
   "source": [
    "sorted(yml_tempt[\"channels\"]).reverse()"
   ]
  },
  {
   "cell_type": "code",
   "execution_count": 89,
   "id": "31f9012c-6113-4870-a67a-d3ab1f8df641",
   "metadata": {},
   "outputs": [],
   "source": [
    "yml_tempt[\"channels\"].sort(reverse=True)"
   ]
  },
  {
   "cell_type": "code",
   "execution_count": 88,
   "id": "cbef327c-efac-4fe4-a989-b110c18bd870",
   "metadata": {},
   "outputs": [
    {
     "ename": "NameError",
     "evalue": "name 'reverse' is not defined",
     "output_type": "error",
     "traceback": [
      "\u001b[0;31m---------------------------------------------------------------------------\u001b[0m",
      "\u001b[0;31mNameError\u001b[0m                                 Traceback (most recent call last)",
      "\u001b[0;32m/tmp/5399245.1.all.q/ipykernel_31065/2941911878.py\u001b[0m in \u001b[0;36m<module>\u001b[0;34m\u001b[0m\n\u001b[0;32m----> 1\u001b[0;31m \u001b[0mreverse\u001b[0m\u001b[0;34m(\u001b[0m\u001b[0msorted\u001b[0m\u001b[0;34m(\u001b[0m\u001b[0myml_tempt\u001b[0m\u001b[0;34m[\u001b[0m\u001b[0;34m\"channels\"\u001b[0m\u001b[0;34m]\u001b[0m\u001b[0;34m)\u001b[0m\u001b[0;34m)\u001b[0m\u001b[0;34m\u001b[0m\u001b[0;34m\u001b[0m\u001b[0m\n\u001b[0m",
      "\u001b[0;31mNameError\u001b[0m: name 'reverse' is not defined"
     ]
    }
   ],
   "source": [
    "reverse(sorted(yml_tempt[\"channels\"]))"
   ]
  },
  {
   "cell_type": "code",
   "execution_count": 90,
   "id": "f3b40851-31ba-4979-8ea3-7ec8e2a58b10",
   "metadata": {},
   "outputs": [
    {
     "data": {
      "text/plain": [
       "['nodefaults', 'dnachun', 'conda-forge', 'bioconda']"
      ]
     },
     "execution_count": 90,
     "metadata": {},
     "output_type": "execute_result"
    }
   ],
   "source": [
    "yml_tempt[\"channels\"]"
   ]
  },
  {
   "cell_type": "code",
   "execution_count": 115,
   "id": "6e6ffc92-4366-4460-b6c1-e8ef9b835635",
   "metadata": {},
   "outputs": [
    {
     "name": "stdout",
     "output_type": "stream",
     "text": [
      "name: stephenslab\n",
      "channels:\n",
      "  - dnachun\n",
      "  - conda-forge\n",
      "  - bioconda\n",
      "  - nodefaults\n",
      "dependency:\n",
      "  - r-flashier\n",
      "  - r-mvsusier\n",
      "  - r-gwasrapidd\n",
      "  - r-mashr\n",
      "  - bioconductor-variantannotation\n",
      "  - r-rfast\n",
      "  - r-flashr\n",
      "  - r-mvf.susie.alpha\n",
      "  - r-coloc\n",
      "  - r-tidyverse\n",
      "  - r-udr\n",
      "  - r-susif.alpha\n",
      "  - backports.zoneinfo\n",
      "  - python-ldstore\n",
      "  - r-cowplot\n",
      "  - r-complexupset\n",
      "  - pandas\n",
      "  - r-susier\n",
      "\n"
     ]
    }
   ],
   "source": [
    "print(yaml.dump(yml_tempt,sort_keys = False, Dumper=IndentDumper ))"
   ]
  },
  {
   "cell_type": "code",
   "execution_count": null,
   "id": "67813b5d-1393-4bc3-b473-dd101f5420e4",
   "metadata": {},
   "outputs": [],
   "source": []
  }
 ],
 "metadata": {
  "kernelspec": {
   "display_name": "Python 3 (ipykernel)",
   "language": "python",
   "name": "python3"
  },
  "language_info": {
   "codemirror_mode": {
    "name": "ipython",
    "version": 3
   },
   "file_extension": ".py",
   "mimetype": "text/x-python",
   "name": "python",
   "nbconvert_exporter": "python",
   "pygments_lexer": "ipython3",
   "version": "3.9.5"
  }
 },
 "nbformat": 4,
 "nbformat_minor": 5
}
