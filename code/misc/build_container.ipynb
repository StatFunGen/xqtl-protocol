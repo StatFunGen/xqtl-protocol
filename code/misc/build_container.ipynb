{
 "cells": [
  {
   "cell_type": "code",
   "execution_count": null,
   "metadata": {
    "kernel": "SoS",
    "tags": []
   },
   "outputs": [],
   "source": [
    "sos run xqtl-pipeline/code/misc/build_container.ipynb \\\n",
    "    --container_list xqtl-pipeline/code/misc/xQTL_conda_packages.csv \\\n",
    "    --env bioinfo fastenloc leafcutter METAL methylation polyfun psichomics rna_quantification SOS stephenslab TensorQTL"
   ]
  },
  {
   "cell_type": "code",
   "execution_count": null,
   "metadata": {
    "kernel": "SoS",
    "tags": []
   },
   "outputs": [],
   "source": [
    "[global]\n",
    "parameter: container_list = path\n",
    "parameter: env = list\n",
    "parameter: output = env\n",
    "parameter: cwd=path(\"output\")\n",
    "parameter: def_file = \"/mnt/mfs/hgrcgrid/homes/jl6702/git/xqtl-pipeline/code/misc/test.def\""
   ]
  },
  {
   "cell_type": "code",
   "execution_count": null,
   "metadata": {
    "kernel": "SoS"
   },
   "outputs": [],
   "source": [
    "[contain_generator_1]\n",
    "input: container_list, for_each=\"env\"\n",
    "output: f'{cwd}/{_env}/{_env}.yml'\n",
    "python: expand = \"$[ ]\", stderr = f'{_output}.stderr', stdout = f'{_output}.stdout'\n",
    "    import os\n",
    "    import yaml\n",
    "    import pandas as pd\n",
    "    container_list = pd.read_csv(\"$[_input]\")\n",
    "    container_tempt = dict()        \n",
    "    ## dict\n",
    "    container_list = container_list[container_list.Channel.notna()]\n",
    "    container_tempt[\"name\"]  = \"$[_env]\"\n",
    "    remove_list = container_list[container_list.CondaVersion.notna()].iloc[0,0]\n",
    "    remove_list = str(remove_list)\n",
    "    container_tempt[\"channels\"] = list(set(container_list.query(\"Environment.str.contains('$[_env]') | Environment == 'Universial'\").Channel))\n",
    "    container_tempt[\"dependencies\"] = [ x.split(\"/\")[-1] for x in  set(container_list.query(\"Environment.str.contains('$[_env]') | Environment == 'Universial'\").query(\"Channel in @container_tempt['channels'] \"  ).iloc[:,8] )]\n",
    "    container_list.loc[:, 'last_part'] = container_list['Conda package'].apply(lambda x: x.rsplit('/', 1)[-1])\n",
    "    container_list.loc[:, 'combined'] = container_list['last_part'] +\"=\" + container_list['CondaVersion']\n",
    "    if container_tempt['name'] == 'rna_quantification':\n",
    "        container_tempt['dependencies'].remove(remove_list)\n",
    "    new_elements = [x for x in container_list['combined'].tolist() if not pd.isna(x)]\n",
    "    container_tempt['dependencies'].extend(new_elements)\n",
    "    if container_tempt['name'] == 'rna_quantification':\n",
    "        container_tempt['dependencies'].remove(remove_list)\n",
    "    container_tempt[\"channels\"].sort(reverse=True)\n",
    "    container_tempt[\"channels\"].append(\"nodefaults\")\n",
    "    container_tempt[\"channels\"].sort(reverse=True)\n",
    "    class IndentDumper(yaml.Dumper):\n",
    "        def increase_indent(self, flow=False, indentless=False):\n",
    "            return super(IndentDumper, self).increase_indent(flow, False)\n",
    "    with open(\"$[_output]\", 'w') as f:\n",
    "        yaml.dump(container_tempt,f,sort_keys = False, Dumper=IndentDumper )"
   ]
  },
  {
   "cell_type": "code",
   "execution_count": null,
   "metadata": {
    "kernel": "SoS"
   },
   "outputs": [],
   "source": [
    "[contain_generator_2]\n",
    "output: f'{_input:na}.sif'\n",
    "bash: expand = \"$[ ]\", stderr = f'{_output}.stderr', stdout = f'{_output}.stdout'\n",
    "  cd $[_input:d]\n",
    "  rm -f $[_output]\n",
    "  singularity build --fakeroot $[_output] $[def_file]\n",
    "  md5sum $[_output] > $[_output].md5"
   ]
  }
 ],
 "metadata": {
  "kernelspec": {
   "display_name": "SoS",
   "language": "sos",
   "name": "sos"
  },
  "language_info": {
   "codemirror_mode": "sos",
   "file_extension": ".sos",
   "mimetype": "text/x-sos",
   "name": "sos",
   "nbconvert_exporter": "sos_notebook.converter.SoS_Exporter",
   "pygments_lexer": "sos"
  },
  "sos": {
   "kernels": [
    [
     "SoS",
     "sos",
     "",
     ""
    ]
   ],
   "version": "0.24.1"
  }
 },
 "nbformat": 4,
 "nbformat_minor": 4
}
