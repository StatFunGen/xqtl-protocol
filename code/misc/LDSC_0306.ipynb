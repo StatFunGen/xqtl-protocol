{
 "cells": [
  {
   "cell_type": "markdown",
   "id": "e8c6c599-0d4e-4e98-bec9-b26f3c273691",
   "metadata": {},
   "source": [
    "# LDSC"
   ]
  },
  {
   "cell_type": "code",
   "execution_count": null,
   "id": "59b91ae0-6ce2-4061-ba96-dc6f4ccf1b1f",
   "metadata": {},
   "outputs": [],
   "source": [
    "https://bios25328.hakyimlab.org/post/2021/04/16/ld-score-regression/"
   ]
  },
  {
   "cell_type": "markdown",
   "id": "1f852191-3b80-404d-83f9-99fde3bf2961",
   "metadata": {},
   "source": [
    "This is my first test for the use of LDSC regression with GWAS summary stats, especially for this main goal: correcting for poligenucuty and population substructure in my phenotype"
   ]
  },
  {
   "cell_type": "markdown",
   "id": "0849ff05-0246-49b1-b9cb-67b876a803ed",
   "metadata": {},
   "source": [
    "## The input file that are required for the analysis are:"
   ]
  },
  {
   "cell_type": "code",
   "execution_count": null,
   "id": "a8b1222b-c3cc-4a3b-bbed-bf31bee86158",
   "metadata": {},
   "outputs": [],
   "source": [
    "1. precomputed LDSC scores for european UKB \n",
    "2. GWAS summary stats so that it uses the same SNP ID system as LDSC files"
   ]
  },
  {
   "cell_type": "markdown",
   "id": "d20f1f1b-8080-4bc8-8612-26b0aa5ce521",
   "metadata": {},
   "source": [
    "and then we can Run LDSC regression software"
   ]
  },
  {
   "cell_type": "markdown",
   "id": "cde172e3-e898-4f3c-a958-791f73232b48",
   "metadata": {},
   "source": [
    "## and the expected output"
   ]
  },
  {
   "cell_type": "raw",
   "id": "95a68735-c9e0-45b4-b4c3-851bcd276ed9",
   "metadata": {},
   "source": [
    "A .gz file containing input summary statistics columns and additionally the following columns:\n",
    "\n",
    "PIP - posterior causal probability\n",
    "BETA_MEAN - posterior mean of causal effect size (in standardized genotype scale)\n",
    "BETA_SD - posterior standard deviation of causal effect size (in standardized genotype scale)\n",
    "CREDIBLE_SET - the index of the first (typically smallest) credible set that the SNP belongs to (0 means none)."
   ]
  },
  {
   "cell_type": "markdown",
   "id": "12f3d7a4-106d-44c6-9e33-eac2a180acb9",
   "metadata": {},
   "source": [
    "### Phase 1: Munged qc summary stats"
   ]
  },
  {
   "cell_type": "code",
   "execution_count": null,
   "id": "24cb7c11-896f-406e-9acd-13bdae61a105",
   "metadata": {},
   "outputs": [],
   "source": [
    "module load Singularity/3.5.3\n",
    "sos run /mnt/mfs/hgrcgrid/homes/fr2540/xqtl-pipeline/pipeline/polyfun.ipynb \\\n",
    "    munged_sumstats\\\n",
    "      --sumstats /mnt/mfs/hgrcgrid/homes/fr2540/projects/tinnitus/output_regenie_test_all_casegroup3/tinnitus_group3_17940cases_128931controls_related_unrelated_tinnitus_3.txt\\\n",
    "      --container /mnt/mfs/statgen/containers/polyfun.sif\\\n",
    "      -c /mnt/mfs/hgrcgrid/homes/fr2540/xqtl-pipeline/code/csg.yml\\\n",
    "      -q csg -s force -s build \\\n",
    "      &> /mnt/mfs/hgrcgrid/homes/fr2540/projects/tinnitus/LDSC/ldsc_test_tinnitus_all_group3/ldsc_test_tinnitus_all_group3.log"
   ]
  },
  {
   "cell_type": "raw",
   "id": "1910becf-fef7-49c2-85b9-67642d2dc019",
   "metadata": {},
   "source": [
    "/opt/conda/lib/python3.8/site-packages/scipy/__init__.py:146: UserWarning: A NumPy version >=1.16.5 and <1.23.0 is required for this version of SciPy (detected version 1.24.1\n",
    "  warnings.warn(f\"A NumPy version >={np_minversion} and <{np_maxversion}\"\n",
    "[INFO]  Reading sumstats file...\n",
    "[INFO]  Done in 140.41 seconds\n",
    "/usr/local/bin//munge_polyfun_sumstats.py:24: FutureWarning: In the future `np.bool` will be defined as the corresponding NumPy scalar.  (This may have returned Python scalars in past versions.\n",
    "  is_relevant_col = np.zeros(df.shape[1], dtype=np.bool)\n",
    "Traceback (most recent call last):\n",
    "  File \"/usr/local/bin//munge_polyfun_sumstats.py\", line 251, in <module>\n",
    "    df_sumstats = rename_df_columns(df_sumstats)\n",
    "  File \"/usr/local/bin//munge_polyfun_sumstats.py\", line 39, in rename_df_columns\n",
    "    chr_column = find_df_column(df_sumstats, ['CHR', 'CHROMOSOME', 'CHROM'])\n",
    "  File \"/usr/local/bin//munge_polyfun_sumstats.py\", line 24, in find_df_column\n",
    "    is_relevant_col = np.zeros(df.shape[1], dtype=np.bool)\n",
    "  File \"/home/fr2540/.local/lib/python3.8/site-packages/numpy/__init__.py\", line 284, in __getattr__\n",
    "    raise AttributeError(\"module {!r} has no attribute \"\n",
    "AttributeError: module 'numpy' has no attribute 'bool'"
   ]
  },
  {
   "cell_type": "markdown",
   "id": "20595ab7-c8e3-4bc4-986d-b7e53e1bac4f",
   "metadata": {},
   "source": [
    "It seems a version problem and I tried to search for a container that would go over this issue "
   ]
  },
  {
   "cell_type": "markdown",
   "id": "c8fd8f97-cb2d-4f6a-9136-fc6cbfe9be5c",
   "metadata": {},
   "source": [
    "### I found this statgen/Anmol/py2ldsc_latest.sif and I decided to try because I thought could have the right version of python"
   ]
  },
  {
   "cell_type": "code",
   "execution_count": null,
   "id": "43afa679-5015-45c0-97cd-24300a7abef7",
   "metadata": {},
   "outputs": [],
   "source": [
    "module load Singularity/3.5.3\n",
    "sos run /mnt/mfs/hgrcgrid/homes/fr2540/xqtl-pipeline/pipeline/polyfun.ipynb \\\n",
    "    munged_sumstats\\\n",
    "      --sumstats /mnt/mfs/hgrcgrid/homes/fr2540/projects/tinnitus/output_regenie_test_all_casegroup3/tinnitus_group3_17940cases_128931controls_related_unrelated_tinnitus_3.txt\\\n",
    "      --container /mnt/mfs/statgen/Anmol/py2ldsc_latest.sif\\\n",
    "      -c /mnt/mfs/hgrcgrid/homes/fr2540/xqtl-pipeline/code/csg.yml\\\n",
    "      -q csg -s force -s build \\\n",
    "      &> /mnt/mfs/hgrcgrid/homes/fr2540/projects/tinnitus/LDSC/ldsc_test_tinnitus_all_group3/ldsc_test_tinnitus_all_group3.log"
   ]
  },
  {
   "cell_type": "raw",
   "id": "3950dcae-dd92-44b2-9f45-ac9e59dba5ae",
   "metadata": {},
   "source": [
    "Traceback (most recent call last):\n",
    "  File \"/mnt/mfs/statgen/Anmol/polyfun//munge_polyfun_sumstats.py\", line 8, in <module>\n",
    "    from polyfun_utils import check_package_versions, configure_logger\n",
    "  File \"/mnt/vast/hpc/csg/Anmol/polyfun/polyfun_utils.py\", line 6, in <module>\n",
    "    from tqdm import tqdm\n",
    "ImportError: No module named tqdm"
   ]
  },
  {
   "cell_type": "markdown",
   "id": "3e303d79-e578-4a28-8870-1c8e620c436c",
   "metadata": {},
   "source": [
    "### Then I tried changing the polyfun.def file simply adding the line: \n",
    "python -m pip install numpy==1.23"
   ]
  },
  {
   "cell_type": "markdown",
   "id": "5e476864-33f0-446b-9d8b-65b6ffe4f674",
   "metadata": {},
   "source": [
    "### Then I built a new container called test_fr.sif:"
   ]
  },
  {
   "cell_type": "raw",
   "id": "72f409c5-4a8d-4a40-8755-5fadaa06ce95",
   "metadata": {},
   "source": [
    "singularity build --fakeroot test_fr.sif polyfun.def"
   ]
  },
  {
   "cell_type": "code",
   "execution_count": null,
   "id": "32dfaf7b-1bd2-477f-8d61-fe693868fa95",
   "metadata": {},
   "outputs": [],
   "source": [
    "module load Singularity/3.5.3\n",
    "sos run /mnt/mfs/hgrcgrid/homes/fr2540/xqtl-pipeline/pipeline/polyfun.ipynb \\\n",
    "    munged_sumstats\\\n",
    "      --sumstats /mnt/mfs/hgrcgrid/homes/fr2540/projects/tinnitus/output_regenie_test_all_casegroup3/tinnitus_group3_17940cases_128931controls_related_unrelated_tinnitus_3.txt\\\n",
    "      --container /mnt/mfs/statgen/containers/test_fr.sif\\\n",
    "      -c /mnt/mfs/hgrcgrid/homes/fr2540/xqtl-pipeline/code/csg.yml\\\n",
    "      -q csg -s force -s build \\\n",
    "      &> /mnt/mfs/hgrcgrid/homes/fr2540/projects/tinnitus/LDSC/ldsc_test_tinnitus_all_group3/ldsc_test_tinnitus_all_group3.log"
   ]
  },
  {
   "cell_type": "raw",
   "id": "9c2212d3-92e7-4d3b-a2d6-614db5f78cf9",
   "metadata": {},
   "source": [
    "Traceback (most recent call last):\n",
    "  File \"/usr/local/bin/munge_polyfun_sumstats.py\", line 307, in <module>\n",
    "    df_sumstats[columns_to_keep].to_parquet(args.out)\n",
    "  File \"/home/fr2540/.local/lib/python3.8/site-packages/pandas/util/_decorators.py\", line 211, in wrapper\n",
    "    return func(*args, **kwargs)\n",
    "  File \"/home/fr2540/.local/lib/python3.8/site-packages/pandas/core/frame.py\", line 2976, in to_parquet\n",
    "    return to_parquet(\n",
    "  File \"/home/fr2540/.local/lib/python3.8/site-packages/pandas/io/parquet.py\", line 430, in to_parquet\n",
    "    impl.write(\n",
    "  File \"/home/fr2540/.local/lib/python3.8/site-packages/pandas/io/parquet.py\", line 174, in write\n",
    "    table = self.api.Table.from_pandas(df, **from_pandas_kwargs)\n",
    "  File \"pyarrow/table.pxi\", line 1393, in pyarrow.lib.Table.from_pandas\n",
    "  File \"/opt/conda/lib/python3.8/site-packages/pyarrow/pandas_compat.py\", line 1027, in <module>\n",
    "    'floating': np.float,\n",
    "  File \"/home/fr2540/.local/lib/python3.8/site-packages/numpy/__init__.py\", line 284, in __getattr__\n",
    "    raise AttributeError(\"module {!r} has no attribute \"\n",
    "AttributeError: module 'numpy' has no attribute 'float'"
   ]
  },
  {
   "cell_type": "markdown",
   "id": "770ceb16-f675-480d-b6b6-553d95120b74",
   "metadata": {},
   "source": [
    "### Then I used a new .yml from https://github.com/bulik/ldsc/blob/master/environment.yml:"
   ]
  },
  {
   "cell_type": "code",
   "execution_count": null,
   "id": "62ad658b-6521-479f-b1e7-3c155cc29a15",
   "metadata": {},
   "outputs": [],
   "source": [
    "module load Singularity/3.5.3\n",
    "sos run /mnt/mfs/hgrcgrid/homes/fr2540/xqtl-pipeline/pipeline/polyfun.ipynb \\\n",
    "    munged_sumstats\\\n",
    "      --sumstats /mnt/mfs/hgrcgrid/homes/fr2540/projects/tinnitus/output_regenie_test_all_casegroup3/tinnitus_group3_17940cases_128931controls_related_unrelated_tinnitus_3.txt\\\n",
    "      --container /mnt/mfs/statgen/containers/test_fr.sif\\\n",
    "      -c /mnt/mfs/hgrcgrid/homes/fr2540/xqtl-pipeline/code/environment.yml\\\n",
    "      -q csg -s force -s build \\\n",
    "      &> /mnt/mfs/hgrcgrid/homes/fr2540/projects/tinnitus/LDSC/ldsc_test_tinnitus_all_group3/ldsc_test_tinnitus_all_group3.log"
   ]
  },
  {
   "cell_type": "markdown",
   "id": "d5212022-3591-4480-b838-725f89ff0481",
   "metadata": {},
   "source": [
    "I got this error"
   ]
  },
  {
   "cell_type": "raw",
   "id": "37ab4804-7f5a-40b1-9e15-4b14d73834ac",
   "metadata": {},
   "source": [
    "Failed to connect to csg"
   ]
  },
  {
   "cell_type": "markdown",
   "id": "325716e4-4f62-4d46-9066-615d340b48d6",
   "metadata": {},
   "source": [
    "### and then I remove the -q csg part "
   ]
  },
  {
   "cell_type": "code",
   "execution_count": null,
   "id": "344c9b8d-be1b-4b3c-9013-5411a6344929",
   "metadata": {},
   "outputs": [],
   "source": [
    "module load Singularity/3.5.3\n",
    "sos run /mnt/mfs/hgrcgrid/homes/fr2540/xqtl-pipeline/pipeline/polyfun.ipynb \\\n",
    "    munged_sumstats\\\n",
    "      --sumstats /mnt/mfs/hgrcgrid/homes/fr2540/projects/tinnitus/output_regenie_test_all_casegroup3/tinnitus_group3_17940cases_128931controls_related_unrelated_tinnitus_3.txt\\\n",
    "      --container /mnt/mfs/statgen/containers/test_fr.sif\\\n",
    "      -c /mnt/mfs/hgrcgrid/homes/fr2540/xqtl-pipeline/code/environment.yml\\\n",
    "      -s force -s build \\\n",
    "      &> /mnt/mfs/hgrcgrid/homes/fr2540/projects/tinnitus/LDSC/ldsc_test_tinnitus_all_group3/ldsc_test_tinnitus_all_group3.logb"
   ]
  },
  {
   "cell_type": "markdown",
   "id": "faea101a-6fde-4133-aaf1-9e8b27ef8026",
   "metadata": {},
   "source": [
    "I got this error"
   ]
  },
  {
   "cell_type": "raw",
   "id": "7f83d5fa-4946-4248-bfb9-b7bce1eb4ef0",
   "metadata": {},
   "source": [
    "“Traceback (most recent call last):\n",
    "  File \"/usr/local/bin/munge_polyfun_sumstats.py\", line 307, in <module>\n",
    "    df_sumstats[columns_to_keep].to_parquet(args.out)\n",
    "  File \"/home/fr2540/.local/lib/python3.8/site-packages/pandas/util/_decorators.py\", line 211, in wrapper\n",
    "    return func(*args, **kwargs)\n",
    "  File \"/home/fr2540/.local/lib/python3.8/site-packages/pandas/core/frame.py\", line 2976, in to_parquet\n",
    "    return to_parquet(\n",
    "  File \"/home/fr2540/.local/lib/python3.8/site-packages/pandas/io/parquet.py\", line 430, in to_parquet\n",
    "    impl.write(\n",
    "  File \"/home/fr2540/.local/lib/python3.8/site-packages/pandas/io/parquet.py\", line 174, in write\n",
    "    table = self.api.Table.from_pandas(df, **from_pandas_kwargs)\n",
    "  File \"pyarrow/table.pxi\", line 1393, in pyarrow.lib.Table.from_pandas\n",
    "  File \"/opt/conda/lib/python3.8/site-packages/pyarrow/pandas_compat.py\", line 1027, in <module>\n",
    "    'floating': np.float,\n",
    "  File \"/home/fr2540/.local/lib/python3.8/site-packages/numpy/__init__.py\", line 284, in _getattr\n",
    "    raise AttributeError(\"module {!r} has no attribute \"\n",
    "AttributeError: module 'numpy' has no attribute 'float'_”"
   ]
  },
  {
   "cell_type": "markdown",
   "id": "e76c9937-2ef6-470e-ba51-b5d954905de5",
   "metadata": {},
   "source": [
    "### I changed the container"
   ]
  },
  {
   "cell_type": "code",
   "execution_count": null,
   "id": "0b3b75ae-a04b-4e19-ab16-00c31f583dc5",
   "metadata": {},
   "outputs": [],
   "source": [
    "module load Singularity/3.5.3\n",
    "sos run /mnt/mfs/hgrcgrid/homes/fr2540/xqtl-pipeline/pipeline/polyfun.ipynb \\\n",
    "    munged_sumstats\\\n",
    "      --sumstats /mnt/mfs/hgrcgrid/homes/fr2540/projects/tinnitus/output_regenie_test_all_casegroup3/tinnitus_group3_17940cases_128931controls_related_unrelated_tinnitus_3.txt\\\n",
    "      --container /mnt/mfs/statgen/containers/polyfun.sif\\\n",
    "      -c /mnt/mfs/hgrcgrid/homes/fr2540/xqtl-pipeline/code/environment.yml\\\n",
    "      -s force -s build \\\n",
    "      &> /mnt/mfs/hgrcgrid/homes/fr2540/projects/tinnitus/LDSC/ldsc_test_tinnitus_all_group3/ldsc_test_tinnitus_all_group3.logb"
   ]
  },
  {
   "cell_type": "markdown",
   "id": "14151c46-eb35-4f89-ab8f-ec5d09081898",
   "metadata": {},
   "source": [
    "I got this error"
   ]
  },
  {
   "cell_type": "raw",
   "id": "4f1a9e3e-e34f-4c67-b15b-ec6309724357",
   "metadata": {},
   "source": [
    "/opt/conda/lib/python3.8/site-packages/scipy/__init__.py:146: UserWarning: A NumPy version >=1.16.5 and <1.23.0 is required for this version of SciPy (detected version 1.24.1\n",
    "  warnings.warn(f\"A NumPy version >={np_minversion} and <{np_maxversion}\"\n",
    "/usr/local/bin/munge_polyfun_sumstats.py:24: FutureWarning: In the future `np.bool` will be defined as the corresponding NumPy scalar.  (This may have returned Python scalars in past versions.\n",
    "  is_relevant_col = np.zeros(df.shape[1], dtype=np.bool)\n",
    "Traceback (most recent call last):\n",
    "  File \"/usr/local/bin/munge_polyfun_sumstats.py\", line 251, in <module>\n",
    "    df_sumstats = rename_df_columns(df_sumstats)\n",
    "  File \"/usr/local/bin/munge_polyfun_sumstats.py\", line 39, in rename_df_columns\n",
    "    chr_column = find_df_column(df_sumstats, ['CHR', 'CHROMOSOME', 'CHROM'])\n",
    "  File \"/usr/local/bin/munge_polyfun_sumstats.py\", line 24, in find_df_column\n",
    "    is_relevant_col = np.zeros(df.shape[1], dtype=np.bool)\n",
    "  File \"/home/fr2540/.local/lib/python3.8/site-packages/numpy/__init__.py\", line 284, in __getattr__\n",
    "    raise AttributeError(\"module {!r} has no attribute \"\n",
    "AttributeError: module 'numpy' has no attribute 'bool'"
   ]
  },
  {
   "cell_type": "markdown",
   "id": "a31acd43-9e35-4a55-9f45-b247c291dcb8",
   "metadata": {},
   "source": [
    "I checked the scipy version that is compatible with the numpy version required "
   ]
  },
  {
   "cell_type": "markdown",
   "id": "96a8887e-14b8-4bb5-9d86-46832ee9c041",
   "metadata": {},
   "source": [
    "### I changed the environment.yml with scipy==1.2 and then scipy==1.4 based on https://docs.scipy.org/doc/scipy/dev/toolchain.html \n",
    "I used the same code as before and I got the same error as 1.2.7"
   ]
  },
  {
   "cell_type": "markdown",
   "id": "24efa452-da16-4e9c-bdcc-688c9d5ab654",
   "metadata": {},
   "source": [
    "## Update on March 6th \n",
    "After the meeting with Gao, I realized the big error was changing the yml file, while I needed to rebuild the container based on the \"dependencies\" the yml file was telling me. So, basically the yml file tells you what you need for that job.\n",
    "\n",
    "The environment.yml for LDSC gives us the version of Numpy or Scipy we need to use, so we decide to build a new container based on the dependencies required from enviroment.yml"
   ]
  },
  {
   "cell_type": "markdown",
   "id": "5bdc2948-3aa8-4966-98ab-830cbfe06f66",
   "metadata": {},
   "source": [
    "### build a new container starting from polyfun.def adding two lines about numpy and scipy versions"
   ]
  },
  {
   "cell_type": "code",
   "execution_count": null,
   "id": "c5223062-7afc-4f74-8e66-997f2045ccd0",
   "metadata": {},
   "outputs": [],
   "source": [
    "Bootstrap: docker\n",
    "From: gaow/base-notebook\n",
    "\n",
    "\n",
    "%labels\n",
    "maintainer=\"Amanda Tsai<at3535@cumc.columbia.edu>\"\n",
    "%post\n",
    "cd /tmp\n",
    "su -  root # USER root\n",
    "R -e \"remotes::install_github('stephenslab/susieR',build_vignettes=FALSE)\"\n",
    "R -e \"install.packages('Ckmeans.1d.dp', dependencies=TRUE, repos='http://cran.rstudio.com/')\"\n",
    "R -e \"install.packages('KRIS', dependencies=TRUE, repos='http://cran.rstudio.com/')\"\n",
    "apt-get update \\\n",
    "&& apt install -y --no-install-recommends  git-all  libboost-all-dev\n",
    "git clone https://github.com/omerwe/polyfun\n",
    "mv ./polyfun/* /usr/local/bin/\n",
    "wget http://www.christianbenner.com/finemap_v1.4_x86_64.tgz\n",
    "tar xvf finemap_v1.4_x86_64.tgz\n",
    "mv ./finemap_v1.4_x86_64/finemap_v1.4_x86_64 /usr/local/bin/\n",
    "wget http://www.christianbenner.com/ldstore_v2.0_x86_64.tgz\n",
    "tar xzvf ldstore_v2.0_x86_64.tgz\n",
    "mv ./ldstore_v2.0_x86_64/ldstore_v2.0_x86_64 /usr/local/bin/\n",
    "python -m pip install -U pip\n",
    "python -m pip install numpy==1.22\n",
    "python -m pip install scipy==1.7\n",
    "pip install pandas-plink networkx scipy bitarray rpy2 sklearn\n",
    "chmod 777 /usr/local/bin/*\n",
    "echo \"cd /tmp\" >> /entrypoint.sh\n",
    "echo \"exec /bin/bash \"$@\"\" >> /entrypoint.sh\n",
    "chmod u+x /entrypoint.sh\n",
    "%runscript\n",
    "exec /bin/bash /bin/bash /entrypoint.sh \"$@\"\n",
    "%startscript\n",
    "exec /bin/bash /bin/bash /entrypoint.sh \"$@\""
   ]
  },
  {
   "cell_type": "code",
   "execution_count": null,
   "id": "7f9af3ad-b2e5-4eac-948e-535810ab7623",
   "metadata": {},
   "outputs": [],
   "source": [
    "singularity build --fakeroot test_fr.sif polyfun.def"
   ]
  },
  {
   "cell_type": "markdown",
   "id": "0f03337c-475e-482b-a863-df69688ce99a",
   "metadata": {},
   "source": [
    "### but I got this error "
   ]
  },
  {
   "cell_type": "code",
   "execution_count": null,
   "id": "a83ef7df-bb3a-4120-90cc-3551ee190b9d",
   "metadata": {},
   "outputs": [],
   "source": [
    "Install git for emacs\n",
    "Setting up git-el (1:2.25.1-1ubuntu3.10) ...\n",
    "Install git for emacs\n",
    "Install git for emacs\n",
    "Setting up emacs (1:26.3+1-1ubuntu2) ...\n",
    "Setting up git-all (1:2.25.1-1ubuntu3.10) ...\n",
    "+ git clone https://github.com/omerwe/polyfun\n",
    "fatal: destination path 'polyfun' already exists and is not an empty directory.\n",
    "FATAL:   While performing build: while running engine: exit status 128"
   ]
  },
  {
   "cell_type": "markdown",
   "id": "628e6b11-9c08-425d-93a5-2ba1757501de",
   "metadata": {},
   "source": [
    "since I cannot see any other polyfun folder neither .git file I asked Jose, and he suggest me to add these two lines to avoid the problem:"
   ]
  },
  {
   "cell_type": "raw",
   "id": "54d5e4e0-b18d-4912-b948-2c6d41bf6ae0",
   "metadata": {},
   "source": [
    "git clone https://github.com/omerwe/polyfun /usr/local/polyfun_test\n",
    "mv /usr/local/polyfun_test/* /usr/local/bin/"
   ]
  },
  {
   "cell_type": "markdown",
   "id": "1c82675a-db81-4131-ad63-8d1687ed997d",
   "metadata": {},
   "source": [
    "those two lines make me pass the error but not complete the build"
   ]
  },
  {
   "cell_type": "markdown",
   "id": "20720ebf-5585-4647-96b8-2a7d7aee239a",
   "metadata": {},
   "source": [
    "### I got this other error"
   ]
  },
  {
   "cell_type": "raw",
   "id": "5e004f50-f621-467a-80c7-cf333558f2db",
   "metadata": {},
   "source": [
    "+ tar xvf finemap_v1.4_x86_64.tgz\n",
    "finemap_v1.4_x86_64/\n",
    "finemap_v1.4_x86_64/example/\n",
    "tar: finemap_v1.4_x86_64/example: Cannot mkdir: Permission denied\n",
    "finemap_v1.4_x86_64/example/data.k\n",
    "tar: finemap_v1.4_x86_64/example/data.k: Cannot open: Permission denied\n",
    "finemap_v1.4_x86_64/example/data.ld\n",
    "tar: finemap_v1.4_x86_64/example/data.ld: Cannot open: Permission denied\n",
    "finemap_v1.4_x86_64/example/data.z\n",
    "tar: finemap_v1.4_x86_64/example/data.z: Cannot open: Permission denied\n",
    "finemap_v1.4_x86_64/example/master\n",
    "tar: finemap_v1.4_x86_64/example/master: Cannot open: Permission denied\n",
    "finemap_v1.4_x86_64/finemap_v1.4_x86_64\n",
    "tar: finemap_v1.4_x86_64/finemap_v1.4_x86_64: Cannot open: Permission denied\n",
    "finemap_v1.4_x86_64/LICENSE\n",
    "tar: finemap_v1.4_x86_64/LICENSE: Cannot open: Permission denied\n",
    "tar: finemap_v1.4_x86_64: Cannot utime: Operation not permitted\n",
    "tar: finemap_v1.4_x86_64: Cannot change ownership to uid 0, gid 999: Operation not permitted\n",
    "tar: Exiting with failure status due to previous errors\n",
    "FATAL:   While performing build: while running engine: exit status 2"
   ]
  },
  {
   "cell_type": "markdown",
   "id": "18bb7dcb-cf1d-403e-9eac-badeb617ab64",
   "metadata": {},
   "source": [
    "Jose successfully built the container with the Admin Account but he thought that the --fakeroot option would address that"
   ]
  },
  {
   "cell_type": "markdown",
   "id": "d3adaf0b-941d-4bd1-a9d5-d3d2875442ff",
   "metadata": {},
   "source": [
    "He suggested me the to add an option to the \"tar\" command but again:"
   ]
  },
  {
   "cell_type": "raw",
   "id": "5e7d0d95-3c00-401b-a0fa-89b6c278eca4",
   "metadata": {},
   "source": [
    "tar xvf /home/fr2540/xqtl-pipeline/container/singularity/finemap_v1.4_x86_6.tgz --no-same-owner\n",
    "mv /home/fr2540/xqtl-pipeline/container/singularity/finemap_v1.4_x86_64 /usr/local/bin/"
   ]
  },
  {
   "cell_type": "markdown",
   "id": "4939ad5a-d022-481c-a4c0-f69493cc773b",
   "metadata": {},
   "source": [
    "again same error. "
   ]
  },
  {
   "cell_type": "markdown",
   "id": "a24a2dc4-d5ff-4ff3-949a-cf98f55d7c12",
   "metadata": {},
   "source": [
    "### container from docker image "
   ]
  },
  {
   "cell_type": "markdown",
   "id": "3944fcd3-ac31-4f29-ae0e-dd5ac4a68331",
   "metadata": {},
   "source": [
    "Diana suggested me as alternative to create the container through the docker image, then push the container through singularity and then build the container with singularity build option."
   ]
  },
  {
   "cell_type": "markdown",
   "id": "4962a4a5-855a-4003-a6d1-955e87e9dabf",
   "metadata": {},
   "source": [
    "we edit the docker image with the two lines added above as in the .def file and then:"
   ]
  },
  {
   "cell_type": "code",
   "execution_count": null,
   "id": "4a13da23-a974-422f-afc0-e13d16803a97",
   "metadata": {},
   "outputs": [],
   "source": [
    "docker build -t docker://statisticalgenetics/polyfun -f polyfun_0308.dockerfile"
   ]
  },
  {
   "cell_type": "code",
   "execution_count": null,
   "id": "7a2c83a0-f625-4756-b21c-909b8abafc50",
   "metadata": {},
   "outputs": [],
   "source": [
    "docker push docker://statisticalgenetics/polyfun"
   ]
  },
  {
   "cell_type": "code",
   "execution_count": null,
   "id": "0c57fab4-713d-4cb4-953e-87a684b09a7f",
   "metadata": {},
   "outputs": [],
   "source": [
    "module load Singularity/3.9.4\n",
    "export http_proxy=http://menloproxy.cumc.columbia.edu:6060\n",
    "export https_proxy=http://menloproxy.cumc.columbia.edu:6060\n",
    "singularity build polyfun.sif docker://statisticalgenetics/polyfun"
   ]
  },
  {
   "cell_type": "markdown",
   "id": "5fc4fb84-d792-4946-9c9f-2bf1c2515114",
   "metadata": {},
   "source": [
    "and after that the container was successfully built "
   ]
  },
  {
   "cell_type": "markdown",
   "id": "b81c6e21-6f2e-4a45-a344-0eec7930a851",
   "metadata": {},
   "source": [
    "## I tried to run the munged summ stats again"
   ]
  },
  {
   "cell_type": "code",
   "execution_count": null,
   "id": "c72e7ed5-73ca-4ce4-ab48-8ed063e20bfa",
   "metadata": {},
   "outputs": [],
   "source": [
    "#!/bin/sh\n",
    "#$ -l h_rt=23:55:00\n",
    "#$ -l h_vmem=30G\n",
    "#$ -N LDSC_test\n",
    "#$ -o /mnt/mfs/hgrcgrid/homes/fr2540/projects/tinnitus/LDSC/ldsc_test_tinnitus_all_group3/ldsc_test_tinnitus_all_group3$JOBID.out\n",
    "#$ -e /mnt/mfs/hgrcgrid/homes/fr2540/projects/tinnitus/LDSC/ldsc_test_tinnitus_all_group3/ldsc_test_tinnitus_all_group3$JOBID.err\n",
    "#$ -j y\n",
    "#$ -q csg.q\n",
    "#$ -S /bin/bash\n",
    "\n",
    "export PATH=$HOME/miniconda3/bin:$PATH\n",
    "\n",
    "module load Singularity/3.9.4\n",
    "sos run /mnt/mfs/hgrcgrid/homes/fr2540/xqtl-pipeline/pipeline/polyfun.ipynb \\\n",
    "    munged_sumstats\\\n",
    "      --sumstats /mnt/mfs/hgrcgrid/homes/fr2540/projects/tinnitus/output_regenie_test_all_casegroup3/tinnitus_group3_17940cases_128931controls_related_unrelated_tinnitus_3.txt\\\n",
    "      --container /mnt/mfs/hgrcgrid/homes/fr2540/projects/tinnitus/LDSC/polyfun.sif\\\n",
    "      -c /mnt/mfs/statgen/en2509/X_chr/bioworkflows/admin/csg.yml \\\n",
    "      -q csg -s force -s build \\\n",
    "      &> /mnt/mfs/hgrcgrid/homes/fr2540/projects/tinnitus/LDSC/ldsc_test_tinnitus_all_group3/ldsc_test_tinnitus_all_group3.log"
   ]
  },
  {
   "cell_type": "markdown",
   "id": "528d0fa5-69bf-4aac-be0f-13d8a7c60ed7",
   "metadata": {},
   "source": [
    "but I still got the error: "
   ]
  },
  {
   "cell_type": "raw",
   "id": "8490b280-e700-482c-98b8-650df8a965e8",
   "metadata": {},
   "source": [
    "/opt/conda/lib/python3.8/site-packages/scipy/__init__.py:146: UserWarning: A NumPy version >=1.16.5 and <1.23.0 is required for this version of SciPy (detected version 1.24.1\n",
    "  warnings.warn(f\"A NumPy version >={np_minversion} and <{np_maxversion}\"\n",
    "[INFO]  Reading sumstats file...\n",
    "[INFO]  Done in 199.55 seconds\n",
    "[INFO]  50629967 SNPs are in the sumstats file\n",
    "[INFO]  Removing 16276922 SNPs with INFO<0.60\n",
    "[INFO]  Removing 40818961 SNPs with MAF<0.01\n",
    "[INFO]  Removing 133225 HLA SNPs\n",
    "[INFO]  9649331 SNPs with sumstats remained after all filtering stages\n",
    "[INFO]  Saving munged sumstats of 9649331 SNPs to /mnt/mfs/hgrcgrid/homes/fr2540/demo.sumstats_munged.parquet\n",
    "Traceback (most recent call last):\n",
    "  File \"/usr/local/bin//munge_polyfun_sumstats.py\", line 307, in <module>\n",
    "    df_sumstats[columns_to_keep].to_parquet(args.out)\n",
    "  File \"/home/fr2540/.local/lib/python3.8/site-packages/pandas/util/_decorators.py\", line 211, in wrapper\n",
    "    return func(*args, **kwargs)\n",
    "  File \"/home/fr2540/.local/lib/python3.8/site-packages/pandas/core/frame.py\", line 2976, in to_parquet\n",
    "    return to_parquet(\n",
    "  File \"/home/fr2540/.local/lib/python3.8/site-packages/pandas/io/parquet.py\", line 430, in to_parquet\n",
    "    impl.write(\n",
    "  File \"/home/fr2540/.local/lib/python3.8/site-packages/pandas/io/parquet.py\", line 174, in write\n",
    "    table = self.api.Table.from_pandas(df, **from_pandas_kwargs)\n",
    "  File \"pyarrow/table.pxi\", line 1393, in pyarrow.lib.Table.from_pandas\n",
    "  File \"/opt/conda/lib/python3.8/site-packages/pyarrow/pandas_compat.py\", line 1027, in <module>\n",
    "    'floating': np.float,\n",
    "  File \"/home/fr2540/.local/lib/python3.8/site-packages/numpy/__init__.py\", line 284, in __getattr__\n",
    "    raise AttributeError(\"module {!r} has no attribute \"\n",
    "AttributeError: module 'numpy' has no attribute 'float'"
   ]
  },
  {
   "cell_type": "markdown",
   "id": "94399107-4038-466a-b89e-60eb12428e28",
   "metadata": {},
   "source": [
    "### possible error in the docker image"
   ]
  },
  {
   "cell_type": "code",
   "execution_count": null,
   "id": "94bac1c3-4eb7-450c-ab20-4670ad23a37e",
   "metadata": {},
   "outputs": [],
   "source": [
    "FROM gaow/base-notebook\n",
    "LABEL maintainer=\"Amanda Tsai<at3535@cumc.columbia.edu>\"\n",
    "RUN cd /tmp\n",
    "USER root\n",
    "RUN R -e \"remotes::install_github('stephenslab/susieR',build_vignettes=FALSE)\"\n",
    "RUN R -e \"install.packages('Ckmeans.1d.dp', dependencies=TRUE, repos='http://cran.rstudio.com/')\"\n",
    "RUN R -e \"install.packages('KRIS', dependencies=TRUE, repos='http://cran.rstudio.com/')\"\n",
    "RUN apt-get update \\\n",
    "&& apt install -y --no-install-recommends  git-all  libboost-all-dev\n",
    "RUN git clone https://github.com/omerwe/polyfun\n",
    "RUN mv ./polyfun/* /usr/local/bin/\n",
    "RUN wget http://www.christianbenner.com/finemap_v1.4_x86_64.tgz\n",
    "RUN tar xvf finemap_v1.4_x86_64.tgz\n",
    "RUN mv ./finemap_v1.4_x86_64/finemap_v1.4_x86_64 /usr/local/bin/\n",
    "RUN wget http://www.christianbenner.com/ldstore_v2.0_x86_64.tgz\n",
    "RUN tar xzvf ldstore_v2.0_x86_64.tgz\n",
    "RUN mv ./ldstore_v2.0_x86_64/ldstore_v2.0_x86_64 /usr/local/bin/\n",
    "RUN python -m pip install -U pip\n",
    "RUN python -m pip install numpy==1.22\n",
    "RUN python -m pip install scipy==1.7\n",
    "RUN pip install pandas-plink networkx scipy bitarray rpy2 sklearn\n",
    "RUN chmod 777 /usr/local/bin/*\n",
    "RUN echo \"cd /tmp\" >> /entrypoint.sh\n",
    "RUN echo \"exec /bin/bash \"$@\"\" >> /entrypoint.sh\n",
    "RUN chmod u+x /entrypoint.sh\n",
    "CMD /bin/bash /entrypoint.sh"
   ]
  },
  {
   "cell_type": "markdown",
   "id": "9611356c-7b1e-450e-a97c-de61439f0999",
   "metadata": {},
   "source": [
    "Since \"RUN pip install pandas-plink networkx scipy bitarray rpy2 sklearn\" comes after \"RUN python -m pip install numpy==1.22\" and \"RUN python -m pip install scipy==1.7\", I edited the image like this:"
   ]
  },
  {
   "cell_type": "code",
   "execution_count": null,
   "id": "701eca3f-cddf-44f5-b93f-d57955110196",
   "metadata": {},
   "outputs": [],
   "source": [
    "FROM gaow/base-notebook\n",
    "LABEL maintainer=\"Amanda Tsai<at3535@cumc.columbia.edu>\"\n",
    "RUN cd /tmp\n",
    "USER root\n",
    "RUN R -e \"remotes::install_github('stephenslab/susieR',build_vignettes=FALSE)\"\n",
    "RUN R -e \"install.packages('Ckmeans.1d.dp', dependencies=TRUE, repos='http://cran.rstudio.com/')\"\n",
    "RUN R -e \"install.packages('KRIS', dependencies=TRUE, repos='http://cran.rstudio.com/')\"\n",
    "RUN apt-get update \\\n",
    "&& apt install -y --no-install-recommends  git-all  libboost-all-dev\n",
    "RUN git clone https://github.com/omerwe/polyfun\n",
    "RUN mv ./polyfun/* /usr/local/bin/\n",
    "RUN wget http://www.christianbenner.com/finemap_v1.4_x86_64.tgz\n",
    "RUN tar xvf finemap_v1.4_x86_64.tgz\n",
    "RUN mv ./finemap_v1.4_x86_64/finemap_v1.4_x86_64 /usr/local/bin/\n",
    "RUN wget http://www.christianbenner.com/ldstore_v2.0_x86_64.tgz\n",
    "RUN tar xzvf ldstore_v2.0_x86_64.tgz\n",
    "RUN mv ./ldstore_v2.0_x86_64/ldstore_v2.0_x86_64 /usr/local/bin/\n",
    "RUN python -m pip install -U pip\n",
    "RUN pip install pandas-plink networkx scipy==1.7 numpy==1.22 bitarray rpy2 sklearn\n",
    "RUN chmod 777 /usr/local/bin/*\n",
    "RUN echo \"cd /tmp\" >> /entrypoint.sh\n",
    "RUN echo \"exec /bin/bash \"$@\"\" >> /entrypoint.sh\n",
    "RUN chmod u+x /entrypoint.sh\n",
    "CMD /bin/bash /entrypoint.sh"
   ]
  },
  {
   "cell_type": "markdown",
   "id": "2b54b8a7-aa03-41ab-a23d-4a6e3bc21e38",
   "metadata": {},
   "source": [
    "Diana runned the same command as above resulting in polyfun1.0, I tried using that:"
   ]
  },
  {
   "cell_type": "code",
   "execution_count": null,
   "id": "907f39bb-a7a2-476d-add8-3471c4fe5b2c",
   "metadata": {},
   "outputs": [],
   "source": [
    "#!/bin/sh\n",
    "#$ -l h_rt=23:55:00\n",
    "#$ -l h_vmem=30G\n",
    "#$ -N LDSC_test\n",
    "#$ -o /mnt/mfs/hgrcgrid/homes/fr2540/projects/tinnitus/LDSC/ldsc_test_tinnitus_all_group3/ldsc_test_tinnitus_all_group3$JOBID.out\n",
    "#$ -e /mnt/mfs/hgrcgrid/homes/fr2540/projects/tinnitus/LDSC/ldsc_test_tinnitus_all_group3/ldsc_test_tinnitus_all_group3$JOBID.err\n",
    "#$ -j y\n",
    "#$ -q csg.q\n",
    "#$ -S /bin/bash\n",
    "\n",
    "export PATH=$HOME/miniconda3/bin:$PATH\n",
    "\n",
    "module load Singularity/3.9.4\n",
    "sos run /mnt/mfs/hgrcgrid/homes/fr2540/xqtl-pipeline/pipeline/polyfun.ipynb \\\n",
    "    munged_sumstats\\\n",
    "      --sumstats /mnt/mfs/hgrcgrid/homes/fr2540/projects/tinnitus/output_regenie_test_all_casegroup3/tinnitus_group3_17940cases_128931controls_related_unrelated_tinnitus_3.txt\\\n",
    "      --container /mnt/mfs/hgrcgrid/homes/fr2540/projects/tinnitus/LDSC/polyfun1.0\\\n",
    "      -c /mnt/mfs/statgen/en2509/X_chr/bioworkflows/admin/csg.yml \\\n",
    "      -q csg -s force -s build \\\n",
    "      &> /mnt/mfs/hgrcgrid/homes/fr2540/projects/tinnitus/LDSC/ldsc_test_tinnitus_all_group3/ldsc_test_tinnitus_all_group3.log"
   ]
  },
  {
   "cell_type": "markdown",
   "id": "c49f55d3-3959-446f-bfd1-9d68bf009faf",
   "metadata": {},
   "source": [
    "ending with this error:"
   ]
  },
  {
   "cell_type": "raw",
   "id": "1d5fafcf-87f1-4e64-959f-d4906e00fd4e",
   "metadata": {},
   "source": [
    "Invalid directive: SyntaxError('EOL while scanning string literal', ('<string>', 1, 89, 'def func(container = \"/mnt/mfs/hgrcgrid/homes/fr2540/projects/tinnitus/LDSC/polyfun1.0\\\\\"\\n'))\u001b[0m"
   ]
  },
  {
   "cell_type": "markdown",
   "id": "bdb9aaa3-6059-44a2-abfc-7d27f6217483",
   "metadata": {},
   "source": [
    "## I think it could be a problem of extension, I may ask Diana to rerun the building with the right extension"
   ]
  },
  {
   "cell_type": "code",
   "execution_count": null,
   "id": "70f6c674-324a-4106-8b04-e8a5b018b6b2",
   "metadata": {},
   "outputs": [],
   "source": []
  }
 ],
 "metadata": {
  "kernelspec": {
   "display_name": "Python 3 (ipykernel)",
   "language": "python",
   "name": "python3"
  },
  "language_info": {
   "codemirror_mode": {
    "name": "ipython",
    "version": 3
   },
   "file_extension": ".py",
   "mimetype": "text/x-python",
   "name": "python",
   "nbconvert_exporter": "python",
   "pygments_lexer": "ipython3",
   "version": "3.9.12"
  },
  "toc-autonumbering": true
 },
 "nbformat": 4,
 "nbformat_minor": 5
}
