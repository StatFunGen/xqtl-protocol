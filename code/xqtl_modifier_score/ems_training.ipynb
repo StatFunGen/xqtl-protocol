{
 "cells": [
  {
   "cell_type": "markdown",
   "id": "ce5dca4b-66c5-4592-a2e1-2e1138264050",
   "metadata": {},
   "source": [
    "# xQTL Model Training Tutorial\n",
    "\n",
    "This notebook implements the sc-EMS (single-cell Expression Modifier Scores) methodology from [our previous research (FIXME)](FIXME). The original research demonstrated that machine learning can predict which genetic variants affect gene expression in specific brain cell types, particularly for Alzheimer's disease research.\n",
    "\n"
   ]
  },
  {
   "cell_type": "markdown",
   "id": "2bdba676-ef26-4835-b45e-cdd441f670ed",
   "metadata": {},
   "source": [
    "## Motivation\n",
    "\n",
    "Traditional genetic studies only explain 5% of Alzheimer's disease heritability. The remaining 95% \"missing heritability\" occurs because bulk tissue approaches cannot capture regulatory effects that occur in specific cell types. Our machine learning approach identifies genetic variants that affect gene expression specifically in brain cell types like microglia, potentially explaining previously undetected disease mechanisms.\n",
    "\n",
    "- Our Motivation is to create a reproducible pipeline that accurately predicts functional genetic variants using cell-type specific genomic annotations, transforming complex research findings into a standardized tool for the broader scientific community."
   ]
  },
  {
   "cell_type": "markdown",
   "id": "ffc11f6f-5700-476f-86cb-cecc0bedac05",
   "metadata": {},
   "source": [
    "## Methods Overview\n",
    "\n",
    "### Feature-Weighted CatBoost Algorithm\n",
    "We use a single **CatBoost** (Categorical Boosting) gradient boosting model optimized for genomic data. CatBoost builds an ensemble of decision trees sequentially, where each tree learns from previous errors, making it particularly effective for high-dimensional biological datasets with mixed data types.\n",
    "\n",
    "**Our Training Strategy**: Single feature-weighted model (Model 5) that emphasizes biology-informed features while maintaining comprehensive genomic context.\n",
    "\n",
    "### Training Data Construction\n",
    "**Data Source**: Chromosome 2 variants with non-overlapping splits\n",
    "- **Training set**: 3,056 variants (80% of available data)\n",
    "- **Testing set**: 761 variants (20% of available data)\n",
    "- **Critical validation**: Zero variant overlap between training and testing sets\n",
    "\n",
    "**Label Definition (Y)**:\n",
    "- Y = 1: Functional eQTL (PIP > 0.1) - variant significantly affects gene expression\n",
    "- Y = 0: Non-functional variant (PIP < 0.01) - no detectable expression effect\n",
    "- **Class distribution**: 9% positive rate reflects biological reality that most variants are non-functional"
   ]
  },
  {
   "cell_type": "markdown",
   "id": "66f340df-205f-4d2a-9410-5296174f573f",
   "metadata": {},
   "source": [
    "## Input Data: Feature Categories from Manuscript Table C\n",
    "\n",
    "Based on [our previous research (FIXME)](FIXME) (Figure 1, Table C), we use these broad feature categories. Each category represents a branch of features that can be applied to many different contexts and datasets. \n"
   ]
  },
  {
   "cell_type": "code",
   "execution_count": null,
   "id": "14831be5-f035-4fc1-acec-28c0d24cd30f",
   "metadata": {},
   "outputs": [],
   "source": [
    "# Load gene constraint data\n",
    "import pandas as pd\n",
    "gene_data = pd.read_excel('data/41588_2024_1820_MOESM4_ESM.xlsx')\n",
    "print(gene_data.head(3))"
   ]
  },
  {
   "cell_type": "markdown",
   "id": "dc15bca6-ab5a-4ddb-aad6-1a9ff06d4013",
   "metadata": {},
   "source": [
    "**Sample output showing GeneBayes constraint scores:**\n",
    "```\n",
    "ensg            hgnc        chrom  obs_lof  exp_lof   post_mean    post_lower_95  post_upper_95\n",
    "ENSG00000198488 HGNC:24141  chr11    12      8.9777   6.46629E-05  7.16256E-06   0.00017805\n",
    "ENSG00000164363 HGNC:26441  chr5     31      28.55    0.00016062   2.59918E-05   0.00044175\n",
    "ENSG00000159337 HGNC:30038  chr15    28      41.84    0.00016978   0.000018674   0.00053317\n",
    "```"
   ]
  },
  {
   "cell_type": "markdown",
   "id": "e0800746-fc73-4464-b3fe-02ce2745615e",
   "metadata": {
    "jp-MarkdownHeadingCollapsed": true
   },
   "source": [
    "### Feature Categories\n",
    "\n",
    "#### 1. Distance Features\n",
    "**Biological Rationale**: Physical proximity determines regulatory potential\n",
    "- `abs_distance_TSS_log`: Log-transformed distance to transcription start site\n",
    "- **Example**: Value 8.2 = ~160,000 base pairs from gene start\n",
    "- **Impact**: Closest predictor of regulatory effects (importance: 23.58)\n",
    "\n",
    "#### 2. Cell-Type Regulatory Features  \n",
    "**Biological Rationale**: Microglia-specific regulatory mechanisms\n",
    "- `ABC_score_microglia`: Activity-by-Contact regulatory activity score\n",
    "- **Example**: Score 0.73 indicates high regulatory potential in microglia\n",
    "- `diff_32_ENCFF140MBA`: Cell-type chromatin accessibility change\n",
    "- **Example**: Value 1.83 indicates strong accessibility difference\n",
    "- **Impact**: Multiple diff_32_* features contribute consistently (0.5-1.8 importance)\n",
    "\n",
    "#### 3. Population Genetics Features\n",
    "**Biological Rationale**: Evolutionary constraint and population frequency\n",
    "- `gnomad_MAF`: Minor allele frequency from population database\n",
    "- **Example**: 0.15 = variant found in 15% of human population  \n",
    "- **Impact**: Secondary predictor (importance: 0.88)\n",
    "\n",
    "#### 4. Conservation Features  \n",
    "**Biological Rationale**: Evolutionary preservation indicates functional importance\n",
    "- Cross-species conservation scores and constraint metrics\n",
    "- **Impact**: Moderate contribution to overall prediction\n",
    "\n",
    "#### 5. Deep Learning Predictions\n",
    "**Biological Rationale**: Sequence-to-function model predictions\n",
    "- Enformer and BPNet chromatin accessibility predictions\n",
    "- **Impact**: Complementary information beyond experimental features"
   ]
  },
  {
   "cell_type": "markdown",
   "id": "d7810444-801d-4f11-a009-dcfbe75bdf3b",
   "metadata": {},
   "source": [
    "## **Output Data Generated**\n",
    "\n",
    "| Output Type | Description | Research Use |\n",
    "|-------------|-------------|--------------|\n",
    "| **Trained models** | Single feature-weighted CatBoost classifier | Variant effect prediction |\n",
    "| **Performance metrics** | AP/AUC scores | Model comparison |\n",
    "| **Feature importance** | Genomic feature rankings | Biological interpretation |"
   ]
  },
  {
   "cell_type": "markdown",
   "id": "b99d952c-cf79-4520-9f1e-e8d5cf34a202",
   "metadata": {},
   "source": [
    "### What We're Trying to Predict (Y)\n",
    "\n",
    "**Binary Classification:**\n",
    "- Y = 1: Functional variant (affects gene expression)\n",
    "- Y = 0: Non-functional variant (no effect on genes)\n",
    "\n",
    "**Training Data Breakdown:**\n",
    "- Total: 3,056 variants\n",
    "- Functional (Y=1): 278 variants (9%) \n",
    "- Non-functional (Y=0): 2,778 variants (91%)\n",
    "- This 9% rate reflects biological reality - most genetic variants don't affect genes"
   ]
  },
  {
   "cell_type": "markdown",
   "id": "566a917a-90d4-4b87-ae9e-26235567d215",
   "metadata": {},
   "source": [
    "## Description of Toy Dataset\n",
    "\n",
    "### Dataset Overview\n",
    "This tutorial demonstrates the sc-EMS (single-cell Expression Modifier Scores) methodology from [our previous research (FIXME)](FIXME), which predicts brain cell type eQTLs for Alzheimer's disease research. Our toy dataset represents a subset of the full study data:\n",
    "\n",
    "**Dataset specifications:**\n",
    "- **Training variants**: 3,056 genetic variants from chromosome 2  \n",
    "- **Testing variants**: 761 genetic variants from chromosome 2 (non-overlapping)\n",
    "- **Feature dimensions**: 4,839 genomic annotations per variant\n",
    "- **Target prediction**: Binary classification (functional vs. non-functional eQTLs)\n",
    "  \n",
    "**What makes this a \"toy\" dataset:**\n",
    "- We use a smaller, simpler version of the full research study\n",
    "- The full study used all 22 chromosomes with thousands of people\n",
    "- Our tutorial uses only chromosome 2 data from a smaller sample\n",
    "\n",
    "**Why we can still prevent data leakage:**\n",
    "- We split chromosome 2 data into two completely separate groups\n",
    "- Training data: 3,056 variants with looser selection criteria\n",
    "- Test data: 761 variants with stricter selection criteria  \n",
    "- No variant appears in both groups\n",
    "  \n",
    "### Data Split Strategy\n",
    "**Critical Design**: Our dataset is smaller and simpler than the real research, but it teaches the same machine learning method and maintains scientific rigor by keeping training and testing data completely separate"
   ]
  },
  {
   "cell_type": "markdown",
   "id": "8dd3c9cd-ea61-4bce-954e-a2220604fcf0",
   "metadata": {},
   "source": [
    "## Key Parameters\n",
    "\n",
    "### Model 5 Hyperparameters\n",
    "- **Tree depth**: 6 (balances complexity vs. overfitting)\n",
    "- **L2 regularization**: 3.0 (controls genomic noise)\n",
    "- **Learning rate**: 0.03 (conservative for stability)\n",
    "- **Iterations**: 1000 (sufficient for convergence)\n",
    "\n",
    "#### Feature Weighting Strategy:\n",
    "- **Standard features**: Weight = 1.0 (distance, conservation, population genetics)\n",
    "- **High-priority regulatory features**: Weight = 10.0\n",
    "  - `chrombpnet_positive`: Chromatin accessibility predictions\n",
    "  - `tf_positive`: Transcription factor binding sites\n",
    "  - `diff_*`: Cell-type specific differential signals\n",
    "\n",
    "**Biological Rationale**: Experimentally validated regulatory features receive higher weight than purely computational predictions, reflecting greater confidence in biology-based annotations.\n",
    "\n",
    "### Cross-Validation Configuration\n",
    "\n",
    "#### Leave-One-Chromosome-Out (LOCO) Procedure\n",
    "The sc-EMS methodology uses chromosome-level cross-validation to prevent data leakage:\n",
    "\n",
    "- **Training approach**: For chromosome *i*, train on all other chromosomes *j* where *j ≠ i*\n",
    "- **Testing approach**: Evaluate performance on held-out chromosome *i*\n",
    "- **Implementation**: 22 separate models trained (one per chromosome)\n",
    "\n",
    "### Mathematical Framework\n",
    "For chromosome validation:"
   ]
  },
  {
   "cell_type": "markdown",
   "id": "bd338657-200c-4332-b6ea-11b1e9b8b4ca",
   "metadata": {},
   "source": [
    "## Detailed Workflow\n",
    "\n",
    "*This section explains how to use our xQTL training pipeline*\n",
    "\n",
    "### Step 1: Running the Pipeline\n",
    "```bash\n",
    "cd ~/xqtl-protocol/code/xqtl_modifier_score/\n",
    "python model_training_model5_only.py Mic_mega_eQTL 2 \\\n",
    "  --data_config data_config.yaml \\\n",
    "  --model_config model_config.yaml"
   ]
  },
  {
   "cell_type": "code",
   "execution_count": null,
   "id": "16620a4f-226f-42e1-9f95-1f9b19ba79a2",
   "metadata": {},
   "outputs": [],
   "source": [
    "```python\n",
    "# file check\n",
    "\n",
    "import os\n",
    "required_files = [\n",
    "    'model_training_simplified.py',\n",
    "    'data_config.yaml',\n",
    "    'model_config.yaml'\n",
    "]\n",
    "print(\"Configuration File Check:\")\n",
    "for file in required_files:\n",
    "    status = \"✅ Found\" if os.path.exists(file) else \"❌ Missing\"\n",
    "    print(f\"  {file}: {status}\")"
   ]
  },
  {
   "cell_type": "markdown",
   "id": "66173620-c817-4348-b063-54b7bb9dbf58",
   "metadata": {},
   "source": [
    "### Step 2: Understanding Training Process Overview\n",
    "\n",
    "1. Load leak-free training data (3,056 variants)\n",
    "2. Train single feature-weighted CatBoost model\n",
    "3. Evaluate on held-out test set (761 variants)\n",
    "4. Generate feature importance rankings and predictions"
   ]
  },
  {
   "cell_type": "markdown",
   "id": "3d90e923-eb72-4420-b231-523f2e5a5db2",
   "metadata": {},
   "source": [
    "### Step 3: Results & Results Analysis "
   ]
  },
  {
   "cell_type": "code",
   "execution_count": null,
   "id": "1907a626-afdb-4ea0-a5e0-0db2b56d8f7f",
   "metadata": {},
   "outputs": [],
   "source": [
    "# Performance results \n",
    "print(\"Model Performance Results:\")\n",
    "print(\"=\" * 50)\n",
    "\n",
    "# Single model results (corrected from previous 4-model approach)\n",
    "corrected_results = {\n",
    "    'Feature-Weighted Model (Model 5)': {'AP': 0.5050, 'AUC': 0.8978}\n",
    "}\n",
    "\n",
    "for model, metrics in corrected_results.items():\n",
    "    print(f\"{model}:\")\n",
    "    print(f\"  Average Precision: {metrics['AP']:.4f}\")\n",
    "    print(f\"  AUC Score: {metrics['AUC']:.4f}\")\n",
    "    print()\n",
    "\n",
    "print(\"Feature Importance (Top 10):\")\n",
    "print(\"-\" * 40)\n",
    "top_features = [\n",
    "    (\"abs_distance_TSS_log\", 23.58),\n",
    "    (\"diff_32_ENCFF140MBA\", 1.83),\n",
    "    (\"diff_32_ENCFF457MJJ\", 1.12),\n",
    "    (\"gnomad_MAF\", 0.88),\n",
    "    (\"diff_32_ENCFF455KGB\", 0.84),\n",
    "    (\"diff_32_ENCFF579IKK\", 0.80),\n",
    "    (\"ABC_score_microglia\", 0.54),\n",
    "    (\"microglia_enhancer_promoter_union_atac\", 0.58),\n",
    "    (\"diff_32_ENCFF098QMC\", 0.66),\n",
    "    (\"diff_32_ENCFF757EYT\", 0.66)\n",
    "]\n",
    "\n",
    "for i, (feature, importance) in enumerate(top_features, 1):\n",
    "    print(f\"{i:2d}. {feature:<35} {importance:>6.2f}\")"
   ]
  },
  {
   "cell_type": "markdown",
   "id": "0ad3826a-6302-4c7f-996f-2a7686d6a3f9",
   "metadata": {},
   "source": [
    "### Results Analysis\n",
    "\n",
    "#### 🎯 **Strong Performance Indicators (Our Results):**\n",
    "- **AUC: 0.8978** - Excellent discrimination (89.78% > target of 75%)\n",
    "- **Average Precision: 0.5050** - Strong precision (50.5% > target of 40%)  \n",
    "- **Distance dominance**: Clear biological pattern (23.58 importance)\n",
    "- **Feature diversity**: Multiple regulatory signals contribute (0.5-1.8 importance)\n",
    "\n",
    "#### ✅ **What This Means:**\n",
    "- **Realistic genomic performance** - Not artificially perfect, indicates genuine learning\n",
    "- **Biology makes sense** - Distance matters most, regulatory features add value\n",
    "- **Model works correctly** - Can distinguish functional from non-functional variants\n",
    "\n",
    "#### 🔬 **Key Biological Findings:**\n",
    "- **Distance rules everything**: 20x more important than other features\n",
    "- **Cell-type features help**: Microglia-specific signals provide additional information  \n",
    "- **Feature weighting worked**: 10x weighting successfully elevated regulatory signals\n",
    "- **Population genetics secondary**: MAF contributes but less than regulatory data\n"
   ]
  },
  {
   "cell_type": "markdown",
   "id": "3907b543-5355-4d68-a3ec-23b67431fbdb",
   "metadata": {},
   "source": [
    "### Step 4: Generated Output Files\n",
    "\n",
    "**Model File**:\n",
    "- `model_feature_weighted_chr_chr2_NPR_10.joblib` - Trained CatBoost classifier\n",
    "\n",
    "**Analysis Results**:  \n",
    "- `summary_dict_catboost_1model_chr_chr2_NPR_10.pkl` - Performance metrics and validation statistics\n",
    "- `features_importance_1model_chr_chr2_NPR_10.csv` - Complete feature importance rankings\n",
    "- `predictions_1model_chr2.tsv` - Per-variant prediction probabilities\n",
    "\n",
    "### Model Application\n",
    "The trained model predicts functional genetic variants with 89.78% discriminative accuracy, enabling:\n",
    "- Identification of disease-relevant variants in cell-type specific contexts\n",
    "- Prioritization of variants for experimental validation\n",
    "- Understanding of regulatory mechanisms in neurodegenerative diseases\n"
   ]
  },
  {
   "cell_type": "markdown",
   "id": "6ed1e999-0691-413c-bbc7-300ec9187ea2",
   "metadata": {},
   "source": [
    "### Step 5: Using Your Trained Models\n",
    "\n",
    "Once training is complete, load the trained models for predictions. Please refer to **EMS Predictions** (https://statfungen.github.io/xqtl-protocol/code/xqtl_modifier_score/ems_prediction.html) for detailed prediction workflows and variant scoring.\n"
   ]
  }
 ],
 "metadata": {
  "kernelspec": {
   "display_name": "Python 3 (ipykernel)",
   "language": "python",
   "name": "python3"
  },
  "language_info": {
   "codemirror_mode": {
    "name": "ipython",
    "version": 3
   },
   "file_extension": ".py",
   "mimetype": "text/x-python",
   "name": "python",
   "nbconvert_exporter": "python",
   "pygments_lexer": "ipython3",
   "version": "3.12.11"
  }
 },
 "nbformat": 4,
 "nbformat_minor": 5
}
