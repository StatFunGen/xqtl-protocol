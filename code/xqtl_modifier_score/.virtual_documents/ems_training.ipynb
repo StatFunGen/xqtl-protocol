











# Load gene constraint data
import pandas as pd
gene_data = pd.read_excel('data/41588_2024_1820_MOESM4_ESM.xlsx')
print(gene_data.head(3))























```python
# file check

import os
required_files = [
    'model_training_simplified.py',
    'data_config.yaml',
    'model_config.yaml'
]
print("Configuration File Check:")
for file in required_files:
    status = "✅ Found" if os.path.exists(file) else "❌ Missing"
    print(f"  {file}: {status}")








# Performance results 
print("Model Performance Results:")
print("=" * 50)

# Single model results (corrected from previous 4-model approach)
corrected_results = {
    'Feature-Weighted Model (Model 5)': {'AP': 0.5050, 'AUC': 0.8978}
}

for model, metrics in corrected_results.items():
    print(f"{model}:")
    print(f"  Average Precision: {metrics['AP']:.4f}")
    print(f"  AUC Score: {metrics['AUC']:.4f}")
    print()

print("Feature Importance (Top 10):")
print("-" * 40)
top_features = [
    ("abs_distance_TSS_log", 23.58),
    ("diff_32_ENCFF140MBA", 1.83),
    ("diff_32_ENCFF457MJJ", 1.12),
    ("gnomad_MAF", 0.88),
    ("diff_32_ENCFF455KGB", 0.84),
    ("diff_32_ENCFF579IKK", 0.80),
    ("ABC_score_microglia", 0.54),
    ("microglia_enhancer_promoter_union_atac", 0.58),
    ("diff_32_ENCFF098QMC", 0.66),
    ("diff_32_ENCFF757EYT", 0.66)
]

for i, (feature, importance) in enumerate(top_features, 1):
    print(f"{i:2d}. {feature:<35} {importance:>6.2f}")









