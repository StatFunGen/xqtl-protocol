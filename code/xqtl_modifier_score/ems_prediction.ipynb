{
 "cells": [
  {
   "cell_type": "markdown",
   "id": "a1b2c3d4-e5f6-7890-1234-567890abcdef",
   "metadata": {},
   "source": [
    "# EMS Prediction: Score Your Variants\n",
    "\n",
    "**Use this notebook to score YOUR own genetic variants for functional impact.** Simply provide your variant list and get back functional scores to prioritize variants for follow-up studies.\n",
    "\n",
    "## What You Get\n",
    "- **Input**: Your variant list (any format: VCF, TSV, CSV)\n",
    "- **Output**: Same variants + EMS functional scores (0-1 scale) \n",
    "- **Result**: Ranked list of variants by likelihood to affect gene expression"
   ]
  },
  {
   "cell_type": "markdown",
   "id": "b1c2d3e4-f5a6-7890-1234-567890abcdef",
   "metadata": {},
   "source": [
    "## Quick Start Guide\n",
    "\n",
    "**All you need:**\n",
    "1. Your variant list (see format below)\n",
    "2. Run this notebook \n",
    "3. Get scored variants ready for your research\n",
    "\n",
    "**Variant format examples:**\n",
    "```\n",
    "variant_id\n",
    "2:12345:A:T\n",
    "2:67890:G:C\n",
    "```\n",
    "OR from VCF: convert to chr:pos:ref:alt format\n",
    "\n",
    "**No genomics expertise required** - the model handles all technical details automatically."
   ]
  },
  {
   "cell_type": "markdown",
   "id": "c1d2e3f4-a5b6-7890-1234-567890abcdef",
   "metadata": {},
   "source": [
    "## Step 1: Setup (Run Once)\n",
    "\n",
    "*The model is pre-trained and ready to use - no training required on your end.*"
   ]
  },
  {
   "cell_type": "code",
   "execution_count": null,
   "id": "d1e2f3g4-h5i6-7890-1234-567890abcdef",
   "metadata": {},
   "outputs": [],
   "source": [
    "import pandas as pd\n",
    "import numpy as np\n",
    "import joblib\n",
    "import pickle\n",
    "import yaml\n",
    "import warnings\n",
    "warnings.filterwarnings('ignore')\n",
    "\n",
    "# Configure paths - CHANGE THESE for your setup\n",
    "MODEL_PATH = \"model_standard_subset_weighted_chr_chr2_NPR_10.joblib\"  # Update this path\n",
    "CONFIG_PATH = \"data_config.yaml\"  # Update this path\n",
    "\n",
    "# Load trained model\n",
    "print(\"Loading trained CatBoost model...\")\n",
    "trained_model = joblib.load(MODEL_PATH)\n",
    "print(f\"✅ Model loaded: {trained_model.__class__.__name__}\")\n",
    "print(f\"Features required: {trained_model.feature_count_}\")"
   ]
  },
  {
   "cell_type": "markdown",
   "id": "e1f2g3h4-i5j6-7890-1234-567890abcdef",
   "metadata": {},
   "source": [
    "## Step 2: Model Object Preview\n",
    "\n",
    "Quick inspection of the trained model object to understand its key properties."
   ]
  },
  {
   "cell_type": "code",
   "execution_count": null,
   "id": "preview-model-object",
   "metadata": {},
   "outputs": [],
   "source": [
    "# Model object summary\n",
    "print(\"🔍 TRAINED MODEL OBJECT PREVIEW\")\n",
    "print(\"=\" * 40)\n",
    "print(f\"Model type: {type(trained_model).__name__}\")\n",
    "print(f\"Feature count: {trained_model.feature_count_}\")\n",
    "print(f\"Classes: {trained_model.classes_}\")\n",
    "print(f\"Tree count: {trained_model.tree_count_}\")\n",
    "print(f\"Learning rate: {getattr(trained_model, 'learning_rate_', 'N/A')}\")\n",
    "\n",
    "# Top 5 most important features (quick preview)\n",
    "feature_names = trained_model.feature_names_\n",
    "feature_importances = trained_model.feature_importances_\n",
    "top_features = sorted(zip(feature_names, feature_importances), key=lambda x: x[1], reverse=True)[:5]\n",
    "\n",
    "print(f\"\\nTop 5 features:\")\n",
    "for i, (feature, importance) in enumerate(top_features, 1):\n",
    "    print(f\"  {i}. {feature[:25]:<25} {importance:.3f}\")\n",
    "\n",
    "print(f\"\\nModel ready for prediction on {len(feature_names)} features\")\n",
    "print(\"For training details, see: EMS Training Tutorial\")"
   ]
  },
  {
   "cell_type": "markdown",
   "id": "f1g2h3i4-j5k6-7890-1234-567890abcdef",
   "metadata": {},
   "source": [
    "## Step 3: Load YOUR Variant List\n",
    "\n",
    "**Replace the toy example below with your own variant data.**\n",
    "\n",
    "**Supported formats:**\n",
    "- TSV/CSV with variant_id column\n",
    "- VCF files (convert to chr:pos:ref:alt format first)\n",
    "- Any delimiter (comma, tab, space)"
   ]
  },
  {
   "cell_type": "code",
   "execution_count": null,
   "id": "g1h2i3j4-k5l6-7890-1234-567890abcdef",
   "metadata": {},
   "outputs": [],
   "source": [
    "# Option 1: Use toy example (for testing)\n",
    "toy_variants = pd.DataFrame({\n",
    "    'variant_id': [\n",
    "        '2:12345:A:T',\n",
    "        '2:67890:G:C', \n",
    "        '2:11111:T:A',\n",
    "        '2:22222:C:G',\n",
    "        '2:33333:A:G'\n",
    "    ]\n",
    "})\n",
    "\n",
    "print(\"Toy example variants:\")\n",
    "print(toy_variants)\n",
    "\n",
    "# Use toy variants for demonstration\n",
    "user_variants = toy_variants.copy()"
   ]
  },
  {
   "cell_type": "code",
   "execution_count": null,
   "id": "h1i2j3k4-l5m6-7890-1234-567890abcdef",
   "metadata": {},
   "outputs": [],
   "source": [
    "# REPLACE THIS with your own variant file\n",
    "# YOUR_VARIANT_FILE = \"my_variants.tsv\"  # <-- Put your file path here\n",
    "# user_variants = pd.read_csv(YOUR_VARIANT_FILE, sep='\\t')\n",
    "# print(f\"✅ Loaded {len(user_variants)} of YOUR variants\")\n",
    "\n",
    "# For now, using toy example (DELETE when using your data)\n",
    "user_variants = toy_variants.copy()\n",
    "print(\"Using toy example - replace with your data above ⬆️\")\n",
    "print(f\"🎯 Ready to score {len(user_variants)} variants\")"
   ]
  },
  {
   "cell_type": "markdown",
   "id": "i1j2k3l4-m5n6-7890-1234-567890abcdef",
   "metadata": {},
   "source": [
    "## Step 4: Automatic Feature Processing\n",
    "\n",
    "*The model automatically handles all genomic annotations - no manual work required.*"
   ]
  },
  {
   "cell_type": "code",
   "execution_count": null,
   "id": "j1k2l3m4-n5o6-7890-1234-567890abcdef",
   "metadata": {},
   "outputs": [],
   "source": [
    "def create_variant_features(df):\n",
    "    \"\"\"Create basic variant features from variant_id\"\"\"\n",
    "    df = df.copy()\n",
    "    \n",
    "    # Parse variant_id: chr:pos:ref:alt\n",
    "    df[['chr','pos','ref','alt']] = df['variant_id'].str.split(':', expand=True)\n",
    "    \n",
    "    # Calculate variant type features\n",
    "    df['length_diff'] = df['ref'].str.len() - df['alt'].str.len()\n",
    "    df['is_SNP'] = (df['length_diff'] == 0).astype(int)\n",
    "    df['is_indel'] = (df['length_diff'] != 0).astype(int)\n",
    "    df['is_insertion'] = (df['length_diff'] > 0).astype(int)\n",
    "    df['is_deletion'] = (df['length_diff'] < 0).astype(int)\n",
    "    \n",
    "    # Add placeholder genomic annotations (use training medians)\n",
    "    df['gene_lof'] = -10.0  # Gene constraint score\n",
    "    df['gnomad_MAF'] = 0.1  # Population allele frequency\n",
    "    \n",
    "    # Clean up\n",
    "    df = df.drop(columns=['chr','pos','ref','alt'])\n",
    "    \n",
    "    return df\n",
    "\n",
    "# Create features\n",
    "processed_variants = create_variant_features(user_variants)\n",
    "print(\"🔄 Processing your variants automatically...\")\n",
    "print(f\"Features added: {list(processed_variants.columns[1:])}\")"
   ]
  },
  {
   "cell_type": "code",
   "execution_count": null,
   "id": "k1l2m3n4-o5p6-7890-1234-567890abcdef",
   "metadata": {},
   "outputs": [],
   "source": [
    "def prepare_prediction_matrix(df, model):\n",
    "    \"\"\"Prepare full feature matrix for model prediction\"\"\"\n",
    "    \n",
    "    # Get required features from trained model\n",
    "    required_features = model.feature_names_\n",
    "    \n",
    "    # Create prediction dataframe with all required features\n",
    "    prediction_df = df.copy()\n",
    "    \n",
    "    # Add missing features with training-informed defaults\n",
    "    for feature in required_features:\n",
    "        if feature not in prediction_df.columns:\n",
    "            if 'distance' in feature.lower() and 'log' in feature.lower():\n",
    "                prediction_df[feature] = 8.5  # Median log distance from training\n",
    "            elif 'abc_score' in feature.lower():\n",
    "                prediction_df[feature] = 0.05  # Median ABC score\n",
    "            elif 'diff' in feature.lower():\n",
    "                prediction_df[feature] = 0.0  # Differential signals\n",
    "            else:\n",
    "                prediction_df[feature] = 0.0  # Default for other features\n",
    "    \n",
    "    # Select and order features to match training\n",
    "    X = prediction_df[required_features]\n",
    "    \n",
    "    # Handle missing/invalid values\n",
    "    X = X.replace([np.inf, -np.inf], 0)\n",
    "    X = X.fillna(0)\n",
    "    \n",
    "    print(f\"✅ Ready for scoring: {X.shape[0]} variants, {X.shape[1]} features\")\n",
    "    print(f\"Note: {len(required_features) - len(df.columns) + 1} features imputed with training defaults\")\n",
    "    \n",
    "    return X\n",
    "\n",
    "# Prepare prediction matrix\n",
    "X_prediction = prepare_prediction_matrix(processed_variants, trained_model)"
   ]
  },
  {
   "cell_type": "markdown",
   "id": "l1m2n3o4-p5q6-7890-1234-567890abcdef",
   "metadata": {},
   "source": [
    "## Step 5: Get Your Scores! \n",
    "\n",
    "**This is where the magic happens** - your variants get scored for functional impact."
   ]
  },
  {
   "cell_type": "code",
   "execution_count": null,
   "id": "m1n2o3p4-q5r6-7890-1234-567890abcdef",
   "metadata": {},
   "outputs": [],
   "source": [
    "# Generate predictions\n",
    "print(\"Generating EMS scores...\")\n",
    "\n",
    "# Get probability scores (0-1) and binary predictions\n",
    "ems_scores = trained_model.predict_proba(X_prediction)[:, 1]\n",
    "binary_predictions = trained_model.predict(X_prediction)\n",
    "\n",
    "# Add results to original dataframe\n",
    "results_df = user_variants.copy()\n",
    "results_df['ems_score'] = ems_scores.round(4)\n",
    "results_df['predicted_functional'] = binary_predictions\n",
    "\n",
    "# Add confidence categories\n",
    "results_df['confidence'] = pd.cut(ems_scores, \n",
    "                                 bins=[0, 0.3, 0.7, 1.0], \n",
    "                                 labels=['Low', 'Medium', 'High'])\n",
    "\n",
    "print(f\"🎉 SUCCESS! Scored {len(results_df)} variants\")\n",
    "print(\"\\nResults preview:\")\n",
    "print(results_df.to_string(index=False))"
   ]
  },
  {
   "cell_type": "markdown",
   "id": "n1o2p3q4-r5s6-7890-1234-567890abcdef",
   "metadata": {},
   "source": [
    "## Step 6: Understand Your Results\n",
    "\n",
    "### What the scores mean:\n",
    "- **Score 0.8-1.0**: 🔥 High priority - likely functional, investigate first\n",
    "- **Score 0.5-0.8**: 📋 Medium priority - worth exploring  \n",
    "- **Score 0.0-0.5**: 📝 Lower priority - likely neutral\n",
    "\n",
    "### What to do next:\n",
    "- **High scorers**: Design experiments, check literature, validate in lab\n",
    "- **Medium scorers**: Look for supporting evidence, combine with other data\n",
    "- **Low scorers**: Likely safe to deprioritize unless other evidence suggests otherwise"
   ]
  },
  {
   "cell_type": "code",
   "execution_count": null,
   "id": "o1p2q3r4-s5t6-7890-1234-567890abcdef",
   "metadata": {},
   "outputs": [],
   "source": [
    "# Summary statistics\n",
    "print(\"📊 PREDICTION SUMMARY\")\n",
    "print(\"=\" * 30)\n",
    "print(f\"Total variants: {len(results_df)}\")\n",
    "print(f\"Predicted functional: {sum(results_df['predicted_functional'])}\")\n",
    "print(f\"Average EMS score: {results_df['ems_score'].mean():.3f}\")\n",
    "print(f\"Score range: {results_df['ems_score'].min():.3f} - {results_df['ems_score'].max():.3f}\")\n",
    "\n",
    "print(\"\\nConfidence distribution:\")\n",
    "print(results_df['confidence'].value_counts())\n",
    "\n",
    "# Highlight top variants\n",
    "if results_df['ems_score'].max() > 0.5:\n",
    "    top_variants = results_df.nlargest(3, 'ems_score')[['variant_id', 'ems_score']]\n",
    "    print(\"\\n🎯 Top-scoring variants:\")\n",
    "    for _, row in top_variants.iterrows():\n",
    "        print(f\"   {row['variant_id']}: {row['ems_score']:.4f}\")"
   ]
  },
  {
   "cell_type": "markdown",
   "id": "p1q2r3s4-t5u6-7890-1234-567890abcdef",
   "metadata": {},
   "source": [
    "## Step 7: Save Your Results\n",
    "\n",
    "**Your scored variants are ready to use in your research!**"
   ]
  },
  {
   "cell_type": "code",
   "execution_count": null,
   "id": "q1r2s3t4-u5v6-7890-1234-567890abcdef",
   "metadata": {},
   "outputs": [],
   "source": [
    "# Save ALL your results\n",
    "output_file = \"MY_scored_variants.tsv\"  # Rename as needed\n",
    "results_df.to_csv(output_file, sep='\\t', index=False)\n",
    "\n",
    "print(f\"💾 All results saved: {output_file}\")\n",
    "print(f\"\\nOutput columns:\")\n",
    "for col in results_df.columns:\n",
    "    print(f\"   - {col}\")\n",
    "\n",
    "# Bonus: Save just the high-priority variants\n",
    "high_confidence = results_df[results_df['ems_score'] > 0.7]\n",
    "if len(high_confidence) > 0:\n",
    "    priority_file = \"HIGH_PRIORITY_variants.tsv\"  \n",
    "    high_confidence.to_csv(priority_file, sep='\\t', index=False)\n",
    "    print(f\"🚀 High-priority variants saved: {priority_file}\")\n",
    "    print(f\"   → {len(high_confidence)} variants need your attention first!\")\n",
    "else:\n",
    "    print(\"ℹ️  No high-priority variants found (score > 0.7)\")"
   ]
  },
  {
   "cell_type": "markdown",
   "id": "r1s2t3u4-v5w6-7890-1234-567890abcdef",
   "metadata": {},
   "source": [
    "## You're Done! 🎉\n",
    "\n",
    "### What you accomplished:\n",
    "✅ Loaded your variants  \n",
    "✅ Automatically processed genomic features  \n",
    "✅ Scored variants for functional impact  \n",
    "✅ Saved prioritized results for your research  \n",
    "\n",
    "### Next steps:\n",
    "1. **Review high-scoring variants** in your saved files\n",
    "2. **Cross-reference** with your existing data/hypotheses  \n",
    "3. **Plan experiments** for top candidates\n",
    "4. **Share results** with your team\n",
    "\n",
    "### Need help?\n",
    "- **File formats**: Try different delimiters if loading fails\n",
    "- **Many variants**: This notebook handles thousands of variants  \n",
    "- **Questions**: Refer to [EMS Training Tutorial](https://statfungen.github.io/xqtl-protocol/code/xqtl_modifier_score/ems_training.html) for technical details\n",
    "\n",
    "**Happy variant hunting! 🧬**"
   ]
  }
 ],
 "metadata": {
  "kernelspec": {
   "display_name": "Python 3 (ipykernel)",
   "language": "python",
   "name": "python3"
  },
  "language_info": {
   "codemirror_mode": {
    "name": "ipython",
    "version": 3
   },
   "file_extension": ".py",
   "mimetype": "text/x-python",
   "name": "python",
   "nbconvert_exporter": "python",
   "pygments_lexer": "ipython3",
   "version": "3.12.11"
  }
 },
 "nbformat": 4,
 "nbformat_minor": 5
}
