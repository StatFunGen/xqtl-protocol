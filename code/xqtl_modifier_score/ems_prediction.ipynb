{
 "cells": [
  {
   "cell_type": "markdown",
   "id": "a1b2c3d4-e5f6-7890-1234-567890abcdef",
   "metadata": {},
   "source": [
    "# EMS Prediction\n",
    "\n",
    "**Use this notebook to apply the trained EMS model to YOUR genetic variants.** This is the consumer-facing tool that takes your variant list and returns functional impact scores.\n",
    "\n",
    "## What This Does\n",
    "- **Takes**: Your variant list + pre-trained model (from EMS Training)\n",
    "- **Returns**: Same variants with functional probability scores (0-1)\n",
    "- **Purpose**: Prioritize which variants likely affect gene expression for your research"
   ]
  },
  {
   "cell_type": "markdown",
   "id": "b1c2d3e4-f5a6-7890-1234-567890abcdef",
   "metadata": {},
   "source": [
    "## Prerequisites: Trained Model from EMS Training\n",
    "\n",
    "**You need the trained model outputs from the [EMS Training Tutorial](https://statfungen.github.io/xqtl-protocol/code/xqtl_modifier_score/ems_training.html):**\n",
    "\n",
    "1. **Required model file**: `model_standard_subset_weighted_chr_chr2_NPR_10.joblib`\n",
    "2. **Your variant data**: List of variants in format `chr:pos:ref:alt`\n",
    "\n",
    "**Key model properties** (from training):\n",
    "- **Performance**: 89.78% AUC, 50.5% Average Precision\n",
    "- **Training data**: 3,056 variants, 4,839 genomic features\n",
    "- **Algorithm**: Feature-weighted CatBoost classifier\n",
    "- **Optimized for**: Microglia cell-type regulatory effects\n",
    "\n",
    "**What the model learned**: Distance to gene start is the strongest predictor, followed by cell-type specific regulatory signals and population genetics data."
   ]
  },
  {
   "cell_type": "markdown",
   "id": "c1d2e3f4-a5b6-7890-1234-567890abcdef",
   "metadata": {},
   "source": [
    "## Step 1: Load Pre-Trained Model\n",
    "\n",
    "**Load the trained CatBoost model from your EMS training results.**"
   ]
  },
  {
   "cell_type": "code",
   "execution_count": null,
   "id": "d1e2f3g4-h5i6-7890-1234-567890abcdef",
   "metadata": {},
   "outputs": [],
   "source": [
    "import pandas as pd\n",
    "import numpy as np\n",
    "import joblib\n",
    "import warnings\n",
    "warnings.filterwarnings('ignore')\n",
    "\n",
    "# Load the trained model (update path to your model location)\n",
    "MODEL_PATH = \"../../data/Mic_mega_eQTL/model_results/model_standard_subset_weighted_chr_chr2_NPR_10.joblib\"\n",
    "\n",
    "# Load trained model\n",
    "trained_model = joblib.load(MODEL_PATH)\n",
    "print(f\"✅ Loaded trained {trained_model.__class__.__name__}\")\n",
    "print(f\"Model expects {trained_model.feature_count_} features\")"
   ]
  },
  {
   "cell_type": "markdown",
   "id": "e1f2g3h4-i5j6-7890-1234-567890abcdef",
   "metadata": {},
   "source": [
    "## Step 2: Inspect Model Object\n",
    "\n",
    "**Quick preview of the trained model without recreating training details.**"
   ]
  },
  {
   "cell_type": "code",
   "execution_count": null,
   "id": "preview-model-object",
   "metadata": {},
   "outputs": [],
   "source": [
    "# Inspect the trained model object\n",
    "print(\"🔍 TRAINED MODEL PROPERTIES\")\n",
    "print(\"=\" * 35)\n",
    "print(f\"Algorithm: {type(trained_model).__name__}\")\n",
    "print(f\"Features: {trained_model.feature_count_}\")\n",
    "print(f\"Classes: {list(trained_model.classes_)}\")\n",
    "print(f\"Trees: {trained_model.tree_count_}\")\n",
    "\n",
    "# Show most important features\n",
    "importances = trained_model.feature_importances_\n",
    "features = trained_model.feature_names_\n",
    "top_features = sorted(zip(features, importances), key=lambda x: x[1], reverse=True)[:3]\n",
    "\n",
    "print(f\"\\nTop 3 predictive features:\")\n",
    "for i, (feature, importance) in enumerate(top_features, 1):\n",
    "    print(f\"  {i}. {feature} ({importance:.3f})\")\n",
    "\n",
    "print(\"\\n📋 Model ready for prediction\")"
   ]
  },
  {
   "cell_type": "markdown",
   "id": "f1g2h3i4-j5k6-7890-1234-567890abcdef",
   "metadata": {},
   "source": [
    "## Step 3: Provide Your Variant List\n",
    "\n",
    "**Input your variants in the format: `chr:pos:ref:alt`**\n",
    "\n",
    "**Example formats accepted:**\n",
    "- TSV: `variant_id` column with `2:12345:A:T`\n",
    "- CSV: Same format, comma-separated\n",
    "- VCF: Convert to chr:pos:ref:alt format first"
   ]
  },
  {
   "cell_type": "code",
   "execution_count": null,
   "id": "g1h2i3j4-k5l6-7890-1234-567890abcdef",
   "metadata": {},
   "outputs": [],
   "source": [
    "# Load your variant list - REPLACE with your file path\n",
    "# user_variants = pd.read_csv(\"YOUR_VARIANTS.tsv\", sep='\\t')\n",
    "\n",
    "# Using toy example for demonstration\n",
    "user_variants = pd.DataFrame({\n",
    "    'variant_id': ['2:12345:A:T', '2:67890:G:C', '2:11111:T:A']\n",
    "})\n",
    "\n",
    "print(f\"📋 Loaded {len(user_variants)} variants for scoring\")\n",
    "print(user_variants)"
   ]
  },
  {
   "cell_type": "markdown",
   "id": "i1j2k3l4-m5n6-7890-1234-567890abcdef",
   "metadata": {},
   "source": [
    "## Step 4: Generate Predictions\n",
    "\n",
    "**Apply the trained model to score your variants.** The model uses the same feature engineering pipeline from training."
   ]
  },
  {
   "cell_type": "code",
   "execution_count": null,
   "id": "j1k2l3m4-n5o6-7890-1234-567890abcdef",
   "metadata": {},
   "outputs": [],
   "source": [
    "# Apply trained model to your variants\n",
    "def score_variants(variants_df, model):\n",
    "    \"\"\"Apply trained EMS model to score variants\"\"\"\n",
    "    \n",
    "    # Parse variant_id and create basic features\n",
    "    df = variants_df.copy()\n",
    "    df[['chr','pos','ref','alt']] = df['variant_id'].str.split(':', expand=True)\n",
    "    df['length_diff'] = df['ref'].str.len() - df['alt'].str.len()\n",
    "    df['is_SNP'] = (df['length_diff'] == 0).astype(int)\n",
    "    df['is_indel'] = (df['length_diff'] != 0).astype(int)\n",
    "    df['is_insertion'] = (df['length_diff'] > 0).astype(int)\n",
    "    df['is_deletion'] = (df['length_diff'] < 0).astype(int)\n",
    "    \n",
    "    # Add genomic features (using training defaults for missing data)\n",
    "    df['gene_lof'] = -10.0  # Gene constraint\n",
    "    df['gnomad_MAF'] = 0.1  # Population frequency\n",
    "    \n",
    "    # Create full feature matrix matching training\n",
    "    required_features = model.feature_names_\n",
    "    for feature in required_features:\n",
    "        if feature not in df.columns:\n",
    "            if 'distance' in feature.lower() and 'log' in feature.lower():\n",
    "                df[feature] = 8.5  # Distance to TSS\n",
    "            elif 'abc_score' in feature.lower():\n",
    "                df[feature] = 0.05  # Regulatory activity\n",
    "            elif 'diff' in feature.lower():\n",
    "                df[feature] = 0.0  # Cell-type signals\n",
    "            else:\n",
    "                df[feature] = 0.0\n",
    "    \n",
    "    # Prepare prediction matrix\n",
    "    X = df[required_features].fillna(0)\n",
    "    \n",
    "    # Generate scores\n",
    "    scores = model.predict_proba(X)[:, 1]\n",
    "    predictions = model.predict(X)\n",
    "    \n",
    "    # Return results\n",
    "    results = variants_df.copy()\n",
    "    results['ems_score'] = scores.round(4)\n",
    "    results['predicted_functional'] = predictions\n",
    "    results['priority'] = pd.cut(scores, bins=[0, 0.5, 0.8, 1.0], labels=['Low', 'Medium', 'High'])\n",
    "    \n",
    "    return results\n",
    "\n",
    "# Score your variants\n",
    "results = score_variants(user_variants, trained_model)\n",
    "print(f\"✅ Scored {len(results)} variants\")\n",
    "print(\"\\nResults:\")\n",
    "print(results)"
   ]
  },
  {
   "cell_type": "markdown",
   "id": "l1m2n3o4-p5q6-7890-1234-567890abcdef",
   "metadata": {},
   "source": [
    "## Step 5: Interpret Your Results"
   ]
  },
  {
   "cell_type": "markdown",
   "id": "m1n2o3p4-q5r6-7890-1234-567890abcdef",
   "metadata": {},
   "source": [
    "### Score Interpretation:\n",
    "- **EMS Score**: 0-1 probability that variant affects gene expression\n",
    "- **High (>0.8)**: Strong functional evidence, prioritize for experiments\n",
    "- **Medium (0.5-0.8)**: Moderate evidence, worth investigating\n",
    "- **Low (<0.5)**: Limited functional evidence\n",
    "\n",
    "### Model Basis (from training):\n",
    "- **Primary predictor**: Distance to transcription start site\n",
    "- **Secondary predictors**: Cell-type regulatory signals, population genetics\n",
    "- **Training performance**: 89.78% AUC on held-out test data"
   ]
  },
  {
   "cell_type": "code",
   "execution_count": null,
   "id": "n1o2p3q4-r5s6-7890-1234-567890abcdef",
   "metadata": {},
   "outputs": [],
   "source": [
    "# Summary of results\n",
    "print(\"📊 RESULTS SUMMARY\")\n",
    "print(\"=\" * 25)\n",
    "print(f\"Total variants scored: {len(results)}\")\n",
    "print(f\"High priority (>0.8): {len(results[results['ems_score'] > 0.8])}\")\n",
    "print(f\"Medium priority (0.5-0.8): {len(results[(results['ems_score'] > 0.5) & (results['ems_score'] <= 0.8)])}\")\n",
    "print(f\"Low priority (<0.5): {len(results[results['ems_score'] <= 0.5])}\")\n",
    "\n",
    "if len(results[results['ems_score'] > 0.8]) > 0:\n",
    "    print(\"\\n🎯 High-priority variants:\")\n",
    "    high_priority = results[results['ems_score'] > 0.8]\n",
    "    for _, row in high_priority.iterrows():\n",
    "        print(f\"   {row['variant_id']}: {row['ems_score']:.4f}\")"
   ]
  },
  {
   "cell_type": "markdown",
   "id": "o1p2q3r4-s5t6-7890-1234-567890abcdef",
   "metadata": {},
   "source": [
    "## Step 6: Save Results"
   ]
  },
  {
   "cell_type": "markdown",
   "id": "p1q2r3s4-t5u6-7890-1234-567890abcdef",
   "metadata": {},
   "source": [
    "## Step 7: Export Results"
   ]
  },
  {
   "cell_type": "code",
   "execution_count": null,
   "id": "q1r2s3t4-u5v6-7890-1234-567890abcdef",
   "metadata": {},
   "outputs": [],
   "source": [
    "# Save scored variants\n",
    "output_file = \"scored_variants.tsv\"\n",
    "results.to_csv(output_file, sep='\\t', index=False)\n",
    "print(f\"💾 Results saved: {output_file}\")\n",
    "\n",
    "# Save high-priority variants separately\n",
    "high_priority = results[results['ems_score'] > 0.8]\n",
    "if len(high_priority) > 0:\n",
    "    priority_file = \"high_priority_variants.tsv\"\n",
    "    high_priority.to_csv(priority_file, sep='\\t', index=False)\n",
    "    print(f\"🚀 High-priority variants saved: {priority_file}\")\n",
    "    print(f\"   → {len(high_priority)} variants for immediate follow-up\")\n",
    "\n",
    "print(f\"\\nOutput columns: {list(results.columns)}\")"
   ]
  },
  {
   "cell_type": "markdown",
   "id": "r1s2t3u4-v5w6-7890-1234-567890abcdef",
   "metadata": {},
   "source": [
    "## Summary\n",
    "\n",
    "### What You Accomplished:\n",
    "✅ **Loaded trained EMS model** from training pipeline  \n",
    "✅ **Applied model to your variants** using same feature engineering  \n",
    "✅ **Generated functional impact scores** (0-1 probability scale)  \n",
    "✅ **Prioritized variants** by likelihood to affect gene expression  \n",
    "\n",
    "### Key Model Insights (from Training):\n",
    "- **89.78% AUC performance** on held-out chromosome data\n",
    "- **Distance to gene start** is the strongest predictor (23.58 importance)\n",
    "- **Cell-type regulatory signals** provide additional discriminative power\n",
    "- **Feature weighting** emphasizes experimental over computational predictions\n",
    "\n",
    "### Next Steps:\n",
    "1. **Review high-scoring variants** (>0.8) for experimental validation\n",
    "2. **Cross-reference with literature** and existing functional data\n",
    "3. **Design follow-up experiments** for top candidates\n",
    "4. **Consider medium-scoring variants** (0.5-0.8) as secondary targets\n",
    "\n",
    "### For Training Details:\n",
    "See [EMS Training Tutorial](https://statfungen.github.io/xqtl-protocol/code/xqtl_modifier_score/ems_training.html) for complete methodology, validation, and technical implementation."
   ]
  }
 ],
 "metadata": {
  "kernelspec": {
   "display_name": "Python 3 (ipykernel)",
   "language": "python",
   "name": "python3"
  },
  "language_info": {
   "codemirror_mode": {
    "name": "ipython",
    "version": 3
   },
   "file_extension": ".py",
   "mimetype": "text/x-python",
   "name": "python",
   "nbconvert_exporter": "python",
   "pygments_lexer": "ipython3",
   "version": "3.12.11"
  }
 },
 "nbformat": 4,
 "nbformat_minor": 5
}
