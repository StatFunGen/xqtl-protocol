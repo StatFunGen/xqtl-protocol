{
 "cells": [
  {
   "cell_type": "markdown",
   "id": "634398ca-d672-45eb-90b9-ebbbd5e0a27a",
   "metadata": {
    "kernel": "SoS",
    "tags": []
   },
   "source": [
    "## merge sumstats files"
   ]
  },
  {
   "cell_type": "markdown",
   "id": "67faf422-407c-4b34-9d61-db9538dbdc1c",
   "metadata": {
    "kernel": "SoS"
   },
   "source": [
    "**THIS PIPELINE COULD BE CHANGED A LOT IN THE FUTURE WOR**"
   ]
  },
  {
   "cell_type": "markdown",
   "id": "75e1308c-3ca9-4b94-83ba-82a911089ee5",
   "metadata": {
    "kernel": "SoS"
   },
   "source": [
    "So far, the format of QTL data is a bit different for different people, including but not limited to whether there are ID columns, duplicate rows, snp names with ':' or '_', which cause a lot of problem in integration analysis. Hope this would be resolved in data-reproduction. But if not, or if there are some other differences... then you should change it at that time."
   ]
  },
  {
   "cell_type": "code",
   "execution_count": null,
   "id": "26d0f1b5-e819-4ef6-95a7-90086428452e",
   "metadata": {
    "kernel": "SoS"
   },
   "outputs": [],
   "source": [
    "sos run /mnt/mfs/hgrcgrid/homes/rf2872/codes/xqtl-pipeline/pipeline/mash_processing.ipynb merge_sumstats \\\n",
    "    --cwd /home/rf2872/Work/Multivariate/MASH/From_SuSiE/2023.5_new/ep_MiGA/"
   ]
  },
  {
   "cell_type": "code",
   "execution_count": null,
   "id": "d23e8b32-24ef-4ced-80a0-f2810e8c38f6",
   "metadata": {
    "kernel": "SoS"
   },
   "outputs": [],
   "source": [
    "[merge_sumstats_1]\n",
    "parameter: cwd = path('./')\n",
    "parameter: preffix = 'ROSMAP_Pseudo_eQTL_DLPFC_pQTL_MiGA'\n",
    "parameter: suffix = 'norminal.cis_long_table.merged.vcf.gz'\n",
    "parameter: gene_ref = '/mnt/vast/hpc/csg/molecular_phenotype_calling/reference_data/Homo_sapiens.GRCh38.103.chr.reformatted.collapse_only.gene.region_list'\n",
    "parameter: n = 22\n",
    "n  = [x+1 for x in range(n)]\n",
    "input: for_each = 'n'\n",
    "output: f'{cwd:a}/prepare/{preffix}.chr{_n}.{suffix}'\n",
    "task: trunk_workers = 1, trunk_size = job_size, walltime = '24h',  mem = '40G', tags = f'{_output:bn}'  \n",
    "\n",
    "R: expand = \"${ }\",stderr = f'{_output:n}.stderr', stdout = f'{_output:n}.stdout' \n",
    "        library(data.table)\n",
    "        library(tidyverse)\n",
    "        library(magrittr)\n",
    "        gene_ref<-read.table(\"${gene_ref}\")\n",
    "        my_list <- list()\n",
    "        datasets<-list.files(str_c('${_output:d}',\"/data/\"),full.names = T)\n",
    "        for (i in 1:length(datasets)) {\n",
    "            d_path <- datasets[[i]]\n",
    "            if (basename(d_path) == \"eqtl\") {\n",
    "                raw_sum <- data.table::fread(list.files(d_path, full.names = T) %>% .[grep(str_c(\"chr\", '${_n}', \".norminal.cis_long_table\"), .)])\n",
    "                my_list[i] <- raw_sum\n",
    "            } else {\n",
    "                if (basename(d_path) == \"DLPFC_pQTL\") {\n",
    "                    raw_sum <- data.table::fread(list.files(d_path, full.names = T) %>% .[grep(str_c(\"PEER.\", '${_n}', \".norminal.cis_long_table\"), .)])\n",
    "                    new_sum <- data.table(ID = paste(stringr::str_split(raw_sum$molecular_trait_id, \"_\", simplify = T)[, 2], raw_sum$variant, sep = \":\"), DLPFC_pQTL = raw_sum[, c(6:10, 12:13)] %>% apply(., 1, function(x) paste(x, collapse = \":\")))\n",
    "                }\n",
    "                if (basename(d_path) %>% grep(\"MiGA\", .) %>% length() > 0) {\n",
    "                    raw_sum <- data.table::fread(list.files(d_path, full.names = T) %>% .[grep(str_c(\"chr\", '${_n}', \".norminal.cis_long_table\"), .)])\n",
    "                    new_sum <- data.table(ID = paste(gene_ref$V5[match(raw_sum$molecular_trait_id, gene_ref$V4)], raw_sum$variant, sep = \":\"), MiGA = raw_sum[, c(7, 8, 6, 3, 10, 4, 5)] %>% apply(., 1, function(x) paste(x, collapse = \":\")))\n",
    "                    colnames(new_sum)[2] %<>% basename(datasets[[3]])\n",
    "                }\n",
    "                my_list[i] <- new_sum[-which(duplicated(new_sum$ID)), ]\n",
    "            }\n",
    "        }\n",
    "        merged_df <- Reduce(function(x, y) merge(x, y, by = \"ID\"), my_list)\n",
    "        merged_df<-merged_df[,c('#CHROM','POS','ID','REF','ALT','QUAL','FILTER','INFO','FORMAT','ALL','Ast','End','Exc','Inh','Mic','OPC','Oli',basename( datasets)%>%.[.!=\"eqtl\"])]\n",
    "        fwrite(merged_df,'${_output}',sep = \"\\t\")"
   ]
  },
  {
   "cell_type": "code",
   "execution_count": null,
   "id": "ca9dec39-a645-4366-94cc-cb99e55940b9",
   "metadata": {
    "kernel": "Bash",
    "tags": []
   },
   "outputs": [],
   "source": [
    "[merge_sumstats_2]\n",
    "input: group = 1\n",
    "output: f'{cwd:a}/input/{preffix}.chr{_n}.{suffix}'\n",
    "task: trunk_workers = 1, trunk_size = job_size, walltime = walltime, mem = mem, cores = ncore, tags = f'{step_name}_{_output:bn}'\n",
    "bash: expand = \"$[ ]\",stderr = f'{_output:n}.stderr', stdout = f'{_output:n}.stdout' \n",
    "    cd '$[_output:d]'\n",
    "    zcat /mnt/vast/hpc/csg/snuc_pseudo_bulk/eight_celltypes_analysis/output/data_intergration/TensorQTL/ALL_Ast_End_Exc_Inh_Mic_OPC_Oli.log2cpm.bed.processed_phenotype.per_chrom_ALL_Ast_End_Exc_Inh_Mic_OPC_Oli.log2cpm.ALL_Ast_End_Exc_Inh_Mic_OPC_Oli.covariate.pca.resid.PEER.cov.chr$[_n].norminal.cis_long_table.merged.vcf.gz|head -n13 |gzip>head.$[_n].info.gz\n",
    "    zcat head.${i}.info.gz $[_input] > $[_output]\n",
    "    rm head.$[_n].info.gz"
   ]
  },
  {
   "cell_type": "code",
   "execution_count": null,
   "id": "7952292e-713d-47e9-a225-4db7835fb9c3",
   "metadata": {
    "kernel": "Bash"
   },
   "outputs": [],
   "source": []
  },
  {
   "cell_type": "code",
   "execution_count": null,
   "id": "9246533b-e376-4d30-8811-3ad040c2b231",
   "metadata": {
    "kernel": "Bash"
   },
   "outputs": [],
   "source": []
  },
  {
   "cell_type": "markdown",
   "id": "736d9beb-4955-4f09-be86-aef4a6186b57",
   "metadata": {
    "kernel": "Bash",
    "tags": []
   },
   "source": [
    "## Extract fine mapped signals"
   ]
  },
  {
   "cell_type": "code",
   "execution_count": null,
   "id": "4a212745-4fa0-4ffc-a4a8-86585ee5d9a1",
   "metadata": {
    "kernel": "Bash"
   },
   "outputs": [],
   "source": [
    "sos run /mnt/mfs/hgrcgrid/homes/rf2872/codes/CUMC_fungun_xqtl_analysis/analysis/Daily_documents/drafts/2023_6/mash_processing.ipynb fine_mapped_signals_pQTL \\\n",
    "    --cwd /home/rf2872/Work/Multivariate/MASH/From_SuSiE/2023.5_new/ep_MiGA/  \\\n",
    "    --fine_mapped_file ~/Work/MR/2023.4_MR/data/fine-mapped/pQTL/pqtl.all_variants.tsv"
   ]
  },
  {
   "cell_type": "code",
   "execution_count": null,
   "id": "4ac9f5ff-07e5-4018-9cef-7ae157b30f16",
   "metadata": {
    "kernel": "SoS",
    "tags": []
   },
   "outputs": [],
   "source": [
    "[fine_mapped_signals_pQTL]\n",
    "parameter: cwd = path('./')\n",
    "parameter: fine_mapped_file = path\n",
    "parameter: pip = '0.5'\n",
    "input: fine_mapped_file\n",
    "output: f'{cwd:a}/SuSiE_output_pQTL_signals_table'\n",
    "task: trunk_workers = 1, trunk_size = job_size, walltime = '24h',  mem = '10G', tags = f'{_output:bn}'  \n",
    "\n",
    "R: expand = \"${ }\",stderr = f'{_output:n}.stderr', stdout = f'{_output:n}.stdout' \n",
    "        library(\"stringr\")\n",
    "        #library(org.Hs.eg.db)\n",
    "        library(tidyr)\n",
    "        library(dplyr)\n",
    "        library(purrr)\n",
    "        library(tidyverse)\n",
    "        cbind.fill <- function(...){\n",
    "            nm <- list(...) \n",
    "            nm <- lapply(nm, as.matrix)\n",
    "            n <- max(sapply(nm, nrow)) \n",
    "            do.call(cbind, lapply(nm, function (x) \n",
    "                rbind(x, matrix(, n-nrow(x), ncol(x))))) \n",
    "        }\n",
    "\n",
    "        fm.pqtl<-data.table::fread(\"${_input}\")\n",
    "\n",
    "        final.snp<-c()\n",
    "        final.snp.df<-NULL\n",
    "\n",
    "            #rbind each cell file of each gene\n",
    "            datalist<-fm.pqtl\n",
    "            \n",
    "            #1. for the snps outside of cs\n",
    "            data.out<-datalist[datalist$\"cs_order\"==0,]\n",
    "            data.out.pip<-data.out[data.out$pip>as.numeric(${pip}),]\n",
    "            data.out.pip.snp<-data.out.pip$variants\n",
    "            data.out.pip.snp.df<-data.frame(gene=data.out.pip$molecular_trait_id, \n",
    "                                            con=rep(\"outside_cs\",length(data.out.pip.snp)),\n",
    "                                            signals=data.out.pip$variants,\n",
    "                                        cs_cellType=rep(\"pQTL\",length(data.out.pip.snp)),\n",
    "                                        cs_max_cellType=rep(\"pQTL\",length(data.out.pip.snp)),\n",
    "                                CSs=rep(NA,length(data.out.pip.snp)))\n",
    "            data.out.pip.snp.df[1:5,]\n",
    "\n",
    "            \n",
    "            #2. for the snps in cs\n",
    "            #reformat cs_table\n",
    "            data.in<-datalist[datalist$\"cs_order\"!=0,]\n",
    "            data.in$group<-paste0(data.in$molecular_trait_id,data.in$cs_order)\n",
    "\n",
    "            cs.max.pip.snp.df<-NULL\n",
    "            cs.max.pip.snp.df<-Reduce(function(...) rbind(...), lapply(unique(data.in$group),function(x){\n",
    "            tmp<-data.in[data.in$group==x,]\n",
    "            tmp.maxpip<-max(tmp$pip)\n",
    "            tmp.max<-tmp[tmp$pip == tmp.maxpip,]\n",
    "            tmp.max.pip<-data.frame(gene=rep(tmp.max$molecular_trait_id,nrow(tmp.max)), \n",
    "                                        con=rep(\"in_cs\",nrow(tmp.max)),\n",
    "                                        signals=tmp.max$variants,\n",
    "                                        cs_cellType=rep(\"ALL\",nrow(tmp.max)),\n",
    "                                        cs_max_cellType=rep(\"pQTL\",nrow(tmp.max)),\n",
    "                                CSs=rep(tmp.max$cs_order,nrow(tmp.max)))\n",
    "            return(tmp.max.pip)\n",
    "\n",
    "        }))\n",
    "\n",
    "\n",
    "            #final.snp<-c(data.out.pip.snp,cs.max.pip.snp)\n",
    "            final.snp.df<-rbind(data.out.pip.snp.df,cs.max.pip.snp.df)\n",
    "        final.snp.df$gene<-str_split(final.snp.df$gene,\"_\",simplify = T)[,2]\n",
    "        write.table(final.snp.df,\"${_output}\",row.names = F)"
   ]
  },
  {
   "cell_type": "markdown",
   "id": "55e15682-f360-4144-be46-1f930d064465",
   "metadata": {
    "kernel": "Bash",
    "tags": []
   },
   "source": [
    "## Extract fine mapped signals from multi QTL data\n"
   ]
  },
  {
   "cell_type": "code",
   "execution_count": null,
   "id": "a4d8bcd6-3e06-4919-b99a-b95f12305fb4",
   "metadata": {
    "kernel": "SoS",
    "tags": []
   },
   "outputs": [],
   "source": [
    "[fine_mapped_signals_multiQTL]\n",
    "parameter: cwd = path('./')\n",
    "parameter: fine_mapped_file = path\n",
    "parameter: pip = '0.5'\n",
    "input: fine_mapped_file\n",
    "output: f'{cwd:a}/SuSiE_output_pQTL_signals_table'\n",
    "task: trunk_workers = 1, trunk_size = job_size, walltime = '24h',  mem = '10G', tags = f'{_output:bn}'  \n",
    "\n",
    "R: expand = \"${ }\",stderr = f'{_output:n}.stderr', stdout = f'{_output:n}.stdout' \n",
    "     "
   ]
  }
 ],
 "metadata": {
  "kernelspec": {
   "display_name": "SoS",
   "language": "sos",
   "name": "sos"
  },
  "language_info": {
   "codemirror_mode": "sos",
   "file_extension": ".sos",
   "mimetype": "text/x-sos",
   "name": "sos",
   "nbconvert_exporter": "sos_notebook.converter.SoS_Exporter",
   "pygments_lexer": "sos"
  },
  "sos": {
   "kernels": [
    [
     "Bash",
     "bash",
     "Bash",
     "#E6EEFF",
     ""
    ],
    [
     "SoS",
     "sos",
     "",
     "",
     "sos"
    ]
   ],
   "version": "0.24.0"
  }
 },
 "nbformat": 4,
 "nbformat_minor": 5
}
