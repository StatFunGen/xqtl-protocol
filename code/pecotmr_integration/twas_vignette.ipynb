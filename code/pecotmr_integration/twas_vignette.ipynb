{
 "cells": [
  {
   "cell_type": "markdown",
   "id": "b4db4b05-3a30-4a89-a6b0-dc325fc9804c",
   "metadata": {},
   "source": [
    "# Transcriptome Wide Association Study"
   ]
  },
  {
   "cell_type": "markdown",
   "id": "c65f1f2f-e7b0-4f45-a78c-237ef31fe274",
   "metadata": {},
   "source": [
    "Transcriptome-wide association analysis (TWAS) is included as a continuation of the SuSiE-TWAS workflow. The output from TWAS is used to perform variant selection used in the causal TWAS (cTWAS) analysis. "
   ]
  },
  {
   "cell_type": "markdown",
   "id": "6c417c0d-2d9e-44c6-9673-eae8a85e5e6f",
   "metadata": {},
   "source": [
    "Input:"
   ]
  },
  {
   "cell_type": "markdown",
   "id": "70937229-3938-4303-af9d-cc68bcaf4e1c",
   "metadata": {},
   "source": [
    "`--gwas_meta_data`: a file containing study_id, chrom, file_path and column_mapping_file for GWAS information. For example:\n",
    "\n",
    "```\n",
    "study_id        chrom   file_path       column_mapping_file\n",
    "Bellenguez_2022 1       $PATH/RSS_QC_RAISS_imputed.AD_Bellenguez_2022_April9_chr1.tsv.gz        $PATH/Bellenguez.yml\n",
    "Bellenguez_2022 2       $PATH/RSS_QC_RAISS_imputed.AD_Bellenguez_2022_April9_chr2.tsv.gz        $PATH/Bellenguez.yml\n",
    "Bellenguez_2022 3       $PATH/RSS_QC_RAISS_imputed.AD_Bellenguez_2022_April9_chr3.tsv.gz        $PATH/Bellenguez.yml\n",
    "Bellenguez_2022 4       $PATH/RSS_QC_RAISS_imputed.AD_Bellenguez_2022_April9_chr4.tsv.gz        $PATH/Bellenguez.yml\n",
    "```\n",
    "\n",
    "\n",
    "\n",
    "`--ld_meta_data`: a file containing chrom, start, end, and path for linkage disequilibrium file information. For example:\n",
    "\n",
    "```#chrom  start   end     path\n",
    "chr1    101384274       104443097       chr1/chr1_101384274_104443097.cor.xz,chr1/chr1_101384274_104443097.cor.xz.bim\n",
    "chr1    104443097       106225286       chr1/chr1_104443097_106225286.cor.xz,chr1/chr1_104443097_106225286.cor.xz.bim\n",
    "chr1    106225286       109761915       chr1/chr1_106225286_109761915.cor.xz,chr1/chr1_106225286_109761915.cor.xz.bim\n",
    "```\n",
    "\n",
    "`--regions`: a file containing a list of linkage disequilibrium regions. For example:\n",
    "\n",
    "```\n",
    "chr      start   stop\n",
    "chr1     16103   2888443\n",
    "chr1     2888443         4320284\n",
    "chr1     4320284         5853833\n",
    "```\n",
    "\n",
    "`--xqtl_meta_data`: a file containing information on twas weight files. For example:\n",
    "\n",
    "```\n",
    "\"#chr\" \"region_id\" \"TSS\" \"start\" \"end\" \"contexts\" \"original_data\"\n",
    "\"chr11\" \"ENSG00000073921\" 86069881 84957175 87360000 NA \"$PATH/multi_context_ROSMAP.chr11_ENSG00000073921.multivariate_twas_weights.rds,$PATH/multi_context_MiGA.chr11_ENSG00000073921.multivariate_twas_weights.rds\"\n",
    "```\n",
    "\n",
    "`--xqtl_type_table`: a file with type and context columns describing the xqtls. For example:\n",
    "\n",
    "```\n",
    "type    context\n",
    "eQTL    Ast_mega_eQTL\n",
    "eQTL    Mic_mega_eQTL\n",
    "eQTL    Oli_mega_eQTL\n",
    "```\n",
    "\n",
    "`--mr_pval_cutoff`: p-value cutoff.\n",
    "\n",
    "`--rsq_cutoff`: r squared cutoff."
   ]
  },
  {
   "cell_type": "markdown",
   "id": "b2a093c3-4a00-412d-869a-b315212cfc2f",
   "metadata": {},
   "source": [
    "## Overview"
   ]
  },
  {
   "cell_type": "markdown",
   "id": "76a4aafe-183a-49b2-aad1-22dc85a47f5d",
   "metadata": {},
   "source": [
    "1. Run TWAS\n",
    "2. Run cTWAS"
   ]
  },
  {
   "cell_type": "markdown",
   "id": "c0df529d-b3b3-4b86-a5fa-555abfb3b2a4",
   "metadata": {},
   "source": [
    "## Steps"
   ]
  },
  {
   "cell_type": "markdown",
   "id": "d9745420-48a2-4896-911a-b4486c07c25b",
   "metadata": {},
   "source": [
    "### i. Run TWAS"
   ]
  },
  {
   "cell_type": "markdown",
   "id": "56c232b4-c403-4b48-8064-37a957b1ddd6",
   "metadata": {},
   "source": [
    "```\n",
    "sos run pipeline/twas_ctwas.ipynb twas \\\n",
    "   --cwd output/twas --name test \\\n",
    "   --gwas_meta_data data/twas/gwas_meta_test.tsv \\\n",
    "   --ld_meta_data reference_data/ADSP_R4_EUR/ld_meta_file.tsv \\\n",
    "   --regions data/twas/EUR_LD_blocks.bed \\\n",
    "   --xqtl_meta_data data/twas/mwe_twas_pipeline_test_small.tsv \\\n",
    "   --xqtl_type_table data/twas/data_type_table.txt \\\n",
    "   --rsq_pval_cutoff 0.05 --rsq_cutoff 0.01    \n",
    "```"
   ]
  },
  {
   "cell_type": "markdown",
   "id": "13c59653-8894-4d75-9ae6-d024c9a0a711",
   "metadata": {},
   "source": [
    "### ii. Run cTWAS"
   ]
  },
  {
   "cell_type": "markdown",
   "id": "028b5939-5247-4d16-9a81-6d8b2bd57b82",
   "metadata": {},
   "source": [
    "```\n",
    "sos run pipeline/twas_ctwas.ipynb ctwas \\\n",
    "   --cwd output/twas --name test \\\n",
    "   --gwas_meta_data data/twas/gwas_meta_test.tsv \\\n",
    "   --ld_meta_data data/ld_meta_file_with_bim.tsv \\\n",
    "   --xqtl_meta_data data/twas/mwe_twas_pipeline_test_small.tsv \\\n",
    "   --twas_weight_cutoff 0 \\\n",
    "   --chrom 11 \\\n",
    "   --regions data/twas/EUR_LD_blocks.bed \\\n",
    "   --region-name chr10_80126158_82231647 chr11_84267999_86714492\n",
    "```"
   ]
  },
  {
   "cell_type": "markdown",
   "id": "14173c00-68e6-49da-8686-78d30c909fff",
   "metadata": {},
   "source": [
    "## Anticipated Results"
   ]
  },
  {
   "cell_type": "markdown",
   "id": "8e9e6c04-18f9-4e7f-b6eb-72618c65c751",
   "metadata": {},
   "source": [
    "i. Run TWAS"
   ]
  },
  {
   "cell_type": "markdown",
   "id": "03c930ed-fc2e-43cb-a4cf-5d513a59e0fb",
   "metadata": {},
   "source": [
    "`twas_region.chr1_205972031_208461272.mr_result.tsv.gz`:\n",
    "* includes:\n",
    "\n",
    "1. gene_name\n",
    "2. num_CS\n",
    "3. num_IV\n",
    "4. cpip\n",
    "5. meta_eff\n",
    "6. se_meta_eff\n",
    "7. meta_pval\n",
    "8. Q\n",
    "9. Q_pval\n",
    "10. I2\n",
    "11. context\n",
    "12. gwas_study\n",
    "\n",
    "`twas_region.chr1_205972031_208461272.twas_data.rds`:\n",
    "* includes:\n",
    "\n",
    "1. weights -  weights for each gene and context\n",
    "2. z_gene -  gene z-values\n",
    "3. z_snp - snp z-values\n",
    "4. susie_weights_intermediate_qced - pip values and credible set variant information from susie\n",
    "5. snp_info\n",
    "\n",
    "`twas_region.chr1_205972031_208461272.twas.tsv.gz`:\n",
    "* includes:\n",
    "\n",
    "1. chr\n",
    "2. molecular_id\n",
    "3. TSS\n",
    "4. start\n",
    "5. end\n",
    "6. context\n",
    "7. gwas_study\n",
    "8. method\n",
    "9. is_imputable\n",
    "10. is_selected_method\n",
    "11. rsq_cv\n",
    "12. pval_cv\n",
    "13. twas_ztwas_pval\n",
    "14. type\n",
    "15. block\n",
    "\n"
   ]
  },
  {
   "cell_type": "markdown",
   "id": "368d3c7e-cf30-45e0-b63f-4efb7b4e0816",
   "metadata": {},
   "source": [
    "ii. Run cTWAS"
   ]
  },
  {
   "cell_type": "markdown",
   "id": "48e50e68-a3a1-4c79-951e-0e5f637c3a03",
   "metadata": {},
   "source": [
    "`ctwas_region_chr1_z_snp_map.rds`\n",
    "* includes:\n",
    "\n",
    "1. z_snp - snp z-values per study\n",
    "2. snp_map\n"
   ]
  },
  {
   "cell_type": "markdown",
   "id": "6d13c754-b2b2-4ea2-b165-2bf61582443b",
   "metadata": {},
   "source": [
    "`ctwas_region_chr1_LD_map.rds`\n",
    "* includes:\n",
    "\n",
    "1. region_id\n",
    "2. LD_file\n",
    "3. SNP_file\n"
   ]
  },
  {
   "cell_type": "markdown",
   "id": "ffe63e4f-ee40-4994-8748-dfae52ec3649",
   "metadata": {},
   "source": [
    "`ctwas_region_chr1_ctwas_weights.rds`\n",
    "* includes ctwas weights for each gene in each study"
   ]
  },
  {
   "cell_type": "markdown",
   "id": "dd6f1b06-fbda-4504-a1f6-5fc6f59208ad",
   "metadata": {},
   "source": [
    "`ctwas_region_chr1_[study_name].ctwas_boundary_genes.thin0.1.rds`\n",
    "* one of these files is generated for each study. Includes:\n",
    "1. chrom\n",
    "2. id\n",
    "3. p0\n",
    "4. p1\n",
    "5. molecular_id\n",
    "6. weight_name\n",
    "7. region_start\n",
    "8. region_stop\n",
    "9. region_id\n",
    "10. n_regions"
   ]
  },
  {
   "cell_type": "markdown",
   "id": "2b04fd18-964e-40f0-8153-052ee3b0bb43",
   "metadata": {},
   "source": [
    "`ctwas_region_chr1_[study_name].ctwas_region_data.thin0.1.rds`\n",
    "* one of these files is generated for each study. Include these values for each region:\n",
    "1. region_id\n",
    "2. chrom\n",
    "3. start\n",
    "4. stop\n",
    "5. minpos\n",
    "6. maxpos\n",
    "7. thin\n",
    "8. gid\n",
    "9. sid\n",
    "10. z_gene\n",
    "11. z_snp\n",
    "12. types\n",
    "13. contexts\n",
    "14. groups"
   ]
  }
 ],
 "metadata": {
  "kernelspec": {
   "display_name": "Python 3 (ipykernel)",
   "language": "python",
   "name": "python3"
  },
  "language_info": {
   "codemirror_mode": {
    "name": "ipython",
    "version": 3
   },
   "file_extension": ".py",
   "mimetype": "text/x-python",
   "name": "python",
   "nbconvert_exporter": "python",
   "pygments_lexer": "ipython3",
   "version": "3.10.12"
  }
 },
 "nbformat": 4,
 "nbformat_minor": 5
}
