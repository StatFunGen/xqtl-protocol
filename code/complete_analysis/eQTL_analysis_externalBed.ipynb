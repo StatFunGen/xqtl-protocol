{
 "cells": [
  {
   "cell_type": "markdown",
   "id": "above-tonight",
   "metadata": {
    "kernel": "SoS",
    "tags": []
   },
   "source": [
    "# Bulk RNA-seq eQTL analysis, external_bed\n",
    "\n",
    "This notebook provide a master control on the XQTL workflow so it can automate the work before data preprocessing on multiple data collection as proposed.\n",
    "\n",
    "This master control notebook is mainly to serve the 8 tissues snuc_bulk_expression analysis, but should be functional on all analysis where expression data an\n",
    "\n",
    "Input:\n",
    "    A recipe file,each row is a data collection and with the following column:\n",
    "    \n",
    "    Theme\n",
    "        name of dataset, must be different, each uni_study analysis will be performed in a folder named after each, meta analysis will be performed in a folder named as {study1}_{study2}\n",
    "            \n",
    "        The column name must contain the # and be the first column\n",
    "    \n",
    "    genotype_file\n",
    "        {Path to a whole genome genotype file}\n",
    "    \n",
    "    molecular_pheno\n",
    "        {Path to file}\n",
    "        \n",
    "    covariate_file\n",
    "        {Path to file}\n",
    "    \n",
    "    ### note: Only data collection from the same Populations and conditions will me merged to perform Fix effect meta analysis\n",
    "    \n",
    "Output:\n",
    "    ..."
   ]
  },
  {
   "cell_type": "markdown",
   "id": "mobile-stanley",
   "metadata": {
    "kernel": "SoS"
   },
   "source": [
    "\n"
   ]
  },
  {
   "cell_type": "code",
   "execution_count": null,
   "id": "identified-reward",
   "metadata": {
    "kernel": "SoS"
   },
   "outputs": [],
   "source": [
    "\n",
    "nohup sos run ~/GIT/xqtl-pipeline/code/complete_analysis/eQTL_analysis_externalBed.ipynb factor --recipe /mnt/mfs/statgen/snuc_pseudo_bulk//data/recipe_8tissue_new \\\n",
    "    --annotation_gtf /mnt/mfs/statgen/snuc_pseudo_bulk/data/reference_data/genes.reformatted.gene.gtf \\\n",
    "    --sample_participant_lookup /mnt/mfs/statgen/snuc_pseudo_bulk/data/reference_data/sampleSheetAfterQC.txt -s build &\n",
    "\n",
    "nohup sos dryrun ~/GIT/xqtl-pipeline/code/complete_analysis/eQTL_analysis_externalBed.ipynb TensorQTL \\\n",
    "    --recipe /mnt/mfs/statgen/snuc_pseudo_bulk//data/recipe_8tissue_new     \\\n",
    "    --genotype_list /mnt/mfs/statgen/snuc_pseudo_bulk/data/genotype_qced/plink_files_list.txt      \\\n",
    "    --annotation_gtf /mnt/mfs/statgen/snuc_pseudo_bulk/data/reference_data/genes.reformatted.gene.gtf     \\\n",
    "    --sample_participant_lookup /mnt/mfs/statgen/snuc_pseudo_bulk/data/reference_data/sampleSheetAfterQC.txt -s build &\n",
    "\n",
    "\n",
    "\n"
   ]
  },
  {
   "cell_type": "raw",
   "id": "0bf547f6-e6f0-4d13-b6ad-16fb07b5a314",
   "metadata": {
    "kernel": "SoS"
   },
   "source": [
    "Theme molecular_pheno genotype_file covariate_file\n",
    "ALL /mnt/mfs/ctcn/team/masashi/snuc-eqtl/v20211109.celltypes/ALL/ALL.log2cpm.tsv /data/genotype_data/GRCh38_liftedover_sorted_all.add_chr.leftnorm.filtered.bed \n",
    "Ast /mnt/mfs/ctcn/team/masashi/snuc-eqtl/v20211109.celltypes/Ast/Ast.log2cpm.tsv /data/genotype_data/GRCh38_liftedover_sorted_all.add_chr.leftnorm.filtered.bed \n",
    "End /mnt/mfs/ctcn/team/masashi/snuc-eqtl/v20211109.celltypes/End/End.log2cpm.tsv /data/genotype_data/GRCh38_liftedover_sorted_all.add_chr.leftnorm.filtered.bed \n",
    "Exc /mnt/mfs/ctcn/team/masashi/snuc-eqtl/v20211109.celltypes/Exc/Exc.log2cpm.tsv /data/genotype_data/GRCh38_liftedover_sorted_all.add_chr.leftnorm.filtered.bed \n",
    "Fib /mnt/mfs/ctcn/team/masashi/snuc-eqtl/v20211109.celltypes/Fib/Fib.log2cpm.tsv /data/genotype_data/GRCh38_liftedover_sorted_all.add_chr.leftnorm.filtered.bed \n",
    "Inh /mnt/mfs/ctcn/team/masashi/snuc-eqtl/v20211109.celltypes/Inh/Inh.log2cpm.tsv /data/genotype_data/GRCh38_liftedover_sorted_all.add_chr.leftnorm.filtered.bed \n",
    "Mac /mnt/mfs/ctcn/team/masashi/snuc-eqtl/v20211109.celltypes/Mac/Mac.log2cpm.tsv /data/genotype_data/GRCh38_liftedover_sorted_all.add_chr.leftnorm.filtered.bed \n",
    "Mic /mnt/mfs/ctcn/team/masashi/snuc-eqtl/v20211109.celltypes/Mic/Mic.log2cpm.tsv /data/genotype_data/GRCh38_liftedover_sorted_all.add_chr.leftnorm.filtered.bed \n",
    "NFOL /mnt/mfs/ctcn/team/masashi/snuc-eqtl/v20211109.celltypes/NFOL/NFOL.log2cpm.tsv ata/genotype_data/GRCh38_liftedover_sorted_all.add_chr.leftnorm.filtered.be \n",
    "OPC /mnt/mfs/ctcn/team/masashi/snuc-eqtl/v20211109.celltypes/OPC/OPC.log2cpm.tsv /data/genotype_data/GRCh38_liftedover_sorted_all.add_chr.leftnorm.filtered.bed \n",
    "Oli /mnt/mfs/ctcn/team/masashi/snuc-eqtl/v20211109.celltypes/Oli/Oli.log2cpm.tsv /data/genotype_data/GRCh38_liftedover_sorted_all.add_chr.leftnorm.filtered.bed \n",
    "Peri /mnt/mfs/ctcn/team/masashi/snuc-eqtl/v20211109.celltypes/Peri/Peri.log2cpm.tsv data/genotype_data/GRCh38_liftedover_sorted_all.add_chr.leftnorm.filtered.be \n",
    "SMC /mnt/mfs/ctcn/team/masashi/snuc-eqtl/v20211109.celltypes/SMC/SMC.log2cpm.tsv /data/genotype_data/GRCh38_liftedover_sorted_all.add_chr.leftnorm.filtered.bed \n"
   ]
  },
  {
   "cell_type": "code",
   "execution_count": null,
   "id": "ffdca462-d6d6-4f8d-8db6-1df851abde5d",
   "metadata": {
    "kernel": "SoS"
   },
   "outputs": [],
   "source": [
    "/mnt/mfs/ctcn/team/masashi/snuc-eqtl/v20211109.celltypes/*/covariates-20211118.tsv"
   ]
  },
  {
   "cell_type": "markdown",
   "id": "intended-parliament",
   "metadata": {
    "kernel": "SoS"
   },
   "source": [
    "## Example for running the workflow\n",
    "This will run the workflow from via several submission and save the output to nohup.out"
   ]
  },
  {
   "cell_type": "code",
   "execution_count": null,
   "id": "abandoned-initial",
   "metadata": {
    "kernel": "SoS"
   },
   "outputs": [],
   "source": [
    "sos dryrun ~/GIT/xqtl-pipeline/code/complete_analysis/eQTL_analysis_externalBed.ipynb TensorQTL \\\n",
    "    --recipe /mnt/mfs/statgen/snuc_pseudo_bulk//data/recipe_8tissue_new     \\\n",
    "    --genotype_list /mnt/mfs/statgen/snuc_pseudo_bulk/data/genotype_qced/plink_files_list.txt      \\\n",
    "    --annotation_gtf /mnt/mfs/statgen/snuc_pseudo_bulk/data/reference_data/genes.reformatted.gene.gtf     \\\n",
    "    --sample_participant_lookup /mnt/mfs/statgen/snuc_pseudo_bulk/data/reference_data/sampleSheetAfterQC.txt   > Eight_tissue_scripts &"
   ]
  },
  {
   "cell_type": "code",
   "execution_count": null,
   "id": "moderate-samuel",
   "metadata": {
    "kernel": "SoS"
   },
   "outputs": [],
   "source": [
    "[global]\n",
    "## The aforementioned input recipe\n",
    "parameter: recipe = path\n",
    "## Overall wd, the file structure of analysis is wd/[steps]/[sub_dir for each steps]\n",
    "parameter:  cwd = path(\".\")\n",
    "## Diretory to the excutable\n",
    "parameter: exe_dir = path(\"~/GIT/xqtl-pipeline/\")\n",
    "parameter: container = '/mnt/mfs/statgen/containers/twas_latest.sif'\n",
    "parameter: container_base_bioinfo = '/mnt/mfs/statgen/containers/bioinfo.sif'\n",
    "parameter: container_apex = '/mnt/mfs/statgen/containers/apex.sif'\n",
    "parameter: container_PEER = '/mnt/mfs/statgen/containers/PEER.sif'\n",
    "parameter: container_TensorQTL = '/mnt/mfs/statgen/containers//TensorQTL.sif'\n",
    "parameter: container_rnaquant = '/mnt/mfs/statgen/containers/rna_quantification.sif'\n",
    "parameter: container_flashpca = '/mnt/mfs/statgen/containers/flashpcaR.sif'\n",
    "parameter: annotation_gtf = path\n",
    "parameter: sample_participant_lookup = path\n",
    "parameter: phenotype_id_type = \"gene_name\" \n",
    "parameter: yml = path(\"csg.yml\")\n",
    "import pandas as pd\n",
    "input_inv = pd.read_csv(recipe, sep = \"\\t\").to_dict(\"records\")\n",
    "import os"
   ]
  },
  {
   "cell_type": "markdown",
   "id": "objective-wrestling",
   "metadata": {
    "kernel": "SoS"
   },
   "source": [
    "## Molecular Phenotype Calling"
   ]
  },
  {
   "cell_type": "code",
   "execution_count": null,
   "id": "metallic-circulation",
   "metadata": {
    "kernel": "SoS"
   },
   "outputs": [],
   "source": []
  },
  {
   "cell_type": "markdown",
   "id": "fifth-holder",
   "metadata": {
    "kernel": "SoS",
    "tags": []
   },
   "source": [
    "## Data Preprocessing\n",
    "### Molecular Phenotype Processing"
   ]
  },
  {
   "cell_type": "code",
   "execution_count": null,
   "id": "advisory-relationship",
   "metadata": {
    "kernel": "SoS"
   },
   "outputs": [],
   "source": [
    "#[Normalization]\n",
    "#import os\n",
    "#input: for_each = \"input_inv\"\n",
    "#skip_if( os.path.exists(_input_inv[\"molecular_pheno\"]))\n",
    "#output: f'{cwd:a}/data_preprocessing/normalization/{name}.mol_phe.bed.gz'\n",
    "#bash:  expand = \"$[ ]\", stderr = f'{_output}.stderr', stdout = f'{_output}.stdout'\n",
    "#    sos run $[exe_dir]/data_preprocessing/phenotype/GWAS_QC.ipynb output \\\n",
    "#        --counts_gct $[_input_inv[\"genecount_table\"]] \\\n",
    "#        --tpm_gct $[_input_inv[\"geneTpm_table\"]] \\\n",
    "#        --sample_participant_lookup $[_input_inv[\"sample_index\"]] \\\n",
    "#        --vcf_chr_list $[_input_inv[\"vcf_chr_list\"]] \\\n",
    "#        --container $[container_gtex] \\\n",
    "#        --name $[_input_inv[\"Theme\"]] \\\n",
    "#        --wd $[wd:a]/data_preprocessing/normalization/ \\\n",
    "#        --container $[container_base_bioinfo] \\\n",
    "#        -J 200 -q csg -c  $[yml] &"
   ]
  },
  {
   "cell_type": "code",
   "execution_count": null,
   "id": "indie-japanese",
   "metadata": {
    "kernel": "SoS"
   },
   "outputs": [],
   "source": [
    "[annotation]\n",
    "## Must be ran with internet connection\n",
    "import os\n",
    "input: for_each = \"input_inv\"\n",
    "output: f'{cwd:a}/data_preprocessing/{_input_inv[\"Theme\"]}/phenotype_data/{path(_input_inv[\"molecular_pheno\"]):bn}.bed.gz'\n",
    "report:  expand = \"$[ ]\", stderr = f'{_output}.stderr', stdout = f'{_output}.stdout'\n",
    "  sos run $[exe_dir]/pipeline/gene_annotation.ipynb annotate_coord \\\n",
    "    --cwd $[_output:d] \\\n",
    "    --phenoFile $[_input_inv[\"molecular_pheno\"]] \\\n",
    "    --annotation-gtf $[annotation_gtf] \\\n",
    "    --sample-participant-lookup $[sample_participant_lookup] \\\n",
    "    --container $[container_rnaquant] \\\n",
    "    --phenotype-id-type $[phenotype_id_type] -J 1 -c $[yml] -q csg "
   ]
  },
  {
   "cell_type": "code",
   "execution_count": null,
   "id": "chief-blame",
   "metadata": {
    "kernel": "SoS"
   },
   "outputs": [],
   "source": [
    "[region_list_generation]\n",
    "input: output_from(\"annotation\"), group_with = \"input_inv\"\n",
    "output: pheno_mod = f'{cwd:a}/data_preprocessing/{_input_inv[\"Theme\"]}/phenotype_data/{_input:bnn}.region_list'\n",
    "report:  expand = \"$[ ]\", stderr = f'{_output[0]}.stderr', stdout = f'{_output[0]}.stdout'\n",
    "    sos run $[exe_dir]/pipeline/gene_annotation.ipynb region_list_generation \\\n",
    "        --cwd $[_output:d]  \\\n",
    "        --phenoFile $[_input]\\\n",
    "        --annotation-gtf $[annotation_gtf] \\\n",
    "        --sample-participant-lookup $[sample_participant_lookup] \\\n",
    "        --container $[container_rnaquant] \\\n",
    "        --phenotype-id-type $[phenotype_id_type] -J 1 -c $[yml] -q csg "
   ]
  },
  {
   "cell_type": "code",
   "execution_count": null,
   "id": "c71dcb67-f366-41a1-b0ca-09bd4d293601",
   "metadata": {
    "kernel": "SoS"
   },
   "outputs": [],
   "source": [
    "[phenotype_partition_by_chrom]\n",
    "input: output_from(\"annotation\"),output_from(\"region_list_generation\"), group_with = \"input_inv\"\n",
    "output: per_chrom_pheno_list = f'{cwd:a}/data_preprocessing/{_input_inv[\"Theme\"]}/phenotype_data/{_input[0]:bn}.processed_phenotype.per_chrom.recipe'        \n",
    "report:  expand = \"$[ ]\", stderr = f'{_output[0]}.stderr', stdout = f'{_output[0]}.stdout'\n",
    "    sos run $[exe_dir]/pipeline/phenotype_formatting.ipynb partition_by_chrom \\\n",
    "        --cwd $[_output:d]  \\\n",
    "        --phenoFile $[_input[0]:a] \\\n",
    "        --region-list $[_input[1]:a] \\\n",
    "        --container $[container_rnaquant] \\\n",
    "        -J 30 -c $[yml] -q csg \\\n",
    "        --mem 4G "
   ]
  },
  {
   "cell_type": "markdown",
   "id": "portuguese-marking",
   "metadata": {
    "kernel": "SoS"
   },
   "source": [
    "### Genotype Processing\n",
    "Since genotype is shared among the eight tissue, the QC of whole genome file is not needed. Only pca needed to be run again."
   ]
  },
  {
   "cell_type": "code",
   "execution_count": null,
   "id": "79acb9fc-b803-4939-80c9-32cec7308170",
   "metadata": {
    "kernel": "SoS"
   },
   "outputs": [],
   "source": [
    "[sample_match]\n",
    "input: for_each = \"input_inv\"\n",
    "output: f'{cwd:a}/data_preprocessing/{_input_inv[\"Theme\"]}/{sample_participant_lookup:bn}.filtered.txt',\n",
    "        geno = f'{cwd:a}/data_preprocessing/{_input_inv[\"Theme\"]}/{sample_participant_lookup:bn}.filtered_geno.txt'\n",
    "report:  expand = \"$[ ]\", stderr = f'{_output[0]}.stderr', stdout = f'{_output[0]}.stdout'\n",
    "    sos run $[exe_dir]/pipeline/sample_matcher.ipynb filtered_sample_list \\\n",
    "        --cwd $[_output[0]:d]  \\\n",
    "        --phenoFile $[_input_inv[\"molecular_pheno\"]]  \\\n",
    "        --genoFile $[path(_input_inv[\"genotype_file\"]):n].fam  \\\n",
    "        --sample-participant-lookup $[sample_participant_lookup] \\\n",
    "        --container $[container_rnaquant] \\\n",
    "        --translated_phenoFile -J 1 -c $[yml] -q csg "
   ]
  },
  {
   "cell_type": "code",
   "execution_count": null,
   "id": "64df9826-b0b5-4c67-b52f-6f4e96a318cb",
   "metadata": {
    "kernel": "SoS"
   },
   "outputs": [],
   "source": [
    "[king]\n",
    "input:output_from(\"sample_match\")[\"geno\"], group_with = \"input_inv\"\n",
    "output: related = f'{cwd:a}/data_preprocessing/{_input_inv[\"Theme\"]}/genotype_data/{path(_input_inv[\"genotype_file\"]):bn}.{_input_inv[\"Theme\"]}.related.bed',\n",
    "        unrelated = f'{cwd:a}/data_preprocessing/{_input_inv[\"Theme\"]}/genotype_data/{path(_input_inv[\"genotype_file\"]):bn}.{_input_inv[\"Theme\"]}.unrelated.bed'\n",
    "report:  expand = \"$[ ]\", stderr = f'{_output[0]}.stderr', stdout = f'{_output[0]}.stdout'\n",
    " sos run $[exe_dir]/pipeline/GWAS_QC.ipynb king \\\n",
    "    --cwd $[_output[0]:d] \\\n",
    "    --genoFile $[_input_inv[\"genotype_file\"]] \\\n",
    "    --name $[_input_inv[\"Theme\"]] \\\n",
    "    --keep-samples $[_input] \\\n",
    "    --container $[container_base_bioinfo]  -J 1 -c $[yml] -q csg \\\n",
    "    --walltime 48h -s force "
   ]
  },
  {
   "cell_type": "code",
   "execution_count": null,
   "id": "bb56d62f-a560-4802-9fd8-ded3ada60a93",
   "metadata": {
    "kernel": "SoS"
   },
   "outputs": [],
   "source": [
    "[unrelated_QC]\n",
    "input: output_from(\"king\")[\"unrelated\"]\n",
    "output: unrelated_bed = f'{_input:n}.filtered.prune.bed', \n",
    "        prune = f'{_input:n}.filtered.prune.in'\n",
    "report:  expand = \"$[ ]\", stderr = f'{_output[0]}.stderr', stdout = f'{_output[0]}.stdout'\n",
    " sos run $[exe_dir]/pipeline/GWAS_QC.ipynb qc \\\n",
    "    --cwd $[_output[0]:d] \\\n",
    "    --genoFile $[_input] \\\n",
    "    --exclude-variants /mnt/mfs/statgen/snuc_pseudo_bulk/Ast/genotype/dupe_snp_to_exclude \\\n",
    "    --maf-filter 0.05 \\\n",
    "    --container $[container_base_bioinfo] -J 1 -c $[yml] -q csg \\\n",
    "    --mem 40G  "
   ]
  },
  {
   "cell_type": "code",
   "execution_count": null,
   "id": "6109d434-a4f0-4543-b912-1f2e64b0c54a",
   "metadata": {
    "kernel": "SoS"
   },
   "outputs": [],
   "source": [
    "[related_QC]\n",
    "input: output_from(\"king\")[\"related\"],output_from(\"unrelated_QC\")[\"prune\"]\n",
    "output: f'{_input[0]:n}.filtered.extracted.bed'\n",
    "report:  expand = \"$[ ]\", stderr = f'{_output[0]}.stderr', stdout = f'{_output[0]}.stdout'\n",
    " sos run $[exe_dir]/pipeline/GWAS_QC.ipynb qc_no_prune \\\n",
    "    --cwd $[_output[0]:d] \\\n",
    "    --genoFile $[_input[0]] \\\n",
    "    --exclude-variants /mnt/mfs/statgen/snuc_pseudo_bulk/Ast/genotype/dupe_snp_to_exclude \\\n",
    "    --maf-filter 0 \\\n",
    "    --geno-filter 0 \\\n",
    "    --mind-filter 0.1 \\\n",
    "    --hwe-filter 0 \\\n",
    "    --keep-variants $[_input[1]]  \\\n",
    "    --container $[container_base_bioinfo] -J 1 -c $[yml] -q csg \\\n",
    "    --mem 40G  "
   ]
  },
  {
   "cell_type": "markdown",
   "id": "noted-opening",
   "metadata": {
    "kernel": "SoS"
   },
   "source": [
    "## Factor analysis"
   ]
  },
  {
   "cell_type": "code",
   "execution_count": null,
   "id": "01fb7095-247e-44eb-aaa3-0f050c358b73",
   "metadata": {
    "kernel": "SoS"
   },
   "outputs": [],
   "source": [
    "[pca]\n",
    "input: output_from(\"unrelated_QC\")[\"unrelated_bed\"],group_with = \"input_inv\"\n",
    "output: f'{cwd}/data_preprocessing/{_input_inv[\"Theme\"]}/pca/{_input:bn}.pca.rds',\n",
    "        f'{cwd}/data_preprocessing/{_input_inv[\"Theme\"]}/pca/{_input:bn}.pca.scree.txt'\n",
    "report:  expand = \"$[ ]\", stderr = f'{_output[0]}.stderr', stdout = f'{_output[0]}.stdout'\n",
    "     sos run $[exe_dir]/pipeline/PCA.ipynb flashpca \\\n",
    "        --cwd $[_output:d] \\\n",
    "        --genoFile $[_input] \\\n",
    "        --container $[container_flashpca] -J 1 -c $[yml] -q csg  "
   ]
  },
  {
   "cell_type": "code",
   "execution_count": null,
   "id": "bd276535-2566-4b17-b27d-27688e8c6ef7",
   "metadata": {
    "kernel": "SoS"
   },
   "outputs": [],
   "source": [
    "[projected_sample]\n",
    "# The percentage \n",
    "parameter: PVE_treshold = 0.7\n",
    "input: output_from(\"related_QC\"),output_from(\"pca\"), group_with = \"input_inv\"\n",
    "output: f'{cwd}/data_preprocessing/{_input_inv[\"Theme\"]}/pca/{_input[0]:bn}.pca.projected.rds'\n",
    "report:  expand = \"$[ ]\", stderr = f'{_output[0]}.stderr', stdout = f'{_output[0]}.stdout'\n",
    "    sos run $[exe_dir]/pipeline/PCA.ipynb project_samples \\\n",
    "            --cwd $[_output:d] \\\n",
    "            --genoFile $[_input[0]] \\\n",
    "            --pca-model  $[_input[1]] \\\n",
    "            --maha-k `awk '$3 < $[PVE_treshold]' $[_input[2]] | tail -1 | cut -f 1  ` \\\n",
    "            --k `awk '$3 < $[PVE_treshold]' $[_input[2]] | tail -1 | cut -f 1 ` \\\n",
    "            --container $[container_flashpca] -J 1 -c $[yml] -q csg "
   ]
  },
  {
   "cell_type": "code",
   "execution_count": null,
   "id": "3589ea80-e69f-4d3b-8cb7-9ccf12f3af54",
   "metadata": {
    "kernel": "SoS"
   },
   "outputs": [],
   "source": [
    "[merge_pca_covariate]\n",
    "input: output_from(\"projected_sample\"),group_with = \"input_inv\"\n",
    "output: f'{cwd}/data_preprocessing/{_input_inv[\"Theme\"]}/covariates/{path(_input_inv[\"covariate_file\"]):bn}.pca.cov.gz'\n",
    "report:  expand = \"$[ ]\", stderr = f'{_output[0]}.stderr', stdout = f'{_output[0]}.stdout'\n",
    "    sos run $[exe_dir]/pipeline/covariate_formatting.ipynb merge_pca_covariate \\\n",
    "    --cwd $[_output:d] \\\n",
    "    --pcaFile $[_input:a] \\\n",
    "    --covFile  $[path(_input_inv[\"covariate_file\"])] \\\n",
    "    --nCov 6  \\\n",
    "    --container $[container_base_bioinfo] -J 1 -c $[yml] -q csg "
   ]
  },
  {
   "cell_type": "code",
   "execution_count": null,
   "id": "stretch-indianapolis",
   "metadata": {
    "kernel": "SoS"
   },
   "outputs": [],
   "source": [
    "[factor]\n",
    "input: output_from(\"merge_pca_covariate\"),output_from(\"annotation\"),group_with = \"input_inv\"\n",
    "output: f'{cwd}/data_preprocessing/{_input_inv[\"Theme\"]}/covariates/{_input[0]:bnn}.BiCV.cov.gz'\n",
    "report:  expand = \"$[ ]\", stderr = f'{_output[0]}.stderr', stdout = f'{_output[0]}.stdout'\n",
    "     sos run $[exe_dir]/pipeline/BiCV_factor.ipynb BiCV \\\n",
    "        --cwd $[_output:d] \\\n",
    "        --phenoFile $[_input[1]:a]  \\\n",
    "        --covFile  $[_input[0]:a]  \\\n",
    "        --container $[container_apex]  -J 1 -c $[yml] -q csg \\\n",
    "        --walltime 24h \\\n",
    "        --numThreads 8 \\\n",
    "        --iteration 1000 \\\n",
    "        --N 60  "
   ]
  },
  {
   "cell_type": "markdown",
   "id": "cee34865-5d82-4c29-aa61-78d3f9051dbc",
   "metadata": {
    "kernel": "SoS"
   },
   "source": [
    "## Association scan"
   ]
  },
  {
   "cell_type": "code",
   "execution_count": null,
   "id": "c457e6af-dec0-475e-aafc-4db2d43c1945",
   "metadata": {
    "kernel": "SoS"
   },
   "outputs": [],
   "source": [
    "[TensorQTL]\n",
    "parameter: genotype_list = path\n",
    "input: genotype_list, output_from(\"phenotype_partition_by_chrom\"),output_from(\"factor\"),group_with = \"input_inv\"\n",
    "output: f'{cwd:a}/Association_scan/{_input_inv[\"Theme\"]}/TensorQTL_recipe.tsv'\n",
    "report:  expand = \"$[ ]\", stderr = f'{_output[0]}.stderr', stdout = f'{_output[0]}.stdout'\n",
    "    sos run $[exe_dir]/pipeline/TensorQTL.ipynb TensorQTL_cis \\\n",
    "        --genotype_file_list $[_input[0]]   \\\n",
    "        --molecular_pheno_list $[_input[1]] \\\n",
    "        --covariate $[_input[2]]    \\\n",
    "        --cwd $[_output:d]  \\\n",
    "        --container $[container_TensorQTL] -J 30 -c csg.yml -q csg  "
   ]
  },
  {
   "cell_type": "code",
   "execution_count": null,
   "id": "f98ad50e-60e3-43b3-af45-2aea1158a7f9",
   "metadata": {
    "kernel": "SoS"
   },
   "outputs": [],
   "source": [
    "## RDS creation"
   ]
  },
  {
   "cell_type": "code",
   "execution_count": null,
   "id": "f43d8716-e235-4834-ab86-66c04c0bcad2",
   "metadata": {
    "kernel": "SoS"
   },
   "outputs": [],
   "source": [
    "[rds_creation]\n",
    "parameter: genotype_list = path\n",
    "input: genotype_list, output_from(\"annotation\"),output_from(\"factor\"),output_from(\"region_list_generation\"),group_with = \"input_inv\"\n",
    "report:  expand = \"$[ ]\", stderr = f'{_output[0]}.stderr', stdout = f'{_output[0]}.stdout'\n",
    "    sos run $[exe_dir]/pipeline/per_gene_data_merger.ipynb data_merger \\\n",
    "        --genoFile $[_input[0]]   \\\n",
    "        --phenoFile $[_input[1]] \\\n",
    "        --covFile $[_input[2]]    \\\n",
    "        --cwd $[_output:d] \\\n",
    "        --region-list $[_input[3]] \\\n",
    "        --container $[container_TensorQTL] -J 30 -c csg.yml -q csg  "
   ]
  }
 ],
 "metadata": {
  "kernelspec": {
   "display_name": "SoS",
   "language": "sos",
   "name": "sos"
  },
  "language_info": {
   "codemirror_mode": "sos",
   "file_extension": ".sos",
   "mimetype": "text/x-sos",
   "name": "sos",
   "nbconvert_exporter": "sos_notebook.converter.SoS_Exporter",
   "pygments_lexer": "sos"
  },
  "sos": {
   "kernels": [
    [
     "Markdown",
     "markdown",
     "markdown",
     "",
     ""
    ],
    [
     "SoS",
     "sos",
     "",
     "",
     "sos"
    ]
   ],
   "version": "0.22.9"
  }
 },
 "nbformat": 4,
 "nbformat_minor": 5
}
