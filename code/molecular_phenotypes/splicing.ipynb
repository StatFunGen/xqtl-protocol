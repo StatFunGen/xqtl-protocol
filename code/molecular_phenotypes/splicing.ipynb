{
 "cells": [
  {
   "cell_type": "markdown",
   "id": "binding-ottawa",
   "metadata": {
    "kernel": "SoS",
    "tags": []
   },
   "source": [
    "# Alternative splicing from RNA-seq data\n",
    "\n"
   ]
  },
  {
   "cell_type": "markdown",
   "id": "fe558690-5e2a-4d42-8ca3-ae0227741716",
   "metadata": {
    "kernel": "SoS"
   },
   "source": [
    "#### Miniprotocol Timing\n",
    "\n",
    "Timing <2 hours"
   ]
  },
  {
   "cell_type": "markdown",
   "id": "5f48cddc-f1ec-42c5-80cc-35e4048fdf27",
   "metadata": {
    "kernel": "SoS"
   },
   "source": [
    "## Overview"
   ]
  },
  {
   "cell_type": "markdown",
   "id": "0e4d6a37-3eec-4e48-9978-bbee34068dfa",
   "metadata": {
    "kernel": "SoS"
   },
   "source": [
    "Several other modules should be run before generating splicing data to prepare the data. These include:\n",
    "1. `molecular_phenotypes/calling/RNA_calling.ipynb` (step i): Generate data quality summary with fastqc\n",
    "2. `molecular_phenotypes/calling/RNA_calling.ipynb` (step ii): Trim adaptors\n",
    "3. `molecular_phenotypes/calling/RNA_calling.ipynb` (step iii): Align RNASeq reads with STAR using the wasp option specifically for splicing data\n",
    "\n",
    "This miniprotocol shows the use of modules for splicing quantification and normalization. They are as follows:\n",
    "1. `molecular_phenotypes/calling/splicing_calling.ipynb` (step i): Quantify splicing with leafcutter or psichomics\n",
    "2. `molecular_phenotypes/QC/splicing_normalization.ipynb` (step ii): Quality control and normalization of splicing data\n",
    "3. `data_preprocessing/phenotype/gene_annotation.ipynb` (step iii): Process splicing data for use in TensorQTL"
   ]
  },
  {
   "cell_type": "markdown",
   "id": "34d14dfc-4045-451b-9071-69b799642c25",
   "metadata": {
    "kernel": "SoS"
   },
   "source": [
    "## Steps"
   ]
  },
  {
   "cell_type": "markdown",
   "id": "517cdd3d-4b37-45b5-ba39-18890862e426",
   "metadata": {
    "kernel": "Markdown",
    "tags": []
   },
   "source": [
    "### i. [Splicing Quantification with Leafcutter (intron usage ratio) or Psichomics (percent spliced in events)](https://statfungen.github.io/xqtl-protocol/code/molecular_phenotypes/calling/splicing_calling.html)"
   ]
  },
  {
   "cell_type": "code",
   "execution_count": null,
   "id": "fc36a8fe-0622-4a5a-93e9-5df6f65aa781",
   "metadata": {
    "kernel": "SoS"
   },
   "outputs": [],
   "source": [
    "sos run pipeline/splicing_calling.ipynb leafcutter \\\n",
    "    --cwd output/leaf_cutter/ \\\n",
    "    --samples output/rnaseq/xqtl_protocol_data_bam_list \n",
    "\n",
    "sos run pipeline/splicing_calling.ipynb psichomics \\\n",
    "    --cwd output/psichomics/ \\\n",
    "    --samples output/rnaseq/xqtl_protocol_data_bam_list \\\n",
    "    --splicing_annotation hg38_suppa.rds "
   ]
  },
  {
   "cell_type": "markdown",
   "id": "f4e7c8ad-d196-4546-83bd-d9b4a428eeb7",
   "metadata": {
    "kernel": "SoS"
   },
   "source": [
    "### ii. [Splicing QC and Normalization](https://statfungen.github.io/xqtl-protocol/code/molecular_phenotypes/QC/splicing_normalization.html)"
   ]
  },
  {
   "cell_type": "code",
   "execution_count": null,
   "id": "18794388-051e-4dca-912f-646d20c460ef",
   "metadata": {
    "kernel": "Bash",
    "tags": []
   },
   "outputs": [],
   "source": [
    "sos run pipeline/splicing_normalization.ipynb leafcutter_norm \\\n",
    "    --cwd output/leaf_cutter/ \\\n",
    "    --ratios output/leaf_cutter/xqtl_protocol_data_bam_list_intron_usage_perind.counts.gz\n",
    "\n",
    "sos run pipeline/splicing_normalization.ipynb psichomics_norm \\\n",
    "    --cwd psichomics_output \\\n",
    "    --ratios psichomics_output/psi_raw_data.tsv "
   ]
  },
  {
   "cell_type": "markdown",
   "id": "650ab818-25a1-447c-a7cd-7f422e1f56df",
   "metadata": {
    "kernel": "SoS"
   },
   "source": [
    "### iii. [Post Processing for TensorQTL](https://statfungen.github.io/xqtl-protocol/code/data_preprocessing/phenotype/gene_annotation.html)"
   ]
  },
  {
   "cell_type": "code",
   "execution_count": null,
   "id": "75febff1-0246-4dde-b6bb-71e35c4ce521",
   "metadata": {
    "kernel": "Bash",
    "tags": []
   },
   "outputs": [],
   "source": [
    "sos run pipeline/gene_annotation.ipynb annotate_leafcutter_isoforms \\\n",
    "    --cwd output/leaf_cutter/ \\\n",
    "    --intron_count output/leaf_cutter/xqtl_protocol_data_bam_list_intron_usage_perind_numers.counts.gz \\\n",
    "    --phenoFile output/leaf_cutter/xqtl_protocol_data_bam_list_intron_usage_perind.counts.gz_raw_data.qqnorm.txt \\\n",
    "    --annotation-gtf reference_data/Homo_sapiens.GRCh38.103.chr.reformatted.collapse_only.gene.gtf \\\n",
    "    --sample_participant_lookup reference_data/sample_participant_lookup.rnaseq\n",
    "\n",
    "sos run pipeline/code/data_preprocessing/phenotype/gene_annotation.ipynb annotate_psichomics_isoforms \\\n",
    "    --cwd psichomics_output \\\n",
    "    --phenoFile psichomics_output/psichomics_raw_data_bedded.qqnorm.txt \\\n",
    "    --annotation-gtf reference_data/Homo_sapiens.GRCh38.103.chr.reformated.ERCC.gene.gtf "
   ]
  },
  {
   "cell_type": "markdown",
   "id": "d57cb038-e7ef-4203-add0-4017e743d258",
   "metadata": {
    "kernel": "SoS"
   },
   "source": [
    "## Anticipated Results"
   ]
  },
  {
   "cell_type": "markdown",
   "id": "806ee486-73f3-4759-9cbe-0cfb89a00b93",
   "metadata": {
    "kernel": "SoS"
   },
   "source": [
    "The final output contains the QCed and normalized splicing data from leafcutter and psichomics."
   ]
  },
  {
   "cell_type": "code",
   "execution_count": null,
   "id": "4958da63-d8bd-47bd-9c1d-0aee23d4eba0",
   "metadata": {
    "kernel": "SoS"
   },
   "outputs": [],
   "source": []
  }
 ],
 "metadata": {
  "kernelspec": {
   "display_name": "SoS",
   "language": "sos",
   "name": "sos"
  },
  "language_info": {
   "codemirror_mode": "sos",
   "file_extension": ".sos",
   "mimetype": "text/x-sos",
   "name": "sos",
   "nbconvert_exporter": "sos_notebook.converter.SoS_Exporter",
   "pygments_lexer": "sos"
  },
  "sos": {
   "kernels": [
    [
     "Bash",
     "bash",
     "Bash",
     "#E6EEFF",
     "shell"
    ],
    [
     "Markdown",
     "markdown",
     "markdown",
     "",
     ""
    ]
   ],
   "version": "0.24.0"
  }
 },
 "nbformat": 4,
 "nbformat_minor": 5
}
