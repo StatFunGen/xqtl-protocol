{
 "cells": [
  {
   "cell_type": "markdown",
   "metadata": {
    "kernel": "SoS"
   },
   "source": [
    "# MMQTL association testing with individual level data\n",
    "\n",
    "This notebook performs association analysis and meta analysis using mmQTL on individual data."
   ]
  },
  {
   "cell_type": "markdown",
   "metadata": {
    "kernel": "SoS",
    "tags": []
   },
   "source": [
    "## Input\n",
    "\n",
    "1. A list of regions to be analyzed (optional); the last column of this file should be region name.\n",
    "2. A list of genotype files for each region to be analyzed, in PLINK `bed` format, same genotype could be used for multiple regions. \n",
    "3. vector of lists of phenotype_list files per region to be analyzed, each in count table format.\n",
    "4. vector of covariate files corresponding to the lists above.\n",
    "5. Optionally a vector of names of the phenotypic conditions in the form of `cond1 cond2 cond3` separated with whitespace. \n",
    "\n",
    "Input 2 and 3 should be outputs from `genotype_per_region` and `annotate_coord` modules in previous preprocessing steps. 4 should be output of `covariate_preprocessing` pipeline that contains genotype PC, phenotypic hidden confounders and fixed covariates."
   ]
  },
  {
   "cell_type": "markdown",
   "metadata": {
    "kernel": "SoS",
    "tags": []
   },
   "source": [
    "### Example genotype list\n",
    "\n",
    "```\n",
    "#region        path\n",
    "ENSG00000000457 xqtl_workflow_testing/genotype_per_region/ENSG00000000457.bed\n",
    "ENSG00000000460 xqtl_workflow_testing/genotype_per_region/ENSG00000000460.bed\n",
    "ENSG00000000938 xqtl_workflow_testing/genotype_per_region/ENSG00000000938.bed\n",
    "ENSG00000000971 xqtl_workflow_testing/genotype_per_region/ENSG00000000971.bed\n",
    "ENSG00000001036 xqtl_workflow_testing/genotype_per_region/ENSG00000001036.bed\n",
    "ENSG00000001084 xqtl_workflow_testing/genotype_per_region/ENSG00000001084.bed\n",
    "ENSG00000001167 xqtl_workflow_testing/genotype_per_region/ENSG00000001167.bed\n",
    "ENSG00000001460 xqtl_workflow_testing/genotype_per_region/ENSG00000001460.bed\n",
    "```\n",
    "\n",
    "### Example phenotype list\n",
    "\n",
    "```\n",
    "#chr    start   end ID  path\n",
    "chr12   752578  752579  ENSG00000060237  MWE/output/phenotype/protocol_example.protein.count_matrix\n",
    "chr12   990508  990509  ENSG00000082805  MWE/output/phenotype/protocol_example.protein.count_matrix\n",
    "chr12   2794969 2794970 ENSG00000004478  MWE/output/phenotype/protocol_example.protein.count_matrix\n",
    "chr12   4649113 4649114 ENSG00000139180  MWE/output/phenotype/protocol_example.protein.count_matrix\n",
    "chr12   6124769 6124770 ENSG00000110799  MWE/output/phenotype/protocol_example.protein.count_matrix\n",
    "chr12   6534516 6534517 ENSG00000111640  MWE/output/phenotype/protocol_example.protein.count_matrix\n",
    "```"
   ]
  },
  {
   "cell_type": "markdown",
   "metadata": {
    "jp-MarkdownHeadingCollapsed": true,
    "kernel": "SoS",
    "tags": []
   },
   "source": [
    "## Output\n",
    "**TBA**\n"
   ]
  },
  {
   "cell_type": "markdown",
   "metadata": {
    "kernel": "SoS",
    "tags": []
   },
   "source": [
    "## Minimal working example\n",
    "\n",
    "### mmQTL\n",
    "\n",
    "Below we duplicate the examples for phenotype and covariates to demonstrate that when there are multiple phenotypes for the same genotype it is possible to use this pipeline to analyze all of them (more than two is accepted as well)\n",
    "\n",
    "```\n",
    "# suggested output naming convention is cohort_modality, eg ROSMAP_snRNA_pseudobulk\n",
    "sos run pipeline/MMQTL.ipynb MMQTL \\\n",
    "     --genoFile /sc/arion/projects/CommonMind/roussp01a/snmulti_QTL/MMQTL/Test_data_for_mmQTL/GenoFile.list \\\n",
    "     --phenoFile /sc/arion/projects/CommonMind/roussp01a/snmulti_QTL/MMQTL/Test_data_for_mmQTL/phenotype_list_1 \\\n",
    "     /sc/arion/projects/CommonMind/roussp01a/snmulti_QTL/MMQTL/Test_data_for_mmQTL/phenotype_list_2 \\\n",
    "    /sc/arion/projects/CommonMind/roussp01a/snmulti_QTL/MMQTL/Test_data_for_mmQTL/phenotype_list_3 \\\n",
    "    /sc/arion/projects/CommonMind/roussp01a/snmulti_QTL/MMQTL/Test_data_for_mmQTL/phenotype_list_4 \\\n",
    "    /sc/arion/projects/CommonMind/roussp01a/snmulti_QTL/MMQTL/Test_data_for_mmQTL/phenotype_list_5 \\\n",
    "  --grm_file /sc/arion/projects/CommonMind/roussp01a/snmulti_QTL/MMQTL/Test_data_for_mmQTL/GRM/simulated_genotype.grm.rel  --name demo --region_list test_region_list  \\\n",
    "  --covFile \"/sc/arion/projects/CommonMind/roussp01a/snmulti_QTL/MMQTL/Test_data_for_mmQTL/phenotype_list_2\" \"/sc/arion/projects/CommonMind/roussp01a/snmulti_QTL/MMQTL/Test_data_for_mmQTL/phenotype_list_2\" \"/sc/arion/projects/CommonMind/roussp01a/snmulti_QTL/MMQTL/Test_data_for_mmQTL/phenotype_list_2\" \"/sc/arion/projects/CommonMind/roussp01a/snmulti_QTL/MMQTL/Test_data_for_mmQTL/phenotype_list_2\" \"/sc/arion/projects/CommonMind/roussp01a/snmulti_QTL/MMQTL/Test_data_for_mmQTL/phenotype_list_2\"  # As place holder, use the actual covariates file in your analysis. \n",
    "```"
   ]
  },
  {
   "cell_type": "markdown",
   "metadata": {
    "kernel": "SoS"
   },
   "source": [
    "It is also possible to only analyze a selected list of regions by name, using either option `--region-list` or option `--region-name` or both. The command below will include 6 regions to analyze:"
   ]
  },
  {
   "cell_type": "code",
   "execution_count": 1,
   "metadata": {
    "kernel": "SoS"
   },
   "outputs": [],
   "source": [
    "[global]\n",
    "# A list of file paths for genotype data. \n",
    "parameter: genoFile = path\n",
    "# One or multiple lists of file paths for phenotype data.\n",
    "parameter: phenoFile = paths\n",
    "\n",
    "# Optional: if a region list is provide the analysis will be focused on provided region. \n",
    "# The LAST column of this list will contain the ID of regions to focus on\n",
    "# Otherwise, all regions with both genotype and phenotype files will be analyzed\n",
    "parameter: region_list = path()\n",
    "# Optional: if a region name is provided \n",
    "# the analysis would be focused on the union of provides region list and region names\n",
    "parameter: region_name = []\n",
    "parameter: cwd = path(\"output\")\n",
    "# It is required to input the name of the analysis\n",
    "parameter: name = str\n",
    "# path to utility script. In the future we will consolidate this into an R package.\n",
    "parameter: utils_R = path(\"pipeline/xqtl_utils.R\")\n",
    "parameter: container = \"\"\n",
    "import re\n",
    "parameter: entrypoint= ('micromamba run -a \"\" -n' + ' ' + re.sub(r'(_apptainer:latest|_docker:latest|\\.sif)$', '', container.split('/')[-1])) if container else \"\"\n",
    "# For cluster jobs, number commands to run per job\n",
    "parameter: job_size = 3\n",
    "# Wall clock time expected\n",
    "parameter: walltime = \"10h\"\n",
    "# Memory expected\n",
    "parameter: mem = \"90G\"\n",
    "# Number of threads\n",
    "parameter: numThreads = 2\n",
    "# Name of phenotypes\n",
    "parameter: phenotype_names = [f'{x:bn}' for x in phenoFile]\n",
    "utils_R = f\"{utils_R:a}\""
   ]
  },
  {
   "cell_type": "code",
   "execution_count": null,
   "metadata": {
    "kernel": "SoS"
   },
   "outputs": [],
   "source": [
    "[get_analysis_regions: shared = \"regional_data\"]\n",
    "# input is genoFile, phenoFile, covFile and optionally region_list. If region_list presents then we only analyze what's contained in the list.\n",
    "# regional_data should be a dictionary with:\n",
    "# 1. a list of tuples: {data: [(gene_1.genotype, condition_1, cov_1), (gene_2.genotype, condition_1, cov_1, condition_2, cov_2), ...]} each element may not be of the same length\n",
    "# 2. a list of region meta_info: {meta_info: ( \"chr:start-end\",gene_1,\"cond_1\"), (\"chr:start-end\",gene_2, \"cond_1','cond_2\"), ...]}\n",
    "import pandas as pd\n",
    "import os\n",
    "\n",
    "genoFile = pd.read_csv(genoFile, sep = \"\\t\", header=0).rename(columns = {\"#region\":\"#id\"})  \n",
    "\n",
    "#if len(phenoFile) != len(covFile):\n",
    "#    raise ValueError(\"Number of input phenotypes files must match that of covariates files\")\n",
    "if len(phenoFile) != len(phenotype_names):\n",
    "    raise ValueError(\"Number of input phenotypes files must match the number of phenotype names\")\n",
    "## pos and covar are condition specific, this way when there is no phenotype file, there is na in the corresponding column.\n",
    "phenoFile = [pd.read_csv(x, sep = \"\\t\", header=0).assign(pos = lambda y:y['#chr'].astype(\"str\")+':'+y['start'].astype(\"str\")+'-'+y['end'].astype(\"str\")+\";\"+y[\"ID\"].astype(\"str\") \n",
    "                                              ).assign( cond = a ).drop(columns = [\"#chr\",\"start\",\"end\"]).rename(columns = {\"ID\":\"#id\"})   \n",
    "             for x,a in zip(phenoFile,phenotype_names)]\n",
    "for i in range(len(phenoFile)):\n",
    "    genoFile = genoFile.merge(phenoFile[i], on='#id', how='left', suffixes = (f'{i}_x', f'{i}_y'))\n",
    "\n",
    "# remove id that has no phenotype.\n",
    "genoFile = genoFile[~genoFile.drop(columns=['#id',\"#path\"]).isna().all(axis=1)] \n",
    "if len(genoFile.index) == 0:\n",
    "    raise ValueError(\"No region overlap between genotype #id and any of the phenotypes ID\")\n",
    "\n",
    "# Get position for meta_data\n",
    "genoFile.to_csv(\"test_df\",\"\\t\",index = False)\n",
    "pos_col = [col for col in genoFile.columns if col.startswith('pos')]\n",
    "genoFile.index = pd.Series(genoFile[pos_col].values.flatten()).dropna().unique()\n",
    "genoFile.index = [x.split(\";\")[0] for x in genoFile.index ]\n",
    "# Get the conditions strings for each ID\n",
    "cond_col = [col for col in genoFile.columns if col.startswith('cond')]\n",
    "genoFile[\"phenotype_names\"] = [\"','\".join(pd.Series((x)).dropna()) for x in genoFile[cond_col].to_dict(\"split\")[\"data\"]]\n",
    "# Clean up\n",
    "genoFile = genoFile.drop(columns = cond_col).drop(columns = pos_col)\n",
    "\n",
    "region_ids = []\n",
    "\n",
    "# If region_list is provided, read the file and extract IDs\n",
    "if region_list.is_file():\n",
    "    region_list_df = pd.read_csv(region_list, sep = \"\\t\", header=None, comment = \"#\")\n",
    "    region_ids = region_list_df.iloc[:, -1].unique()  # Extracting the last column for IDs\n",
    "\n",
    "# If region_name is provided, include those IDs as well\n",
    "# --region-name A B C will result in a list of [\"A\", \"B\", \"C\"] here\n",
    "if len(region_name) > 0:\n",
    "    region_ids = list(set(region_ids).union(set(region_name)))\n",
    "\n",
    "# If either region_list or region_name is provided, filter the genoFile\n",
    "if len(region_ids) > 0:\n",
    "    genoFile = genoFile[genoFile['#id'].isin(region_ids)]\n",
    "\n",
    "file_inv = genoFile.drop(columns = [\"#id\", \"phenotype_names\"]).to_dict(\"split\")\n",
    "file_inv['data'] = [[value for value in sublist if not pd.isna(value)] for sublist in file_inv['data']] \n",
    "\n",
    "\n",
    "## There will alwayse be genotype file due to left join,\n",
    "## There will alwayse be covar file as len(covFile) must == len(PhenoFile), and covar column is the same string accross all rows\n",
    "## So only if there is no bed.gz there will be problem.\n",
    "regional_data = {\"data\":file_inv[\"data\"],\"meta_info\": genoFile[[\"#id\",\"phenotype_names\"]].reset_index().to_dict(\"split\")['data'] }\n",
    "\n",
    "# Recreate file_inv based on the filtered genoFile\n",
    "file_inv = genoFile.drop(columns=[\"#id\", \"phenotype_names\"]).to_dict(\"split\")\n",
    "file_inv['data'] = [[value for value in sublist if not pd.isna(value)] for sublist in file_inv['data']] \n",
    "\n",
    "# Recreate the regional_data based on the filtered data\n",
    "regional_data = {\"data\": file_inv[\"data\"],\n",
    "                 \"meta_info\": genoFile[[\"#id\", \"phenotype_names\"]].reset_index().to_dict(\"split\")['data']}"
   ]
  },
  {
   "cell_type": "code",
   "execution_count": null,
   "metadata": {},
   "outputs": [],
   "source": [
    "[MMQTL_1]\n",
    "## This step further processes the input data into files before running mmQTL on it\n",
    "depends: sos_variable(\"regional_data\")\n",
    "parameter: grm_file = path()\n",
    "meta_info = regional_data['meta_info']\n",
    "data = regional_data[\"data\"]\n",
    "print(len(meta_info))\n",
    "print(len(data))\n",
    "input: for_each=dict(_data=data, _meta_info=meta_info)\n",
    "output: f'{cwd:a}//{step_name[:-2]}/{_meta_info[1]}/genotype_input_tmp',\n",
    "        f'{cwd:a}//{step_name[:-2]}/{_meta_info[1]}/phenotype_input_tmp'\n",
    "task: trunk_workers = 1, trunk_size = 50, walltime = \"1h\", mem = \"5G\", cores = numThreads, tags = f'{step_name}_{_output[0]:bn}'\n",
    "R: expand = '${ }', stdout = f\"{_output[0]}.stdout\", stderr = f\"{_output[0]}.stderr\", container = container, entrypoint = entrypoint\n",
    "    library(\"dplyr\")\n",
    "    library(\"readr\")\n",
    "    genotype = \"${_data[0].replace('.bed','')}\"\n",
    "    phenotype = c('${\"','\".join([x for x in _data[1::1]])}')\n",
    "    tib = tibble(genotype = genotype, phenotype = phenotype ${f\", grm = '{grm_file}'\" if grm_file.is_file() else \"\"} )\n",
    "    tib%>%select(genotype)%>%write_delim(\"${_output[0]}\",col_names = FALSE)\n",
    "    tib%>%select(phenotype)%>%write_delim(\"${_output[1]}\",col_names = FALSE)\n",
    "    ${f'tib%>%select(grm)%>%write_delim(\"{_output[0]}.grm\")' if grm_file.is_file() else \"\"}"
   ]
  },
  {
   "cell_type": "code",
   "execution_count": null,
   "metadata": {},
   "outputs": [],
   "source": [
    "[MMQTL_2]\n",
    "parameter: grm_file = path()\n",
    "depends: sos_variable(\"regional_data\")\n",
    "meta_info = regional_data['meta_info']\n",
    "input: group_with = \"meta_info\"\n",
    "output: f'{cwd:a}//{step_name[:-2]}/{_meta_info[1]}/{name}.{_meta_info[1]}._peak_1_statistical_signal'\n",
    "task: trunk_workers = 1, trunk_size = 1 , walltime = walltime, mem = mem, cores = numThreads, tags = f'{step_name}_{_output[0]:bn}'\n",
    "bash: expand = '${ }', stdout = f\"{_output}.stdout\", stderr = f\"{_output}.stderr\", container = container, entrypoint = entrypoint\n",
    "    cd ${_output:dd}\n",
    "    MMQTL26 -P ${_input[1]:a} -Z ${_input[0]:a} -a ${region_list:a} -T ${_meta_info[1]}  -o ${_output:bn}. ${f'--grm_file {_output[0]:a}.grm' if grm_file.is_file() else \"\" }"
   ]
  }
 ],
 "metadata": {
  "kernelspec": {
   "display_name": "R",
   "language": "R",
   "name": "ir"
  },
  "language_info": {
   "codemirror_mode": "r",
   "file_extension": ".r",
   "mimetype": "text/x-r-source",
   "name": "R",
   "pygments_lexer": "r",
   "version": "3.6.3"
  },
  "sos": {
   "kernels": [
    [
     "SoS",
     "sos",
     "",
     ""
    ]
   ],
   "version": "0.22.4"
  }
 },
 "nbformat": 4,
 "nbformat_minor": 4
}
