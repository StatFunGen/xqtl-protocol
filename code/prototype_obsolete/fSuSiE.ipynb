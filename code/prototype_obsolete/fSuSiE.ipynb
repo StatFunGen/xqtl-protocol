{
 "cells": [
  {
   "cell_type": "markdown",
   "id": "determined-table",
   "metadata": {
    "kernel": "SoS"
   },
   "source": [
    "# fSuSiE workflows"
   ]
  },
  {
   "cell_type": "markdown",
   "id": "28f471df-e72c-46e7-8b07-2539b4e32155",
   "metadata": {},
   "source": [
    "## Generate phenotype data per TADB list\n"
   ]
  },
  {
   "cell_type": "code",
   "execution_count": null,
   "id": "7521db28-4613-4e4a-9fd5-eefe314af311",
   "metadata": {},
   "outputs": [],
   "source": [
    "/home/hs3163/GIT/fungen-xqtl-analysis/analysis/Wang_Columbia/susie_twas/ROSMAP_eQTL/TADB_enhanced_cis.coding_nochrX.bed"
   ]
  },
  {
   "cell_type": "code",
   "execution_count": null,
   "id": "b0695c9e-504b-453f-8713-3dcc1ef24072",
   "metadata": {},
   "outputs": [],
   "source": [
    "sos run pipeline/phenotype_formatting.ipynb phenotype_annotate_by_tad \\\n",
    "    --TAD_list /home/hs3163/GIT/fungen-xqtl-analysis/analysis/Wang_Columbia/susie_twas/ROSMAP_eQTL/TADB_enhanced_cis.coding_nochrX.bed  \\\n",
    "    --phenoFile  \\\n",
    "    --phenotype_per_tad 2 \\\n",
    "    --container oras://ghcr.io/cumc/pecotmr_apptainer:latest"
   ]
  },
  {
   "cell_type": "code",
   "execution_count": null,
   "id": "73a4d65a-fdca-47a2-a0af-680439b15007",
   "metadata": {},
   "outputs": [],
   "source": [
    "sos run pipeline/phenotype_formatting.ipynb phenotype_annotate_by_tad \\\n",
    "    --TAD_list ~/GIT/fungen-xqtl-analysis/resource/extended_TADB.bed  \\\n",
    "    --phenoFile /mnt/vast/hpc/csg/molecular_phenotype_calling/QTL_fine_mapping/h3k9ac_whole.bed.gz \\\n",
    "    --phenotype_per_tad 2 \\\n",
    "    --container oras://ghcr.io/cumc/pecotmr_apptainer:latest"
   ]
  },
  {
   "cell_type": "code",
   "execution_count": null,
   "id": "2eb0a7e9-33ec-4149-9014-a770a5bfb13a",
   "metadata": {},
   "outputs": [],
   "source": [
    "sos run pipeline/phenotype_formatting.ipynb phenotype_annotate_by_tad \\\n",
    "    --TAD_list extended_TADB.bed \\\n",
    "    --phenoFile output/phenotype_by_region/protocol_example.methylation.bed.extended_TADB.bed.gz \\\n",
    "    --phenotype_per_tad 16 \\\n",
    "    --container oras://ghcr.io/cumc/pecotmr_apptainer:latest"
   ]
  },
  {
   "cell_type": "code",
   "execution_count": 1,
   "id": "5d8eaaf8-337b-459f-9575-4db1d06b4c92",
   "metadata": {},
   "outputs": [
    {
     "name": "stdout",
     "output_type": "stream",
     "text": [
      "#chr\tstart\tend\tindex\n",
      "chr1\t0\t7520074\tTADB_1\n",
      "chr1\t5101787\t8985505\tTADB_2\n",
      "chr1\t5785453\t10985501\tTADB_3\n",
      "chr1\t8501092\t11630758\tTADB_4\n",
      "chr1\t9474949\t13144207\tTADB_5\n",
      "chr1\t11063302\t14322598\tTADB_6\n",
      "chr1\t11746199\t16526534\tTADB_7\n",
      "chr1\t14490832\t17972964\tTADB_8\n",
      "chr1\t15467436\t20329300\tTADB_9\n"
     ]
    }
   ],
   "source": [
    "head /hpc/users/sunh14/snmulti_QTL/test/extended_TADB.bed"
   ]
  },
  {
   "cell_type": "code",
   "execution_count": null,
   "id": "75f76589-6a61-4569-ab07-04a16ec9dc6c",
   "metadata": {},
   "outputs": [],
   "source": [
    "head output/phenotype_by_region/protocol_example.methylation.bed.extended_TADB.bed.16_pheno_per_region.region_list\n",
    "#chr    start   end     ID      path\n",
    "chr22   17150169        21377251        TADB_1315       protocol_example.methylation.bed.gz\n",
    "chr22   18714502        22700015        TADB_1316       protocol_example.methylation.bed.gz\n",
    "chr22   19689928        25774720        TADB_1317       protocol_example.methylation.bed.gz\n",
    "chr22   22856702        27630669        TADB_1318       protocol_example.methylation.bed.gz"
   ]
  },
  {
   "cell_type": "markdown",
   "id": "676fbc3f-0829-4ac1-96bd-cea86265252d",
   "metadata": {},
   "source": [
    "## fSuSie Analysis\n"
   ]
  },
  {
   "cell_type": "code",
   "execution_count": null,
   "id": "2784358e-ae38-4191-a140-b9faa7137a49",
   "metadata": {},
   "outputs": [],
   "source": [
    "sos run pipeline/mnm_regression.ipynb fsusie \\\n",
    "    --name protocol_example_methylation \\\n",
    "    --genoFile xqtl_association/protocol_example.genotype.chr21_22.plink_qc.genotype_by_chrom_files.txt \\\n",
    "    --phenoFile output/phenotype_by_region/protocol_example.methylation.bed.extended_TADB.bed.16_pheno_per_region.region_list \\\n",
    "                output/phenotype_by_region/protocol_example.methylation.bed.extended_TADB.bed.16_pheno_per_region.region_list  \\\n",
    "    --covFile output/covariate/protocol_example.methylation.protocol_example.samples.protocol_example.genotype.chr21_22.pQTL.plink_qc.prune.pca.Marchenko_PC.gz \\\n",
    "              output/covariate/protocol_example.methylation.protocol_example.samples.protocol_example.genotype.chr21_22.pQTL.plink_qc.prune.pca.Marchenko_PC.gz \\\n",
    "    --container oras://ghcr.io/cumc/pecotmr_apptainer:latest"
   ]
  },
  {
   "cell_type": "code",
   "execution_count": null,
   "id": "db1066ad-8a5e-4a16-b07e-621bb855088e",
   "metadata": {},
   "outputs": [],
   "source": []
  },
  {
   "cell_type": "code",
   "execution_count": null,
   "id": "a5b723ab-45f8-4938-8ae5-de52835f6246",
   "metadata": {},
   "outputs": [],
   "source": []
  },
  {
   "cell_type": "markdown",
   "id": "active-halifax",
   "metadata": {
    "kernel": "SoS"
   },
   "source": [
    "## Archived: Plotting"
   ]
  },
  {
   "cell_type": "markdown",
   "id": "grave-consequence",
   "metadata": {
    "kernel": "SoS"
   },
   "source": [
    "### PIP land scape plot"
   ]
  },
  {
   "cell_type": "code",
   "execution_count": null,
   "id": "architectural-armenia",
   "metadata": {
    "kernel": "SoS"
   },
   "outputs": [],
   "source": [
    "sos run pipeline/SuSiE_post_processing.ipynb susie_pip_landscape_plot \\\n",
    "    --cwd output/test/ --plot_list plot_recipe_668 --annot_tibble ~/Annotatr_builtin_annotation_tibble.tsv -s force --container containers/stephenslab.sif  &\n",
    "\n",
    "sos run pipeline/SuSiE_post_processing.ipynb susie_pip_landscape_plot \\\n",
    "    --cwd output/test/ --plot_list plot_recipe_ADGWAS_uni --annot_tibble ~/Annotatr_builtin_annotation_tibble.tsv -s force --container containers/stephenslab.sif  &\n",
    "\n",
    "sos run pipeline/SuSiE_post_processing.ipynb susie_pip_landscape_plot \\\n",
    "    --cwd output/1182/ --plot_list plot_recipe_1182 --annot_tibble ~/Annotatr_builtin_annotation_tibble.tsv -s force --container containers/stephenslab.sif  &"
   ]
  },
  {
   "cell_type": "code",
   "execution_count": null,
   "id": "rocky-index",
   "metadata": {
    "kernel": "SoS"
   },
   "outputs": [],
   "source": [
    "sos run pipeline/SuSiE_post_processing.ipynb susie_pip_landscape_plot \\\n",
    "    --cwd output/test_3/ --plot_list plot_recipe --annot_tibble ~/Annotatr_builtin_annotation_tibble.tsv -s force --container containers/stephenslab.sif  &"
   ]
  },
  {
   "cell_type": "code",
   "execution_count": null,
   "id": "accessible-mustang",
   "metadata": {
    "kernel": "SoS"
   },
   "outputs": [],
   "source": [
    "sos run pipeline/SuSiE_post_processing.ipynb susie_pip_landscape_plot \\\n",
    "    --cwd output/5g/ --plot_list recipe_5gene --annot_tibble ~/Annotatr_builtin_annotation_tibble.tsv -s force --container containers/stephenslab.sif  &"
   ]
  },
  {
   "cell_type": "markdown",
   "id": "alert-polymer",
   "metadata": {
    "kernel": "SoS"
   },
   "source": [
    "### UpSetR plot "
   ]
  },
  {
   "cell_type": "code",
   "execution_count": null,
   "id": "cellular-flush",
   "metadata": {
    "kernel": "SoS"
   },
   "outputs": [],
   "source": [
    "sos run pipeline/SuSiE_post_processing.ipynb susie_upsetR_plot \\\n",
    "    --cwd output/updated_mQTL/ --plot_list UpsetR_recipe -s force --container containers/stephenslab.sif &\n",
    "sos run pipeline/SuSiE_post_processing.ipynb susie_upsetR_plot \\\n",
    "    --cwd output/updated_16/ --plot_list UpsetR_recipe_16 -s force --container containers/stephenslab.sif &"
   ]
  },
  {
   "cell_type": "code",
   "execution_count": null,
   "id": "pressed-intellectual",
   "metadata": {
    "kernel": "SoS"
   },
   "outputs": [],
   "source": [
    "sos run pipeline/SuSiE_post_processing.ipynb susie_upsetR_cs_plot \\\n",
    "    --cwd output/updated_mQTL/ --plot_list UpsetR_recipe_1 -s force --trait_to_select 3 --container containers/stephenslab.sif &\n",
    "sos run pipeline/SuSiE_post_processing.ipynb susie_upsetR_cs_plot \\\n",
    "    --cwd output/updated_16/ --plot_list UpsetR_recipe_16  -s force --trait_to_select 3 --container containers/stephenslab.sif &\n",
    "\n",
    "sos run pipeline/SuSiE_post_processing.ipynb susie_upsetR_cs_plot \\\n",
    "    --cwd output/rerun/ --plot_list UpsetR_recipe_16_rerun  -s force --trait_to_select 3 --container containers/stephenslab.sif &\n",
    "\n",
    "sos run pipeline/SuSiE_post_processing.ipynb susie_upsetR_cs_plot \\\n",
    "    --cwd output/rerun/ --plot_list UpsetR_recipe_16_rerun  -s force --trait_to_select 2 --container containers/stephenslab.sif &\n",
    "\n",
    "sos run pipeline/SuSiE_post_processing.ipynb susie_upsetR_cs_plot \\\n",
    "    --cwd output/rerun/ --plot_list UpsetR_recipe_16_rerun  -s force --trait_to_select 1 --container containers/stephenslab.sif &"
   ]
  },
  {
   "cell_type": "markdown",
   "id": "unavailable-burden",
   "metadata": {
    "kernel": "SoS"
   },
   "source": [
    "## FSuSiE estimated effect plot"
   ]
  },
  {
   "cell_type": "code",
   "execution_count": null,
   "id": "sensitive-burden",
   "metadata": {
    "kernel": "SoS"
   },
   "outputs": [],
   "source": [
    "sos run pipeline/SuSiE_post_processing.ipynb fsusie_extract_effect \\\n",
    "    --cwd output/all_haQTL_effect/ --rds_path /mnt/vast/hpc/csg/molecular_phenotype_calling/QTL_fine_mapping/output/definitive_haQTL//*.rds \\\n",
    "    --container containers/stephenslab.sif\n",
    "\n",
    "sos run pipeline/SuSiE_post_processing.ipynb fsusie_extract_effect \\\n",
    "    --cwd output/all_meQTL_effect/ --rds_path /mnt/vast/hpc/csg/molecular_phenotype_calling/QTL_fine_mapping/output/definitive_mQTL/*rds \\\n",
    "    --container containers/stephenslab.sif -s build "
   ]
  },
  {
   "cell_type": "code",
   "execution_count": null,
   "id": "mounted-vintage",
   "metadata": {
    "kernel": "SoS"
   },
   "outputs": [],
   "source": [
    "nohup sos run pipeline/SuSiE_post_processing.ipynb fsusie_extract_effect \\\n",
    "    --cwd output/rerun/all_haQTL_effect/ --rds_path `ls output/rerun/cache/*haqtl*rds | grep -v -f empty_rds ` \\\n",
    "    --container containers/stephenslab.sif -s build  &\n",
    "\n",
    "nohup sos run pipeline/SuSiE_post_processing.ipynb fsusie_extract_effect \\\n",
    "    --cwd output/rerun/all_meQTL_effect/ --rds_path `ls output/rerun/cache/*mqtl*rds | grep -v -f empty_rds ` \\\n",
    "    --container containers/stephenslab.sif -s build &"
   ]
  },
  {
   "cell_type": "markdown",
   "id": "thorough-broadcasting",
   "metadata": {
    "kernel": "SoS"
   },
   "source": [
    "## FSuSiE credible band"
   ]
  },
  {
   "cell_type": "code",
   "execution_count": null,
   "id": "democratic-hamburg",
   "metadata": {
    "kernel": "SoS"
   },
   "outputs": [],
   "source": [
    "sos run pipeline/SuSiE_post_processing.ipynb fsusie_affected_region \\\n",
    "    --cwd output/definitive_haQTL/affected_region --rds_path /mnt/vast/hpc/csg/molecular_phenotype_calling/QTL_fine_mapping/output/definitive_haQTL/*.rds \\\n",
    "    --container containers/stephenslab.sif"
   ]
  },
  {
   "cell_type": "code",
   "execution_count": null,
   "id": "reserved-david",
   "metadata": {
    "kernel": "SoS"
   },
   "outputs": [],
   "source": [
    "sos run pipeline/SuSiE_post_processing.ipynb fsusie_affected_region \\\n",
    "    --cwd output/definitive_mQTL/affected_region --rds_path /mnt/vast/hpc/csg/molecular_phenotype_calling/QTL_fine_mapping/output/definitive_mQTL/*.rds \\\n",
    "    --container containers/stephenslab.sif"
   ]
  },
  {
   "cell_type": "code",
   "execution_count": null,
   "id": "vanilla-friday",
   "metadata": {
    "kernel": "SoS"
   },
   "outputs": [],
   "source": [
    "nohup sos run pipeline/SuSiE_post_processing.ipynb fsusie_affected_region    \\\n",
    "    --cwd output/definitive_mQTL/affected_region \\\n",
    "    --rds_path /mnt/vast/hpc/csg/molecular_phenotype_calling/QTL_fine_mapping/output/definitive_mQTL/*.rds    \\\n",
    "    --container containers/stephenslab.sif -J 300 -q csg2 -c csg2.yml  &"
   ]
  },
  {
   "cell_type": "code",
   "execution_count": null,
   "id": "equal-oxide",
   "metadata": {
    "kernel": "SoS"
   },
   "outputs": [],
   "source": [
    "nohup sos run pipeline/SuSiE_post_processing.ipynb fsusie_affected_region \\\n",
    "    --cwd output/rerun/affected_region/mQTL --rds_path `ls output/rerun/cache/*mqtl*rds | grep -v -f empty_rds ` \\\n",
    "    --container containers/stephenslab.sif &\n",
    "\n",
    "nohup sos run pipeline/SuSiE_post_processing.ipynb fsusie_affected_region \\\n",
    "    --cwd output/rerun/affected_region/haQTL --rds_path `ls output/rerun/cache/*haqtl*rds | grep -v -f empty_rds ` \\\n",
    "    --container containers/stephenslab.sif &"
   ]
  }
 ],
 "metadata": {
  "kernelspec": {
   "display_name": "Bash",
   "language": "bash",
   "name": "bash"
  },
  "language_info": {
   "codemirror_mode": "shell",
   "file_extension": ".sh",
   "mimetype": "text/x-sh",
   "name": "bash"
  },
  "sos": {
   "kernels": [
    [
     "Bash",
     "bash",
     "Bash",
     "#E6EEFF",
     "shell"
    ],
    [
     "SoS",
     "sos",
     "",
     "",
     "sos"
    ]
   ],
   "version": "0.22.4"
  }
 },
 "nbformat": 4,
 "nbformat_minor": 5
}
