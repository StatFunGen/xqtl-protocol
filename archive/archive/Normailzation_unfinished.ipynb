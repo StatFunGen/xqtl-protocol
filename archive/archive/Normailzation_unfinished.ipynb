{
 "cells": [
  {
   "cell_type": "markdown",
   "id": "stuffed-focus",
   "metadata": {
    "kernel": "SoS",
    "tags": []
   },
   "source": [
    "# Molecular phenotype normalization\n",
    "This is the region extraction step for data processing pipeline for xqtl workflow, containing the generation of:\n",
    "1. Molecular_phenotype per chrom within selected regions in the format APEX and tensorQTL takes\n",
    "\n",
    "### Input\n",
    "The input for this workflow is the collection of data for 1 conditions as described in the readme of this git repo\n",
    "1. 1 complete molecular_phenotype data\n",
    "2. 1 file documenting the list of region to be analyzed\n",
    "\n",
    "### Output\n",
    "For each collection, the output is 23 sets of :\n",
    "1. Sets of EXP file for selected region, suitable to be fed into both apex and tensorQTL\n",
    "\n",
    "1 sets of\n",
    "1. PCA + Factor + Covariate file\n"
   ]
  },
  {
   "cell_type": "code",
   "execution_count": 2,
   "id": "running-jefferson",
   "metadata": {
    "kernel": "SoS"
   },
   "outputs": [],
   "source": [
    "[global]\n",
    "import os\n",
    "# Work directory & output directory\n",
    "parameter: wd = path\n",
    "# The filename namefor output data\n",
    "parameter: container = 'gaow/twas'\n",
    "# namefor the analysis output\n",
    "parameter: name= 'ROSMAP'\n",
    "# An index text file with 4 columns specifying the chr, start, end and names of regions to analyze\n",
    "parameter: region_list = path\n",
    "# For cluster jobs, number commands to run per job\n",
    "parameter: job_size = 1\n",
    "# Wall clock time expected\n",
    "parameter: walltime = \"5h\"\n",
    "# Memory expected\n",
    "parameter: mem = \"16G\"\n",
    "# Number of threads\n",
    "parameter: numThreads = 20\n",
    "\n",
    "Prefix = name\n",
    "\n",
    "regions = [x.strip().split() for x in open(region_list).readlines() if x.strip() and not x.strip().startswith('#')]\n",
    "# Get the unique chormosome that have regions to be analyzed.\n",
    "def extract(lst):\n",
    "    return [item[0] for item in lst]\n",
    "chrom = list(set(extract(regions)))\n",
    "\n",
    "import os\n",
    "def get_genotype_file(chrom, genotype_list, geno_inventory):\n",
    "    chrom = f'{chrom}'\n",
    "    if chrom.startswith('chr'):\n",
    "        chrom = chrom[3:]\n",
    "    if chrom not in geno_inventory:\n",
    "        geno_file = f'{chrom}'\n",
    "    else:\n",
    "        geno_file = geno_inventory[chrom]\n",
    "    if not os.path.isfile(geno_file):\n",
    "        # relative path\n",
    "        if not os.path.isfile(f'{genotype_list:ad}/' + geno_file):\n",
    "            raise ValueError(f\"Cannot find genotype file {geno_file}\")\n",
    "        else:\n",
    "            geno_file = f'{genotype_list:ad}/' + geno_file\n",
    "    return path(geno_file)\n"
   ]
  },
  {
   "cell_type": "markdown",
   "id": "pediatric-finding",
   "metadata": {
    "kernel": "SoS",
    "tags": []
   },
   "source": [
    "## Process of molecular phenotype file\n",
    "This workflow produce a vcf+tabix file for all the molecular pheno data that are included in the region list to feed into APEX factor analysis\n",
    "This workflow also produce a vcf+tabix for each chromosome for downstream QTL association analysis"
   ]
  },
  {
   "cell_type": "code",
   "execution_count": null,
   "id": "furnished-olive",
   "metadata": {
    "kernel": "SoS"
   },
   "outputs": [],
   "source": [
    "[Normalization]\n",
    "# Path to the input molecular phenotype data, should be a processd and indexed bed.gz file, with tabix index.\n",
    "\n",
    "parameter: molecular_pheno_whole = path\n",
    "input: molecular_pheno_whole\n",
    "output: f'{wd}/{Prefix}.mol_phe.bed.gz',  # For factor\n",
    "\n",
    "task: trunk_workers = 1, trunk_size = 1, walltime = '4h',  mem = '20G', tags = f'{step_name}_{_output[0]:bn}'  \n",
    "bash: expand = \"$[ ]\", stderr = f'{_output[0]}.stderr', stdout = f'{_output[0]}.stdout',container = container\n",
    "        \n"
   ]
  },
  {
   "cell_type": "code",
   "execution_count": null,
   "id": "durable-clarity",
   "metadata": {
    "kernel": "SoS"
   },
   "outputs": [],
   "source": []
  }
 ],
 "metadata": {
  "kernelspec": {
   "display_name": "SoS",
   "language": "sos",
   "name": "sos"
  },
  "language_info": {
   "codemirror_mode": "sos",
   "file_extension": ".sos",
   "mimetype": "text/x-sos",
   "name": "sos",
   "nbconvert_exporter": "sos_notebook.converter.SoS_Exporter",
   "pygments_lexer": "sos"
  },
  "sos": {
   "kernels": [
    [
     "SoS",
     "sos",
     "",
     ""
    ]
   ],
   "version": "0.22.6"
  }
 },
 "nbformat": 4,
 "nbformat_minor": 5
}
