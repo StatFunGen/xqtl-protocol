{
 "cells": [
  {
   "cell_type": "code",
   "execution_count": null,
   "id": "1083466d-0cca-4e33-bf98-40817bb8daa4",
   "metadata": {
    "kernel": "SoS",
    "tags": []
   },
   "outputs": [],
   "source": []
  },
  {
   "cell_type": "markdown",
   "id": "b2f2a5bf-a179-43ef-bdd6-c40c5b2e024f",
   "metadata": {
    "kernel": "SoS",
    "tags": []
   },
   "source": [
    "# XQTL worflow master control panel\n",
    "This notebook provide a master control on the XQTL workflow so it can works on multiple data collection as proposed.\n",
    "Input:\n",
    "    A recipe file,each row is a data collection and with the following column:\n",
    "    \n",
    "    Theme\n",
    "        name of dataset, must be different, each uni_study analysis will be performed in a folder named after each, meta analysis will be performed in a folder named as {study1}_{study2}\n",
    "            \n",
    "        The column name must contain the # and be the first column\n",
    "    \n",
    "    genotype_list\n",
    "        {Path to file}\n",
    "    \n",
    "    molecular_pheno\n",
    "        {Path to file}\n",
    "    region_list (list of regions to be analzed)\n",
    "        {Path to file}\n",
    "    \n",
    "    covariate_file\n",
    "        {Path to file}\n",
    "    \n",
    "    factor_analysis_opt\n",
    "        \"APEX\" vs \"PEER\" for factor analysis\n",
    "    \n",
    "    LD options:\n",
    "        \"In-sample\" LD vs {path to reference panel}\n",
    "    \n",
    "    QTL_tool_option\n",
    "        \"APEX\" vs \"TensorQTL\" for QTL association\n",
    "    \n",
    "    QTL_analysis_option\n",
    "        {Int for cis window} vs \"trans\"\n",
    "    \n",
    "    Populations\n",
    "        The populations from which of the samples was drawn\n",
    "    \n",
    "    Conditions:\n",
    "        The nature of molecular phenotype\n",
    "    \n",
    "    ### note: Only data collection from the same Populations and conditions will me merged to perform Fix effect meta analysis\n",
    "    \n",
    "Output:\n",
    "    ..."
   ]
  },
  {
   "cell_type": "code",
   "execution_count": null,
   "id": "d80e5b72-ca65-45b8-ba6d-d286bb592479",
   "metadata": {
    "kernel": "SoS"
   },
   "outputs": [],
   "source": [
    "Recipe_temp = pd.DataFrame( {\"Theme\" : [\"AC\",\"DLPFC\",\"PCC\"] ,\n",
    "                \"genotype_list\" : [\"/home/hs3163/Project/Rosmap/data/Rosmap_wgs_genotype_list.txt\",\n",
    "                   \"/home/hs3163/Project/Rosmap/data/Rosmap_wgs_genotype_list.txt\",\n",
    "                   \"/home/hs3163/Project/Rosmap/data/Rosmap_wgs_genotype_list.txt\"],\n",
    "                \"molecular_pheno\" : [\"/home/hs3163/Project/Rosmap/data/gene_exp/AC/geneTpmResidualsAgeGenderAdj_rename.txt\",\n",
    "                     \"/home/hs3163/Project/Rosmap/data/gene_exp/DLPFC/geneTpmResidualsAgeGenderAdj_rename.txt\",\n",
    "                     \"/home/hs3163/Project/Rosmap/data/gene_exp/PCC/geneTpmResidualsAgeGenderAdj_rename.txt\"],\n",
    "                \"region_list\" : [\"~/GIT/ADSPFG-xQTL/MWE/mwe_region\",\n",
    "                \"~/GIT/ADSPFG-xQTL/MWE/mwe_region\",\n",
    "                \"~/GIT/ADSPFG-xQTL/MWE/mwe_region\"] ,\n",
    "                \"covariate_file\" : [\".\",\".\",\".\"],\n",
    "                \"factor_analysis_opt\" : [\"APEX\",\"APEX\",\"APEX\"],\n",
    "                \"LD_options\": [\"In-sample\",\"In-sample\",\"In-sample\"],\n",
    "                \"QTL_tool_option\" : [\"APEX\",\"APEX\",\"APEX\"],\n",
    "                \"QTL_analysis_option\" : [\"cis\",\"cis\",\"cis\"],\n",
    "                \"cis_windows\" : [500000,500000,5000000],\n",
    "                \"Metal\" : [\"T\",\"T\",\"F\"]})\n",
    "\n",
    "        ### note: Only data collection from the same Populations and conditions will me merged to perform Fix effect meta analysis\n",
    "    "
   ]
  },
  {
   "cell_type": "code",
   "execution_count": null,
   "id": "22ea2436-61ef-403f-b99b-aab0f5b4e0e2",
   "metadata": {
    "kernel": "SoS"
   },
   "outputs": [],
   "source": [
    "sos dryrun /home/hs3163/GIT/ADSPFG-xQTL/workflow/master_control_testing.ipynb data_proc \\\n",
    "        --recipe /home/hs3163/GIT/ADSPFG-xQTL/MWE/mwe_recipe_example \\\n",
    "        --wd ./ \\\n",
    "        --exe_dir \"~/GIT/ADSPFG-xQTL/workflow\" \n",
    "    \n",
    "sos dryrun /home/hs3163/GIT/ADSPFG-xQTL/workflow/master_control.ipynb QTL \\\n",
    "        --recipe /home/hs3163/GIT/ADSPFG-xQTL/MWE/mwe_recipe_example \\\n",
    "        --wd ./ \\\n",
    "        --exe_dir \"~/GIT/ADSPFG-xQTL/workflow\" \n",
    "\n",
    "sos dryrun /home/hs3163/GIT/ADSPFG-xQTL/workflow/master_control.ipynb Meta \\\n",
    "        --recipe /home/hs3163/GIT/ADSPFG-xQTL/MWE/mwe_recipe_example \\\n",
    "        --wd ./ \\\n",
    "        --exe_dir \"~/GIT/ADSPFG-xQTL/workflow\" \n",
    "\n",
    "sos dryrun /home/hs3163/GIT/ADSPFG-xQTL/workflow/master_control.ipynb Fine_mapping \\\n",
    "        --recipe /home/hs3163/GIT/ADSPFG-xQTL/MWE/mwe_recipe_example \\\n",
    "        --wd ./ \\\n",
    "        --exe_dir \"~/GIT/ADSPFG-xQTL/workflow\" \n"
   ]
  },
  {
   "cell_type": "code",
   "execution_count": null,
   "id": "07dd33f3-f4d2-48f7-90a6-5cf6de82d447",
   "metadata": {
    "kernel": "SoS"
   },
   "outputs": [],
   "source": [
    "[global]\n",
    "## The aforementioned input recipe\n",
    "parameter: recipe = path\n",
    "## Overall wd, the file structure of analysis is wd/[steps]/[sub_dir for each steps]\n",
    "parameter:  wd = path(\".\")\n",
    "## Diretory to the excutable\n",
    "parameter: exe_dir = path(\"~/GIT/ADSPFG-xQTL/workflow\")\n",
    "\n",
    "parameter: container = '/mnt/mfs/statgen/containers/twas_latest.sif'\n",
    "parameter: container_lmm = '/mnt/mfs/statgen/containers/lmm.sif'\n",
    "parameter: container_apex = '/mnt/mfs/statgen/containers/apex.sif'\n",
    "\n",
    "import pandas as pd\n",
    "input_inv = pd.read_csv(recipe).to_dict(\"record\")\n",
    "\n",
    "Metal_theme = input_inv.query(\"Metal == 'T'\")[\"Theme\"].to_list()\n",
    "\n"
   ]
  },
  {
   "cell_type": "markdown",
   "id": "e8cd4097-0933-48a9-81c1-582b3eb3792f",
   "metadata": {
    "kernel": "SoS",
    "tags": []
   },
   "source": [
    "## Data Processing\n",
    "For each theme a new recipe\n"
   ]
  },
  {
   "cell_type": "code",
   "execution_count": null,
   "id": "c84c25c2-7598-4580-b6de-ba497bc83296",
   "metadata": {
    "kernel": "SoS"
   },
   "outputs": [],
   "source": [
    "[data_proc]\n",
    "input: for_each = \"input_inv\"\n",
    "output: f'{wd}/Data_Processing/{_input[\"Theme\"]}.data_proc_output_recipe.tsv'\n",
    "task: task: trunk_workers = 1, trunk_size = 1, walltime = '24h',  mem = '40G', tags = f'{step_name}_{_output[0]:bn}'\n",
    "bash:  expand = \"$[ ]\", stderr = f'{_output[0]}.stderr', stdout = f'{_output[0]}.stdout', volumes = [f'{wd:ad}:{wd:ad}']\n",
    "    sos run $[exe_dir]/Data_Processing/Data_Processing.ipynb Recipe \\\n",
    "        --molecular_pheno_whole $[_input[\"molecular_pheno\"]] \\\n",
    "        --region_list $[_input[\"region_list\"] \\\n",
    "        --genotype_list $[_input[\"genotype_list\"] \\\n",
    "        --cov $[_input[\"covariate_file\"] \\\n",
    "        --name $[_input[\"Theme\"]] \\\n",
    "        --cointainer_lmm $[cointainer_lmm] \\\n",
    "        --cointainer $[cointainer] \\\n",
    "        --wd $[wd]/Data_Processing/"
   ]
  }
 ],
 "metadata": {
  "kernelspec": {
   "display_name": "SoS",
   "language": "sos",
   "name": "sos"
  },
  "language_info": {
   "codemirror_mode": "sos",
   "file_extension": ".sos",
   "mimetype": "text/x-sos",
   "name": "sos",
   "nbconvert_exporter": "sos_notebook.converter.SoS_Exporter",
   "pygments_lexer": "sos"
  },
  "sos": {
   "kernels": [
    [
     "SoS",
     "sos",
     "",
     ""
    ]
   ],
   "version": "0.22.6"
  }
 },
 "nbformat": 4,
 "nbformat_minor": 5
}
