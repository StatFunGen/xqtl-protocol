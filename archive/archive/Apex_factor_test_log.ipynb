{
 "cells": [
  {
   "cell_type": "markdown",
   "id": "suspended-brush",
   "metadata": {
    "kernel": "SoS",
    "tags": []
   },
   "source": [
    "# APEX factor analysis"
   ]
  },
  {
   "cell_type": "code",
   "execution_count": null,
   "id": "recovered-memorabilia",
   "metadata": {
    "kernel": "SoS"
   },
   "outputs": [],
   "source": [
    "apex factor --out ./factor_cov --iter 1000 --factors 3 \\\n",
    "--bed /mnt/mfs/statgen/neuro-apex/performance/data/ROSMAP.mol_phe.1.bed.gz \\\n",
    "--cov ROSMAP.cov"
   ]
  },
  {
   "cell_type": "code",
   "execution_count": null,
   "id": "lesser-perspective",
   "metadata": {
    "kernel": "SoS"
   },
   "outputs": [],
   "source": [
    "apex factor --out ./factor_cov_difc --iter 3 --factors 3 \\\n",
    "--vcf /mnt/mfs/statgen/neuro-apex/ROSMAP-vcf/ROSMAP_chr10.vcf.gz.vcf.gz \\\n",
    "--bed /mnt/mfs/statgen/neuro-apex/performance/data/ROSMAP.mol_phe.tmp.bed.gz \\\n",
    "--cov /home/hs3163/GIT/ADSPFG-xQTL/MWE/MWE.cov"
   ]
  },
  {
   "cell_type": "code",
   "execution_count": null,
   "id": "portuguese-preserve",
   "metadata": {
    "kernel": "SoS"
   },
   "outputs": [],
   "source": [
    "apex factor --out ./factor_cov_difc --iter 3 --factors 3 \\\n",
    "--vcf /mnt/mfs/statgen/neuro-apex/ROSMAP-vcf/ROSMAP_chr10.vcf.gz.vcf.gz \\\n",
    "--bed /mnt/mfs/statgen/neuro-apex/performance/data/ROSMAP.mol_phe.tmp.bed.gz \\\n",
    "--cov /home/hs3163/GIT/ADSPFG-xQTL/MWE/MWE.cov"
   ]
  },
  {
   "cell_type": "code",
   "execution_count": null,
   "id": "occupied-filter",
   "metadata": {
    "kernel": "SoS"
   },
   "outputs": [],
   "source": [
    "apex factor --out ./factor_cov_difc --iter 3 --factors 3 \\\n",
    "--vcf /mnt/mfs/statgen/xqtl_workflow_testing/testing_1/Data_Processing/Genotype/AC_vcf_geno/AC_chr22.vcf.gz \\\n",
    "--bed /mnt/mfs/statgen/xqtl_workflow_testing/testing_1/Data_Processing/Phenotype/AC.chr21.mol_phe.bed.gz \\\n",
    "--cov /home/hs3163/GIT/ADSPFG-xQTL/MWE/MWE.cov"
   ]
  },
  {
   "cell_type": "code",
   "execution_count": null,
   "id": "consistent-healing",
   "metadata": {
    "kernel": "SoS"
   },
   "outputs": [],
   "source": [
    "apex factor --out ./factor_cov_full --iter 3 --factors 3 \\\n",
    "--vcf /mnt/mfs/statgen/xqtl_workflow_testing/testing_1/Data_Processing/Genotype/AC_vcf_geno/AC_chr21.vcf.gz \\\n",
    "--bed /mnt/mfs/statgen/xqtl_workflow_testing/testing_1/Data_Processing/Phenotype/AC.chr21.mol_phe.bed.gz \\\n",
    "--cov /home/hs3163/GIT/ADSPFG-xQTL/MWE/MWE.cov"
   ]
  },
  {
   "cell_type": "code",
   "execution_count": null,
   "id": "delayed-provincial",
   "metadata": {
    "kernel": "SoS"
   },
   "outputs": [],
   "source": [
    "apex factor --out ./factor_cov_no --iter 3 --factors 3 \\\n",
    "--bed /mnt/mfs/statgen/xqtl_workflow_testing/testing_1/Data_Processing/Phenotype/AC.chr21.mol_phe.bed.gz "
   ]
  },
  {
   "cell_type": "code",
   "execution_count": null,
   "id": "floating-alaska",
   "metadata": {
    "kernel": "SoS"
   },
   "outputs": [],
   "source": [
    "sos dryrun /home/hs3163/GIT/ADSPFG-xQTL/workflow/QTL_association/QTL_association.ipynb APEX_cis_Recipe \\\n",
    "    --recipe Data_Processing/AC.data_proc_output_recipe.tsv \\\n",
    "    --container /mnt/mfs/statgen/containers/apex.sif \\\n",
    "    --window 500000 \\\n",
    "    --name AC  \\\n",
    "    --wd /mnt/mfs/statgen/xqtl_workflow_testing/testing_3/QTL_association/"
   ]
  }
 ],
 "metadata": {
  "kernelspec": {
   "display_name": "SoS",
   "language": "sos",
   "name": "sos"
  },
  "language_info": {
   "codemirror_mode": "sos",
   "file_extension": ".sos",
   "mimetype": "text/x-sos",
   "name": "sos",
   "nbconvert_exporter": "sos_notebook.converter.SoS_Exporter",
   "pygments_lexer": "sos"
  },
  "sos": {
   "kernels": [
    [
     "SoS",
     "sos",
     "",
     ""
    ]
   ],
   "version": "0.22.4"
  }
 },
 "nbformat": 4,
 "nbformat_minor": 5
}
