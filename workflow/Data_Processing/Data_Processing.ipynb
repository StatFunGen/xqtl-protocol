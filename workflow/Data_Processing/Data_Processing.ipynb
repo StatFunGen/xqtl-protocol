{
 "cells": [
  {
   "cell_type": "markdown",
   "id": "manufactured-squad",
   "metadata": {
    "kernel": "SoS",
    "tags": []
   },
   "source": [
    "# Genotype and covariate data preprocessing\n",
    "This is the data processing pipeline for xqtl workflow, containing the generation of:\n",
    "1. Factor from expression\n",
    "2. PCA from genotype\n",
    "3. GRM from genotype\n",
    "4. LD from genotype, filtered by grm [TBD]\n",
    "5. Molecular_phenotype per chrom within selected regions in the format APEX and tensorQTL takes\n",
    "\n",
    "### Input\n",
    "The input for this workflow is the collection of data for 1 conditions as described in the readme of this git repo\n",
    "1. 1 complete molecular_phenotype data\n",
    "2. 1 collection of genotype data in plink format, partitioned by chrm\n",
    "3. 1 file documenting the list of region to be analyzed\n",
    "4. \n",
    "\n",
    "### Output\n",
    "For each collection, the output is 23 sets of :\n",
    "1. EXP file for selected region\n",
    "2. genotype from vcf file\n",
    "\n",
    "1 sets of\n",
    "1. PCA + Factor + Covariate file\n",
    "\n",
    "### Excutable:\n",
    "This notebook depends on the scripts of multiple other notebook, the directory those are specify by exe_dir"
   ]
  },
  {
   "cell_type": "code",
   "execution_count": null,
   "id": "chicken-integration",
   "metadata": {
    "kernel": "Bash",
    "tags": []
   },
   "outputs": [],
   "source": [
    "nohup sos run /home/hs3163/GIT/ADSPFG-xQTL/workflow/Data_Processing/Data_Processing.ipynb region_extraction \\\n",
    "            --wd $[wd] \\\n",
    "            --container $[container] \\\n",
    "            --name $[name] \\\n",
    "            --numThreads $[numThreads] \\\n",
    "            --yml $[yml] \\\n",
    "            --queue $[queue] \\\n",
    "            --J $[J] \\\n",
    "            --exe_dir $[exe_dir] -s build &"
   ]
  },
  {
   "cell_type": "code",
   "execution_count": 2,
   "id": "legislative-qatar",
   "metadata": {
    "kernel": "SoS"
   },
   "outputs": [],
   "source": [
    "[global]\n",
    "import os\n",
    "# Work directory & output directory\n",
    "parameter: wd = path\n",
    "# The filename name for output data\n",
    "parameter: container = 'gaow/twas'\n",
    "# name for the analysis output\n",
    "parameter: name = str\n",
    "# For cluster jobs, number commands to run per job\n",
    "parameter: job_size = 1\n",
    "# Wall clock time expected\n",
    "parameter: walltime = \"24h\"\n",
    "# Memory expected\n",
    "parameter: mem = \"60G\"\n",
    "# Number of threads\n",
    "parameter: numThreads = 20\n",
    "# Diretory to the executable\n",
    "parameter: exe_dir = path(\"~/GIT/ADSPFG-xQTL/workflow\")\n",
    "# yml template\n",
    "parameter: yml = '/home/hs3163/GIT/ADSPFG-xQTL/code/csg.yml'\n",
    "# queue for analysis\n",
    "parameter: queue = \"csg\"\n",
    "# Number of submission\n",
    "parameter: J = 200\n",
    "# Factor Options\n",
    "parameter: factor_option: \"APEX\"\n",
    "\n",
    "## Temp   \n",
    "parameter: container_lmm = str\n",
    "parameter: container_apex = str\n",
    "\n",
    "parameter: region_list = path\n",
    "regions = [x.strip().split() for x in open(region_list).readlines() if x.strip() and not x.strip().startswith('#')]\n",
    "# Get the unique chormosome that have regions to be analyzed.\n",
    "def extract(lst):\n",
    "    return [item[0] for item in lst]\n",
    "chrom = list(set(extract(regions)))\n",
    "chrom.sort()"
   ]
  },
  {
   "cell_type": "markdown",
   "id": "induced-torture",
   "metadata": {
    "kernel": "SoS",
    "tags": []
   },
   "source": [
    "## Process of molecular phenotype file\n",
    "This workflow produce a bed.gz+tabix file for all the molecular pheno data that are included in the region list to feed into APEX factor analysis\n",
    "\n",
    "This workflow also produce a bed.gz+tabix for each chromosome for downstream QTL association analysis(bed.gz+tabiz for Apex and bed.gz for tensorQTL)"
   ]
  },
  {
   "cell_type": "code",
   "execution_count": null,
   "id": "binding-kenya",
   "metadata": {
    "kernel": "SoS"
   },
   "outputs": [],
   "source": [
    "[Region_extraction_1]\n",
    "# Path to the input molecular phenotype data.\n",
    "parameter: molecular_pheno_whole = path\n",
    "\n",
    "input: molecular_pheno_whole,region_list\n",
    "output: molecular_pheno_whole_bed= f'{wd}/Phenotype/{name}.mol_phe.bed.gz',\n",
    "        molecular_pheno_chr = [f'{wd}/Phenotype/{name}.chr{x}.mol_phe.bed.gz' for x in chrom]\n",
    "task: trunk_workers = 1, trunk_size = 1, walltime = '4h',  mem = '20G', tags = f'{step_name}_{_output[0]:bn}'\n",
    "bash: expand = \"$[ ]\", stderr = f'{_output[0]}.stderr', stdout = f'{_output[0]}.stdout'\n",
    "        sos run $[exe_dir]/Data_Processing/Phenotype/Region_extraction.ipynb region_extraction \\\n",
    "            --wd $[wd]/Phenotype/ \\\n",
    "            --container $[container_apex] \\\n",
    "            --name $[name] \\\n",
    "            --numThreads $[numThreads] \\\n",
    "            --molecular_pheno_whole $[molecular_pheno_whole] \\\n",
    "            --region_list $[region_list] \\\n",
    "            -J $[J] -q $[queue] -c $[yml]"
   ]
  },
  {
   "cell_type": "code",
   "execution_count": null,
   "id": "fifteen-skating",
   "metadata": {
    "kernel": "SoS"
   },
   "outputs": [],
   "source": [
    "[Region_extraction_2]\n",
    "input: named_output(\"molecular_pheno_chr\")\n",
    "output: molecular_pheno_chr_list = f'{wd}/Phenotype/{name}.mol_phe.chr_list'\n",
    "python:expand = \"$[ ]\", stderr = f'{_output[0]}.stderr', stdout = f'{_output[0]}.stdout'\n",
    "    import pandas as pd\n",
    "    df = pd.DataFrame({ \"molecular_pheno_chr\" : [$[_input:r,]]})\n",
    "    df.to_csv(\"$[_output]\",sep = \"\\t\",header = 0, index = 0)"
   ]
  },
  {
   "cell_type": "markdown",
   "id": "worldwide-walker",
   "metadata": {
    "kernel": "SoS"
   },
   "source": [
    "## Process of Genotype data"
   ]
  },
  {
   "cell_type": "markdown",
   "id": "olympic-adapter",
   "metadata": {
    "kernel": "SoS",
    "tags": []
   },
   "source": [
    "### QC for Missingness and MAF\n"
   ]
  },
  {
   "cell_type": "code",
   "execution_count": null,
   "id": "chinese-train",
   "metadata": {
    "kernel": "SoS"
   },
   "outputs": [],
   "source": [
    "[genotype_qc_1]\n",
    "# List of Genotype file in plink trio format\n",
    "parameter: genotype_list = path\n",
    "chrom_list = [x.strip().split() for x in open(genotype_list).readlines() if x.strip() and not x.strip().startswith('#')]\n",
    "\n",
    "def extract(lst):\n",
    "    return [item[0] for item in lst]\n",
    "chrom = list(set(extract(chrom_list)))\n",
    "geno_inventory = dict([x.strip().split() for x in open(genotype_list).readlines() if x.strip() and not x.strip().startswith('#')])\n",
    "def get_genotype_file(chrom, genotype_list, geno_inventory):\n",
    "    chrom = f'{chrom}'\n",
    "    if chrom.startswith('chr'):\n",
    "        chrom = chrom[3:]\n",
    "    if chrom not in geno_inventory:\n",
    "        geno_file = f'{chrom}'\n",
    "    else:\n",
    "        geno_file = geno_inventory[chrom]\n",
    "    if not os.path.isfile(geno_file):\n",
    "        # relative path\n",
    "        if not os.path.isfile(f'{genotype_list:ad}/' + geno_file):\n",
    "            raise ValueError(f\"Cannot find genotype file {geno_file}\")\n",
    "        else:\n",
    "            geno_file = f'{genotype_list:ad}/' + geno_file\n",
    "    return path(geno_file)\n",
    "\n",
    "# The path to the file that contains the list of samples to remove (format FID, IID)\n",
    "parameter: remove_samples = path('.')\n",
    "# The path to the file that contains the list of samples to keep (format FID, IID)\n",
    "parameter: keep_samples = path('.')\n",
    "# The path to the file that contains the list of variants to keep\n",
    "parameter: keep_variants = path('.')\n",
    "# minimum MAF filter to use. Notice that PLINK default is 0.01\n",
    "parameter: maf_filter = 0.01\n",
    "# maximum MAF filter to use\n",
    "parameter: maf_max_filter = 0.0\n",
    "# Maximum missingess per-variant\n",
    "parameter: geno_filter = 0.01\n",
    "# Maximum missingness per-sample\n",
    "parameter: mind_filter = 0.02\n",
    "# HWE filter \n",
    "parameter: hwe_filter = 5e-08\n",
    "\n",
    "\n",
    "\n",
    "fail_if(not (keep_samples.is_file() or keep_samples == path('.')), msg = f'Cannot find ``{keep_samples}``')\n",
    "fail_if(not (keep_variants.is_file() or keep_variants == path('.')), msg = f'Cannot find ``{keep_variants}``')\n",
    "fail_if(not (remove_samples.is_file() or remove_samples == path('.')), msg = f'Cannot find ``{remove_samples}``')\n",
    "\n",
    "input: genotype_list, for_each = \"chrom\"\n",
    "geno_file = get_genotype_file(_chrom, genotype_list, geno_inventory)\n",
    "output: f'{wd}/Genotype/{geno_file:bn}.{name}.filtered{\".extracted\" if keep_variants.is_file() else \"\"}.bed'\n",
    "bash:  expand= \"$[ ]\", stderr = f'{_output:n}.stderr', stdout = f'{_output:n}.stdout'\n",
    "        sos run $[exe_dir]/Data_Processing/Genotype/GWAS_QC.ipynb qc:1 \\\n",
    "            --cwd $[wd]/Genotype/ \\\n",
    "            --container_lmm $[container_lmm] \\\n",
    "            --name $[name] \\\n",
    "            --numThreads $[numThreads] \\\n",
    "            --genoFile $[geno_file:a] \\\n",
    "            --remove_samples   $[remove_samples] \\\n",
    "            --keep_samples   $[keep_samples] \\\n",
    "            --keep_variants    $[keep_variants ] \\\n",
    "            --maf_filter   $[maf_filter] \\\n",
    "            --maf_max_filter   $[maf_max_filter] \\\n",
    "            --geno_filter   $[geno_filter] \\\n",
    "            --mind_filter   $[mind_filter] \\\n",
    "            --hwe_filter   $[hwe_filter] "
   ]
  },
  {
   "cell_type": "code",
   "execution_count": null,
   "id": "about-nashville",
   "metadata": {
    "kernel": "SoS"
   },
   "outputs": [],
   "source": [
    "Generate a reciepe to document the filtered-ed genotype "
   ]
  },
  {
   "cell_type": "code",
   "execution_count": null,
   "id": "senior-share",
   "metadata": {
    "kernel": "SoS"
   },
   "outputs": [],
   "source": [
    "[genotype_qc_2]\n",
    "# List of Genotype file in plink trio format\n",
    "parameter: genotype_list = path\n",
    "chrom_list = [x.strip().split() for x in open(genotype_list).readlines() if x.strip() and not x.strip().startswith('#')]\n",
    "def extract(lst):\n",
    "    return [item[0] for item in lst]\n",
    "chrom = list(set(extract(chrom_list)))\n",
    "input: group_by = \"all\"\n",
    "output: qced_plink_genotype_list = f'{wd:a}/Genotype/{name}.filtered.plink.genotype_list'\n",
    "R: expand= \"$[ ]\", stderr = f'{_output[0]}.stderr', stdout = f'{_output[0]}.stdout'\n",
    "    library(\"dplyr\")\n",
    "    library(\"tibble\")\n",
    "    library(\"readr\")\n",
    "    library(\"purrr\")\n",
    "    chrom = c('$[\"','\".join(chrom)]')\n",
    "    file = c($[_input:r,])\n",
    "    table = tibble(`#chr` = chrom, dir = file)\n",
    "    table%>%write_delim($[_output:r],\"\\t\")"
   ]
  },
  {
   "cell_type": "markdown",
   "id": "variable-python",
   "metadata": {
    "kernel": "SoS"
   },
   "source": [
    "### PLINK2VCF\n",
    "This step takes genotype_list documenting filtered plink file(output from genotype qc), turn them into vcf format so that APEX can used and also create a list documenting them"
   ]
  },
  {
   "cell_type": "code",
   "execution_count": null,
   "id": "prospective-tolerance",
   "metadata": {
    "kernel": "SoS"
   },
   "outputs": [],
   "source": [
    "[plink2vcf]\n",
    "# The output genotype list from genotype qc 2: 1.list of plink, 2.passed basic filtering\n",
    "input: named_output(\"qced_plink_genotype_list\")\n",
    "output: qced_vcf_genotype_list = f'{wd:a}/Genotype/{name}_vcf_geno/{name}.vcf_geno_list.txt'\n",
    "bash:  expand= \"$[ ]\", stderr = f'{_output:n}.stderr', stdout = f'{_output:n}.stdout'\n",
    "    sos run $[exe_dir]/Data_Processing/Genotype/plink2VCF.ipynb plink2vcf \\\n",
    "            --wd $[wd]/Genotype/ \\\n",
    "            --container $[container_apex] \\\n",
    "            --name $[name] \\\n",
    "            --numThreads $[numThreads] \\\n",
    "            --genotype_list $[_input] \\\n",
    "            -J $[J] -q $[queue] -c $[yml]"
   ]
  },
  {
   "cell_type": "markdown",
   "id": "irish-donna",
   "metadata": {
    "kernel": "SoS",
    "tags": []
   },
   "source": [
    "### PCA\n",
    "This is a five step workflow that act on a list qced genotype file to generate a genome wide PCA\n",
    "1. Merge all the plink from the raw data via qc(same criterio as genotype_filtering)[FIXME: this can be simplify by using the qced file directly?].\n",
    "2. Estimate and Filtered by whole genome kinship\n",
    "3. LD prunning\n",
    "4. PCA\n",
    "5. Project back PCA result"
   ]
  },
  {
   "cell_type": "code",
   "execution_count": null,
   "id": "floating-story",
   "metadata": {
    "kernel": "SoS"
   },
   "outputs": [],
   "source": [
    "[merge_plink]\n",
    "# List of unfiltered Genotype file in plink trio format, not output from genotype_2\n",
    "parameter: genotype_list = path\n",
    "chrom_list = [x.strip().split() for x in open(genotype_list).readlines() if x.strip() and not x.strip().startswith('#')]\n",
    "def extract(lst):\n",
    "    return [item[0] for item in lst]\n",
    "chrom = list(set(extract(chrom_list)))\n",
    "geno_inventory = [x.strip().split() for x in open(genotype_list).readlines() if x.strip() and not x.strip().startswith('#')]\n",
    "geno_file = [geno_inventory[i][1] for i in range(len(chrom)) ]\n",
    "\n",
    "input: geno_file\n",
    "output: merge_plink = f\"{wd}/Genotype/PCA/{name}.bed\"\n",
    "bash:  expand= \"$[ ]\", stderr = f'{_output:n}.stderr', stdout = f'{_output:n}.stdout'\n",
    "    sos run $[exe_dir]/Data_Processing/Genotype/GWAS_QC.ipynb merge_plink \\\n",
    "            --cwd $[wd]/Genotype/PCA/ \\\n",
    "            --container_lmm $[container_lmm] \\\n",
    "            --name $[name] \\\n",
    "            --numThreads $[numThreads] \\\n",
    "            --genoFile $[_input] \\\n",
    "            --merged_prefix $[name] \n"
   ]
  },
  {
   "cell_type": "code",
   "execution_count": null,
   "id": "compound-values",
   "metadata": {
    "kernel": "SoS"
   },
   "outputs": [],
   "source": [
    "[king]\n",
    "# Merged Genotype file in plink trio format\n",
    "# Name of the analysis\n",
    "# kinship cutoff\n",
    "parameter: kinship = 0.0625\n",
    "# Otherwise (use `--no-maximize-unrelated`) the entire family will be removed\n",
    "parameter: maximize_unrelated = \"F\"\n",
    "input: output_from(\"merge_plink\")[\"merge_plink\"]\n",
    "output: king =  f\"{wd}/Genotype/PCA/{_input:bn}.{name}.related_id\"\n",
    "bash:  expand= \"$[ ]\", stderr = f'{_output:n}.stderr', stdout = f'{_output:n}.stdout'\n",
    "    sos run $[exe_dir]/Data_Processing/Genotype/GWAS_QC.ipynb king \\\n",
    "            --cwd $[wd]/Genotype/PCA/ \\\n",
    "            --container_lmm $[container_lmm] \\\n",
    "            --name $[name] \\\n",
    "            --numThreads $[numThreads] \\\n",
    "            --genoFile $[_input:a] \\\n",
    "            --kinship $[kinship] \n",
    "\n",
    "\n",
    "\n"
   ]
  },
  {
   "cell_type": "code",
   "execution_count": null,
   "id": "lesbian-sessions",
   "metadata": {
    "kernel": "SoS"
   },
   "outputs": [],
   "source": []
  },
  {
   "cell_type": "code",
   "execution_count": null,
   "id": "aware-protection",
   "metadata": {
    "kernel": "SoS"
   },
   "outputs": [],
   "source": [
    "[pca_unrelated_sample]\n",
    "# Merged Genotype file in plink trio format\n",
    "# minimum MAF filter to use. Notice that PLINK default is 0.01\n",
    "parameter: maf_filter = 0.01\n",
    "# maximum MAF filter to use\n",
    "parameter: maf_max_filter = 0.0\n",
    "# Maximum missingess per-variant\n",
    "parameter: geno_filter = 0.01\n",
    "# Maximum missingness per-sample\n",
    "parameter: mind_filter = 0.02\n",
    "# HWE filter \n",
    "parameter: hwe_filter = 5e-08\n",
    "\n",
    "input: output_from(\"merge_plink\") ,  output_from(\"king\")\n",
    "output: pca_unrelated_sample = f'{wd}/Genotype/PCA/{_input[0]:bn}.{name}.unrelated.bed', \n",
    "        keep_variants = f'{wd}/Genotype/PCA/{_input[0]:bn}.{name}.filtered.prune.in'\n",
    "bash:  expand= \"$[ ]\", stderr = f'{_output[0]:n}.stderr', stdout = f'{_output[0]:n}.stdout'\n",
    "        sos run $[exe_dir]/Data_Processing/Genotype/GWAS_QC.ipynb qc \\\n",
    "            --cwd $[wd]/Genotype/PCA/ \\\n",
    "            --container_lmm $[container_lmm] \\\n",
    "            --name $[name] \\\n",
    "            --numThreads $[numThreads] \\\n",
    "            --genoFile $[_input[0]:a] \\\n",
    "            --remove_samples   $[_input[1]:a] \\\n",
    "            --maf_filter   $[maf_filter] \\\n",
    "            --maf_max_filter   $[maf_max_filter] \\\n",
    "            --geno_filter   $[geno_filter] \\\n",
    "            --mind_filter   $[mind_filter] \\\n",
    "            --hwe_filter   $[hwe_filter] \\\n",
    "            --merged_name $[_output[0]:n] "
   ]
  },
  {
   "cell_type": "code",
   "execution_count": null,
   "id": "durable-humanity",
   "metadata": {
    "kernel": "SoS"
   },
   "outputs": [],
   "source": [
    "[pca_related_sample]\n",
    "# The path to the file that contains the list of samples to keep (format FID, IID)\n",
    "parameter: keep_samples = f\"{wd}/Genotype/PCA/cache/{name}.related_id\"\n",
    "parameter: geno_file = f\"{wd}/Genotype/PCA/cache/{name}.bed\"\n",
    "# The path to the file that contains the list of variants to keep\n",
    "input: output_from(\"merge_plink\"), output_from(\"pca_unrelated_sample\")[\"keep_variants\"], output_from(\"king\")\n",
    "output: f'{_input[0]:ann}.related.bed'\n",
    "bash:  expand= \"$[ ]\", stderr = f'{_output:n}.stderr', stdout = f'{_output:n}.stdout'\n",
    "        sos run $[exe_dir]/Data_Processing/Genotype/GWAS_QC.ipynb qc:1 \\\n",
    "            --cwd $[wd]/Genotype/PCA/ \\\n",
    "            --container_lmm $[container_lmm] \\\n",
    "            --name $[name] \\\n",
    "            --numThreads $[numThreads] \\\n",
    "            --genoFile $[_input[0]] \\\n",
    "            --keep_samples   $[_input[2]] \\\n",
    "            --keep_variants    $[_input[1]] \\\n",
    "            --maf_filter  0 \\\n",
    "            --maf_max_filter   0 \\\n",
    "            --geno_filter   0 \\\n",
    "            --mind_filter   0 \\\n",
    "            --hwe_filter   0 \\\n",
    "            --merged_name $[_output[0]:n] "
   ]
  },
  {
   "cell_type": "code",
   "execution_count": null,
   "id": "super-typing",
   "metadata": {
    "kernel": "SoS"
   },
   "outputs": [],
   "source": [
    "[phenoFile_mod]\n",
    "# The phenotypic file, in bed\n",
    "# Population lable: 2 column: IID + RACE\n",
    "parameter: pop_file = \"None\"\n",
    "input: output_from(\"Region_extraction_1\")[\"molecular_pheno_whole_bed\"]\n",
    "output:  phenoFile_mod = f'{wd}/Genotype/PCA/{_input[0]:bn}.exp'\n",
    "R: expand= \"$[ ]\", stderr = f'{_output:n}.stderr', stdout = f'{_output:n}.stdout'\n",
    "        library(\"tibble\")\n",
    "        library(\"readr\")\n",
    "        library(\"dplyr\") \n",
    "        phenoFile = read_delim(\"$[_input]\",\"\\t\")\n",
    "        mtx = phenoFile[,5:ncol(phenoFile)]\n",
    "        rownames(mtx) = phenoFile$gene_ID\n",
    "        # each row is a sample each column is a gene\n",
    "        mtx <- t(as.matrix(mtx, rownames = T))\n",
    "        mtx = mtx%>%as_tibble(rownames = \"IID\") \n",
    "        phenoMtr = phenoFile%>%t()\n",
    "        if(\"$[pop_file]\" == \"None\"){\n",
    "        # Make artificial pop lable\n",
    "          output = mtx%>%mutate(RACE = \"RACE_1\")\n",
    "          }else{\n",
    "          pop = read_delim(\"$[pop_file]\", \"\\t\")\n",
    "          output = inner_join(pop,mtx,by = \"IID\")\n",
    "          }\n",
    "          output%>%write_delim(\"$[_output]\",\"\\t\")"
   ]
  },
  {
   "cell_type": "code",
   "execution_count": null,
   "id": "legendary-community",
   "metadata": {
    "kernel": "SoS"
   },
   "outputs": [],
   "source": [
    "[pca_model]\n",
    "# Plink binary file\n",
    "## The phenotypic file\n",
    "# Number of Principal Components to output. Default is 10\n",
    "parameter: k = 3\n",
    "# Number of Principal Components based on which outliers should be evaluated. Default is 5 but this should be based on examine the scree plot\n",
    "parameter: maha_k = 3\n",
    "# POPS in pca\n",
    "parameter: pops = \"RACE_1\"\n",
    "# Homogeneity of populations. Set to --homogeneous when true and --no-homogeneous when false\n",
    "parameter: homogeneous = False\n",
    "# The path to the file that contains the list of samples to keep (format FID, IID)\n",
    "parameter: keep_samples = f\"{wd}/Genotype/PCA/cache/{name}.related_id\"\n",
    "\n",
    "input: output_from(\"pca_unrelated_sample\")[\"pca_unrelated_sample\"] ,  output_from(\"phenoFile_mod\")[\"phenoFile_mod\"]\n",
    "output: pca_model =  f'{wd}/Genotype/PCA/{_input[1]:bn}.exp.pca.rds'\n",
    "bash: expand= \"$[ ]\", stderr = f'{_output:n}.stderr', stdout = f'{_output:n}.stdout'\n",
    "        sos run $[exe_dir]/Data_Processing/Genotype/PCA.ipynb flashpca:1 \\\n",
    "            --cwd $[wd]/Genotype/PCA/ \\\n",
    "            --container_lmm $[container_lmm] \\\n",
    "            --name $[name] \\\n",
    "            --numThreads $[numThreads] \\\n",
    "            --genoFile $[_input[0]:a] \\\n",
    "            --phenoFile $[_input[1]:a] \\\n",
    "            --label_col \"RACE\" \\\n",
    "            --k $[k] \\\n",
    "            --maha_k $[maha_k] \\\n",
    "            --pop_col \"RACE\" \\\n",
    "            --pops $[pops]   \\\n",
    "            --homogeneous $[homogeneous] "
   ]
  },
  {
   "cell_type": "code",
   "execution_count": null,
   "id": "trained-proxy",
   "metadata": {
    "kernel": "SoS"
   },
   "outputs": [],
   "source": [
    "[project_sample]\n",
    "## Plink binary file\n",
    "## The phenotypic file, in bed\n",
    "## The PCA model, in rds\n",
    "## Population lable: 2 column: iid + RACE\n",
    "# Number of Principal Components to output. Default is 10\n",
    "parameter: k = 3\n",
    "# Number of Principal Components based on which outliers should be evaluated. Default is 5 but this should be based on examine the scree plot\n",
    "parameter: maha_k = 3\n",
    "# Homogeneity of populations. Set to --homogeneous when true and --no-homogeneous when false\n",
    "parameter: homogeneous = False\n",
    "parameter: prob = 0.8\n",
    "parameter: pval = 0.05\n",
    "\n",
    "input: output_from(\"pca_unrelated_sample\")[\"pca_unrelated_sample\"],  output_from(\"phenoFile_mod\")[\"phenoFile_mod\"] ,  output_from(\"pca_model\")[\"pca_model\"]\n",
    "output: project_sample = f'{_input[1]:n}.pca.projected.rds'\n",
    "bash: expand= \"$[ ]\", stderr = f'{_output:n}.stderr', stdout = f'{_output:n}.stdout'\n",
    "        sos run $[exe_dir]/Data_Processing/Genotype/PCA.ipynb project_samples:1 \\\n",
    "            --cwd $[wd]/Genotype/PCA/ \\\n",
    "            --container_lmm $[container_lmm] \\\n",
    "            --name $[name] \\\n",
    "            --numThreads $[numThreads] \\\n",
    "            --genoFile $[_input[0]:a] \\\n",
    "            --phenoFile $[_input[1]:a] \\\n",
    "            --pca_model $[_input[2]:a] \\\n",
    "            --pop_col \"RACE\" \\\n",
    "            --label_col \"RACE\" \\\n",
    "            --prob $[prob] \\\n",
    "            --pval $[pval] \\\n",
    "            --k $[k] \\\n",
    "            --maha_k $[maha_k]"
   ]
  },
  {
   "cell_type": "code",
   "execution_count": null,
   "id": "weekly-director",
   "metadata": {
    "kernel": "SoS"
   },
   "outputs": [],
   "source": [
    "[pca_factor]\n",
    "## PCA models\n",
    "input: output_from(\"project_sample\")[\"project_sample\"], output_from(\"Factor_analysis\")[\"Factor_analysis\"]\n",
    "output: pca_factor = f'{_input[1]:n}.pca.cov'\n",
    "R: expand= \"$[ ]\", stderr = f'{_output:n}.stderr', stdout = f'{_output:n}.stdout'\n",
    "        library(\"dplyr\")\n",
    "        library(\"tibble\")\n",
    "        library(\"readr\")\n",
    "        library(\"modelr\")\n",
    "        library(\"purrr\")\n",
    "        pca_output = readRDS(\"$[_input[0]]\")$pc_scores\n",
    "        mtx = pca_output%>%select(contains(\"PC\"))%>%t()\n",
    "        colnames(mtx) <- pca_output$IID\n",
    "        mtx = mtx%>%as_tibble()%>%mutate(\"#id\" = rownames(mtx))%>%select(\"#id\",everything())\n",
    "        factor_cov = read_delim(\"$[_input[1]]\",\"\\t\")\n",
    "        output = bind_rows(factor_cov,mtx)\n",
    "        output%>%write_delim(\"$[_output]\",\"\\t\")"
   ]
  },
  {
   "cell_type": "code",
   "execution_count": null,
   "id": "greater-royalty",
   "metadata": {
    "kernel": "SoS"
   },
   "outputs": [],
   "source": []
  },
  {
   "cell_type": "code",
   "execution_count": null,
   "id": "metallic-detection",
   "metadata": {
    "kernel": "SoS"
   },
   "outputs": [],
   "source": []
  },
  {
   "cell_type": "markdown",
   "id": "hired-morrison",
   "metadata": {
    "kernel": "SoS"
   },
   "source": [
    "### LOCO GRM by GCTA \n",
    "GRM was used due to the advantage of gcta where seperate sets of bfile can be feeded to generate the grm result without merging them. A list of bfile that are used to generate the GRM are listed"
   ]
  },
  {
   "cell_type": "code",
   "execution_count": null,
   "id": "contemporary-village",
   "metadata": {
    "kernel": "SoS",
    "tags": []
   },
   "outputs": [],
   "source": [
    "[GRM]\n",
    "# List of Genotype file in plink trio format\n",
    "parameter: genotype_list = path\n",
    "input: genotype_list\n",
    "output: GRM =  f'{wd:a}/Genotype/GRM/{name}.grm_list.txt'\n",
    "bash: expand = \"$[ ]\", stderr = f'{_output[0]}.stderr', stdout = f'{_output[0]}.stdout'\n",
    "        sos run $[exe_dir]/Data_Processing/Genotype/LOCO_GRM.ipynb GRM \\\n",
    "            --wd $[wd]/Genotype/ \\\n",
    "            --container $[container] \\\n",
    "            --name $[name] \\\n",
    "            --numThreads $[numThreads] \\\n",
    "            --genotype_list $[genotype_list] \\\n",
    "            -J $[J] -q $[queue] -c $[yml]"
   ]
  },
  {
   "cell_type": "markdown",
   "id": "bored-support",
   "metadata": {
    "kernel": "SoS"
   },
   "source": [
    "### Whole genome QC for PCA"
   ]
  },
  {
   "cell_type": "markdown",
   "id": "mediterranean-scene",
   "metadata": {
    "kernel": "SoS"
   },
   "source": [
    "## Process of Factor analysis\n",
    "Based on the selection of method, PEER vs APEX, for factor analysis, the input file will be different. For apex, the input file is a bed.gz file, with tbi index. For peer, the molecular pheno file itself shall suffice"
   ]
  },
  {
   "cell_type": "code",
   "execution_count": null,
   "id": "floppy-skiing",
   "metadata": {
    "kernel": "SoS"
   },
   "outputs": [],
   "source": [
    "[Factor_analysis]\n",
    "parameter: covariate = \"\"\n",
    "# N PEER factors, If do not specify or specified as 0, default values suggested by \n",
    "# UCSC (based on different sample size) Will be used\n",
    "parameter: N = 4\n",
    "# Default values from PEER:\n",
    "## The number of iteration\n",
    "parameter: max_iter = 30\n",
    "## Prior parameters\n",
    "parameter: Alpha_a = 0.001\n",
    "parameter: Alpha_b = 0.1\n",
    "parameter: Eps_a = 0.1\n",
    "parameter: Eps_b = 10.\n",
    "## Tolarance parameters\n",
    "parameter: tol = 0.001\n",
    "parameter: var_tol = 1e-08\n",
    "input: output_from(\"Region_extraction_1\")[\"molecular_pheno_whole_bed\"], output_from(\"plink2vcf\")[\"qced_vcf_genotype_list\"]\n",
    "output: Factor_analysis = f'{wd:a}/Factor_and_Covariate/{name}.{factor_option}.cov'\n",
    "bash: expand = \"$[ ]\", stderr = f'{_output[0]}.stderr', stdout = f'{_output[0]}.stdout'\n",
    "        sos run $[exe_dir]/Data_Processing/Factor_and_Covariate/factor.ipynb $[factor_option]  \\\n",
    "            --wd $[wd]/Factor_and_Covariate/ \\\n",
    "            --container_apex $[container_apex] \\\n",
    "            --name $[name] \\\n",
    "            --numThreads $[numThreads] \\\n",
    "            --molecular_pheno $[_input[0]] \\\n",
    "            --genotype_list $[_input[1]] \\\n",
    "            --N $[N] \\\n",
    "            --Alpha_a $[Alpha_a]  \\\n",
    "            --Alpha_b $[Alpha_b] \\\n",
    "            --Eps_a  $[Eps_a] \\\n",
    "            --Eps_b  $[Eps_b] \\\n",
    "            --tol  $[tol] \\\n",
    "            --var_tol $[var_tol] \\\n",
    "            -J $[J] -q $[queue] -c $[yml] $[f'--covariate {covariate}' if os.path.exists(covariate) else f'']"
   ]
  },
  {
   "cell_type": "code",
   "execution_count": null,
   "id": "brown-integer",
   "metadata": {
    "kernel": "SoS"
   },
   "outputs": [],
   "source": []
  },
  {
   "cell_type": "markdown",
   "id": "prepared-estonia",
   "metadata": {
    "kernel": "SoS"
   },
   "source": [
    "## Output Recipe Generation\n",
    "This step generate a list to document all the output of this step, so that they could be easily accessible by the next step"
   ]
  },
  {
   "cell_type": "code",
   "execution_count": 1,
   "id": "imperial-reason",
   "metadata": {
    "kernel": "SoS"
   },
   "outputs": [],
   "source": [
    "[Recipe]\n",
    "# Molecular_pheno\n",
    "input:  output_from(\"Region_extraction_2\")[\"molecular_pheno_chr_list\"],\n",
    "        output_from(\"GRM\")[\"GRM\"],\n",
    "        output_from(\"genotype_qc_2\")[\"qced_plink_genotype_list\"],\n",
    "        output_from(\"plink2vcf\")[\"qced_vcf_genotype_list\"],\n",
    "        output_from(\"pca_factor\")\n",
    "output: f'{wd}/{name}.data_proc_output_recipe.tsv'\n",
    "python: expand = \"$[ ]\", stderr = f'{_output[0]}.stderr', stdout = f'{_output[0]}.stdout'\n",
    "    import pandas as pd \n",
    "    data = [[$[_input:r,]]]\n",
    "    df = pd.DataFrame(data,columns = [\"molecular_pheno_chr_list\",\"grm_list\",\n",
    "                                        \"qced_plink_genotype_list\",\"qced_vcf_genotype_list\",\"covariate_factor_pca\"]  ).assign(name = \"$[name]\")\n",
    "    df.to_csv(\"$[_output]\",index = 0,sep = \"\\t\" )"
   ]
  }
 ],
 "metadata": {
  "kernelspec": {
   "display_name": "SoS",
   "language": "sos",
   "name": "sos"
  },
  "language_info": {
   "codemirror_mode": "sos",
   "file_extension": ".sos",
   "mimetype": "text/x-sos",
   "name": "sos",
   "nbconvert_exporter": "sos_notebook.converter.SoS_Exporter",
   "pygments_lexer": "sos"
  },
  "sos": {
   "kernels": [
    [
     "Bash",
     "bash",
     "Bash",
     "#E6EEFF",
     ""
    ],
    [
     "SoS",
     "sos",
     "",
     "",
     "sos"
    ]
   ],
   "version": "0.22.6"
  }
 },
 "nbformat": 4,
 "nbformat_minor": 5
}
