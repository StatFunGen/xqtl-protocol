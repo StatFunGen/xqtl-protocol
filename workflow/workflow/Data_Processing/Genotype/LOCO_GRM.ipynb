{
 "cells": [
  {
   "cell_type": "markdown",
   "id": "electric-express",
   "metadata": {
    "kernel": "SoS",
    "tags": []
   },
   "source": [
    "# Leave one chromosome out GRM\n",
    "This is the GRM part of data processing pipeline for xqtl workflow, containing the generation of:\n",
    ". GRM from genotype\n",
    "\n",
    "### Input\n",
    "The input for this workflow is the collection of data for 1 conditions as described in the readme of this git repo\n",
    "1. 1 collection of genotype data in plink format, partitioned by chrm\n",
    "2. A list of genotype file documenting the location of 1.\n",
    "\n",
    "### Output\n",
    "For each collection, the output is 23 sets of :\n",
    "1. GRM in Matrix form\n",
    "2. GRM in table form for APEX \n",
    "\n"
   ]
  },
  {
   "cell_type": "code",
   "execution_count": 2,
   "id": "worse-prague",
   "metadata": {
    "kernel": "SoS"
   },
   "outputs": [],
   "source": [
    "[global]\n",
    "import os\n",
    "# Work directory & output directory\n",
    "parameter: wd = path\n",
    "# The filename name for output data\n",
    "parameter: container = 'gaow/twas'\n",
    "# name for the analysis output\n",
    "parameter: name = str\n",
    "# For cluster jobs, number commands to run per job\n",
    "parameter: job_size = 1\n",
    "# Wall clock time expected\n",
    "parameter: walltime = \"5h\"\n",
    "# Memory expected\n",
    "parameter: mem = \"16G\"\n",
    "# Number of threads\n",
    "parameter: numThreads = 20\n",
    "# List of Genotype file in plink trio format\n",
    "parameter: genotype_list = path\n",
    "\n",
    "chrom_list = [x.strip().split() for x in open(genotype_list).readlines() if x.strip() and not x.strip().startswith('#')]\n",
    "# Get the unique chormosome that have regions to be analyzed.\n",
    "def extract(lst):\n",
    "    return [item[0] for item in lst]\n",
    "chrom = list(set(extract(chrom_list)))\n",
    "\n",
    "import os\n",
    "def get_genotype_file(chrom, genotype_list, geno_inventory):\n",
    "    chrom = f'{chrom}'\n",
    "    if chrom.startswith('chr'):\n",
    "        chrom = chrom[3:]\n",
    "    if chrom not in geno_inventory:\n",
    "        geno_file = f'{chrom}'\n",
    "    else:\n",
    "        geno_file = geno_inventory[chrom]\n",
    "    if not os.path.isfile(geno_file):\n",
    "        # relative path\n",
    "        if not os.path.isfile(f'{genotype_list:ad}/' + geno_file):\n",
    "            raise ValueError(f\"Cannot find genotype file {geno_file}\")\n",
    "        else:\n",
    "            geno_file = f'{genotype_list:ad}/' + geno_file\n",
    "    return path(geno_file)\n"
   ]
  },
  {
   "cell_type": "markdown",
   "id": "identical-logistics",
   "metadata": {
    "kernel": "SoS",
    "tags": []
   },
   "source": [
    "## Process of Genotype data"
   ]
  },
  {
   "cell_type": "code",
   "execution_count": null,
   "id": "supported-medline",
   "metadata": {
    "kernel": "SoS"
   },
   "outputs": [],
   "source": [
    "Generate a reciepe to document the qc-ed genotype "
   ]
  },
  {
   "cell_type": "markdown",
   "id": "requested-shoot",
   "metadata": {
    "kernel": "SoS"
   },
   "source": [
    "### LOCO GRM by GCTA \n",
    "GRM was used due to the advantage of gcta where seperate sets of bfile can be feeded to generate the grm result without merging them. A list of bfile that are used to generate the GRM are listed"
   ]
  },
  {
   "cell_type": "code",
   "execution_count": null,
   "id": "velvet-nickname",
   "metadata": {
    "kernel": "SoS"
   },
   "outputs": [],
   "source": [
    "[GRM_1]\n",
    "# List of Genotype file in plink trio format\n",
    "input: genotype_list, for_each = \"chrom\"\n",
    "output: f'{wd:a}/GRM/{name}_chr{_chrom}.loco.txt'\n",
    "task: trunk_workers = 1, trunk_size = 1, walltime = '12h',  mem = '20G', tags = f'{step_name}_{_output[0]:bn}'\n",
    "R: expand= \"$[ ]\", stderr = f'{_output[0]}.stderr', stdout = f'{_output[0]}.stdout', container = container, volumes = [f'{genotype_list:ad}:{genotype_list:ad}']\n",
    "    library(\"dplyr\")\n",
    "    library(\"tibble\")\n",
    "    library(\"readr\")\n",
    "    library(\"purrr\")\n",
    "    geno = read_delim(\"$[_input]\",delim = \"\\t\")\n",
    "    geno = geno%>%filter(`#chr` != $[_chrom])\n",
    "    geno = geno%>%mutate(dir = map_chr(dir,~read.table(text = .x[[1]], sep = \".\")$V1%>%as.character))%>%select(`#dir` = dir)\n",
    "    geno%>%write_delim(\"$[_output[0]]\",delim = \"\\t\",col_names = FALSE)"
   ]
  },
  {
   "cell_type": "markdown",
   "id": "close-penetration",
   "metadata": {
    "kernel": "SoS"
   },
   "source": [
    "Conduct the loco GRM and reformat the output according to APEX"
   ]
  },
  {
   "cell_type": "code",
   "execution_count": null,
   "id": "thermal-dictionary",
   "metadata": {
    "kernel": "SoS"
   },
   "outputs": [],
   "source": [
    "[GRM_2]\n",
    "# List of Genotype file in plink trio format\n",
    "input: group_with = \"chrom\"\n",
    "output: f'{wd:a}/GRM/{name}_chr{_chrom}.grm.gz'\n",
    "task: trunk_workers = 1, trunk_size = 1, walltime = '12h',  mem = '60G', tags = f'{step_name}_{_output[0]:bn}'\n",
    "bash: expand= \"$[ ]\", stderr = f'{_output[0]}.stderr', stdout = f'{_output[0]}.stdout', container = container, volumes = [f'{genotype_list:ad}:{genotype_list:ad}']\n",
    "\n",
    "   gcta64 \\\n",
    "   --mbfile $[_input] \\\n",
    "   --make-grm-gz \\\n",
    "   --out $[_output:nn]\n",
    "   \n",
    "[GRM_3]\n",
    "# List of Genotype file in plink trio format\n",
    "input: group_with = \"chrom\"\n",
    "output: f'{wd:a}/GRM/{name}_chr{_chrom}.grm'\n",
    "task: trunk_workers = 1, trunk_size = 1, walltime = '12h',  mem = '60G', tags = f'{step_name}_{_output[0]:bn}'\n",
    "bash: expand= \"$[ ]\", stderr = f'{_output[0]}.stderr', stdout = f'{_output[0]}.stdout', container = container, volumes = [f'{genotype_list:ad}:{genotype_list:ad}']\n",
    "   gunzip -f -k $[_input]\n",
    "\n",
    "R: expand= \"$[ ]\", stderr = f'{_output[0]}.stderr', stdout = f'{_output[0]}.stdout', container = container, volumes = [f'{genotype_list:ad}:{genotype_list:ad}']\n",
    "   library(\"dplyr\")\n",
    "   library(\"tibble\")\n",
    "   library(\"readr\")\n",
    "   library(\"modelr\")\n",
    "   library(\"purrr\")\n",
    "    grm = read_delim(\"$[_output]\",\"\\t\",col_names = FALSE)\n",
    "    id = unlist(read_delim(\"$[_output].id\",\"\\t\",col_names = FALSE)[,2])\n",
    "    grm = grm[,c(1,2,4)]\n",
    "    colnames(grm) = c(\"#id1\",\"id2\",\"kinship\")\n",
    "    grm = grm%>%mutate(`#id1` = map_chr(`#id1`, ~id[.x]),`id2` =  map_chr(`id2`, ~id[.x]))\n",
    "    grm%>%write_delim(\"$[_output]\",\"\\t\")"
   ]
  },
  {
   "cell_type": "markdown",
   "id": "brave-certification",
   "metadata": {
    "kernel": "SoS"
   },
   "source": [
    "Generate the list of grm file for each chrm to direct future usage"
   ]
  },
  {
   "cell_type": "code",
   "execution_count": null,
   "id": "verbal-democrat",
   "metadata": {
    "kernel": "SoS"
   },
   "outputs": [],
   "source": [
    "[GRM_4]\n",
    "# List of Genotype file in plink trio format\n",
    "input: group_by = \"all\"\n",
    "output: f'{wd:a}/GRM/{name}.grm_list.txt'\n",
    "task: trunk_workers = 1, trunk_size = 1, walltime = '12h',  mem = '20G', tags = f'{step_name}_{_output[0]:bn}'\n",
    "R: expand= \"$[ ]\", stderr = f'{_output[0]}.stderr', stdout = f'{_output[0]}.stdout', container = container, volumes = [f'{genotype_list:ad}:{genotype_list:ad}']\n",
    "    library(\"dplyr\")\n",
    "    library(\"tibble\")\n",
    "    library(\"readr\")\n",
    "    library(\"modelr\")\n",
    "    library(\"purrr\")\n",
    "    chrom = c($[\",\".join(chrom)])\n",
    "    dir = \"$[_output:nn]\"\n",
    "    grm_list = tibble(`#chr` = chrom, dir = map_chr(`#chr`,~paste(c(dir,\"_chr\",.x,\".grm\"),collapse =\"\")))%>%arrange(`#chr`)\n",
    "    grm_list%>%write_delim(\"$[_output]\",\"\\t\")"
   ]
  },
  {
   "cell_type": "code",
   "execution_count": null,
   "id": "banner-diagram",
   "metadata": {
    "kernel": "R",
    "tags": []
   },
   "outputs": [],
   "source": []
  }
 ],
 "metadata": {
  "kernelspec": {
   "display_name": "SoS",
   "language": "sos",
   "name": "sos"
  },
  "language_info": {
   "codemirror_mode": "sos",
   "file_extension": ".sos",
   "mimetype": "text/x-sos",
   "name": "sos",
   "nbconvert_exporter": "sos_notebook.converter.SoS_Exporter",
   "pygments_lexer": "sos"
  },
  "sos": {
   "kernels": [
    [
     "R",
     "ir",
     "R",
     "#DCDCDA",
     ""
    ],
    [
     "SoS",
     "sos",
     "",
     "",
     "sos"
    ]
   ],
   "version": "0.22.4"
  }
 },
 "nbformat": 4,
 "nbformat_minor": 5
}
