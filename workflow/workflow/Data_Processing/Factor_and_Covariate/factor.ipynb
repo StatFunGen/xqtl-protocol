{
 "cells": [
  {
   "cell_type": "markdown",
   "id": "modular-large",
   "metadata": {
    "kernel": "SoS",
    "tags": []
   },
   "source": [
    "# PEER factor analysis"
   ]
  },
  {
   "cell_type": "markdown",
   "id": "cloudy-coverage",
   "metadata": {
    "kernel": "Bash",
    "tags": []
   },
   "source": [
    "## Overview: \n",
    "* Baseline docker image is from: rticode/peer:1.3_8f2237f (will be update to our own)\n",
    "* An Rscript for get the default value of priors and tolerance is in  Run_peer.R\n",
    "\n",
    "## Input and output:\n",
    "### Input: \n",
    "* --expression_file: The expression matrix: G+1 rows, each row is a gene, N + 1 columns, each column is a sample. This can be obtained easily from the Dapars ressult file. \n",
    "\n",
    "    * This input need to be illustrated. For PEER, the matrix is assumed to have **N rows and G columns**, where N is the number of samples, and G is the number of genes. For us, the input is supposed to be here. Modification to PEER format have been done in `Run_peer_simple_version.R`"
   ]
  },
  {
   "cell_type": "code",
   "execution_count": 1,
   "id": "banned-marijuana",
   "metadata": {
    "kernel": "R",
    "tags": []
   },
   "outputs": [
    {
     "data": {
      "text/html": [
       "<table class=\"dataframe\">\n",
       "<caption>A data.frame: 5 × 5</caption>\n",
       "<thead>\n",
       "\t<tr><th></th><th scope=col>Sample1</th><th scope=col>Sample2</th><th scope=col>Sample3</th><th scope=col>Sample4</th><th scope=col>Sample5</th></tr>\n",
       "\t<tr><th></th><th scope=col>&lt;dbl&gt;</th><th scope=col>&lt;dbl&gt;</th><th scope=col>&lt;dbl&gt;</th><th scope=col>&lt;dbl&gt;</th><th scope=col>&lt;dbl&gt;</th></tr>\n",
       "</thead>\n",
       "<tbody>\n",
       "\t<tr><th scope=row>Gene1</th><td> -1.627455</td><td> 1.684725</td><td> -0.0807924</td><td> 1.510522</td><td> 0.5804513</td></tr>\n",
       "\t<tr><th scope=row>Gene2</th><td>-12.626715</td><td>17.746163</td><td>-14.2519447</td><td> 5.254536</td><td>14.8258933</td></tr>\n",
       "\t<tr><th scope=row>Gene3</th><td>  3.337390</td><td>-7.259074</td><td>  6.2643526</td><td>-1.375911</td><td>-4.7039364</td></tr>\n",
       "\t<tr><th scope=row>Gene4</th><td>  4.468973</td><td>-4.179250</td><td>  6.2956787</td><td> 1.316271</td><td>-3.5877553</td></tr>\n",
       "\t<tr><th scope=row>Gene5</th><td> -4.945527</td><td> 8.378774</td><td> -4.0786989</td><td> 4.729963</td><td> 6.0079090</td></tr>\n",
       "</tbody>\n",
       "</table>\n"
      ],
      "text/latex": [
       "A data.frame: 5 × 5\n",
       "\\begin{tabular}{r|lllll}\n",
       "  & Sample1 & Sample2 & Sample3 & Sample4 & Sample5\\\\\n",
       "  & <dbl> & <dbl> & <dbl> & <dbl> & <dbl>\\\\\n",
       "\\hline\n",
       "\tGene1 &  -1.627455 &  1.684725 &  -0.0807924 &  1.510522 &  0.5804513\\\\\n",
       "\tGene2 & -12.626715 & 17.746163 & -14.2519447 &  5.254536 & 14.8258933\\\\\n",
       "\tGene3 &   3.337390 & -7.259074 &   6.2643526 & -1.375911 & -4.7039364\\\\\n",
       "\tGene4 &   4.468973 & -4.179250 &   6.2956787 &  1.316271 & -3.5877553\\\\\n",
       "\tGene5 &  -4.945527 &  8.378774 &  -4.0786989 &  4.729963 &  6.0079090\\\\\n",
       "\\end{tabular}\n"
      ],
      "text/markdown": [
       "\n",
       "A data.frame: 5 × 5\n",
       "\n",
       "| <!--/--> | Sample1 &lt;dbl&gt; | Sample2 &lt;dbl&gt; | Sample3 &lt;dbl&gt; | Sample4 &lt;dbl&gt; | Sample5 &lt;dbl&gt; |\n",
       "|---|---|---|---|---|---|\n",
       "| Gene1 |  -1.627455 |  1.684725 |  -0.0807924 |  1.510522 |  0.5804513 |\n",
       "| Gene2 | -12.626715 | 17.746163 | -14.2519447 |  5.254536 | 14.8258933 |\n",
       "| Gene3 |   3.337390 | -7.259074 |   6.2643526 | -1.375911 | -4.7039364 |\n",
       "| Gene4 |   4.468973 | -4.179250 |   6.2956787 |  1.316271 | -3.5877553 |\n",
       "| Gene5 |  -4.945527 |  8.378774 |  -4.0786989 |  4.729963 |  6.0079090 |\n",
       "\n"
      ],
      "text/plain": [
       "      Sample1    Sample2   Sample3     Sample4   Sample5   \n",
       "Gene1  -1.627455  1.684725  -0.0807924  1.510522  0.5804513\n",
       "Gene2 -12.626715 17.746163 -14.2519447  5.254536 14.8258933\n",
       "Gene3   3.337390 -7.259074   6.2643526 -1.375911 -4.7039364\n",
       "Gene4   4.468973 -4.179250   6.2956787  1.316271 -3.5877553\n",
       "Gene5  -4.945527  8.378774  -4.0786989  4.729963  6.0079090"
      ]
     },
     "metadata": {},
     "output_type": "display_data"
    }
   ],
   "source": [
    "df <- read.table(\"Peer_example_data/Peer_example_data.txt\", row.names = 1, header = T)\n",
    "df[1:5,1:5]"
   ]
  },
  {
   "cell_type": "markdown",
   "id": "therapeutic-football",
   "metadata": {
    "kernel": "SoS"
   },
   "source": [
    "* --covariate_file: a file with C + 1 rows and N + 1 columns. N is the number of sample and C is the number of covariate. Note that the order of sample must be the same.\n",
    "* --N: Number of PEER factor used. If set N = 0, recommanded PEER factors will be generated based on the suggestion of [GTEX](https://gtexportal.org/home/documentationPage) automatically. To obtain the N used, see the `.stdout` file for detail.\n",
    "* Other values of priors and tolerance.\n",
    "\n",
    "### Output\n",
    "4 files and a diagnosis plot.\n",
    "\n",
    "## Useage:\n",
    "```sos\n",
    "    sos run Call_PEER.ipynb call_peer \\\n",
    "        --expression_file Peer_example_data/Peer_example_data.txt \\\n",
    "        --covariate (optional) \\\n",
    "        --cwd /Users/albert29/Documents/Lab/Pipelines/Call_PEER/Output/ \\\n",
    "        --N 10\n",
    "        ..\n",
    "```"
   ]
  },
  {
   "cell_type": "markdown",
   "id": "distinct-metabolism",
   "metadata": {
    "kernel": "R"
   },
   "source": [
    "## Setup and global parameters:"
   ]
  },
  {
   "cell_type": "code",
   "execution_count": 2,
   "id": "central-signature",
   "metadata": {
    "kernel": "SoS",
    "tags": []
   },
   "outputs": [],
   "source": [
    "[global]\n",
    "# The output directory for generated files. MUST BE FULL PATH\n",
    "parameter: wd = path\n",
    "cwd = wd\n",
    "# For cluster jobs, number commands to run per job\n",
    "parameter: job_size = 1\n",
    "# Wall clock time expected\n",
    "parameter: walltime = \"5h\"\n",
    "# Memory expected\n",
    "parameter: mem = \"16384\"\n",
    "# Number of threads\n",
    "parameter: numThreads = 8\n",
    "# Software container option\n",
    "parameter: container_apex = str\n",
    "parameter: name = str\n",
    "\n",
    "# N PEER factors, If do not specify or specified as 0, default values suggested by \n",
    "# UCSC (based on different sample size) Will be used\n",
    "parameter: N = 4\n",
    "n_of_factor = N\n",
    "\n",
    "# Default values from PEER:\n",
    "## The number of max iteration\n",
    "\n",
    "parameter: max_iter = 1000\n",
    "iteration = max_iter\n",
    "## Prior parameters\n",
    "parameter: Alpha_a = 0.001\n",
    "parameter: Alpha_b = 0.1\n",
    "parameter: Eps_a = 0.1\n",
    "parameter: Eps_b = 10.\n",
    "## Tolarance parameters\n",
    "parameter: tol = 0.001\n",
    "parameter: var_tol = 1e-08\n",
    "# The molecular phenotype matrix\n",
    "parameter: molecular_pheno = path\n",
    "expression_file = molecular_pheno\n",
    "# The covariate file\n",
    "parameter: covariate = \"None\"\n",
    "\n",
    "# vcf Genotypy list, so that apex factor can run with covariate file input, requirment: vcf shall have the same sample as the cov and molecular phenotype\n",
    "parameter: genotype_list = path\n",
    "import pandas as pd\n",
    "import os\n",
    "vcf_file = pd.read_csv(genotype_list,sep = \"\\t\")[\"dir\"][0]"
   ]
  },
  {
   "cell_type": "code",
   "execution_count": 3,
   "id": "controlled-surgery",
   "metadata": {
    "kernel": "Bash",
    "tags": []
   },
   "outputs": [
    {
     "name": "stdout",
     "output_type": "stream",
     "text": [
      "usage: sos run Call_PEER.ipynb [workflow_name | -t targets] [options] [workflow_options]\n",
      "  workflow_name:        Single or combined workflows defined in this script\n",
      "  targets:              One or more targets to generate\n",
      "  options:              Single-hyphen sos parameters (see \"sos run -h\" for details)\n",
      "  workflow_options:     Double-hyphen workflow-specific parameters\n",
      "\n",
      "Workflows:\n",
      "  call_peer\n",
      "\n",
      "Global Workflow Options:\n",
      "  --cwd VAL (as path, required)\n",
      "                        The output directory for generated files. MUST BE FULL\n",
      "                        PATH\n",
      "  --job-size 1 (as int)\n",
      "                        For cluster jobs, number commands to run per job\n",
      "  --walltime 5h\n",
      "                        Wall clock time expected\n",
      "  --mem 16384\n",
      "                        Memory expected\n",
      "  --numThreads 8 (as int)\n",
      "                        Number of threads\n",
      "  --container-PEER 'rticode/peer:1.3_8f2237f'\n",
      "                        Software container option\n",
      "\n",
      "Sections\n",
      "  call_peer:\n",
      "    Workflow Options:\n",
      "      --expression-file VAL (as path, required)\n",
      "                        The expression matrix\n",
      "      --covariate-file  path(f'{cwd}')\n",
      "\n",
      "                        The covariate file\n",
      "      --N 0 (as int)\n",
      "                        N PEER factors, If do not specify or specified as 0,\n",
      "                        default values suggested by UCSC (based on different\n",
      "                        sample size) Will be used\n",
      "      --max-iter 1000 (as int)\n",
      "      --Alpha-a 0.001 (as float)\n",
      "                        Prior parameters\n",
      "      --Alpha-b 0.1 (as float)\n",
      "      --Eps-a 0.1 (as float)\n",
      "      --Eps-b 10.0 (as float)\n",
      "      --tol 0.001 (as float)\n",
      "                        Tolarance parameters\n",
      "      --var-tol 1e-08 (as float)\n"
     ]
    }
   ],
   "source": [
    "sos run Call_PEER.ipynb -h"
   ]
  },
  {
   "cell_type": "markdown",
   "id": "settled-blind",
   "metadata": {
    "kernel": "Bash"
   },
   "source": [
    "## Main code for the pipeline: PEER"
   ]
  },
  {
   "cell_type": "code",
   "execution_count": 2,
   "id": "framed-webster",
   "metadata": {
    "kernel": "SoS",
    "tags": []
   },
   "outputs": [],
   "source": [
    "[PEER]\n",
    "\n",
    "input: expression_file\n",
    "output: f'{cwd}/{_input:bn}_diagnosis_plot.jpeg',\n",
    "        f'{cwd}/{name}.PEER.cov'\n",
    "task: trunk_workers = 1, walltime = walltime, mem = mem, cores = numThreads, tags = f'{step_name}_{_output:bn}'\n",
    "R: container=container_apex, expand= \"${ }\", stderr = f'{_output}.stderr', stdout = f'{_output}.stdout'\n",
    "    \n",
    "    library(peer)\n",
    "  \n",
    "    #### FUNCTIONS: ####  \n",
    "      \n",
    "    ## Adapted from the source code of package\n",
    "    PEER_plotModel_adapted <- function(model){\n",
    "        par(mfrow=c(2,1))\n",
    "        bounds = PEER_getBounds(model)\n",
    "        vars = PEER_getResidualVars(model)\n",
    "        plot(bounds, type=\"l\", col=\"red\", lwd=2, xlab=\"Iterations\", ylab=\"Lower bound\")\n",
    "        par(new=TRUE)\n",
    "        plot(vars,,type=\"l\",col=\"blue\",xaxt=\"n\",yaxt=\"n\",xlab=\"\",ylab=\"\")\n",
    "        axis(4)\n",
    "        mtext(\"Residual variance\",side=4,line=3)\n",
    "        legend(\"right\",col=c(\"red\",\"blue\"),lty=1,legend=c(\"Lower bound\",\"Residual variance\"))\n",
    "        alpha = PEER_getAlpha(model)\n",
    "        plot(alpha,xlab=\"Factors\",ylab=\"Inverse variance of factor weights\", type=\"b\", col=\"blue\", lwd=4, xaxp=c(1,length(alpha), length(alpha)-1))\n",
    "    }\n",
    "    \n",
    "    WriteTable <- function(data, filename, index.name) {\n",
    "      datafile <- file(filename, open = \"wt\")\n",
    "      on.exit(close(datafile))\n",
    "      header <- c(index.name, colnames(data))\n",
    "      writeLines(paste0(header, collapse = \"\\t\"), con = datafile, sep = \"\\n\")\n",
    "      write.table(data, datafile, sep = \"\\t\", col.names = F, quote = F)\n",
    "    }\n",
    "  \n",
    "    #### MAIN ####\n",
    "  \n",
    "    # Start analysis:\n",
    "    model <- PEER()\n",
    "    cat(\"PEER: loading expression data ... \")\n",
    "    #pe <- file.path(${_input:r})\n",
    "    #df <- read.table(pe, header = T, row.names = 1)\n",
    "    df <- readr::read_delim(${_input:r},\"\\t\")\n",
    "    mtx = df[,5:ncol(df)]\n",
    "    rownames(mtx) = df$gene_ID\n",
    "    # Input: each column is a sample each row is a gene\n",
    "    # PEER require each row is a sample each column is a gene\n",
    "    M <- t(as.matrix(mtx, rownames = T))\n",
    "    cat(\"done!\\n\")\n",
    "    \n",
    "    # Load covariate file:\n",
    "    pc <- \"${covariate_file}\"\n",
    "    if(pc !=  \"None\")\n",
    "        cat(\"PEER: loading covariate file ...\")\n",
    "        pc <- file.path(${covariate_file:r})\n",
    "        cov.mat <- read.table(pc, header = T, row.names = 1)\n",
    "        cov.mat <- t(as.matrix(cov.mat))\n",
    "        \n",
    "        if(dim(M)[1] != dim(cov.mat)[1]){\n",
    "            cat(\"\\n\")\n",
    "            stop(\"Expression file and covariate file do not have identical number of samples!\")}\n",
    "        cat(\"done!\\n\")\n",
    "        cat(\"PEER: Input summary:\",dim(M)[1], \"samples with\",dim(M)[2], \"genes and\", dim(cov.mat)[2],\"covariates \\n\")\n",
    "        invisible(PEER_setCovariates(model, cov.mat))\n",
    "    }else{\n",
    "        cov.mat <- NULL\n",
    "        cat(\"PEER: Input summary:\",dim(M)[1], \"samples with\",dim(M)[2], \"genes \\n\")\n",
    "    }\n",
    "       \n",
    "    # Suggest the number of factors to use if no input value\n",
    "      \n",
    "    if(${N} == 0){\n",
    "      # Use suggestion\n",
    "      if(dim(M)[1] < 150){\n",
    "          num_factor = 15}else{\n",
    "              if(dim(M)[1] < 250){num_factor = 30}else{num_factor = 35}\n",
    "          }\n",
    "    }else{num_factor = ${N}}\n",
    "      \n",
    "    # run PEER\n",
    "    cat(paste0(\"Setting initialization parameters ...\"))\n",
    "    \n",
    "    invisible(PEER_setNk(model, num_factor))\n",
    "    invisible(PEER_setPhenoMean(model, M))\n",
    "    invisible(PEER_setPriorAlpha(model,${Alpha_a},${Alpha_b}))\n",
    "    invisible(PEER_setPriorEps(model,${Eps_a}, ${Eps_b}))\n",
    "    invisible(PEER_setTolerance(model, ${tol}))\n",
    "    invisible(PEER_setVarTolerance(model, ${var_tol}))\n",
    "    invisible(PEER_setNmax_iterations(model, ${max_iter}))\n",
    "    if(!is.null(cov.mat)){\n",
    "        invisible(PEER_setCovariates(model, cov.mat))\n",
    "    }\n",
    "    cat(\"Done.\\n\")\n",
    "  \n",
    "    \n",
    "    cat(paste0(\"PEER: estimating hidden confounders (\", num_factor, \")\\n\"))\n",
    "    time <- system.time(PEER_update(model))\n",
    "    # add relevant row/column names\n",
    "    \n",
    "    factor.mat <- PEER_getX(model)  # samples x PEER factors\n",
    "    weight.mat <- PEER_getW(model)  # omic features x PEER factors\n",
    "    precision.mat <- PEER_getAlpha(model)  # PEER factors x 1\n",
    "    resid.mat <- t(PEER_getResiduals(model))  # omic features x samples\n",
    "    \n",
    "    peer.var.names <- paste0(\"peer.factor_\", 1:ncol(factor.mat))\n",
    "    rownames(factor.mat) <- rownames(M)\n",
    "    colnames(factor.mat) <- peer.var.names\n",
    "    colnames(weight.mat) <- peer.var.names\n",
    "    rownames(weight.mat) <- colnames(M)\n",
    "    rownames(precision.mat) <- peer.var.names\n",
    "    colnames(precision.mat) <- \"alpha\"\n",
    "    precision.mat <- as.data.frame(precision.mat)\n",
    "    precision.mat$relevance <- 1.0 / precision.mat$alpha\n",
    "    rownames(resid.mat) <- colnames(M)\n",
    "    colnames(resid.mat) <- rownames(M)\n",
    "    \n",
    "    cat(\"Exporting results ... \")\n",
    "      \n",
    "    # Diagnosis plot:\n",
    "    output_path <- paste(${cwd:r},\"/\",${_input:bnr},\"_diagnosis_plot.jpeg\", sep = \"\")\n",
    "    jpeg(output_path)\n",
    "    invisible(PEER_plotModel_adapted(model))\n",
    "    invisible(dev.off())\n",
    "    \n",
    "    # Write 4 numeric results\n",
    "    WriteTable(t(factor.mat), file.path(\"${_output[1]:d}\",${_output[1]:b}), \"#id\")  \n",
    "    WriteTable(weight.mat, file.path(${cwd:r}, \"peer_weights.txt\"), \"#id\")\n",
    "    WriteTable(precision.mat, file.path(${cwd:r}, \"peer_precisions.txt\"), \"#id\")\n",
    "    WriteTable(resid.mat, file.path(${cwd:r}, \"peer_residuals.txt\"), \"#id\")\n",
    "    cat(\"Done.\\n\")"
   ]
  },
  {
   "cell_type": "markdown",
   "id": "chicken-contribution",
   "metadata": {
    "kernel": "SoS"
   },
   "source": [
    "## Main code for the pipeline: APEX"
   ]
  },
  {
   "cell_type": "code",
   "execution_count": 3,
   "id": "cloudy-board",
   "metadata": {
    "kernel": "SoS"
   },
   "outputs": [],
   "source": [
    "[APEX]\n",
    "input:  molecular_pheno\n",
    "output: f'{wd:a}/{name}.APEX.cov.gz',\n",
    "        f'{wd:a}/{name}.APEX.cov'\n",
    "task: trunk_workers = 1, trunk_size = 1, walltime = '4h',  mem = '20G', tags = f'{step_name}_{_output[0]:bn}'\n",
    "bash: expand = \"$[ ]\", stderr = f'{_output[0]}.stderr', stdout = f'{_output[0]}.stdout',container = container_apex,volumes = [f'{wd:ad}:{wd:ad}']\n",
    "    apex factor \\\n",
    "    --out $[_output[0]:nn] \\\n",
    "    --iter $[iteration] \\\n",
    "    --factors $[n_of_factor] \\\n",
    "    --bed $[_input] \\\n",
    "    --vcf $[vcf_file] $[f'--cov {covariate}' if os.path.exists(covariate) else f'']\n",
    "\n",
    "    gunzip -f -k $[_output[0]]"
   ]
  },
  {
   "cell_type": "markdown",
   "id": "integral-syndication",
   "metadata": {
    "kernel": "Bash"
   },
   "source": [
    "## Reference:\n",
    "* Codes are adapted from [here](https://github.com/RTIInternational/biocloud_docker_tools/blob/master/peer/v1.3/run_peer.R)\n",
    "* GTEX recommandation of PEER factors is [here](https://gtexportal.org/home/documentationPage)\n",
    "* Examples by PEER is at [github](https://github.com/PMBio/peer/wiki/Tutorial)"
   ]
  }
 ],
 "metadata": {
  "kernelspec": {
   "display_name": "SoS",
   "language": "sos",
   "name": "sos"
  },
  "language_info": {
   "codemirror_mode": "sos",
   "file_extension": ".sos",
   "mimetype": "text/x-sos",
   "name": "sos",
   "nbconvert_exporter": "sos_notebook.converter.SoS_Exporter",
   "pygments_lexer": "sos"
  },
  "sos": {
   "kernels": [
    [
     "Bash",
     "bash",
     "Bash",
     "#E6EEFF",
     "shell"
    ],
    [
     "R",
     "ir",
     "R",
     "#DCDCDA",
     "r"
    ],
    [
     "SoS",
     "sos",
     "",
     "",
     "sos"
    ]
   ],
   "version": "0.22.6"
  }
 },
 "nbformat": 4,
 "nbformat_minor": 5
}
