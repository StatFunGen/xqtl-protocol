{
 "cells": [
  {
   "cell_type": "markdown",
   "metadata": {
    "kernel": "SoS",
    "tags": []
   },
   "source": [
    "# Extracting Sumstat for each gene from the per chromosome sumstat of each study\n",
    "\n",
    "Input:\n",
    "    1. A list of genes that needs their sumstat packages in RDS format\n",
    "    2. A list of sumstat file for each chromosome\n",
    "Output:\n",
    "    1. A collections of rds files each are a list with bhat and sbhat matrixs, with their rowname being the snps name.\n",
    "    2. A file that documenting the name for Output.1"
   ]
  },
  {
   "cell_type": "code",
   "execution_count": null,
   "metadata": {
    "kernel": "SoS"
   },
   "outputs": [],
   "source": []
  },
  {
   "cell_type": "markdown",
   "metadata": {
    "kernel": "SoS"
   },
   "source": [
    "## Global parameters"
   ]
  },
  {
   "cell_type": "code",
   "execution_count": null,
   "metadata": {
    "kernel": "SoS"
   },
   "outputs": [],
   "source": [
    "[global]\n",
    "# An index text file with 4 columns specifying the chr, start, end and names of regions to analyze\n",
    "parameter: region_list = path\n",
    "# Path to the work directory\n",
    "parameter: wd = path('./')\n",
    "# Specify the scanning window for the up and downstream radius to analyze around the region of interest, in units of Kb\n",
    "parameter: window = 500000\n",
    "# Name for the theme or theme combined (Meta_SS1_SS2)\n",
    "parameter: name = \"geneTpmResidualsAgeGenderAdj_rename\"\n",
    "\n",
    "# Container option for software to run the analysis: docker or singularity\n",
    "parameter: container = 'gaow/twas'\n",
    "\n",
    "# Get regions of interest to focus on.\n",
    "regions = [x.strip().split() for x in open(region_list).readlines() if x.strip() and not x.strip().startswith('#')]\n"
   ]
  },
  {
   "cell_type": "markdown",
   "metadata": {
    "kernel": "SoS"
   },
   "source": [
    "## Sumstat annotation\n",
    "Each sumstat_list is a index for the code to looks for the correct sumstat file so that only the chr overlapping with the regions will be analyzed\n"
   ]
  },
  {
   "cell_type": "code",
   "execution_count": null,
   "metadata": {
    "kernel": "SoS"
   },
   "outputs": [],
   "source": [
    "[Sumstat_Annotation_1]\n",
    "# a list of sumstat file from 1 study, for each of them, chr and bp column shall be named CHR and BP\n",
    "parameter: sumstat_list = path\n",
    "# name of column for chr and pos  \n",
    "parameter: chr_col = \"chr\"\n",
    "parameter: pos_col = \"pos\"\n",
    "# location of column for beta, SE_beta, and SNP names  \n",
    "parameter: beta_col = \"beta\"\n",
    "parameter: se_beta_col = \"se\"\n",
    "# SNP names in the form of chr:pos_alt_ref\n",
    "parameter: snp_col = \"variant_id\"\n",
    "input: sumstat_list, for_each = \"regions\"\n",
    "output: f'{wd}/sumstat/{name}/{_regions[3]}.rds'\n",
    "task: trunk_workers = 1, trunk_size = 1, walltime = '12h',  mem = '10G', tags = f'{step_name}_{_output:bn}'\n",
    "R: expand= \"$[ ]\", stderr = f'{_output}.stderr', stdout = f'{_output}.stdout',container = container\n",
    "    library(\"dplyr\")\n",
    "    library(\"tibble\")\n",
    "    library(\"readr\")\n",
    "    library(\"modelr\")\n",
    "    library(\"purrr\")\n",
    "    library(\"tidyr\")\n",
    "    sumstat_list = read_delim(\"$[_input]\",\"\\t\")\n",
    "    sumstat_path = (sumstat_list%>%filter(chr == $[_regions[0]]))[[1,1]]\n",
    "    sumstat = read_delim(sumstat_path,delim = \"\\t\" ) \n",
    "    sumstat_ftr = sumstat%>%mutate(Z = sumstat$$[beta_col]/sumstat$$[se_beta_col],\n",
    "                                    pos = map_dbl(variant_id, ~read.table(text = read.table(text = .x, sep = \":\")$V2,sep = \"_\")$V1))%>%\n",
    "    filter( `$[pos_col]` >=  $[_regions[1]] - 500000, `$[pos_col]` <= $[_regions[1]] + 500000)%>%\n",
    "    ## remove all the NA,nan,Inf sumstat\n",
    "    filter(!is.na(Z) && !is.nan(Z) && is.finite(Z))\n",
    "    output = list()\n",
    "    output$bhat = as.matrix(sumstat_ftr$$[beta_col])\n",
    "    rownames(output$bhat) = (sumstat_ftr$$[snp_col])%>%unlist%>%as.character\n",
    "    output$sbhat = as.matrix(sumstat_ftr$$[se_beta_col])\n",
    "    rownames(output$sbhat) = (sumstat_ftr$$[snp_col])%>%unlist%>%as.character\n",
    "    ## remove all the NA,nan,Inf sumstat\n",
    "    output%>%saveRDS(\"$[_output]\")\n",
    "  \n",
    "  "
   ]
  },
  {
   "cell_type": "code",
   "execution_count": null,
   "metadata": {
    "kernel": "SoS"
   },
   "outputs": [],
   "source": [
    "[Sumstat_Annotation_2]\n",
    "input: group_by = \"all\"\n",
    "output: f'{wd}/sumstat/{name}/analysis_unit.txt'\n",
    "python: expand= \"$[ ]\", stderr = f'{_output}.stderr', stdout = f'{_output}.stdout'\n",
    "    import pandas as pd\n",
    "    pd.DataFrame({\"analysis_unit\" : [$[_input:br,]]}).to_csv(\"$[_output]\",index = False ,header = False, sep = \"t\")"
   ]
  }
 ],
 "metadata": {
  "kernelspec": {
   "display_name": "SoS",
   "language": "sos",
   "name": "sos"
  },
  "language_info": {
   "codemirror_mode": "sos",
   "file_extension": ".sos",
   "mimetype": "text/x-sos",
   "name": "sos",
   "nbconvert_exporter": "sos_notebook.converter.SoS_Exporter",
   "pygments_lexer": "sos"
  },
  "sos": {
   "kernels": [
    [
     "R"
    ],
    [
     "SoS"
    ]
   ],
   "version": "0.22.6"
  }
 },
 "nbformat": 4,
 "nbformat_minor": 4
}
