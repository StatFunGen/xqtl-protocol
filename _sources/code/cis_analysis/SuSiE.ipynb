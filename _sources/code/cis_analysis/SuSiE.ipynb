{
 "cells": [
  {
   "cell_type": "markdown",
   "id": "illegal-navigator",
   "metadata": {
    "kernel": "SoS"
   },
   "source": [
    "# SuSiE fine-mapping workflow"
   ]
  },
  {
   "cell_type": "markdown",
   "id": "collective-aquarium",
   "metadata": {
    "kernel": "SoS"
   },
   "source": [
    "## Generate regional level genotype and phenotype data\n",
    "\n",
    "### Genotype data partition by region\n",
    "\n",
    "This step is necessary for finemapping using SuSiE.\n",
    "`TADB_enhanced_cis.bed` is a list of TADB extended region for each gene, in formatting of gene_id, chr, start, end. The complete version of the file has been uploaded t\n",
    "o [GitHub](https://github.com/cumc/fungen-xqtl-analysis/blob/main/resource/TADB_enhanced_cis.bed). Here we use a trimmed version that only contains information for the data we are analyzing in the MWE, ie, the `protocol_example.protein.enhanced_cis_chr21_chr22.bed` "
   ]
  },
  {
   "cell_type": "code",
   "execution_count": 6,
   "id": "negative-grammar",
   "metadata": {
    "kernel": "Bash"
   },
   "outputs": [
    {
     "name": "stdout",
     "output_type": "stream",
     "text": [
      "INFO: Running \u001b[32mgenotype_by_region_1\u001b[0m: \n",
      "INFO: \u001b[32mgenotype_by_region_1\u001b[0m (index=1) is \u001b[32mcompleted\u001b[0m.\n",
      "INFO: \u001b[32mgenotype_by_region_1\u001b[0m (index=4) is \u001b[32mcompleted\u001b[0m.\n",
      "INFO: \u001b[32mgenotype_by_region_1\u001b[0m (index=3) is \u001b[32mcompleted\u001b[0m.\n",
      "INFO: \u001b[32mgenotype_by_region_1\u001b[0m (index=5) is \u001b[32mcompleted\u001b[0m.\n",
      "INFO: \u001b[32mgenotype_by_region_1\u001b[0m (index=0) is \u001b[32mcompleted\u001b[0m.\n",
      "INFO: \u001b[32mgenotype_by_region_1\u001b[0m (index=2) is \u001b[32mcompleted\u001b[0m.\n",
      "INFO: \u001b[32mgenotype_by_region_1\u001b[0m (index=6) is \u001b[32mcompleted\u001b[0m.\n",
      "INFO: \u001b[32mgenotype_by_region_1\u001b[0m (index=7) is \u001b[32mcompleted\u001b[0m.\n",
      "INFO: \u001b[32mgenotype_by_region_1\u001b[0m (index=8) is \u001b[32mcompleted\u001b[0m.\n",
      "INFO: \u001b[32mgenotype_by_region_1\u001b[0m (index=9) is \u001b[32mcompleted\u001b[0m.\n",
      "INFO: \u001b[32mgenotype_by_region_1\u001b[0m (index=10) is \u001b[32mcompleted\u001b[0m.\n",
      "INFO: \u001b[32mgenotype_by_region_1\u001b[0m (index=14) is \u001b[32mcompleted\u001b[0m.\n",
      "INFO: \u001b[32mgenotype_by_region_1\u001b[0m (index=13) is \u001b[32mcompleted\u001b[0m.\n",
      "INFO: \u001b[32mgenotype_by_region_1\u001b[0m (index=11) is \u001b[32mcompleted\u001b[0m.\n",
      "INFO: \u001b[32mgenotype_by_region_1\u001b[0m (index=15) is \u001b[32mcompleted\u001b[0m.\n",
      "INFO: \u001b[32mgenotype_by_region_1\u001b[0m (index=12) is \u001b[32mcompleted\u001b[0m.\n",
      "INFO: \u001b[32mgenotype_by_region_1\u001b[0m (index=16) is \u001b[32mcompleted\u001b[0m.\n",
      "INFO: \u001b[32mgenotype_by_region_1\u001b[0m (index=17) is \u001b[32mcompleted\u001b[0m.\n",
      "INFO: \u001b[32mgenotype_by_region_1\u001b[0m (index=18) is \u001b[32mcompleted\u001b[0m.\n",
      "INFO: \u001b[32mgenotype_by_region_1\u001b[0m (index=19) is \u001b[32mcompleted\u001b[0m.\n",
      "INFO: \u001b[32mgenotype_by_region_1\u001b[0m (index=20) is \u001b[32mcompleted\u001b[0m.\n",
      "INFO: \u001b[32mgenotype_by_region_1\u001b[0m (index=22) is \u001b[32mcompleted\u001b[0m.\n",
      "INFO: \u001b[32mgenotype_by_region_1\u001b[0m (index=21) is \u001b[32mcompleted\u001b[0m.\n",
      "INFO: \u001b[32mgenotype_by_region_1\u001b[0m (index=23) is \u001b[32mcompleted\u001b[0m.\n",
      "INFO: \u001b[32mgenotype_by_region_1\u001b[0m (index=24) is \u001b[32mcompleted\u001b[0m.\n",
      "INFO: \u001b[32mgenotype_by_region_1\u001b[0m (index=25) is \u001b[32mcompleted\u001b[0m.\n",
      "INFO: \u001b[32mgenotype_by_region_1\u001b[0m (index=26) is \u001b[32mcompleted\u001b[0m.\n",
      "INFO: \u001b[32mgenotype_by_region_1\u001b[0m (index=27) is \u001b[32mcompleted\u001b[0m.\n",
      "INFO: \u001b[32mgenotype_by_region_1\u001b[0m output:   \u001b[32m/home/gw/GIT/github/fungen-xqtl-analysis/analysis/Wang_Columbia/ROSMAP/MWE/output/protocol_example.protein.enhanced_cis_chr21_chr22_genotype_by_region/protocol_example.genotype.chr21_22.ENSG00000154654_O15394.bed /home/gw/GIT/github/fungen-xqtl-analysis/analysis/Wang_Columbia/ROSMAP/MWE/output/protocol_example.protein.enhanced_cis_chr21_chr22_genotype_by_region/protocol_example.genotype.chr21_22.ENSG00000142192_P05067.bed... (28 items in 28 groups)\u001b[0m\n",
      "INFO: Running \u001b[32mgenotype_by_region_2\u001b[0m: \n",
      "INFO: \u001b[32mgenotype_by_region_2\u001b[0m is \u001b[32mcompleted\u001b[0m (pending nested workflow).\n",
      "INFO: Running \u001b[32mwrite_data_list\u001b[0m: \n",
      "INFO: \u001b[32mwrite_data_list\u001b[0m is \u001b[32mcompleted\u001b[0m.\n",
      "INFO: \u001b[32mwrite_data_list\u001b[0m output:   \u001b[32m/home/gw/GIT/github/fungen-xqtl-analysis/analysis/Wang_Columbia/ROSMAP/MWE/output/protocol_example.protein.enhanced_cis_chr21_chr22_genotype_by_region/protocol_example.genotype.chr21_22.genotype_by_region_files.txt\u001b[0m\n",
      "INFO: \u001b[32mgenotype_by_region_2\u001b[0m output:   \u001b[32m/home/gw/GIT/github/fungen-xqtl-analysis/analysis/Wang_Columbia/ROSMAP/MWE/output/protocol_example.protein.enhanced_cis_chr21_chr22_genotype_by_region/protocol_example.genotype.chr21_22.genotype_by_region_files.txt\u001b[0m\n",
      "INFO: Workflow genotype_by_region (ID=wd7e4633eb2ea8f09) is executed successfully with 3 completed steps and 30 completed substeps.\n"
     ]
    }
   ],
   "source": [
    "sos run pipeline/genotype_formatting.ipynb genotype_by_region \\\n",
    "    --region-list protocol_example/protocol_example.protein.enhanced_cis_chr21_chr22.bed \\\n",
    "    --genoFile protocol_example/protocol_example.genotype.chr21_22.bed \\\n",
    "    --cwd output \\\n",
    "    --container oras://ghcr.io/cumc/bioinfo_apptainer:latest"
   ]
  },
  {
   "cell_type": "markdown",
   "id": "oriented-lender",
   "metadata": {
    "kernel": "SoS",
    "tags": []
   },
   "source": [
    "## Fine-mapping using individual level data"
   ]
  },
  {
   "cell_type": "code",
   "execution_count": null,
   "id": "smaller-deployment",
   "metadata": {
    "kernel": "Bash"
   },
   "outputs": [],
   "source": [
    "sos run pipeline/cis_workhorse.ipynb susie_twas \\\n",
    "    --name protocol_example_protein \\\n",
    "    --genoFile output/protocol_example.protein.enhanced_cis_chr21_chr22_genotype_by_region/protocol_example.genotype.chr21_22.genotype_by_region_files.txt \\\n",
    "    --phenoFile output/phenotype/protocol_example.protein.region_list.txt \\\n",
    "                output/phenotype/protocol_example.protein.region_list.txt \\\n",
    "    --covFile output/covariate/protocol_example.protein.protocol_example.samples.protocol_example.genotype.chr21_22.pQTL.plink_qc.prune.pca.Marchenko_PC.gz \\\n",
    "              output/covariate/protocol_example.protein.protocol_example.samples.protocol_example.genotype.chr21_22.pQTL.plink_qc.prune.pca.Marchenko_PC.gz \\\n",
    "    --phenotype-names trai_A trait_B \\\n",
    "    --no-indel \\\n",
    "    --container oras://ghcr.io/cumc/pecotmr_apptainer:latest"
   ]
  },
  {
   "cell_type": "markdown",
   "id": "republican-suspect",
   "metadata": {
    "kernel": "Bash"
   },
   "source": [
    "**Please skip the analysis below because they need to be updated with the new workflow interface**"
   ]
  },
  {
   "cell_type": "markdown",
   "id": "representative-catering",
   "metadata": {
    "kernel": "SoS"
   },
   "source": [
    "### SuSiE results post processing\n"
   ]
  },
  {
   "cell_type": "code",
   "execution_count": null,
   "id": "experimental-seating",
   "metadata": {
    "kernel": "SoS"
   },
   "outputs": [],
   "source": [
    "sos run pipeline/SuSiE_post_processing.ipynb susie_to_tsv \\\n",
    "    --cwd output/ADGWAS_finemapping_extracted/Bellenguez/ --rds_path `ls GWAS_Finemapping_Results/Bellenguez/ADGWAS2022*rds ` \\\n",
    "    --region-list ~/1300_hg38_EUR_LD_blocks_orig.tsv \\\n",
    "    --container containers/stephenslab.sif "
   ]
  },
  {
   "cell_type": "markdown",
   "id": "higher-heading",
   "metadata": {
    "kernel": "SoS"
   },
   "source": [
    "## Plotting susie"
   ]
  },
  {
   "cell_type": "markdown",
   "id": "premium-thumb",
   "metadata": {
    "kernel": "SoS"
   },
   "source": [
    "### PIP land scape plot"
   ]
  },
  {
   "cell_type": "code",
   "execution_count": null,
   "id": "liable-current",
   "metadata": {
    "kernel": "SoS"
   },
   "outputs": [],
   "source": [
    "sos run pipeline/SuSiE_post_processing.ipynb susie_pip_landscape_plot \\\n",
    "    --cwd output/test/ --plot_list plot_recipe_668 --annot_tibble ~/Annotatr_builtin_annotation_tibble.tsv -s force --container containers/stephenslab.sif  &\n",
    "\n",
    "sos run pipeline/SuSiE_post_processing.ipynb susie_pip_landscape_plot \\\n",
    "    --cwd output/test/ --plot_list plot_recipe_ADGWAS_uni --annot_tibble ~/Annotatr_builtin_annotation_tibble.tsv -s force --container containers/stephenslab.sif  &\n",
    "\n",
    "sos run pipeline/SuSiE_post_processing.ipynb susie_pip_landscape_plot \\\n",
    "    --cwd output/1182/ --plot_list plot_recipe_1182 --annot_tibble ~/Annotatr_builtin_annotation_tibble.tsv -s force --container containers/stephenslab.sif  &"
   ]
  },
  {
   "cell_type": "code",
   "execution_count": null,
   "id": "structured-proposition",
   "metadata": {
    "kernel": "SoS"
   },
   "outputs": [],
   "source": [
    "sos run pipeline/SuSiE_post_processing.ipynb susie_pip_landscape_plot \\\n",
    "    --cwd output/test_3/ --plot_list plot_recipe --annot_tibble ~/Annotatr_builtin_annotation_tibble.tsv -s force --container containers/stephenslab.sif  &"
   ]
  },
  {
   "cell_type": "code",
   "execution_count": null,
   "id": "satisfactory-marriage",
   "metadata": {
    "kernel": "SoS"
   },
   "outputs": [],
   "source": [
    "sos run pipeline/SuSiE_post_processing.ipynb susie_pip_landscape_plot \\\n",
    "    --cwd output/5g/ --plot_list recipe_5gene --annot_tibble ~/Annotatr_builtin_annotation_tibble.tsv -s force --container containers/stephenslab.sif  &"
   ]
  },
  {
   "cell_type": "markdown",
   "id": "internal-portugal",
   "metadata": {
    "kernel": "SoS"
   },
   "source": [
    "### UpSetR plot "
   ]
  },
  {
   "cell_type": "code",
   "execution_count": null,
   "id": "after-monaco",
   "metadata": {
    "kernel": "SoS"
   },
   "outputs": [],
   "source": [
    "sos run pipeline/SuSiE_post_processing.ipynb susie_upsetR_plot \\\n",
    "    --cwd output/updated_mQTL/ --plot_list UpsetR_recipe -s force --container containers/stephenslab.sif &\n",
    "sos run pipeline/SuSiE_post_processing.ipynb susie_upsetR_plot \\\n",
    "    --cwd output/updated_16/ --plot_list UpsetR_recipe_16 -s force --container containers/stephenslab.sif &"
   ]
  },
  {
   "cell_type": "code",
   "execution_count": null,
   "id": "enhanced-zambia",
   "metadata": {
    "kernel": "SoS"
   },
   "outputs": [],
   "source": [
    "sos run pipeline/SuSiE_post_processing.ipynb susie_upsetR_cs_plot \\\n",
    "    --cwd output/updated_mQTL/ --plot_list UpsetR_recipe_1 -s force --trait_to_select 3 --container containers/stephenslab.sif &\n",
    "sos run pipeline/SuSiE_post_processing.ipynb susie_upsetR_cs_plot \\\n",
    "    --cwd output/updated_16/ --plot_list UpsetR_recipe_16  -s force --trait_to_select 3 --container containers/stephenslab.sif &\n",
    "\n",
    "sos run pipeline/SuSiE_post_processing.ipynb susie_upsetR_cs_plot \\\n",
    "    --cwd output/rerun/ --plot_list UpsetR_recipe_16_rerun  -s force --trait_to_select 3 --container containers/stephenslab.sif &\n",
    "\n",
    "sos run pipeline/SuSiE_post_processing.ipynb susie_upsetR_cs_plot \\\n",
    "    --cwd output/rerun/ --plot_list UpsetR_recipe_16_rerun  -s force --trait_to_select 2 --container containers/stephenslab.sif &\n",
    "\n",
    "sos run pipeline/SuSiE_post_processing.ipynb susie_upsetR_cs_plot \\\n",
    "    --cwd output/rerun/ --plot_list UpsetR_recipe_16_rerun  -s force --trait_to_select 1 --container containers/stephenslab.sif &"
   ]
  }
 ],
 "metadata": {
  "kernelspec": {
   "display_name": "SoS",
   "language": "sos",
   "name": "sos"
  },
  "language_info": {
   "codemirror_mode": "sos",
   "file_extension": ".sos",
   "mimetype": "text/x-sos",
   "name": "sos",
   "nbconvert_exporter": "sos_notebook.converter.SoS_Exporter",
   "pygments_lexer": "sos"
  },
  "sos": {
   "kernels": [
    [
     "Bash",
     "bash",
     "Bash",
     "#E6EEFF",
     "shell"
    ],
    [
     "SoS",
     "sos",
     "",
     "",
     "sos"
    ]
   ],
   "version": "0.22.4"
  }
 },
 "nbformat": 4,
 "nbformat_minor": 5
}
