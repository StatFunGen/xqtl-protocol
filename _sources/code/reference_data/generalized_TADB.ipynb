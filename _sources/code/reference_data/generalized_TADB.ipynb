{
 "cells": [
  {
   "cell_type": "markdown",
   "id": "b2aaa3db-297b-40d5-91f4-3edf7170b359",
   "metadata": {
    "kernel": "SoS",
    "tags": []
   },
   "source": [
    "# Generation of Topologically Associated Domains and their Boundaries "
   ]
  },
  {
   "cell_type": "markdown",
   "id": "8e06540d-a1c8-49c3-ba6e-a6caaac97926",
   "metadata": {},
   "source": [
    "## Description"
   ]
  },
  {
   "cell_type": "markdown",
   "id": "7071d295-46af-4ddc-8910-0f278f45faa1",
   "metadata": {},
   "source": [
    "During fine mapping we often use cis window (up & downstream 1M base of te start of gene) as the fine mapping region. However, this method lacks justification in biological level, so we will use topologically associated domains (TAD) to create a list of fine mapping regions.\n",
    "\n",
    "We use generalized TAD region lists created from the merging of TAD data from hippocampus and cortex brain tissues obtained from [[cf. McArthur et al (2021)](https://doi.org/10.1016%2Fj.ajhg.2021.01.001) and [[cf. Schmitt et al (2017)](https://doi.org/10.1016%2Fj.celrep.2016.10.061). Variants within boundaries may also have an effect on gene expresion, so we explore how to extend TAD regions to the adjacent boundaries (TADB), in an attempt to not leave out any possible causal variants. \n",
    "\n",
    "However, we are trying to be conservative, so we do not want to lose information gained from the use of 1Mb cis windows. Therefore, we want to extend those regions. Here we extend both TADB and TADB-enhanced cis windows since each has a different goal.\n",
    "\n",
    "To build a list of extended TADB, we start with generalized TADB. We find all genes within each TADB and get their start and end positions extended by 1Mb cis windows. We then take the outmost boundary of all the !M cis windows and this TADB as the boundary of the extended TADB. We end with 1,381 TADBs which may then be used as functional units of epigenetic analysis. \n",
    "\n",
    "To build a list of TADB-enhanced cis windows, we start with the cis window of each gene. We take the outermost boundary of the generalized TADB the gene is in and the 1Mb cis window of the gene as the boundary of the TADB-enhanced cis window. If one gene is in two generalized TADBs, we take the outermost of both the TADB and cis window. We end with a cis window for each gene.\n",
    "\n"
   ]
  },
  {
   "cell_type": "markdown",
   "id": "c636df12-c079-4db8-ace7-a9528074aba0",
   "metadata": {
    "kernel": "SoS"
   },
   "source": [
    "## Input\n",
    "+ `Cortex_DLPFC_Schmitt2016-raw_TADs.txt` and `Hippocampus_Schmitt2016-raw_TADs.txt` for initial TAD data. Obtained from [[cf. McArthur et al (2021)](https://doi.org/10.1016%2Fj.ajhg.2021.01.001) including hg38 TAD regions in cortex and hippocampal tissues collected by [[cf. Schmitt et al (2017)](https://doi.org/10.1016%2Fj.celrep.2016.10.061). These are used to define the genotype cis region for fine mapping with different phenotypes. These TAD regions may be downloaded [here](http://3dgenome.fsm.northwestern.edu/publications.html).\n",
    "\n",
    "+ `Homo_sapiens.GRCh38.103.chr.reformatted.collapse_only.gene.ERCC.gtf`，downloaded from https://www.synapse.org/#!Synapse:syn36419586.\n",
    "\n",
    "## Output\n",
    "+ Generalized TAD: `generalized_TAD.tsv`\n",
    "\n",
    "+ Generalized TADB : `generalized_TADB.tsv`\n",
    "\n",
    "+ TADB-enhanced cis window: (also in fungen-xqtl github) `TADB_enhanced_cis.bed`\n",
    "\n",
    "+ Extended TADB: (also in fungen-xqtl github)\n",
    "`extended_TADB.bed`"
   ]
  },
  {
   "cell_type": "markdown",
   "id": "e70667fb-8a7a-4ba2-8e30-5f03e61d1474",
   "metadata": {},
   "source": [
    "## Minimal Working Example Steps"
   ]
  },
  {
   "cell_type": "markdown",
   "id": "f09655bf-4aac-4264-8b03-9fa9df8918fb",
   "metadata": {},
   "source": [
    "### i. Manage TAD Redundancy"
   ]
  },
  {
   "cell_type": "markdown",
   "id": "14dd94cc-86f0-4a1e-84b7-190811bae4c7",
   "metadata": {},
   "source": [
    "Timing: ~20 min"
   ]
  },
  {
   "cell_type": "markdown",
   "id": "b838c6d5-8a8d-431a-b0ac-8f254fcc6e7c",
   "metadata": {},
   "source": [
    "```\n",
    "# merge the TADs to one file\n",
    "cat ../../reference_data/TAD/Hippocampus_Schmitt2016-raw_TADs.txt ../../reference_data/TAD/Cortex_DLPFC_Schmitt2016-raw_TADs.txt > ../../reference_data/TAD/brain_TADs.txt\n",
    "```"
   ]
  },
  {
   "cell_type": "code",
   "execution_count": 26,
   "id": "198b6e9d-286e-4461-ac2e-ad36f11ad8aa",
   "metadata": {},
   "outputs": [],
   "source": [
    "library(tidyverse)"
   ]
  },
  {
   "cell_type": "code",
   "execution_count": 27,
   "id": "0d179ccb-0a95-4fa2-a8d9-dd78e286406c",
   "metadata": {},
   "outputs": [],
   "source": [
    "\n",
    "find_TAD_overlap <- function(x, inputDF){\n",
    "    rowChr <- x['chr']\n",
    "    rowStart <- as.numeric(x['start'])\n",
    "    rowEnd <- as.numeric(x['end'])\n",
    "    rowTADIndex <- x['TAD_index']\n",
    "\n",
    "    TADsubset <- inputDF %>% filter(chr == rowChr) \n",
    "    TADsubset$start <- as.numeric(TADsubset$start)\n",
    "    TADsubset$end <- as.numeric(TADsubset$end)\n",
    "\n",
    "    priorTADsubset <- TADsubset %>%\n",
    "        filter(start <= rowStart & rowStart <= end &\n",
    "              (start != rowStart | end != rowEnd)) %>%\n",
    "        arrange(start)\n",
    "    nextTADsubset <- TADsubset %>%\n",
    "        filter(start <= rowEnd & rowEnd <= end &\n",
    "              (start != rowStart | end != rowEnd)) %>%\n",
    "        arrange(-end)\n",
    "    completeOverlapSubset <- TADsubset %>%\n",
    "        filter(start <= rowStart & rowEnd <= end &\n",
    "              (start != rowStart | end != rowEnd))\n",
    "    \n",
    "    priorOverlap <- 0\n",
    "    prior_TAD_index <- rowTADIndex\n",
    "    nextOverlap <- 0\n",
    "    next_TAD_index <- rowTADIndex\n",
    "    completeOverlap <- FALSE\n",
    "\n",
    "    if (nrow(priorTADsubset)) {\n",
    "        priorOverlap <- priorTADsubset %>%\n",
    "            mutate(\n",
    "                inner_TAD_Length = end - rowStart,\n",
    "                outer_TAD_Length = end - start,\n",
    "            overlap = (inner_TAD_Length / outer_TAD_Length) * 100) %>%\n",
    "            arrange(-overlap)\n",
    "        prior_TAD_index <- priorOverlap$TAD_index[1]\n",
    "        priorOverlap <- priorOverlap$overlap[1]\n",
    "        if(is.na(prior_TAD_index)) stop(paste(\"The following TAD has an issue:\", rowTADIndex))\n",
    "    }\n",
    "    \n",
    "    \n",
    "    if (nrow(nextTADsubset)) {\n",
    "        nextOverlap <- nextTADsubset %>%\n",
    "            mutate(\n",
    "                inner_TAD_Length = rowEnd - start,\n",
    "                outer_TAD_Length = end - start,\n",
    "            overlap = (inner_TAD_Length / outer_TAD_Length) * 100) %>%\n",
    "            arrange(-overlap)\n",
    "        next_TAD_index <- nextOverlap$TAD_index[1]\n",
    "        nextOverlap <- nextOverlap$overlap[1]\n",
    "        if(is.na(next_TAD_index)) stop(paste(\"The following TAD has an issue:\", rowTADIndex))\n",
    "    }\n",
    "    \n",
    "    if (nrow(completeOverlapSubset)) {\n",
    "        completeOverlap <- TRUE\n",
    "    }\n",
    "    \n",
    "    return(list(prior=as.character(priorOverlap), subsequent=as.character(nextOverlap), com=as.character(completeOverlap), prior_tad=as.character(prior_TAD_index), next_tad=as.character(next_TAD_index)))\n",
    "}\n",
    "\n",
    "merge_TADs <- function(x, inputDF, cutoff = 80){\n",
    "    rowChr <- x[\"chr\"]\n",
    "    rowStart <- as.numeric(x[\"start\"])\n",
    "    rowEnd <- as.numeric(x[\"end\"])\n",
    "    rowTADIndex <- as.character(x['TAD_index'])\n",
    "    rowPriorOverlap <- as.double(x[\"prior_overlap\"])\n",
    "    rowPriorTADIndex <- as.character(x[\"prior_TAD_index\"])\n",
    "    rowNextOverlap <- as.double(x[\"next_overlap\"])\n",
    "    rowNextTADIndex <- as.character(x[\"next_TAD_index\"])\n",
    "    \n",
    "    newStart <- rowStart\n",
    "    newEnd <- rowEnd\n",
    "    \n",
    "    if (rowNextOverlap >= cutoff && rowNextTADIndex != rowTADIndex) {\n",
    "        newEnd <- inputDF %>%\n",
    "            filter(TAD_index == rowNextTADIndex)\n",
    "        if(is.na(newEnd %>% pull(end) %>% length())) print(newEnd$end[1])\n",
    "        newEnd <- newEnd$end[1]\n",
    "    }\n",
    "    \n",
    "    if (rowPriorOverlap >= cutoff & rowPriorTADIndex != rowTADIndex) {\n",
    "        newStart <- inputDF %>%\n",
    "            filter(TAD_index == rowPriorTADIndex)\n",
    "        newStart <- newStart$start[1]\n",
    "    }\n",
    "    \n",
    "    return(list(newstart=newStart, newend=newEnd))\n",
    "}\n",
    "\n",
    "recursive_merge <- function(tadDF){\n",
    "    tadDF$TAD_index <- paste0('TAD_', seq(1, nrow(tadDF)))\n",
    "\n",
    "    overlap_results <- apply(tadDF, 1, find_TAD_overlap, tadDF) # First Call\n",
    "    tadDF$prior_overlap <- as.double(lapply(overlap_results, \"[[\", 'prior'))\n",
    "    tadDF$prior_TAD_index <- as.character(lapply(overlap_results, \"[[\", 'prior_tad'))\n",
    "    tadDF$next_overlap <- as.double(lapply(overlap_results, \"[[\", 'subsequent'))\n",
    "    tadDF$next_TAD_index <- as.character(lapply(overlap_results, \"[[\", 'next_tad'))\n",
    "    tadDF$complete_overlap <- as.logical(lapply(overlap_results, \"[[\", 'com'))\n",
    "\n",
    "    merge_results <- apply(tadDF, 1, merge_TADs, tadDF, 80)\n",
    "    tadDF$end <- as.numeric(lapply(merge_results, \"[[\", 'newend'))\n",
    "    tadDF$start <- as.numeric(lapply(merge_results, \"[[\", 'newstart'))\n",
    "    candidateDF <- tadDF %>% distinct(chr, start, end, .keep_all=TRUE)\n",
    "    \n",
    "    if (nrow(tadDF) == nrow(candidateDF)) {\n",
    "        return(candidateDF)\n",
    "    } else {\n",
    "        candidateDF$TAD_index <- paste0('TAD_', seq(1, nrow(candidateDF)))\n",
    "        overlap_results <- apply(candidateDF, 1, find_TAD_overlap, candidateDF) # First Call\n",
    "        candidateDF$prior_overlap <- as.double(lapply(overlap_results, \"[[\", 'prior'))\n",
    "        candidateDF$prior_TAD_index <- as.character(lapply(overlap_results, \"[[\", 'prior_tad'))\n",
    "        candidateDF$next_overlap <- as.double(lapply(overlap_results, \"[[\", 'subsequent'))\n",
    "        candidateDF$next_TAD_index <- as.character(lapply(overlap_results, \"[[\", 'next_tad'))\n",
    "        candidateDF$complete_overlap <- as.logical(lapply(overlap_results, \"[[\", 'com'))\n",
    "        candidateDF <- candidateDF %>% filter(complete_overlap == FALSE)\n",
    "\n",
    "        candidateDF$TAD_index <- paste0('TAD_', seq(1, nrow(candidateDF)))\n",
    "        overlap_results <- apply(candidateDF, 1, find_TAD_overlap, candidateDF) # Second Call\n",
    "        candidateDF$prior_overlap <- as.double(lapply(overlap_results, \"[[\", 'prior'))\n",
    "        candidateDF$prior_TAD_index <- as.character(lapply(overlap_results, \"[[\", 'prior_tad'))\n",
    "        candidateDF$next_overlap <- as.double(lapply(overlap_results, \"[[\", 'subsequent'))\n",
    "        candidateDF$next_TAD_index <- as.character(lapply(overlap_results, \"[[\", 'next_tad'))\n",
    "        candidateDF$complete_overlap <- as.logical(lapply(overlap_results, \"[[\", 'com'))\n",
    "\n",
    "        return(recursive_merge(candidateDF))\n",
    "    }\n",
    "}"
   ]
  },
  {
   "cell_type": "markdown",
   "id": "3ea0b6dc-ff6e-4f36-ad3d-13f71368e8f6",
   "metadata": {},
   "source": [
    "#### Merge TADs With Neighboring TABs\n",
    "Includes a step to manually correct the start and end position of each chromosome."
   ]
  },
  {
   "cell_type": "code",
   "execution_count": 28,
   "id": "c1db02ba-df50-4ceb-a4f9-56ee44271bc8",
   "metadata": {},
   "outputs": [],
   "source": [
    "general_tad_path = \"../../reference_data/TAD/brain_TADs.txt\"\n",
    "general_TAD_DF <- read_tsv(general_tad_path, col_names=c('chr', 'start', 'end'), show_col_types = FALSE)\n",
    "general_TAD_DF <- general_TAD_DF[with(general_TAD_DF, order(chr, start, -end)),]\n",
    "general_TAD_DF$TAD_index <- paste0('TAD_', seq(1,nrow(general_TAD_DF)))"
   ]
  },
  {
   "cell_type": "markdown",
   "id": "575052aa-59d9-4667-a302-afd93d7882ce",
   "metadata": {},
   "source": [
    "#### Preliminary Merges\n",
    "Remove duplicates (same chr, start, and end)."
   ]
  },
  {
   "cell_type": "code",
   "execution_count": 29,
   "id": "86b8f6b8-edfb-4f70-b5a6-4bf3fa276fb2",
   "metadata": {},
   "outputs": [
    {
     "data": {
      "text/html": [
       "<table class=\"dataframe\">\n",
       "<caption>A tibble: 6 × 4</caption>\n",
       "<thead>\n",
       "\t<tr><th scope=col>chr</th><th scope=col>start</th><th scope=col>end</th><th scope=col>TAD_index</th></tr>\n",
       "\t<tr><th scope=col>&lt;chr&gt;</th><th scope=col>&lt;dbl&gt;</th><th scope=col>&lt;dbl&gt;</th><th scope=col>&lt;chr&gt;</th></tr>\n",
       "</thead>\n",
       "<tbody>\n",
       "\t<tr><td>chr1</td><td> 760000</td><td>6160000</td><td>TAD_1</td></tr>\n",
       "\t<tr><td>chr1</td><td> 800000</td><td>6120000</td><td>TAD_2</td></tr>\n",
       "\t<tr><td>chr1</td><td>6480000</td><td>7640000</td><td>TAD_3</td></tr>\n",
       "\t<tr><td>chr1</td><td>6480000</td><td>7600000</td><td>TAD_4</td></tr>\n",
       "\t<tr><td>chr1</td><td>7920000</td><td>9480000</td><td>TAD_5</td></tr>\n",
       "\t<tr><td>chr1</td><td>7960000</td><td>9520000</td><td>TAD_6</td></tr>\n",
       "</tbody>\n",
       "</table>\n"
      ],
      "text/latex": [
       "A tibble: 6 × 4\n",
       "\\begin{tabular}{llll}\n",
       " chr & start & end & TAD\\_index\\\\\n",
       " <chr> & <dbl> & <dbl> & <chr>\\\\\n",
       "\\hline\n",
       "\t chr1 &  760000 & 6160000 & TAD\\_1\\\\\n",
       "\t chr1 &  800000 & 6120000 & TAD\\_2\\\\\n",
       "\t chr1 & 6480000 & 7640000 & TAD\\_3\\\\\n",
       "\t chr1 & 6480000 & 7600000 & TAD\\_4\\\\\n",
       "\t chr1 & 7920000 & 9480000 & TAD\\_5\\\\\n",
       "\t chr1 & 7960000 & 9520000 & TAD\\_6\\\\\n",
       "\\end{tabular}\n"
      ],
      "text/markdown": [
       "\n",
       "A tibble: 6 × 4\n",
       "\n",
       "| chr &lt;chr&gt; | start &lt;dbl&gt; | end &lt;dbl&gt; | TAD_index &lt;chr&gt; |\n",
       "|---|---|---|---|\n",
       "| chr1 |  760000 | 6160000 | TAD_1 |\n",
       "| chr1 |  800000 | 6120000 | TAD_2 |\n",
       "| chr1 | 6480000 | 7640000 | TAD_3 |\n",
       "| chr1 | 6480000 | 7600000 | TAD_4 |\n",
       "| chr1 | 7920000 | 9480000 | TAD_5 |\n",
       "| chr1 | 7960000 | 9520000 | TAD_6 |\n",
       "\n"
      ],
      "text/plain": [
       "  chr  start   end     TAD_index\n",
       "1 chr1  760000 6160000 TAD_1    \n",
       "2 chr1  800000 6120000 TAD_2    \n",
       "3 chr1 6480000 7640000 TAD_3    \n",
       "4 chr1 6480000 7600000 TAD_4    \n",
       "5 chr1 7920000 9480000 TAD_5    \n",
       "6 chr1 7960000 9520000 TAD_6    "
      ]
     },
     "metadata": {},
     "output_type": "display_data"
    },
    {
     "data": {
      "text/html": [
       "'Initial number of TADs before removing redundancy: 2973'"
      ],
      "text/latex": [
       "'Initial number of TADs before removing redundancy: 2973'"
      ],
      "text/markdown": [
       "'Initial number of TADs before removing redundancy: 2973'"
      ],
      "text/plain": [
       "[1] \"Initial number of TADs before removing redundancy: 2973\""
      ]
     },
     "metadata": {},
     "output_type": "display_data"
    },
    {
     "data": {
      "text/html": [
       "'Number of TADs left after removing duplicate TADs: 2652'"
      ],
      "text/latex": [
       "'Number of TADs left after removing duplicate TADs: 2652'"
      ],
      "text/markdown": [
       "'Number of TADs left after removing duplicate TADs: 2652'"
      ],
      "text/plain": [
       "[1] \"Number of TADs left after removing duplicate TADs: 2652\""
      ]
     },
     "metadata": {},
     "output_type": "display_data"
    },
    {
     "data": {
      "text/html": [
       "2652"
      ],
      "text/latex": [
       "2652"
      ],
      "text/markdown": [
       "2652"
      ],
      "text/plain": [
       "[1] 2652"
      ]
     },
     "metadata": {},
     "output_type": "display_data"
    },
    {
     "data": {
      "text/html": [
       "<table class=\"dataframe\">\n",
       "<caption>A tibble: 6 × 4</caption>\n",
       "<thead>\n",
       "\t<tr><th scope=col>chr</th><th scope=col>start</th><th scope=col>end</th><th scope=col>TAD_index</th></tr>\n",
       "\t<tr><th scope=col>&lt;chr&gt;</th><th scope=col>&lt;dbl&gt;</th><th scope=col>&lt;dbl&gt;</th><th scope=col>&lt;chr&gt;</th></tr>\n",
       "</thead>\n",
       "<tbody>\n",
       "\t<tr><td>chr1</td><td> 760000</td><td>6160000</td><td>TAD_1</td></tr>\n",
       "\t<tr><td>chr1</td><td> 800000</td><td>6120000</td><td>TAD_2</td></tr>\n",
       "\t<tr><td>chr1</td><td>6480000</td><td>7600000</td><td>TAD_3</td></tr>\n",
       "\t<tr><td>chr1</td><td>6480000</td><td>7640000</td><td>TAD_4</td></tr>\n",
       "\t<tr><td>chr1</td><td>7920000</td><td>9480000</td><td>TAD_5</td></tr>\n",
       "\t<tr><td>chr1</td><td>7960000</td><td>9520000</td><td>TAD_6</td></tr>\n",
       "</tbody>\n",
       "</table>\n"
      ],
      "text/latex": [
       "A tibble: 6 × 4\n",
       "\\begin{tabular}{llll}\n",
       " chr & start & end & TAD\\_index\\\\\n",
       " <chr> & <dbl> & <dbl> & <chr>\\\\\n",
       "\\hline\n",
       "\t chr1 &  760000 & 6160000 & TAD\\_1\\\\\n",
       "\t chr1 &  800000 & 6120000 & TAD\\_2\\\\\n",
       "\t chr1 & 6480000 & 7600000 & TAD\\_3\\\\\n",
       "\t chr1 & 6480000 & 7640000 & TAD\\_4\\\\\n",
       "\t chr1 & 7920000 & 9480000 & TAD\\_5\\\\\n",
       "\t chr1 & 7960000 & 9520000 & TAD\\_6\\\\\n",
       "\\end{tabular}\n"
      ],
      "text/markdown": [
       "\n",
       "A tibble: 6 × 4\n",
       "\n",
       "| chr &lt;chr&gt; | start &lt;dbl&gt; | end &lt;dbl&gt; | TAD_index &lt;chr&gt; |\n",
       "|---|---|---|---|\n",
       "| chr1 |  760000 | 6160000 | TAD_1 |\n",
       "| chr1 |  800000 | 6120000 | TAD_2 |\n",
       "| chr1 | 6480000 | 7600000 | TAD_3 |\n",
       "| chr1 | 6480000 | 7640000 | TAD_4 |\n",
       "| chr1 | 7920000 | 9480000 | TAD_5 |\n",
       "| chr1 | 7960000 | 9520000 | TAD_6 |\n",
       "\n"
      ],
      "text/plain": [
       "  chr  start   end     TAD_index\n",
       "1 chr1  760000 6160000 TAD_1    \n",
       "2 chr1  800000 6120000 TAD_2    \n",
       "3 chr1 6480000 7600000 TAD_3    \n",
       "4 chr1 6480000 7640000 TAD_4    \n",
       "5 chr1 7920000 9480000 TAD_5    \n",
       "6 chr1 7960000 9520000 TAD_6    "
      ]
     },
     "metadata": {},
     "output_type": "display_data"
    }
   ],
   "source": [
    "general_TAD_DF <- general_TAD_DF[with(general_TAD_DF, order(chr, start, -end)),]\n",
    "\n",
    "head(general_TAD_DF)\n",
    "\n",
    "# Initial Number of TADs\n",
    "paste(\"Initial number of TADs before removing redundancy:\", nrow(general_TAD_DF))\n",
    "\n",
    "# Remove duplicate TAD sites\n",
    "general_TAD_DF <- general_TAD_DF %>% distinct(chr, start, end, .keep_all=TRUE) %>% arrange(chr, start, end)\n",
    "paste(\"Number of TADs left after removing duplicate TADs:\", nrow(general_TAD_DF))\n",
    "\n",
    "reduced_TAD_DF <- general_TAD_DF\n",
    "reduced_TAD_DF$TAD_index <- paste0('TAD_', seq(1,nrow(reduced_TAD_DF)))\n",
    "\n",
    "nrow(reduced_TAD_DF)\n",
    "head(reduced_TAD_DF)"
   ]
  },
  {
   "cell_type": "markdown",
   "id": "3fac37a4-0b87-4c33-a005-9d56729bb29b",
   "metadata": {},
   "source": [
    "#### Determining Overlap\n",
    "Determining the overlap between TADs is important for the later merging steps. In this step, we find:\n",
    "\n",
    "* Overlap between a TAD and the preceding TAD\n",
    "* Overlap between a TAD and the following TAD\n",
    "* TADs that are entirely contained within another TAD\n",
    "##### Overlap Check\n",
    "There are two values for the following overlap checks. The first value is the overlap with the preceding TAD, and the second value is the overlap of the following TAD."
   ]
  },
  {
   "cell_type": "code",
   "execution_count": 30,
   "id": "ec34f04b-de45-463f-b425-4d2e05d9f982",
   "metadata": {},
   "outputs": [
    {
     "data": {
      "text/html": [
       "'Number of TADs with 100% overlap: 1030'"
      ],
      "text/latex": [
       "'Number of TADs with 100\\% overlap: 1030'"
      ],
      "text/markdown": [
       "'Number of TADs with 100% overlap: 1030'"
      ],
      "text/plain": [
       "[1] \"Number of TADs with 100% overlap: 1030\""
      ]
     },
     "metadata": {},
     "output_type": "display_data"
    },
    {
     "data": {
      "text/html": [
       "'Number of TADs with greater than 80% overlap: 1386 1379'"
      ],
      "text/latex": [
       "'Number of TADs with greater than 80\\% overlap: 1386 1379'"
      ],
      "text/markdown": [
       "'Number of TADs with greater than 80% overlap: 1386 1379'"
      ],
      "text/plain": [
       "[1] \"Number of TADs with greater than 80% overlap: 1386 1379\""
      ]
     },
     "metadata": {},
     "output_type": "display_data"
    },
    {
     "data": {
      "text/html": [
       "'Number of TADs with greater than 50% overlap: 1531 1546'"
      ],
      "text/latex": [
       "'Number of TADs with greater than 50\\% overlap: 1531 1546'"
      ],
      "text/markdown": [
       "'Number of TADs with greater than 50% overlap: 1531 1546'"
      ],
      "text/plain": [
       "[1] \"Number of TADs with greater than 50% overlap: 1531 1546\""
      ]
     },
     "metadata": {},
     "output_type": "display_data"
    },
    {
     "data": {
      "text/html": [
       "'Number of TADs with greater than 25% overlap: 1630 1634'"
      ],
      "text/latex": [
       "'Number of TADs with greater than 25\\% overlap: 1630 1634'"
      ],
      "text/markdown": [
       "'Number of TADs with greater than 25% overlap: 1630 1634'"
      ],
      "text/plain": [
       "[1] \"Number of TADs with greater than 25% overlap: 1630 1634\""
      ]
     },
     "metadata": {},
     "output_type": "display_data"
    },
    {
     "data": {
      "text/html": [
       "'Number of TADs with greater than 10% overlap: 1682 1686'"
      ],
      "text/latex": [
       "'Number of TADs with greater than 10\\% overlap: 1682 1686'"
      ],
      "text/markdown": [
       "'Number of TADs with greater than 10% overlap: 1682 1686'"
      ],
      "text/plain": [
       "[1] \"Number of TADs with greater than 10% overlap: 1682 1686\""
      ]
     },
     "metadata": {},
     "output_type": "display_data"
    }
   ],
   "source": [
    "# Compute overlap\n",
    "overlap_results <- apply(reduced_TAD_DF, 1, find_TAD_overlap, reduced_TAD_DF)\n",
    "reduced_TAD_DF$prior_overlap <- as.double(lapply(overlap_results, \"[[\", 'prior'))\n",
    "reduced_TAD_DF$prior_TAD_index <- as.character(lapply(overlap_results, \"[[\", 'prior_tad'))\n",
    "reduced_TAD_DF$next_overlap <- as.double(lapply(overlap_results, \"[[\", 'subsequent'))\n",
    "reduced_TAD_DF$next_TAD_index <- as.character(lapply(overlap_results, \"[[\", 'next_tad'))\n",
    "reduced_TAD_DF$complete_overlap <- as.logical(lapply(overlap_results, \"[[\", 'com'))\n",
    "\n",
    "paste(\"Number of TADs with 100% overlap:\", nrow(reduced_TAD_DF %>% filter(complete_overlap == TRUE)))\n",
    "paste(\"Number of TADs with greater than 80% overlap:\", nrow(reduced_TAD_DF %>% filter(prior_overlap > 80)), nrow(reduced_TAD_DF %>% filter(next_overlap > 80)))\n",
    "paste(\"Number of TADs with greater than 50% overlap:\", nrow(reduced_TAD_DF %>% filter(prior_overlap > 50)), nrow(reduced_TAD_DF %>% filter(next_overlap > 50)))\n",
    "paste(\"Number of TADs with greater than 25% overlap:\", nrow(reduced_TAD_DF %>% filter(prior_overlap > 25)), nrow(reduced_TAD_DF %>% filter(next_overlap > 25)))\n",
    "paste(\"Number of TADs with greater than 10% overlap:\", nrow(reduced_TAD_DF %>% filter(prior_overlap > 10)), nrow(reduced_TAD_DF %>% filter(next_overlap > 10)))"
   ]
  },
  {
   "cell_type": "markdown",
   "id": "9ff4ad63-1d54-44af-8289-6dd33d073453",
   "metadata": {},
   "source": [
    "#### Recursively Merge TADs\n",
    "##### Overview\n",
    "1. Extend the given TAD to the overlapped TAD position\n",
    "    * If a given TAD overlaps the prededing TAD, extend the start position\n",
    "    * If a given TAD overlaps the subsequent TAD, extend the end position\n",
    "    * If a given TAD overlaps both ends, extend both\n",
    "2. Remove TADs that are completely overlapped\n",
    "3. If the TAD is reduced, compute the overlap for the reduced dataframe and rerun the merging function until the dataframe dimensions stop changing"
   ]
  },
  {
   "cell_type": "code",
   "execution_count": 31,
   "id": "f68f3b24-7511-4b76-82b3-44d5178ae114",
   "metadata": {},
   "outputs": [
    {
     "data": {
      "text/html": [
       "'Number of TADs in the finalized TAD dataset: 1401'"
      ],
      "text/latex": [
       "'Number of TADs in the finalized TAD dataset: 1401'"
      ],
      "text/markdown": [
       "'Number of TADs in the finalized TAD dataset: 1401'"
      ],
      "text/plain": [
       "[1] \"Number of TADs in the finalized TAD dataset: 1401\""
      ]
     },
     "metadata": {},
     "output_type": "display_data"
    },
    {
     "name": "stdout",
     "output_type": "stream",
     "text": [
      "[1] \"Preview of the finalized TAD dataset:\"\n"
     ]
    },
    {
     "data": {
      "text/html": [
       "<table class=\"dataframe\">\n",
       "<caption>A tibble: 6 × 3</caption>\n",
       "<thead>\n",
       "\t<tr><th scope=col>chr</th><th scope=col>start</th><th scope=col>end</th></tr>\n",
       "\t<tr><th scope=col>&lt;chr&gt;</th><th scope=col>&lt;dbl&gt;</th><th scope=col>&lt;dbl&gt;</th></tr>\n",
       "</thead>\n",
       "<tbody>\n",
       "\t<tr><td>chr1</td><td>  760000</td><td> 6160000</td></tr>\n",
       "\t<tr><td>chr1</td><td> 6480000</td><td> 7640000</td></tr>\n",
       "\t<tr><td>chr1</td><td> 7920000</td><td> 9520000</td></tr>\n",
       "\t<tr><td>chr1</td><td> 9880000</td><td>10480000</td></tr>\n",
       "\t<tr><td>chr1</td><td>10520000</td><td>12040000</td></tr>\n",
       "\t<tr><td>chr1</td><td>12040000</td><td>12840000</td></tr>\n",
       "</tbody>\n",
       "</table>\n"
      ],
      "text/latex": [
       "A tibble: 6 × 3\n",
       "\\begin{tabular}{lll}\n",
       " chr & start & end\\\\\n",
       " <chr> & <dbl> & <dbl>\\\\\n",
       "\\hline\n",
       "\t chr1 &   760000 &  6160000\\\\\n",
       "\t chr1 &  6480000 &  7640000\\\\\n",
       "\t chr1 &  7920000 &  9520000\\\\\n",
       "\t chr1 &  9880000 & 10480000\\\\\n",
       "\t chr1 & 10520000 & 12040000\\\\\n",
       "\t chr1 & 12040000 & 12840000\\\\\n",
       "\\end{tabular}\n"
      ],
      "text/markdown": [
       "\n",
       "A tibble: 6 × 3\n",
       "\n",
       "| chr &lt;chr&gt; | start &lt;dbl&gt; | end &lt;dbl&gt; |\n",
       "|---|---|---|\n",
       "| chr1 |   760000 |  6160000 |\n",
       "| chr1 |  6480000 |  7640000 |\n",
       "| chr1 |  7920000 |  9520000 |\n",
       "| chr1 |  9880000 | 10480000 |\n",
       "| chr1 | 10520000 | 12040000 |\n",
       "| chr1 | 12040000 | 12840000 |\n",
       "\n"
      ],
      "text/plain": [
       "  chr  start    end     \n",
       "1 chr1   760000  6160000\n",
       "2 chr1  6480000  7640000\n",
       "3 chr1  7920000  9520000\n",
       "4 chr1  9880000 10480000\n",
       "5 chr1 10520000 12040000\n",
       "6 chr1 12040000 12840000"
      ]
     },
     "metadata": {},
     "output_type": "display_data"
    }
   ],
   "source": [
    "final_brain_TAD_DF <- recursive_merge(reduced_TAD_DF %>% filter(complete_overlap == FALSE))\n",
    "paste(\"Number of TADs in the finalized TAD dataset:\", nrow(final_brain_TAD_DF))\n",
    "print(\"Preview of the finalized TAD dataset:\")\n",
    "final_brain_TAD_DF %>% subset(select=c(\"chr\", \"start\", \"end\")) %>% head()"
   ]
  },
  {
   "cell_type": "code",
   "execution_count": 32,
   "id": "678701b0-33d9-4af5-928b-b15093752222",
   "metadata": {},
   "outputs": [],
   "source": [
    "overlap_results <- apply(final_brain_TAD_DF, 1, find_TAD_overlap, final_brain_TAD_DF)\n",
    "final_brain_TAD_DF$prior_overlap <- as.double(lapply(overlap_results, \"[[\", 'prior'))\n",
    "final_brain_TAD_DF$prior_TAD_index <- as.character(lapply(overlap_results, \"[[\", 'prior_tad'))\n",
    "final_brain_TAD_DF$next_overlap <- as.double(lapply(overlap_results, \"[[\", 'subsequent'))\n",
    "final_brain_TAD_DF$next_TAD_index <- as.character(lapply(overlap_results, \"[[\", 'next_tad'))\n",
    "final_brain_TAD_DF$complete_overlap <- as.logical(lapply(overlap_results, \"[[\", 'com'))"
   ]
  },
  {
   "cell_type": "code",
   "execution_count": 33,
   "id": "f9d4fc8a-5f6f-4ed5-a7b2-1fd4c5862ac9",
   "metadata": {},
   "outputs": [
    {
     "data": {
      "text/html": [
       "'Number of TADs with 100% overlap: 0'"
      ],
      "text/latex": [
       "'Number of TADs with 100\\% overlap: 0'"
      ],
      "text/markdown": [
       "'Number of TADs with 100% overlap: 0'"
      ],
      "text/plain": [
       "[1] \"Number of TADs with 100% overlap: 0\""
      ]
     },
     "metadata": {},
     "output_type": "display_data"
    },
    {
     "data": {
      "text/html": [
       "'Number of TADs with greater than 80% overlap: 0 0'"
      ],
      "text/latex": [
       "'Number of TADs with greater than 80\\% overlap: 0 0'"
      ],
      "text/markdown": [
       "'Number of TADs with greater than 80% overlap: 0 0'"
      ],
      "text/plain": [
       "[1] \"Number of TADs with greater than 80% overlap: 0 0\""
      ]
     },
     "metadata": {},
     "output_type": "display_data"
    },
    {
     "data": {
      "text/html": [
       "'Number of TADs with greater than 50% overlap: 14 19'"
      ],
      "text/latex": [
       "'Number of TADs with greater than 50\\% overlap: 14 19'"
      ],
      "text/markdown": [
       "'Number of TADs with greater than 50% overlap: 14 19'"
      ],
      "text/plain": [
       "[1] \"Number of TADs with greater than 50% overlap: 14 19\""
      ]
     },
     "metadata": {},
     "output_type": "display_data"
    },
    {
     "data": {
      "text/html": [
       "'Number of TADs with greater than 25% overlap: 26 31'"
      ],
      "text/latex": [
       "'Number of TADs with greater than 25\\% overlap: 26 31'"
      ],
      "text/markdown": [
       "'Number of TADs with greater than 25% overlap: 26 31'"
      ],
      "text/plain": [
       "[1] \"Number of TADs with greater than 25% overlap: 26 31\""
      ]
     },
     "metadata": {},
     "output_type": "display_data"
    },
    {
     "data": {
      "text/html": [
       "'Number of TADs with greater than 10% overlap: 39 39'"
      ],
      "text/latex": [
       "'Number of TADs with greater than 10\\% overlap: 39 39'"
      ],
      "text/markdown": [
       "'Number of TADs with greater than 10% overlap: 39 39'"
      ],
      "text/plain": [
       "[1] \"Number of TADs with greater than 10% overlap: 39 39\""
      ]
     },
     "metadata": {},
     "output_type": "display_data"
    }
   ],
   "source": [
    "paste(\"Number of TADs with 100% overlap:\", nrow(final_brain_TAD_DF %>% filter(complete_overlap == TRUE)))\n",
    "paste(\"Number of TADs with greater than 80% overlap:\", nrow(final_brain_TAD_DF %>% filter(prior_overlap > 80)), nrow(final_brain_TAD_DF %>% filter(next_overlap > 80)))\n",
    "paste(\"Number of TADs with greater than 50% overlap:\", nrow(final_brain_TAD_DF %>% filter(prior_overlap > 50)), nrow(final_brain_TAD_DF %>% filter(next_overlap > 50)))\n",
    "paste(\"Number of TADs with greater than 25% overlap:\", nrow(final_brain_TAD_DF %>% filter(prior_overlap > 25)), nrow(final_brain_TAD_DF %>% filter(next_overlap > 25)))\n",
    "paste(\"Number of TADs with greater than 10% overlap:\", nrow(final_brain_TAD_DF %>% filter(prior_overlap > 10)), nrow(final_brain_TAD_DF %>% filter(next_overlap > 10)))\n"
   ]
  },
  {
   "cell_type": "code",
   "execution_count": 34,
   "id": "62adb02a-5074-4d55-8ad4-2d05ee0e991e",
   "metadata": {},
   "outputs": [
    {
     "data": {
      "text/html": [
       "<style>\n",
       ".dl-inline {width: auto; margin:0; padding: 0}\n",
       ".dl-inline>dt, .dl-inline>dd {float: none; width: auto; display: inline-block}\n",
       ".dl-inline>dt::after {content: \":\\0020\"; padding-right: .5ex}\n",
       ".dl-inline>dt:not(:first-of-type) {padding-left: .5ex}\n",
       "</style><dl class=dl-inline><dt>19%</dt><dd>917200</dd><dt>25%</dt><dd>1040000</dd><dt>50%</dt><dd>1680000</dd><dt>75%</dt><dd>2520000</dd><dt>95%</dt><dd>3880000</dd><dt>99%</dt><dd>5200000</dd><dt>99.5%</dt><dd>5551800.00000001</dd><dt>100%</dt><dd>6080000</dd></dl>\n"
      ],
      "text/latex": [
       "\\begin{description*}\n",
       "\\item[19\\textbackslash{}\\%] 917200\n",
       "\\item[25\\textbackslash{}\\%] 1040000\n",
       "\\item[50\\textbackslash{}\\%] 1680000\n",
       "\\item[75\\textbackslash{}\\%] 2520000\n",
       "\\item[95\\textbackslash{}\\%] 3880000\n",
       "\\item[99\\textbackslash{}\\%] 5200000\n",
       "\\item[99.5\\textbackslash{}\\%] 5551800.00000001\n",
       "\\item[100\\textbackslash{}\\%] 6080000\n",
       "\\end{description*}\n"
      ],
      "text/markdown": [
       "19%\n",
       ":   91720025%\n",
       ":   104000050%\n",
       ":   168000075%\n",
       ":   252000095%\n",
       ":   388000099%\n",
       ":   520000099.5%\n",
       ":   5551800.00000001100%\n",
       ":   6080000\n",
       "\n"
      ],
      "text/plain": [
       "    19%     25%     50%     75%     95%     99%   99.5%    100% \n",
       " 917200 1040000 1680000 2520000 3880000 5200000 5551800 6080000 "
      ]
     },
     "metadata": {},
     "output_type": "display_data"
    }
   ],
   "source": [
    "formatted_final_DF <- final_brain_TAD_DF %>% filter(chr %in% paste0('chr', seq(1,22)) & complete_overlap == FALSE) %>% subset(select=c(\"chr\", \"start\", \"end\")) \n",
    "formatted_final_DF$TAD_index <- paste0('TAD', seq(1,nrow(formatted_final_DF)))\n",
    "formatted_final_DF$end <- as.numeric(formatted_final_DF$end)\n",
    "formatted_final_DF$start <- as.numeric(formatted_final_DF$start)\n",
    "\n",
    "formatted_final_DF <- formatted_final_DF %>% mutate(\n",
    "    TAD_Length = end - start)\n",
    "\n",
    "quantile(formatted_final_DF$TAD_Length, c(0.19,0.25,0.5,0.75,0.95,0.99,0.995,1))"
   ]
  },
  {
   "cell_type": "code",
   "execution_count": 35,
   "id": "02f79204-a53b-489e-9951-b977d5fd5b8d",
   "metadata": {},
   "outputs": [],
   "source": [
    "formatted_final_DF <- final_brain_TAD_DF %>% subset(select=c(\"chr\", \"start\", \"end\"))\n",
    "formatted_final_DF$start <- format(formatted_final_DF$start, scientific = FALSE)\n",
    "formatted_final_DF$end <- format(formatted_final_DF$end, scientific = FALSE)\n",
    "write.table(\n",
    "    formatted_final_DF,\n",
    "    \"../../reference_data/TAD/generalized_TAD.tsv\",\n",
    "    sep=\"\\t\",\n",
    "    append=FALSE,\n",
    "    row.names=FALSE,\n",
    "    col.names=FALSE,\n",
    "    quote=FALSE)"
   ]
  },
  {
   "cell_type": "markdown",
   "id": "f149b097-05d1-4cdb-931e-a2c667389f62",
   "metadata": {},
   "source": [
    "## ii. Generate TADB-enhanced cis windows and extended TADBs"
   ]
  },
  {
   "cell_type": "markdown",
   "id": "6a7976cf-1125-4ff1-bc01-5945c66607ea",
   "metadata": {},
   "source": [
    "Timing: ~20 min"
   ]
  },
  {
   "cell_type": "markdown",
   "id": "2d5bf8e3-2542-4444-ad6b-e2a7b07f5d81",
   "metadata": {
    "kernel": "SoS"
   },
   "source": [
    "#### How to find boundaries and build TADB?"
   ]
  },
  {
   "cell_type": "markdown",
   "id": "ac2526fd-f12e-455a-ae39-5451c39f630a",
   "metadata": {
    "kernel": "SoS",
    "tags": []
   },
   "source": [
    "After we had the generalized TAD, it's not the simple case that all intervals between TADs are the boundaries.\n",
    "The ideal (and most of) generalized TADs have a structure like this:"
   ]
  },
  {
   "cell_type": "markdown",
   "id": "1fca61ce-86da-4d4e-a28a-7035e298f4b4",
   "metadata": {
    "kernel": "SoS",
    "tags": []
   },
   "source": [
    "<img src=\"TADB_idealcase.png\" width=800 height=800 />"
   ]
  },
  {
   "cell_type": "markdown",
   "id": "520563a8-2e3d-463d-a755-02a75ded585e",
   "metadata": {
    "kernel": "SoS",
    "tags": []
   },
   "source": [
    "The black line is the genome. Red and blue shaded triangles are TAD results from hippo/cortex, respectively.\n",
    "In the later code we will denote them as **specific TAD** because they are specific to one tissue.\n",
    "\n",
    "The two specific TAD lists (blue and red) don't have overlaps internally. But if we pool them together, red and blue overlap. If their overlap exceeds **80%**, they will be merged to a larger TAD, called **Generalized TAD** (Green triangle). That's how we get the generalized TAD list."
   ]
  },
  {
   "cell_type": "markdown",
   "id": "fddedb6a-49b7-411c-9da1-996fb3b2c6b2",
   "metadata": {
    "kernel": "SoS"
   },
   "source": [
    "However, it's not necessary that specific TAD line up in this way, so there are more cases. For example, if two specific TAD **do not overlap enough**, or one specific TAD does not even overlap with any other TADs, then they will both one generalized TAD **solely**. The diagram is shown as below.\n",
    "\n",
    "<img src=\"sole_case.png\" width=800 height=800 />\n"
   ]
  },
  {
   "cell_type": "markdown",
   "id": "16e67a91-2b1e-4b5c-a2a7-c82dc950646a",
   "metadata": {
    "kernel": "SoS"
   },
   "source": [
    "We can see from the ideal case, at the boundary of generalized TAD, there are regions not covered by all two specific TADs, which means not all information belongs to a TAD, so it can belong to TAB (boundary regions).\n",
    "That's how we define a **Generalized TAB**, not only the intervals, but also include the ambigous regions. They are shown as the **yellow** triangles in the diagram.\n",
    "\n",
    "\n",
    "![](TADB_diagram.png)\n",
    "\n",
    "Then to get TADBs, we will include the generalized TAD and adjacent TABs. In the diagram for generalized TAD2, the TADB will be (generalized) TAB1 + TAD2 + TAB2."
   ]
  },
  {
   "cell_type": "markdown",
   "id": "40c6c1e9-e787-4729-b99c-d75a870d7d03",
   "metadata": {
    "kernel": "SoS",
    "tags": []
   },
   "source": [
    "Solely formed generalized TAD have no ambiguous regions, so their boundaries will also be boundaries of generalized TAB.\n",
    "Here we give a example. \n",
    "\n",
    "We search for the last TADs right boundary and extend there, then search for the next TADs left boundary and extend there.\n",
    "Note: if two generalized TAD overlap, we will serach for the boundary of non-overlapping one.\n",
    "\n",
    "It's not hard to find that under this definition, TAD2 and TAD3 share the same TADB.\n",
    "    \n",
    "![](TADB_solely.png)"
   ]
  },
  {
   "cell_type": "markdown",
   "id": "7ed60491-e876-4c8a-be3c-22a3d6d8688b",
   "metadata": {
    "kernel": "SoS"
   },
   "source": [
    "So now our strategy is to work out a list of left boundaries and right boundaries. For a generalized TAD formed by two or more specific TADs, the left boundary will be the start of the second specific TAD forming this generalized TAD.\n",
    "For a generalized TAD formed solely by one, then the left boundary is just the start of this generlized TAD.\n",
    "\n",
    "It's similar for the right boundaries, the only difference we use the last but one specific TADs end as the right boundary. Here are the diagrams.\n",
    "\n",
    "Left boundary will be labled as red vertical lines, right will be labeld as blue verticle lines. The definition also fits for more complicated cases."
   ]
  },
  {
   "cell_type": "markdown",
   "id": "8d9526c4-c868-4233-af85-0e88a2017724",
   "metadata": {
    "kernel": "SoS",
    "tags": []
   },
   "source": [
    "\n",
    "![](left_right.png)"
   ]
  },
  {
   "cell_type": "markdown",
   "id": "48e1429b-0326-4c0e-9617-1954fc01f954",
   "metadata": {
    "kernel": "SoS"
   },
   "source": [
    "After having these boundaries our strategy to get TADB will be to search from start of generalized TAD, extend left side to last right boundary (including the start of chromosome, 0). Search from end of generalized TAD, extend right side to the next left boundary (including the end of each chromosomes)."
   ]
  },
  {
   "cell_type": "markdown",
   "id": "7a778bfa-3187-4086-8a89-56abe69a58d8",
   "metadata": {
    "kernel": "SoS"
   },
   "source": [
    "#### TADB - coding"
   ]
  },
  {
   "cell_type": "markdown",
   "id": "2ad5e852-e868-4335-9427-29f422ffe7ce",
   "metadata": {
    "kernel": "SoS"
   },
   "source": [
    "Total number of generalized TADs: 1401."
   ]
  },
  {
   "cell_type": "markdown",
   "id": "5a5a57f0-5527-4e79-a7f5-f920df363b77",
   "metadata": {
    "kernel": "SoS"
   },
   "source": [
    "Then we checked how many specific TAD forms each generalized TAD. That's because as shown above, those generalized TAD formed by one vs more specific TADs, will have different \"boundaries\"."
   ]
  },
  {
   "cell_type": "markdown",
   "id": "ed14c211-f304-43f3-9b6b-85195d78523e",
   "metadata": {
    "kernel": "SoS",
    "tags": []
   },
   "source": [
    "Here we begin with a gtf to get the start and end of a gene."
   ]
  },
  {
   "cell_type": "code",
   "execution_count": 2,
   "id": "987af421-d5ca-4afc-a6f7-c977a2d1d720",
   "metadata": {
    "kernel": "Python3",
    "tags": []
   },
   "outputs": [],
   "source": [
    "import pandas as pd\n",
    "import numpy as np\n",
    "from collections import defaultdict\n",
    "import subprocess\n",
    "import gzip\n",
    "\n",
    "def gtf_to_start_end_bed(annotation_gtf, feature='gene', exclude_chrs=[], phenotype_id='gene_id'):\n",
    "    \"\"\"Parse genes and starts and ends from GTF and return DataFrame for BED output\"\"\"\n",
    "    chrom = []\n",
    "    start = []\n",
    "    end = []\n",
    "    gene_id = []\n",
    "    gene_name = []\n",
    "\n",
    "    if annotation_gtf.endswith('.gz'):\n",
    "        opener = gzip.open(annotation_gtf, 'rt')\n",
    "    else:\n",
    "        opener = open(annotation_gtf, 'r')\n",
    "\n",
    "    with opener as gtf:\n",
    "        for row in gtf:\n",
    "            row = row.strip().split('\\t')\n",
    "            if row[0][0] == '#' or row[2] != feature: continue # skip header\n",
    "            chrom.append(row[0])\n",
    "\n",
    "            # extract start and end\n",
    "            if row[6] == '+':\n",
    "                start.append(np.int64(row[3]) -1)\n",
    "                end.append(np.int64(row[4]))\n",
    "            elif row[6] == '-':\n",
    "                start.append(np.int64(row[3]))  # last base of gene\n",
    "                end.append(np.int64(row[4]))\n",
    "            else:\n",
    "                raise ValueError('Strand not specified.')\n",
    "\n",
    "            attributes = defaultdict()\n",
    "            for a in row[8].replace('\"', '').split(';')[:-1]:\n",
    "                kv = a.strip().split(' ')\n",
    "                if kv[0]!='tag':\n",
    "                    attributes[kv[0]] = kv[1]\n",
    "                else:\n",
    "                    attributes.setdefault('tags', []).append(kv[1])\n",
    "\n",
    "            gene_id.append(attributes['gene_id'])\n",
    "            gene_name.append(attributes['gene_name'])\n",
    "\n",
    "    if phenotype_id == 'gene_id':\n",
    "        bed_df = pd.DataFrame(data={'chr':chrom, 'start':start, 'end':end, 'gene_id':gene_id}, columns=['chr', 'start', 'end', 'gene_id'], index=gene_id)\n",
    "    elif phenotype_id == 'gene_name':\n",
    "        bed_df = pd.DataFrame(data={'chr':chrom, 'start':start, 'end':end, 'gene_id':gene_name}, columns=['chr', 'start', 'end', 'gene_id'], index=gene_name)\n",
    "    # drop rows corresponding to excluded chromosomes\n",
    "    mask = np.ones(len(chrom), dtype=bool)\n",
    "    for k in exclude_chrs:\n",
    "        mask = mask & (bed_df['chr']!=k)\n",
    "    bed_df = bed_df[mask]\n",
    "\n",
    "    # sort by start position\n",
    "    bed_df = bed_df.groupby('chr', sort=False, group_keys=False).apply(lambda x: x.sort_values('start'))\n",
    "\n",
    "    return bed_df\n",
    "#../../reference_data/TAD/generalized_TAD.ts\n",
    "# save the bed files recording start and end of a chromosome\n",
    "bed_template_df_id = gtf_to_start_end_bed(\"../../reference_data/Homo_sapiens.GRCh38.103.chr.reformatted.collapse_only.gene.ERCC.gtf\", feature='gene',phenotype_id = \"gene_id\" )\n",
    "bed_template_df_name = gtf_to_start_end_bed(\"../../reference_data/Homo_sapiens.GRCh38.103.chr.reformatted.collapse_only.gene.ERCC.gtf\", feature='gene',phenotype_id = \"gene_name\")\n",
    "bed_template_df = bed_template_df_id.merge(bed_template_df_name, on = [\"chr\",\"start\",\"end\"])\n",
    "bed_template_df.columns = [\"#chr\",\"start\",\"end\",\"gene_id\",\"gene_name\"]\n",
    "bed_template_df.to_csv(\"../../reference_data/TAD/gene_start_end.tsv\", sep=\"\\t\")"
   ]
  },
  {
   "cell_type": "code",
   "execution_count": 36,
   "id": "8a16de2c-91b7-409f-a3f0-0b223f4d6562",
   "metadata": {
    "kernel": "R",
    "tags": []
   },
   "outputs": [
    {
     "name": "stderr",
     "output_type": "stream",
     "text": [
      "\u001b[1mRows: \u001b[22m\u001b[34m1401\u001b[39m \u001b[1mColumns: \u001b[22m\u001b[34m3\u001b[39m\n",
      "\u001b[36m──\u001b[39m \u001b[1mColumn specification\u001b[22m \u001b[36m────────────────────────────────────────────────────────\u001b[39m\n",
      "\u001b[1mDelimiter:\u001b[22m \"\\t\"\n",
      "\u001b[31mchr\u001b[39m (1): chr\n",
      "\u001b[32mdbl\u001b[39m (2): start, end\n",
      "\n",
      "\u001b[36mℹ\u001b[39m Use `spec()` to retrieve the full column specification for this data.\n",
      "\u001b[36mℹ\u001b[39m Specify the column types or set `show_col_types = FALSE` to quiet this message.\n",
      "\u001b[1mRows: \u001b[22m\u001b[34m2973\u001b[39m \u001b[1mColumns: \u001b[22m\u001b[34m3\u001b[39m\n",
      "\u001b[36m──\u001b[39m \u001b[1mColumn specification\u001b[22m \u001b[36m────────────────────────────────────────────────────────\u001b[39m\n",
      "\u001b[1mDelimiter:\u001b[22m \"\\t\"\n",
      "\u001b[31mchr\u001b[39m (1): chr\n",
      "\u001b[32mdbl\u001b[39m (2): start, end\n",
      "\n",
      "\u001b[36mℹ\u001b[39m Use `spec()` to retrieve the full column specification for this data.\n",
      "\u001b[36mℹ\u001b[39m Specify the column types or set `show_col_types = FALSE` to quiet this message.\n"
     ]
    },
    {
     "data": {
      "text/html": [
       "<table class=\"dataframe\">\n",
       "<caption>A grouped_df: 4 × 2</caption>\n",
       "<thead>\n",
       "\t<tr><th scope=col>within_num</th><th scope=col>n</th></tr>\n",
       "\t<tr><th scope=col>&lt;list&gt;</th><th scope=col>&lt;int&gt;</th></tr>\n",
       "</thead>\n",
       "<tbody>\n",
       "\t<tr><td>2</td><td>1163</td></tr>\n",
       "\t<tr><td>3</td><td> 188</td></tr>\n",
       "\t<tr><td>4</td><td>  11</td></tr>\n",
       "\t<tr><td>1</td><td>  39</td></tr>\n",
       "</tbody>\n",
       "</table>\n"
      ],
      "text/latex": [
       "A grouped\\_df: 4 × 2\n",
       "\\begin{tabular}{ll}\n",
       " within\\_num & n\\\\\n",
       " <list> & <int>\\\\\n",
       "\\hline\n",
       "\t 2 & 1163\\\\\n",
       "\t 3 &  188\\\\\n",
       "\t 4 &   11\\\\\n",
       "\t 1 &   39\\\\\n",
       "\\end{tabular}\n"
      ],
      "text/markdown": [
       "\n",
       "A grouped_df: 4 × 2\n",
       "\n",
       "| within_num &lt;list&gt; | n &lt;int&gt; |\n",
       "|---|---|\n",
       "| 2 | 1163 |\n",
       "| 3 |  188 |\n",
       "| 4 |   11 |\n",
       "| 1 |   39 |\n",
       "\n"
      ],
      "text/plain": [
       "  within_num n   \n",
       "1 2          1163\n",
       "2 3           188\n",
       "3 4            11\n",
       "4 1            39"
      ]
     },
     "metadata": {},
     "output_type": "display_data"
    }
   ],
   "source": [
    "# generalized TAD, already merged if have > 80% overlap\n",
    "library(\"tidyverse\")\n",
    "general <- read_tsv(\"../../reference_data/TAD/generalized_TAD.tsv\", col_names = c(\"chr\", \"start\", \"end\")) %>% mutate(row_index = row_number())\n",
    "\n",
    "# Specific TADs list -- belong to one of the tissue we interested in\n",
    "specific <- read_tsv(\"../../reference_data/TAD/brain_TADs.txt\", col_names = c(\"chr\", \"start\", \"end\")) %>% mutate(row_index = row_number())\n",
    "\n",
    "# for each generalized TAD, how many specific TADs they are formed from?\n",
    "\n",
    "check_TAD = function(chrm, start_pos, end_pos){\n",
    "    within_TAD = specific %>% filter(chr == chrm & start >= start_pos & end <= end_pos)\n",
    "    within_TAD_num = nrow(within_TAD)\n",
    "    return(within_TAD_num)\n",
    "}\n",
    "\n",
    "general_number = general %>% mutate(within_num = pmap(list(chrm = chr, \n",
    "            start_pos = start, end_pos = end), check_TAD))\n",
    "\n",
    "general_number %>% group_by(within_num) %>% count()"
   ]
  },
  {
   "cell_type": "markdown",
   "id": "d781df0c-19c5-42a3-a76d-e0f0e26ba630",
   "metadata": {
    "kernel": "SoS"
   },
   "source": [
    "Most of the generalized TADs are include 2 specific TADs.\n",
    "\n",
    "There are cases that one generalized TAD is forming from 4, but even for these cases, our strategy still works."
   ]
  },
  {
   "cell_type": "markdown",
   "id": "317a46bf-ad4c-44f8-bd5b-4eafddc897d4",
   "metadata": {
    "kernel": "SoS"
   },
   "source": [
    "##### Find left boundaries"
   ]
  },
  {
   "cell_type": "markdown",
   "id": "66a545d8-51b3-4486-a569-1cc47069c4c2",
   "metadata": {
    "kernel": "SoS"
   },
   "source": [
    "Left boundaries should include the **end** of the chromosome -- because left boundaries of TADs will be the right boundary of former TADB. For the last one TADB, is should have the end of chromosome as its right boundary."
   ]
  },
  {
   "cell_type": "code",
   "execution_count": 37,
   "id": "b46cb5b6-0c63-41b9-8f2d-8b10dee4df7f",
   "metadata": {
    "kernel": "SoS",
    "tags": []
   },
   "outputs": [],
   "source": [
    "# a list showing the end position of each chromosome, including chrX\n",
    "\n",
    "chromosomes <- paste0('chr', seq(1:22))\n",
    "chromosomes = c(chromosomes,\"chrX\")\n",
    "bplengths <- c(248956422, 242193529, 198295559, 190214555, 181538259, 170805979, 159345973, 145138636,\n",
    "                 138394717, 133797422, 135086622, \n",
    "               133275309, 114364328, 107043718, 101991189, 90338345, 83257441, \n",
    "               80373285, 58617616, 64444167, 46709983, 50818468, 156040895)\n",
    "\n",
    "chrDF <- data.frame(chr = chromosomes, left = bplengths)"
   ]
  },
  {
   "cell_type": "code",
   "execution_count": 38,
   "id": "65d6a5d0-188e-4aa4-87a7-241027b9243a",
   "metadata": {
    "kernel": "SoS",
    "tags": []
   },
   "outputs": [],
   "source": [
    "find_left_boundary = function(chrm, start_pos, end_pos){\n",
    "    within_TAD = specific %>% filter(chr == chrm & start >= start_pos & end <= end_pos)\n",
    "    within_TAD_num = nrow(within_TAD)\n",
    "    if(within_TAD_num == 1){\n",
    "        # if formed only by one, then the first start of specific TAD\n",
    "        left = within_TAD %>% pull(start) %>% as.integer()\n",
    "    }else{\n",
    "        # if formed by more than 2, then the second start of specific TAD\n",
    "        TAD_start_list = within_TAD %>% pull(start) %>% sort()\n",
    "        left = TAD_start_list[2] %>% as.integer()\n",
    "    }\n",
    "    return(left)\n",
    "}\n",
    "\n",
    "# find all left_boundaries\n",
    "\n",
    "left_table = general %>% mutate(left = pmap(list(chrm = chr, \n",
    "            start_pos = start, end_pos = end), find_left_boundary)) %>% \n",
    "            select(chr, left) %>% mutate(left = as.integer(left))\n",
    "\n",
    "# combine left boundaries with end of chromosome to form the final left boundary list\n",
    "\n",
    "left_table_final = rbind(left_table, chrDF)"
   ]
  },
  {
   "cell_type": "markdown",
   "id": "35a86d27-48f4-4a26-a781-ef9cee579089",
   "metadata": {
    "kernel": "SoS"
   },
   "source": [
    "##### Find right boundaries"
   ]
  },
  {
   "cell_type": "code",
   "execution_count": 39,
   "id": "b9d7cdf1-af99-47aa-acf1-b9e18517a3eb",
   "metadata": {
    "kernel": "SoS",
    "tags": []
   },
   "outputs": [],
   "source": [
    "find_right_boundary = function(chrm, start_pos, end_pos){\n",
    "    within_TAD = specific %>% filter(chr == chrm & start >= start_pos & end <= end_pos)\n",
    "    within_TAD_num = nrow(within_TAD)\n",
    "    if(within_TAD_num == 1){\n",
    "        right = within_TAD %>% pull(end) %>% as.integer()\n",
    "    }else{\n",
    "        TAD_end_list = within_TAD %>% pull(end) %>% sort(decreasing = T)\n",
    "        right = TAD_end_list[2] %>% as.integer()\n",
    "    }\n",
    "    return(right)\n",
    "}\n",
    "\n",
    "right_table = general %>% mutate(right = pmap(list(chrm = chr, \n",
    "            start_pos = start, end_pos = end), find_right_boundary)) %>% \n",
    "            select(chr, right) %>% mutate(right = as.integer(right))\n",
    "\n",
    "# Similarly, we should include start of the chromosome to be the first right boundaries\n",
    "\n",
    "chr_start = tibble(chr = chromosomes, \n",
    "                  right = 0)\n",
    "\n",
    "right_table_final = rbind(right_table, chr_start)"
   ]
  },
  {
   "cell_type": "markdown",
   "id": "4bd52ec2-16a9-419c-8664-3707ac786189",
   "metadata": {
    "kernel": "SoS"
   },
   "source": [
    "##### Map each TAD to the closest left_right boundary"
   ]
  },
  {
   "cell_type": "code",
   "execution_count": 40,
   "id": "ca7e876e-f730-4202-aed0-2424ce87724a",
   "metadata": {
    "kernel": "SoS",
    "tags": []
   },
   "outputs": [
    {
     "data": {
      "text/html": [
       "1401"
      ],
      "text/latex": [
       "1401"
      ],
      "text/markdown": [
       "1401"
      ],
      "text/plain": [
       "[1] 1401"
      ]
     },
     "metadata": {},
     "output_type": "display_data"
    }
   ],
   "source": [
    "# In the list of left boundary, find the closet next one \n",
    "\n",
    "find_next_boundary = function(chrm, end_pos){\n",
    "    left_boundaries = left_table_final %>% filter(chr == chrm, left >= end_pos) %>%\n",
    "        pull(left) %>% sort()\n",
    "    first_left = left_boundaries[1]\n",
    "    return(first_left)\n",
    "}\n",
    "\n",
    "# In the list of right boundary, find the closet previous one \n",
    "find_previous_boundary = function(chrm, start_pos){\n",
    "    right_boundaries = right_table_final %>% filter(chr == chrm, right <= start_pos) %>%\n",
    "        pull(right) %>% sort(decreasing = T)\n",
    "    first_right = right_boundaries[1]\n",
    "    return(first_right)\n",
    "}\n",
    "\n",
    "TADB = general %>% mutate(previous_bound = pmap(list(chr, start), find_previous_boundary),\n",
    "    next_bound = pmap(list(chr, end), find_next_boundary)) %>% \n",
    "    select(-start, -end) %>% rename(start = previous_bound) %>%\n",
    "    rename(end = next_bound) %>% mutate(start = as.integer(start), end = as.integer(end)) %>% \n",
    "    select(chr, start, end)\n",
    "\n",
    "nrow(TADB)"
   ]
  },
  {
   "cell_type": "markdown",
   "id": "56d1db9e-e8c7-4e94-837b-56c9730d012b",
   "metadata": {
    "kernel": "SoS",
    "tags": []
   },
   "source": [
    "After extending to TADB, the number of regions did not change, which should be that case.\n",
    "However, after merging, some of the TADBs will be totally covered by other TADBS. An example is shown here."
   ]
  },
  {
   "cell_type": "markdown",
   "id": "e43e88bb-7c18-4bdd-89bd-a54123b3fff6",
   "metadata": {
    "kernel": "SoS"
   },
   "source": [
    "Genralized TAD0 and 4 not drawn. But for generalized TAD1, TADB fromed by it will be totally a subset of TADB 2, which is the extension of generalized TAD2.\n",
    "(Blue: right boundary, red: left_boundary)"
   ]
  },
  {
   "cell_type": "markdown",
   "id": "e3b6e7c5-6cee-4869-ba97-c9355ea28ab5",
   "metadata": {
    "kernel": "SoS"
   },
   "source": [
    "\n",
    "![](overlap.png)"
   ]
  },
  {
   "cell_type": "markdown",
   "id": "4702c786-c454-4ab1-ab47-c6e46bcf6650",
   "metadata": {
    "kernel": "SoS"
   },
   "source": [
    "Here we will use two steps to exclude those TADBs that are fully covered by other single TADBs (including the case that two TADBs are identical)"
   ]
  },
  {
   "cell_type": "code",
   "execution_count": 41,
   "id": "54bc4384-dc37-452d-a720-fff0ffd88c99",
   "metadata": {
    "kernel": "SoS",
    "tags": []
   },
   "outputs": [
    {
     "data": {
      "text/html": [
       "1381"
      ],
      "text/latex": [
       "1381"
      ],
      "text/markdown": [
       "1381"
      ],
      "text/plain": [
       "[1] 1381"
      ]
     },
     "metadata": {},
     "output_type": "display_data"
    }
   ],
   "source": [
    "TADB = TADB %>% distinct()\n",
    "\n",
    "# if we don't use dintinct above, then the identical TADBS will all be removed\n",
    "# that's not we want, we still want to leave one copy there\n",
    "\n",
    "if_fully_cover = function(chrm, start_pos, end_pos){\n",
    "    potential = TADB %>% filter(chr == chrm, start <= start_pos, end >= end_pos)\n",
    "    if(nrow(potential) <= 1){\n",
    "        return(0)\n",
    "    }else{\n",
    "        return(1)\n",
    "    }\n",
    "}\n",
    "\n",
    "TADB_final = TADB %>% mutate(cover_status = pmap(list(chrm = chr, start_pos = start, end_pos = end), if_fully_cover)) %>% \n",
    "    filter(cover_status != 1) %>% mutate(index = paste0(\"TADB\", row_number())) %>% select(- cover_status) %>%\n",
    "    rename(`#chr` = chr)\n",
    "\n",
    "nrow(TADB_final)"
   ]
  },
  {
   "cell_type": "markdown",
   "id": "099a2671-fc74-4076-8d16-f0f67a974278",
   "metadata": {
    "kernel": "SoS"
   },
   "source": [
    "After removing subsets and duplicates, there will be 1381 TADBs."
   ]
  },
  {
   "cell_type": "code",
   "execution_count": 42,
   "id": "1e031e13-d31c-474a-bfc7-0fadbfaf12e3",
   "metadata": {
    "kernel": "SoS",
    "tags": []
   },
   "outputs": [],
   "source": [
    "# save the TADB final result\n",
    "write_tsv(TADB_final, \"../../reference_data/TAD/generalized_TADB.tsv\")"
   ]
  },
  {
   "cell_type": "markdown",
   "id": "045f1951-dca6-40f5-87ac-e387d52640e6",
   "metadata": {
    "kernel": "SoS"
   },
   "source": [
    "#### Length distribution of generalized TADs"
   ]
  },
  {
   "cell_type": "code",
   "execution_count": 43,
   "id": "252dc58f-b748-4636-8441-3eeed6817940",
   "metadata": {
    "kernel": "SoS",
    "tags": []
   },
   "outputs": [
    {
     "data": {
      "image/png": "[encoded data removed]",
      "text/plain": [
       "plot without title"
      ]
     },
     "metadata": {
      "image/png": {
       "height": 420,
       "width": 420
      }
     },
     "output_type": "display_data"
    }
   ],
   "source": [
    "## Length distribution of generalized TADs\n",
    "\n",
    "general %>% mutate(length = end - start) %>% ggplot(aes(y = length)) + geom_boxplot() +\n",
    "    geom_hline(yintercept = 2000000, color = \"red\")+ theme(axis.text = element_text(size = 20)) "
   ]
  },
  {
   "cell_type": "markdown",
   "id": "0c7644b7-740a-41ea-b1a2-fbaf58e50744",
   "metadata": {
    "kernel": "SoS"
   },
   "source": [
    "The average length is a little bit shorter than 2M."
   ]
  },
  {
   "cell_type": "markdown",
   "id": "f57b2ccd-1028-4eb9-9bbc-2672aec4adb7",
   "metadata": {
    "kernel": "SoS"
   },
   "source": [
    "#### Length distribution of general TADBs"
   ]
  },
  {
   "cell_type": "code",
   "execution_count": 44,
   "id": "85a93746-d976-4af8-9f50-4b763605e074",
   "metadata": {
    "kernel": "SoS",
    "tags": []
   },
   "outputs": [
    {
     "data": {
      "image/png": "[encoded data removed]",
      "text/plain": [
       "plot without title"
      ]
     },
     "metadata": {
      "image/png": {
       "height": 420,
       "width": 420
      }
     },
     "output_type": "display_data"
    }
   ],
   "source": [
    "## Length distribution of general TADBs\n",
    "\n",
    "TADB_final %>% mutate(length = end - start) %>% ggplot(aes(y = length)) + geom_boxplot() +\n",
    "    geom_hline(yintercept = 2000000, color = \"red\")+ theme(axis.text = element_text(size = 20))  "
   ]
  },
  {
   "cell_type": "markdown",
   "id": "f5a7344f-ba5f-41b1-a272-dd6ca1377ba9",
   "metadata": {
    "kernel": "SoS"
   },
   "source": [
    "The average length is a little bit longer than 2M. Yet, the extreme case number increases."
   ]
  },
  {
   "cell_type": "code",
   "execution_count": 45,
   "id": "f657f87a-be15-46fe-b29f-f2f0192f06bf",
   "metadata": {
    "kernel": "SoS",
    "tags": []
   },
   "outputs": [
    {
     "data": {
      "text/html": [
       "1920021.81441827"
      ],
      "text/latex": [
       "1920021.81441827"
      ],
      "text/markdown": [
       "1920021.81441827"
      ],
      "text/plain": [
       "[1] 1920022"
      ]
     },
     "metadata": {},
     "output_type": "display_data"
    },
    {
     "data": {
      "text/html": [
       "2512992.33671253"
      ],
      "text/latex": [
       "2512992.33671253"
      ],
      "text/markdown": [
       "2512992.33671253"
      ],
      "text/plain": [
       "[1] 2512992"
      ]
     },
     "metadata": {},
     "output_type": "display_data"
    }
   ],
   "source": [
    "# average length of generalized TAD\n",
    "\n",
    "general %>% mutate(length = end - start) %>% pull(length) %>% mean()\n",
    "\n",
    "# average length of TADB\n",
    "\n",
    "TADB_final %>% mutate(length = end - start) %>% pull(length) %>% mean()"
   ]
  },
  {
   "cell_type": "markdown",
   "id": "c25fc539-9457-4ae6-8c45-c06e08efb780",
   "metadata": {
    "kernel": "SoS",
    "tags": []
   },
   "source": [
    "TADB, as expected, is longer than TAD because it includes boundaries."
   ]
  },
  {
   "cell_type": "markdown",
   "id": "87418b9d-239c-4eb2-9f1d-402354c458a6",
   "metadata": {
    "kernel": "SoS"
   },
   "source": [
    "#### Compare TADB and cis windows"
   ]
  },
  {
   "cell_type": "markdown",
   "id": "0e44df09-7cca-40c4-a91f-d29ce6bee767",
   "metadata": {
    "kernel": "SoS"
   },
   "source": [
    "Each TADB covers many genes. For each gene we will extend a 1M window for finemapping. We now checking if the TADBs can cover all 1M windows for genes inside of them."
   ]
  },
  {
   "cell_type": "code",
   "execution_count": 47,
   "id": "ff44d49b-cb89-4da4-b842-5c45d7ade55c",
   "metadata": {
    "kernel": "SoS",
    "tags": []
   },
   "outputs": [
    {
     "name": "stderr",
     "output_type": "stream",
     "text": [
      "\u001b[1m\u001b[22mNew names:\n",
      "\u001b[36m•\u001b[39m `` -> `...1`\n",
      "\u001b[1mRows: \u001b[22m\u001b[34m60672\u001b[39m \u001b[1mColumns: \u001b[22m\u001b[34m6\u001b[39m\n",
      "\u001b[36m──\u001b[39m \u001b[1mColumn specification\u001b[22m \u001b[36m────────────────────────────────────────────────────────\u001b[39m\n",
      "\u001b[1mDelimiter:\u001b[22m \"\\t\"\n",
      "\u001b[31mchr\u001b[39m (3): #chr, gene_id, gene_name\n",
      "\u001b[32mdbl\u001b[39m (3): ...1, start, end\n",
      "\n",
      "\u001b[36mℹ\u001b[39m Use `spec()` to retrieve the full column specification for this data.\n",
      "\u001b[36mℹ\u001b[39m Specify the column types or set `show_col_types = FALSE` to quiet this message.\n"
     ]
    }
   ],
   "source": [
    "all_gene <- read_tsv(\"../../reference_data/TAD/gene_start_end.tsv\")"
   ]
  },
  {
   "cell_type": "code",
   "execution_count": 48,
   "id": "467927c4-4cc4-45aa-824d-13bc2e8634f6",
   "metadata": {
    "kernel": "SoS",
    "tags": []
   },
   "outputs": [],
   "source": [
    "all_gene = all_gene %>% select(-`...1`, -gene_name) %>% rename(chr = `#chr`, gene_start = start,\n",
    "                                                              gene_end = end)  %>% distinct()"
   ]
  },
  {
   "cell_type": "code",
   "execution_count": 49,
   "id": "1d6ab594-a795-4338-aafc-20d33cda885d",
   "metadata": {
    "kernel": "SoS",
    "tags": []
   },
   "outputs": [
    {
     "data": {
      "text/html": [
       "60668"
      ],
      "text/latex": [
       "60668"
      ],
      "text/markdown": [
       "60668"
      ],
      "text/plain": [
       "[1] 60668"
      ]
     },
     "metadata": {},
     "output_type": "display_data"
    }
   ],
   "source": [
    "nrow(all_gene)"
   ]
  },
  {
   "cell_type": "markdown",
   "id": "76496629-9154-4d8e-9f19-1348841af7df",
   "metadata": {
    "kernel": "SoS"
   },
   "source": [
    "First step, we try to verify if all genes are covered by TADB, if not, TADB may be wrong (since they should cover the whole genome)"
   ]
  },
  {
   "cell_type": "code",
   "execution_count": 50,
   "id": "e3c7eb47-e4f3-4aa3-941d-d6cb0205628e",
   "metadata": {
    "kernel": "SoS",
    "tags": []
   },
   "outputs": [
    {
     "data": {
      "text/html": [
       "<style>\n",
       ".list-inline {list-style: none; margin:0; padding: 0}\n",
       ".list-inline>li {display: inline-block}\n",
       ".list-inline>li:not(:last-child)::after {content: \"\\00b7\"; padding: 0 .5ex}\n",
       "</style>\n",
       "<ol class=list-inline><li>'chrY'</li><li>'chrMT'</li><li>'ERCC_00002'</li><li>'ERCC_00003'</li><li>'ERCC_00004'</li><li>'ERCC_00009'</li><li>'ERCC_00012'</li><li>'ERCC_00013'</li><li>'ERCC_00014'</li><li>'ERCC_00016'</li><li>'ERCC_00017'</li><li>'ERCC_00019'</li><li>'ERCC_00022'</li><li>'ERCC_00024'</li><li>'ERCC_00025'</li><li>'ERCC_00028'</li><li>'ERCC_00031'</li><li>'ERCC_00033'</li><li>'ERCC_00034'</li><li>'ERCC_00035'</li><li>'ERCC_00039'</li><li>'ERCC_00040'</li><li>'ERCC_00041'</li><li>'ERCC_00042'</li><li>'ERCC_00043'</li><li>'ERCC_00044'</li><li>'ERCC_00046'</li><li>'ERCC_00048'</li><li>'ERCC_00051'</li><li>'ERCC_00053'</li><li>'ERCC_00054'</li><li>'ERCC_00057'</li><li>'ERCC_00058'</li><li>'ERCC_00059'</li><li>'ERCC_00060'</li><li>'ERCC_00061'</li><li>'ERCC_00062'</li><li>'ERCC_00067'</li><li>'ERCC_00069'</li><li>'ERCC_00071'</li><li>'ERCC_00073'</li><li>'ERCC_00074'</li><li>'ERCC_00075'</li><li>'ERCC_00076'</li><li>'ERCC_00077'</li><li>'ERCC_00078'</li><li>'ERCC_00079'</li><li>'ERCC_00081'</li><li>'ERCC_00083'</li><li>'ERCC_00084'</li><li>'ERCC_00085'</li><li>'ERCC_00086'</li><li>'ERCC_00092'</li><li>'ERCC_00095'</li><li>'ERCC_00096'</li><li>'ERCC_00097'</li><li>'ERCC_00098'</li><li>'ERCC_00099'</li><li>'ERCC_00104'</li><li>'ERCC_00108'</li><li>'ERCC_00109'</li><li>'ERCC_00111'</li><li>'ERCC_00112'</li><li>'ERCC_00113'</li><li>'ERCC_00116'</li><li>'ERCC_00117'</li><li>'ERCC_00120'</li><li>'ERCC_00123'</li><li>'ERCC_00126'</li><li>'ERCC_00130'</li><li>'ERCC_00131'</li><li>'ERCC_00134'</li><li>'ERCC_00136'</li><li>'ERCC_00137'</li><li>'ERCC_00138'</li><li>'ERCC_00142'</li><li>'ERCC_00143'</li><li>'ERCC_00144'</li><li>'ERCC_00145'</li><li>'ERCC_00147'</li><li>'ERCC_00148'</li><li>'ERCC_00150'</li><li>'ERCC_00154'</li><li>'ERCC_00156'</li><li>'ERCC_00157'</li><li>'ERCC_00158'</li><li>'ERCC_00160'</li><li>'ERCC_00162'</li><li>'ERCC_00163'</li><li>'ERCC_00164'</li><li>'ERCC_00165'</li><li>'ERCC_00168'</li><li>'ERCC_00170'</li><li>'ERCC_00171'</li></ol>\n"
      ],
      "text/latex": [
       "\\begin{enumerate*}\n",
       "\\item 'chrY'\n",
       "\\item 'chrMT'\n",
       "\\item 'ERCC\\_00002'\n",
       "\\item 'ERCC\\_00003'\n",
       "\\item 'ERCC\\_00004'\n",
       "\\item 'ERCC\\_00009'\n",
       "\\item 'ERCC\\_00012'\n",
       "\\item 'ERCC\\_00013'\n",
       "\\item 'ERCC\\_00014'\n",
       "\\item 'ERCC\\_00016'\n",
       "\\item 'ERCC\\_00017'\n",
       "\\item 'ERCC\\_00019'\n",
       "\\item 'ERCC\\_00022'\n",
       "\\item 'ERCC\\_00024'\n",
       "\\item 'ERCC\\_00025'\n",
       "\\item 'ERCC\\_00028'\n",
       "\\item 'ERCC\\_00031'\n",
       "\\item 'ERCC\\_00033'\n",
       "\\item 'ERCC\\_00034'\n",
       "\\item 'ERCC\\_00035'\n",
       "\\item 'ERCC\\_00039'\n",
       "\\item 'ERCC\\_00040'\n",
       "\\item 'ERCC\\_00041'\n",
       "\\item 'ERCC\\_00042'\n",
       "\\item 'ERCC\\_00043'\n",
       "\\item 'ERCC\\_00044'\n",
       "\\item 'ERCC\\_00046'\n",
       "\\item 'ERCC\\_00048'\n",
       "\\item 'ERCC\\_00051'\n",
       "\\item 'ERCC\\_00053'\n",
       "\\item 'ERCC\\_00054'\n",
       "\\item 'ERCC\\_00057'\n",
       "\\item 'ERCC\\_00058'\n",
       "\\item 'ERCC\\_00059'\n",
       "\\item 'ERCC\\_00060'\n",
       "\\item 'ERCC\\_00061'\n",
       "\\item 'ERCC\\_00062'\n",
       "\\item 'ERCC\\_00067'\n",
       "\\item 'ERCC\\_00069'\n",
       "\\item 'ERCC\\_00071'\n",
       "\\item 'ERCC\\_00073'\n",
       "\\item 'ERCC\\_00074'\n",
       "\\item 'ERCC\\_00075'\n",
       "\\item 'ERCC\\_00076'\n",
       "\\item 'ERCC\\_00077'\n",
       "\\item 'ERCC\\_00078'\n",
       "\\item 'ERCC\\_00079'\n",
       "\\item 'ERCC\\_00081'\n",
       "\\item 'ERCC\\_00083'\n",
       "\\item 'ERCC\\_00084'\n",
       "\\item 'ERCC\\_00085'\n",
       "\\item 'ERCC\\_00086'\n",
       "\\item 'ERCC\\_00092'\n",
       "\\item 'ERCC\\_00095'\n",
       "\\item 'ERCC\\_00096'\n",
       "\\item 'ERCC\\_00097'\n",
       "\\item 'ERCC\\_00098'\n",
       "\\item 'ERCC\\_00099'\n",
       "\\item 'ERCC\\_00104'\n",
       "\\item 'ERCC\\_00108'\n",
       "\\item 'ERCC\\_00109'\n",
       "\\item 'ERCC\\_00111'\n",
       "\\item 'ERCC\\_00112'\n",
       "\\item 'ERCC\\_00113'\n",
       "\\item 'ERCC\\_00116'\n",
       "\\item 'ERCC\\_00117'\n",
       "\\item 'ERCC\\_00120'\n",
       "\\item 'ERCC\\_00123'\n",
       "\\item 'ERCC\\_00126'\n",
       "\\item 'ERCC\\_00130'\n",
       "\\item 'ERCC\\_00131'\n",
       "\\item 'ERCC\\_00134'\n",
       "\\item 'ERCC\\_00136'\n",
       "\\item 'ERCC\\_00137'\n",
       "\\item 'ERCC\\_00138'\n",
       "\\item 'ERCC\\_00142'\n",
       "\\item 'ERCC\\_00143'\n",
       "\\item 'ERCC\\_00144'\n",
       "\\item 'ERCC\\_00145'\n",
       "\\item 'ERCC\\_00147'\n",
       "\\item 'ERCC\\_00148'\n",
       "\\item 'ERCC\\_00150'\n",
       "\\item 'ERCC\\_00154'\n",
       "\\item 'ERCC\\_00156'\n",
       "\\item 'ERCC\\_00157'\n",
       "\\item 'ERCC\\_00158'\n",
       "\\item 'ERCC\\_00160'\n",
       "\\item 'ERCC\\_00162'\n",
       "\\item 'ERCC\\_00163'\n",
       "\\item 'ERCC\\_00164'\n",
       "\\item 'ERCC\\_00165'\n",
       "\\item 'ERCC\\_00168'\n",
       "\\item 'ERCC\\_00170'\n",
       "\\item 'ERCC\\_00171'\n",
       "\\end{enumerate*}\n"
      ],
      "text/markdown": [
       "1. 'chrY'\n",
       "2. 'chrMT'\n",
       "3. 'ERCC_00002'\n",
       "4. 'ERCC_00003'\n",
       "5. 'ERCC_00004'\n",
       "6. 'ERCC_00009'\n",
       "7. 'ERCC_00012'\n",
       "8. 'ERCC_00013'\n",
       "9. 'ERCC_00014'\n",
       "10. 'ERCC_00016'\n",
       "11. 'ERCC_00017'\n",
       "12. 'ERCC_00019'\n",
       "13. 'ERCC_00022'\n",
       "14. 'ERCC_00024'\n",
       "15. 'ERCC_00025'\n",
       "16. 'ERCC_00028'\n",
       "17. 'ERCC_00031'\n",
       "18. 'ERCC_00033'\n",
       "19. 'ERCC_00034'\n",
       "20. 'ERCC_00035'\n",
       "21. 'ERCC_00039'\n",
       "22. 'ERCC_00040'\n",
       "23. 'ERCC_00041'\n",
       "24. 'ERCC_00042'\n",
       "25. 'ERCC_00043'\n",
       "26. 'ERCC_00044'\n",
       "27. 'ERCC_00046'\n",
       "28. 'ERCC_00048'\n",
       "29. 'ERCC_00051'\n",
       "30. 'ERCC_00053'\n",
       "31. 'ERCC_00054'\n",
       "32. 'ERCC_00057'\n",
       "33. 'ERCC_00058'\n",
       "34. 'ERCC_00059'\n",
       "35. 'ERCC_00060'\n",
       "36. 'ERCC_00061'\n",
       "37. 'ERCC_00062'\n",
       "38. 'ERCC_00067'\n",
       "39. 'ERCC_00069'\n",
       "40. 'ERCC_00071'\n",
       "41. 'ERCC_00073'\n",
       "42. 'ERCC_00074'\n",
       "43. 'ERCC_00075'\n",
       "44. 'ERCC_00076'\n",
       "45. 'ERCC_00077'\n",
       "46. 'ERCC_00078'\n",
       "47. 'ERCC_00079'\n",
       "48. 'ERCC_00081'\n",
       "49. 'ERCC_00083'\n",
       "50. 'ERCC_00084'\n",
       "51. 'ERCC_00085'\n",
       "52. 'ERCC_00086'\n",
       "53. 'ERCC_00092'\n",
       "54. 'ERCC_00095'\n",
       "55. 'ERCC_00096'\n",
       "56. 'ERCC_00097'\n",
       "57. 'ERCC_00098'\n",
       "58. 'ERCC_00099'\n",
       "59. 'ERCC_00104'\n",
       "60. 'ERCC_00108'\n",
       "61. 'ERCC_00109'\n",
       "62. 'ERCC_00111'\n",
       "63. 'ERCC_00112'\n",
       "64. 'ERCC_00113'\n",
       "65. 'ERCC_00116'\n",
       "66. 'ERCC_00117'\n",
       "67. 'ERCC_00120'\n",
       "68. 'ERCC_00123'\n",
       "69. 'ERCC_00126'\n",
       "70. 'ERCC_00130'\n",
       "71. 'ERCC_00131'\n",
       "72. 'ERCC_00134'\n",
       "73. 'ERCC_00136'\n",
       "74. 'ERCC_00137'\n",
       "75. 'ERCC_00138'\n",
       "76. 'ERCC_00142'\n",
       "77. 'ERCC_00143'\n",
       "78. 'ERCC_00144'\n",
       "79. 'ERCC_00145'\n",
       "80. 'ERCC_00147'\n",
       "81. 'ERCC_00148'\n",
       "82. 'ERCC_00150'\n",
       "83. 'ERCC_00154'\n",
       "84. 'ERCC_00156'\n",
       "85. 'ERCC_00157'\n",
       "86. 'ERCC_00158'\n",
       "87. 'ERCC_00160'\n",
       "88. 'ERCC_00162'\n",
       "89. 'ERCC_00163'\n",
       "90. 'ERCC_00164'\n",
       "91. 'ERCC_00165'\n",
       "92. 'ERCC_00168'\n",
       "93. 'ERCC_00170'\n",
       "94. 'ERCC_00171'\n",
       "\n",
       "\n"
      ],
      "text/plain": [
       " [1] \"chrY\"       \"chrMT\"      \"ERCC_00002\" \"ERCC_00003\" \"ERCC_00004\"\n",
       " [6] \"ERCC_00009\" \"ERCC_00012\" \"ERCC_00013\" \"ERCC_00014\" \"ERCC_00016\"\n",
       "[11] \"ERCC_00017\" \"ERCC_00019\" \"ERCC_00022\" \"ERCC_00024\" \"ERCC_00025\"\n",
       "[16] \"ERCC_00028\" \"ERCC_00031\" \"ERCC_00033\" \"ERCC_00034\" \"ERCC_00035\"\n",
       "[21] \"ERCC_00039\" \"ERCC_00040\" \"ERCC_00041\" \"ERCC_00042\" \"ERCC_00043\"\n",
       "[26] \"ERCC_00044\" \"ERCC_00046\" \"ERCC_00048\" \"ERCC_00051\" \"ERCC_00053\"\n",
       "[31] \"ERCC_00054\" \"ERCC_00057\" \"ERCC_00058\" \"ERCC_00059\" \"ERCC_00060\"\n",
       "[36] \"ERCC_00061\" \"ERCC_00062\" \"ERCC_00067\" \"ERCC_00069\" \"ERCC_00071\"\n",
       "[41] \"ERCC_00073\" \"ERCC_00074\" \"ERCC_00075\" \"ERCC_00076\" \"ERCC_00077\"\n",
       "[46] \"ERCC_00078\" \"ERCC_00079\" \"ERCC_00081\" \"ERCC_00083\" \"ERCC_00084\"\n",
       "[51] \"ERCC_00085\" \"ERCC_00086\" \"ERCC_00092\" \"ERCC_00095\" \"ERCC_00096\"\n",
       "[56] \"ERCC_00097\" \"ERCC_00098\" \"ERCC_00099\" \"ERCC_00104\" \"ERCC_00108\"\n",
       "[61] \"ERCC_00109\" \"ERCC_00111\" \"ERCC_00112\" \"ERCC_00113\" \"ERCC_00116\"\n",
       "[66] \"ERCC_00117\" \"ERCC_00120\" \"ERCC_00123\" \"ERCC_00126\" \"ERCC_00130\"\n",
       "[71] \"ERCC_00131\" \"ERCC_00134\" \"ERCC_00136\" \"ERCC_00137\" \"ERCC_00138\"\n",
       "[76] \"ERCC_00142\" \"ERCC_00143\" \"ERCC_00144\" \"ERCC_00145\" \"ERCC_00147\"\n",
       "[81] \"ERCC_00148\" \"ERCC_00150\" \"ERCC_00154\" \"ERCC_00156\" \"ERCC_00157\"\n",
       "[86] \"ERCC_00158\" \"ERCC_00160\" \"ERCC_00162\" \"ERCC_00163\" \"ERCC_00164\"\n",
       "[91] \"ERCC_00165\" \"ERCC_00168\" \"ERCC_00170\" \"ERCC_00171\""
      ]
     },
     "metadata": {},
     "output_type": "display_data"
    }
   ],
   "source": [
    "# check if we have leave out any genes\n",
    "\n",
    "TADB_final = TADB_final %>% rename(chr = \"#chr\")\n",
    "\n",
    "# find the corresponding TADB of one gene\n",
    "\n",
    "gene_TADB_tb = left_join(all_gene, TADB_final, by = \"chr\", relationship = \"many-to-many\") %>% \n",
    "    filter(!(gene_start > end) &  !(gene_end < start))\n",
    "\n",
    "genes = gene_TADB_tb %>% pull(gene_id)\n",
    "\n",
    "all_genes = all_gene %>% pull(gene_id)\n",
    "\n",
    "dif = setdiff(all_genes, genes)\n",
    "\n",
    "all_gene %>% filter(gene_id %in% dif) %>% pull(chr) %>% unique()"
   ]
  },
  {
   "cell_type": "markdown",
   "id": "f5b5590d-5c00-4e9f-9e8c-e36990164f3f",
   "metadata": {
    "kernel": "SoS"
   },
   "source": [
    "So diff is the gene that is in the list of all genes, but not covered by TADB, I checked it again and find that they are all on chromosome Y, MT or ERCC genes. So that's normal because we don't care these genes, and our TAD data do not include it, so we will never cover these genes."
   ]
  },
  {
   "cell_type": "code",
   "execution_count": 25,
   "id": "dad132f0-c450-49e5-b505-c610f7b3e4ba",
   "metadata": {
    "kernel": "SoS",
    "tags": []
   },
   "outputs": [],
   "source": []
  },
  {
   "cell_type": "code",
   "execution_count": 51,
   "id": "742fe08d-2d78-4994-8cc7-d0ec903584f9",
   "metadata": {
    "kernel": "SoS",
    "tags": []
   },
   "outputs": [
    {
     "data": {
      "text/html": [
       "<table class=\"dataframe\">\n",
       "<caption>A tibble: 6 × 10</caption>\n",
       "<thead>\n",
       "\t<tr><th scope=col>chr</th><th scope=col>gene_start</th><th scope=col>gene_end</th><th scope=col>gene_id</th><th scope=col>start</th><th scope=col>end</th><th scope=col>index</th><th scope=col>chr_end</th><th scope=col>cis_start</th><th scope=col>cis_end</th></tr>\n",
       "\t<tr><th scope=col>&lt;chr&gt;</th><th scope=col>&lt;dbl&gt;</th><th scope=col>&lt;dbl&gt;</th><th scope=col>&lt;chr&gt;</th><th scope=col>&lt;int&gt;</th><th scope=col>&lt;int&gt;</th><th scope=col>&lt;chr&gt;</th><th scope=col>&lt;dbl&gt;</th><th scope=col>&lt;dbl&gt;</th><th scope=col>&lt;dbl&gt;</th></tr>\n",
       "</thead>\n",
       "<tbody>\n",
       "\t<tr><td>chr1</td><td>11868</td><td>14409</td><td>ENSG00000223972</td><td>0</td><td>6480000</td><td>TADB1</td><td>248956422</td><td>0</td><td>1014409</td></tr>\n",
       "\t<tr><td>chr1</td><td>14404</td><td>29570</td><td>ENSG00000227232</td><td>0</td><td>6480000</td><td>TADB1</td><td>248956422</td><td>0</td><td>1029570</td></tr>\n",
       "\t<tr><td>chr1</td><td>17369</td><td>17436</td><td>ENSG00000278267</td><td>0</td><td>6480000</td><td>TADB1</td><td>248956422</td><td>0</td><td>1017436</td></tr>\n",
       "\t<tr><td>chr1</td><td>29553</td><td>31109</td><td>ENSG00000243485</td><td>0</td><td>6480000</td><td>TADB1</td><td>248956422</td><td>0</td><td>1031109</td></tr>\n",
       "\t<tr><td>chr1</td><td>30365</td><td>30503</td><td>ENSG00000284332</td><td>0</td><td>6480000</td><td>TADB1</td><td>248956422</td><td>0</td><td>1030503</td></tr>\n",
       "\t<tr><td>chr1</td><td>34554</td><td>36081</td><td>ENSG00000237613</td><td>0</td><td>6480000</td><td>TADB1</td><td>248956422</td><td>0</td><td>1036081</td></tr>\n",
       "</tbody>\n",
       "</table>\n"
      ],
      "text/latex": [
       "A tibble: 6 × 10\n",
       "\\begin{tabular}{llllllllll}\n",
       " chr & gene\\_start & gene\\_end & gene\\_id & start & end & index & chr\\_end & cis\\_start & cis\\_end\\\\\n",
       " <chr> & <dbl> & <dbl> & <chr> & <int> & <int> & <chr> & <dbl> & <dbl> & <dbl>\\\\\n",
       "\\hline\n",
       "\t chr1 & 11868 & 14409 & ENSG00000223972 & 0 & 6480000 & TADB1 & 248956422 & 0 & 1014409\\\\\n",
       "\t chr1 & 14404 & 29570 & ENSG00000227232 & 0 & 6480000 & TADB1 & 248956422 & 0 & 1029570\\\\\n",
       "\t chr1 & 17369 & 17436 & ENSG00000278267 & 0 & 6480000 & TADB1 & 248956422 & 0 & 1017436\\\\\n",
       "\t chr1 & 29553 & 31109 & ENSG00000243485 & 0 & 6480000 & TADB1 & 248956422 & 0 & 1031109\\\\\n",
       "\t chr1 & 30365 & 30503 & ENSG00000284332 & 0 & 6480000 & TADB1 & 248956422 & 0 & 1030503\\\\\n",
       "\t chr1 & 34554 & 36081 & ENSG00000237613 & 0 & 6480000 & TADB1 & 248956422 & 0 & 1036081\\\\\n",
       "\\end{tabular}\n"
      ],
      "text/markdown": [
       "\n",
       "A tibble: 6 × 10\n",
       "\n",
       "| chr &lt;chr&gt; | gene_start &lt;dbl&gt; | gene_end &lt;dbl&gt; | gene_id &lt;chr&gt; | start &lt;int&gt; | end &lt;int&gt; | index &lt;chr&gt; | chr_end &lt;dbl&gt; | cis_start &lt;dbl&gt; | cis_end &lt;dbl&gt; |\n",
       "|---|---|---|---|---|---|---|---|---|---|\n",
       "| chr1 | 11868 | 14409 | ENSG00000223972 | 0 | 6480000 | TADB1 | 248956422 | 0 | 1014409 |\n",
       "| chr1 | 14404 | 29570 | ENSG00000227232 | 0 | 6480000 | TADB1 | 248956422 | 0 | 1029570 |\n",
       "| chr1 | 17369 | 17436 | ENSG00000278267 | 0 | 6480000 | TADB1 | 248956422 | 0 | 1017436 |\n",
       "| chr1 | 29553 | 31109 | ENSG00000243485 | 0 | 6480000 | TADB1 | 248956422 | 0 | 1031109 |\n",
       "| chr1 | 30365 | 30503 | ENSG00000284332 | 0 | 6480000 | TADB1 | 248956422 | 0 | 1030503 |\n",
       "| chr1 | 34554 | 36081 | ENSG00000237613 | 0 | 6480000 | TADB1 | 248956422 | 0 | 1036081 |\n",
       "\n"
      ],
      "text/plain": [
       "  chr  gene_start gene_end gene_id         start end     index chr_end  \n",
       "1 chr1 11868      14409    ENSG00000223972 0     6480000 TADB1 248956422\n",
       "2 chr1 14404      29570    ENSG00000227232 0     6480000 TADB1 248956422\n",
       "3 chr1 17369      17436    ENSG00000278267 0     6480000 TADB1 248956422\n",
       "4 chr1 29553      31109    ENSG00000243485 0     6480000 TADB1 248956422\n",
       "5 chr1 30365      30503    ENSG00000284332 0     6480000 TADB1 248956422\n",
       "6 chr1 34554      36081    ENSG00000237613 0     6480000 TADB1 248956422\n",
       "  cis_start cis_end\n",
       "1 0         1014409\n",
       "2 0         1029570\n",
       "3 0         1017436\n",
       "4 0         1031109\n",
       "5 0         1030503\n",
       "6 0         1036081"
      ]
     },
     "metadata": {},
     "output_type": "display_data"
    },
    {
     "data": {
      "text/html": [
       "<table class=\"dataframe\">\n",
       "<caption>A grouped_df: 2 × 2</caption>\n",
       "<thead>\n",
       "\t<tr><th scope=col>cis_covered_status</th><th scope=col>n</th></tr>\n",
       "\t<tr><th scope=col>&lt;dbl&gt;</th><th scope=col>&lt;int&gt;</th></tr>\n",
       "</thead>\n",
       "<tbody>\n",
       "\t<tr><td>0</td><td>51336</td></tr>\n",
       "\t<tr><td>1</td><td>20754</td></tr>\n",
       "</tbody>\n",
       "</table>\n"
      ],
      "text/latex": [
       "A grouped\\_df: 2 × 2\n",
       "\\begin{tabular}{ll}\n",
       " cis\\_covered\\_status & n\\\\\n",
       " <dbl> & <int>\\\\\n",
       "\\hline\n",
       "\t 0 & 51336\\\\\n",
       "\t 1 & 20754\\\\\n",
       "\\end{tabular}\n"
      ],
      "text/markdown": [
       "\n",
       "A grouped_df: 2 × 2\n",
       "\n",
       "| cis_covered_status &lt;dbl&gt; | n &lt;int&gt; |\n",
       "|---|---|\n",
       "| 0 | 51336 |\n",
       "| 1 | 20754 |\n",
       "\n"
      ],
      "text/plain": [
       "  cis_covered_status n    \n",
       "1 0                  51336\n",
       "2 1                  20754"
      ]
     },
     "metadata": {},
     "output_type": "display_data"
    }
   ],
   "source": [
    "# add the end of chromosome info so that we won't have cis window outside of chromosome\n",
    "\n",
    "cis_TADB = left_join(gene_TADB_tb, chrDF, by = \"chr\") %>% rename(chr_end = left) %>%\n",
    "    mutate(cis_start = pmax(0, gene_start - 1000000)) %>%\n",
    "    mutate(cis_end = pmin(chr_end, gene_end + 1000000))\n",
    "    \n",
    "head(cis_TADB)\n",
    "\n",
    "# label overlap status 0/1\n",
    "\n",
    "cis_TADB %>% mutate(cis_covered_status = \n",
    "                    if_else((cis_start >= start &\n",
    "                    cis_end <= end), 1, 0)) %>% group_by(cis_covered_status) %>%\n",
    "            count()"
   ]
  },
  {
   "cell_type": "markdown",
   "id": "8900447a-295f-48d2-a5eb-36b1fc6f86b5",
   "metadata": {
    "kernel": "SoS"
   },
   "source": [
    "0 stands for cis window not fully covered by the TADB the gene lies in. So after we have TADB, we still \n",
    "have many genes whose 1M cis window (total length: 2M) cannot be covered by its TADB region."
   ]
  },
  {
   "cell_type": "markdown",
   "id": "b1ee2fb3-31f7-4feb-9156-5e76b7a4e9a6",
   "metadata": {
    "kernel": "SoS"
   },
   "source": [
    "#### Construct TADB-enhanced cis window"
   ]
  },
  {
   "cell_type": "markdown",
   "id": "eafff2ef-19d8-4dc4-8aa0-4066f6d15be1",
   "metadata": {
    "kernel": "SoS"
   },
   "source": [
    "For each gene we get its 1M window (upstream and downstream 1M respectively, total length 2M), and see which TADB it's in.  Then we extend the region to the smaller start and larger end."
   ]
  },
  {
   "cell_type": "code",
   "execution_count": 53,
   "id": "9387f1ea-6999-4271-8405-736ce182c0a1",
   "metadata": {
    "kernel": "SoS",
    "tags": []
   },
   "outputs": [
    {
     "data": {
      "text/html": [
       "<table class=\"dataframe\">\n",
       "<caption>A tibble: 6 × 10</caption>\n",
       "<thead>\n",
       "\t<tr><th scope=col>chr</th><th scope=col>gene_start</th><th scope=col>gene_end</th><th scope=col>gene_id</th><th scope=col>start</th><th scope=col>end</th><th scope=col>index</th><th scope=col>chr_end</th><th scope=col>cis_start</th><th scope=col>cis_end</th></tr>\n",
       "\t<tr><th scope=col>&lt;chr&gt;</th><th scope=col>&lt;dbl&gt;</th><th scope=col>&lt;dbl&gt;</th><th scope=col>&lt;chr&gt;</th><th scope=col>&lt;int&gt;</th><th scope=col>&lt;int&gt;</th><th scope=col>&lt;chr&gt;</th><th scope=col>&lt;dbl&gt;</th><th scope=col>&lt;dbl&gt;</th><th scope=col>&lt;dbl&gt;</th></tr>\n",
       "</thead>\n",
       "<tbody>\n",
       "\t<tr><td>chr1</td><td>11868</td><td>14409</td><td>ENSG00000223972</td><td>0</td><td>6480000</td><td>TADB1</td><td>248956422</td><td>0</td><td>1014409</td></tr>\n",
       "\t<tr><td>chr1</td><td>14404</td><td>29570</td><td>ENSG00000227232</td><td>0</td><td>6480000</td><td>TADB1</td><td>248956422</td><td>0</td><td>1029570</td></tr>\n",
       "\t<tr><td>chr1</td><td>17369</td><td>17436</td><td>ENSG00000278267</td><td>0</td><td>6480000</td><td>TADB1</td><td>248956422</td><td>0</td><td>1017436</td></tr>\n",
       "\t<tr><td>chr1</td><td>29553</td><td>31109</td><td>ENSG00000243485</td><td>0</td><td>6480000</td><td>TADB1</td><td>248956422</td><td>0</td><td>1031109</td></tr>\n",
       "\t<tr><td>chr1</td><td>30365</td><td>30503</td><td>ENSG00000284332</td><td>0</td><td>6480000</td><td>TADB1</td><td>248956422</td><td>0</td><td>1030503</td></tr>\n",
       "\t<tr><td>chr1</td><td>34554</td><td>36081</td><td>ENSG00000237613</td><td>0</td><td>6480000</td><td>TADB1</td><td>248956422</td><td>0</td><td>1036081</td></tr>\n",
       "</tbody>\n",
       "</table>\n"
      ],
      "text/latex": [
       "A tibble: 6 × 10\n",
       "\\begin{tabular}{llllllllll}\n",
       " chr & gene\\_start & gene\\_end & gene\\_id & start & end & index & chr\\_end & cis\\_start & cis\\_end\\\\\n",
       " <chr> & <dbl> & <dbl> & <chr> & <int> & <int> & <chr> & <dbl> & <dbl> & <dbl>\\\\\n",
       "\\hline\n",
       "\t chr1 & 11868 & 14409 & ENSG00000223972 & 0 & 6480000 & TADB1 & 248956422 & 0 & 1014409\\\\\n",
       "\t chr1 & 14404 & 29570 & ENSG00000227232 & 0 & 6480000 & TADB1 & 248956422 & 0 & 1029570\\\\\n",
       "\t chr1 & 17369 & 17436 & ENSG00000278267 & 0 & 6480000 & TADB1 & 248956422 & 0 & 1017436\\\\\n",
       "\t chr1 & 29553 & 31109 & ENSG00000243485 & 0 & 6480000 & TADB1 & 248956422 & 0 & 1031109\\\\\n",
       "\t chr1 & 30365 & 30503 & ENSG00000284332 & 0 & 6480000 & TADB1 & 248956422 & 0 & 1030503\\\\\n",
       "\t chr1 & 34554 & 36081 & ENSG00000237613 & 0 & 6480000 & TADB1 & 248956422 & 0 & 1036081\\\\\n",
       "\\end{tabular}\n"
      ],
      "text/markdown": [
       "\n",
       "A tibble: 6 × 10\n",
       "\n",
       "| chr &lt;chr&gt; | gene_start &lt;dbl&gt; | gene_end &lt;dbl&gt; | gene_id &lt;chr&gt; | start &lt;int&gt; | end &lt;int&gt; | index &lt;chr&gt; | chr_end &lt;dbl&gt; | cis_start &lt;dbl&gt; | cis_end &lt;dbl&gt; |\n",
       "|---|---|---|---|---|---|---|---|---|---|\n",
       "| chr1 | 11868 | 14409 | ENSG00000223972 | 0 | 6480000 | TADB1 | 248956422 | 0 | 1014409 |\n",
       "| chr1 | 14404 | 29570 | ENSG00000227232 | 0 | 6480000 | TADB1 | 248956422 | 0 | 1029570 |\n",
       "| chr1 | 17369 | 17436 | ENSG00000278267 | 0 | 6480000 | TADB1 | 248956422 | 0 | 1017436 |\n",
       "| chr1 | 29553 | 31109 | ENSG00000243485 | 0 | 6480000 | TADB1 | 248956422 | 0 | 1031109 |\n",
       "| chr1 | 30365 | 30503 | ENSG00000284332 | 0 | 6480000 | TADB1 | 248956422 | 0 | 1030503 |\n",
       "| chr1 | 34554 | 36081 | ENSG00000237613 | 0 | 6480000 | TADB1 | 248956422 | 0 | 1036081 |\n",
       "\n"
      ],
      "text/plain": [
       "  chr  gene_start gene_end gene_id         start end     index chr_end  \n",
       "1 chr1 11868      14409    ENSG00000223972 0     6480000 TADB1 248956422\n",
       "2 chr1 14404      29570    ENSG00000227232 0     6480000 TADB1 248956422\n",
       "3 chr1 17369      17436    ENSG00000278267 0     6480000 TADB1 248956422\n",
       "4 chr1 29553      31109    ENSG00000243485 0     6480000 TADB1 248956422\n",
       "5 chr1 30365      30503    ENSG00000284332 0     6480000 TADB1 248956422\n",
       "6 chr1 34554      36081    ENSG00000237613 0     6480000 TADB1 248956422\n",
       "  cis_start cis_end\n",
       "1 0         1014409\n",
       "2 0         1029570\n",
       "3 0         1017436\n",
       "4 0         1031109\n",
       "5 0         1030503\n",
       "6 0         1036081"
      ]
     },
     "metadata": {},
     "output_type": "display_data"
    }
   ],
   "source": [
    "cis_TADB  %>% head()"
   ]
  },
  {
   "cell_type": "code",
   "execution_count": 54,
   "id": "6ebc535d-25a6-4c90-9de1-ae9c2eaa3bcf",
   "metadata": {
    "kernel": "SoS",
    "tags": []
   },
   "outputs": [
    {
     "name": "stderr",
     "output_type": "stream",
     "text": [
      "\u001b[1m\u001b[22m`summarise()` has grouped output by 'chr'. You can override using the `.groups`\n",
      "argument.\n"
     ]
    },
    {
     "data": {
      "text/html": [
       "60017"
      ],
      "text/latex": [
       "60017"
      ],
      "text/markdown": [
       "60017"
      ],
      "text/plain": [
       "[1] 60017"
      ]
     },
     "metadata": {},
     "output_type": "display_data"
    }
   ],
   "source": [
    "extended =  cis_TADB %>% \n",
    "    mutate(true_start = pmin(start, cis_start),\n",
    "          true_end = pmax(end, cis_end)) %>% \n",
    "    arrange(chr, true_start) %>% ungroup() %>% \n",
    "    select(chr, gene_id, true_start, true_end)%>%\n",
    "    rename(start = true_start, end = true_end)\n",
    "\n",
    "extended_final = extended %>% group_by(chr, gene_id) %>% summarize(start = min(start),\n",
    "                                            end = max(end))%>% \n",
    "    arrange(chr, start)\n",
    "\n",
    "nrow(extended_final)"
   ]
  },
  {
   "cell_type": "markdown",
   "id": "0e2c92a3-1a89-4e8a-a81c-2e0a2495ccca",
   "metadata": {
    "kernel": "SoS",
    "tags": []
   },
   "source": [
    "Now we have the same number of extended cis windows as the gene numbers."
   ]
  },
  {
   "cell_type": "code",
   "execution_count": 55,
   "id": "0425dcf8-1e72-4f56-868f-001440799fdd",
   "metadata": {
    "kernel": "SoS",
    "tags": []
   },
   "outputs": [
    {
     "data": {
      "image/png": "[encoded data removed]",
      "text/plain": [
       "plot without title"
      ]
     },
     "metadata": {
      "image/png": {
       "height": 420,
       "width": 420
      }
     },
     "output_type": "display_data"
    }
   ],
   "source": [
    "## Distribution of extended regions\n",
    "\n",
    "extended_final %>% mutate(length = end - start) %>% ggplot(aes(y = length)) + geom_boxplot() +\n",
    "    geom_hline(yintercept = 2000000, color = \"red\")+ theme(axis.text = element_text(size = 20))  "
   ]
  },
  {
   "cell_type": "code",
   "execution_count": 56,
   "id": "a8654631-3e76-4b25-bd4b-5bb8b356664e",
   "metadata": {
    "kernel": "SoS",
    "tags": []
   },
   "outputs": [
    {
     "data": {
      "text/html": [
       "35080000"
      ],
      "text/latex": [
       "35080000"
      ],
      "text/markdown": [
       "35080000"
      ],
      "text/plain": [
       "[1] 35080000"
      ]
     },
     "metadata": {},
     "output_type": "display_data"
    },
    {
     "data": {
      "text/html": [
       "4653395.44833964"
      ],
      "text/latex": [
       "4653395.44833964"
      ],
      "text/markdown": [
       "4653395.44833964"
      ],
      "text/plain": [
       "[1] 4653395"
      ]
     },
     "metadata": {},
     "output_type": "display_data"
    }
   ],
   "source": [
    "extended_final %>% mutate(length = end - start) %>% pull(length) %>% max() \n",
    "extended_final %>% mutate(length = end - start) %>% pull(length) %>% mean() "
   ]
  },
  {
   "cell_type": "markdown",
   "id": "970aff7b-04d5-4fb0-9ca5-9d4c080eb58d",
   "metadata": {
    "kernel": "SoS"
   },
   "source": [
    "After extending, most of the extended regions have a length longer than 2M. There are still some regions with length shorter than 2M. For example if one gene is at the start of one chromosome, then extend to the left, the original cis window will shorter than 2M, so when merged with TADB this region can still be shorter than 2M."
   ]
  },
  {
   "cell_type": "markdown",
   "id": "3d83044e-5539-4aba-80bf-39bc035f2629",
   "metadata": {
    "kernel": "SoS"
   },
   "source": [
    "We should no longer find again what genes are in each extended-TADB. Otherwise for these genes their 1M window may again not covered, then we fall into the loop until we indlude the whole genome.\n",
    "\n",
    "We will only finemap those genes originally in not extended TADBs, using extended TADB as fine mapping region."
   ]
  },
  {
   "cell_type": "code",
   "execution_count": 68,
   "id": "2e31b6dc-2b60-47aa-96b8-4fa93c887b92",
   "metadata": {
    "kernel": "SoS",
    "tags": []
   },
   "outputs": [],
   "source": [
    "ordered_chr <- c(paste0(\"chr\", as.character(1:22)), \"chrX\")\n",
    "\n",
    "extend_cis_ordered <- extended_final %>%\n",
    "  mutate(chr = factor(chr, levels = ordered_chr)) %>%\n",
    "  arrange(chr) %>% rename(`#chr` = chr) %>% select(`#chr`, start, end, gene_id)\n",
    "\n",
    "extend_cis_ordered %>% write_tsv(\"../../reference_data/TAD/TADB_enhanced_cis.bed\")"
   ]
  },
  {
   "cell_type": "markdown",
   "id": "47d1d0f1-bc92-443a-b5b2-2f9585c32d1f",
   "metadata": {
    "kernel": "SoS"
   },
   "source": [
    "#### Extended TADB"
   ]
  },
  {
   "cell_type": "code",
   "execution_count": 58,
   "id": "aff2463c-90c2-4e3b-9e33-32710ea8fd4c",
   "metadata": {
    "kernel": "SoS",
    "tags": []
   },
   "outputs": [],
   "source": [
    "# add the end of chromosome info so that we won't have cis window outside of chromosome\n",
    "\n",
    "cis_TADB = left_join(gene_TADB_tb, chrDF, by = \"chr\") %>% rename(chr_end = left) %>%\n",
    "    mutate(cis_start = pmax(0, gene_start - 1000000)) %>%\n",
    "    mutate(cis_end = pmin(chr_end, gene_end + 1000000))"
   ]
  },
  {
   "cell_type": "code",
   "execution_count": 59,
   "id": "fdd26cf2-0d40-4089-a057-704e78b1eb24",
   "metadata": {
    "kernel": "SoS",
    "tags": []
   },
   "outputs": [],
   "source": [
    "idx = gene_TADB_tb %>% pull(index) %>% unique()\n",
    "idx2 = TADB_final %>% pull(index) %>% unique()"
   ]
  },
  {
   "cell_type": "code",
   "execution_count": 60,
   "id": "a6c09d9b-14eb-49ee-9f28-4303516378e3",
   "metadata": {
    "kernel": "SoS",
    "tags": []
   },
   "outputs": [
    {
     "data": {
      "text/html": [
       "<table class=\"dataframe\">\n",
       "<caption>A tibble: 6 × 10</caption>\n",
       "<thead>\n",
       "\t<tr><th scope=col>chr</th><th scope=col>gene_start</th><th scope=col>gene_end</th><th scope=col>gene_id</th><th scope=col>start</th><th scope=col>end</th><th scope=col>index</th><th scope=col>chr_end</th><th scope=col>cis_start</th><th scope=col>cis_end</th></tr>\n",
       "\t<tr><th scope=col>&lt;chr&gt;</th><th scope=col>&lt;dbl&gt;</th><th scope=col>&lt;dbl&gt;</th><th scope=col>&lt;chr&gt;</th><th scope=col>&lt;int&gt;</th><th scope=col>&lt;int&gt;</th><th scope=col>&lt;chr&gt;</th><th scope=col>&lt;dbl&gt;</th><th scope=col>&lt;dbl&gt;</th><th scope=col>&lt;dbl&gt;</th></tr>\n",
       "</thead>\n",
       "<tbody>\n",
       "\t<tr><td>chr1</td><td>11868</td><td>14409</td><td>ENSG00000223972</td><td>0</td><td>6480000</td><td>TADB1</td><td>248956422</td><td>0</td><td>1014409</td></tr>\n",
       "\t<tr><td>chr1</td><td>14404</td><td>29570</td><td>ENSG00000227232</td><td>0</td><td>6480000</td><td>TADB1</td><td>248956422</td><td>0</td><td>1029570</td></tr>\n",
       "\t<tr><td>chr1</td><td>17369</td><td>17436</td><td>ENSG00000278267</td><td>0</td><td>6480000</td><td>TADB1</td><td>248956422</td><td>0</td><td>1017436</td></tr>\n",
       "\t<tr><td>chr1</td><td>29553</td><td>31109</td><td>ENSG00000243485</td><td>0</td><td>6480000</td><td>TADB1</td><td>248956422</td><td>0</td><td>1031109</td></tr>\n",
       "\t<tr><td>chr1</td><td>30365</td><td>30503</td><td>ENSG00000284332</td><td>0</td><td>6480000</td><td>TADB1</td><td>248956422</td><td>0</td><td>1030503</td></tr>\n",
       "\t<tr><td>chr1</td><td>34554</td><td>36081</td><td>ENSG00000237613</td><td>0</td><td>6480000</td><td>TADB1</td><td>248956422</td><td>0</td><td>1036081</td></tr>\n",
       "</tbody>\n",
       "</table>\n"
      ],
      "text/latex": [
       "A tibble: 6 × 10\n",
       "\\begin{tabular}{llllllllll}\n",
       " chr & gene\\_start & gene\\_end & gene\\_id & start & end & index & chr\\_end & cis\\_start & cis\\_end\\\\\n",
       " <chr> & <dbl> & <dbl> & <chr> & <int> & <int> & <chr> & <dbl> & <dbl> & <dbl>\\\\\n",
       "\\hline\n",
       "\t chr1 & 11868 & 14409 & ENSG00000223972 & 0 & 6480000 & TADB1 & 248956422 & 0 & 1014409\\\\\n",
       "\t chr1 & 14404 & 29570 & ENSG00000227232 & 0 & 6480000 & TADB1 & 248956422 & 0 & 1029570\\\\\n",
       "\t chr1 & 17369 & 17436 & ENSG00000278267 & 0 & 6480000 & TADB1 & 248956422 & 0 & 1017436\\\\\n",
       "\t chr1 & 29553 & 31109 & ENSG00000243485 & 0 & 6480000 & TADB1 & 248956422 & 0 & 1031109\\\\\n",
       "\t chr1 & 30365 & 30503 & ENSG00000284332 & 0 & 6480000 & TADB1 & 248956422 & 0 & 1030503\\\\\n",
       "\t chr1 & 34554 & 36081 & ENSG00000237613 & 0 & 6480000 & TADB1 & 248956422 & 0 & 1036081\\\\\n",
       "\\end{tabular}\n"
      ],
      "text/markdown": [
       "\n",
       "A tibble: 6 × 10\n",
       "\n",
       "| chr &lt;chr&gt; | gene_start &lt;dbl&gt; | gene_end &lt;dbl&gt; | gene_id &lt;chr&gt; | start &lt;int&gt; | end &lt;int&gt; | index &lt;chr&gt; | chr_end &lt;dbl&gt; | cis_start &lt;dbl&gt; | cis_end &lt;dbl&gt; |\n",
       "|---|---|---|---|---|---|---|---|---|---|\n",
       "| chr1 | 11868 | 14409 | ENSG00000223972 | 0 | 6480000 | TADB1 | 248956422 | 0 | 1014409 |\n",
       "| chr1 | 14404 | 29570 | ENSG00000227232 | 0 | 6480000 | TADB1 | 248956422 | 0 | 1029570 |\n",
       "| chr1 | 17369 | 17436 | ENSG00000278267 | 0 | 6480000 | TADB1 | 248956422 | 0 | 1017436 |\n",
       "| chr1 | 29553 | 31109 | ENSG00000243485 | 0 | 6480000 | TADB1 | 248956422 | 0 | 1031109 |\n",
       "| chr1 | 30365 | 30503 | ENSG00000284332 | 0 | 6480000 | TADB1 | 248956422 | 0 | 1030503 |\n",
       "| chr1 | 34554 | 36081 | ENSG00000237613 | 0 | 6480000 | TADB1 | 248956422 | 0 | 1036081 |\n",
       "\n"
      ],
      "text/plain": [
       "  chr  gene_start gene_end gene_id         start end     index chr_end  \n",
       "1 chr1 11868      14409    ENSG00000223972 0     6480000 TADB1 248956422\n",
       "2 chr1 14404      29570    ENSG00000227232 0     6480000 TADB1 248956422\n",
       "3 chr1 17369      17436    ENSG00000278267 0     6480000 TADB1 248956422\n",
       "4 chr1 29553      31109    ENSG00000243485 0     6480000 TADB1 248956422\n",
       "5 chr1 30365      30503    ENSG00000284332 0     6480000 TADB1 248956422\n",
       "6 chr1 34554      36081    ENSG00000237613 0     6480000 TADB1 248956422\n",
       "  cis_start cis_end\n",
       "1 0         1014409\n",
       "2 0         1029570\n",
       "3 0         1017436\n",
       "4 0         1031109\n",
       "5 0         1030503\n",
       "6 0         1036081"
      ]
     },
     "metadata": {},
     "output_type": "display_data"
    }
   ],
   "source": [
    "cis_TADB %>% head()"
   ]
  },
  {
   "cell_type": "code",
   "execution_count": 61,
   "id": "9db4ac3e-5312-475b-a215-af51157c4521",
   "metadata": {
    "kernel": "SoS",
    "tags": []
   },
   "outputs": [],
   "source": [
    "cis_summary = cis_TADB %>% group_by(index) %>% summarize(min_start = min(cis_start), max_end = max(cis_end))"
   ]
  },
  {
   "cell_type": "code",
   "execution_count": 62,
   "id": "96de8e2e-f0d8-4f64-a0b8-284f30d4ebb9",
   "metadata": {
    "kernel": "SoS",
    "tags": []
   },
   "outputs": [],
   "source": [
    "extend_TADB = left_join(cis_summary, TADB_final, by = \"index\") %>% mutate(new_start = pmin(start, min_start)) %>%\n",
    "    mutate(new_end = pmax(end, max_end)) %>% mutate(length = new_end - new_start) %>%\n",
    "    mutate(old_length = end - start) %>% mutate(length_diff = length - old_length) %>% select(chr, new_start, new_end) %>% \n",
    "    rename(start = new_start, end = new_end) %>% mutate(index = paste0(\"TADB\", row_number()))"
   ]
  },
  {
   "cell_type": "markdown",
   "id": "7f46a09e-667a-434d-a8fe-91209da16511",
   "metadata": {
    "kernel": "SoS"
   },
   "source": [
    "For the extended TADB, one gene can be in multiple extended TADBs, even more than 2, as expected."
   ]
  },
  {
   "cell_type": "code",
   "execution_count": 63,
   "id": "482b220a-c4c9-452d-89b3-89207dcb66cc",
   "metadata": {
    "kernel": "SoS"
   },
   "outputs": [
    {
     "name": "stderr",
     "output_type": "stream",
     "text": [
      "Warning message in left_join(extend_TADB, all_gene, by = \"chr\"):\n",
      "“\u001b[1m\u001b[22mDetected an unexpected many-to-many relationship between `x` and `y`.\n",
      "\u001b[36mℹ\u001b[39m Row 1 of `x` matches multiple rows in `y`.\n",
      "\u001b[36mℹ\u001b[39m Row 1 of `y` matches multiple rows in `x`.\n",
      "\u001b[36mℹ\u001b[39m If a many-to-many relationship is expected, set `relationship =\n",
      "  \"many-to-many\"` to silence this warning.”\n",
      "\u001b[1m\u001b[22mStoring counts in `nn`, as `n` already present in input\n",
      "\u001b[36mℹ\u001b[39m Use `name = \"new_name\"` to pick a new name.\n"
     ]
    },
    {
     "data": {
      "text/html": [
       "<table class=\"dataframe\">\n",
       "<caption>A grouped_df: 5 × 2</caption>\n",
       "<thead>\n",
       "\t<tr><th scope=col>n</th><th scope=col>nn</th></tr>\n",
       "\t<tr><th scope=col>&lt;int&gt;</th><th scope=col>&lt;int&gt;</th></tr>\n",
       "</thead>\n",
       "<tbody>\n",
       "\t<tr><td>1</td><td>12330</td></tr>\n",
       "\t<tr><td>2</td><td>32049</td></tr>\n",
       "\t<tr><td>3</td><td>13938</td></tr>\n",
       "\t<tr><td>4</td><td> 1611</td></tr>\n",
       "\t<tr><td>5</td><td>   89</td></tr>\n",
       "</tbody>\n",
       "</table>\n"
      ],
      "text/latex": [
       "A grouped\\_df: 5 × 2\n",
       "\\begin{tabular}{ll}\n",
       " n & nn\\\\\n",
       " <int> & <int>\\\\\n",
       "\\hline\n",
       "\t 1 & 12330\\\\\n",
       "\t 2 & 32049\\\\\n",
       "\t 3 & 13938\\\\\n",
       "\t 4 &  1611\\\\\n",
       "\t 5 &    89\\\\\n",
       "\\end{tabular}\n"
      ],
      "text/markdown": [
       "\n",
       "A grouped_df: 5 × 2\n",
       "\n",
       "| n &lt;int&gt; | nn &lt;int&gt; |\n",
       "|---|---|\n",
       "| 1 | 12330 |\n",
       "| 2 | 32049 |\n",
       "| 3 | 13938 |\n",
       "| 4 |  1611 |\n",
       "| 5 |    89 |\n",
       "\n"
      ],
      "text/plain": [
       "  n nn   \n",
       "1 1 12330\n",
       "2 2 32049\n",
       "3 3 13938\n",
       "4 4  1611\n",
       "5 5    89"
      ]
     },
     "metadata": {},
     "output_type": "display_data"
    }
   ],
   "source": [
    "left_join(extend_TADB, all_gene, by = \"chr\") %>% filter(gene_start >= start & gene_end <= end) %>% \n",
    "    group_by(gene_id) %>% count() %>% group_by(n) %>% count()"
   ]
  },
  {
   "cell_type": "code",
   "execution_count": 64,
   "id": "879977db-79a6-4951-a942-cc49cf1f85a5",
   "metadata": {
    "kernel": "SoS",
    "tags": []
   },
   "outputs": [
    {
     "data": {
      "text/html": [
       "1381"
      ],
      "text/latex": [
       "1381"
      ],
      "text/markdown": [
       "1381"
      ],
      "text/plain": [
       "[1] 1381"
      ]
     },
     "metadata": {},
     "output_type": "display_data"
    }
   ],
   "source": [
    "nrow(extend_TADB)"
   ]
  },
  {
   "cell_type": "code",
   "execution_count": 65,
   "id": "f7acfddd-a294-4f41-8471-cd63fe3fb8df",
   "metadata": {
    "kernel": "SoS",
    "tags": []
   },
   "outputs": [
    {
     "data": {
      "image/png": "[encoded data removed]",
      "text/plain": [
       "plot without title"
      ]
     },
     "metadata": {
      "image/png": {
       "height": 420,
       "width": 420
      }
     },
     "output_type": "display_data"
    }
   ],
   "source": [
    "# extend_TADB length distribution\n",
    "extend_TADB  %>% \n",
    "    mutate(length = end - start) %>% ggplot(aes(y = length)) + geom_boxplot() +\n",
    "    geom_hline(yintercept = 2000000, color = \"red\")+ theme(axis.text = element_text(size = 20))  "
   ]
  },
  {
   "cell_type": "code",
   "execution_count": 66,
   "id": "22fc670e-780b-432d-9ddf-a6f58104463e",
   "metadata": {
    "kernel": "SoS",
    "tags": []
   },
   "outputs": [],
   "source": [
    "ordered_chr <- c(paste0(\"chr\", as.character(1:22)), \"chrX\")\n",
    "\n",
    "extend_TADB <- extend_TADB %>%\n",
    "  mutate(chr = factor(chr, levels = ordered_chr)) %>%\n",
    "  arrange(chr, start) %>% rename(`#chr` = chr) %>% mutate(index = paste0(\"TADB_\", row_number()))"
   ]
  },
  {
   "cell_type": "code",
   "execution_count": 67,
   "id": "a821587b-c776-42a6-934a-f9f817cf86d5",
   "metadata": {
    "kernel": "SoS",
    "tags": []
   },
   "outputs": [],
   "source": [
    "extend_TADB %>% write_tsv(\"../../reference_data/TAD/extended_TADB.bed\")"
   ]
  },
  {
   "cell_type": "markdown",
   "id": "01bd45bd-cb7a-46c8-9813-cfd1b308124f",
   "metadata": {
    "kernel": "SoS"
   },
   "source": [
    "Compared with TADB-enhanced cis window, extended TADB is longer in length."
   ]
  },
  {
   "cell_type": "markdown",
   "id": "c9caa725-1aa8-4657-91f7-b9a84406f688",
   "metadata": {},
   "source": [
    "## Troubleshooting"
   ]
  },
  {
   "cell_type": "markdown",
   "id": "f9fbfa3c-4250-4eb4-b73f-af89190277f0",
   "metadata": {},
   "source": [
    "| Step | Substep | Problem | Possible Reason | Solution |\n",
    "|------|---------|---------|------------------|---------|\n",
    "|  |  |  |  |  |\n",
    "\n",
    "\n"
   ]
  },
  {
   "cell_type": "code",
   "execution_count": null,
   "id": "410452ec-44e4-42d9-bf71-0cd7efe57737",
   "metadata": {},
   "outputs": [],
   "source": []
  }
 ],
 "metadata": {
  "kernelspec": {
   "display_name": "R",
   "language": "R",
   "name": "ir"
  },
  "language_info": {
   "codemirror_mode": "r",
   "file_extension": ".r",
   "mimetype": "text/x-r-source",
   "name": "R",
   "pygments_lexer": "r",
   "version": "4.3.1"
  },
  "sos": {
   "kernels": [
    [
     "R",
     "ir",
     "R",
     "#DCDCDA",
     ""
    ],
    [
     "SoS",
     "sos",
     "",
     "",
     "sos"
    ]
   ],
   "version": "0.24.1"
  }
 },
 "nbformat": 4,
 "nbformat_minor": 5
}
