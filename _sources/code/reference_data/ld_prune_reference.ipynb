{
 "cells": [
  {
   "cell_type": "markdown",
   "id": "decimal-victoria",
   "metadata": {
    "kernel": "SoS"
   },
   "source": [
    "# Independent list of variants using LD clumping"
   ]
  },
  {
   "cell_type": "markdown",
   "id": "viral-lighting",
   "metadata": {
    "kernel": "SoS"
   },
   "source": [
    "## Description\n",
    "\n",
    "This notebook creates a list of randomly selected variants that are in weak LD with each other, for given reference data-set. This is useful for the downstreams `mashr` analysis where a list of independent variants are used."
   ]
  },
  {
   "cell_type": "markdown",
   "id": "adolescent-birthday",
   "metadata": {},
   "source": [
    "## Input\n",
    "\n",
    "- Reference genotype, in this case, our ROSMAP European ancestry genotype of ~1,000 individuals, `ROSMAP_NIA_WGS.leftnorm.bcftools_qc.plink_qc.bed`\n",
    "- A list of approximately independent LD blocks, which is optional but when it is included, we can parallel the LD clumping to all LD blocks which will speed up the process. This list is available from:  https://github.com/gaow/LDblocks_GRCh38/blob/master/data/deCODE_EUR_LD_blocks.bed (a forked repo created from work described at https://www.biorxiv.org/content/10.1101/2022.03.04.483057v2)\n",
    "\n",
    "## Output\n",
    "\n",
    "- A list of independent variants in `bed.gz` format"
   ]
  },
  {
   "cell_type": "markdown",
   "id": "chief-dietary",
   "metadata": {},
   "source": [
    "## Minimal Working Example Steps\n",
    "\n",
    "### i. Extract genotypes per LD block\n",
    "\n",
    "Using the `genotype_formatting.ipynb` pipeline,\n",
    "\n",
    "**FIXME: this is using the original bed file for blocks, which is a lot cleaner. Please test this**"
   ]
  },
  {
   "cell_type": "code",
   "execution_count": null,
   "id": "circular-failure",
   "metadata": {
    "kernel": "SoS"
   },
   "outputs": [
    {
     "name": "stdout",
     "output_type": "stream",
     "text": [
      "INFO: Running \u001b[32mgenotype_by_region_1\u001b[0m: \n"
     ]
    }
   ],
   "source": [
    "sos run pipeline/genotype_formatting.ipynb genotype_by_region \\\n",
    "    --region-list data/references/deCODE_EUR_LD_blocks.bed \\\n",
    "    --genoFile data/genotype/ROSMAP_NIA_WGS.leftnorm.bcftools_qc.plink_qc.bed \\\n",
    "    --cwd output/geno_by_LDblock \\\n",
    "    --container /mnt/vast/hpc/csg/containers_xqtl/bioinfo.sif \\\n",
    "    --mem 200G -s build"
   ]
  },
  {
   "cell_type": "markdown",
   "id": "potential-music",
   "metadata": {
    "kernel": "SoS"
   },
   "source": [
    "### ii. LD pruning within each LD block\n",
    "\n",
    "We create a small pipeline for the purpose,"
   ]
  },
  {
   "cell_type": "code",
   "execution_count": null,
   "id": "responsible-macintosh",
   "metadata": {},
   "outputs": [],
   "source": [
    "[global]\n",
    "parameter: cwd = path(\"output\")\n",
    "parameter: container = ''\n",
    "import re\n",
    "parameter: entrypoint= ('micromamba run -a \"\" -n' + ' ' + re.sub(r'(_apptainer:latest|_docker:latest|\\.sif)$', '', container.split('/')[-1])) if container else \"\"\n",
    "parameter: job_size = 1\n",
    "parameter: walltime = \"1h\"\n",
    "parameter: mem = \"80G\"\n",
    "parameter: numThreads = 10"
   ]
  },
  {
   "cell_type": "code",
   "execution_count": null,
   "id": "lyric-seeker",
   "metadata": {
    "kernel": "SoS"
   },
   "outputs": [],
   "source": [
    "[LD_pruning_1]\n",
    "parameter: genotype_list = path\n",
    "parameter: window = 50\n",
    "parameter: shift = 10\n",
    "parameter: r2 = 1e-3\n",
    "\n",
    "import pandas as pd\n",
    "geno_path = pd.read_csv(genotype, sep = \"\\t\")\n",
    "input_df = geno_path.values.tolist()\n",
    "input_blocks = [x[0] for x in input_df]\n",
    "input_files = [x[1:] for x in input_df] \n",
    "\n",
    "input: input_files, group_by = 1, group_with = \"input_blocks\"\n",
    "output: prune = f'{cwd}/{step_name[:-2]}/{_input_blocks}.prune.in'\n",
    "task: trunk_workers = 1, trunk_size = job_size, walltime = walltime, mem = mem, cores = numThreads, tags = f'{step_name}_{_output:bn}'\n",
    "bash: container=container, expand= \"${ }\", stderr = f'{_output:n}.stderr', stdout = f'{_output:n}.stdout', entrypoint=entrypoint\n",
    "    plink2 \\\n",
    "        --bfile  ${_input:anr} \\\n",
    "        --indep-pairwise  ${window} ${shift} ${r2} \\\n",
    "        --rm-dup force-first \\\n",
    "        --out ${_output[\"prune\"]:annr} \\\n",
    "        --threads ${numThreads}"
   ]
  },
  {
   "cell_type": "code",
   "execution_count": null,
   "id": "extreme-creation",
   "metadata": {
    "kernel": "SoS"
   },
   "outputs": [],
   "source": [
    "[LD_pruning_2]\n",
    "input: group_by = \"all\"\n",
    "output: f'{cwd}/{step_name[:-2]}/LD_pruned_variants.txt'\n",
    "R: expand= \"${ }\", stderr = f'{_output:n}.stderr', stdout = f'{_output:n}.stdout', container = container, entrypoint = entrypoint\n",
    "    library(data.table)\n",
    "    library(dplyr)\n",
    "    library(stringr)\n",
    "    per_block_variants = c(${_input:ar,})\n",
    "    uncorrelated_variants = as.data.frame(rbindlist(lapply(per_block_variants, fread, header = FALSE)))\n",
    "    random_variants  = str_split(gsub(\"_\",\":\",uncorrelated_variants$V1),\":\",simplify=TRUE)%>%data.frame()%>%\n",
    "                    rename(\"chrom\" = \"X1\",\"pos\" = \"X2\",\"alt\" = \"X3\",\"ref\"=\"X4\")%>%\n",
    "                    mutate(variant_id = paste(chrom, pos, alt, ref, sep = \":\"))\n",
    "    fwrite(random_variants, ${_output:r}, row.names=F,sep=\"\\t\",quote=F)"
   ]
  },
  {
   "cell_type": "code",
   "execution_count": 1,
   "id": "expanded-employee",
   "metadata": {},
   "outputs": [],
   "source": [
    "sos run ld_prune_reference.ipynb LD_pruning \\\n",
    "   --cwd output/ROSMAP_LD_pruned \\"
   ]
  },
  {
   "cell_type": "markdown",
   "id": "indie-skill",
   "metadata": {},
   "source": [
    "**FIXME: please note that I uused LD pruning step 2 to merge them. Please test it. Also you did not show how to actually run this. Please add it above**"
   ]
  },
  {
   "cell_type": "code",
   "execution_count": 6,
   "id": "coordinate-design",
   "metadata": {
    "kernel": "SoS"
   },
   "outputs": [
    {
     "data": {
      "text/html": [
       "<table class=\"dataframe\">\n",
       "<caption>A data.frame: 6 × 5</caption>\n",
       "<thead>\n",
       "\t<tr><th></th><th scope=col>chrom</th><th scope=col>pos</th><th scope=col>alt</th><th scope=col>ref</th><th scope=col>variant_id</th></tr>\n",
       "\t<tr><th></th><th scope=col>&lt;chr&gt;</th><th scope=col>&lt;chr&gt;</th><th scope=col>&lt;chr&gt;</th><th scope=col>&lt;chr&gt;</th><th scope=col>&lt;chr&gt;</th></tr>\n",
       "</thead>\n",
       "<tbody>\n",
       "\t<tr><th scope=row>1</th><td>chr1</td><td>16206</td><td>T</td><td>A</td><td>chr1:16206:T:A</td></tr>\n",
       "\t<tr><th scope=row>2</th><td>chr1</td><td>16433</td><td>C</td><td>G</td><td>chr1:16433:C:G</td></tr>\n",
       "\t<tr><th scope=row>3</th><td>chr1</td><td>16471</td><td>C</td><td>T</td><td>chr1:16471:C:T</td></tr>\n",
       "\t<tr><th scope=row>4</th><td>chr1</td><td>16542</td><td>C</td><td>A</td><td>chr1:16542:C:A</td></tr>\n",
       "\t<tr><th scope=row>5</th><td>chr1</td><td>16570</td><td>C</td><td>T</td><td>chr1:16570:C:T</td></tr>\n",
       "\t<tr><th scope=row>6</th><td>chr1</td><td>16635</td><td>G</td><td>A</td><td>chr1:16635:G:A</td></tr>\n",
       "</tbody>\n",
       "</table>\n"
      ],
      "text/latex": [
       "A data.frame: 6 × 5\n",
       "\\begin{tabular}{r|lllll}\n",
       "  & chrom & pos & alt & ref & variant\\_id\\\\\n",
       "  & <chr> & <chr> & <chr> & <chr> & <chr>\\\\\n",
       "\\hline\n",
       "\t1 & chr1 & 16206 & T & A & chr1:16206:T:A\\\\\n",
       "\t2 & chr1 & 16433 & C & G & chr1:16433:C:G\\\\\n",
       "\t3 & chr1 & 16471 & C & T & chr1:16471:C:T\\\\\n",
       "\t4 & chr1 & 16542 & C & A & chr1:16542:C:A\\\\\n",
       "\t5 & chr1 & 16570 & C & T & chr1:16570:C:T\\\\\n",
       "\t6 & chr1 & 16635 & G & A & chr1:16635:G:A\\\\\n",
       "\\end{tabular}\n"
      ],
      "text/markdown": [
       "\n",
       "A data.frame: 6 × 5\n",
       "\n",
       "| <!--/--> | chrom &lt;chr&gt; | pos &lt;chr&gt; | alt &lt;chr&gt; | ref &lt;chr&gt; | variant_id &lt;chr&gt; |\n",
       "|---|---|---|---|---|---|\n",
       "| 1 | chr1 | 16206 | T | A | chr1:16206:T:A |\n",
       "| 2 | chr1 | 16433 | C | G | chr1:16433:C:G |\n",
       "| 3 | chr1 | 16471 | C | T | chr1:16471:C:T |\n",
       "| 4 | chr1 | 16542 | C | A | chr1:16542:C:A |\n",
       "| 5 | chr1 | 16570 | C | T | chr1:16570:C:T |\n",
       "| 6 | chr1 | 16635 | G | A | chr1:16635:G:A |\n",
       "\n"
      ],
      "text/plain": [
       "  chrom pos   alt ref variant_id    \n",
       "1 chr1  16206 T   A   chr1:16206:T:A\n",
       "2 chr1  16433 C   G   chr1:16433:C:G\n",
       "3 chr1  16471 C   T   chr1:16471:C:T\n",
       "4 chr1  16542 C   A   chr1:16542:C:A\n",
       "5 chr1  16570 C   T   chr1:16570:C:T\n",
       "6 chr1  16635 G   A   chr1:16635:G:A"
      ]
     },
     "metadata": {},
     "output_type": "display_data"
    }
   ],
   "source": [
    "random_variants = data.table::fread(\"LD_pruned_variants.txt\")\n",
    "head(random_variants)"
   ]
  }
 ],
 "metadata": {
  "kernelspec": {
   "display_name": "Bash",
   "language": "bash",
   "name": "bash"
  },
  "language_info": {
   "codemirror_mode": "shell",
   "file_extension": ".sh",
   "mimetype": "text/x-sh",
   "name": "bash"
  },
  "sos": {
   "kernels": [
    [
     "SoS",
     "sos",
     "",
     ""
    ]
   ],
   "version": ""
  }
 },
 "nbformat": 4,
 "nbformat_minor": 5
}
