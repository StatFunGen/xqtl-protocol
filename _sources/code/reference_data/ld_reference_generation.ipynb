{
 "cells": [
  {
   "cell_type": "markdown",
   "id": "cb126695-547f-4992-8282-f51a8ff25a6b",
   "metadata": {
    "kernel": "SoS",
    "tags": []
   },
   "source": [
    "# Generating LD Reference Panel\n"
   ]
  },
  {
   "cell_type": "markdown",
   "id": "bd5cc24a-22bb-4213-903d-1283ce1cfb63",
   "metadata": {
    "kernel": "SoS"
   },
   "source": [
    "## Description"
   ]
  },
  {
   "cell_type": "markdown",
   "id": "2b717342-80d8-4697-9833-f7441d25cefe",
   "metadata": {
    "kernel": "SoS"
   },
   "source": [
    "Our LD reference panel is generated from ADSP GCAD non-Hispanic white samples. Missing variants are mean imputed before correlations are calculated between variants. The cyvcf2 package is used to calculate dosage while applying a minor allele frequency threshold of 0.05%, a minor allele count threshold of 5, and a missingness threshold of 5%."
   ]
  },
  {
   "cell_type": "markdown",
   "id": "f562b81f-02b4-4a9f-be52-74b3ce21d4b1",
   "metadata": {
    "kernel": "SoS"
   },
   "source": [
    "## Input"
   ]
  },
  {
   "cell_type": "markdown",
   "id": "277792a4-92a8-479c-a7c4-0ee2f4be3885",
   "metadata": {
    "kernel": "SoS"
   },
   "source": [
    "* `.vcf.bgz` and `.vcf.bgz.tbi` files. Each file is specific to a chromosome and variant range (ex: `gcad.qc.r4.wgs.36361.GATK.2022.08.15.biallelic.genotypes.chr9:10030-36899727.NHWextracted.MAF01.vcf.bgz`)."
   ]
  },
  {
   "cell_type": "markdown",
   "id": "7925a45a-06aa-42ec-818b-ec0e844d39a3",
   "metadata": {
    "kernel": "SoS"
   },
   "source": [
    "## Output"
   ]
  },
  {
   "cell_type": "markdown",
   "id": "c1382e79-7fa1-46ee-82d3-701d53b57600",
   "metadata": {
    "kernel": "SoS"
   },
   "source": [
    "* `cor.xz` files containing LD pearson product-moment correlation coefficients.\n",
    "* `cor.xz.bim` file containing the list of variants in each `cor.xz` file."
   ]
  },
  {
   "cell_type": "markdown",
   "id": "8f1bf770-c5ed-4af9-8093-867b5df7f4fb",
   "metadata": {
    "kernel": "SoS"
   },
   "source": [
    "## Minimal Working Example Steps"
   ]
  },
  {
   "cell_type": "markdown",
   "id": "13221a80-f5ee-4dbf-a765-7b8376a58bc1",
   "metadata": {
    "kernel": "SoS"
   },
   "source": [
    "We start off by loading all of the requisite libraries\n",
    "\n"
   ]
  },
  {
   "cell_type": "code",
   "execution_count": null,
   "id": "65d3162e-a10b-4275-93a3-240045bc3ffa",
   "metadata": {
    "kernel": "Python3",
    "tags": []
   },
   "outputs": [],
   "source": [
    "from cyvcf2 import VCF\n",
    "import numpy as np\n",
    "from math import nan\n",
    "import argparse\n",
    "import xz\n",
    "from os import listdir"
   ]
  },
  {
   "cell_type": "markdown",
   "id": "b2961d66-5a52-4b10-ba1d-f289a1293dfd",
   "metadata": {
    "kernel": "SoS"
   },
   "source": [
    "There are multiple VCFs per chromosome, so we group them into a Python dictionary.\n",
    "\n"
   ]
  },
  {
   "cell_type": "code",
   "execution_count": null,
   "id": "749b351d-f37a-411b-8439-35dccd445745",
   "metadata": {
    "kernel": "Python3",
    "tags": []
   },
   "outputs": [],
   "source": [
    "# vcf_files for each chromosome\n",
    "vcf_files = {}\n",
    "for chrm in range(1, 22 + 1):\n",
    "    base = \"/restricted/projectnb/xqtl/R4_QC_NHWonly_rm_monomorphic/\"\n",
    "    file_start = \"gcad.qc.r4.wgs.36361.GATK.2022.08.15.biallelic.genotypes.\"\n",
    "    vcf_files[\"chr%i\" % chrm] = [x for x in listdir(base) if \n",
    "                                 (x.endswith(\".bgz\")) and (x.startswith(file_start + \"chr\" + str(chrm) + \":\") or\n",
    "                                                           x.startswith(file_start + \"chr\" + str(chrm) + \".\"))]"
   ]
  },
  {
   "cell_type": "markdown",
   "id": "b8a43cd8-e740-4264-8b9b-2af82c8bee74",
   "metadata": {
    "kernel": "SoS"
   },
   "source": [
    "When calculating the correlations between different variants we do mean imputation of the missing variants\n",
    "\n"
   ]
  },
  {
   "cell_type": "code",
   "execution_count": null,
   "id": "95582ebf-c592-4709-90f7-92e10c0ab8f0",
   "metadata": {
    "kernel": "Python3",
    "tags": []
   },
   "outputs": [],
   "source": [
    "# replaces NaN values in matrix with means of their rows\n",
    "def fill_missing_with_row_means(data):\n",
    "    # Calculate means of rows ignoring NaNs\n",
    "    row_means = np.nanmean(data, axis=1)\n",
    "    # Find indices where NaN values are\n",
    "    inds = np.where(np.isnan(data))\n",
    "    # Replace NaNs with the mean of the respective row\n",
    "    data[inds] = np.take(row_means, inds[0])\n",
    "    return data"
   ]
  },
  {
   "cell_type": "markdown",
   "id": "0e5ea7a1-d5b2-41d9-9402-b96470d440be",
   "metadata": {
    "kernel": "SoS"
   },
   "source": [
    "Dosages are then calculated using the cyvcf2 package. We use a minor allele frequency threshold of 0.05%, minor allele count threshold of 5, and a missingness threshold of 5% to filter variants\n",
    "\n"
   ]
  },
  {
   "cell_type": "code",
   "execution_count": null,
   "id": "4161e578-bb88-44e0-95b8-2cb089ec932f",
   "metadata": {
    "kernel": "Python3",
    "tags": []
   },
   "outputs": [],
   "source": [
    "# gets dosages (which pass filter criteria) from VCF file object\n",
    "def get_dosages(vcf_obj, maf_min=0.0005, mac_min=5, msng_min=0.05):\n",
    "    arr = []\n",
    "    var_names = []\n",
    "    for var in vcf_obj:\n",
    "        # do not include multi-allelic variants\n",
    "        if len(var.ALT) != 1:\n",
    "            continue\n",
    "        dosage = [sum(x[0:2]) for x in [[nan if x1 == -1 else x1 for x1 in x0] for x0 in var.genotypes]]\n",
    "        # ignore if no variation exists\n",
    "        if np.nanvar(dosage) == 0:\n",
    "            continue\n",
    "        # returns allele counts for the reference (first val) and alternative\n",
    "        # (second val) alleles\n",
    "        counts = [np.nansum([2 - x for x in dosage]), np.nansum(dosage)]\n",
    "        nan_count = np.sum(np.isnan(dosage))\n",
    "        num_samp_non_na = len(dosage) - nan_count\n",
    "        mac = min(counts)\n",
    "        maf = mac / num_samp_non_na\n",
    "        msng_rate = nan_count / (num_samp_non_na + nan_count)\n",
    "        # remove variants which don't match our criteria\n",
    "        if (maf < maf_min) or (mac < mac_min) or (msng_rate > msng_min):\n",
    "            continue\n",
    "        arr.append(dosage)\n",
    "        var_names.append(var.CHROM + \":\" + \"_\".join([str(var.POS), var.REF, var.ALT[0]]))\n",
    "\n",
    "    if len(var_names) != 0:\n",
    "        return fill_missing_with_row_means(np.array(arr)), var_names\n",
    "    # return empty (but 2D) array for empty values\n",
    "    else:\n",
    "        return np.array([[]]), var_names"
   ]
  },
  {
   "cell_type": "markdown",
   "id": "b1bb89df-b6c1-4c77-9bb4-b70019c72e92",
   "metadata": {
    "kernel": "SoS"
   },
   "source": [
    "We then create a function to get the dosages from a specific range (which is useful for the LD blocks)\n",
    "\n"
   ]
  },
  {
   "cell_type": "code",
   "execution_count": null,
   "id": "9dd9a702-00b9-4f94-9ef4-e694e516958c",
   "metadata": {
    "kernel": "Python3",
    "tags": []
   },
   "outputs": [],
   "source": [
    "# returns output of dosages on a per LD block basis\n",
    "def get_dosages_range(vcf_obj, chrm, start, end):\n",
    "    vcf_qry_str = chrm + \":\" + str(start) + \"-\" + str(end)\n",
    "    return get_dosages(vcf_obj(vcf_qry_str))\n",
    "\n",
    "\n",
    "def flatten(xss):\n",
    "    return [x for xs in xss for x in xs]"
   ]
  },
  {
   "cell_type": "markdown",
   "id": "7317ebe9-823a-49c9-9c6e-c26063b6326d",
   "metadata": {
    "kernel": "SoS"
   },
   "source": [
    "We then load the LD block locations into memory\n",
    "\n"
   ]
  },
  {
   "cell_type": "code",
   "execution_count": 2,
   "id": "f6683e7f-a82b-4dee-8d66-d91f835ef999",
   "metadata": {
    "kernel": "Bash",
    "tags": []
   },
   "outputs": [
    {
     "name": "stdout",
     "output_type": "stream",
     "text": [
      "chr1 \t 16103 \t 2888443\n",
      "chr1 \t 2888443 \t 4320284\n",
      "chr1 \t 4320284 \t 5853833\n",
      "chr1 \t 5853833 \t 7110219\n",
      "chr1 \t 7110219 \t 9473386\n",
      "chr1 \t 9473386 \t 11328222\n",
      "chr1 \t 11328222 \t 12710318\n",
      "chr1 \t 12710318 \t 15244493\n",
      "chr1 \t 15244493 \t 17351816\n",
      "chr1 \t 17351816 \t 20110062\n"
     ]
    }
   ],
   "source": [
    "!head /restricted/projectnb/casa/oaolayin/ROSMAP_NIA_geno/EUR_LD_blocks.bed \n"
   ]
  },
  {
   "cell_type": "code",
   "execution_count": null,
   "id": "7d9f41ba-1d6d-40d8-9a33-40257646a2fa",
   "metadata": {
    "kernel": "Python3",
    "tags": []
   },
   "outputs": [],
   "source": [
    "ld_block_file = \"/restricted/projectnb/casa/oaolayin/ROSMAP_NIA_geno/EUR_LD_blocks.bed\"\n",
    "ld_blocks = []\n",
    "with open(ld_block_file) as f:\n",
    "    for line in f:\n",
    "        elems = line.split()\n",
    "        elems[-1] = elems[-1].strip()\n",
    "        ld_blocks.append(elems)"
   ]
  },
  {
   "cell_type": "markdown",
   "id": "59a7ee89-6934-4c17-a743-f7b536a7f983",
   "metadata": {
    "kernel": "SoS"
   },
   "source": [
    "We now calculate the correlation matrices for each of the blocks\n",
    "\n"
   ]
  },
  {
   "cell_type": "code",
   "execution_count": null,
   "id": "4dfd4c46-a5b9-45a0-812f-af2fd73fc292",
   "metadata": {
    "kernel": "Python3",
    "tags": []
   },
   "outputs": [],
   "source": [
    "for block in ld_blocks:\n",
    "    chrm, start, end = block\n",
    "    out = \"/restricted/projectnb/xqtl/R4_cor_out/%s/%s_%s_%s.cor.xz\" % (chrm, chrm, start, end)\n",
    "    # aggregate dosages from different files\n",
    "    dosages = [get_dosages_range(VCF(v), chrm, start, end) for v\n",
    "               in vcf_files[chrm]]\n",
    "    # get the variants\n",
    "    variants = flatten([x[1] for x in dosages])\n",
    "    dosage = np.concatenate([x[0] for x in dosages if len(x[1]) > 0], axis=0)\n",
    "    dosages = None\n",
    "    # get the cor\n",
    "    cor = np.triu(np.corrcoef(dosage))\n",
    "    dosage = None\n",
    "    # write output files\n",
    "    with open(out + \".bim\", \"w+\") as f:\n",
    "        for var in variants:\n",
    "            chrm = var.split(\":\")[0]\n",
    "            pos, ref, alt = var.replace(chrm + \":\", \"\").split(\"_\")\n",
    "            elems = [chrm.replace(\"chr\", \"\"), var, \"0\", pos, alt.strip(), ref]\n",
    "            f.write(\"\\t\".join(elems))\n",
    "            f.write(\"\\n\")\n",
    "    with xz.open(out, \"w+\", preset=9) as f:\n",
    "        for r in range(cor.shape[0]):\n",
    "            f.write(\" \".join([\"{:.6f}\".format(x) for x in cor[r, :]]).encode())\n",
    "            f.write(b\"\\n\")"
   ]
  },
  {
   "cell_type": "markdown",
   "id": "e9827992-93a7-4d5a-920f-f37d62c8f1fc",
   "metadata": {
    "kernel": "Python3"
   },
   "source": [
    "Finally, the following R function can help generate meta-data table for all the files produced,"
   ]
  },
  {
   "cell_type": "code",
   "execution_count": null,
   "id": "d45dbc2b-4cbf-4221-a752-d18864f207c0",
   "metadata": {
    "kernel": "R",
    "tags": []
   },
   "outputs": [],
   "source": [
    "generate_ld_meta_file = function(ld_meta_file_path){\n",
    "    ld_meta_file <- list.files(ld_meta_file_path, pattern = \"\\\\.bim$\") %>%\n",
    "    data.frame(path = .) %>%\n",
    "    mutate(\n",
    "      chrom = str_extract(path, \"^[^_]+\"),\n",
    "      start_end = str_extract(path, \"_[0-9]+_[0-9]+\"),\n",
    "      start = as.numeric(str_extract(start_end, \"[0-9]+\")),\n",
    "      end = as.numeric(str_extract(start_end, \"[0-9]+$\")),\n",
    "      path = paste0(ld_meta_data, chrom, \"_\", start, \"_\", end, \".cor.xz\", \n",
    "                  \",\", ld_meta_data, chrom, \"_\", start, \"_\", end, \".cor.xz.bim\")\n",
    "    )%>%select(chrom,start,end,path)\n",
    "    return(ld_meta_file)\n",
    "}\n",
    "ld_meta_file_path = \"ADSP_LD_matrix/\"\n",
    "ld_meta_file = generate_ld_meta_file (ld_meta_file_path)"
   ]
  },
  {
   "cell_type": "markdown",
   "id": "782c1ea1-7a6f-454d-84ad-832988f19935",
   "metadata": {
    "kernel": "SoS"
   },
   "source": [
    "## Troubleshooting"
   ]
  },
  {
   "cell_type": "markdown",
   "id": "75a022bc-523a-457b-accd-56dd58b15c17",
   "metadata": {
    "kernel": "SoS"
   },
   "source": [
    "| Step | Substep | Problem | Possible Reason | Solution |\n",
    "|------|---------|---------|------------------|---------|\n",
    "|  |  |  |  |  |\n",
    "\n",
    "\n"
   ]
  },
  {
   "cell_type": "code",
   "execution_count": null,
   "id": "5c403134-4576-4668-9e56-06f74156c0e4",
   "metadata": {
    "kernel": "SoS"
   },
   "outputs": [],
   "source": []
  }
 ],
 "metadata": {
  "kernelspec": {
   "display_name": "SoS",
   "language": "sos",
   "name": "sos"
  },
  "language_info": {
   "codemirror_mode": "sos",
   "file_extension": ".sos",
   "mimetype": "text/x-sos",
   "name": "sos",
   "nbconvert_exporter": "sos_notebook.converter.SoS_Exporter",
   "pygments_lexer": "sos"
  },
  "sos": {
   "kernels": [
    [
     "Bash",
     "calysto_bash",
     "Bash",
     "#E6EEFF",
     ""
    ],
    [
     "Python3",
     "python3",
     "Python3",
     "#FFD91A",
     ""
    ],
    [
     "R",
     "ir",
     "R",
     "#DCDCDA",
     ""
    ],
    [
     "SoS",
     "sos",
     "",
     "",
     "sos"
    ]
   ],
   "version": "0.24.3"
  }
 },
 "nbformat": 4,
 "nbformat_minor": 5
}
