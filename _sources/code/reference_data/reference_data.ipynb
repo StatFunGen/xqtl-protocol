{
 "cells": [
  {
   "cell_type": "markdown",
   "id": "rapid-chrome",
   "metadata": {
    "kernel": "SoS",
    "tags": []
   },
   "source": [
    "# Reference Data\n",
    "\n"
   ]
  },
  {
   "cell_type": "markdown",
   "id": "a8af4fcc-8d11-43ed-b3e9-be6ff6f81d9a",
   "metadata": {
    "kernel": "SoS"
   },
   "source": [
    "#### Miniprotocol Timing\n",
    "\n",
    "Timing ~4 hours"
   ]
  },
  {
   "cell_type": "markdown",
   "id": "c8cf2354-0f55-40b3-b523-dc99dc52d7db",
   "metadata": {
    "kernel": "SoS"
   },
   "source": [
    "## Overview"
   ]
  },
  {
   "cell_type": "markdown",
   "id": "947c7b8e-3e1c-4926-b6e3-e8799120fd2d",
   "metadata": {
    "kernel": "SoS"
   },
   "source": [
    "This miniprotocol shows the use of various modules to download, index and preprocess reference data for use throughout the pipeline. The modules are as follows:\n",
    "1. `reference_data_preparation.ipynb` (steps i-viii): Download and format reference files\n",
    "2. `generalized_TADB.ipynb` (step ix): generate topologically associated domain files and their boundaries\n",
    "3. `notebook_for_LD_block_reference_panel.ipynb`  (step x): production of LD blocks and reference panel "
   ]
  },
  {
   "cell_type": "markdown",
   "id": "560eb086-9512-41c2-9711-533bd7a66a2c",
   "metadata": {
    "kernel": "SoS"
   },
   "source": [
    "## Steps"
   ]
  },
  {
   "cell_type": "markdown",
   "id": "51673971-efd7-4285-a54b-d247b92f909f",
   "metadata": {
    "kernel": "SoS"
   },
   "source": [
    "### i. Download Reference Data"
   ]
  },
  {
   "cell_type": "code",
   "execution_count": null,
   "id": "479bd8d6-c859-4975-9091-b07a9cf347e6",
   "metadata": {
    "kernel": "SoS"
   },
   "outputs": [],
   "source": [
    "sos run reference_data.ipynb download_hg_reference --cwd ../reference_data\n",
    "sos run reference_data.ipynb download_gene_annotation --cwd ../reference_data\n",
    "sos run reference_data.ipynb download_ercc_reference --cwd ../reference_data\n",
    "sos run reference_data.ipynb download_dbsnp --cwd ../reference_data"
   ]
  },
  {
   "cell_type": "markdown",
   "id": "0e9cfad3-975a-45a6-9276-6b1ccba4fe80",
   "metadata": {
    "kernel": "SoS"
   },
   "source": [
    "### ii. Format Reference Data"
   ]
  },
  {
   "cell_type": "code",
   "execution_count": null,
   "id": "344951ba-8511-4a99-95b6-3dfa0de20468",
   "metadata": {
    "kernel": "SoS"
   },
   "outputs": [],
   "source": [
    "sos run reference_data.ipynb hg_reference \\\n",
    "    --cwd ../reference_data \\\n",
    "    --ercc-reference ../reference_data/ERCC92.fa \\\n",
    "    --hg-reference ../reference_data/GRCh38_full_analysis_set_plus_decoy_hla.fa \\\n",
    "    --container oras://ghcr.io/cumc/rna_quantification_apptainer:latest "
   ]
  },
  {
   "cell_type": "markdown",
   "id": "830d917f-8750-4e43-89f5-7c325cf3ae6f",
   "metadata": {
    "kernel": "SoS"
   },
   "source": [
    "### iii. Format Gene Feature Data"
   ]
  },
  {
   "cell_type": "code",
   "execution_count": null,
   "id": "f966c6e6-5d8f-4eca-923a-f31bab29b07c",
   "metadata": {
    "kernel": "SoS"
   },
   "outputs": [],
   "source": [
    "sos run reference_data.ipynb gene_annotation \\\n",
    "    --cwd ../reference_data \\\n",
    "    --ercc-gtf ../reference_data/ERCC92.gtf \\\n",
    "    --hg-gtf ../reference_data/Homo_sapiens.GRCh38.103.chr.gtf \\\n",
    "    --hg-reference ../reference_data/GRCh38_full_analysis_set_plus_decoy_hla.noALT_noHLA_noDecoy.fasta \\\n",
    "    --stranded \\\n",
    "    --container oras://ghcr.io/cumc/rna_quantification_apptainer:latest "
   ]
  },
  {
   "cell_type": "markdown",
   "id": "51e816cd-55e7-49ca-ab5e-253f4e2f5344",
   "metadata": {
    "kernel": "SoS"
   },
   "source": [
    "### iv. Generate STAR Index"
   ]
  },
  {
   "cell_type": "code",
   "execution_count": null,
   "id": "68d2acac-eb93-4ccb-9ab5-30d8de89f58c",
   "metadata": {
    "kernel": "SoS"
   },
   "outputs": [],
   "source": [
    "sos run reference_data.ipynb STAR_index \\\n",
    "    --cwd ../reference_data \\\n",
    "    --hg-reference ../reference_data/GRCh38_full_analysis_set_plus_decoy_hla.noALT_noHLA_noDecoy_ERCC.fasta \\\n",
    "    --container oras://ghcr.io/cumc/rna_quantification_apptainer:latest "
   ]
  },
  {
   "cell_type": "markdown",
   "id": "d89f61bc-ee62-44b6-9822-99e9d6381dcc",
   "metadata": {
    "kernel": "SoS"
   },
   "source": [
    "### v. Generate RSEM Index"
   ]
  },
  {
   "cell_type": "code",
   "execution_count": null,
   "id": "2a3cd694-7599-4149-9699-435d7cd909e7",
   "metadata": {
    "kernel": "SoS"
   },
   "outputs": [],
   "source": [
    "sos run reference_data.ipynb RSEM_index \\\n",
    "    --cwd ../reference_data \\\n",
    "    --hg-reference ../reference_data/GRCh38_full_analysis_set_plus_decoy_hla.noALT_noHLA_noDecoy_ERCC.fasta \\\n",
    "    --hg-gtf ../reference_data/Homo_sapiens.GRCh38.103.chr.reformatted.ERCC.gtf \\\n",
    "    --container oras://ghcr.io/cumc/rna_quantification_apptainer:latest "
   ]
  },
  {
   "cell_type": "markdown",
   "id": "01282c14-b56e-4988-98b5-d7a075c11b28",
   "metadata": {
    "kernel": "SoS"
   },
   "source": [
    "### vi. Generate RefFlat Annotation for Picard"
   ]
  },
  {
   "cell_type": "code",
   "execution_count": null,
   "id": "41315cf0-5b2d-4945-8bc3-c7089178e9ca",
   "metadata": {
    "kernel": "SoS"
   },
   "outputs": [],
   "source": [
    "sos run reference_data.ipynb RefFlat_generation \\\n",
    "    --cwd ../reference_data \\\n",
    "    --hg-gtf ../reference_data/Homo_sapiens.GRCh38.103.chr.reformatted.ERCC.gtf \\\n",
    "    --container oras://ghcr.io/cumc/rna_quantification_apptainer:latest "
   ]
  },
  {
   "cell_type": "markdown",
   "id": "74176fe9-5612-44db-871e-6359393551c8",
   "metadata": {
    "kernel": "SoS"
   },
   "source": [
    "### vii. Generate SUPPA Annotation for Psichomics"
   ]
  },
  {
   "cell_type": "code",
   "execution_count": null,
   "id": "289ab4df-13bf-4aff-90fe-3a5df7598a23",
   "metadata": {
    "kernel": "SoS"
   },
   "outputs": [],
   "source": [
    "sos run reference_data.ipynb SUPPA_annotation \\\n",
    "    --cwd ../reference_data \\\n",
    "    --hg_gtf ../reference_data/Homo_sapiens.GRCh38.103.chr.reformatted.ERCC.gtf \\\n",
    "    --container oras://ghcr.io/cumc/psichomics_apptainer:latest "
   ]
  },
  {
   "cell_type": "markdown",
   "id": "9518169b-488a-4c76-9850-303724d4d47e",
   "metadata": {
    "kernel": "SoS"
   },
   "source": [
    "### viii. Extract rsIDs for known variants"
   ]
  },
  {
   "cell_type": "code",
   "execution_count": null,
   "id": "687451e1-0d5c-4de9-abb3-3514e47154e2",
   "metadata": {
    "kernel": "SoS"
   },
   "outputs": [],
   "source": [
    "sos run VCF_QC.ipynb dbsnp_annotate \\\n",
    "    --genoFile ../reference_data/00-All.vcf.gz \\\n",
    "    --cwd ../reference_data \\\n",
    "    --container oras://ghcr.io/cumc/bioinfo_apptainer:latest "
   ]
  },
  {
   "cell_type": "markdown",
   "id": "098491d4-ccce-438a-8b85-1f7b7763f816",
   "metadata": {
    "kernel": "SoS"
   },
   "source": [
    "### ix. Generation of topologically associated domains and their boundaries "
   ]
  },
  {
   "cell_type": "code",
   "execution_count": null,
   "id": "0f625dba-8b9b-4710-b45b-6e1db6678cd7",
   "metadata": {
    "kernel": "SoS"
   },
   "outputs": [],
   "source": [
    "# interactive notebook\n",
    "generalized_TAD.ipynb"
   ]
  },
  {
   "cell_type": "markdown",
   "id": "ec07dd2b-b08b-484e-9b05-87e647845dbe",
   "metadata": {
    "kernel": "SoS"
   },
   "source": [
    "### x. production of LD blocks and reference panel\n",
    "FIXME"
   ]
  },
  {
   "cell_type": "code",
   "execution_count": null,
   "id": "62a84b2a-2ace-481c-8634-c1b9b74a4bca",
   "metadata": {
    "kernel": "SoS"
   },
   "outputs": [],
   "source": []
  },
  {
   "cell_type": "markdown",
   "id": "22ffe532-08a7-4691-b254-c38bf6089840",
   "metadata": {
    "kernel": "SoS"
   },
   "source": [
    "## Anticipated Results"
   ]
  },
  {
   "cell_type": "markdown",
   "id": "8fe632bf-1efa-418d-a9c3-1d30d062b095",
   "metadata": {
    "kernel": "SoS"
   },
   "source": [
    "Our pipeline uses the following reference data for RNA-seq expression quantification:\n",
    "\n",
    "1. `GRCh38_full_analysis_set_plus_decoy_hla.noALT_noHLA_noDecoy_ERCC.{dict,fasta,fasta.fai}`\n",
    "2. `Homo_sapiens.GRCh38.103.chr.reformatted.collapse_only.gene.ERCC.gtf` for stranded protocol, and `Homo_sapiens.GRCh38.103.chr.reformatted.gene.ERCC.gtf` for unstranded protocol.\n",
    "3. Everything under `STAR_Index` folder\n",
    "4. Everything under `RSEM_Index` folder\n",
    "5. Optionally, for quality control, `gtf_ref.flat`\n",
    "\n",
    "The following reference files are used for methylation:\n",
    "\n",
    "1. To be added by Alexandre\n",
    "\n",
    "The following reference files are used for alternative splicing:\n",
    "\n",
    "1. `Homo_sapiens.GRCh38.103.chr.reformatted.ERCC.SUPPA_annotation.rds` for psichomics.\n",
    "\n",
    "The following reference files are used for topologically associated domain and boundary files:\n",
    "1. `generalized_TAD.tsv`\n",
    "2. `generalized_TADB.tsv`\n",
    "3. `TADB_enhanced_cis.bed`\n",
    "4. `extended_TADB.bed`"
   ]
  },
  {
   "cell_type": "code",
   "execution_count": null,
   "id": "e4a638e8-c50e-4303-8d06-50e10c7940c7",
   "metadata": {},
   "outputs": [],
   "source": []
  }
 ],
 "metadata": {
  "kernelspec": {
   "display_name": "SoS",
   "language": "sos",
   "name": "sos"
  },
  "language_info": {
   "codemirror_mode": "sos",
   "file_extension": ".sos",
   "mimetype": "text/x-sos",
   "name": "sos",
   "nbconvert_exporter": "sos_notebook.converter.SoS_Exporter",
   "pygments_lexer": "sos"
  },
  "sos": {
   "kernels": [
    [
     "Bash",
     "bash",
     "Bash",
     "#E6EEFF",
     "shell"
    ],
    [
     "SoS",
     "sos",
     "",
     "",
     "sos"
    ]
   ],
   "version": "0.22.4"
  }
 },
 "nbformat": 4,
 "nbformat_minor": 5
}
