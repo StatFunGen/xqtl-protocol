{
 "cells": [
  {
   "cell_type": "markdown",
   "id": "5cf8e54a-dcb4-4fbe-b09e-1b4b30bd2ef9",
   "metadata": {},
   "source": [
    "#  Mixture Multivariate Distribution Estimate\n",
    "\n"
   ]
  },
  {
   "cell_type": "markdown",
   "id": "972d6a5b-6bff-4ff8-94b9-ec348116e4c6",
   "metadata": {},
   "source": [
    "The following performs computes a prior independent of the specific analysis method chosen for the data. This foundational step enables the application of various techniques, such as UDR, ED, TED, and initialization with FLASHier, among others. The goal here is to establish a mixture model to extract meaningful signals from the data.\n",
    "\n",
    "An earlier version of the approach is outlined in Urbut et al 2019. This workflow implements a few improvements including using additional EBMF methods as well as the new udr (Ultimate deconvolution in R) package to fit the mixture model.\n",
    "\n",
    "After priors are calculated, the model is fit and posteriors are calculated for variables of interest, with the objective being conducting a multivariate analysis under the MASH model. The Multivariate adaptive shrinkage (MASH) analysis has improved upon the Urbut et al 2019 paper. "
   ]
  },
  {
   "cell_type": "markdown",
   "id": "2cd28b57-4189-4106-b4b2-da76573ea22d",
   "metadata": {},
   "source": [
    "Input:\n",
    "    \n",
    "`--data`: rds file. For example, `str(mwe.rds)`:\n",
    "```\n",
    "List of 10\n",
    " $ random.z: num [1:184, 1:6] 1.527 -0.282 0.365 -1.5 0.548 ...\n",
    "  ..- attr(*, \"dimnames\")=List of 2\n",
    "  .. ..$ : NULL\n",
    "  .. ..$ : chr [1:6] \"Ast\" \"Exc\" \"Inh\" \"Mic\" ...\n",
    " $ strong.z: num [1:46, 1:6] -0.47 1.601 -1.351 -0.298 1.114 ...\n",
    "  ..- attr(*, \"dimnames\")=List of 2\n",
    "  .. ..$ : NULL\n",
    "  .. ..$ : chr [1:6] \"Ast\" \"Exc\" \"Inh\" \"Mic\" ...\n",
    " $ null.z  : num [1:184, 1:6] -0.0966 -0.5293 0.854 -0.5985 -0.0601 ...\n",
    "  ..- attr(*, \"dimnames\")=List of 2\n",
    "  .. ..$ : NULL\n",
    "  .. ..$ : chr [1:6] \"Ast\" \"Exc\" \"Inh\" \"Mic\" ...\n",
    " $ random.b: num [1:184, 1:6] 0.1161 -0.0232 0.0248 -0.1286 0.0417 ...\n",
    "  ..- attr(*, \"dimnames\")=List of 2\n",
    "  .. ..$ : NULL\n",
    "  .. ..$ : chr [1:6] \"Ast\" \"Exc\" \"Inh\" \"Mic\" ...\n",
    " $ strong.b: num [1:46, 1:6] -0.0788 0.0824 -0.0904 -0.0548 0.1429 ...\n",
    "  ..- attr(*, \"dimnames\")=List of 2\n",
    "  .. ..$ : NULL\n",
    "  .. ..$ : chr [1:6] \"Ast\" \"Exc\" \"Inh\" \"Mic\" ...\n",
    " $ null.b  : num [1:184, 1:6] -0.01337 -0.0818 0.09428 -0.04075 -0.00255 ...\n",
    "  ..- attr(*, \"dimnames\")=List of 2\n",
    "  .. ..$ : NULL\n",
    "  .. ..$ : chr [1:6] \"Ast\" \"Exc\" \"Inh\" \"Mic\" ...\n",
    " $ null.s  : num [1:184, 1:6] 0.1384 0.1545 0.1104 0.0681 0.0424 ...\n",
    "  ..- attr(*, \"dimnames\")=List of 2\n",
    "  .. ..$ : NULL\n",
    "  .. ..$ : chr [1:6] \"Ast\" \"Exc\" \"Inh\" \"Mic\" ...\n",
    " $ random.s: num [1:184, 1:6] 0.076 0.0822 0.068 0.0857 0.0762 ...\n",
    "  ..- attr(*, \"dimnames\")=List of 2\n",
    "  .. ..$ : NULL\n",
    "  .. ..$ : chr [1:6] \"Ast\" \"Exc\" \"Inh\" \"Mic\" ...\n",
    " $ strong.s: num [1:46, 1:6] 0.1676 0.0515 0.0669 0.1837 0.1283 ...\n",
    "  ..- attr(*, \"dimnames\")=List of 2\n",
    "  .. ..$ : NULL\n",
    "  .. ..$ : chr [1:6] \"Ast\" \"Exc\" \"Inh\" \"Mic\" ...\n",
    " $ XtX     : num [1:6, 1:6] 577.7 196.9 165.4 22.5 313.8 ...\n",
    "  ..- attr(*, \"dimnames\")=List of 2\n",
    "  .. ..$ : chr [1:6] \"Ast\" \"Exc\" \"Inh\" \"Mic\" ...\n",
    "  .. ..$ : chr [1:6] \"Ast\" \"Exc\" \"Inh\" \"Mic\" ...\n",
    "```\n",
    "\n",
    "\n",
    "`--vhat`: \"identity\", \"simple\", \"mle\", \"vhat_corshrink_xcondition\", or \"vhat_simple_specific\"\n",
    "\n",
    "`--cwd`: output path  \n",
    "\n",
    "`--vhat-data`: for mash_fit.ipynb mash, vhat data in an rds file from the mixture_prior.ipynb step\n",
    "\n",
    "`--prior-data`: for mash_fit.ipynb mash, prior data in an rds file from the mixture_prior.ipynb step\n",
    "\n",
    "`--compute-posterior`: for mash_fit.ipynb mash, if the posterior probability should be calculated"
   ]
  },
  {
   "cell_type": "markdown",
   "id": "b2e4959a-e388-42fb-962e-55147556607b",
   "metadata": {},
   "source": [
    "## Overview"
   ]
  },
  {
   "cell_type": "markdown",
   "id": "0f88124c-0b54-427d-87ed-98b6425e71be",
   "metadata": {},
   "source": [
    "1. Compute MASH prior\n",
    "2. MASH fit\n",
    "3. Generate Plots"
   ]
  },
  {
   "cell_type": "markdown",
   "id": "247014fe-47f8-461b-9fc0-2810ea182668",
   "metadata": {},
   "source": [
    "## Steps"
   ]
  },
  {
   "cell_type": "markdown",
   "id": "43ffff78-a679-46b0-a63e-31d6274169ba",
   "metadata": {},
   "source": [
    "### i. Compute MASH prior"
   ]
  },
  {
   "cell_type": "markdown",
   "id": "f0de0fd7-6a30-412d-85f4-83c506586707",
   "metadata": {},
   "source": [
    "```\n",
    "sos run $PATH/mixture_prior.ipynb ed_bovy \\\n",
    "    --output_prefix MWE_ed_bovy \\\n",
    "    --data $PATH/MWE.rds \\\n",
    "    --cwd $PATH/output/ --vhat mle\n",
    "```"
   ]
  },
  {
   "cell_type": "markdown",
   "id": "4a37b2e7-0b23-47b4-9259-2484db6ee215",
   "metadata": {},
   "source": [
    "### ii. MASH fit"
   ]
  },
  {
   "cell_type": "markdown",
   "id": "4a985093-7c6e-4fbb-9726-3123acdb71c3",
   "metadata": {},
   "source": [
    "```\n",
    "sos run $PATH/mash_fit.ipynb mash \\\n",
    "    --output-prefix MWE_ed_bovy_posterior \\\n",
    "    --data $PATH/MWE.rds \\\n",
    "    --vhat-data $PATH/MWE_ed_bovy.EZ.V_simple.rds \\\n",
    "    --prior-data $PATH/MWE_ed_bovy.EZ.prior.rds \\\n",
    "    --compute-posterior \\\n",
    "    --cwd $PATH/output/ \\\n",
    "```"
   ]
  },
  {
   "cell_type": "markdown",
   "id": "66e67362-3203-4b72-8632-399b6fdcc60c",
   "metadata": {},
   "source": [
    "### iii. Generate Plots"
   ]
  },
  {
   "cell_type": "markdown",
   "id": "99f5d554-5877-466a-ac25-afff53a9cfbe",
   "metadata": {},
   "source": [
    "```\n",
    "sos run $PATH/mixture_prior.ipynb plot_U \\\n",
    "    --output-prefix protocol_example.mixture_plots  \\\n",
    "    --data $PATH/MWE_ed_bovy.EZ.prior.rds \\\n",
    "    --cwd $PATH/output/ \\\n",
    "```"
   ]
  },
  {
   "cell_type": "markdown",
   "id": "aa1271d0-a5f9-42fb-8993-4d52150e2131",
   "metadata": {},
   "source": [
    "## Anticipated Results"
   ]
  },
  {
   "cell_type": "markdown",
   "id": "7c4d9fe8-f897-4b36-b804-74d4c7ce784d",
   "metadata": {},
   "source": [
    "i. Compute MASH prior  \n",
    "`MWE_ed_bovy.EZ.prior.rds`: rds file containing U, w and loglik.\n",
    "\n",
    "`MWE_ed_bovy.EZ.V_simple.rds`: an NxN matrix \n",
    "\n",
    "`MWE_ed_bovy.canonical.rds`: rds file containing multiple NxN matrices\n",
    "\n",
    "`MWE_ed_bovy.flash.model.rds`: rds file containing a model and factors\n",
    "\n",
    "`MWE_ed_bovy.flash.rds`: rds file containing three matrices:\n",
    " 1. `tFLASH_default`\n",
    " 2. `FLASH_default_1`\n",
    " 3. `FLASH_default_2`\n",
    "\n",
    "`MWE_ed_bovy.flash_nonneg.model.rds`: rds file containing a model and factors\n",
    "\n",
    "`MWE_ed_bovy.flash_nonneg.rds`: rds file containing three matrices:\n",
    " 1. `tFLASH_nonneg`\n",
    " 2. `FLASH_nonneg_1`\n",
    " 3. `FLASH_nonneg_2`\n",
    "\n",
    "`MWE_ed_bovy.pca.rds`: rds file containing three matrices:\n",
    " 1. `PCA_1`\n",
    " 2. `PCA_2`\n",
    " 3. `tPCA`\n",
    "\n",
    "ii. MASH fit  \n",
    "\n",
    "`MWE_ed_bovy_posterior.EZ.mash_model.rds`:rds file contaning mash_model, vhat_file path and prior_file path. mash_model contains:\n",
    " 1. `result` - contains `PosteriorMean`, `PosteriorSD`, `NegativeProb`, `lfsr` and `PosteriorCov`\n",
    " 2. `loglik`\n",
    " 3. `vloglik`\n",
    " 4. `null_loglik`\n",
    " 5. `alt_loglik`\n",
    " 6. `fitted_g` - contains `pi`, `Ulist`, `grid` and `usepointmass`\n",
    " 7. `posterior_weights`\n",
    " 8. `alpha`\n",
    " 9. `lm` - contains `loglik_matrix` and `lfactors`\n",
    "\n",
    "`MWE_ed_bovy_posterior.EZ.posterior.rds`: rds file containint PosteriorMean, PosteriorSD, lfdr, NegativeProb and lfsr\n",
    "\n",
    "\n",
    "iii. Generate Plots  \n",
    "\n",
    "`MWE_ed_bovy.EZ.prior.pdf`: file containing heatmap plots\n"
   ]
  },
  {
   "cell_type": "markdown",
   "id": "25bacf8e-9c37-4a75-9c06-9b61cab5a726",
   "metadata": {},
   "source": [
    "<img src='./MWE_ed_bovy.EZ.prior.png'>MWE_ed_bovy.EZ.prior.png</img>\n"
   ]
  }
 ],
 "metadata": {
  "kernelspec": {
   "display_name": "Python 3 (ipykernel)",
   "language": "python",
   "name": "python3"
  },
  "language_info": {
   "codemirror_mode": {
    "name": "ipython",
    "version": 3
   },
   "file_extension": ".py",
   "mimetype": "text/x-python",
   "name": "python",
   "nbconvert_exporter": "python",
   "pygments_lexer": "ipython3",
   "version": "3.12.8"
  }
 },
 "nbformat": 4,
 "nbformat_minor": 5
}
