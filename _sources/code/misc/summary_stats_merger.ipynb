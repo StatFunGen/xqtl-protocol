{
 "cells": [
  {
   "cell_type": "markdown",
   "id": "considerable-vacation",
   "metadata": {
    "kernel": "SoS",
    "tags": []
   },
   "source": [
    "# Summary statistics merger"
   ]
  },
  {
   "cell_type": "markdown",
   "id": "living-license",
   "metadata": {
    "kernel": "SoS"
   },
   "source": [
    "## Aim"
   ]
  },
  {
   "cell_type": "markdown",
   "id": "extensive-botswana",
   "metadata": {
    "kernel": "SoS"
   },
   "source": [
    "- 1.To merge multiple summary statistic files to new summary statistic files with common SNPs\n",
    "- 2.To deal with allele flip and reserve issues in the process of merging"
   ]
  },
  {
   "cell_type": "markdown",
   "id": "entire-renewal",
   "metadata": {
    "jp-MarkdownHeadingCollapsed": true,
    "kernel": "SoS",
    "tags": []
   },
   "source": [
    "## Notes\n",
    " - 1. If there are duplicated `indels` in the summary statistics, they will be removed. For example, two SNPs at 10000 on chr1. one's `A0` is `T`, and `A1` is `TC`. Whereas the other one's `A0` is `TC`, and `A1` is `T`. Both of them will be removed. More about `indels` issues(https://github.com/statgenetics/UKBB_GWAS_dev/issues/81#issuecomment-1015556800).\n",
    " - 2. If duplicated `chr:pos` (GWAS) or `gene:chr:pos` (TWAS) exist, run a recursive match for each pair of them between two summary statistic files (`query`(each of inputs) and `subject` (target file)). \n",
    " - 3. under the same `chr:pos` or `gene:chr:pos`, The variants' `A0` and `A1` are matched by exact, flip, reverse, or flip+reverse models. Only one of them is `True`, the variant in two files are matched. If they are matched by flip or flip+reverse, the sign of `query`'s `STAT` will be inversed. And the `query`'s `A0` and `A1` will be the same as the `subject`'s `A0` and `A1`.       "
   ]
  },
  {
   "cell_type": "markdown",
   "id": "compound-concert",
   "metadata": {
    "kernel": "SoS",
    "tags": []
   },
   "source": [
    "## Pre-requisites\n",
    "\n",
    "Make sure you install the pre-requisited before running this notebook:\n",
    "\n",
    "```\n",
    "pip install cugg\n",
    "```"
   ]
  },
  {
   "cell_type": "markdown",
   "id": "supposed-reconstruction",
   "metadata": {
    "kernel": "SoS",
    "tags": []
   },
   "source": [
    "## Input\n",
    "\n",
    "- `--cwd`, the path of working directory\n",
    "- `--yml_path`, the path of yaml file\n",
    "- `--keep-ambiguous`, boolean. default False. if add --keep-ambiguous parameter, keep ambiguous alleles which can not be decided from flip or reverse, such as A/T or C/G. Otherwise, remove them. \n",
    "- `--intersect`, boolean. default False. if add --intersect parameter, output intersect SNPs in all input files."
   ]
  },
  {
   "cell_type": "markdown",
   "id": "inclusive-rapid",
   "metadata": {
    "kernel": "SoS"
   },
   "source": [
    "### The format of the input yaml file "
   ]
  },
  {
   "cell_type": "markdown",
   "id": "positive-jurisdiction",
   "metadata": {
    "kernel": "SoS"
   },
   "source": [
    "For GWAS summary statistics: `ID` is `CHR,POS,A0,A1`, which can be used as a unique label for each variant.\n",
    "\n",
    "```\n",
    "INPUT:\n",
    "  - ./data/testflip/*.gz:\n",
    "        ID: CHR,POS,A0,A1\n",
    "        CHR: CHR\n",
    "        POS: POS\n",
    "        A0: REF\n",
    "        A1: ALT\n",
    "        SNP: SNP\n",
    "        STAT: BETA\n",
    "        SE: SE\n",
    "        P: P\n",
    "  - ./data/testflip/flip/snps500_flip.regenie.snp_stats.gz:\n",
    "  \n",
    "TARGET: \n",
    "  - ./data/testflip/snps500.regenie.snp_stats.gz:\n",
    "        ID: CHR,POS,A0,A1\n",
    "        CHR: CHR\n",
    "        POS: POS\n",
    "        A0: REF\n",
    "        A1: ALT\n",
    "        SNP: SNP\n",
    "        STAT: BETA\n",
    "        SE: SE\n",
    "        P: P\n",
    "OUTPUT: data/testflip/output/\n",
    "```\n",
    "\n",
    "For TWAS summary statistics: `ID` is `GENE,CHR,POS,A0,A1`, which add the `GENE` name because a variant can be made association with multiple genes. \n",
    "\n",
    "```\n",
    "INPUT:\n",
    "  - data/twas/*.txt:\n",
    "        ID: GENE,CHR,POS,A0,A1\n",
    "        CHR: chrom\n",
    "        POS: pos\n",
    "        A0: ref\n",
    "        A1: alt\n",
    "        SNP: variant_id\n",
    "        GENE: gene\n",
    "        STAT: beta\n",
    "        SE: se\n",
    "        P: pval\n",
    " \n",
    "  \n",
    "TARGET: \n",
    "  - data/twas/DLPFC.chr6.mol_phe.cis_long_table.reformated.txt:\n",
    "        ID: GENE,CHR,POS,A0,A1\n",
    "        CHR: chrom\n",
    "        POS: pos\n",
    "        A0: ref\n",
    "        A1: alt\n",
    "        SNP: variant_id\n",
    "        GENE: gene\n",
    "        STAT: beta\n",
    "        SE: se\n",
    "        P: pval\n",
    "OUTPUT: ../data/twas/output/\n",
    "```"
   ]
  },
  {
   "cell_type": "markdown",
   "id": "spoken-hierarchy",
   "metadata": {
    "kernel": "SoS"
   },
   "source": [
    "There are three parts in the input yaml file.\n",
    "- INPUT\n",
    "   - A list of yml file, as the output from yml_generator, each yml file documents a set of input\n",
    "       - the input summary statistic files with the column names in below. \n",
    "       - the input files can be from multiple directory and from different format. The input paths must follow the rules related to Unix shell. the format is to pair the column names with keys (CHR, POS, A0, A1, SNP, STAT, SE, P). if not provided, the column names of the input file will be considered as the default keys.\n",
    "       - The input summary statistic file cannot have duplicated chr:pos\n",
    "       - The input summary statstic file cannot have # in its header\n",
    "       -`ID` in yml is the rule to generate a unique identifier for each SNP, the content of ID shall be a combination of CHR, POS, A0, A1,SNP .etc but not the actual column names. ID can not take existing id columns in the original file.\n",
    "- TARGET\n",
    "   - the target file is a reference summary statistic file or a file with chr, pos, a0, a1 columns at least, which the other files compare with.\n",
    "- OUTPUT\n",
    "   - the path of an output directory for new summary statistic files"
   ]
  },
  {
   "cell_type": "markdown",
   "id": "stuffed-gathering",
   "metadata": {
    "kernel": "SoS",
    "tags": []
   },
   "source": [
    "## Output\n",
    "New summary statistic files with common SNPs in all input files. the sign of statistics has been corrected to make it consistent in different data.\n",
    "   - for each input sumstat file, a qced version will be generated.\n",
    "   - The generated sumstat files will have header as \\\"CHR,  POS,  A0, A1, SNP , STAT ,   SE, P\\\" regardless of input header\n",
    "   - The generated sumstat files will be in gz format.\n",
    "\n",
    "The header of actual output sumstat depends on the yml specification provided in the yml. However, all of them will have the column of `ID, CHR, POS, A0, A1, SNP, STAT, SE, P`. \n",
    "\n",
    "For example, when the input sumstat is from TensorQTL, the column specification is:\n",
    "\n",
    "- GENE: Molecular trait identifier.(gene)\n",
    "- CHR: Variant chromosome.\n",
    "- POS: Variant chromosomal position (basepairs).\n",
    "- A0: Variant reference allele (A, C, T, or G).\n",
    "- A1: Variant alternate allele.\n",
    "- TSS_D: Distance of the SNP to the gene transcription start site (TSS)\n",
    "- AF: The allele frequency of this SNPs\n",
    "- MA_SAMPLES: Number of samples carrying the minor allele\n",
    "- MA_COUNT: Total number of minor alleles across individuals\n",
    "- P: Nominal P-value from linear regression\n",
    "- STAT: Slope of the linear regression\n",
    "- SE: Standard error of beta\n",
    "\n",
    "when the input sumstat is from APEX, the column specification is:\n",
    "\n",
    "- GENE: Molecular trait identifier.(gene)\n",
    "- CHR: Variant chromosome.\n",
    "- POS: Variant chromosomal position (basepairs).\n",
    "- A0: Variant reference allele (A, C, T, or G).\n",
    "- A1: Variant alternate allele.\n",
    "- P: Nominal P-value from linear regression\n",
    "- STAT: Slope of the linear regression\n",
    "- SE: Standard error of beta"
   ]
  },
  {
   "cell_type": "markdown",
   "id": "embedded-excitement",
   "metadata": {
    "kernel": "SoS"
   },
   "source": [
    "## Memory usage\n",
    "For merging two sumstat with ~85000 rows and of size of ~5MB, 1 GB of memory is needed \n",
    "\n",
    "For merging two sumstat with ~2000000 rows and of size of ~1 GB, at least 50 GB of memory is needed."
   ]
  },
  {
   "cell_type": "markdown",
   "id": "portable-injury",
   "metadata": {
    "kernel": "SoS"
   },
   "source": [
    "## Example command"
   ]
  },
  {
   "cell_type": "markdown",
   "id": "blond-technique",
   "metadata": {
    "kernel": "SoS"
   },
   "source": [
    "```\n",
    "sos run ./summary_stats_merger.ipynb --cwd data --yml_list data/yml_list.txt --keep-ambiguous --intersect\n",
    "```"
   ]
  },
  {
   "cell_type": "code",
   "execution_count": null,
   "id": "powerful-precipitation",
   "metadata": {
    "kernel": "SoS"
   },
   "outputs": [],
   "source": [
    "[global]\n",
    "# Work directory where output will be saved to\n",
    "parameter: cwd = path\n",
    "## path to a list of yml file , with columns #chr and dir\n",
    "parameter: yml_list = path\n",
    "import pandas as pd\n",
    "yml_path = pd.read_csv(yml_list,sep = \"\\t\").values.tolist()\n",
    "#if add --keep-ambiguous parameter, keep ambiguous alleles which can not be decided from flip or reverse, such as A/T or C/G. Otherwise, remove them.\n",
    "parameter: keep_ambiguous = False\n",
    "# if add --intersect parameter, output intersect SNPs in all input files.\n",
    "parameter: intersect = False\n",
    "# Containers that contains the necessary packages\n",
    "parameter: container = \"\"\n",
    "parameter: numThreads = 1\n",
    "# For cluster jobs, number commands to run per job\n",
    "parameter: job_size = 1\n",
    "# Walltime \n",
    "parameter: walltime = '5h'\n",
    "parameter: mem = '3G'\n",
    "# The directory of the output sumstat\n",
    "parameter: sumstat_list = path\n",
    "sumstat_path = pd.read_csv(sumstat_list,sep = \"\\t\").drop(columns=\"#chr\").values.tolist()\n",
    "name = pd.read_csv(sumstat_list,sep = \"\\t\").drop(columns=\"#chr\").columns.values.tolist()\n",
    "## Whether to rename the Chr name.\n",
    "parameter: remame = False\n",
    "import time"
   ]
  },
  {
   "cell_type": "markdown",
   "id": "related-northwest",
   "metadata": {
    "kernel": "SoS"
   },
   "source": [
    "## Workflow codes"
   ]
  },
  {
   "cell_type": "code",
   "execution_count": 113,
   "id": "frequent-ballot",
   "metadata": {
    "kernel": "SoS"
   },
   "outputs": [],
   "source": [
    "[default_1 (export utils script)]\n",
    "depends: Py_Module('cugg')\n",
    "output: f'{cwd:a}/utils.py'\n",
    "report: expand = '${ }', output=f'{cwd:a}/utils.py'\n",
    "    import os\n",
    "    import pandas as pd\n",
    "    from cugg.sumstat import read_sumstat\n",
    "    from cugg.utils import *\n",
    "    ## To be added in cugg packages\n",
    "    ## Running functions\n",
    "    def read_sumstat(file, config,rename=True):\n",
    "        try:\n",
    "            sumstats = pd.read_csv(file, compression='gzip', header=0, sep='\\t', quotechar='\"')\n",
    "        except:\n",
    "            sumstats = pd.read_csv(file, header=0, sep='\\t', quotechar='\"')\n",
    "        if config is not None:\n",
    "            try:\n",
    "                ID = config.pop('ID').split(',')\n",
    "                sumstats = sumstats.loc[:,list(config.values())]\n",
    "                sumstats.columns = list(config.keys())\n",
    "                sumstats.index = namebyordA0_A1(sumstats[ID],cols=ID)\n",
    "            except:\n",
    "                raise ValueError(f'According to config_file, input summary statistics should have the following columns: %s' % list(config.values()))\n",
    "            sumstats.columns = list(config.keys())\n",
    "        if rename:\n",
    "            sumstats.SNP = 'chr'+sumstats.CHR.astype(str).str.strip(\"chr\") + ':' + sumstats.POS.astype(str) + '_' + sumstats.A0.astype(str) + '_' + sumstats.A1.astype(str)\n",
    "        sumstats.CHR = sumstats.CHR.astype(str).str.strip(\"chr\").astype(int)\n",
    "        sumstats.POS = sumstats.POS.astype(int)\n",
    "        sumstats.index = namebyordA0_A1(sumstats[[\"GENE\",\"CHR\",\"POS\",\"A0\",\"A1\"]],cols=[\"GENE\",\"CHR\",\"POS\",\"A0\",\"A1\"])\n",
    "        return sumstats\n",
    "\n",
    "\n",
    "    def snps_match(query,subject,keep_ambiguous=True):\n",
    "        print(\"Total rows of query: \",query.shape[0],\"Total rows of subject: \",subject.shape[0])\n",
    "        if len(query.index[0].split('_')[0].split(':'))>2:\n",
    "            #gene:chr:pos case\n",
    "            genes_query = query.index.to_series().apply(lambda x: x.split(':')[0])\n",
    "            genes_subject = subject.index.to_series().apply(lambda x: x.split(':')[0])\n",
    "            query = dict(tuple(query.groupby(genes_query)))\n",
    "            subject = dict(tuple(subject.groupby(genes_subject)))\n",
    "            new_query, new_subject = [],[]\n",
    "            for g in genes_query.unique():\n",
    "                if g in query.keys() and g in subject.keys():\n",
    "                    new_q,new_s = snps_match_dup(query[g],subject[g],keep_ambiguous)\n",
    "                    new_query.append(new_q)\n",
    "                    new_subject.append(new_s)\n",
    "            new_query, new_subject=pd.concat(new_query),pd.concat(new_query)\n",
    "        else:\n",
    "            #chr:pos case\n",
    "            new_query, new_subject=snps_match_dup(query,subject,keep_ambiguous)\n",
    "        return new_query, new_subject\n",
    "\n",
    "\n",
    "    def unify_sumstat(yml,keep_ambiguous,intersect):\n",
    "        #parse yaml\n",
    "        yml = load_yaml(yml)\n",
    "        input_dict = parse_input(yml['INPUT'])\n",
    "        target_dict = yml['TARGET']\n",
    "        output_path = yml['OUTPUT'][0]\n",
    "        lst_sumstats_file = [ os.path.basename(i) for i in input_dict.keys()]\n",
    "        print('Total number of sumstats: ',len(lst_sumstats_file))\n",
    "        if len(set(lst_sumstats_file))<len(lst_sumstats_file):\n",
    "            raise Exception(\"There are duplicated names in {}\".format(lst_sumstats_file))\n",
    "        #read all sumstats\n",
    "        print(input_dict)\n",
    "        lst_sumstats = {os.path.basename(i):read_sumstat(i,j,) for i,j in input_dict.items()}\n",
    "        nqs = []\n",
    "        #Readin the reference target file: Using one of the input\n",
    "        if os.path.basename(target_dict[0]) in lst_sumstats:\n",
    "            subject = check_indels(lst_sumstats[os.path.basename(target_dict[0])])\n",
    "        #Or using a prepared input\n",
    "        else:\n",
    "            subject = check_indels(read_sumstat(target_dict[0],None,False)[[\"CHR\",\"POS\",\"A0\",\"A1\",\"GENE\"]])\n",
    "        for query in lst_sumstats.values():\n",
    "            #check duplicated indels and remove them.\n",
    "            query = check_indels(query)\n",
    "            #under the same chr:pos or gene:chr:pos. match A0 and A1 by exact, flip, reverse, or flip+reverse.\n",
    "            #if duplicated chr_pos or gene_chr_pos exist, run a recursive match for each pair of them between query and subject.\n",
    "            nq,_ = snps_match(query,subject,keep_ambiguous)\n",
    "            nq = nq.loc[:,~nq.columns.duplicated()] # Remove duplicated columns due to order of columns difference in subject and query\n",
    "            nqs.append(nq)\n",
    "        if intersect:\n",
    "            #get common snps\n",
    "            common_snps = set.intersection(*[set(nq.SNP) for nq in nqs])\n",
    "            print('Total number of common SNPs: ',len(common_snps))\n",
    "            #write out new sumstats\n",
    "            for output_sumstats,nq in zip(lst_sumstats_file,nqs):\n",
    "                sumstats = nq[nq.SNP.isin(common_snps)]\n",
    "                sumstats.to_csv(os.path.join(output_path, output_sumstats), sep = \"\\t\", header = True, index = False)\n",
    "        else:\n",
    "            for output_sumstats,nq in zip(lst_sumstats_file,nqs):\n",
    "                #output match SNPs with target SNPs.\n",
    "                nq.to_csv(os.path.join(output_path, output_sumstats), sep = \"\\t\", header = True, index = False)\n",
    "        print('All are done')"
   ]
  },
  {
   "cell_type": "code",
   "execution_count": 2,
   "id": "expanded-civilization",
   "metadata": {
    "kernel": "SoS"
   },
   "outputs": [],
   "source": [
    "[default_2 (unify sumstats)]\n",
    "depends: f'{cwd:a}/utils.py'\n",
    "input: for_each = \"yml_path\"\n",
    "task: trunk_workers = 1, trunk_size = job_size, walltime = walltime, mem = mem, cores = numThreads, tags = f'{step_name}_{_output:bn}'\n",
    "python: expand = '${ }', input = f'{cwd:a}/utils.py', stderr = f'{cwd:a}/{path(_yml_path[1]):bn}.stderr', stdout = f'{cwd:a}/output.stdout'\n",
    "    yml = \"${_yml_path[1]}\"\n",
    "    keep_ambiguous = ${keep_ambiguous}\n",
    "    intersect = ${intersect}\n",
    "    print(yml, keep_ambiguous,intersect)\n",
    "    unify_sumstat(yml, keep_ambiguous,intersect)"
   ]
  },
  {
   "cell_type": "code",
   "execution_count": null,
   "id": "empirical-teach",
   "metadata": {
    "kernel": "SoS"
   },
   "outputs": [],
   "source": [
    "[default_3 ,sumstat_to_vcf_1 ]\n",
    "input: for_each = \"sumstat_path\"\n",
    "output: [f'{path(x):an}.vcf' for x in _sumstat_path]\n",
    "task: trunk_workers = 1, trunk_size = job_size, walltime = walltime, mem = mem, cores = numThreads, tags = f'{step_name}_{_output[0]:bn}'\n",
    "python: expand = '${ }', stderr = f'{cwd:a}/{path(_sumstat_path[0]):bn}.stderr', stdout = f'{cwd:a}/output.stdout'\n",
    "    from cugg.sumstat import ss_2_vcf\n",
    "    import pandas as pd\n",
    "    from sos.targets import path\n",
    "    def ss_2_vcf(ss_df,name = \"name\"):\n",
    "        ## Geno field\n",
    "        df = pd.DataFrame()\n",
    "        if \"SNP\" not in ss_df.columns:\n",
    "            ss_df['SNP'] = 'chr'+ss_df.CHR.astype(str).str.strip(\"chr\") + ':' + ss_df.POS.astype(str) + '_' + ss_df.A0.astype(str) + '_' + ss_df.A1.astype(str)\n",
    "        df[['#CHROM', 'POS', 'ID', 'REF', 'ALT']] = ss_df[['CHR', 'POS', 'SNP', 'A0', 'A1']].sort_values(['CHR', 'POS'])\n",
    "        ## Info field(Empty)\n",
    "        df['QUAL'] = \".\"\n",
    "        df['FILTER'] = \"PASS\"\n",
    "        df['INFO'] = \".\"\n",
    "        fix_header = [\"SNP\",\"A1\",\"A0\",\"POS\",\"CHR\",\"STAT\",\"SE\",\"P\"]\n",
    "        header_list = []\n",
    "        if \"GENE\" in ss_df.columns:\n",
    "            df['ID'] = ss_df['GENE'] + \":\" + ss_df['SNP']\n",
    "            df['INFO'] = \"GENE=\" + ss_df[\"GENE\"]\n",
    "            fix_header = [\"GENE\",\"SNP\",\"A1\",\"A0\",\"POS\",\"CHR\",\"STAT\",\"SE\",\"P\"]\n",
    "            header_list = ['##INFO=<ID=GENE,Number=1,Type=String,Description=\"The name of genes\">']\n",
    "        ### Fix headers\n",
    "        import time\n",
    "        header = '##fileformat=VCFv4.2\\n' + \\\n",
    "        '##FILTER=<ID=PASS,Description=\"All filters passed\">\\n' + \\\n",
    "        f'##fileDate={time.strftime(\"%Y%m%d\",time.localtime())}\\n'+ \\\n",
    "        '##FORMAT=<ID=STAT,Number=1,Type=Float,Description=\"Effect size estimate relative to the alternative allele\">\\n' + \\\n",
    "        '##FORMAT=<ID=SE,Number=1,Type=Float,Description=\"Standard error of effect size estimate\">\\n' + \\\n",
    "        '##FORMAT=<ID=P,Number=1,Type=Float,Description=\"The Pvalue corresponding to ES\">\\n' \n",
    "        ### Customized Field headers\n",
    "        for x in ss_df.columns:\n",
    "            if x not in fix_header:\n",
    "                Prefix = f'##FORMAT=<ID={x},Number=1,Type='\n",
    "                Type = str(type(ss_df[x][0])).replace(\"<class \\'\",\"\").replace(\"'>\",\"\").replace(\"numpy.\",\"\").replace(\"64\",\"\").capitalize().replace(\"Int\",\"Integer\")\n",
    "                Surfix = f',Description=\"Customized Field {x}\">'\n",
    "                header_list.append(Prefix+Type+Surfix)\n",
    "        ## format and sample field\n",
    "        df['FORMAT'] = \":\".join([\"STAT\",\"SE\",\"P\"] + ss_df.drop(fix_header,axis = 1).columns.values.tolist())\n",
    "        df[f'{name}'] = ss_df['STAT'].astype(str) + \":\" + ss_df['SE'].astype(str) + \":\" + ss_df['P'].astype(str) + \":\" + ss_df.drop(fix_header,axis = 1).astype(str).apply(\":\".join,axis = 1)\n",
    "        ## Rearrangment\n",
    "        df = df[['#CHROM', 'POS', 'ID', 'REF', 'ALT', 'QUAL', 'FILTER', 'INFO','FORMAT',f'{name}']]\n",
    "        # Add headers\n",
    "        header = header + \"\\n\".join(header_list) + \"\\n\"\n",
    "        return df,header\n",
    "\n",
    "    sumstat_path_list = ${_sumstat_path}\n",
    "    name = ${name}\n",
    "    for x,y in zip(sumstat_path_list,name):\n",
    "        sumstats = pd.read_csv(x,\"\\t\")\n",
    "        sumstats,header = ss_2_vcf(sumstats,y)\n",
    "        with open(f'{path(x):an}.vcf', 'w') as f:\n",
    "            f.write(header)\n",
    "        sumstats.to_csv(f'{path(x):an}.vcf', sep = \"\\t\", header = True, index = False,mode = \"a\")"
   ]
  },
  {
   "cell_type": "code",
   "execution_count": null,
   "id": "viral-reception",
   "metadata": {
    "kernel": "SoS"
   },
   "outputs": [],
   "source": [
    "[default_4,sumstat_to_vcf_2]\n",
    "output: f'{cwd}/{_input[0]:bn}.merged.vcf.gz'.replace(name[0],\"_\".join(name))\n",
    "task: trunk_workers = 1, trunk_size = job_size, walltime = walltime, mem = mem, cores = numThreads, tags = f'{step_name}_{_output:bn}'\n",
    "bash: expand = '${ }', stderr = f'{cwd:a}/{_output:bn}.stderr', stdout = f'{cwd:a}/{_output:bn}.stdout'\n",
    "    for i in ${_input:r}; do\n",
    "    bgzip -k -f $i \n",
    "    tabix -p vcf -f  $i.gz; done\n",
    "    bcftools merge ${\" \".join([f'{str(x)}.gz' for x in _input])} --force-samples -m id  -Oz -o ${_output:a}"
   ]
  }
 ],
 "metadata": {
  "kernelspec": {
   "display_name": "SoS",
   "language": "sos",
   "name": "sos"
  },
  "language_info": {
   "codemirror_mode": "sos",
   "file_extension": ".sos",
   "mimetype": "text/x-sos",
   "name": "sos",
   "nbconvert_exporter": "sos_notebook.converter.SoS_Exporter",
   "pygments_lexer": "sos"
  },
  "sos": {
   "kernels": [
    [
     "SoS",
     "sos",
     "",
     ""
    ]
   ],
   "version": "0.22.4"
  }
 },
 "nbformat": 4,
 "nbformat_minor": 5
}
