{
 "cells": [
  {
   "attachments": {},
   "cell_type": "markdown",
   "id": "similar-preserve",
   "metadata": {
    "kernel": "SoS"
   },
   "source": [
    "# Covariate Data Preprocessing\n",
    "\n",
    "This notebook contains workflow of processing covariate files and computes PCA-derived covariates from phenotype data."
   ]
  },
  {
   "attachments": {},
   "cell_type": "markdown",
   "id": "9ae24abc",
   "metadata": {},
   "source": [
    "#### Miniprotocol Timing\n",
    "This represents the total duration for all miniprotocol phases. While module-specific timings are provided separately on their respective pages, they are also included in this overall estimate. \n",
    "\n",
    "Timing < X minutes"
   ]
  },
  {
   "attachments": {},
   "cell_type": "markdown",
   "id": "joined-consciousness",
   "metadata": {
    "kernel": "SoS"
   },
   "source": [
    "## Overview\n",
    "\n",
    "This workflow is an application of the covariate related sections from the xQTL project pipeline.\n",
    "\n",
    "1. `covariate_formatting.ipynb` (step i): Merge covariates and genotype PCA\n",
    "2. `covariate_hidden_factor.ipynb` (step ii): Compute residual on merged covariates and perform hidden factors analysis\n"
   ]
  },
  {
   "attachments": {},
   "cell_type": "markdown",
   "id": "7061ca4f",
   "metadata": {},
   "source": [
    "## Steps"
   ]
  },
  {
   "attachments": {},
   "cell_type": "markdown",
   "id": "preliminary-engine",
   "metadata": {
    "kernel": "SoS"
   },
   "source": [
    "### i. Merge Covariates and Genotype PCA\n",
    "You can edit the total amount of variation you want your PCs to explain by editing the `--k ` parameter. In this example, we chose 80%."
   ]
  },
  {
   "cell_type": "code",
   "execution_count": null,
   "id": "adjustable-kruger",
   "metadata": {
    "kernel": "Bash"
   },
   "outputs": [],
   "source": [
    "sos run pipeline/covariate_formatting.ipynb merge_genotype_pc \\\n",
    "    --cwd output/covariate \\\n",
    "    --pcaFile output/genotype_pca/protocol_example.genotype.chr21_22.pQTL.plink_qc.prune.pca.rds \\\n",
    "    --covFile  input/protocol_example.samples.tsv \\\n",
    "    --tol_cov 0.4  \\\n",
    "    --k `awk '$3 < 0.8' output/genotype_pca/protocol_example.genotype.chr21_22.pQTL.plink_qc.prune.pca.scree.txt | tail -1 | cut -f 1 ` \\\n",
    "    --container containers/bioinfo.sif"
   ]
  },
  {
   "attachments": {},
   "cell_type": "markdown",
   "id": "visible-practitioner",
   "metadata": {
    "kernel": "SoS"
   },
   "source": [
    "### ii. Compute Residual on Merged Covariates and Perform Hidden Factor Analysis"
   ]
  },
  {
   "cell_type": "code",
   "execution_count": null,
   "id": "floral-masters",
   "metadata": {
    "kernel": "Bash"
   },
   "outputs": [],
   "source": [
    "sos run pipeline/covariate_hidden_factor.ipynb Marchenko_PC \\\n",
    "   --cwd output/covariate \\\n",
    "   --phenoFile output/phenotype/protocol_example.protein.bed.gz  \\\n",
    "   --covFile output/covariate/protocol_example.samples.protocol_example.genotype.chr21_22.pQTL.plink_qc.prune.pca.gz \\\n",
    "   --mean-impute-missing \\\n",
    "   --container containers/PCAtools.sif"
   ]
  },
  {
   "attachments": {},
   "cell_type": "markdown",
   "id": "c1f89b31",
   "metadata": {},
   "source": [
    "## Anticipated Results"
   ]
  }
 ],
 "metadata": {
  "kernelspec": {
   "display_name": "SoS",
   "language": "sos",
   "name": "sos"
  },
  "language_info": {
   "codemirror_mode": "sos",
   "file_extension": ".sos",
   "mimetype": "text/x-sos",
   "name": "sos",
   "nbconvert_exporter": "sos_notebook.converter.SoS_Exporter",
   "pygments_lexer": "sos"
  },
  "sos": {
   "kernels": [
    [
     "Bash",
     "bash",
     "Bash",
     "#E6EEFF",
     "shell"
    ],
    [
     "Python3",
     "python3",
     "Python3",
     "#FFD91A",
     ""
    ]
   ],
   "version": "0.22.4"
  }
 },
 "nbformat": 4,
 "nbformat_minor": 5
}
