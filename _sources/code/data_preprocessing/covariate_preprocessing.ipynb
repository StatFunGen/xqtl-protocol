{
 "cells": [
  {
   "cell_type": "markdown",
   "id": "governing-monte",
   "metadata": {
    "kernel": "SoS"
   },
   "source": [
    "# Covariate Data Preprocessing\n",
    "\n",
    "This notebook contains workflow of processing covariate files and computes PCA-derived covariates from phenotype data."
   ]
  },
  {
   "cell_type": "markdown",
   "id": "enabling-panama",
   "metadata": {
    "kernel": "SoS"
   },
   "source": [
    "#### Miniprotocol Timing\n",
    "This represents the total duration for all miniprotocol phases. While module-specific timings are provided separately on their respective pages, they are also included in this overall estimate. \n",
    "\n",
    "Timing < 3 minutes\n"
   ]
  },
  {
   "cell_type": "markdown",
   "id": "pharmaceutical-impossible",
   "metadata": {
    "kernel": "SoS"
   },
   "source": [
    "## Overview\n",
    "\n",
    "This workflow is an application of the covariate related sections from the xQTL project pipeline.\n",
    "\n",
    "1. `covariate_formatting.ipynb` (step i): Merge covariates and genotype PCA\n",
    "2. `covariate_hidden_factor.ipynb` (step ii): Compute residual on merged covariates and perform hidden factors analysis\n"
   ]
  },
  {
   "cell_type": "markdown",
   "id": "knowing-personal",
   "metadata": {
    "kernel": "SoS"
   },
   "source": [
    "## Steps"
   ]
  },
  {
   "cell_type": "markdown",
   "id": "narrative-silly",
   "metadata": {
    "kernel": "SoS"
   },
   "source": [
    "### i. Merge Covariates and Genotype PCs\n",
    "You can edit the total amount of variation you want your PCs to explain by editing the `--k ` parameter. In this example, we chose 80%."
   ]
  },
  {
   "cell_type": "code",
   "execution_count": null,
   "id": "2df55946-c9b5-4497-ad47-8b8211772647",
   "metadata": {
    "kernel": "Bash"
   },
   "outputs": [],
   "source": [
    "sos run pipeline/covariate_formatting.ipynb merge_genotype_pc \\\n",
    "    --cwd output/covariate/ \\\n",
    "    --pcaFile output/genotype/genotype_pca/wgs.merged.plink_qc.plink_qc.prune.pca.rds \\\n",
    "    --covFile data/covariate/covariates.tsv \\\n",
    "    --tol-cov 0.4 \\\n",
    "    --k `awk '$3 < 0.8' output/genotype/genotype_pca/wgs.merged.plink_qc.plink_qc.prune.pca.scree.txt | tail -1 | cut -f 1 ` "
   ]
  },
  {
   "cell_type": "markdown",
   "id": "checked-burton",
   "metadata": {
    "kernel": "SoS"
   },
   "source": [
    "### ii. Compute Residual on Merged Covariates and Perform Hidden Factor Analysis"
   ]
  },
  {
   "cell_type": "code",
   "execution_count": null,
   "id": "secret-slide",
   "metadata": {
    "kernel": "Bash"
   },
   "outputs": [],
   "source": [
    "sos run pipeline/covariate_hidden_factor.ipynb Marchenko_PC \\\n",
    "   --cwd output/covariate \\\n",
    "   --phenoFile output/rnaseq/bulk_rnaseq_tmp_matrix.low_expression_filtered.outlier_removed.tmm.expression.bed.bed.gz  \\\n",
    "   --covFile output/covariate/covariates.wgs.merged.plink_qc.plink_qc.prune.pca.gz \\\n",
    "   --mean-impute-missing "
   ]
  },
  {
   "cell_type": "markdown",
   "id": "adaptive-template",
   "metadata": {
    "kernel": "SoS"
   },
   "source": [
    "## Anticipated Results"
   ]
  },
  {
   "cell_type": "markdown",
   "id": "7df6489d-5588-47ca-b2b8-c35468766351",
   "metadata": {
    "kernel": "Bash"
   },
   "source": [
    "Processed covariate data includes a file with covariates and hidden factors for use in TensorQTL."
   ]
  },
  {
   "cell_type": "code",
   "execution_count": null,
   "id": "2f19505f-4b22-4957-b423-02c06b5a7b66",
   "metadata": {
    "kernel": "SoS"
   },
   "outputs": [],
   "source": []
  }
 ],
 "metadata": {
  "kernelspec": {
   "display_name": "SoS",
   "language": "sos",
   "name": "sos"
  },
  "language_info": {
   "codemirror_mode": "sos",
   "file_extension": ".sos",
   "mimetype": "text/x-sos",
   "name": "sos",
   "nbconvert_exporter": "sos_notebook.converter.SoS_Exporter",
   "pygments_lexer": "sos"
  },
  "sos": {
   "kernels": [
    [
     "Bash",
     "bash",
     "Bash",
     "#E6EEFF",
     "shell"
    ],
    [
     "Python3",
     "python3",
     "Python3",
     "#FFD91A",
     ""
    ]
   ],
   "version": "0.22.4"
  }
 },
 "nbformat": 4,
 "nbformat_minor": 5
}
