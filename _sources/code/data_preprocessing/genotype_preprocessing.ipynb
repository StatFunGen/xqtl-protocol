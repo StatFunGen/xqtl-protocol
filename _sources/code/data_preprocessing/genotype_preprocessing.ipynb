{
 "cells": [
  {
   "cell_type": "markdown",
   "id": "banner-heater",
   "metadata": {
    "kernel": "SoS",
    "tags": []
   },
   "source": [
    "# Genotype data preprocessing\n",
    "\n",
    "This mini-protocol outlines the workflow for processing genotype files, transitioning from VCF format to chromosome-specific PLINK files, running PLINK QC, preparing unrelated individuals for PCA, and conducting PCA.\n"
   ]
  },
  {
   "cell_type": "markdown",
   "id": "greater-african",
   "metadata": {
    "kernel": "SoS"
   },
   "source": [
    "#### Miniprotocol Timing\n",
    "This represents the total duration for all miniprotocol phases. While module-specific timings are provided separately on their respective pages, they are also included in this overall estimate. \n",
    "\n",
    "Timing < X minutes"
   ]
  },
  {
   "cell_type": "markdown",
   "id": "surrounded-cooper",
   "metadata": {
    "kernel": "SoS"
   },
   "source": [
    "## Overview\n",
    "\n",
    "This workflow is an application of the genotype related workflows from the xQTL project pipeline.\n",
    "\n",
    "1. `VCF_QC.ipynb` (step i): QC on VCF files\n",
    "2. `genotype_formatting.ipynb` (step ii, iv): convert VCF to PLINK and merge the files\n",
    "3. `GWAS_QC.ipynb` (step iii, v-vii): QC on PLINK files, Kinship, and prepare unrelated individuals for PCA\n",
    "4. `PCA.ipynb` (viii): Conduct PCA\n",
    "5. `GRM.ipynb` (): Generates genomic relationship matrices (GRM) under the leave-one-chromosome-out (LOCO) theme"
   ]
  },
  {
   "cell_type": "markdown",
   "id": "danish-approach",
   "metadata": {
    "kernel": "SoS"
   },
   "source": [
    "## Steps"
   ]
  },
  {
   "cell_type": "markdown",
   "id": "homeless-black",
   "metadata": {
    "kernel": "SoS",
    "tags": []
   },
   "source": [
    "### i. QC for VCF files"
   ]
  },
  {
   "cell_type": "code",
   "execution_count": null,
   "id": "protecting-seattle",
   "metadata": {
    "kernel": "Bash"
   },
   "outputs": [],
   "source": [
    "# We only do this for autosomal variants\n",
    "\n",
    "echo ./ZOD14598_AD_GRM_WGS_2021-04-29_chr1.recalibrated_variants.vcf.gz ./ZOD14598_AD_GRM_WGS_2021-04-29_chr2.recalibrated_variants.vcf.gz ./ZOD14598_AD_GRM_WGS_2021-04-29_chr3.recalibrated_variants.vcf.gz ./ZOD14598_AD_GRM_WGS_2021-04-29_chr4.recalibrated_variants.vcf.gz ./ZOD14598_AD_GRM_WGS_2021-04-29_chr5.recalibrated_variants.vcf.gz ./ZOD14598_AD_GRM_WGS_2021-04-29_chr6.recalibrated_variants.vcf.gz ./ZOD14598_AD_GRM_WGS_2021-04-29_chr7.recalibrated_variants.vcf.gz ./ZOD14598_AD_GRM_WGS_2021-04-29_chr8.recalibrated_variants.vcf.gz ./ZOD14598_AD_GRM_WGS_2021-04-29_chr9.recalibrated_variants.vcf.gz ./ZOD14598_AD_GRM_WGS_2021-04-29_chr10.recalibrated_variants.vcf.gz  ./ZOD14598_AD_GRM_WGS_2021-04-29_chr11.recalibrated_variants.vcf.gz ./ZOD14598_AD_GRM_WGS_2021-04-29_chr12.recalibrated_variants.vcf.gz ./ZOD14598_AD_GRM_WGS_2021-04-29_chr13.recalibrated_variants.vcf.gz ./ZOD14598_AD_GRM_WGS_2021-04-29_chr14.recalibrated_variants.vcf.gz ./ZOD14598_AD_GRM_WGS_2021-04-29_chr15.recalibrated_variants.vcf.gz ./ZOD14598_AD_GRM_WGS_2021-04-29_chr16.recalibrated_variants.vcf.gz ./ZOD14598_AD_GRM_WGS_2021-04-29_chr17.recalibrated_variants.vcf.gz ./ZOD14598_AD_GRM_WGS_2021-04-29_chr18.recalibrated_variants.vcf.gz ./ZOD14598_AD_GRM_WGS_2021-04-29_chr19.recalibrated_variants.vcf.gz ./ZOD14598_AD_GRM_WGS_2021-04-29_chr20.recalibrated_variants.vcf.gz ./ZOD14598_AD_GRM_WGS_2021-04-29_chr21.recalibrated_variants.vcf.gz ./ZOD14598_AD_GRM_WGS_2021-04-29_chr22.recalibrated_variants.vcf.gz \\\n",
    "    | tr ' ' '\\n' > /path/to/ZOD14598_AD_GRM_WGS_2021-04-29_vcf_files.txt\n",
    "\n",
    "sos run pipeline/VCF_QC.ipynb qc \\\n",
    "    --genoFile /path/to/ZOD14598_AD_GRM_WGS_2021-04-29_vcf_files.txt \\\n",
    "    --dbsnp-variants /path/to/reference_data/00-All.add_chr.variants.gz \\\n",
    "    --reference-genome /path/to/reference_data/GRCh38_full_analysis_set_plus_decoy_hla.noALT_noHLA_noDecoy_ERCC.fasta \\\n",
    "    --cwd vcf_qc/ \\\n",
    "    -J 22 --mem 120G "
   ]
  },
  {
   "cell_type": "markdown",
   "id": "charitable-syntax",
   "metadata": {
    "kernel": "SoS"
   },
   "source": [
    "### ii. Merge separated bed files into one\n",
    "\n",
    "Converting VCF to PLINK keeping only the ROSMAP samples."
   ]
  },
  {
   "cell_type": "code",
   "execution_count": null,
   "id": "cbf7a6af-c9ba-43f3-8b94-2a821a6374d0",
   "metadata": {
    "kernel": "Bash"
   },
   "outputs": [],
   "source": [
    "sos run pipeline/genotype_formatting.ipynb vcf_to_plink \\\n",
    "    --genoFile `ls data/WGS/vcf/wgs.chr*.random.vcf.gz` \\\n",
    "    --cwd output/plink/ "
   ]
  },
  {
   "cell_type": "code",
   "execution_count": null,
   "id": "fe7915f4-b389-4fbb-9eb6-8049a2fcac61",
   "metadata": {
    "kernel": "Bash"
   },
   "outputs": [],
   "source": [
    "sos run pipeline/genotype_formatting.ipynb merge_plink \\\n",
    "    --genoFile `ls output/plink/wgs.chr*.random.bed` \\\n",
    "    --name wgs.merged \\\n",
    "    --cwd output/plink/ "
   ]
  },
  {
   "cell_type": "markdown",
   "id": "welcome-roulette",
   "metadata": {
    "kernel": "SoS"
   },
   "source": [
    "### iii. QC for PLINK files\n",
    "\n",
    "Using PLINK-based workflows we:\n",
    "\n",
    "* Filter out those have more than 10% missing\n",
    "* Set HWE cutoff as 1E-8\n",
    "* No minor allele filter"
   ]
  },
  {
   "cell_type": "code",
   "execution_count": null,
   "id": "4b289740-c688-4882-b211-35dc4943a86e",
   "metadata": {
    "kernel": "Bash"
   },
   "outputs": [],
   "source": [
    "sos run pipeline/GWAS_QC.ipynb qc_no_prune \\\n",
    "   --cwd output/plink \\\n",
    "   --genoFile output/plink/wgs.merged.bed \\\n",
    "   --geno-filter 0.1 \\\n",
    "   --mind-filter 0.1 \\\n",
    "   --hwe-filter 1e-08 \\\n",
    "   --mac-filter 0 "
   ]
  },
  {
   "cell_type": "markdown",
   "id": "together-endorsement",
   "metadata": {
    "kernel": "SoS"
   },
   "source": [
    "### iv. Genotype data partition by chromosome\n",
    "\n",
    "This step is necessary for TensorQTL applications."
   ]
  },
  {
   "cell_type": "code",
   "execution_count": null,
   "id": "db48cd0f-cd37-4669-a547-26cda7ae9672",
   "metadata": {
    "kernel": "Bash"
   },
   "outputs": [],
   "source": [
    "sos run pipeline/genotype_formatting.ipynb genotype_by_chrom \\\n",
    "    --genoFile output/plink/wgs.merged.plink_qc.bed \\\n",
    "    --cwd output/genotype_by_chrom \\\n",
    "    --chrom `cut -f 1 output/plink/wgs.merged.plink_qc.bim | uniq | sed \"s/chr//g\"`"
   ]
  },
  {
   "cell_type": "markdown",
   "id": "contrary-quarter",
   "metadata": {
    "kernel": "SoS"
   },
   "source": [
    "### v. Sample match with genotype "
   ]
  },
  {
   "cell_type": "code",
   "execution_count": null,
   "id": "taken-cylinder",
   "metadata": {
    "kernel": "Bash"
   },
   "outputs": [],
   "source": [
    "sos run pipeline/GWAS_QC.ipynb genotype_phenotype_sample_overlap \\\n",
    "        --cwd output/genotype/ \\\n",
    "        --genoFile output/plink/wgs.merged.plink_qc.fam  \\\n",
    "        --phenoFile output/rnaseq/bulk_rnaseq_tmp_matrix.low_expression_filtered.outlier_removed.tmm.expression.bed.bed.gz"
   ]
  },
  {
   "cell_type": "markdown",
   "id": "activated-macro",
   "metadata": {
    "kernel": "SoS"
   },
   "source": [
    "### vi. Kinship\n",
    "\n",
    "To accuratly estimate the PCs for the genotype. We split participants based on their kinship coefficients, estimated by KING"
   ]
  },
  {
   "cell_type": "code",
   "execution_count": null,
   "id": "physical-brake",
   "metadata": {
    "kernel": "Bash"
   },
   "outputs": [],
   "source": [
    "sos run pipeline/GWAS_QC.ipynb king \\\n",
    "    --cwd output/genotype/kinship \\\n",
    "    --genoFile output/plink/wgs.merged.plink_qc.bed \\\n",
    "    --name wgs.merged.king \\\n",
    "    --keep-samples output/genotype/bulk_rnaseq_tmp_matrix.low_expression_filtered.outlier_removed.tmm.expression.bed.bed.sample_genotypes.txt"
   ]
  },
  {
   "cell_type": "markdown",
   "id": "mexican-humanitarian",
   "metadata": {
    "kernel": "SoS"
   },
   "source": [
    "### vii. Prepare unrelated individuals data for PCA"
   ]
  },
  {
   "cell_type": "code",
   "execution_count": null,
   "id": "eleven-volume",
   "metadata": {
    "kernel": "Bash"
   },
   "outputs": [],
   "source": [
    "sos run pipeline/GWAS_QC.ipynb qc \\\n",
    "   --cwd output/genotype/ \\\n",
    "   --genoFile output/genotype/kinship/wgs.merged.plink_qc.wgs.merged.king.unrelated.bed \\\n",
    "   --mac-filter 5 "
   ]
  },
  {
   "cell_type": "markdown",
   "id": "understanding-demonstration",
   "metadata": {
    "kernel": "SoS"
   },
   "source": [
    "**If `No related individuals detected from *.kin0` occurs, there is no separate genotype data generated for unrelated individuals. In this case, we need to work from the original genotype data and must use `--keep-samples` to run `qc` to extract samples for PCA.** For example:"
   ]
  },
  {
   "cell_type": "code",
   "execution_count": null,
   "id": "cheap-vietnam",
   "metadata": {
    "kernel": "Bash"
   },
   "outputs": [],
   "source": [
    "sos run pipeline/GWAS_QC.ipynb qc \\\n",
    "   --cwd output/genotype/ \\\n",
    "   --genoFile output/plink/wgs.merged.plink_qc.bed \\\n",
    "   --mac-filter 5 "
   ]
  },
  {
   "cell_type": "markdown",
   "id": "saved-marketing",
   "metadata": {
    "kernel": "SoS"
   },
   "source": [
    "### viii. PCA on genotype"
   ]
  },
  {
   "cell_type": "code",
   "execution_count": null,
   "id": "ab6b7180-0c76-46ae-9dee-d36acfaffa81",
   "metadata": {
    "kernel": "Bash"
   },
   "outputs": [],
   "source": [
    "sos run pipeline/PCA.ipynb flashpca \\\n",
    "   --cwd output/genotype/genotype_pca \\\n",
    "   --genoFile output/genotype/wgs.merged.plink_qc.plink_qc.prune.bed"
   ]
  },
  {
   "cell_type": "markdown",
   "id": "dramatic-insulin",
   "metadata": {
    "kernel": "SoS"
   },
   "source": [
    "## Anticipated Results"
   ]
  },
  {
   "cell_type": "markdown",
   "id": "1e70f8d1-51aa-4a47-838f-61f3e392a733",
   "metadata": {
    "kernel": "SoS"
   },
   "source": [
    "Genotype preprocessing will produce cleaned genotype files, and genetic principal components. "
   ]
  },
  {
   "cell_type": "code",
   "execution_count": null,
   "id": "717d25bb-a0c4-45e8-bae9-2ee1c3a95206",
   "metadata": {
    "kernel": "SoS"
   },
   "outputs": [],
   "source": []
  }
 ],
 "metadata": {
  "kernelspec": {
   "display_name": "SoS",
   "language": "sos",
   "name": "sos"
  },
  "language_info": {
   "codemirror_mode": "sos",
   "file_extension": ".sos",
   "mimetype": "text/x-sos",
   "name": "sos",
   "nbconvert_exporter": "sos_notebook.converter.SoS_Exporter",
   "pygments_lexer": "sos"
  },
  "sos": {
   "kernels": [
    [
     "Bash",
     "bash",
     "Bash",
     "#E6EEFF",
     "shell"
    ],
    [
     "SoS",
     "sos",
     "",
     "",
     "sos"
    ]
   ],
   "version": "0.22.4"
  }
 },
 "nbformat": 4,
 "nbformat_minor": 5
}
