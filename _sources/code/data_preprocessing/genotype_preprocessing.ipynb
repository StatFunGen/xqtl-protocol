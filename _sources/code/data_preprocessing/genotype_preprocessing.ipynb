{
 "cells": [
  {
   "attachments": {},
   "cell_type": "markdown",
   "id": "international-virginia",
   "metadata": {
    "kernel": "SoS",
    "tags": []
   },
   "source": [
    "# Genotype data preprocessing\n",
    "\n",
    "This notebook outlines the workflow for processing genotype files, transitioning from VCF format to chromosome-specific PLINK files, running PLINK QC, preparing unrelated individuals for PCA, and conducting PCA.\n",
    "\n",
    "**Note**: in order to reuse the workflow for your data, for some of the steps you might need to change paths to files."
   ]
  },
  {
   "attachments": {},
   "cell_type": "markdown",
   "id": "4ffe6ea4",
   "metadata": {},
   "source": [
    "#### Miniprotocol Timing\n",
    "This represents the total duration for all miniprotocol phases. While module-specific timings are provided separately on their respective pages, they are also included in this overall estimate. \n",
    "\n",
    "Timing < X minutes"
   ]
  },
  {
   "attachments": {},
   "cell_type": "markdown",
   "id": "personal-curve",
   "metadata": {
    "kernel": "SoS"
   },
   "source": [
    "## Overview\n",
    "\n",
    "This workflow is an application of the genotype related workflows from the xQTL project pipeline.\n",
    "\n",
    "1. `VCF_QC.ipynb` (step i): QC on VCF files\n",
    "2. `genotype_formatting.ipynb` (step ii, iv): convert VCF to PLINK and merge the files\n",
    "3. `GWAS_QC.ipynb` (step iii, v-vii): QC on PLINK files, Kinship, and prepare unrelated individuals for PCA\n",
    "4. `PCA.ipynb` (viii): Conduct PCA\n",
    "5. `GRM.ipynb` (): Generates genomic relationship matrices (GRM) under the leave-one-chromosome-out (LOCO) theme"
   ]
  },
  {
   "attachments": {},
   "cell_type": "markdown",
   "id": "worst-halloween",
   "metadata": {
    "kernel": "SoS"
   },
   "source": [
    "## Steps"
   ]
  },
  {
   "attachments": {},
   "cell_type": "markdown",
   "id": "southwest-discrimination",
   "metadata": {
    "kernel": "SoS",
    "tags": []
   },
   "source": [
    "### i. QC for VCF files"
   ]
  },
  {
   "cell_type": "code",
   "execution_count": null,
   "id": "tired-electronics",
   "metadata": {
    "kernel": "Bash"
   },
   "outputs": [],
   "source": [
    "# We only do this for autosomal variants\n",
    "\n",
    "echo ./ZOD14598_AD_GRM_WGS_2021-04-29_chr1.recalibrated_variants.vcf.gz ./ZOD14598_AD_GRM_WGS_2021-04-29_chr2.recalibrated_variants.vcf.gz ./ZOD14598_AD_GRM_WGS_2021-04-29_chr3.recalibrated_variants.vcf.gz ./ZOD14598_AD_GRM_WGS_2021-04-29_chr4.recalibrated_variants.vcf.gz ./ZOD14598_AD_GRM_WGS_2021-04-29_chr5.recalibrated_variants.vcf.gz ./ZOD14598_AD_GRM_WGS_2021-04-29_chr6.recalibrated_variants.vcf.gz ./ZOD14598_AD_GRM_WGS_2021-04-29_chr7.recalibrated_variants.vcf.gz ./ZOD14598_AD_GRM_WGS_2021-04-29_chr8.recalibrated_variants.vcf.gz ./ZOD14598_AD_GRM_WGS_2021-04-29_chr9.recalibrated_variants.vcf.gz ./ZOD14598_AD_GRM_WGS_2021-04-29_chr10.recalibrated_variants.vcf.gz  ./ZOD14598_AD_GRM_WGS_2021-04-29_chr11.recalibrated_variants.vcf.gz ./ZOD14598_AD_GRM_WGS_2021-04-29_chr12.recalibrated_variants.vcf.gz ./ZOD14598_AD_GRM_WGS_2021-04-29_chr13.recalibrated_variants.vcf.gz ./ZOD14598_AD_GRM_WGS_2021-04-29_chr14.recalibrated_variants.vcf.gz ./ZOD14598_AD_GRM_WGS_2021-04-29_chr15.recalibrated_variants.vcf.gz ./ZOD14598_AD_GRM_WGS_2021-04-29_chr16.recalibrated_variants.vcf.gz ./ZOD14598_AD_GRM_WGS_2021-04-29_chr17.recalibrated_variants.vcf.gz ./ZOD14598_AD_GRM_WGS_2021-04-29_chr18.recalibrated_variants.vcf.gz ./ZOD14598_AD_GRM_WGS_2021-04-29_chr19.recalibrated_variants.vcf.gz ./ZOD14598_AD_GRM_WGS_2021-04-29_chr20.recalibrated_variants.vcf.gz ./ZOD14598_AD_GRM_WGS_2021-04-29_chr21.recalibrated_variants.vcf.gz ./ZOD14598_AD_GRM_WGS_2021-04-29_chr22.recalibrated_variants.vcf.gz \\\n",
    "    | tr ' ' '\\n' > vcf_qc/ZOD14598_AD_GRM_WGS_2021-04-29_vcf_files.txt\n",
    "\n",
    "sos run pipeline/VCF_QC.ipynb qc \\\n",
    "    --genoFile vcf_qc/ZOD14598_AD_GRM_WGS_2021-04-29_vcf_files.txt \\\n",
    "    --dbsnp-variants /mnt/vast/hpc/csg/snuc_pseudo_bulk/data/reference_data/00-All.add_chr.variants.gz \\\n",
    "    --reference-genome /mnt/vast/hpc/csg/snuc_pseudo_bulk/data/reference_data/GRCh38_full_analysis_set_plus_decoy_hla.noALT_noHLA_noDecoy_ERCC.fasta \\\n",
    "    --cwd vcf_qc/ --container /mnt/vast/hpc/csg/containers/bioinfo.sif \\\n",
    "    -J 22 -q csg -c csg.yml --mem 120G"
   ]
  },
  {
   "attachments": {},
   "cell_type": "markdown",
   "id": "blessed-subdivision",
   "metadata": {
    "kernel": "SoS"
   },
   "source": [
    "### ii. Merge separated bed files into one\n",
    "\n",
    "Converting VCF to PLINK keeping only the ROSMAP samples."
   ]
  },
  {
   "cell_type": "code",
   "execution_count": null,
   "id": "separated-trigger",
   "metadata": {
    "kernel": "Bash"
   },
   "outputs": [],
   "source": [
    "sos run pipeline/genotype_formatting.ipynb vcf_to_plink\n",
    "    --genoFile `ls vcf_qc/*.leftnorm.bcftools_qc.vcf.gz` \\\n",
    "    --cwd Genotype/ \\\n",
    "    --keep_samples ./ROSMAP_sample_list.txt\n",
    "    --container /mnt/vast/hpc/csg/containers/bioinfo.sif \\\n",
    "    -J 22 -q csg -c csg.yml --mem 120G"
   ]
  },
  {
   "cell_type": "code",
   "execution_count": null,
   "id": "isolated-board",
   "metadata": {
    "kernel": "Bash"
   },
   "outputs": [],
   "source": [
    "sos run xqtl-pipeline/pipeline/genotype_formatting.ipynb merge_plink \\\n",
    "    --genoFile `ls *.leftnorm.bcftools_qc.bed` \\\n",
    "    --name ROSMAP_NIA_WGS.leftnorm.bcftools_qc  \\\n",
    "    --cwd Genotype/ \\\n",
    "    --container /mnt/vast/hpc/csg/containers/bioinfo.sif \\\n",
    "    -J 5 -q csg -c csg.yml --mem 300G"
   ]
  },
  {
   "attachments": {},
   "cell_type": "markdown",
   "id": "entire-entertainment",
   "metadata": {
    "kernel": "SoS"
   },
   "source": [
    "### iii. QC for PLINK files\n",
    "\n",
    "Using PLINK-based workflows we:\n",
    "\n",
    "* Filter out those have more than 10% missing\n",
    "* Set HWE cutoff as 1E-8\n",
    "* No minor allel filter"
   ]
  },
  {
   "cell_type": "code",
   "execution_count": null,
   "id": "swiss-trail",
   "metadata": {
    "kernel": "Bash"
   },
   "outputs": [],
   "source": [
    "sos run xqtl-pipeline/pipeline/GWAS_QC.ipynb qc_no_prune \\\n",
    "   --cwd Genotype \\\n",
    "   --genoFile Genotype/ROSMAP_NIA_WGS.leftnorm.bcftools_qc.bed \\\n",
    "   --geno-filter 0.1 \\\n",
    "   --mind-filter 0.1 \\\n",
    "   --hwe-filter 1e-08   \\\n",
    "   --mac-filter 0 \\\n",
    "   --container /mnt/vast/hpc/csg/containers/bioinfo.sif \\\n",
    "   -J 1 -q csg -c csg.yml --mem 150G"
   ]
  },
  {
   "attachments": {},
   "cell_type": "markdown",
   "id": "exterior-festival",
   "metadata": {
    "kernel": "SoS"
   },
   "source": [
    "### iv. Genotype data partition by chromosome\n",
    "\n",
    "This step is necessary for TensorQTL applications."
   ]
  },
  {
   "cell_type": "code",
   "execution_count": null,
   "id": "local-objective",
   "metadata": {
    "kernel": "Bash"
   },
   "outputs": [],
   "source": [
    "sos run pipeline/genotype_formatting.ipynb genotype_by_chrom \\\n",
    "    --genoFile protocol_example/protocol_example.genotype.chr21_22.bed \\\n",
    "    --cwd output \\\n",
    "    --chrom `cut -f 1 protocol_example/protocol_example.genotype.chr21_22.bim | uniq | sed \"s/chr//g\"` \\\n",
    "    --container containers/bioinfo.sif "
   ]
  },
  {
   "attachments": {},
   "cell_type": "markdown",
   "id": "physical-bennett",
   "metadata": {
    "kernel": "SoS"
   },
   "source": [
    "### v. Sample match with genotype "
   ]
  },
  {
   "cell_type": "code",
   "execution_count": null,
   "id": "dutch-tribune",
   "metadata": {
    "kernel": "Bash"
   },
   "outputs": [],
   "source": [
    "sos run pipeline/GWAS_QC.ipynb genotype_phenotype_sample_overlap \\\n",
    "        --cwd output/sample_meta \\\n",
    "        --genoFile protocol_example/protocol_example.genotype.chr21_22.fam  \\\n",
    "        --phenoFile protocol_example/protocol_example.protein.csv \\\n",
    "        --container containers/bioinfo.sif \\\n",
    "        --mem 5G"
   ]
  },
  {
   "attachments": {},
   "cell_type": "markdown",
   "id": "attractive-arkansas",
   "metadata": {
    "kernel": "SoS"
   },
   "source": [
    "### vi. Kinship\n",
    "\n",
    "To accuratly estimate the PCs for the genotype. We split participants based on their kinship coefficients, estimated by KING"
   ]
  },
  {
   "cell_type": "code",
   "execution_count": null,
   "id": "contemporary-binary",
   "metadata": {
    "kernel": "Bash"
   },
   "outputs": [],
   "source": [
    "sos run pipeline/GWAS_QC.ipynb king \\\n",
    "    --cwd output/kinship \\\n",
    "    --genoFile protocol_example/protocol_example.genotype.chr21_22.bed \\\n",
    "    --name pQTL \\\n",
    "    --keep-samples output/sample_meta/protocol_example.protein.sample_genotypes.txt \\\n",
    "    --container containers/bioinfo.sif \\\n",
    "    --no-maximize-unrelated \\\n",
    "    --mem 40G"
   ]
  },
  {
   "attachments": {},
   "cell_type": "markdown",
   "id": "metropolitan-pennsylvania",
   "metadata": {
    "kernel": "SoS"
   },
   "source": [
    "### vii. Prepare unrelated individuals data for PCA"
   ]
  },
  {
   "cell_type": "code",
   "execution_count": null,
   "id": "russian-alexander",
   "metadata": {
    "kernel": "Bash"
   },
   "outputs": [],
   "source": [
    "sos run pipeline/GWAS_QC.ipynb qc \\\n",
    "   --cwd output/cache \\\n",
    "   --genoFile output/kinship/protocol_example.genotype.chr21_22.pQTL.unrelated.bed \\\n",
    "   --mac-filter 5 \\\n",
    "   --container containers/bioinfo.sif \\\n",
    "   --mem 16G"
   ]
  },
  {
   "attachments": {},
   "cell_type": "markdown",
   "id": "missing-burden",
   "metadata": {
    "kernel": "SoS"
   },
   "source": [
    "**If `No related individuals detected from *.kin0` occurs, there is no separate genotype data generated for unrelated individuals. In this case, we need to work from the original genotype data and must use `--keep-samples` to run `qc` to extract samples for PCA.** For example:"
   ]
  },
  {
   "cell_type": "code",
   "execution_count": null,
   "id": "finite-taiwan",
   "metadata": {
    "kernel": "Bash"
   },
   "outputs": [],
   "source": [
    "sos run pipeline/GWAS_QC.ipynb qc \\\n",
    "   --cwd output/cache \\\n",
    "   --genoFile input/protocol_example.genotype.chr21_22.bed \\\n",
    "   --keep-samples output/sample_meta/protocol_example.protein.sample_genotypes.txt \\\n",
    "   --name pQTL \\\n",
    "   --mac-filter 5 \\\n",
    "   --container containers/bioinfo.sif \\\n",
    "   --mem 40G"
   ]
  },
  {
   "attachments": {},
   "cell_type": "markdown",
   "id": "thermal-store",
   "metadata": {
    "kernel": "SoS"
   },
   "source": [
    "### viii. PCA on genotype"
   ]
  },
  {
   "cell_type": "code",
   "execution_count": null,
   "id": "familiar-westminster",
   "metadata": {
    "kernel": "Bash"
   },
   "outputs": [],
   "source": [
    "sos run pipeline/PCA.ipynb flashpca \\\n",
    "   --cwd output/genotype_pca \\\n",
    "   --genoFile output/cache/protocol_example.genotype.chr21_22.pQTL.plink_qc.prune.bed \\\n",
    "   --container containers/flashpcaR.sif \\\n",
    "   --mem 16G"
   ]
  },
  {
   "attachments": {},
   "cell_type": "markdown",
   "id": "solid-kentucky",
   "metadata": {
    "kernel": "SoS"
   },
   "source": [
    "## Anticipated Results"
   ]
  }
 ],
 "metadata": {
  "kernelspec": {
   "display_name": "SoS",
   "language": "sos",
   "name": "sos"
  },
  "language_info": {
   "codemirror_mode": "sos",
   "file_extension": ".sos",
   "mimetype": "text/x-sos",
   "name": "sos",
   "nbconvert_exporter": "sos_notebook.converter.SoS_Exporter",
   "pygments_lexer": "sos"
  },
  "sos": {
   "kernels": [
    [
     "Bash",
     "bash",
     "Bash",
     "#E6EEFF",
     "shell"
    ],
    [
     "SoS",
     "sos",
     "",
     "",
     "sos"
    ]
   ],
   "version": "0.22.4"
  }
 },
 "nbformat": 4,
 "nbformat_minor": 5
}
