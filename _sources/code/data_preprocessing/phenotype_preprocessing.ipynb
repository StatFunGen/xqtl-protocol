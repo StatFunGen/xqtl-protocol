{
 "cells": [
  {
   "cell_type": "markdown",
   "id": "defensive-ranking",
   "metadata": {
    "kernel": "SoS"
   },
   "source": [
    "# Phenotype data preprocessing\n",
    "\n",
    "This mini-protocol documents the shared post processing step and some utilities to handle molecular phenotype files including imputations."
   ]
  },
  {
   "cell_type": "markdown",
   "id": "blocked-orchestra",
   "metadata": {
    "kernel": "SoS"
   },
   "source": [
    "#### Miniprotocol Timing\n",
    "This represents the total duration for all miniprotocol phases. While module-specific timings are provided separately on their respective pages, they are also included in this overall estimate. \n",
    "\n",
    "Timing < X minutes\n",
    "\n"
   ]
  },
  {
   "cell_type": "markdown",
   "id": "8dd3c17a-3ca7-4bf4-a656-336cb883beec",
   "metadata": {},
   "source": [
    "FIXME"
   ]
  },
  {
   "cell_type": "markdown",
   "id": "large-banking",
   "metadata": {
    "kernel": "SoS"
   },
   "source": [
    "## Overview\n",
    "\n",
    "This workflow is an application of the phenotype related workflows from the xQTL project pipeline.\n",
    "\n",
    "1. `gene_annotation.ipynb` (step i): Adds genomic coordinate annotation to gene-level molecular phenotype files and converts them to `.bed` format\n",
    "2. `phenotype_imputation.ipynb` (step ii): Impute missing entries of molecular phenotype data\n",
    "3. `phenotype_formatting.ipynb` (step iii): Splits each phenotype file by chromosome\n"
   ]
  },
  {
   "cell_type": "markdown",
   "id": "digital-grocery",
   "metadata": {
    "kernel": "SoS"
   },
   "source": [
    "## Steps"
   ]
  },
  {
   "cell_type": "markdown",
   "id": "conceptual-travel",
   "metadata": {
    "kernel": "SoS"
   },
   "source": [
    "### i. Phenotype Annotation\n",
    "This step serves as annote cooresponding `chr`, `start`, `end`, and `gene_id` to genes in the original phenotype matrix. \n",
    "\n",
    "**FIXME: somewhere we need to explain where the reference data should be obtained**"
   ]
  },
  {
   "cell_type": "code",
   "execution_count": null,
   "id": "ready-budget",
   "metadata": {
    "kernel": "Bash"
   },
   "outputs": [],
   "source": [
    "sos run xqtl-pipeline/pipeline/gene_annotation.ipynb annotate_coord_protein \\\n",
    "    --cwd output/phenotype \\\n",
    "    --phenoFile xqtl_association/protocol_example.protein.csv \\\n",
    "    --annotation-gtf ../reference_data/Homo_sapiens.GRCh38.103.chr.reformatted.collapse_only.gene.ERCC.gtf \\\n",
    "    --phenotype-id-type gene_name \\\n",
    "    --sample-participant-lookup output/sample_meta/protocol_example.protein.sample_overlap.txt \\\n",
    "    --sep \",\" \\\n",
    "    --container oras://ghcr.io/cumc/rna_quantification_apptainer:latest"
   ]
  },
  {
   "cell_type": "markdown",
   "id": "smaller-warehouse",
   "metadata": {
    "kernel": "SoS"
   },
   "source": [
    "### ii. Missing Value Imputation\n",
    "\n",
    "This step serves as impute the missing entries for molecular phenotype data. This step is optional for eQTL analysis. But for other QTL analysis, this step is necessary. The missing entries are imputed by `flashier`, a Empirical Bayes Matrix Factorization model. "
   ]
  },
  {
   "cell_type": "code",
   "execution_count": null,
   "metadata": {
    "vscode": {
     "languageId": "plaintext"
    }
   },
   "outputs": [],
   "source": [
    "sos run xqtl-pipeline/pipeline/phenotype_imputation.ipynb flash \\\n",
    "    --phenoFile /phenotype/protocol_example.protein.bed.gz \\\n",
    "    --cwd output/phenotype \\\n",
    "    --prior ebnm_point_normal --varType 1 \\\n",
    "    --container oras://ghcr.io/cumc/omics_imputation_apptainer:latest"
   ]
  },
  {
   "cell_type": "markdown",
   "id": "technical-facing",
   "metadata": {
    "kernel": "SoS"
   },
   "source": [
    "### iii. Partition by Chromosome"
   ]
  },
  {
   "cell_type": "code",
   "execution_count": null,
   "id": "quiet-adventure",
   "metadata": {
    "kernel": "Bash",
    "vscode": {
     "languageId": "plaintext"
    }
   },
   "outputs": [],
   "source": [
    "sos run xqtl-pipeline/pipeline/phenotype_formatting.ipynb phenotype_by_chrom \\\n",
    "    --cwd output/phenotype_by_chrom \\\n",
    "    --phenoFile output/phenotype/protocol_example.protein.bed.gz \\\n",
    "    --chrom `for i in {21..22}; do echo chr$i; done` \\\n",
    "    --container oras://ghcr.io/cumc/bioinfo_apptainer:latest"
   ]
  },
  {
   "cell_type": "markdown",
   "id": "checked-complex",
   "metadata": {
    "kernel": "SoS"
   },
   "source": [
    "## Anticipated Results"
   ]
  },
  {
   "cell_type": "code",
   "execution_count": null,
   "id": "31581f69-76b7-4586-9c05-e8c3e02cc000",
   "metadata": {
    "kernel": "Bash"
   },
   "outputs": [],
   "source": []
  }
 ],
 "metadata": {
  "kernelspec": {
   "display_name": "SoS",
   "language": "sos",
   "name": "sos"
  },
  "language_info": {
   "codemirror_mode": "sos",
   "file_extension": ".sos",
   "mimetype": "text/x-sos",
   "name": "sos",
   "nbconvert_exporter": "sos_notebook.converter.SoS_Exporter",
   "pygments_lexer": "sos"
  },
  "sos": {
   "kernels": [
    [
     "Bash",
     "bash",
     "Bash",
     "#E6EEFF",
     "shell"
    ],
    [
     "SoS",
     "sos",
     "",
     "",
     "sos"
    ]
   ],
   "version": "0.22.4"
  }
 },
 "nbformat": 4,
 "nbformat_minor": 5
}
