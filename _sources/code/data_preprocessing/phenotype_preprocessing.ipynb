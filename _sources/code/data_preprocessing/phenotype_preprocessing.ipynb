{
 "cells": [
  {
   "cell_type": "markdown",
   "id": "defensive-ranking",
   "metadata": {
    "kernel": "SoS"
   },
   "source": [
    "# Phenotype data preprocessing\n",
    "\n",
    "This mini-protocol documents the shared post processing step and some utilities to handle molecular phenotype files including imputations."
   ]
  },
  {
   "cell_type": "markdown",
   "id": "blocked-orchestra",
   "metadata": {
    "kernel": "SoS"
   },
   "source": [
    "#### Miniprotocol Timing\n",
    "\n",
    "This represents the total duration for all miniprotocol phases. While module-specific timings are provided separately on their respective pages, they are also included in this overall estimate. \n",
    "\n",
    "Timing < 12 minutes\n",
    "\n"
   ]
  },
  {
   "cell_type": "markdown",
   "id": "large-banking",
   "metadata": {
    "kernel": "SoS"
   },
   "source": [
    "## Overview\n",
    "\n",
    "This workflow is an application of the phenotype related workflows from the xQTL project pipeline.\n",
    "\n",
    "1. `gene_annotation.ipynb` (step i): Adds genomic coordinate annotation to gene-level molecular phenotype files and converts them to `.bed` format\n",
    "2. `phenotype_imputation.ipynb` (step ii): Impute missing entries of molecular phenotype data\n",
    "3. `phenotype_formatting.ipynb` (step iii): Splits each phenotype file by chromosome\n"
   ]
  },
  {
   "cell_type": "markdown",
   "id": "digital-grocery",
   "metadata": {
    "kernel": "SoS"
   },
   "source": [
    "## Steps"
   ]
  },
  {
   "cell_type": "markdown",
   "id": "conceptual-travel",
   "metadata": {
    "kernel": "SoS"
   },
   "source": [
    "### i. Phenotype Annotation\n",
    "This step serves as annote cooresponding `chr`, `start`, `end`, and `gene_id` to genes in the original phenotype matrix. \n"
   ]
  },
  {
   "cell_type": "code",
   "execution_count": null,
   "id": "44234c47-f791-48b6-8cd8-348f783f4e6e",
   "metadata": {
    "kernel": "Bash"
   },
   "outputs": [],
   "source": [
    "sos run pipeline/gene_annotation.ipynb annotate_coord \\\n",
    "    --cwd output/rnaseq \\\n",
    "    --phenoFile output/rnaseq/bulk_rnaseq_tmp_matrix.low_expression_filtered.outlier_removed.tmm.expression.bed.gz \\\n",
    "    --coordinate-annotation reference_data/Homo_sapiens.GRCh38.103.chr.reformatted.collapse_only.gene.ERCC.gtf \\\n",
    "    --phenotype-id-column gene_id"
   ]
  },
  {
   "cell_type": "markdown",
   "id": "smaller-warehouse",
   "metadata": {
    "kernel": "SoS"
   },
   "source": [
    "### ii. Missing Value Imputation\n",
    "\n",
    "This step serves as impute the missing entries for molecular phenotype data. This step is optional for eQTL analysis. But for other QTL analysis, this step is necessary. The missing entries are imputed by `flashier`, a Empirical Bayes Matrix Factorization model. "
   ]
  },
  {
   "cell_type": "code",
   "execution_count": null,
   "id": "92928533-a13d-4be5-b5ce-6991d9725fec",
   "metadata": {
    "kernel": "SoS"
   },
   "outputs": [],
   "source": [
    "sos run pipeline/phenotype_imputation.ipynb gEBMF \\\n",
    "    --phenoFile data/protocol_example.protein.bed.gz \\\n",
    "    --cwd output/phenotype/impute_gebmf \\\n",
    "    --no-qc-prior-to-impute "
   ]
  },
  {
   "cell_type": "markdown",
   "id": "technical-facing",
   "metadata": {
    "kernel": "SoS"
   },
   "source": [
    "### iii. Partition by Chromosome"
   ]
  },
  {
   "cell_type": "code",
   "execution_count": null,
   "id": "c02fd1f2-487e-4e4f-9cd7-c17e23ecd0af",
   "metadata": {
    "kernel": "Bash"
   },
   "outputs": [],
   "source": [
    "sos run pipeline/phenotype_formatting.ipynb phenotype_by_chrom \\\n",
    "    --cwd output/phenotype/phenotype_by_chrom \\\n",
    "    --phenoFile output/rnaseq/bulk_rnaseq_tmp_matrix.low_expression_filtered.outlier_removed.tmm.expression.bed.bed.gz \\\n",
    "    --name bulk_rnaseq \\\n",
    "    --chrom `for i in {1..22}; do echo chr$i; done`"
   ]
  },
  {
   "cell_type": "markdown",
   "id": "checked-complex",
   "metadata": {
    "kernel": "SoS"
   },
   "source": [
    "## Anticipated Results"
   ]
  },
  {
   "cell_type": "markdown",
   "id": "910fdcf1-a8b4-423e-b655-66e0b1e32215",
   "metadata": {
    "kernel": "Bash"
   },
   "source": [
    "Phenotype preprocessing should result in a phenotype file formatted and ready for use in TensorQTL."
   ]
  },
  {
   "cell_type": "code",
   "execution_count": null,
   "id": "45df71d1-2e87-44ea-99d2-b7ce34d2b66e",
   "metadata": {
    "kernel": "SoS"
   },
   "outputs": [],
   "source": []
  }
 ],
 "metadata": {
  "kernelspec": {
   "display_name": "SoS",
   "language": "sos",
   "name": "sos"
  },
  "language_info": {
   "codemirror_mode": "sos",
   "file_extension": ".sos",
   "mimetype": "text/x-sos",
   "name": "sos",
   "nbconvert_exporter": "sos_notebook.converter.SoS_Exporter",
   "pygments_lexer": "sos"
  },
  "sos": {
   "kernels": [
    [
     "Bash",
     "bash",
     "Bash",
     "#E6EEFF",
     "shell"
    ],
    [
     "SoS",
     "sos",
     "",
     "",
     "sos"
    ]
   ],
   "version": "0.22.4"
  }
 },
 "nbformat": 4,
 "nbformat_minor": 5
}
