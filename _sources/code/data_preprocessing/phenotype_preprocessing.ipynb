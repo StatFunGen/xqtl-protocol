{
 "cells": [
  {
   "cell_type": "markdown",
   "id": "defensive-ranking",
   "metadata": {
    "kernel": "SoS"
   },
   "source": [
    "# Phenotype data preprocessing\n",
    "\n",
    "This mini-protocol documents the shared post processing step and some utilities to handle molecular phenotype files including imputations."
   ]
  },
  {
   "cell_type": "markdown",
   "id": "blocked-orchestra",
   "metadata": {
    "kernel": "SoS"
   },
   "source": [
    "#### Miniprotocol Timing\n",
    "This represents the total duration for all miniprotocol phases. While module-specific timings are provided separately on their respective pages, they are also included in this overall estimate. \n",
    "\n",
    "Timing < X minutes"
   ]
  },
  {
   "cell_type": "markdown",
   "id": "large-banking",
   "metadata": {
    "kernel": "SoS"
   },
   "source": [
    "## Overview\n",
    "\n",
    "This workflow is an application of the phenotype related workflows from the xQTL project pipeline.\n",
    "\n",
    "1. `gene_annotation.ipynb` (step i): Adds genomic coordinate annotation to gene-level molecular phenotype files and converts them to `.bed` format\n",
    "2. `phenotype_imputation.ipynb` (step ii): [FIXME: to be updated]\n",
    "3. `phenotype_formatting.ipynb` (step iii): Splits each phenotype file by chromosome\n"
   ]
  },
  {
   "cell_type": "markdown",
   "id": "digital-grocery",
   "metadata": {
    "kernel": "SoS"
   },
   "source": [
    "## Steps"
   ]
  },
  {
   "cell_type": "markdown",
   "id": "conceptual-travel",
   "metadata": {
    "kernel": "SoS"
   },
   "source": [
    "### i. Phenotype Annotation\n",
    "This step serves as annote cooresponding `chr`, `start`, `end`, and `gene_id` to genes in the original phenotype matrix. \n",
    "\n",
    "**FIXME: somewhere we need to explain where the reference data should be obtained**"
   ]
  },
  {
   "cell_type": "code",
   "execution_count": null,
   "id": "ready-budget",
   "metadata": {
    "kernel": "Bash"
   },
   "outputs": [],
   "source": [
    "sos run xqtl-pipeline/pipeline/gene_annotation.ipynb annotate_coord_protein \\\n",
    "    --cwd output/phenotype \\\n",
    "    --phenoFile xqtl_association/protocol_example.protein.csv \\\n",
    "    --annotation-gtf ../reference_data/Homo_sapiens.GRCh38.103.chr.reformatted.collapse_only.gene.ERCC.gtf \\\n",
    "    --phenotype-id-type gene_name \\\n",
    "    --sample-participant-lookup output/sample_meta/protocol_example.protein.sample_overlap.txt \\\n",
    "    --sep \",\" \\\n",
    "    --container oras://ghcr.io/cumc/rna_quantification_apptainer:latest"
   ]
  },
  {
   "cell_type": "markdown",
   "id": "smaller-warehouse",
   "metadata": {
    "kernel": "SoS"
   },
   "source": [
    "### ii. Missing Value Imputation\n",
    "\n",
    "FIXME: mention that for eQTL it is fine to skip this.\n",
    "\n",
    "FIXME: For this step we are still working out the best approach. This will be updated with the proper imputation command once we finalize on the simulation results (currently very much likely, using `flashier`)."
   ]
  },
  {
   "cell_type": "markdown",
   "id": "technical-facing",
   "metadata": {
    "kernel": "SoS"
   },
   "source": [
    "### iii. Partition by Chromosome"
   ]
  },
  {
   "cell_type": "code",
   "execution_count": null,
   "id": "quiet-adventure",
   "metadata": {
    "kernel": "Bash",
    "vscode": {
     "languageId": "plaintext"
    }
   },
   "outputs": [],
   "source": [
    "sos run xqtl-pipeline/pipeline/phenotype_formatting.ipynb phenotype_by_chrom \\\n",
    "    --cwd output/phenotype_by_chrom \\\n",
    "    --phenoFile output/phenotype/protocol_example.protein.bed.gz \\\n",
    "    --chrom `for i in {21..22}; do echo chr$i; done` \\\n",
    "    --container oras://ghcr.io/cumc/bioinfo_apptainer:latest"
   ]
  },
  {
   "cell_type": "markdown",
   "id": "checked-complex",
   "metadata": {
    "kernel": "SoS"
   },
   "source": [
    "## Anticipated Results"
   ]
  }
 ],
 "metadata": {
  "kernelspec": {
   "display_name": "SoS",
   "language": "sos",
   "name": "sos"
  },
  "language_info": {
   "codemirror_mode": "sos",
   "file_extension": ".sos",
   "mimetype": "text/x-sos",
   "name": "sos",
   "nbconvert_exporter": "sos_notebook.converter.SoS_Exporter",
   "pygments_lexer": "sos"
  },
  "sos": {
   "kernels": [
    [
     "Bash",
     "bash",
     "Bash",
     "#E6EEFF",
     "shell"
    ],
    [
     "SoS",
     "sos",
     "",
     "",
     "sos"
    ]
   ],
   "version": "0.22.4"
  }
 },
 "nbformat": 4,
 "nbformat_minor": 5
}
