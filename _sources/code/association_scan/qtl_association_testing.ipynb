{
 "cells": [
  {
   "cell_type": "markdown",
   "id": "mexican-watts",
   "metadata": {
    "kernel": "SoS"
   },
   "source": [
    "# QTL Association Analysis\n",
    "\n",
    "This notebook contains the workflow to perform QTL association analysis."
   ]
  },
  {
   "cell_type": "markdown",
   "id": "absent-elder",
   "metadata": {},
   "source": [
    "#### Miniprotocol Timing\n",
    "This represents the total duration for all miniprotocol phases. While module-specific timings are provided separately on their respective pages, they are also included in this overall estimate. \n",
    "\n",
    "Timing < X minutes"
   ]
  },
  {
   "cell_type": "markdown",
   "id": "published-groove",
   "metadata": {},
   "source": [
    "## Overview\n",
    "\n",
    "This workflow is an application of the QTL association analysis from the xQTL project pipeline.\n",
    "\n",
    "1. `TensorQTL.ipynb` (step i, ii): run cis-QTL and trans-QTL analyses"
   ]
  },
  {
   "cell_type": "markdown",
   "id": "bizarre-resolution",
   "metadata": {
    "kernel": "SoS"
   },
   "source": [
    "## Input\n",
    "* `output/genotype_by_chrom/protocol_example.genotype.chr21_22.genotype_by_chrom_files.txt`: Generated from [genotype_preprocessing](https://github.com/cumc/xqtl-pipeline/tree/main/code/data_preprocessing/genotype_preprocessing.ipynb)\n",
    "* `output/phenotype_by_chrom/protocol_example.protein.bed.phenotype_by_chrom_files.txt`: Generated from [phenotype_preprocessing](https://github.com/cumc/xqtl-pipeline/tree/main/code/data_preprocessing/phenotype_preprocessing.ipynb)\n",
    "* `output/covariate/protocol_example.protein.protocol_example.samples.protocol_example.genotype.chr21_22.pQTL.unrelated.plink_qc.prune.pca.Marchenko_PC.gz`: Generated from [covariates_preprocessing](https://github.com/cumc/xqtl-pipeline/tree/main/code/data_preprocessing/covariate_processing.ipynb)\n",
    "* `prototype_example/protocol_example/protocol_example.protein.enhanced_cis_chr21_chr22.bed`: this is TAD-B list generated based on the TADB list [`TADB_enhanced_cis.bed`](https://github.com/cumc/fungen-xqtl-analysis/blob/main/resource/TADB_enhanced_cis.bed) to handle protein data. The code to generate it can be found in [create_protocol_example_data](https://github.com/cumc/fungen-xqtl-analysis/blob/main/analysis/Wang_Columbia/ROSMAP/MWE/create_protocol_example_data.ipynb). Please be noted that, all molecular_trait_id in the phenotype data are suppose to have a customized cis window corresponding to it."
   ]
  },
  {
   "cell_type": "markdown",
   "id": "continuous-hunter",
   "metadata": {
    "kernel": "SoS"
   },
   "source": [
    "## Output\n",
    "- Empirical cis results: /mnt/vast/hpc/csg/molecular_phenotype_calling/pQTL_cis/rosmap\n",
    "- Standardized cis results: /mnt/vast/hpc/csg/molecular_phenotype_calling/pQTL_cis/rosmap_stad/pQTL.#"
   ]
  },
  {
   "cell_type": "markdown",
   "id": "surrounded-entrepreneur",
   "metadata": {},
   "source": [
    "## Steps"
   ]
  },
  {
   "cell_type": "markdown",
   "id": "absolute-planning",
   "metadata": {
    "kernel": "SoS"
   },
   "source": [
    "### i. Cis TensorQTL Command "
   ]
  },
  {
   "cell_type": "code",
   "execution_count": null,
   "id": "iraqi-crown",
   "metadata": {
    "kernel": "SoS"
   },
   "outputs": [],
   "source": [
    "sos run xqtl-pipeline/pipeline/TensorQTL.ipynb cis \\\n",
    "    --genotype-file output/protocol_example.genotype.chr21_22.genotype_by_chrom_files.txt \\\n",
    "    --phenotype-file output/phenotype_by_chrom/protocol_example.protein.bed.phenotype_by_chrom_files.txt \\\n",
    "    --covariate-file output/covariate/protocol_example.protein.protocol_example.samples.protocol_example.genotype.chr21_22.pQTL.plink_qc.prune.pca.Marchenko_PC.gz \\\n",
    "    --customized-cis-windows xqtl_association/protocol_example.protein.enhanced_cis_chr21_chr22.bed \\\n",
    "    --cwd output/cis_association/ \\\n",
    "    --MAC 5 --numThreads 2 -J 22 \\\n",
    "    --container oras://ghcr.io/cumc/tensorqtl_apptainer:latest"
   ]
  },
  {
   "cell_type": "markdown",
   "id": "dramatic-remainder",
   "metadata": {
    "kernel": "SoS"
   },
   "source": [
    "### ii. Trans TensorQTL Command \n",
    "Some protein is not in the customized cis windows list. There we will need to remove them from the analysis by create a region_list. Noted that the region list need to be a actual file. So `<()` file is not acceptable. "
   ]
  },
  {
   "cell_type": "code",
   "execution_count": 55,
   "id": "interesting-method",
   "metadata": {},
   "outputs": [],
   "source": [
    "zcat output/phenotype/protocol_example.protein.bed.gz | cut -f 1,2,3,4 | grep -v -e ENSG00000163554 \\\n",
    "    -e ENSG00000171564 -e ENSG00000171560 -e ENSG00000171557 > output/protocol_example.protein.region_list"
   ]
  },
  {
   "cell_type": "markdown",
   "id": "royal-stationery",
   "metadata": {},
   "source": [
    "It take more than 180G of mem to run the following commands."
   ]
  },
  {
   "cell_type": "code",
   "execution_count": null,
   "id": "veterinary-accommodation",
   "metadata": {},
   "outputs": [],
   "source": [
    "sos run xqtl-pipeline/pipeline/TensorQTL.ipynb trans \\\n",
    "    --genotype-file output/protocol_example.genotype.chr21_22.genotype_by_chrom_files.txt \\\n",
    "    --phenotype-file output/phenotype_by_chrom/protocol_example.protein.bed.phenotype_by_chrom_files.txt \\\n",
    "    --region-list output/phenotype/protocol_example.protein.region_list \\\n",
    "    --covariate-file output/protocol_example.protein.protocol_example.samples.protocol_example.genotype.chr21_22.pQTL.unrelated.plink_qc.prune.pca.Marchenko_PC.gz \\\n",
    "    --customized-cis-windows xqtl_association/protocol_example.protein.enhanced_cis_chr21_chr22.bed \\\n",
    "    --cwd output/trans_association/ \\\n",
    "    --MAC 5 --numThreads 2 -J 22 \\\n",
    "    --container oras://ghcr.io/cumc/tensorqtl_apptainer:latest"
   ]
  },
  {
   "cell_type": "markdown",
   "id": "composite-sitting",
   "metadata": {
    "kernel": "SoS"
   },
   "source": [
    "### Standardize the results - To be updated, you can safely skip it for now."
   ]
  },
  {
   "cell_type": "markdown",
   "id": "arabic-prototype",
   "metadata": {
    "kernel": "SoS"
   },
   "source": [
    "#### Generate yml"
   ]
  },
  {
   "cell_type": "code",
   "execution_count": null,
   "id": "historic-absence",
   "metadata": {
    "kernel": "SoS"
   },
   "outputs": [],
   "source": [
    "sos run xqtl-pipeline/pipeline/yml_generator.ipynb yml_list \\\n",
    "    --sumstat-list /mnt/vast/hpc/csg/molecular_phenotype_calling/pQTL_cis/TADB/TensorQTL.cis._recipe.tsv \\\n",
    "    --cwd /mnt/vast/hpc/csg/molecular_phenotype_calling/pQTL_cis/rosmap_stad \\\n",
    "    --name pQTL \\\n",
    "    --container /mnt/vast/hpc/csg/containers/bioinfo.sif"
   ]
  },
  {
   "cell_type": "markdown",
   "id": "sustained-pearl",
   "metadata": {
    "kernel": "SoS"
   },
   "source": [
    "#### Generate the target"
   ]
  },
  {
   "cell_type": "code",
   "execution_count": null,
   "id": "stainless-march",
   "metadata": {
    "kernel": "SoS"
   },
   "outputs": [],
   "source": [
    "sos run xqtl-pipeline/pipeline/summary_stats_standardizer.ipynb TARGET_generation \\\n",
    "    --fasta /mnt/vast/hpc/csg/molecular_phenotype_calling/reference_data/GRCh38_full_analysis_set_plus_decoy_hla.noALT_noHLA_noDecoy_ERCC.fasta  \\\n",
    "    --sumstat-list /mnt/vast/hpc/csg/molecular_phenotype_calling/pQTL_cis/rosmap_stad/qced_sumstat_list.txt \\\n",
    "    --yml-list /mnt/vast/hpc/csg/molecular_phenotype_calling/pQTL_cis/rosmap_stad/yml_list.txt  \\\n",
    "    --cwd /mnt/vast/hpc/csg/molecular_phenotype_calling/pQTL_cis/rosmap_stad \\\n",
    "    --container /mnt/vast/hpc/csg/containers/bioinfo.sif \\\n",
    "    --walltime 100h \\\n",
    "    --numThreads 20 \\\n",
    "    --mem 150G -J 50 -c /mnt/vast/hpc/csg/molecular_phenotype_calling/csg.yml -q csg"
   ]
  },
  {
   "cell_type": "markdown",
   "id": "outside-armenia",
   "metadata": {
    "kernel": "SoS"
   },
   "source": [
    "#### Standardized the sumstat"
   ]
  },
  {
   "cell_type": "code",
   "execution_count": null,
   "id": "unnecessary-electricity",
   "metadata": {
    "kernel": "SoS"
   },
   "outputs": [],
   "source": [
    "sos run xqtl-pipeline/pipeline/summary_stats_standardizer.ipynb sumstat_standardization \\\n",
    "    --sumstat-list /mnt/vast/hpc/csg/molecular_phenotype_calling/pQTL_cis/rosmap_stad/qced_sumstat_list.txt  \\\n",
    "    --yml-list /mnt/vast/hpc/csg/molecular_phenotype_calling/pQTL_cis/rosmap_stad/yml_list.txt \\\n",
    "    --TARGET_list /mnt/vast/hpc/csg/molecular_phenotype_calling/pQTL_cis/rosmap_stad/TARGET.ref.list \\\n",
    "    --cwd /mnt/vast/hpc/csg/molecular_phenotype_calling/pQTL_cis/rosmap_stad/ \\\n",
    "    --container /mnt/vast/hpc/csg/containers/bioinfo.sif \\\n",
    "    --walltime 100h \\\n",
    "    --numThreads 20 \\\n",
    "    --mem 200G -J 50 -c /mnt/vast/hpc/csg/molecular_phenotype_calling/csg.yml -q csg"
   ]
  },
  {
   "cell_type": "markdown",
   "id": "broken-programming",
   "metadata": {
    "kernel": "SoS"
   },
   "source": [
    "#### Convert sumstats to VCF"
   ]
  },
  {
   "cell_type": "code",
   "execution_count": 1,
   "id": "gentle-marker",
   "metadata": {
    "kernel": "SoS"
   },
   "outputs": [],
   "source": [
    "sos run xqtl-pipeline/pipeline/summary_stats_standardizer.ipynb sumstat_to_vcf \\\n",
    "    --sumstat-list /mnt/vast/hpc/csg/molecular_phenotype_calling/pQTL_cis/rosmap_stad/qced_sumstat_list.txt  \\\n",
    "    --cwd /mnt/vast/hpc/csg/molecular_phenotype_calling/pQTL_cis/rosmap_stad/ \\\n",
    "    --container /mnt/vast/hpc/csg/containers/bioinfo.sif \\\n",
    "    --walltime 100h \\\n",
    "    --numThreads 20 \\\n",
    "    --mem 200G -J 50 -c /mnt/vast/hpc/csg/molecular_phenotype_calling/csg.yml -q csg"
   ]
  },
  {
   "cell_type": "markdown",
   "id": "small-albania",
   "metadata": {
    "kernel": "SoS"
   },
   "source": [
    "#### Associate result processing"
   ]
  },
  {
   "cell_type": "code",
   "execution_count": null,
   "id": "conditional-boulder",
   "metadata": {
    "kernel": "SoS"
   },
   "outputs": [],
   "source": [
    "sos run xqtl-pipeline/pipeline/assoc_result_processing.ipynb genome \\\n",
    "    --vcf `ls /mnt/vast/hpc/csg/molecular_phenotype_calling/pQTL_cis/rosmap_stad/*/*cis_long_table.vcf` \\\n",
    "    --padjust-method \"bonferroni\" \\\n",
    "    --container /mnt/vast/hpc/csg/containers/bioinfo.sif \\\n",
    "    --mem 200G -J 22 -q csg -c /mnt/vast/hpc/csg/molecular_phenotype_calling/csg.yml  "
   ]
  },
  {
   "cell_type": "markdown",
   "id": "noted-saturday",
   "metadata": {
    "kernel": "SoS"
   },
   "source": [
    "#### Summary of result - To be update"
   ]
  },
  {
   "cell_type": "code",
   "execution_count": null,
   "id": "green-scenario",
   "metadata": {
    "kernel": "SoS"
   },
   "outputs": [],
   "source": [
    "cat /mnt/vast/hpc/csg/molecular_phenotype_calling/pQTL_cis/rosmap_stad/pQTL.1/pheno_recipe_rosmap_pheno.rosmap_cov.ROSMAP_NIA_WGS.leftnorm.filtered.pQTL.unrelated.filtered.prune.pca.resid.Marchenko_pc.1.n_sig.txt"
   ]
  },
  {
   "cell_type": "markdown",
   "id": "laughing-hormone",
   "metadata": {
    "kernel": "SoS"
   },
   "source": [
    "| tissue | n_assoc | n_snp | n_gene | \n",
    "| --- | --- | --- | --- |\n",
    "| pQTL | 290330 | 266394 | 3166 | "
   ]
  }
 ],
 "metadata": {
  "kernelspec": {
   "display_name": "Bash",
   "language": "bash",
   "name": "bash"
  },
  "language_info": {
   "codemirror_mode": "shell",
   "file_extension": ".sh",
   "mimetype": "text/x-sh",
   "name": "bash"
  },
  "sos": {
   "kernels": [
    [
     "SoS",
     "sos",
     "",
     "",
     "sos"
    ]
   ],
   "version": "0.24.1"
  }
 },
 "nbformat": 4,
 "nbformat_minor": 5
}
