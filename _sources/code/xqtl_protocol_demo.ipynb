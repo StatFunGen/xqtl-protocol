{
 "cells": [
  {
   "cell_type": "markdown",
   "id": "linear-outdoors",
   "metadata": {
    "kernel": "SoS",
    "tags": []
   },
   "source": [
    "# Illustration of xQTL protocol\n",
    "\n",
    "This notebook illustrates the computational protocols available from this repository for the detection and analysis of molecular QTLs (xQTLs). A minimal toy data-set consisting of 49 de-identified samples are used for the analysis."
   ]
  },
  {
   "cell_type": "markdown",
   "id": "sealed-charles",
   "metadata": {
    "kernel": "SoS",
    "tags": []
   },
   "source": [
    "## Analysis\n",
    "\n",
    "Please visit [the homepage of the protocol website](https://cumc.github.io/xqtl-pipeline/) for the general background on this resource, in particular the [Getting Started](https://cumc.github.io/xqtl-pipeline/README.html#getting-started) section. To perform a complete analysis from molecular phenotype quantification to xQTL discovery, please conduct your analysis in the order listed below, each link contains a mini-protocol for a specific task. \n",
    "\n",
    "### Bulk RNA-seq molecular phenotype quantification\n",
    "\n",
    "1. [Reference data munging](https://cumc.github.io/xqtl-pipeline/code/data_preprocessing/reference_data.html)\n",
    "2. [Quantification of gene expression](https://cumc.github.io/xqtl-pipeline/code/molecular_phenotypes/bulk_expression.html)\n",
    "3. [Quantification of alternative splicing events](https://cumc.github.io/xqtl-pipeline/code/molecular_phenotypes/splicing.html)\n",
    "\n",
    "### xQTL association analysis\n",
    "\n",
    "1. [Phenotype data munging](https://cumc.github.io/xqtl-pipeline/code/data_preprocessing/phenotype_preprocessing.html)\n",
    "2. [Genotype data munging](https://cumc.github.io/xqtl-pipeline/code/data_preprocessing/genotype_preprocessing.html)\n",
    "3. [Covariates data munging](https://cumc.github.io/xqtl-pipeline/code/data_preprocessing/covariate_preprocessing.html)\n",
    "4. [cis-QTL association testing](https://cumc.github.io/xqtl-pipeline/code/association_scan/cisQTL_scan.html)\n",
    "5. [trans-QTL association testing](https://cumc.github.io/xqtl-pipeline/code/association_scan/transQTL_scan.html)"
   ]
  },
  {
   "cell_type": "markdown",
   "id": "tutorial-infrastructure",
   "metadata": {
    "kernel": "SoS",
    "tags": []
   },
   "source": [
    "## Data\n",
    "\n",
    "For record keeping: preparation of the demo dataset is documented [on this page](https://github.com/gaow/lab-wiki/blob/master/private/data/xQTL_Protocol.md) --- this is a private repository accessible to Gao Wang's group members."
   ]
  }
 ],
 "metadata": {
  "kernelspec": {
   "display_name": "Bash",
   "language": "bash",
   "name": "bash"
  },
  "language_info": {
   "codemirror_mode": "shell",
   "file_extension": ".sh",
   "mimetype": "text/x-sh",
   "name": "bash"
  },
  "sos": {
   "kernels": [
    [
     "SoS",
     "sos",
     "",
     ""
    ]
   ],
   "version": "0.22.6"
  }
 },
 "nbformat": 4,
 "nbformat_minor": 5
}
