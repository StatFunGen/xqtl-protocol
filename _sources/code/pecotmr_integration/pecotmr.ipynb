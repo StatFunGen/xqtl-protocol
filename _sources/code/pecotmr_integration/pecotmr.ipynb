{
 "cells": [
  {
   "cell_type": "markdown",
   "id": "fuzzy-merchant",
   "metadata": {
    "kernel": "SoS"
   },
   "source": [
    "# The PECOTMR intergration framework"
   ]
  },
  {
   "cell_type": "markdown",
   "id": "compliant-swimming",
   "metadata": {
    "kernel": "Markdown"
   },
   "source": [
    "FIXME: need PECOTMR mini protocol"
   ]
  }
 ],
 "metadata": {
  "kernelspec": {
   "display_name": "SoS",
   "language": "sos",
   "name": "sos"
  },
  "language_info": {
   "codemirror_mode": "sos",
   "file_extension": ".sos",
   "mimetype": "text/x-sos",
   "name": "sos",
   "nbconvert_exporter": "sos_notebook.converter.SoS_Exporter",
   "pygments_lexer": "sos"
  },
  "sos": {
   "kernels": [
    [
     "Markdown",
     "markdown",
     "markdown",
     "",
     ""
    ],
    [
     "SoS",
     "sos",
     "",
     "",
     "sos"
    ]
   ],
   "version": "0.22.4"
  }
 },
 "nbformat": 4,
 "nbformat_minor": 5
}
