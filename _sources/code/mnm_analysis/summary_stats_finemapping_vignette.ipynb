{
 "cells": [
  {
   "cell_type": "markdown",
   "id": "5cf8e54a-dcb4-4fbe-b09e-1b4b30bd2ef9",
   "metadata": {},
   "source": [
    "# Regression with Summary Statistics (RSS) Fine-Mapping and TWAS with SuSiE\n"
   ]
  },
  {
   "cell_type": "markdown",
   "id": "e675dfd2-63b7-48e1-89cf-182bc281aaf5",
   "metadata": {},
   "source": [
    "## Description"
   ]
  },
  {
   "cell_type": "markdown",
   "id": "972d6a5b-6bff-4ff8-94b9-ec348116e4c6",
   "metadata": {},
   "source": [
    "Last, we include an option to conduct fine-mapping with SuSiE Regression using Summary Statistics (RSS) model and TWAS.\n"
   ]
  },
  {
   "cell_type": "markdown",
   "id": "8063eb8c-0969-4a4a-89a1-bea44971eab6",
   "metadata": {},
   "source": [
    "## Input"
   ]
  },
  {
   "cell_type": "markdown",
   "id": "2cd28b57-4189-4106-b4b2-da76573ea22d",
   "metadata": {},
   "source": [
    "\n",
    "    \n",
    "`--ld-meta-data`: file with chrom, start, end and path columns. For example:\n",
    "```\n",
    "#chrom  start   end     path\n",
    "chr1    101384274       104443097       chr1/chr1_101384274_104443097.cor.xz,chr1/chr1_101384274_104443097.cor.xz.bim\n",
    "chr1    104443097       106225286       chr1/chr1_104443097_106225286.cor.xz,chr1/chr1_104443097_106225286.cor.xz.bim\n",
    "chr1    106225286       109761915       chr1/chr1_106225286_109761915.cor.xz,chr1/chr1_106225286_109761915.cor.xz.bim\n",
    "chr1    109761915       111483530       chr1/chr1_109761915_111483530.cor.xz,chr1/chr1_109761915_111483530.cor.xz.bim\n",
    "```\n",
    "`--gwas-meta-data`: file with information on GWAS. For example:\n",
    "```\n",
    "study_id        chrom   file_path       column_mapping_file     n_sample        n_case  n_control\n",
    "AD_Bellenguez_2022      0       /data/GWAS/AD_GWAS/GCST90027158_buildGRCh38.tsv.gz      /data/GWAS/column_mapping_file/Bellenguez.yml   0       111326  677663\n",
    "AD_Jansen_2021  0       /data/GWAS/AD_GWAS/AD_sumstats_Jansenetal_2019sept.hg38.txt     /data/GWAS/column_mapping_file/Jansen.yml       0       71880   383378\n",
    "AD_Kunkle_Stage1_2019   0       /data/GWAS/AD_GWAS//Kunkle_etal_Stage1_results.txt_file_1_hg38.txt      /data/GWAS/column_mapping_file/Kunkle_stage_1.yml       0       21982   41944\n",
    "AD_Wightman_Full_2021   0       /data/GWAS/AD_GWAS/PGCALZ2full.hg38.txt /data/GWAS/column_mapping_file/AD_Wightman_Full_2021.yml0       90338   1036225\n",
    "```\n",
    "\n",
    "`--qc_method`: set to rss_qc, dentist, or slalom.  \n",
    "\n",
    "`--finemapping_method`: set to single_effect, susie_rss, or bayesian_conditional_regression.  \n",
    "\n",
    "`--cwd`: output path  \n",
    "\n",
    "`--skip_analysis_pip_cutoff`: defaults to 0.025  \n",
    "\n",
    "`--skip_regions`: format as chr:start-end. For example: `6:25000000-35000000`\n",
    "\n",
    "`--region_name`: format as chr:start-end. For example: `22:49355984-50799822`"
   ]
  },
  {
   "cell_type": "markdown",
   "id": "247014fe-47f8-461b-9fc0-2810ea182668",
   "metadata": {},
   "source": [
    "## Minimal Working Example Steps"
   ]
  },
  {
   "cell_type": "markdown",
   "id": "43ffff78-a679-46b0-a63e-31d6274169ba",
   "metadata": {},
   "source": [
    "### v. Run the Summary Statistics Fine-Mapping "
   ]
  },
  {
   "cell_type": "code",
   "execution_count": null,
   "id": "f6ff1d68-1d7c-403f-8674-8c2bb0830f6f",
   "metadata": {},
   "outputs": [],
   "source": [
    "sos run $PATH/rss_analysis.ipynb univariate_rss \\\n",
    "--ld-meta-data $PATH/ldref/ld_meta_file.tsv \\\n",
    "    --gwas-meta-data $PATH/GWAS_sumstat_meta_cloud_Apr_9.tsv \\\n",
    "    --qc_method \"rss_qc\" --impute \\\n",
    "    --finemapping_method \"susie_rss\" \\\n",
    "    --cwd $PATH/output/ \\\n",
    "    --skip_analysis_pip_cutoff 0 \\\n",
    "    --skip_regions 6:25000000-35000000 \\\n",
    "    --region_name 22:49355984-50799822"
   ]
  },
  {
   "cell_type": "markdown",
   "id": "aa1271d0-a5f9-42fb-8993-4d52150e2131",
   "metadata": {},
   "source": [
    "## Anticipated Results"
   ]
  },
  {
   "cell_type": "markdown",
   "id": "96d4ec65-30b4-43c1-be5a-966070ba49b1",
   "metadata": {},
   "source": [
    "Summary statistics fine-mapping produces a results file for each region and gwas of interest."
   ]
  },
  {
   "cell_type": "markdown",
   "id": "7c4d9fe8-f897-4b36-b804-74d4c7ce784d",
   "metadata": {},
   "source": [
    "`RSS_QC_RAISS_imputed.chr22_49355984_50799822.univariate_susie_rss.rds`:\n",
    "* For each region in `region_name` and gwas in the `gwas-meta-data` file:\n",
    "1. `RSS_QC_RAISS_imputed`:  \n",
    " a. `variant_names`  \n",
    " b. `analysis_script`  \n",
    " c. `sumstats`  \n",
    " d. `susie_result_trimmed`  \n",
    " e. `outlier_number`  \n",
    "\n",
    "2. \n",
    " a. `chrom`  \n",
    " b. `pos`  \n",
    " c. `variant_id`  \n",
    " d. `A1`  \n",
    " e. `A2`  \n",
    " f. `var`  \n",
    " g. `raiss_ld_score`  \n",
    " h. `raiss_R2`  \n",
    " i. `pvalue`  \n",
    " j. `effect_allele_frequency`  \n",
    " k. `odds_ratio`  \n",
    " l. `ci_lower`  \n",
    " m. `ci_upper`  \n",
    " n. `beta`  \n",
    " o. `se`  \n",
    " p. `n_case`  \n",
    " q. `n_control`  \n",
    " r. `het_isq`  \n",
    " s. `het_pvalue`  \n",
    " t. `variant_alternate_id`  \n",
    " u. `z`\n",
    "\n",
    "\n",
    "A file for each gwas in `gwas-meta-data` like:\n",
    "`RSS_QC_RAISS_imputed.chr22_49355984_50799822.AD_Bellenguez_EADB_2022.sumstats.tsv.gz`.\n",
    "The contents of these are included in the .rds file above\n"
   ]
  },
  {
   "cell_type": "code",
   "execution_count": null,
   "id": "89c126ec-301f-4c54-a342-c3f7088a6de5",
   "metadata": {},
   "outputs": [],
   "source": []
  }
 ],
 "metadata": {
  "kernelspec": {
   "display_name": "Python 3 (ipykernel)",
   "language": "python",
   "name": "python3"
  },
  "language_info": {
   "codemirror_mode": {
    "name": "ipython",
    "version": 3
   },
   "file_extension": ".py",
   "mimetype": "text/x-python",
   "name": "python",
   "nbconvert_exporter": "python",
   "pygments_lexer": "ipython3",
   "version": "3.10.12"
  }
 },
 "nbformat": 4,
 "nbformat_minor": 5
}
