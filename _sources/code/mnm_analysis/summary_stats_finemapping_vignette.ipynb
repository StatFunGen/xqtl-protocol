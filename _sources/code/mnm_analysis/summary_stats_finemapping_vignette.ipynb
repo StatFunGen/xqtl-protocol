{
 "cells": [
  {
   "cell_type": "markdown",
   "id": "5cf8e54a-dcb4-4fbe-b09e-1b4b30bd2ef9",
   "metadata": {},
   "source": [
    "# Regression with Summary Statistics (RSS) Fine-Mapping and TWAS with SuSiE\n"
   ]
  },
  {
   "cell_type": "markdown",
   "id": "e675dfd2-63b7-48e1-89cf-182bc281aaf5",
   "metadata": {},
   "source": [
    "## Description"
   ]
  },
  {
   "cell_type": "markdown",
   "id": "972d6a5b-6bff-4ff8-94b9-ec348116e4c6",
   "metadata": {},
   "source": [
    "Last, we include an option to conduct fine-mapping with SuSiE Regression using Summary Statistics (RSS) model and TWAS.\n"
   ]
  },
  {
   "cell_type": "markdown",
   "id": "8063eb8c-0969-4a4a-89a1-bea44971eab6",
   "metadata": {},
   "source": [
    "## Input"
   ]
  },
  {
   "cell_type": "markdown",
   "id": "2cd28b57-4189-4106-b4b2-da76573ea22d",
   "metadata": {},
   "source": [
    "\n",
    "    \n",
    "`--ld-meta-data`: file with chrom, start, end and path columns. For example:\n",
    "```\n",
    "#chrom  start   end     path\n",
    "chr1    101384274       104443097       chr1/chr1_101384274_104443097.cor.xz,chr1/chr1_101384274_104443097.cor.xz.bim\n",
    "chr1    104443097       106225286       chr1/chr1_104443097_106225286.cor.xz,chr1/chr1_104443097_106225286.cor.xz.bim\n",
    "chr1    106225286       109761915       chr1/chr1_106225286_109761915.cor.xz,chr1/chr1_106225286_109761915.cor.xz.bim\n",
    "chr1    109761915       111483530       chr1/chr1_109761915_111483530.cor.xz,chr1/chr1_109761915_111483530.cor.xz.bim\n",
    "```\n",
    "`--gwas-meta-data`: file with information on GWAS. For example:\n",
    "```\n",
    "study_id        chrom   file_path       column_mapping_file     n_sample        n_case  n_control\n",
    "AD_Bellenguez_2022      0       /data/GWAS/AD_GWAS/GCST90027158_buildGRCh38.tsv.gz      /data/GWAS/column_mapping_file/Bellenguez.yml   0       111326  677663\n",
    "AD_Jansen_2021  0       /data/GWAS/AD_GWAS/AD_sumstats_Jansenetal_2019sept.hg38.txt     /data/GWAS/column_mapping_file/Jansen.yml       0       71880   383378\n",
    "AD_Kunkle_Stage1_2019   0       /data/GWAS/AD_GWAS//Kunkle_etal_Stage1_results.txt_file_1_hg38.txt      /data/GWAS/column_mapping_file/Kunkle_stage_1.yml       0       21982   41944\n",
    "AD_Wightman_Full_2021   0       /data/GWAS/AD_GWAS/PGCALZ2full.hg38.txt /data/GWAS/column_mapping_file/AD_Wightman_Full_2021.yml0       90338   1036225\n",
    "```\n",
    "\n",
    "`--qc_method`: set to rss_qc, dentist, or slalom.  \n",
    "\n",
    "`--finemapping_method`: set to single_effect, susie_rss, or bayesian_conditional_regression.  \n",
    "\n",
    "`--cwd`: output path  \n",
    "\n",
    "`--skip_analysis_pip_cutoff`: defaults to 0.025  \n",
    "\n",
    "`--skip_regions`: format as chr:start-end. For example: `6:25000000-35000000`\n",
    "\n",
    "`--region_name`: format as chr:start-end. For example: `22:49355984-50799822`"
   ]
  },
  {
   "cell_type": "markdown",
   "id": "2eec8386-d780-463d-8d3e-6f62505c55a3",
   "metadata": {},
   "source": [
    "## Output"
   ]
  },
  {
   "cell_type": "markdown",
   "id": "6991377f-a6ef-45fe-ae78-20feb19fba9d",
   "metadata": {},
   "source": [
    "* `*.sumstats.tsv.gz`\n",
    "```\n",
    "> less RSS_QC_RAISS_imputed.chr11_84267999_86714492.AD_Bellenguez_2022.sumstats.tsv.gz | head\n",
    "chrom   pos     variant_id      A1      A2      Var.x   raiss_ld_score.x        raiss_R2.x      Var.y   raiss_ld_score.y        raiss_R2.y      pvalue  effect_allele_frequency odds_ratio  ci_lower        ci_upper        n_case  n_control       het_isq het_pvalue      beta    se      variants_id_original    Var     raiss_ld_score  z\n",
    "11      84267999        11:84267999:T:C C       T       0.131232630771865       35.033674731767 0.868767369228135                                                                  0.462675463930821\n",
    "11      84268181        11:84268181:CTG:C       C       CTG                             -1      Inf             0.6264  0.9965  1.039   0.891   1.211   83196   386481  0       0.4727                      11:84268181:CTG:C      -1      Inf     -0.486555697823303\n",
    "11      84268207        11:84268207:T:C C       T                               -1      Inf             0.6347  0.9641  0.99    0.948   1.033   85934   401577  52.6    0.0164     11:84268207:T:C  -1      Inf     0.475113122171946\n",
    "11      84268259        11:84268259:C:T T       C                               -1      Inf             0.5809  6e-04   0.875   0.544   1.407   69576   360279  69.8    0.06861    11:84268259:C:T  -1      Inf     -0.551980198019802\n",
    "11      84268265        11:84268265:C:A A       C                               -1      Inf             0.1207  0.035   0.966   0.924   1.009   85934   401577  0       0.6535     11:84268265:C:A  -1      Inf     -1.54910714285714\n",
    "11      84268309        11:84268309:T:TC        TC      T                               -1      Inf             0.425   0.9995  0.833   0.532   1.305   69576   360279  0       0.5788                      11:84268309:T:TC      -1      Inf     0.79763986013986\n",
    "11      84268394        11:84268394:A:T T       A                               -1      Inf             0.8437  0.3875  1.002   0.985   1.018   85934   401577  2.1     0.4233     11:84268394:A:T  -1      Inf     -0.202380952380952\n",
    "11      84268618        11:84268618:C:T T       C                               -1      Inf             0.629   0.0104  1.02    0.941   1.106   85502   400497  0       0.497      11:84268618:C:T  -1      Inf     0.483091787439614\n",
    "11      84268622        11:84268622:C:T T       C                               -1      Inf             0.6138  0.0356  1.011   0.968   1.056   85934   401577  51.5    0.01969    11:84268622:C:T  -1      Inf     0.504504504504505\n",
    "```\n",
    "\n",
    "* `*.univariate_susie_rss.rds`\n",
    "```\n",
    "> str(readRDS(\"/restricted/projectnb/xqtl/xqtl_protocol/toy_xqtl_protocol/output/rss_analysis/univariate_rss/RSS_QC_RAISS_imputed.chr11_84267999_86714492.univariate_susie_rss.rds\"))\n",
    "List of 1\n",
    " $ chr11_84267999_86714492:List of 1\n",
    "  ..$ AD_Bellenguez_2022:List of 2\n",
    "  .. ..$ susie_rss_RSS_QC_RAISS_imputed:List of 6\n",
    "  .. .. ..$ variant_names       : chr [1:10779] \"11:84267999:T:C\" \"11:84268181:CTG:C\" \"11:84268207:T:C\" \"11:84268259:C:T\" ...\n",
    "  .. .. ..$ analysis_script     : chr \"library(pecotmr)\\nlibrary(dplyr)\\nlibrary(data.table)\\nskip_region = c(\\\"6:25000000-35000000\\\")\\nstudies = c(\\\"\"| __truncated__\n",
    "  .. .. ..$ sumstats            :List of 1\n",
    "  .. .. .. ..$ z: num [1:10779] 0.463 -0.487 0.475 -0.552 -1.549 ...\n",
    "  .. .. ..$ top_loci            :'data.frame':\t10 obs. of  6 variables:\n",
    "  .. .. .. ..$ variant_id      : chr [1:10] \"11:86139201:C:T\" \"11:86141937:G:A\" \"11:86144030:ATCT:A\" \"11:86144034:AC:A\" ...\n",
    "  .. .. .. ..$ z               : num [1:10] 12 12 11.6 11.6 11.6 ...\n",
    "  .. .. .. ..$ pip             : num [1:10] 0.2735 0.356 0.0339 0.0336 0.0339 ...\n",
    "  .. .. .. ..$ cs_coverage_0.95: num [1:10] 2 2 2 0 2 2 2 2 1 1\n",
    "  .. .. .. ..$ cs_coverage_0.7 : num [1:10] 2 2 0 0 0 0 0 2 1 1\n",
    "  .. .. .. ..$ cs_coverage_0.5 : num [1:10] 2 2 0 0 0 0 0 0 1 0\n",
    "  .. .. ..$ susie_result_trimmed:List of 9\n",
    "  .. .. .. ..$ pip           : num [1:10779] 1.63e-10 1.72e-10 1.64e-10 1.65e-10 2.45e-10 ...\n",
    "  .. .. .. ..$ sets          :List of 5\n",
    "  .. .. .. .. ..$ cs                :List of 2\n",
    "  .. .. .. .. .. ..$ L1: int [1:2] 7797 7798\n",
    "  .. .. .. .. .. ..$ L2: int [1:7] 7725 7735 7742 7744 7754 7760 7770\n",
    "  .. .. .. .. ..$ purity            :'data.frame':\t2 obs. of  3 variables:\n",
    "  .. .. .. .. .. ..$ min.abs.corr   : num [1:2] 0.994 0.954\n",
    "  .. .. .. .. .. ..$ mean.abs.corr  : num [1:2] 0.994 0.982\n",
    "  .. .. .. .. .. ..$ median.abs.corr: num [1:2] 0.994 0.99\n",
    "  .. .. .. .. ..$ cs_index          : int [1:2] 1 2\n",
    "  .. .. .. .. ..$ coverage          : num [1:2] 0.992 0.958\n",
    "  .. .. .. .. ..$ requested_coverage: num 0.95\n",
    "  .. .. .. ..$ cs_corr       : num [1:2, 1:2] 1 0.64 0.64 1\n",
    "  .. .. .. .. ..- attr(*, \"dimnames\")=List of 2\n",
    "  .. .. .. .. .. ..$ : chr [1:2] \"L1\" \"L2\"\n",
    "  .. .. .. .. .. ..$ : chr [1:2] \"L1\" \"L2\"\n",
    "  .. .. .. ..$ sets_secondary:List of 2\n",
    "  .. .. .. .. ..$ coverage_0.7:List of 2\n",
    "  .. .. .. .. .. ..$ sets   :List of 5\n",
    "  .. .. .. .. .. .. ..$ cs                :List of 2\n",
    "  .. .. .. .. .. .. .. ..$ L1: int [1:2] 7797 7798\n",
    "  .. .. .. .. .. .. .. ..$ L2: int [1:3] 7725 7735 7770\n",
    "  .. .. .. .. .. .. ..$ purity            :'data.frame':\t2 obs. of  3 variables:\n",
    "  .. .. .. .. .. .. .. ..$ min.abs.corr   : num [1:2] 0.994 0.954\n",
    "  .. .. .. .. .. .. .. ..$ mean.abs.corr  : num [1:2] 0.994 0.968\n",
    "  .. .. .. .. .. .. .. ..$ median.abs.corr: num [1:2] 0.994 0.96\n",
    "  .. .. .. .. .. .. ..$ cs_index          : int [1:2] 1 2\n",
    "  .. .. .. .. .. .. ..$ coverage          : num [1:2] 0.992 0.73\n",
    "  .. .. .. .. .. .. ..$ requested_coverage: num 0.7\n",
    "  .. .. .. .. .. ..$ cs_corr: num [1:2, 1:2] 1 0.64 0.64 1\n",
    "  .. .. .. .. .. .. ..- attr(*, \"dimnames\")=List of 2\n",
    "  .. .. .. .. .. .. .. ..$ : chr [1:2] \"L1\" \"L2\"\n",
    "  .. .. .. .. .. .. .. ..$ : chr [1:2] \"L1\" \"L2\"\n",
    "  .. .. .. .. ..$ coverage_0.5:List of 2\n",
    "  .. .. .. .. .. ..$ sets   :List of 5\n",
    "  .. .. .. .. .. .. ..$ cs                :List of 2\n",
    "  .. .. .. .. .. .. .. ..$ L1: int 7797\n",
    "  .. .. .. .. .. .. .. ..$ L2: int [1:2] 7725 7735\n",
    "  .. .. .. .. .. .. ..$ purity            :'data.frame':\t2 obs. of  3 variables:\n",
    "  .. .. .. .. .. .. .. ..$ min.abs.corr   : num [1:2] 1 0.96\n",
    "  .. .. .. .. .. .. .. ..$ mean.abs.corr  : num [1:2] 1 0.96\n",
    "  .. .. .. .. .. .. .. ..$ median.abs.corr: num [1:2] 1 0.96\n",
    "  .. .. .. .. .. .. ..$ cs_index          : int [1:2] 1 2\n",
    "  .. .. .. .. .. .. ..$ coverage          : num [1:2] 0.558 0.629\n",
    "  .. .. .. .. .. .. ..$ requested_coverage: num 0.5\n",
    "  .. .. .. .. .. ..$ cs_corr: num [1:2, 1:2] 1 0.64 0.64 1\n",
    "  .. .. .. .. .. .. ..- attr(*, \"dimnames\")=List of 2\n",
    "  .. .. .. .. .. .. .. ..$ : chr [1:2] \"L1\" \"L2\"\n",
    "  .. .. .. .. .. .. .. ..$ : chr [1:2] \"L1\" \"L2\"\n",
    "  .. .. .. ..$ alpha         : num [1:2, 1:10779] 2.29e-16 1.63e-10 2.09e-16 1.72e-10 2.07e-16 ...\n",
    "  .. .. .. .. ..- attr(*, \"dimnames\")=List of 2\n",
    "  .. .. .. .. .. ..$ : NULL\n",
    "  .. .. .. .. .. ..$ : chr [1:10779] \"11:84267999:T:C\" \"11:84268181:CTG:C\" \"11:84268207:T:C\" \"11:84268259:C:T\" ...\n",
    "  .. .. .. ..$ lbf_variable  : num [1:2, 1:10779] -1.97 -1.77 -2.06 -1.72 -2.07 ...\n",
    "  .. .. .. .. ..- attr(*, \"dimnames\")=List of 2\n",
    "  .. .. .. .. .. ..$ : NULL\n",
    "  .. .. .. .. .. ..$ : chr [1:10779] \"11:84267999:T:C\" \"11:84268181:CTG:C\" \"11:84268207:T:C\" \"11:84268259:C:T\" ...\n",
    "  .. .. .. ..$ V             : num [1:2] 8.98e-05 5.29e-05\n",
    "  .. .. .. ..$ niter         : int 13\n",
    "  .. .. .. ..$ max_L         : int 5\n",
    "  .. .. .. ..- attr(*, \"class\")= chr \"susie\"\n",
    "  .. .. ..$ outlier_number      : int 0\n",
    "  .. ..$ rss_data_analyzed             :'data.frame':\t10779 obs. of  26 variables:\n",
    "  .. .. ..$ chrom                  : chr [1:10779] \"11\" \"11\" \"11\" \"11\" ...\n",
    "  .. .. ..$ pos                    : int [1:10779] 84267999 84268181 84268207 84268259 84268265 84268309 84268394 84268618 84268622 84268650 ...\n",
    "  .. .. ..$ variant_id             : chr [1:10779] \"11:84267999:T:C\" \"11:84268181:CTG:C\" \"11:84268207:T:C\" \"11:84268259:C:T\" ...\n",
    "  .. .. ..$ A1                     : chr [1:10779] \"C\" \"C\" \"C\" \"T\" ...\n",
    "  .. .. ..$ A2                     : chr [1:10779] \"T\" \"CTG\" \"T\" \"C\" ...\n",
    "  .. .. ..$ Var.x                  : num [1:10779] 0.131 NA NA NA NA ...\n",
    "  .. .. ..$ raiss_ld_score.x       : num [1:10779] 35 NA NA NA NA ...\n",
    "  .. .. ..$ raiss_R2.x             : num [1:10779] 0.869 NA NA NA NA ...\n",
    "  .. .. ..$ Var.y                  : num [1:10779] NA -1 -1 -1 -1 -1 -1 -1 -1 -1 ...\n",
    "  .. .. ..$ raiss_ld_score.y       : num [1:10779] NA Inf Inf Inf Inf ...\n",
    "  .. .. ..$ raiss_R2.y             : num [1:10779] NA NA NA NA NA NA NA NA NA NA ...\n",
    "  .. .. ..$ pvalue                 : num [1:10779] NA 0.626 0.635 0.581 0.121 ...\n",
    "  .. .. ..$ effect_allele_frequency: num [1:10779] NA 0.9965 0.9641 0.0006 0.035 ...\n",
    "  .. .. ..$ odds_ratio             : num [1:10779] NA 1.039 0.99 0.875 0.966 ...\n",
    "  .. .. ..$ ci_lower               : num [1:10779] NA 0.891 0.948 0.544 0.924 0.532 0.985 0.941 0.968 0.982 ...\n",
    "  .. .. ..$ ci_upper               : num [1:10779] NA 1.21 1.03 1.41 1.01 ...\n",
    "  .. .. ..$ n_case                 : num [1:10779] NA 83196 85934 69576 85934 ...\n",
    "  .. .. ..$ n_control              : num [1:10779] NA 386481 401577 360279 401577 ...\n",
    "  .. .. ..$ het_isq                : num [1:10779] NA 0 52.6 69.8 0 0 2.1 0 51.5 0 ...\n",
    "  .. .. ..$ het_pvalue             : num [1:10779] NA 0.4727 0.0164 0.0686 0.6535 ...\n",
    "  .. .. ..$ beta                   : num [1:10779] NA NA NA NA NA NA NA NA NA NA ...\n",
    "  .. .. ..$ se                     : num [1:10779] NA NA NA NA NA NA NA NA NA NA ...\n",
    "  .. .. ..$ variants_id_original   : chr [1:10779] NA \"11:84268181:CTG:C\" \"11:84268207:T:C\" \"11:84268259:C:T\" ...\n",
    "  .. .. ..$ Var                    : num [1:10779] NA -1 -1 -1 -1 -1 -1 -1 -1 -1 ...\n",
    "  .. .. ..$ raiss_ld_score         : num [1:10779] NA Inf Inf Inf Inf ...\n",
    "  .. .. ..$ z                      : num [1:10779] 0.463 -0.487 0.475 -0.552 -1.549 ..\n",
    "  \n",
    "```  "
   ]
  },
  {
   "cell_type": "markdown",
   "id": "247014fe-47f8-461b-9fc0-2810ea182668",
   "metadata": {},
   "source": [
    "## Minimal Working Example Steps"
   ]
  },
  {
   "cell_type": "markdown",
   "id": "43ffff78-a679-46b0-a63e-31d6274169ba",
   "metadata": {},
   "source": [
    "### v. [Run the Summary Statistics Fine-Mapping](https://statfungen.github.io/xqtl-protocol/code/mnm_analysis/mnm_methods/rss_analysis.html#minimal-working-example)"
   ]
  },
  {
   "cell_type": "code",
   "execution_count": null,
   "id": "f6ff1d68-1d7c-403f-8674-8c2bb0830f6f",
   "metadata": {},
   "outputs": [],
   "source": [
    "sos run pipeline/rss_analysis.ipynb univariate_rss \\\n",
    "    --ld-meta-data data/ld_meta_file_with_bim.tsv \\\n",
    "    --gwas-meta-data data/mnm_regression/gwas_meta_data.txt \\\n",
    "    --qc_method \"rss_qc\" --impute \\\n",
    "    --finemapping_method \"susie_rss\" \\\n",
    "    --cwd output/rss_analysis \\\n",
    "    --skip_analysis_pip_cutoff 0 \\\n",
    "    --skip_regions 6:25000000-35000000 \\\n",
    "    --region_name 22:49355984-50799822"
   ]
  },
  {
   "cell_type": "markdown",
   "id": "aa1271d0-a5f9-42fb-8993-4d52150e2131",
   "metadata": {},
   "source": [
    "## Anticipated Results"
   ]
  },
  {
   "cell_type": "markdown",
   "id": "96d4ec65-30b4-43c1-be5a-966070ba49b1",
   "metadata": {},
   "source": [
    "Summary statistics fine-mapping produces a results file for each region and gwas of interest."
   ]
  },
  {
   "cell_type": "markdown",
   "id": "7c4d9fe8-f897-4b36-b804-74d4c7ce784d",
   "metadata": {},
   "source": [
    "`RSS_QC_RAISS_imputed.chr22_49355984_50799822.univariate_susie_rss.rds`:\n",
    "* For each region in `region_name` and gwas in the `gwas-meta-data` file:\n",
    "1. `RSS_QC_RAISS_imputed`:  \n",
    " a. `variant_names`  \n",
    " b. `analysis_script`  \n",
    " c. `sumstats`  \n",
    " d. `susie_result_trimmed`  \n",
    " e. `outlier_number`  \n",
    "\n",
    "2. \n",
    " a. `chrom`  \n",
    " b. `pos`  \n",
    " c. `variant_id`  \n",
    " d. `A1`  \n",
    " e. `A2`  \n",
    " f. `var`  \n",
    " g. `raiss_ld_score`  \n",
    " h. `raiss_R2`  \n",
    " i. `pvalue`  \n",
    " j. `effect_allele_frequency`  \n",
    " k. `odds_ratio`  \n",
    " l. `ci_lower`  \n",
    " m. `ci_upper`  \n",
    " n. `beta`  \n",
    " o. `se`  \n",
    " p. `n_case`  \n",
    " q. `n_control`  \n",
    " r. `het_isq`  \n",
    " s. `het_pvalue`  \n",
    " t. `variant_alternate_id`  \n",
    " u. `z`\n",
    "\n",
    "\n",
    "A file for each gwas in `gwas-meta-data` like:\n",
    "`RSS_QC_RAISS_imputed.chr22_49355984_50799822.AD_Bellenguez_EADB_2022.sumstats.tsv.gz`.\n",
    "The contents of these are included in the .rds file above\n"
   ]
  },
  {
   "cell_type": "code",
   "execution_count": null,
   "id": "89c126ec-301f-4c54-a342-c3f7088a6de5",
   "metadata": {},
   "outputs": [],
   "source": []
  }
 ],
 "metadata": {
  "kernelspec": {
   "display_name": "Python 3 (ipykernel)",
   "language": "python",
   "name": "python3"
  },
  "language_info": {
   "codemirror_mode": {
    "name": "ipython",
    "version": 3
   },
   "file_extension": ".py",
   "mimetype": "text/x-python",
   "name": "python",
   "nbconvert_exporter": "python",
   "pygments_lexer": "ipython3",
   "version": "3.10.12"
  }
 },
 "nbformat": 4,
 "nbformat_minor": 5
}
