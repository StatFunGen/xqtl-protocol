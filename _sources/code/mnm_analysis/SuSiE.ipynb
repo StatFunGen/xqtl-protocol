{
 "cells": [
  {
   "cell_type": "markdown",
   "id": "tutorial-philippines",
   "metadata": {
    "kernel": "SoS"
   },
   "source": [
    "# SuSiE fine-mapping workflow"
   ]
  },
  {
   "cell_type": "markdown",
   "id": "3e44b4ca",
   "metadata": {
    "kernel": "SoS"
   },
   "source": [
    "#### Miniprotocol Timing\n",
    "\n",
    "Timing <X hours"
   ]
  },
  {
   "cell_type": "markdown",
   "id": "03392b4f",
   "metadata": {
    "kernel": "SoS"
   },
   "source": [
    "## Overview\n"
   ]
  },
  {
   "cell_type": "markdown",
   "id": "3f9a770e",
   "metadata": {
    "kernel": "SoS"
   },
   "source": [
    "[SuSiE description]. The modules are as follows:\n",
    "1. `module_name.ipynb` (steps ___): [desc]"
   ]
  },
  {
   "cell_type": "markdown",
   "id": "7780626c",
   "metadata": {
    "kernel": "SoS"
   },
   "source": [
    "## Steps\n"
   ]
  },
  {
   "cell_type": "markdown",
   "id": "23d9b48a",
   "metadata": {
    "kernel": "SoS"
   },
   "source": [
    "### i. Fine-mapping using individual level data\n",
    "\n",
    "`TADB_enhanced_cis.bed` is a list of TADB extended region for each gene, in formatting of gene_id, chr, start, end. The complete version of the file has been uploaded to [GitHub](https://github.com/cumc/fungen-xqtl-analysis/blob/main/resource/TADB_enhanced_cis.bed). Here we use a trimmed version that only contains information for the data we are analyzing in the MWE, ie, the `protocol_example.protein.enhanced_cis_chr21_chr22.bed` to define both the cis-windows and the list of genes to analyze.\n",
    "\n",
    "**This analysis will analyze 29 genes which can take a while. A powerful enough computer node should be used for the analysis**. You can replace `--region-list` with `--region-name` to focus on a few genes of interest, see details in the `mnm_regression.ipynb` document with examples how to use `--region-name` instead for illustration purpose."
   ]
  },
  {
   "cell_type": "code",
   "execution_count": null,
   "id": "stretch-lesson",
   "metadata": {
    "kernel": "Bash"
   },
   "outputs": [],
   "source": [
    "sos run pipeline/mnm_regression.ipynb susie_twas  \\\n",
    "    --name protocol_example_protein  \\\n",
    "    --genoFile input/xqtl_association/protocol_example.genotype.chr21_22.bed   \\\n",
    "    --phenoFile output/phenotype/protocol_example.protein.region_list.txt \\\n",
    "                output/phenotype/protocol_example.protein.region_list.txt \\\n",
    "    --covFile output/covariate/protocol_example.protein.protocol_example.samples.protocol_example.genotype.chr21_22.pQTL.plink_qc.prune.pca.Marchenko_PC.gz \\\n",
    "              output/covariate/protocol_example.protein.protocol_example.samples.protocol_example.genotype.chr21_22.pQTL.plink_qc.prune.pca.Marchenko_PC.gz  \\\n",
    "    --customized-cis-windows input/xqtl_association/protocol_example.protein.enhanced_cis_chr21_chr22.bed \\\n",
    "    --region-list input/xqtl_association/protocol_example.protein.enhanced_cis_chr21_chr22.bed \\\n",
    "    --phenotype-names trait_A trait_B \\\n",
    "    --container oras://ghcr.io/cumc/pecotmr_apptainer:latest"
   ]
  },
  {
   "cell_type": "markdown",
   "id": "corrected-morocco",
   "metadata": {
    "kernel": "Bash"
   },
   "source": [
    "**Please skip everything below because they need to be updated with the new workflow interface**"
   ]
  },
  {
   "cell_type": "markdown",
   "id": "structured-innocent",
   "metadata": {
    "kernel": "SoS"
   },
   "source": [
    "### SuSiE results post processing\n"
   ]
  },
  {
   "cell_type": "code",
   "execution_count": null,
   "id": "intense-worship",
   "metadata": {
    "kernel": "SoS"
   },
   "outputs": [],
   "source": [
    "sos run pipeline/SuSiE_post_processing.ipynb susie_to_tsv \\\n",
    "    --cwd output/ADGWAS_finemapping_extracted/Bellenguez/ --rds_path `ls GWAS_Finemapping_Results/Bellenguez/ADGWAS2022*rds ` \\\n",
    "    --region-list ~/1300_hg38_EUR_LD_blocks_orig.tsv \\\n",
    "    --container containers/stephenslab.sif "
   ]
  },
  {
   "cell_type": "markdown",
   "id": "forbidden-stewart",
   "metadata": {
    "kernel": "SoS"
   },
   "source": [
    "## Plotting susie"
   ]
  },
  {
   "cell_type": "markdown",
   "id": "manufactured-negotiation",
   "metadata": {
    "kernel": "SoS"
   },
   "source": [
    "### PIP land scape plot"
   ]
  },
  {
   "cell_type": "code",
   "execution_count": null,
   "id": "wanted-carry",
   "metadata": {
    "kernel": "SoS"
   },
   "outputs": [],
   "source": [
    "sos run pipeline/SuSiE_post_processing.ipynb susie_pip_landscape_plot \\\n",
    "    --cwd output/test/ --plot_list plot_recipe_668 --annot_tibble ~/Annotatr_builtin_annotation_tibble.tsv -s force --container containers/stephenslab.sif  &\n",
    "\n",
    "sos run pipeline/SuSiE_post_processing.ipynb susie_pip_landscape_plot \\\n",
    "    --cwd output/test/ --plot_list plot_recipe_ADGWAS_uni --annot_tibble ~/Annotatr_builtin_annotation_tibble.tsv -s force --container containers/stephenslab.sif  &\n",
    "\n",
    "sos run pipeline/SuSiE_post_processing.ipynb susie_pip_landscape_plot \\\n",
    "    --cwd output/1182/ --plot_list plot_recipe_1182 --annot_tibble ~/Annotatr_builtin_annotation_tibble.tsv -s force --container containers/stephenslab.sif  &"
   ]
  },
  {
   "cell_type": "code",
   "execution_count": null,
   "id": "romantic-motel",
   "metadata": {
    "kernel": "SoS"
   },
   "outputs": [],
   "source": [
    "sos run pipeline/SuSiE_post_processing.ipynb susie_pip_landscape_plot \\\n",
    "    --cwd output/test_3/ --plot_list plot_recipe --annot_tibble ~/Annotatr_builtin_annotation_tibble.tsv -s force --container containers/stephenslab.sif  &"
   ]
  },
  {
   "cell_type": "code",
   "execution_count": null,
   "id": "suspended-difference",
   "metadata": {
    "kernel": "SoS"
   },
   "outputs": [],
   "source": [
    "sos run pipeline/SuSiE_post_processing.ipynb susie_pip_landscape_plot \\\n",
    "    --cwd output/5g/ --plot_list recipe_5gene --annot_tibble ~/Annotatr_builtin_annotation_tibble.tsv -s force --container containers/stephenslab.sif  &"
   ]
  },
  {
   "cell_type": "markdown",
   "id": "thousand-howard",
   "metadata": {
    "kernel": "SoS"
   },
   "source": [
    "### UpSetR plot "
   ]
  },
  {
   "cell_type": "code",
   "execution_count": null,
   "id": "synthetic-elizabeth",
   "metadata": {
    "kernel": "SoS"
   },
   "outputs": [],
   "source": [
    "sos run pipeline/SuSiE_post_processing.ipynb susie_upsetR_plot \\\n",
    "    --cwd output/updated_mQTL/ --plot_list UpsetR_recipe -s force --container containers/stephenslab.sif &\n",
    "sos run pipeline/SuSiE_post_processing.ipynb susie_upsetR_plot \\\n",
    "    --cwd output/updated_16/ --plot_list UpsetR_recipe_16 -s force --container containers/stephenslab.sif &"
   ]
  },
  {
   "cell_type": "code",
   "execution_count": null,
   "id": "willing-buyer",
   "metadata": {
    "kernel": "SoS"
   },
   "outputs": [],
   "source": [
    "sos run pipeline/SuSiE_post_processing.ipynb susie_upsetR_cs_plot \\\n",
    "    --cwd output/updated_mQTL/ --plot_list UpsetR_recipe_1 -s force --trait_to_select 3 --container containers/stephenslab.sif &\n",
    "sos run pipeline/SuSiE_post_processing.ipynb susie_upsetR_cs_plot \\\n",
    "    --cwd output/updated_16/ --plot_list UpsetR_recipe_16  -s force --trait_to_select 3 --container containers/stephenslab.sif &\n",
    "\n",
    "sos run pipeline/SuSiE_post_processing.ipynb susie_upsetR_cs_plot \\\n",
    "    --cwd output/rerun/ --plot_list UpsetR_recipe_16_rerun  -s force --trait_to_select 3 --container containers/stephenslab.sif &\n",
    "\n",
    "sos run pipeline/SuSiE_post_processing.ipynb susie_upsetR_cs_plot \\\n",
    "    --cwd output/rerun/ --plot_list UpsetR_recipe_16_rerun  -s force --trait_to_select 2 --container containers/stephenslab.sif &\n",
    "\n",
    "sos run pipeline/SuSiE_post_processing.ipynb susie_upsetR_cs_plot \\\n",
    "    --cwd output/rerun/ --plot_list UpsetR_recipe_16_rerun  -s force --trait_to_select 1 --container containers/stephenslab.sif &"
   ]
  },
  {
   "cell_type": "markdown",
   "id": "ce60b93d",
   "metadata": {
    "kernel": "SoS"
   },
   "source": [
    "## Anticipated Results"
   ]
  }
 ],
 "metadata": {
  "kernelspec": {
   "display_name": "SoS",
   "language": "sos",
   "name": "sos"
  },
  "language_info": {
   "codemirror_mode": "sos",
   "file_extension": ".sos",
   "mimetype": "text/x-sos",
   "name": "sos",
   "nbconvert_exporter": "sos_notebook.converter.SoS_Exporter",
   "pygments_lexer": "sos"
  },
  "sos": {
   "kernels": [
    [
     "Bash",
     "bash",
     "Bash",
     "#E6EEFF",
     "shell"
    ],
    [
     "SoS",
     "sos",
     "",
     "",
     "sos"
    ]
   ],
   "version": "0.24.3"
  }
 },
 "nbformat": 4,
 "nbformat_minor": 5
}
