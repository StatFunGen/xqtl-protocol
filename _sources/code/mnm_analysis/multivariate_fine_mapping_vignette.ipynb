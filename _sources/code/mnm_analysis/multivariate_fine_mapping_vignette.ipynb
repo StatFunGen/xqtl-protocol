{
 "cells": [
  {
   "cell_type": "markdown",
   "id": "5839a8ae-e13c-44ba-b06c-8346a0e65655",
   "metadata": {},
   "source": [
    "# Multivariate Fine-Mapping with mvSuSiE and mr.mash\n"
   ]
  },
  {
   "cell_type": "markdown",
   "id": "4b860370-77bb-4095-b9b1-1613ed681bf4",
   "metadata": {},
   "source": [
    "Multivariate fine-mapping using mvSuSiE and mr.mash is also available in our pipeline.\n"
   ]
  },
  {
   "cell_type": "markdown",
   "id": "9a10f540-933d-497c-908f-f868c965007f",
   "metadata": {},
   "source": [
    "## Input"
   ]
  },
  {
   "cell_type": "markdown",
   "id": "5f0bcf9f-55c4-43fa-b846-170c935403b9",
   "metadata": {},
   "source": [
    "\n",
    "    \n",
    "`--genoFile`: path to a text file contatining information on genotype files. For example:\n",
    "```\n",
    "#id     #path\n",
    "21      $PATH/protocol_example.genotype.chr21_22.21.bed\n",
    "22      $PATH/protocol_example.genotype.chr21_22.22.bed\n",
    "```\n",
    "`--phenoFile`: a tab delimited file containing chr, start, end, ID and path for the regions. For example:\n",
    "```\n",
    "#chr    start   end     ID      path\n",
    "chr21   0       14120807        TADB_1297       $PATH/protocol_example.ha.bed.gz\n",
    "chr21   10840000        16880069        TADB_1298       $PATH/protocol_example.ha.bed.gz\n",
    "```\n",
    "\n",
    "`--covFile`: path to a gzipped file containing covariates in the rows, and sample ids in the columns.  \n",
    "`--customized-association-windows`: a tab delimited file containing chr, start, end, and ID regions. For example:\n",
    "```\n",
    "#chr    start   end     ID\n",
    "chr21   0       14120807        TADB_1297\n",
    "chr21   10840000        16880069        TADB_1298\n",
    "```\n",
    "`--region-name`: if you only wish to analyze one region, then include the ID of a region found in the `customized-association-windows` file\n",
    "\n",
    "`--mixture_prior`: rds file from mr.mash"
   ]
  },
  {
   "cell_type": "markdown",
   "id": "397a4dc3-1e4c-4845-ad8b-beed40f1f408",
   "metadata": {},
   "source": [
    "## Minimal Working Example Steps"
   ]
  },
  {
   "cell_type": "markdown",
   "id": "3bca0962-ae57-422c-a79f-892ef3b7f7ae",
   "metadata": {},
   "source": [
    "### iv. Run the Fine-Mapping with mvSuSiE"
   ]
  },
  {
   "cell_type": "code",
   "execution_count": null,
   "id": "dff2c979-52a1-4ec8-a0be-51b289327d37",
   "metadata": {},
   "outputs": [],
   "source": [
    "sos run $PATH/protocol/pipeline/mnm_regression.ipynb mnm \\\n",
    "    --name ROSMAP_mega_eQTL --cwd $PATH/output/ \\\n",
    "    --genoFile $PATH/genofile/ROSMAP_NIA_WGS.leftnorm.bcftools_qc.plink_qc.11.bed \\\n",
    "    --phenoFile $PATH/phenofile/Mic/analysis_ready/phenotype_preprocessing/snuc_pseudo_bulk.Mic.mega.normalized.log2cpm.region_list.txt \\\n",
    "                $PATH/phenofile/Ast/analysis_ready/phenotype_preprocessing/snuc_pseudo_bulk.Ast.mega.normalized.log2cpm.region_list.txt \\\n",
    "                $PATH/phenofile/Oli/analysis_ready/phenotype_preprocessing/snuc_pseudo_bulk.Oli.mega.normalized.log2cpm.region_list.txt \\\n",
    "                $PATH/phenofile/OPC/analysis_ready/phenotype_preprocessing/snuc_pseudo_bulk.OPC.mega.normalized.log2cpm.region_list.txt \\\n",
    "                $PATH/phenofile/Exc/analysis_ready/phenotype_preprocessing/snuc_pseudo_bulk.Exc.mega.normalized.log2cpm.region_list.txt \\\n",
    "                $PATH/phenofile/Inh/analysis_ready/phenotype_preprocessing/snuc_pseudo_bulk.Inh.mega.normalized.log2cpm.region_list.txt \\\n",
    "    --covFile $PATH/phenofile/Mic/analysis_ready/covariate_preprocessing/snuc_pseudo_bulk.Mic.mega.normalized.log2cpm.rosmap_cov.ROSMAP_NIA_WGS.leftnorm.bcftools_qc.plink_qc.snuc_pseudo_bulk_mega.related.plink_qc.extracted.pca.projected.Marchenko_PC.gz \\\n",
    "              $PATH/phenofile/Ast/analysis_ready/covariate_preprocessing/snuc_pseudo_bulk.Ast.mega.normalized.log2cpm.rosmap_cov.ROSMAP_NIA_WGS.leftnorm.bcftools_qc.plink_qc.snuc_pseudo_bulk_mega.related.plink_qc.extracted.pca.projected.Marchenko_PC.gz \\\n",
    "              $PATH/phenofile/Oli/analysis_ready/covariate_preprocessing/snuc_pseudo_bulk.Oli.mega.normalized.log2cpm.rosmap_cov.ROSMAP_NIA_WGS.leftnorm.bcftools_qc.plink_qc.snuc_pseudo_bulk_mega.related.plink_qc.extracted.pca.projected.Marchenko_PC.gz \\\n",
    "              $PATH/phenofile/OPC/analysis_ready/covariate_preprocessing/snuc_pseudo_bulk.OPC.mega.normalized.log2cpm.rosmap_cov.ROSMAP_NIA_WGS.leftnorm.bcftools_qc.plink_qc.snuc_pseudo_bulk_mega.related.plink_qc.extracted.pca.projected.Marchenko_PC.gz \\\n",
    "              $PATH/phenofile/Exc/analysis_ready/covariate_preprocessing/snuc_pseudo_bulk.Exc.mega.normalized.log2cpm.rosmap_cov.ROSMAP_NIA_WGS.leftnorm.bcftools_qc.plink_qc.snuc_pseudo_bulk_mega.related.plink_qc.extracted.pca.projected.Marchenko_PC.gz \\\n",
    "              $PATH/phenofile/Inh/analysis_ready/covariate_preprocessing/snuc_pseudo_bulk.Inh.mega.normalized.log2cpm.rosmap_cov.ROSMAP_NIA_WGS.leftnorm.bcftools_qc.plink_qc.snuc_pseudo_bulk_mega.related.plink_qc.extracted.pca.projected.Marchenko_PC.gz \\\n",
    "    --customized-association-windows $PATH/windows/TADB_enhanced_cis.coding.bed \\\n",
    "    --region-name ENSG00000073921 --save_data --no-skip-twas-weights \\\n",
    "    --phenotype-names Mic_mega_eQTL Ast_mega_eQTL Oli_mega_eQTL OPC_mega_eQTL Exc_mega_eQTL Inh_mega_eQTL \\\n",
    "    --mixture_prior /data/analysis_result/mash/mixture_prior.EZ.prior.rds \\\n",
    "    --max_cv_variants 5000 \\\n",
    "\t--ld_reference_meta_file $PATH/ldref/ld_meta_file.tsv "
   ]
  },
  {
   "cell_type": "markdown",
   "id": "cc7691e6-954c-4dc1-bac3-25d56026ab96",
   "metadata": {},
   "source": [
    "## Anticipated Results"
   ]
  },
  {
   "cell_type": "markdown",
   "id": "5418a39f-f2a6-48ac-8440-38d692cc3c38",
   "metadata": {},
   "source": [
    "For each gene, multivariate finemapping will produce a file containing results for the top hits and a file containing twas weights produced by susie."
   ]
  },
  {
   "cell_type": "markdown",
   "id": "199a2637-cc0c-4aff-b4ea-a2546936f073",
   "metadata": {},
   "source": [
    "`ROSMAP_mega_eQTL.chr11_ENSG00000073921.multivariate_bvrs.rds`:\n",
    "* For each gene of interest, this file contains:\n",
    "    1. mrmash_fitted\n",
    "    2. reweighted_mixture_prior\n",
    "    3. reweighted_mixture_prior_cv\n",
    "    4. mvsusie_fitted\n",
    "    5. variant_names\n",
    "    6. analysis_script\n",
    "    7. other_quantities\n",
    "    8. context_names\n",
    "    9. top_loci\n",
    "    10. susie_result_trimmed\n",
    "    11. total_time_elapsed\n",
    "    12. region_info\n",
    "\n",
    "`ROSMAP_mega_eQTL.chr11_ENSG00000073921.multivariate_data.rds`: (from the --save-data argument)\n",
    "* see [pecotmr code](https://github.com/cumc/pecotmr/blob/68d87ca1d0a059022bf4e55339621cbddc8993cc/R/file_utils.R#L461) for description \n",
    "\n",
    "`ROSMAP_mega_eQTL.chr11_ENSG00000073921.multivariate_twas_weights.rds`:\n",
    "* For each gene of interest and phenotype, this file contains:\n",
    "    1. twas_weights - weights mrmash and mvsusie methods\n",
    "    2. twas_predictions - twas predictions for mrmash and mvsusie methods\n",
    "    3. variant_names\n",
    "    5. twas_cv_result\n",
    "    6. total_time_elapsed\n",
    "    8. region_info\n"
   ]
  },
  {
   "cell_type": "code",
   "execution_count": null,
   "id": "159e580c-e290-4403-a701-d9dfa1043341",
   "metadata": {},
   "outputs": [],
   "source": []
  }
 ],
 "metadata": {
  "kernelspec": {
   "display_name": "Python 3 (ipykernel)",
   "language": "python",
   "name": "python3"
  },
  "language_info": {
   "codemirror_mode": {
    "name": "ipython",
    "version": 3
   },
   "file_extension": ".py",
   "mimetype": "text/x-python",
   "name": "python",
   "nbconvert_exporter": "python",
   "pygments_lexer": "ipython3",
   "version": "3.12.6"
  }
 },
 "nbformat": 4,
 "nbformat_minor": 5
}
