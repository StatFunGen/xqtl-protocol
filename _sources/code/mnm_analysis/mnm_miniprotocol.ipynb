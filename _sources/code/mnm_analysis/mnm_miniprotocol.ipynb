{
 "cells": [
  {
   "cell_type": "markdown",
   "id": "3ee1c5f8-3015-41d3-bdcb-38b63861bffe",
   "metadata": {},
   "source": [
    "# Integrative Analysis with High-Dimensional Regression\n",
    "\n",
    "This notebook shows the various fine-mapping, prediction, multivariate analysis and colocalization methods available in our pipeline."
   ]
  },
  {
   "cell_type": "markdown",
   "id": "497a0361-7646-4bdc-967f-0cd3ad55b301",
   "metadata": {},
   "source": [
    "#### Miniprotocol Timing\n",
    "This represents the total duration for all miniprotocol phases. While module-specific timings are provided separately on their respective pages, they are also included in this overall estimate. \n",
    "\n",
    "Timing < X minutes"
   ]
  },
  {
   "cell_type": "markdown",
   "id": "b179d380-7ed1-48ba-9d94-39c1e83733f0",
   "metadata": {},
   "source": [
    "## Overview\n",
    "\n",
    "Each of these parts are independent of one another.\n",
    "\n",
    "1. `mnm_regression.ipynb susie_twas`: Univariate Fine-Mapping and TWAS with SuSiE\n",
    "2. `mnm_regression.ipynb mnm_genes`: Multivariate Fine-Mapping for multiple genes\n",
    "3. `mnm_regression.ipynb fsusie`: Univariate Fine-Mapping of Functional (Epigenomic) Data with fSuSiE\n",
    "4. `mnm_regression.ipynb mnm`: Multivariate Fine-Mapping with mvSuSiE and mr.mash\n",
    "5. `rss_analysis.ipynb univariate_rss`: Regression with Summary Statistics (RSS) Fine-Mapping and TWAS with SuSiE"
   ]
  },
  {
   "cell_type": "markdown",
   "id": "f1e1cd1a-d341-45de-876e-773e04789244",
   "metadata": {},
   "source": [
    "## Steps"
   ]
  },
  {
   "cell_type": "markdown",
   "id": "293e2b0c-fe45-4500-b5d8-98f84b4f1883",
   "metadata": {},
   "source": [
    "### i. [Univariate Fine-Mapping and TWAS with SuSiE](https://statfungen.github.io/xqtl-protocol/code/mnm_analysis/univariate_fine_mapping_twas_vignette.html)"
   ]
  },
  {
   "cell_type": "code",
   "execution_count": null,
   "id": "2af1a144-4717-456d-8b45-6962f4d68ea0",
   "metadata": {},
   "outputs": [],
   "source": [
    "sos run pipeline/mnm_regression.ipynb susie_twas \\\n",
    "    --name test_susie_twas \\\n",
    "    --genoFile output/genotype_by_chrom/wgs.merged.plink_qc.1.bed \\\n",
    "    --phenoFile output/phenotype/phenotype_by_chrom_for_cis/bulk_rnaseq.phenotype_by_chrom_files.region_list.txt \\\n",
    "    --covFile output/covariate/bulk_rnaseq_tmp_matrix.low_expression_filtered.outlier_removed.tmm.expression.covariates.wgs.merged.plink_qc.plink_qc.prune.pca.Marchenko_PC.gz \\\n",
    "    --customized-association-windows reference_data/TAD/TADB_enhanced_cis.bed \\\n",
    "    --phenotype-names test_pheno \\\n",
    "    --max-cv-variants 5000 --ld_reference_meta_file data/ld_meta_file_with_bim.tsv \\\n",
    "    --region-name ENSG00000049246 ENSG00000054116 ENSG00000116678 \\\n",
    "    --save-data \\\n",
    "    --cwd output/mnm_regression/susie_twas"
   ]
  },
  {
   "cell_type": "markdown",
   "id": "4b91d378-e96f-4f20-a54a-7df411b73875",
   "metadata": {},
   "source": [
    "### ii. [Multivariate Fine-Mapping for multiple genes](https://statfungen.github.io/xqtl-protocol/code/mnm_analysis/multivariate_multigene_fine_mapping_vignette.html)"
   ]
  },
  {
   "cell_type": "code",
   "execution_count": null,
   "id": "a2e60016-d265-4e53-bc4c-3b415f430c33",
   "metadata": {},
   "outputs": [],
   "source": [
    "sos run pipeline/mnm_regression.ipynb mnm_genes \\\n",
    "    --name ROSMAP_mega_eQTL --cwd output/mnm_regression/mnm_genes \\\n",
    "    --genoFile output/genotype_by_chrom/wgs.merged.plink_qc.genotype_by_chrom_files.txt \\\n",
    "    --phenoFile output/phenotype/phenotype_by_chrom_for_cis/bulk_rnaseq.phenotype_by_chrom_files.region_list.txt \\\n",
    "    --covFile output/covariate/bulk_rnaseq_tpm_matrix.low_expression_filtered.outlier_removed.tmm.expression.covariates.wgs.merged.plink_qc.plink_qc.prune.pca.Marchenko_PC.gz \\\n",
    "    --customized-association-windows reference_data/TAD/TADB_enhanced_cis.bed \\\n",
    "    --region-name ENSG00000049246 ENSG00000054116 ENSG00000116678 ENSG00000073921 \\\n",
    "    --phenotype-names test_pheno \\\n",
    "    --max_cv_variants 5000 --skip-analysis-pip-cutoff 0.025  \\\n",
    "\t--ld_reference_meta_file data/ld_meta_file_with_bim.tsv \\\n",
    "    --pheno-id-map-file data/mnm_regression/pheno_id_map_file.tsv \\\n",
    "    --fine-mapping-meta data/mnm_regression/fine_mapping_meta.tsv"
   ]
  },
  {
   "cell_type": "markdown",
   "id": "af4443c5-6534-4bc5-9c88-6ab444d17b25",
   "metadata": {},
   "source": [
    "### iii. [Univariate Fine-Mapping of Functional (Epigenomic) Data with fSuSiE](https://statfungen.github.io/xqtl-protocol/code/mnm_analysis/univariate_fine_mapping_fsusie_vignette.html)"
   ]
  },
  {
   "cell_type": "code",
   "execution_count": null,
   "id": "932ef298-5c45-4e18-abb6-89c15253bbd6",
   "metadata": {},
   "outputs": [],
   "source": [
    "sos run pipeline/mnm_regression.ipynb fsusie \\\n",
    "    --cwd output/fsusie/ \\\n",
    "    --name test_fsusie \\\n",
    "    --genoFile output/genotype_by_chrom/wgs.merged.plink_qc.genotype_by_chrom_files.txt \\\n",
    "    --phenoFile output/phenotype/phenotype_by_chrom_for_cis/bulk_rnaseq.phenotype_by_chrom_files.region_list.txt \\\n",
    "    --covFile output/covariate/bulk_rnaseq_tpm_matrix.low_expression_filtered.outlier_removed.tmm.expression.covariates.wgs.merged.plink_qc.plink_qc.prune.pca.Marchenko_PC.gz \\\n",
    "    --numThreads 8 \\\n",
    "    --customized-association-windows reference_data/TAD/TADB_enhanced_cis.bed \\\n",
    "    --save-data \\\n",
    "    --region-name ENSG00000049246 ENSG00000054116 ENSG00000116678 ENSG00000073921 ENSG00000186891"
   ]
  },
  {
   "cell_type": "markdown",
   "id": "58229f81-0bdd-4d2f-bf8c-28f542b7e6d3",
   "metadata": {},
   "source": [
    "### iv. [Multivariate Fine-Mapping with mvSuSiE and mr.mash](https://statfungen.github.io/xqtl-protocol/code/mnm_analysis/multivariate_fine_mapping_vignette.html)"
   ]
  },
  {
   "cell_type": "code",
   "execution_count": null,
   "id": "4dc2dfdc-e39b-49cb-8bd1-e1d4927d39d0",
   "metadata": {},
   "outputs": [],
   "source": [
    "sos run pipeline/mnm_regression.ipynb mnm \\\n",
    "    --name test_mnm --cwd output/mnm \\\n",
    "    --genoFile output/genotype_by_chrom/wgs.merged.plink_qc.genotype_by_chrom_files.txt \\\n",
    "    --phenoFile output/phenotype/phenotype_by_chrom_for_cis/bulk_rnaseq.phenotype_by_chrom_files.region_list.txt \\\n",
    "    --covFile output/covariate/bulk_rnaseq_tpm_matrix.low_expression_filtered.outlier_removed.tmm.expression.covariates.wgs.merged.plink_qc.plink_qc.prune.pca.Marchenko_PC.gz \\\n",
    "    --customized-association-windows reference_data/TAD/TADB_enhanced_cis.bed \\\n",
    "    --region-name ENSG00000073921 --save-data --no-skip-twas-weights \\\n",
    "    --phenotype-names test_pheno \\\n",
    "    --mixture_prior output/multivariate_mixture/MWE_ed_bovy.EE.prior.rds \\\n",
    "    --max_cv_variants 5000 \\\n",
    "\t--ld_reference_meta_file data/ld_meta_file.tsv "
   ]
  },
  {
   "cell_type": "markdown",
   "id": "323e3000-dd8c-4e52-b371-95226789c791",
   "metadata": {},
   "source": [
    "### v. [Regression with Summary Statistics (RSS) Fine-Mapping and TWAS with SuSiE](https://statfungen.github.io/xqtl-protocol/code/mnm_analysis/summary_stats_finemapping_vignette.html)"
   ]
  },
  {
   "cell_type": "code",
   "execution_count": null,
   "id": "304423fc-7070-483c-9ff3-ef0e9f95e8b2",
   "metadata": {},
   "outputs": [],
   "source": [
    "sos run pipeline/rss_analysis.ipynb univariate_rss \\\n",
    "    --ld-meta-data data/ld_meta_file_with_bim.tsv \\\n",
    "    --gwas-meta-data data/mnm_regression/gwas_meta_data.txt \\\n",
    "    --qc_method \"rss_qc\" --impute \\\n",
    "    --finemapping_method \"susie_rss\" \\\n",
    "    --cwd output/rss_analysis \\\n",
    "    --skip_analysis_pip_cutoff 0 \\\n",
    "    --skip_regions 6:25000000-35000000 \\\n",
    "    --region_name 22:49355984-50799822"
   ]
  },
  {
   "cell_type": "markdown",
   "id": "99ef76cd-184b-4107-a8fe-523daa10a09c",
   "metadata": {},
   "source": [
    "## Anticipated Results"
   ]
  },
  {
   "cell_type": "markdown",
   "id": "c46afb81-7a8e-4b9b-ad3c-ebf409b33824",
   "metadata": {},
   "source": [
    "Univariate finemapping will produce a file containing results for the top hits and a file containing twas weights produced by susie. Multigene finemapping with mvSuSiE will produce a file for each gene and region containing results for the top hits and a file containing twas weights produced by susie. Univariate finemapping for functional data with fSuSiE will produce a file containing results for the top hits and a file containing residuals from SuSiE. Multivariate finemapping will produce a file containing results for the top hits for each gene and a file containing twas weights produced by susie. Summary statistics fine-mapping produces a results file for each region and gwas of interest."
   ]
  },
  {
   "cell_type": "code",
   "execution_count": null,
   "id": "34729ce0-94f8-4f78-8961-e3c3dc365f2e",
   "metadata": {},
   "outputs": [],
   "source": []
  }
 ],
 "metadata": {
  "kernelspec": {
   "display_name": "Python 3 (ipykernel)",
   "language": "python",
   "name": "python3"
  },
  "language_info": {
   "codemirror_mode": {
    "name": "ipython",
    "version": 3
   },
   "file_extension": ".py",
   "mimetype": "text/x-python",
   "name": "python",
   "nbconvert_exporter": "python",
   "pygments_lexer": "ipython3",
   "version": "3.10.12"
  }
 },
 "nbformat": 4,
 "nbformat_minor": 5
}
