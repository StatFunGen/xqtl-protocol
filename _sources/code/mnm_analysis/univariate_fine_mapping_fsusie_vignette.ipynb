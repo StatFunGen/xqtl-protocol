{
 "cells": [
  {
   "cell_type": "markdown",
   "id": "5839a8ae-e13c-44ba-b06c-8346a0e65655",
   "metadata": {},
   "source": [
    "# Univariate Fine-Mapping of Functional (Epigenomic) Data with fSuSiE\n"
   ]
  },
  {
   "cell_type": "markdown",
   "id": "fe924afb-7f78-4e1e-8b53-2cda19856bc7",
   "metadata": {},
   "source": [
    "## Description"
   ]
  },
  {
   "cell_type": "markdown",
   "id": "4b860370-77bb-4095-b9b1-1613ed681bf4",
   "metadata": {},
   "source": [
    "Univariate fine-mapping for functional (epigenomic) data is conducted with fSuSiE. This is similar to the normal univariate fine-mapping, with the main difference being the use of epigonmic data. \n"
   ]
  },
  {
   "cell_type": "markdown",
   "id": "6eef2529-79a1-4af6-9b96-98c10a5e0b5e",
   "metadata": {},
   "source": [
    "## Input"
   ]
  },
  {
   "cell_type": "markdown",
   "id": "5f0bcf9f-55c4-43fa-b846-170c935403b9",
   "metadata": {},
   "source": [
    "\n",
    "    \n",
    "`--genoFile`: path to a text file contatining information on genotype files. For example:\n",
    "```\n",
    "#id     #path\n",
    "21      $PATH/protocol_example.genotype.chr21_22.21.bed\n",
    "22      $PATH/protocol_example.genotype.chr21_22.22.bed\n",
    "```\n",
    "`--phenoFile`: a tab delimited file containing chr, start, end, ID and path for the regions. For example:\n",
    "```\n",
    "#chr    start   end     ID      path\n",
    "chr21   0       14120807        TADB_1297       $PATH/protocol_example.ha.bed.gz\n",
    "chr21   10840000        16880069        TADB_1298       $PATH/protocol_example.ha.bed.gz\n",
    "```\n",
    "\n",
    "`--covFile`: path to a gzipped file containing covariates in the rows, and sample ids in the columns.  \n",
    "`--customized-association-windows`: a tab delimited file containing chr, start, end, and ID regions. For example:\n",
    "```\n",
    "#chr    start   end     ID\n",
    "chr21   0       14120807        TADB_1297\n",
    "chr21   10840000        16880069        TADB_1298\n",
    "```\n",
    "`--region-name`: if you only wish to analyze one region, then include the ID of a region found in the `customized-association-windows` file"
   ]
  },
  {
   "cell_type": "markdown",
   "id": "397a4dc3-1e4c-4845-ad8b-beed40f1f408",
   "metadata": {},
   "source": [
    "## Minimal Working Example Steps"
   ]
  },
  {
   "cell_type": "markdown",
   "id": "3bca0962-ae57-422c-a79f-892ef3b7f7ae",
   "metadata": {},
   "source": [
    "### iii. Run the Fine-Mapping with fSuSiE"
   ]
  },
  {
   "cell_type": "code",
   "execution_count": null,
   "id": "dff2c979-52a1-4ec8-a0be-51b289327d37",
   "metadata": {},
   "outputs": [],
   "source": [
    "sos run $PATH/mnm_regression.ipynb fsusie \\\n",
    "    --cwd $PATH/fsusie_test/ \\\n",
    "    --name protocol_example_methylation \\\n",
    "    --genoFile $PATH/mwe_data/protocol_data/output/genotype_by_chrom/protocol_example.genotype.chr21_22.genotype_by_chrom_files.txt \\\n",
    "    --phenoFile $PATH/fsusie_test/protocol_example.ha.phenotype_by_region_files.corrected.reformat.txt \\\n",
    "    --covFile $PATH/mwe_data/protocol_data/output/covariate/protocol_example.protein.protocol_example.samples.protocol_example.genotype.chr21_22.pQTL.plink_qc.prune.pca.Marchenko_PC.gz \\\n",
    "    --container oras://ghcr.io/cumc/pecotmr_apptainer:latest \\\n",
    "    --walltime 2h \\\n",
    "    --numThreads 8 \\\n",
    "    --customized-association-windows $PATH/fsusie_test/regions.reformat.txt \\\n",
    "    -c ../scripts/csg.yml -q neurology \\\n",
    "    --save-data \\\n",
    "    --region-name TADB_1298"
   ]
  },
  {
   "cell_type": "markdown",
   "id": "cc7691e6-954c-4dc1-bac3-25d56026ab96",
   "metadata": {},
   "source": [
    "## Anticipated Results"
   ]
  },
  {
   "cell_type": "markdown",
   "id": "c698203c-976e-49d6-9056-a17238bf2099",
   "metadata": {},
   "source": [
    "Univariate finemapping for functional data will produce a file containing results for the top hits and a file containing residuals from SuSiE."
   ]
  },
  {
   "cell_type": "markdown",
   "id": "199a2637-cc0c-4aff-b4ea-a2546936f073",
   "metadata": {},
   "source": [
    "`protocol_example_methylation.chr21_10840000_16880069.fsusie_mixture_normal_top_pc_weights.rds`:\n",
    "* For each region of interest, this file contains: \n",
    "    1. susie_on_top_pc - ?\n",
    "    2. twas_weights - for each variant (for enet, lasso and mrash methods). no susie?\n",
    "    3. twas predictions - for each sample (for enet, lasso, mrash methods)\n",
    "    4. twas cross validation results - information on the best method. Data is split into five parts\n",
    "    6. fsusie results - ?\n",
    "    7. Y coordinates - ?\n",
    "    8. fsusie summary - ?\n",
    "    9. total time elapsed\n",
    "    10. region info - information on the region specified\n",
    "\n",
    "`protocol_example_methylation.chr21_10840000_16880069.16_marks.dataset.rds`:\n",
    "* For each gene of interest, contains residuals for each sample and phenotype\n",
    "* see [pecotmr code](https://github.com/cumc/pecotmr/blob/68d87ca1d0a059022bf4e55339621cbddc8993cc/R/file_utils.R#L461) for description at fsusie uses the `load_regional_functional_data` function, an explanation of the arguments can be found at the similar `load_regional_association_data` function"
   ]
  },
  {
   "cell_type": "code",
   "execution_count": null,
   "id": "159e580c-e290-4403-a701-d9dfa1043341",
   "metadata": {},
   "outputs": [],
   "source": []
  }
 ],
 "metadata": {
  "kernelspec": {
   "display_name": "Python 3 (ipykernel)",
   "language": "python",
   "name": "python3"
  },
  "language_info": {
   "codemirror_mode": {
    "name": "ipython",
    "version": 3
   },
   "file_extension": ".py",
   "mimetype": "text/x-python",
   "name": "python",
   "nbconvert_exporter": "python",
   "pygments_lexer": "ipython3",
   "version": "3.12.6"
  }
 },
 "nbformat": 4,
 "nbformat_minor": 5
}
