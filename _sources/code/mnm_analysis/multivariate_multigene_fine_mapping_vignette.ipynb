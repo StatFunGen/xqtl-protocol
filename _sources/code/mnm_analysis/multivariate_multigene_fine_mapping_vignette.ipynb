{
 "cells": [
  {
   "cell_type": "markdown",
   "id": "5839a8ae-e13c-44ba-b06c-8346a0e65655",
   "metadata": {},
   "source": [
    "# Multivariate Fine-Mapping for multiple genes\n"
   ]
  },
  {
   "cell_type": "markdown",
   "id": "5161522b-01c0-42f3-b527-5e4e376648c0",
   "metadata": {},
   "source": [
    "## Description"
   ]
  },
  {
   "cell_type": "markdown",
   "id": "4b860370-77bb-4095-b9b1-1613ed681bf4",
   "metadata": {},
   "source": [
    "Multi gene fine-mapping and TWAS may also be conducted with our pipeline. This considers multiple genes jointly within specific TAD windows.\n",
    "\n",
    "This step is similar to the multivariate fine-mapping with two main differences. 1) TAD windows with multiple genes need to be defined. The `--pheno_id_map_file` parameter is used for this. 2) To speed things up, the genes are filtered out if they don't have a univariate fine mapped region. Genes may also be filtered out if they do have a univariate fine-mapped signal, but the signal is nowhere close to that of other genes.  The `--skip-analysis-pip-cutoff` parameter is used for this.\n",
    "\n"
   ]
  },
  {
   "cell_type": "markdown",
   "id": "e8201581-f9fd-4c8c-8540-8daf0a2dcf76",
   "metadata": {},
   "source": [
    "## Input"
   ]
  },
  {
   "cell_type": "markdown",
   "id": "5f0bcf9f-55c4-43fa-b846-170c935403b9",
   "metadata": {},
   "source": [
    "\n",
    "    \n",
    "`--genoFile`: path to a plink bed file containin genotypes. Include the `.bed`\n",
    "\n",
    "`--phenoFile`: a tab delimited file containing chr, start, end, ID and path for the regions. For example:\n",
    "```\n",
    "#chr    start   end     ID      path\n",
    "chr12   389319  389320  ENSG00000073614 $PATH/snuc_pseudo_bulk.Mic.mega.normalized.log2cpm.bed.gz\n",
    "chr12   752578  752579  ENSG00000060237 $PATH/snuc_pseudo_bulk.Mic.mega.normalized.log2cpm.bed.gz\n",
    "```\n",
    "\n",
    "`--covFile`: path to a gzipped file containing covariates in the rows, and sample ids in the columns.  \n",
    "\n",
    "`--customized-association-windows`: a tab delimited file containing chr, start, end, and ID regions. For example:\n",
    "```\n",
    "#chr    start   end     TAD_id\n",
    "chr1    0       10985501        chr1_0_10985501\n",
    "chr1    5101787 11630758        chr1_5101787_11630758\n",
    "```\n",
    "\n",
    "`--phenotype-names`: the names of the phenotypes if multiple are included. There should be one for each phenotype file you include.\n",
    "\n",
    "`--max-cv-variants`: maximum number of variants for cross-validation.\n",
    "\n",
    "`--ld_reference_meta_file`: path to file containing chrom, start, end and path for linkage disequilibrium region information. For example:\n",
    "```\n",
    "#chrom  start   end     path\n",
    "chr1    101384274       104443097       chr1/chr1_101384274_104443097.cor.xz,chr1/chr1_101384274_104443097.cor.xz.bim\n",
    "chr1    104443097       106225286       chr1/chr1_104443097_106225286.cor.xz,chr1/chr1_104443097_106225286.cor.xz.bim\n",
    "```\n",
    "\n",
    "`--independent_variant_list`: a gzipped file containing variant information. These should be independent from one another in terms of linkage disequilibrium.\n",
    "For example:\n",
    "```\n",
    "chrom   pos     alt     ref     variant_id\n",
    "chr1    16206   T       A       chr1:16206:T:A\n",
    "chr1    16433   C       G       chr1:16433:C:G\n",
    "```\n",
    "\n",
    "`--fine_mapping_meta`: A file containg a list of gene and region information and other conditions.\n",
    "For example:\n",
    "```\n",
    "#chr    start   end     region_id       TSS     original_data   combined_data   combined_data_sumstats  conditions      conditions_top_loci\n",
    "chr1    0       6480000 ENSG00000008128 1724356 KNIGHT_pQTL.ENSG00000008128.univariate_susie_twas_weights.rds,MiGA_eQTL.ENSG00000008128.univariate_susie_twas_weights.rds,MSBB_eQTL.ENSG00000008128.univariate_susie_twas_weights.rds,ROSMAP_Bennett_Klein_pQTL.ENSG00000008128.univariate_susie_twas_weights.rds,ROSMAP_DeJager_eQTL.ENSG00000008128.univariate_susie_twas_weights.rds,ROSMAP_Kellis_eQTL.ENSG00000008128.univariate_susie_twas_weights.rds,ROSMAP_mega_eQTL.ENSG00000008128.univariate_susie_twas_weights.rds,STARNET_eQTL.ENSG00000008128.univariate_susie_twas_weights.rds  $PATH/Fungen_xQTL.ENSG00000008128.cis_results_db.export.rds        $PATH/Fungen_xQTL.ENSG00000008128.cis_results_db.export_sumstats.rds       Knight_eQTL_brain,MiGA_GFM_eQTL,MiGA_GTS_eQTL,MiGA_SVZ_eQTL,MiGA_THA_eQTL,BM_10_MSBB_eQTL,BM_22_MSBB_eQTL,BM_36_MSBB_eQTL,BM_44_MSBB_eQTL,monocyte_ROSMAP_eQTL,Mic_DeJager_eQTL,Ast_DeJager_eQTL,Oli_DeJager_eQTL,Exc_DeJager_eQTL,Inh_DeJager_eQTL,DLPFC_DeJager_eQTL,PCC_DeJager_eQTL,AC_DeJager_eQTL,Mic_Kellis_eQTL,Ast_Kellis_eQTL,Oli_Kellis_eQTL,OPC_Kellis_eQTL,Exc_Kellis_eQTL,Inh_Kellis_eQTL,Ast_mega_eQTL,Exc_mega_eQTL,Inh_mega_eQTL,Oli_mega_eQTL,STARNET_eQTL_Mac       Knight_eQTL_brain,MiGA_GFM_eQTL,MiGA_GTS_eQTL,MiGA_SVZ_eQTL,MiGA_THA_eQTL,BM_10_MSBB_eQTL,BM_22_MSBB_eQTL,BM_36_MSBB_eQTL,BM_44_MSBB_eQTL,monocyte_ROSMAP_eQTL,Mic_DeJager_eQTL,Ast_DeJager_eQTL,Oli_DeJager_eQTL,Exc_DeJager_eQTL,Inh_DeJager_eQTL,DLPFC_DeJager_eQTL,PCC_DeJager_eQTL,AC_DeJager_eQTL,Mic_Kellis_eQTL,Ast_Kellis_eQTL,Oli_Kellis_eQTL,OPC_Kellis_eQTL,Exc_Kellis_eQTL,Inh_Kellis_eQTL,Ast_mega_eQTL,Exc_mega_eQTL,Inh_mega_eQTL,Oli_mega_eQTL,STARNET_eQTL_Mac\n",
    "```\n",
    "\n",
    "`--phenoIDFile`: A bed file containing a list of genes and their LD region.\n",
    "For example:\n",
    "```\n",
    "TAD_id  ID\n",
    "chr19_0_13957223        ENSG00000172270\n",
    "chr19_0_13957223        ENSG00000099864\n",
    "chr19_0_13957223        ENSG00000011304\n",
    "```\n",
    "\n",
    "`--skip-analysis-pip-cutoff`: A number of the pip cutoff. \n",
    "\n",
    "`--coverage`\n",
    "\n",
    "`--maf`\n",
    "\n",
    "`--pheno_id_map_file`: A file containing IDs and genes.\n",
    "For example:\n",
    "```\n",
    "ID      gene\n",
    "chr20:50940933:50941105:clu_44490_-:ENSG00000000419     ENSG00000000419\n",
    "chr20:50940933:50941129:clu_44490_-:ENSG00000000419     ENSG00000000419\n",
    "chr20:50936262:50942031:clu_44490_-:ENSG00000000419     ENSG00000000419\n",
    "```\n",
    "\n",
    "`--prior-canonical-matrices`\n",
    "\n",
    "`--save-data`: whether to save intermediate data or not\n",
    "\n",
    "`--twas-cv-folds`: Perform K folds valiation CV for TWAS. Set this to zero to skip\n",
    "\n",
    "`--trans-analysis`: Include this if doing trans-analysis (not using phenotypic coordinate information)\n",
    "\n",
    "`--region-name`: if you only wish to analyze one region, then include the ID of a region found in the `customized-association-windows` file\n",
    "\n",
    "`--cwd`: output file path"
   ]
  },
  {
   "cell_type": "markdown",
   "id": "397a4dc3-1e4c-4845-ad8b-beed40f1f408",
   "metadata": {},
   "source": [
    "## Minimal Working Example Steps"
   ]
  },
  {
   "cell_type": "markdown",
   "id": "3bca0962-ae57-422c-a79f-892ef3b7f7ae",
   "metadata": {},
   "source": [
    "### ii. Run the Fine-Mapping with mvSuSiE"
   ]
  },
  {
   "cell_type": "code",
   "execution_count": null,
   "id": "2b6b5d17-0846-4ed3-ad9a-b8f2c0665dbb",
   "metadata": {},
   "outputs": [],
   "source": [
    "sos run $PATH/protocol/pipeline/mnm_regression.ipynb mnm_genes \\\n",
    "    --name ROSMAP_Ast_DeJager_eQTL \\\n",
    "    --genoFile $PATH/ROSMAP_NIA_WGS.leftnorm.bcftools_qc.plink_qc.11.bed \\\n",
    "    --phenoFile $PATH/snuc_pseudo_bulk.Ast.mega.normalized.log2cpm.region_list.txt \\\n",
    "    --covFile $PATH/snuc_pseudo_bulk.Ast.mega.normalized.log2cpm.rosmap_cov.ROSMAP_NIA_WGS.leftnorm.bcftools_qc.plink_qc.snuc_pseudo_bulk_mega.related.plink_qc.extracted.pca.projected.Marchenko_PC.gz \\\n",
    "    --customized-association-windows $PATH/windows/TADB_sliding_window.bed \\\n",
    "    --phenotype-names Ast_DeJager_eQTL \\\n",
    "    --max-cv-variants 5000 --ld_reference_meta_file $PATH/ldref/ld_meta_file.tsv \\\n",
    "    --independent_variant_list $PATH/ld_pruned_variants.txt.gz \\\n",
    "    --fine_mapping_meta $PATH/Fungen_xQTL.cis_results_db.new.tsv \\\n",
    "    --phenoIDFile $PATH/phenoIDFile_cis_extended_region.bed \\\n",
    "    --skip-analysis-pip-cutoff 0 \\\n",
    "    --coverage 0.95 \\\n",
    "    --maf 0.01 \\\n",
    "    --pheno_id_map_file $PATH/pheno_id_map_file.txt \\\n",
    "    --prior-canonical-matrices \\\n",
    "    --save-data \\\n",
    "    --twas-cv-folds 0 \\\n",
    "    --trans-analysis \\\n",
    "    --region-name chr11_77324757_86627922 \\ \n",
    "    --cwd $PATH/output/ -s force"
   ]
  },
  {
   "cell_type": "markdown",
   "id": "cc7691e6-954c-4dc1-bac3-25d56026ab96",
   "metadata": {},
   "source": [
    "## Anticipated Results"
   ]
  },
  {
   "cell_type": "markdown",
   "id": "08582666-774d-4620-a3bf-31f35689e7da",
   "metadata": {},
   "source": [
    "For each gene and region, multivariate multigene finemapping will produce a file containing results for the top hits and a file containing twas weights produced by susie."
   ]
  },
  {
   "cell_type": "markdown",
   "id": "199a2637-cc0c-4aff-b4ea-a2546936f073",
   "metadata": {},
   "source": [
    "`ROSMAP_Ast_DeJager_eQTL.chr11_77324757_86627922.multigene_bvrs.rds`:\n",
    "* for each region name, includes:\n",
    "1. mrmash_fitted\n",
    "2. reweighted_mixture_prior\n",
    "3. reweighted_mixture_prior_cv\n",
    "4. mvsusie_fitted\n",
    "5. variant_names\n",
    "6. analysis_script\n",
    "7. other_quantitites\n",
    "8. analysis_script\n",
    "9. top_loci\n",
    "10. susie_result_trimmed\n",
    "11. total_time_elapsed\n",
    "12. region_info\n",
    "\n",
    "`ROSMAP_Ast_DeJager_eQTL.chr11_77324757_86627922.multigene_data.rds`:(from the --save-data argument)\n",
    "* see [pecotmr code](https://github.com/cumc/pecotmr/blob/68d87ca1d0a059022bf4e55339621cbddc8993cc/R/file_utils.R#L461) for description \n",
    "\n",
    "`ROSMAP_Ast_DeJager_eQTL.chr11_77324757_86627922.multigene_twas_weights.rds`:\n",
    "* for each region name and for each gene within that region, includes:\n",
    "1. twas_weights - from mrmash and mvsusie\n",
    "2. twas_predictions - from mrmash and mvsusie\n",
    "3. variant_names\n",
    "4. total_time_elapsed\n",
    "5. region_info"
   ]
  },
  {
   "cell_type": "code",
   "execution_count": null,
   "id": "159e580c-e290-4403-a701-d9dfa1043341",
   "metadata": {},
   "outputs": [],
   "source": []
  }
 ],
 "metadata": {
  "kernelspec": {
   "display_name": "Python 3 (ipykernel)",
   "language": "python",
   "name": "python3"
  },
  "language_info": {
   "codemirror_mode": {
    "name": "ipython",
    "version": 3
   },
   "file_extension": ".py",
   "mimetype": "text/x-python",
   "name": "python",
   "nbconvert_exporter": "python",
   "pygments_lexer": "ipython3",
   "version": "3.12.6"
  }
 },
 "nbformat": 4,
 "nbformat_minor": 5
}
