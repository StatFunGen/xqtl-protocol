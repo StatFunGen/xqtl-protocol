{
 "cells": [
  {
   "cell_type": "markdown",
   "id": "interesting-catalog",
   "metadata": {
    "kernel": "SoS"
   },
   "source": [
    "## Overview of advanced cis-QTL analysis\n",
    "\n",
    "Including SuSiE, fSuSiE, mvSuSiE, univariate TWAS weights (PrediXcan, LASSO, mr.ash), multivariate TWAS weights (mr.mash), LMM (mmQTL)"
   ]
  }
 ],
 "metadata": {
  "kernelspec": {
   "display_name": "SoS",
   "language": "sos",
   "name": "sos"
  },
  "language_info": {
   "codemirror_mode": "sos",
   "file_extension": ".sos",
   "mimetype": "text/x-sos",
   "name": "sos",
   "nbconvert_exporter": "sos_notebook.converter.SoS_Exporter",
   "pygments_lexer": "sos"
  },
  "sos": {
   "kernels": [
    [
     "SoS",
     "sos",
     "",
     ""
    ]
   ],
   "version": "0.22.4"
  }
 },
 "nbformat": 4,
 "nbformat_minor": 5
}
