{
 "cells": [
  {
   "cell_type": "markdown",
   "id": "3ee1c5f8-3015-41d3-bdcb-38b63861bffe",
   "metadata": {},
   "source": [
    "# Fine-Mapping\n",
    "\n",
    "This notebook shows the various fine-mapping methods available in our pipeline."
   ]
  },
  {
   "cell_type": "markdown",
   "id": "497a0361-7646-4bdc-967f-0cd3ad55b301",
   "metadata": {},
   "source": [
    "#### Miniprotocol Timing\n",
    "This represents the total duration for all miniprotocol phases. While module-specific timings are provided separately on their respective pages, they are also included in this overall estimate. \n",
    "\n",
    "Timing < X minutes"
   ]
  },
  {
   "cell_type": "markdown",
   "id": "b179d380-7ed1-48ba-9d94-39c1e83733f0",
   "metadata": {},
   "source": [
    "## Overview\n",
    "\n",
    "Each of these parts are independent of one another.\n",
    "\n",
    "1. `mnm_regression.ipynb susie_twas`: Univariate Fine-Mapping and TWAS with SuSiE\n",
    "2. `mnm_regression.ipynb mnm_genes`: Multivariate Fine-Mapping for multiple genes\n",
    "3. `mnm_regression.ipynb fsusie`: Univariate Fine-Mapping of Functional (Epigenomic) Data with fSuSiE\n",
    "4. `mnm_regression.ipynb mnm`: Multivariate Fine-Mapping with mvSuSiE and mr.mash\n",
    "5. `rss_analysis.ipynb univariate_rss`: Regression with Summary Statistics (RSS) Fine-Mapping and TWAS with SuSiE"
   ]
  },
  {
   "cell_type": "markdown",
   "id": "f1e1cd1a-d341-45de-876e-773e04789244",
   "metadata": {},
   "source": [
    "## Steps"
   ]
  },
  {
   "cell_type": "markdown",
   "id": "293e2b0c-fe45-4500-b5d8-98f84b4f1883",
   "metadata": {},
   "source": [
    "### i. Univariate Fine-Mapping and TWAS with SuSiE"
   ]
  },
  {
   "cell_type": "code",
   "execution_count": null,
   "id": "2af1a144-4717-456d-8b45-6962f4d68ea0",
   "metadata": {},
   "outputs": [],
   "source": [
    "sos run $PATH/protocol/pipeline/mnm_regression.ipynb susie_twas \\\n",
    "    --name ROSMAP_mega_eQTL \\\n",
    "    --genoFile $PATH/genofile/ROSMAP_NIA_WGS.leftnorm.bcftools_qc.plink_qc.11.bed \\\n",
    "    --phenoFile $PATH/phenofile/Mic/analysis_ready/phenotype_preprocessing/snuc_pseudo_bulk.Mic.mega.normalized.log2cpm.region_list.txt \\\n",
    "                $PATH/phenofile/Ast/analysis_ready/phenotype_preprocessing/snuc_pseudo_bulk.Ast.mega.normalized.log2cpm.region_list.txt \\\n",
    "                $PATH/phenofile/Oli/analysis_ready/phenotype_preprocessing/snuc_pseudo_bulk.Oli.mega.normalized.log2cpm.region_list.txt \\\n",
    "                $PATH/phenofile/OPC/analysis_ready/phenotype_preprocessing/snuc_pseudo_bulk.OPC.mega.normalized.log2cpm.region_list.txt \\\n",
    "                $PATH/phenofile/Exc/analysis_ready/phenotype_preprocessing/snuc_pseudo_bulk.Exc.mega.normalized.log2cpm.region_list.txt \\\n",
    "                $PATH/phenofile/Inh/analysis_ready/phenotype_preprocessing/snuc_pseudo_bulk.Inh.mega.normalized.log2cpm.region_list.txt \\\n",
    "    --covFile $PATH/phenofile/Mic/analysis_ready/covariate_preprocessing/snuc_pseudo_bulk.Mic.mega.normalized.log2cpm.rosmap_cov.ROSMAP_NIA_WGS.leftnorm.bcftools_qc.plink_qc.snuc_pseudo_bulk_mega.related.plink_qc.extracted.pca.projected.Marchenko_PC.gz \\\n",
    "              $PATH/phenofile/Ast/analysis_ready/covariate_preprocessing/snuc_pseudo_bulk.Ast.mega.normalized.log2cpm.rosmap_cov.ROSMAP_NIA_WGS.leftnorm.bcftools_qc.plink_qc.snuc_pseudo_bulk_mega.related.plink_qc.extracted.pca.projected.Marchenko_PC.gz \\\n",
    "              $PATH/phenofile/Oli/analysis_ready/covariate_preprocessing/snuc_pseudo_bulk.Oli.mega.normalized.log2cpm.rosmap_cov.ROSMAP_NIA_WGS.leftnorm.bcftools_qc.plink_qc.snuc_pseudo_bulk_mega.related.plink_qc.extracted.pca.projected.Marchenko_PC.gz \\\n",
    "              $PATH/phenofile/OPC/analysis_ready/covariate_preprocessing/snuc_pseudo_bulk.OPC.mega.normalized.log2cpm.rosmap_cov.ROSMAP_NIA_WGS.leftnorm.bcftools_qc.plink_qc.snuc_pseudo_bulk_mega.related.plink_qc.extracted.pca.projected.Marchenko_PC.gz \\\n",
    "              $PATH/phenofile/Exc/analysis_ready/covariate_preprocessing/snuc_pseudo_bulk.Exc.mega.normalized.log2cpm.rosmap_cov.ROSMAP_NIA_WGS.leftnorm.bcftools_qc.plink_qc.snuc_pseudo_bulk_mega.related.plink_qc.extracted.pca.projected.Marchenko_PC.gz \\\n",
    "              $PATH/phenofile/Inh/analysis_ready/covariate_preprocessing/snuc_pseudo_bulk.Inh.mega.normalized.log2cpm.rosmap_cov.ROSMAP_NIA_WGS.leftnorm.bcftools_qc.plink_qc.snuc_pseudo_bulk_mega.related.plink_qc.extracted.pca.projected.Marchenko_PC.gz \\\n",
    "    --customized-association-windows $PATH/windows/TADB_enhanced_cis.coding.bed \\\n",
    "    --phenotype-names Mic_mega_eQTL Ast_mega_eQTL Oli_mega_eQTL OPC_mega_eQTL Exc_mega_eQTL Inh_mega_eQTL \\\n",
    "    --max-cv-variants 5000 --ld_reference_meta_file $PATH/ldref/ld_meta_file.tsv \\\n",
    "    --region-name ENSG00000073921 \\\n",
    "    --save-data \\\n",
    "    --cwd $PATH/output/ -s build"
   ]
  },
  {
   "cell_type": "markdown",
   "id": "4b91d378-e96f-4f20-a54a-7df411b73875",
   "metadata": {},
   "source": [
    "### ii. Multivariate Fine-Mapping for multiple genes"
   ]
  },
  {
   "cell_type": "code",
   "execution_count": null,
   "id": "a2e60016-d265-4e53-bc4c-3b415f430c33",
   "metadata": {},
   "outputs": [],
   "source": [
    "sos run $PATH/protocol/pipeline/mnm_regression.ipynb mnm_genes \\\n",
    "    --name ROSMAP_Ast_DeJager_eQTL \\\n",
    "    --genoFile $PATH/ROSMAP_NIA_WGS.leftnorm.bcftools_qc.plink_qc.11.bed \\\n",
    "    --phenoFile $PATH/snuc_pseudo_bulk.Ast.mega.normalized.log2cpm.region_list.txt \\\n",
    "    --covFile $PATH/snuc_pseudo_bulk.Ast.mega.normalized.log2cpm.rosmap_cov.ROSMAP_NIA_WGS.leftnorm.bcftools_qc.plink_qc.snuc_pseudo_bulk_mega.related.plink_qc.extracted.pca.projected.Marchenko_PC.gz \\\n",
    "    --customized-association-windows $PATH/windows/TADB_sliding_window.bed \\\n",
    "    --phenotype-names Ast_DeJager_eQTL \\\n",
    "    --max-cv-variants 5000 --ld_reference_meta_file $PATH/ldref/ld_meta_file.tsv \\\n",
    "    --independent_variant_list $PATH/ld_pruned_variants.txt.gz \\\n",
    "    --fine_mapping_meta $PATH/Fungen_xQTL.cis_results_db.new.tsv \\\n",
    "    --phenoIDFile $PATH/phenoIDFile_cis_extended_region.bed \\\n",
    "    --skip-analysis-pip-cutoff 0 \\\n",
    "    --coverage 0.95 \\\n",
    "    --maf 0.01 \\\n",
    "    --pheno_id_map_file $PATH/pheno_id_map_file.txt \\\n",
    "    --prior-canonical-matrices \\\n",
    "    --save-data \\\n",
    "    --twas-cv-folds 0 \\\n",
    "    --trans-analysis \\\n",
    "    --region-name chr11_77324757_86627922 \\ \n",
    "    --cwd $PATH/output/ -s force"
   ]
  },
  {
   "cell_type": "markdown",
   "id": "af4443c5-6534-4bc5-9c88-6ab444d17b25",
   "metadata": {},
   "source": [
    "### iii. Univariate Fine-Mapping of Functional (Epigenomic) Data with fSuSiE"
   ]
  },
  {
   "cell_type": "code",
   "execution_count": null,
   "id": "932ef298-5c45-4e18-abb6-89c15253bbd6",
   "metadata": {},
   "outputs": [],
   "source": [
    "sos run $PATH/mnm_regression.ipynb fsusie \\\n",
    "    --cwd $PATH/fsusie_test/ \\\n",
    "    --name protocol_example_methylation \\\n",
    "    --genoFile $PATH/mwe_data/protocol_data/output/genotype_by_chrom/protocol_example.genotype.chr21_22.genotype_by_chrom_files.txt \\\n",
    "    --phenoFile $PATH/fsusie_test/protocol_example.ha.phenotype_by_region_files.corrected.reformat.txt \\\n",
    "    --covFile $PATH/mwe_data/protocol_data/output/covariate/protocol_example.protein.protocol_example.samples.protocol_example.genotype.chr21_22.pQTL.plink_qc.prune.pca.Marchenko_PC.gz \\\n",
    "    --container oras://ghcr.io/cumc/pecotmr_apptainer:latest \\\n",
    "    --walltime 2h \\\n",
    "    --numThreads 8 \\\n",
    "    --customized-association-windows $PATH/fsusie_test/regions.reformat.txt \\\n",
    "    -c ../scripts/csg.yml -q neurology \\\n",
    "    --save-data \\\n",
    "    --region-name TADB_1298"
   ]
  },
  {
   "cell_type": "markdown",
   "id": "58229f81-0bdd-4d2f-bf8c-28f542b7e6d3",
   "metadata": {},
   "source": [
    "### iv. Multivariate Fine-Mapping with mvSuSiE and mr.mash"
   ]
  },
  {
   "cell_type": "code",
   "execution_count": null,
   "id": "4dc2dfdc-e39b-49cb-8bd1-e1d4927d39d0",
   "metadata": {},
   "outputs": [],
   "source": [
    "sos run $PATH/protocol/pipeline/mnm_regression.ipynb mnm \\\n",
    "    --name ROSMAP_mega_eQTL --cwd $PATH/output/ \\\n",
    "    --genoFile $PATH/genofile/ROSMAP_NIA_WGS.leftnorm.bcftools_qc.plink_qc.11.bed \\\n",
    "    --phenoFile $PATH/phenofile/Mic/analysis_ready/phenotype_preprocessing/snuc_pseudo_bulk.Mic.mega.normalized.log2cpm.region_list.txt \\\n",
    "                $PATH/phenofile/Ast/analysis_ready/phenotype_preprocessing/snuc_pseudo_bulk.Ast.mega.normalized.log2cpm.region_list.txt \\\n",
    "                $PATH/phenofile/Oli/analysis_ready/phenotype_preprocessing/snuc_pseudo_bulk.Oli.mega.normalized.log2cpm.region_list.txt \\\n",
    "                $PATH/phenofile/OPC/analysis_ready/phenotype_preprocessing/snuc_pseudo_bulk.OPC.mega.normalized.log2cpm.region_list.txt \\\n",
    "                $PATH/phenofile/Exc/analysis_ready/phenotype_preprocessing/snuc_pseudo_bulk.Exc.mega.normalized.log2cpm.region_list.txt \\\n",
    "                $PATH/phenofile/Inh/analysis_ready/phenotype_preprocessing/snuc_pseudo_bulk.Inh.mega.normalized.log2cpm.region_list.txt \\\n",
    "    --covFile $PATH/phenofile/Mic/analysis_ready/covariate_preprocessing/snuc_pseudo_bulk.Mic.mega.normalized.log2cpm.rosmap_cov.ROSMAP_NIA_WGS.leftnorm.bcftools_qc.plink_qc.snuc_pseudo_bulk_mega.related.plink_qc.extracted.pca.projected.Marchenko_PC.gz \\\n",
    "              $PATH/phenofile/Ast/analysis_ready/covariate_preprocessing/snuc_pseudo_bulk.Ast.mega.normalized.log2cpm.rosmap_cov.ROSMAP_NIA_WGS.leftnorm.bcftools_qc.plink_qc.snuc_pseudo_bulk_mega.related.plink_qc.extracted.pca.projected.Marchenko_PC.gz \\\n",
    "              $PATH/phenofile/Oli/analysis_ready/covariate_preprocessing/snuc_pseudo_bulk.Oli.mega.normalized.log2cpm.rosmap_cov.ROSMAP_NIA_WGS.leftnorm.bcftools_qc.plink_qc.snuc_pseudo_bulk_mega.related.plink_qc.extracted.pca.projected.Marchenko_PC.gz \\\n",
    "              $PATH/phenofile/OPC/analysis_ready/covariate_preprocessing/snuc_pseudo_bulk.OPC.mega.normalized.log2cpm.rosmap_cov.ROSMAP_NIA_WGS.leftnorm.bcftools_qc.plink_qc.snuc_pseudo_bulk_mega.related.plink_qc.extracted.pca.projected.Marchenko_PC.gz \\\n",
    "              $PATH/phenofile/Exc/analysis_ready/covariate_preprocessing/snuc_pseudo_bulk.Exc.mega.normalized.log2cpm.rosmap_cov.ROSMAP_NIA_WGS.leftnorm.bcftools_qc.plink_qc.snuc_pseudo_bulk_mega.related.plink_qc.extracted.pca.projected.Marchenko_PC.gz \\\n",
    "              $PATH/phenofile/Inh/analysis_ready/covariate_preprocessing/snuc_pseudo_bulk.Inh.mega.normalized.log2cpm.rosmap_cov.ROSMAP_NIA_WGS.leftnorm.bcftools_qc.plink_qc.snuc_pseudo_bulk_mega.related.plink_qc.extracted.pca.projected.Marchenko_PC.gz \\\n",
    "    --customized-association-windows $PATH/windows/TADB_enhanced_cis.coding.bed \\\n",
    "    --region-name ENSG00000073921 --save_data --no-skip-twas-weights \\\n",
    "    --phenotype-names Mic_mega_eQTL Ast_mega_eQTL Oli_mega_eQTL OPC_mega_eQTL Exc_mega_eQTL Inh_mega_eQTL \\\n",
    "    --mixture_prior /data/analysis_result/mash/mixture_prior.EZ.prior.rds \\\n",
    "    --max_cv_variants 5000 \\\n",
    "\t--ld_reference_meta_file $PATH/ldref/ld_meta_file.tsv "
   ]
  },
  {
   "cell_type": "markdown",
   "id": "323e3000-dd8c-4e52-b371-95226789c791",
   "metadata": {},
   "source": [
    "### v. Regression with Summary Statistics (RSS) Fine-Mapping and TWAS with SuSiE"
   ]
  },
  {
   "cell_type": "code",
   "execution_count": null,
   "id": "304423fc-7070-483c-9ff3-ef0e9f95e8b2",
   "metadata": {},
   "outputs": [],
   "source": [
    "sos run $PATH/rss_analysis.ipynb univariate_rss \\\n",
    "--ld-meta-data $PATH/ldref/ld_meta_file.tsv \\\n",
    "    --gwas-meta-data $PATH/GWAS_sumstat_meta_cloud_Apr_9.tsv \\\n",
    "    --qc_method \"rss_qc\" --impute \\\n",
    "    --finemapping_method \"susie_rss\" \\\n",
    "    --cwd $PATH/output/ \\\n",
    "    --skip_analysis_pip_cutoff 0 \\\n",
    "    --skip_regions 6:25000000-35000000 \\\n",
    "    --region_name 22:49355984-50799822"
   ]
  },
  {
   "cell_type": "markdown",
   "id": "99ef76cd-184b-4107-a8fe-523daa10a09c",
   "metadata": {},
   "source": [
    "## Anticipated Results"
   ]
  },
  {
   "cell_type": "markdown",
   "id": "c46afb81-7a8e-4b9b-ad3c-ebf409b33824",
   "metadata": {},
   "source": [
    "Univariate finemapping will produce a file containing results for the top hits and a file containing twas weights produced by susie. Multigene finemapping with mvSuSiE will produce a file for each gene and region containing results for the top hits and a file containing twas weights produced by susie. Univariate finemapping for functional data with fSuSiE will produce a file containing results for the top hits and a file containing residuals from SuSiE. Multivariate finemapping will produce a file containing results for the top hits for each gene and a file containing twas weights produced by susie. Summary statistics fine-mapping produces a results file for each region and gwas of interest."
   ]
  },
  {
   "cell_type": "code",
   "execution_count": null,
   "id": "34729ce0-94f8-4f78-8961-e3c3dc365f2e",
   "metadata": {},
   "outputs": [],
   "source": []
  }
 ],
 "metadata": {
  "kernelspec": {
   "display_name": "Python 3 (ipykernel)",
   "language": "python",
   "name": "python3"
  },
  "language_info": {
   "codemirror_mode": {
    "name": "ipython",
    "version": 3
   },
   "file_extension": ".py",
   "mimetype": "text/x-python",
   "name": "python",
   "nbconvert_exporter": "python",
   "pygments_lexer": "ipython3",
   "version": "3.12.6"
  }
 },
 "nbformat": 4,
 "nbformat_minor": 5
}
