{
 "cells": [
  {
   "cell_type": "markdown",
   "id": "maritime-vision",
   "metadata": {
    "kernel": "SoS",
    "tags": []
   },
   "source": [
    "# Multivariate TWAS prediction model"
   ]
  },
  {
   "cell_type": "markdown",
   "id": "residential-weapon",
   "metadata": {
    "kernel": "SoS"
   },
   "source": [
    "## Mixture Prior"
   ]
  },
  {
   "cell_type": "code",
   "execution_count": null,
   "id": "built-raleigh",
   "metadata": {
    "kernel": "SoS"
   },
   "outputs": [],
   "source": [
    "nohup sos run /home/hs3163/GIT/xqtl-pipeline/pipeline/multivariate/MASH/mixture_prior.ipynb ed_bovy \\\n",
    "--cwd ./ \\\n",
    "--container /mnt/mfs/statgen/containers/twas_latest.sif \\\n",
    "--name \"PCC_DLPFC_AC\" \\\n",
    "--data /mnt/mfs/statgen/xqtl_workflow_testing/module/MASH/PCC_DLPFC_AC.rds \\\n",
    "--mixture_components_dir /mnt/mfs/statgen/xqtl_workflow_testing/module/MASH/  -s force &"
   ]
  },
  {
   "cell_type": "markdown",
   "id": "burning-literacy",
   "metadata": {
    "kernel": "SoS"
   },
   "source": [
    "## mr.mash using individual level data"
   ]
  },
  {
   "cell_type": "code",
   "execution_count": null,
   "id": "electric-spirituality",
   "metadata": {
    "kernel": "SoS"
   },
   "outputs": [],
   "source": [
    "sos run pipeline/mnm_regression.ipynb mrmash \\\n",
    "    --analysis-units /mnt/vast/hpc/csg/cl4215/mrmash/pseudo_bulk/documents/analys_units_200.txt \\\n",
    "    --data-dir /mnt/vast/hpc/csg/cl4215/mrmash/pseudo_bulk/data_noALL \\\n",
    "    --data-suffix rds \\\n",
    "    --name \"fold_1\" \\\n",
    "    --wd /mnt/vast/hpc/csg/cl4215/mrmash/pseudo_bulk/output_noALL \\\n",
    "    --prior-grid /mnt/vast/hpc/csg/cl4215/mrmash/pseudo_bulk/output_noALL/grid_noALL/fold_1_grid.rds \\\n",
    "    --prior-matrices /mnt/vast/hpc/csg/cl4215/mrmash/pseudo_bulk/output_noALL/data_driven_matrices/output_noALL/fold_1.ted_unconstrained.rds \\\n",
    "    --sample-partition /mnt/vast/hpc/csg/cl4215/mrmash/pseudo_bulk/documents/sampleid_pseudobulk_5fold.txt   \\\n",
    "    --fold 1 \\\n",
    "    --nthreads 2 \\\n",
    "    --update-w0 TRUE \\\n",
    "    --w0-threshold 1e-8 \\\n",
    "    --save-model FALSE \\\n",
    "    --glmnet-pred TRUE \\\n",
    "    -j 10 -c ~/csg.yml -q csg \\\n",
    "    -s force &> /mnt/vast/hpc/csg/cl4215/mrmash/pseudo_bulk/documents/errout/07.fit_mr.mash_fold1_noALL.log"
   ]
  }
 ],
 "metadata": {
  "kernelspec": {
   "display_name": "SoS",
   "language": "sos",
   "name": "sos"
  },
  "language_info": {
   "codemirror_mode": "sos",
   "file_extension": ".sos",
   "mimetype": "text/x-sos",
   "name": "sos",
   "nbconvert_exporter": "sos_notebook.converter.SoS_Exporter",
   "pygments_lexer": "sos"
  },
  "sos": {
   "kernels": [
    [
     "Bash",
     "bash",
     "Bash",
     "#E6EEFF",
     ""
    ],
    [
     "Markdown",
     "markdown",
     "markdown",
     "",
     ""
    ],
    [
     "SoS",
     "sos",
     "",
     "",
     "sos"
    ]
   ],
   "version": "0.22.4"
  }
 },
 "nbformat": 4,
 "nbformat_minor": 5
}
