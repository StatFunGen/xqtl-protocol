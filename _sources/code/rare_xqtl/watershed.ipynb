{
 "cells": [
  {
   "cell_type": "markdown",
   "id": "pleased-hollywood",
   "metadata": {
    "kernel": "SoS"
   },
   "source": [
    "# watershed analysis for rare xQTL"
   ]
  },
  {
   "cell_type": "markdown",
   "id": "caring-alpha",
   "metadata": {
    "kernel": "SoS"
   },
   "source": [
    "FIXME: coming soon"
   ]
  }
 ],
 "metadata": {
  "kernelspec": {
   "display_name": "SoS",
   "language": "sos",
   "name": "sos"
  },
  "language_info": {
   "codemirror_mode": "sos",
   "file_extension": ".sos",
   "mimetype": "text/x-sos",
   "name": "sos",
   "nbconvert_exporter": "sos_notebook.converter.SoS_Exporter",
   "pygments_lexer": "sos"
  },
  "sos": {
   "kernels": [
    [
     "SoS",
     "sos",
     "",
     ""
    ]
   ],
   "version": "0.22.4"
  }
 },
 "nbformat": 4,
 "nbformat_minor": 5
}
