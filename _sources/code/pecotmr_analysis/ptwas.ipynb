{
 "cells": [
  {
   "cell_type": "markdown",
   "metadata": {
    "kernel": "SoS",
    "tags": []
   },
   "source": [
    "# TWAS for xQTL"
   ]
  },
  {
   "cell_type": "markdown",
   "metadata": {
    "kernel": "SoS"
   },
   "source": [
    "This module contains the software implementations to perform transcriptome-wide association analysis (TWAS). These methods are designed to perform rigorous causal inference connecting genes to complex traits.    "
   ]
  },
  {
   "cell_type": "markdown",
   "metadata": {
    "kernel": "SoS"
   },
   "source": [
    "## Overview\n",
    "\n",
    "The goal of this module is to perform PTWAS analysis from SuSiE objects, including:\n",
    "* **Step 1: PTWAS (twas_z_format)**\n",
    "1. load GWAS z-score\n",
    "2. load the corresponding LD matrices within the TAD region of each gene\n",
    "3. use allele_qc() function to QC the LD matrix with summary stats\n",
    "4. extract susie, lasso, enet and mr_ash weights\n",
    "5. use twas_z() to compute TWAS results from multipile weights\n",
    "* **Step 2: MR (twas_candidate_genes)**\n",
    "1. use some p-value cutoff to loosely pick TWAS regions of interest then if the region passes the cutoff, save the QC-ed GWAS data in the format compatabile to [mr.R](https://github.com/cumc/pecotmr/blob/main/R/mr.R)\n"
   ]
  },
  {
   "cell_type": "markdown",
   "metadata": {
    "kernel": "SoS"
   },
   "source": [
    "### Input\n",
    "* **Step 1: PTWAS**\n",
    "1. QTL susie table：\n",
    "2. GWAS sumstats results (tsv format)    \n",
    "3. LD reference\n",
    "4. TAD region\n",
    "* **Step 2: MR**\n",
    "1. output of Step 1\n",
    "\n",
    "### Ouput\n",
    "* **Step 1: PTWAS**\n",
    "1. TWAS results from multiple weights\n",
    "2. GWAS summary statistics after QC\n",
    "3. the input format of twas_z() function\n",
    "* **Step 2: MR**\n",
    "1. the candidate genes of TWAS\n",
    "2. the input format of [mr.R](https://github.com/cumc/pecotmr/blob/main/R/mr.R)\n",
    "3. the MR results\n"
   ]
  },
  {
   "cell_type": "code",
   "execution_count": null,
   "metadata": {
    "kernel": "SoS"
   },
   "outputs": [],
   "source": [
    "[global]\n",
    "# Workdir\n",
    "parameter: susie_path = paths\n",
    "parameter: cwd = path(\"output\")\n",
    "parameter: container = ''\n",
    "import re\n",
    "parameter: entrypoint= ('micromamba run -a \"\" -n' + ' ' + re.sub(r'(_apptainer:latest|_docker:latest|\\.sif)$', '', container.split('/')[-1])) if container else \"\"\n",
    "parameter: job_size = 100\n",
    "parameter: walltime = \"1h\"\n",
    "parameter: mem = \"16G\"\n",
    "parameter: numThreads = 20\n",
    "parameter: allele_qc_R = path(\"~/pecotmr/R/allele_qc.R\")\n",
    "parameter: \n",
    "allele_qc_R = f\"{allele_qc_R:a}\""
   ]
  },
  {
   "cell_type": "markdown",
   "metadata": {
    "kernel": "SoS"
   },
   "source": [
    "## PTWAS \n"
   ]
  },
  {
   "cell_type": "markdown",
   "metadata": {
    "kernel": "SoS"
   },
   "source": [
    "\n",
    "### Input\n",
    "\n",
    "- susie_path: A list of file paths for susie results\n",
    "- GWAS_path: gwas summary statistics path (to load the gwas sumstats dataframe)\n",
    "- LD_path: LD block matrix path (a list of file paths of LD block)\n",
    "- TAD_path: TAD region path (a dataframe  of TAD region of each gene, this one is applied to subset the LD matrix for each gene)\n",
    "\n",
    "\n",
    "### Output\n",
    "\n",
    "- twas_z_format: a dataframe of input format for the twas_z() function\n",
    "- gene_weights_pq: a dataframe of output of twas_z() function, we apply twas_z function to the  weights of four methods (susie, lasso, enet and mr_ash) to calculate the pvalue, after obtaining the pvalue, we also calculate the corresponding qvalue\n",
    "- AD_allele_flip: AD gwas sumstats after QC"
   ]
  },
  {
   "cell_type": "code",
   "execution_count": null,
   "metadata": {
    "kernel": "SoS",
    "vscode": {
     "languageId": "r"
    }
   },
   "outputs": [],
   "source": [
    "[twas_z_format_1]\n",
    "\n",
    "import pandas as pd\n",
    "s_path = pd.read_csv(susie_path, header=None)\n",
    "# split_path = s_path[0].str.split(\".\", expand=True)\n",
    "# ID = pd.DataFrame({'ID': split_path[1]})\n",
    "# path = pd.DataFrame({'path': s_path[0]})\n",
    "# input_df = pd.concat([ID, path], axis=1)\n",
    "input_df = s_path.values.tolist()\n",
    "\n",
    "parameter: GWAS_path = path\n",
    "parameter: LD_path = path\n",
    "parameter: TAD_path = path\n",
    "parameter: allele_qc_R = path(\"~/pecotmr/R/allele_qc.R\")\n",
    "allele_qc_R = f\"{allele_qc_R:a}\"\n",
    "#input: susie_path\n",
    "input: [x for x in input_df], group_by = 1\n",
    "output: f'{cwd}/{step_name[:-2]}/{_input:bnn}.twas_z.rds'\n",
    "task: trunk_workers = 1, trunk_size = job_size, walltime = walltime, mem = mem, cores = numThreads, tags = f'{step_name}_{_output:bn}'\n",
    "R: expand= \"${ }\", stderr = f'{_output:nn}.stderr', stdout = f'{_output:nn}.stdout',input=allele_qc_R\n",
    "#twas_z_format = ptwas(susie_path = \"${_input:ar}\",TAD_path = \"${TAD_path:ar}\", GWAS_path = \"${GWAS_path:ar}\", LD_path = \"${LD_path:ar}\")\n",
    "#fwrite(twas_z_format,${_output:ar},row.names=F,sep=\"\\t\",quote=F)\n",
    "\n",
    "library(data.table)\n",
    "library(plink2R)\n",
    "library(dplyr)\n",
    "library(pillar)\n",
    "library(tibble)\n",
    "library(stringr)\n",
    "library(ggplot2)\n",
    "library(reticulate)\n",
    "library(Matrix)\n",
    "library(matrixcalc)\n",
    "library(genio)\n",
    "library(gdata)\n",
    "library(bigsnpr)\n",
    "library(Rlab)\n",
    "library(qvalue)\n",
    "np = import(\"numpy\")\n",
    "options(bedtools.path = \"/home/aw3600/bedtools2/bin/\")\n",
    "library(bedtoolsr)\n",
    "\n",
    "\n",
    "\n",
    "twas_z <- function(weights, z, R=NULL, X=NULL) {\n",
    "    if (is.null(R)) {\n",
    "        # mean impute X\n",
    "        genetype_data_imputed <- apply(X, 2, function(x){\n",
    "            pos <- which(is.na(x))\n",
    "            if (length(pos) != 0){\n",
    "                x[pos] <- mean(x,na.rm = TRUE)\n",
    "                }\n",
    "                return(x)\n",
    "            })\n",
    "        # need to add `large = T` in Rfast::cora, or could get wrong results \n",
    "        # R <- cora(genetype_data_imputed, large = T)\n",
    "        # FIXME: test and enable using cora if Rfast is installed\n",
    "        # See how susieR did it\n",
    "        R <- cor(genetype_data_imputed) \n",
    "        colnames(R) <- rownames(R) <- colnames(genetype_data_imputed)\n",
    "    }\n",
    "    stat <- t(weights) %*% z\n",
    "    denom <- t(weights) %*% R %*% weights\n",
    "    zscore <- stat/sqrt(denom)\n",
    "    pval <- pchisq( zscore * zscore, 1, lower.tail = FALSE)\n",
    "    return(list(z=zscore, pval=pval))\n",
    "}\n",
    "\n",
    "\n",
    "\n",
    "ptwas = function(susie_path,TAD_path,GWAS_path,LD_path){\n",
    "#####load susie_res_path\n",
    "susie = str_split(susie_path,\"\\\\.\",simplify=T)[,2]%>%cbind(.,susie_path)%>%data.frame()%>%setNames(c(\"ID\",\"path\"))\n",
    "gene_name = susie$ID\n",
    "susie_res = readRDS(susie$path)\n",
    "if(!is.null(names(susie_res[[1]]$sets))){\n",
    "#####load LD path list\n",
    "LD_list = read.table(LD_path,header=F,sep=\"\\t\")\n",
    "LD_list_pos.bed = str_split(LD_list$V1,\"_\",simplify=T)%>%cbind(.,LD_list)\n",
    "#####load TAD_region\n",
    "TAD_region = fread(TAD_path)%>%rename(\"ID\"=\"gene_id\")\n",
    "qtl_select = TAD_region%>%filter(ID==gene_name)\n",
    "chr = str_sub(qtl_select$`#chr`,4)\n",
    "\n",
    "qtl_reference = str_split(susie_res[[1]]$variant_names,\":\",simplify = T)%>%data.frame()%>%setNames(c(\"chr\",\"pos\",\"A1\",\"A2\"))\n",
    "######load GWAS summary statistics\n",
    "AD_dataset = fread(paste0(GWAS_path,\"/ADGWAS_Bellenguez_2022.\",chr,\"/ADGWAS2022.chr\",chr,\".sumstat.tsv\",sep=\"\"))\n",
    "##transform the AD_dataset to the form of allele_qc format\n",
    "AD_data = AD_dataset%>%mutate(chr = paste0(\"chr\",chromosome))%>%mutate(pos = as.character(position))%>%select(-chromosome)%>%rename(\"A1\"=\"ref\",\"A2\"=\"alt\")%>%mutate(z=beta/se)%>%select(-position)\n",
    "AD_allele_flip = allele_qc(AD_data,qtl_reference,match.min.prop=0.2,remove_dups=TRUE,flip=TRUE,remove=TRUE)%>%\n",
    "              mutate(variant_allele_flip = paste(chr,pos,A1.sumstats,A2.sumstats,sep=\":\"))\n",
    "####load LD matrix\n",
    "LD.files <- bedtoolsr::bt.intersect(a = LD_list_pos.bed, b = qtl_select)\n",
    "LD.files.name = unique(LD.files$V5)\n",
    "LD.list = list()\n",
    "LD.matrix.names=NULL\n",
    "for (k in 1:length(LD.files.name)){\n",
    " npz = np$load(LD.files.name[k])\n",
    " LD.matrix = npz$f[[\"arr_0\"]]\n",
    " LD.snps = str_split(LD.files.name[k],\"[.]\",simplify = T)%>%.[,-c(length(.),(length(.)-1))]%>%paste(.,collapse=\".\")%>%paste0(.,\".bim\",sep=\"\")%>%read.table(.)\n",
    " #head(LD.snps)\n",
    " LD_names = colnames(LD.matrix) = rownames(LD.matrix) = gsub(\"_\",\":\",LD.snps$V2)\n",
    " snp_merge = intersect(LD_names,AD_allele_flip$variant_allele_flip)\n",
    " LD.select = as.matrix(LD.matrix[snp_merge,snp_merge])\n",
    " LD.list[[k]] = LD.select\n",
    " LD.matrix.names = append(LD.matrix.names,snp_merge)\n",
    "}\n",
    "   LD.block = as.matrix(bdiag(LD.list))\n",
    "   upperTriangle(LD.block,byrow=TRUE) = lowerTriangle(LD.block)\n",
    "   colnames(LD.block) = rownames(LD.block) = LD.matrix.names\n",
    "####generate the twas_z format input\n",
    "twas_z_format = data.frame(LD.matrix.names)%>%mutate(gene_name = gene_name)%>%\n",
    "    mutate(chr = chr)%>%\n",
    "    mutate(AD_allele_flip[match(LD.matrix.names,AD_allele_flip$variant_allele_flip),]%>%select(beta,se,z))%>%\n",
    "    mutate(susie_weights = susie_res[[1]]$susie_weights[match(LD.matrix.names,susie_res[[1]]$variant_names)])%>%\n",
    "    mutate(enet_weights =  susie_res[[1]]$enet_weights[match(LD.matrix.names,susie_res[[1]]$variant_names)])%>%\n",
    "    mutate(lasso_weights = susie_res[[1]]$lasso_weights[match(LD.matrix.names,susie_res[[1]]$variant_names)])%>%\n",
    "    mutate(mr_ash_weights = susie_res[[1]]$mr_ash_weights[match(LD.matrix.names,susie_res[[1]]$variant_names)])%>%\n",
    "    rename(\"variants_name\"=\"LD.matrix.names\")\n",
    "weights = apply(twas_z_format[,c(\"susie_weights\",\"enet_weights\",\"lasso_weights\",\"mr_ash_weights\")],2,function(x) twas_z(x,twas_z_format$z,R = LD.block))\n",
    "twas_weights = data.frame(gene_name=gene_name,chr = chr,weights$susie_weights$pval,weights$susie_weights$z,\n",
    "                          weights$lasso_weights$pval,weights$lasso_weights$z,weights$enet_weights$pval,weights$enet_weights$z,\n",
    "                          weights$mr_ash_weights$pval,weights$mr_ash_weights$z)\n",
    "  names(twas_weights) = c(\"gene_name\",\"chr\",\"susie_pval\",\"susie_z\",\"lasso_pval\",\"lasso_z\",\"enet_pval\",\"enet_z\",\"mr_ash_pval\",\"mr_ash_z\")\n",
    "  p_values = twas_weights[,c(\"susie_pval\",\"lasso_pval\",\"enet_pval\",\"mr_ash_pval\")]\n",
    "  p_values[is.na(p_values)] = 1\n",
    "  q_values = qvalue(p_values,lambda=0)$qvalues\n",
    "  gene_weights_pq = data.frame(twas_weights,qvalue = q_values)\n",
    "  names(gene_weights_pq)[11:14]=c(\"susie_qval\",\"lasso_qval\",\"enet_qval\",\"mr_ash_qval\")\n",
    "####calculate the pvalue and zscore using twas_z function    \n",
    "return(list(twas_z_format = twas_z_format,\n",
    "            gene_weights_pq = gene_weights_pq,\n",
    "            AD_allele_flip = AD_allele_flip))\n",
    " }\n",
    "else {\n",
    "    cat(\"The 'susie_result' is NULL, so no output is generated.\\n\")\n",
    "}\n",
    "}\n",
    "\n",
    "twas_z = ptwas(susie_path = ${_input:ar},TAD_path = ${TAD_path:ar},GWAS_path = ${GWAS_path:ar},LD_path = ${LD_path:ar})\n",
    "saveRDS(twas_z, ${_output:ar}, compress='xz')"
   ]
  },
  {
   "cell_type": "code",
   "execution_count": null,
   "metadata": {
    "kernel": "SoS"
   },
   "outputs": [],
   "source": [
    "[twas_z_format_2]\n",
    "# Path to the input molecular phenotype data.\n",
    "input: group_by = \"all\"\n",
    "output: f'{cwd}/{step_name[:-2]}/twas_z_files.txt'\n",
    "python: expand= \"$[ ]\", stderr = f'{_output:n}.stderr', stdout = f'{_output:n}.stdout', container = container, entrypoint = entrypoint\n",
    "import pandas as pd\n",
    "pd.DataFrame({\"output\" : [$[_input:ar,]]}).to_csv(\"$[_output]\",index = False ,header = False, sep = \"\\t\")"
   ]
  },
  {
   "cell_type": "markdown",
   "metadata": {
    "kernel": "SoS"
   },
   "source": [
    "## PTWAS \n",
    "\n",
    "### Input\n",
    "\n",
    "- weights_path: A list of file paths of the PTWAS output\n",
    "- pval_threshold: pvalue threshold for selecting the candidate genes, it is default to be 0.05\n",
    "- cpip_cutoff: cpip cutoff threshold for MR method\n",
    "\n",
    "### Output\n",
    "\n",
    "- cand_genes.rds: the candidate significant genes obtained using the multiple weights\n",
    "- mr_output.rds: the MR results using the candidate genes (cand_genes.rds)"
   ]
  },
  {
   "cell_type": "code",
   "execution_count": null,
   "metadata": {
    "kernel": "SoS"
   },
   "outputs": [],
   "source": [
    "[twas_candidate_gene]\n",
    "parameter: weights_path = path\n",
    "parameter: pval_threshold = 0.05\n",
    "parameter: cpip_cutoff = 0.5\n",
    "parameter: mr_R = path(\"~/pecotmr/R/mr.R\")\n",
    "mr_R = f\"{mr_R:a}\"\n",
    "\n",
    "input: weights_path\n",
    "output: cand_genes = f'{cwd:a}/{step_name}.rds',\n",
    "        mr_output = f'{cwd:a}/mr_output.rds'\n",
    "task: trunk_workers = 1, trunk_size = job_size, walltime = walltime, mem = mem, cores = numThreads, tags = f'{step_name}_{_output:bn}'\n",
    "R: expand= \"${ }\", stderr = f'{_output[0]:n}.stderr', stdout = f'{_output[0]:n}.stdout',input=mr_R\n",
    "\n",
    "\n",
    "library(data.table)\n",
    "library(dplyr)\n",
    "library(stringr)\n",
    "library(reticulate)\n",
    "library(qvalue)\n",
    "library(doMC)\n",
    "\n",
    "twas_mr_format_input = function(cand_genes,susie_path,weights_file_path){\n",
    "mr_format_input = NULL\n",
    "susie_path = fread(susie_path,header=F)\n",
    "susie = str_split(susie_path$V1,\"\\\\.\",simplify=T)[,2]%>%cbind(.,susie_path)%>%setNames(c(\"ID\",\"path\"))\n",
    "for (k in 1:length(cand_genes)){\n",
    "gene_name = cand_genes[k]\n",
    "qtl_susie_res = readRDS(susie$path[susie$ID==gene_name])\n",
    "if(!is.null(names(qtl_susie_res[[1]]$sets$cs))){\n",
    "qtl_finemap = qtl_susie_res[[1]]$top_loci%>%filter(cs_index_primary>=1)%>%select(-cs_index_secondary)%>%mutate(X_ID=gene_name)%>%\n",
    "           rename(\"snp\"=\"variant_id\",\"bhat_x\" = \"bhat\",\"sbhat_x\"=\"sbhat\",\"cs\" = \"cs_index_primary\")\n",
    "AD_allele_flip = readRDS(weights_file_path$path[weights_file_path$ID==gene_name])$AD_allele_flip\n",
    "merge_snp = intersect(qtl_finemap$snp,AD_allele_flip$variant_allele_flip)\n",
    "format_input = qtl_finemap[match(merge_snp,qtl_finemap$snp),]%>%cbind(.,AD_allele_flip[match(merge_snp,AD_allele_flip$variant_allele_flip),]%>%select(beta,se)%>%rename(\"bhat_y\"=\"beta\",\"sbhat_y\"=\"se\"))\n",
    "mr_format_input = rbind(mr_format_input, format_input)\n",
    "    }\n",
    "}\n",
    "return(mr_format_input)\n",
    "}\n",
    "\n",
    "#detectCores()\n",
    "registerDoMC(100)\n",
    "weights_file = fread(${_input:ar},header=F)\n",
    "weights_file_path = str_split(weights_file$V1,\"\\\\.\",simplify=T)[,2]%>%cbind(.,weights_file)%>%setNames(c(\"ID\",\"path\"))\n",
    "#ptm = proc.time()\n",
    "gene_pq = foreach(k=1:dim(weights_file)[1], .combine=rbind) %dopar% {\n",
    "   weights_pq = readRDS(weights_file_path$path[k])$gene_weights_pq\n",
    "}\n",
    "#proc.time() - ptm\n",
    "padj = apply(gene_pq[,c(\"susie_pval\",\"lasso_pval\",\"enet_pval\",\"mr_ash_pval\")],2,function(x) p.adjust(x, method = \"bonferroni\",))%>%data.frame()\n",
    "gene_pq_adj = gene_pq%>%cbind(.,padj)\n",
    "names(gene_pq_adj)[15:18] = c(\"susie_pval_adj\",\"lasso_pval_adj\",\"enet_pval_adj\",\"mr_ash_pval_adj\")\n",
    "\n",
    "cand_genes = NULL\n",
    "cand_genes$gene_pq_adj = gene_pq_adj\n",
    "cand_genes$susie= cand_genes$gene_pq_adj%>%filter(susie_pval<${pval_threshold})%>%select(gene_name)\n",
    "cand_genes$lasso= cand_genes$gene_pq_adj%>%filter(lasso_pval<${pval_threshold})%>%select(gene_name)\n",
    "cand_genes$enet= cand_genes$gene_pq_adj%>%filter(enet_pval<${pval_threshold})%>%select(gene_name)\n",
    "cand_genes$mr_ash= cand_genes$gene_pq_adj%>%filter(mr_ash_pval<${pval_threshold})%>%select(gene_name)\n",
    "cand_genes$susie_adj= cand_genes$gene_pq_adj%>%filter(susie_pval_adj<${pval_threshold})%>%select(gene_name)\n",
    "cand_genes$lasso_adj= cand_genes$gene_pq_adj%>%filter(lasso_pval_adj<${pval_threshold})%>%select(gene_name)\n",
    "cand_genes$enet_adj= cand_genes$gene_pq_adj%>%filter(enet_pval_adj<${pval_threshold})%>%select(gene_name)\n",
    "cand_genes$mr_ash_adj= cand_genes$gene_pq_adj%>%filter(mr_ash_pval_adj<${pval_threshold})%>%select(gene_name)\n",
    "\n",
    "cand_genes$susie_format_input = twas_mr_format_input(cand_genes$susie$gene_name,${susie_path:ar},weights_file_path)\n",
    "cand_genes$lasso_format_input = twas_mr_format_input(cand_genes$lasso$gene_name,${susie_path:ar},weights_file_path)\n",
    "cand_genes$enet_format_input = twas_mr_format_input(cand_genes$enet$gene_name,${susie_path:ar},weights_file_path)\n",
    "cand_genes$mr_ash_format_input = twas_mr_format_input(cand_genes$mr_ash$gene_name,${susie_path:ar},weights_file_path)\n",
    "cand_genes$susie_adj_format_input = twas_mr_format_input(cand_genes$susie_adj$gene_name,${susie_path:ar},weights_file_path)\n",
    "cand_genes$lasso_adj_format_input = twas_mr_format_input(cand_genes$lasso_adj$gene_name,${susie_path:ar},weights_file_path)\n",
    "cand_genes$enet_adj_format_input = twas_mr_format_input(cand_genes$enet_adj$gene_name,${susie_path:ar},weights_file_path)\n",
    "cand_genes$mr_ash_adj_format_input = twas_mr_format_input(cand_genes$mr_ash_adj$gene_name,${susie_path:ar},weights_file_path)\n",
    "\n",
    "saveRDS(cand_genes, ${_output[0]:ar}, compress='xz')\n",
    "\n",
    "mr_output = NULL\n",
    "mr_output$susie = fine_mr(cand_genes$susie_format_input,${cpip_cutoff})\n",
    "mr_output$lasso = fine_mr(cand_genes$lasso_format_input,${cpip_cutoff})\n",
    "mr_output$enet = fine_mr(cand_genes$enet_format_input,${cpip_cutoff})\n",
    "mr_output$mr_ash = fine_mr(cand_genes$mr_ash_format_input,${cpip_cutoff})\n",
    "mr_output$susie_adj = fine_mr(cand_genes$susie_adj_format_input,${cpip_cutoff})\n",
    "mr_output$lasso_adj = fine_mr(cand_genes$lasso_adj_format_input,${cpip_cutoff})\n",
    "mr_output$enet_adj = fine_mr(cand_genes$enet_adj_format_input,${cpip_cutoff})\n",
    "mr_output$mr_ash_adj = fine_mr(cand_genes$mr_ash_adj_format_input,${cpip_cutoff})\n",
    "\n",
    "saveRDS(mr_output, ${_output[1]:ar}, compress='xz')"
   ]
  },
  {
   "cell_type": "markdown",
   "metadata": {
    "kernel": "SoS"
   },
   "source": [
    "### Example\n",
    "#### bulk data set"
   ]
  },
  {
   "cell_type": "markdown",
   "metadata": {
    "kernel": "SoS"
   },
   "source": [
    "* fine mapping only on the 612 genes"
   ]
  },
  {
   "cell_type": "code",
   "execution_count": null,
   "metadata": {
    "kernel": "SoS"
   },
   "outputs": [],
   "source": [
    "sos run ~/xqtl-pipeline/pipeline/SuSiE.ipynb susie \\\n",
    "     --name AD_DLPFC_bulk \\\n",
    "     --genoFile  /mnt/vast/hpc/csg/FunGen_xQTL/ROSMAP/Genotype/geno_by_region/TADB_enhanced_cis_genotype_by_region/ROSMAP_NIA_WGS.leftnorm.bcftools_qc.plink_qc.genotype_by_region_files.txt \\\n",
    "     --phenoFile   ~/MR_KMT_analysis/pheno/process/DLPFC_bulk_geneid_eqtl_data.region_list.txt \\\n",
    "     --covFile  ~/MR_KMT_analysis/covariate/DLPFC_covs_genoPCs_marchPCs.txt \\\n",
    "     --phenotype_names AD \\\n",
    "     --utils-R  ~/xqtl-pipeline/pipeline/xqtl_utils.R \\\n",
    "     --maf 0.01 \\\n",
    "     --pip_cutoff 0.1 \\\n",
    "     --coverage 0.95 \\\n",
    "     --region-list ~/MR_KMT_analysis/PTWAS/AD_phenotype_select.txt \\\n",
    "     --no-indel \\\n",
    "     --cwd ~/MR_KMT_analysis/PTWAS/DLPFC_bulk_AD_SuSiE_results \\\n",
    "     --mem 200G -J 50 -c /mnt/vast/hpc/csg/molecular_phenotype_calling/csg.yml -q csg "
   ]
  },
  {
   "cell_type": "code",
   "execution_count": null,
   "metadata": {
    "kernel": "SoS"
   },
   "outputs": [],
   "source": [
    "sos run ~/xqtl-pipeline/pipeline/ptwas.ipynb twas_z_format \\\n",
    "        --susie_path  ~/MR_KMT_analysis/PTWAS/DLPFC_bulk_AD_SuSiE_results/AD_DLPFC_bulk.susie_output.txt \\\n",
    "        --TAD_path ~/fungen-xqtl-analysis/resource/TADB_enhanced_cis.bed \\\n",
    "        --GWAS_path /mnt/vast/hpc/csg/xqtl_workflow_testing/ADGWAS/data_intergration/ADGWAS2022 \\\n",
    "        --LD_path /mnt/vast/hpc/csg/molecular_phenotype_calling/LD/output/1300_hg38_EUR_LD_blocks_LD/ROSMAP_NIA_WGS.leftnorm.filtered.filtered.ld.list \\\n",
    "        --cwd ~/MR_KMT_analysis/PTWAS \\\n",
    "        --mem 80G"
   ]
  },
  {
   "cell_type": "code",
   "execution_count": null,
   "metadata": {
    "kernel": "SoS"
   },
   "outputs": [],
   "source": [
    "sos run ~/xqtl-pipeline/pipeline/ptwas.ipynb twas_candidate_gene \\\n",
    "        --susie_path  ~/MR_KMT_analysis/PTWAS/DLPFC_bulk_AD_SuSiE_results/AD_DLPFC_bulk.susie_output.txt \\\n",
    "        --weights_path ~/MR_KMT_analysis/PTWAS/twas_z_format/AD_DLPFC_bulk.twas_z_files.txt \\\n",
    "        --pval_threshold 0.05 \\\n",
    "        --cpip_cutoff 0.5 \\\n",
    "        --mr_R ~/pecotmr/R/mr.R \\\n",
    "        --cwd ~/MR_KMT_analysis/PTWAS/DLPFC_bulk_data \\\n",
    "        --mem 80G"
   ]
  },
  {
   "cell_type": "code",
   "execution_count": 7,
   "metadata": {
    "kernel": "SoS"
   },
   "outputs": [
    {
     "data": {
      "text/html": [
       "<style>\n",
       ".list-inline {list-style: none; margin:0; padding: 0}\n",
       ".list-inline>li {display: inline-block}\n",
       ".list-inline>li:not(:last-child)::after {content: \"\\00b7\"; padding: 0 .5ex}\n",
       "</style>\n",
       "<ol class=list-inline><li>482</li><li>18</li></ol>\n"
      ],
      "text/latex": [
       "\\begin{enumerate*}\n",
       "\\item 482\n",
       "\\item 18\n",
       "\\end{enumerate*}\n"
      ],
      "text/markdown": [
       "1. 482\n",
       "2. 18\n",
       "\n",
       "\n"
      ],
      "text/plain": [
       "[1] 482  18"
      ]
     },
     "metadata": {},
     "output_type": "display_data"
    },
    {
     "data": {
      "text/html": [
       "<table class=\"dataframe\">\n",
       "<caption>A data.frame: 6 × 18</caption>\n",
       "<thead>\n",
       "\t<tr><th></th><th scope=col>gene_name</th><th scope=col>chr</th><th scope=col>susie_pval</th><th scope=col>susie_z</th><th scope=col>lasso_pval</th><th scope=col>lasso_z</th><th scope=col>enet_pval</th><th scope=col>enet_z</th><th scope=col>mr_ash_pval</th><th scope=col>mr_ash_z</th><th scope=col>susie_qval</th><th scope=col>lasso_qval</th><th scope=col>enet_qval</th><th scope=col>mr_ash_qval</th><th scope=col>susie_pval_adj</th><th scope=col>lasso_pval_adj</th><th scope=col>enet_pval_adj</th><th scope=col>mr_ash_pval_adj</th></tr>\n",
       "\t<tr><th></th><th scope=col>&lt;chr&gt;</th><th scope=col>&lt;chr&gt;</th><th scope=col>&lt;dbl&gt;</th><th scope=col>&lt;dbl&gt;</th><th scope=col>&lt;dbl&gt;</th><th scope=col>&lt;dbl&gt;</th><th scope=col>&lt;dbl&gt;</th><th scope=col>&lt;dbl&gt;</th><th scope=col>&lt;dbl&gt;</th><th scope=col>&lt;dbl&gt;</th><th scope=col>&lt;dbl&gt;</th><th scope=col>&lt;dbl&gt;</th><th scope=col>&lt;dbl&gt;</th><th scope=col>&lt;dbl&gt;</th><th scope=col>&lt;dbl&gt;</th><th scope=col>&lt;dbl&gt;</th><th scope=col>&lt;dbl&gt;</th><th scope=col>&lt;dbl&gt;</th></tr>\n",
       "</thead>\n",
       "<tbody>\n",
       "\t<tr><th scope=row>1</th><td>ENSG00000188157</td><td>1</td><td>0.94223145</td><td> 0.07246551</td><td>       NaN</td><td>        NaN</td><td>      NaN</td><td>        NaN</td><td>0.896210155</td><td>-0.1304503</td><td>1.00000000</td><td>1.00000000</td><td>1.00000000</td><td>1.000000000</td><td>1</td><td>NaN</td><td>NaN</td><td>1.00000</td></tr>\n",
       "\t<tr><th scope=row>2</th><td>ENSG00000074800</td><td>1</td><td>0.45220217</td><td>-0.75174874</td><td>0.89523247</td><td> 0.13168624</td><td>0.6625478</td><td>-0.43639828</td><td>0.499605350</td><td>-0.6751108</td><td>0.88339705</td><td>0.89523247</td><td>0.88339705</td><td>0.883397048</td><td>1</td><td>  1</td><td>  1</td><td>1.00000</td></tr>\n",
       "\t<tr><th scope=row>3</th><td>ENSG00000177000</td><td>1</td><td>0.12225353</td><td>-1.54538351</td><td>0.03928815</td><td>-2.06115615</td><td>0.0426312</td><td>-2.02730527</td><td>0.085125875</td><td>-1.7216890</td><td>0.12225353</td><td>0.08526241</td><td>0.08526241</td><td>0.113501166</td><td>1</td><td>  1</td><td>  1</td><td>1.00000</td></tr>\n",
       "\t<tr><th scope=row>4</th><td>ENSG00000117118</td><td>1</td><td>0.73754554</td><td>-0.33510546</td><td>0.95718135</td><td>-0.05369101</td><td>0.9518644</td><td> 0.06036566</td><td>0.761034824</td><td>-0.3041222</td><td>0.95718135</td><td>0.95718135</td><td>0.95718135</td><td>0.957181348</td><td>1</td><td>  1</td><td>  1</td><td>1.00000</td></tr>\n",
       "\t<tr><th scope=row>5</th><td>ENSG00000117115</td><td>1</td><td>0.26937576</td><td>-1.10450124</td><td>0.07594689</td><td>-1.77470331</td><td>0.1178218</td><td>-1.56398218</td><td>0.522042520</td><td> 0.6402001</td><td>0.35916769</td><td>0.23564351</td><td>0.23564351</td><td>0.522042520</td><td>1</td><td>  1</td><td>  1</td><td>1.00000</td></tr>\n",
       "\t<tr><th scope=row>6</th><td>ENSG00000158748</td><td>1</td><td>0.08305581</td><td> 1.73322428</td><td>0.06390926</td><td> 1.85281234</td><td>0.0634120</td><td> 1.85629165</td><td>0.001551992</td><td> 3.1647820</td><td>0.08305581</td><td>0.08305581</td><td>0.08305581</td><td>0.006207967</td><td>1</td><td>  1</td><td>  1</td><td>0.74806</td></tr>\n",
       "</tbody>\n",
       "</table>\n"
      ],
      "text/latex": [
       "A data.frame: 6 × 18\n",
       "\\begin{tabular}{r|llllllllllllllllll}\n",
       "  & gene\\_name & chr & susie\\_pval & susie\\_z & lasso\\_pval & lasso\\_z & enet\\_pval & enet\\_z & mr\\_ash\\_pval & mr\\_ash\\_z & susie\\_qval & lasso\\_qval & enet\\_qval & mr\\_ash\\_qval & susie\\_pval\\_adj & lasso\\_pval\\_adj & enet\\_pval\\_adj & mr\\_ash\\_pval\\_adj\\\\\n",
       "  & <chr> & <chr> & <dbl> & <dbl> & <dbl> & <dbl> & <dbl> & <dbl> & <dbl> & <dbl> & <dbl> & <dbl> & <dbl> & <dbl> & <dbl> & <dbl> & <dbl> & <dbl>\\\\\n",
       "\\hline\n",
       "\t1 & ENSG00000188157 & 1 & 0.94223145 &  0.07246551 &        NaN &         NaN &       NaN &         NaN & 0.896210155 & -0.1304503 & 1.00000000 & 1.00000000 & 1.00000000 & 1.000000000 & 1 & NaN & NaN & 1.00000\\\\\n",
       "\t2 & ENSG00000074800 & 1 & 0.45220217 & -0.75174874 & 0.89523247 &  0.13168624 & 0.6625478 & -0.43639828 & 0.499605350 & -0.6751108 & 0.88339705 & 0.89523247 & 0.88339705 & 0.883397048 & 1 &   1 &   1 & 1.00000\\\\\n",
       "\t3 & ENSG00000177000 & 1 & 0.12225353 & -1.54538351 & 0.03928815 & -2.06115615 & 0.0426312 & -2.02730527 & 0.085125875 & -1.7216890 & 0.12225353 & 0.08526241 & 0.08526241 & 0.113501166 & 1 &   1 &   1 & 1.00000\\\\\n",
       "\t4 & ENSG00000117118 & 1 & 0.73754554 & -0.33510546 & 0.95718135 & -0.05369101 & 0.9518644 &  0.06036566 & 0.761034824 & -0.3041222 & 0.95718135 & 0.95718135 & 0.95718135 & 0.957181348 & 1 &   1 &   1 & 1.00000\\\\\n",
       "\t5 & ENSG00000117115 & 1 & 0.26937576 & -1.10450124 & 0.07594689 & -1.77470331 & 0.1178218 & -1.56398218 & 0.522042520 &  0.6402001 & 0.35916769 & 0.23564351 & 0.23564351 & 0.522042520 & 1 &   1 &   1 & 1.00000\\\\\n",
       "\t6 & ENSG00000158748 & 1 & 0.08305581 &  1.73322428 & 0.06390926 &  1.85281234 & 0.0634120 &  1.85629165 & 0.001551992 &  3.1647820 & 0.08305581 & 0.08305581 & 0.08305581 & 0.006207967 & 1 &   1 &   1 & 0.74806\\\\\n",
       "\\end{tabular}\n"
      ],
      "text/markdown": [
       "\n",
       "A data.frame: 6 × 18\n",
       "\n",
       "| <!--/--> | gene_name &lt;chr&gt; | chr &lt;chr&gt; | susie_pval &lt;dbl&gt; | susie_z &lt;dbl&gt; | lasso_pval &lt;dbl&gt; | lasso_z &lt;dbl&gt; | enet_pval &lt;dbl&gt; | enet_z &lt;dbl&gt; | mr_ash_pval &lt;dbl&gt; | mr_ash_z &lt;dbl&gt; | susie_qval &lt;dbl&gt; | lasso_qval &lt;dbl&gt; | enet_qval &lt;dbl&gt; | mr_ash_qval &lt;dbl&gt; | susie_pval_adj &lt;dbl&gt; | lasso_pval_adj &lt;dbl&gt; | enet_pval_adj &lt;dbl&gt; | mr_ash_pval_adj &lt;dbl&gt; |\n",
       "|---|---|---|---|---|---|---|---|---|---|---|---|---|---|---|---|---|---|---|\n",
       "| 1 | ENSG00000188157 | 1 | 0.94223145 |  0.07246551 |        NaN |         NaN |       NaN |         NaN | 0.896210155 | -0.1304503 | 1.00000000 | 1.00000000 | 1.00000000 | 1.000000000 | 1 | NaN | NaN | 1.00000 |\n",
       "| 2 | ENSG00000074800 | 1 | 0.45220217 | -0.75174874 | 0.89523247 |  0.13168624 | 0.6625478 | -0.43639828 | 0.499605350 | -0.6751108 | 0.88339705 | 0.89523247 | 0.88339705 | 0.883397048 | 1 |   1 |   1 | 1.00000 |\n",
       "| 3 | ENSG00000177000 | 1 | 0.12225353 | -1.54538351 | 0.03928815 | -2.06115615 | 0.0426312 | -2.02730527 | 0.085125875 | -1.7216890 | 0.12225353 | 0.08526241 | 0.08526241 | 0.113501166 | 1 |   1 |   1 | 1.00000 |\n",
       "| 4 | ENSG00000117118 | 1 | 0.73754554 | -0.33510546 | 0.95718135 | -0.05369101 | 0.9518644 |  0.06036566 | 0.761034824 | -0.3041222 | 0.95718135 | 0.95718135 | 0.95718135 | 0.957181348 | 1 |   1 |   1 | 1.00000 |\n",
       "| 5 | ENSG00000117115 | 1 | 0.26937576 | -1.10450124 | 0.07594689 | -1.77470331 | 0.1178218 | -1.56398218 | 0.522042520 |  0.6402001 | 0.35916769 | 0.23564351 | 0.23564351 | 0.522042520 | 1 |   1 |   1 | 1.00000 |\n",
       "| 6 | ENSG00000158748 | 1 | 0.08305581 |  1.73322428 | 0.06390926 |  1.85281234 | 0.0634120 |  1.85629165 | 0.001551992 |  3.1647820 | 0.08305581 | 0.08305581 | 0.08305581 | 0.006207967 | 1 |   1 |   1 | 0.74806 |\n",
       "\n"
      ],
      "text/plain": [
       "  gene_name       chr susie_pval susie_z     lasso_pval lasso_z     enet_pval\n",
       "1 ENSG00000188157 1   0.94223145  0.07246551        NaN         NaN       NaN\n",
       "2 ENSG00000074800 1   0.45220217 -0.75174874 0.89523247  0.13168624 0.6625478\n",
       "3 ENSG00000177000 1   0.12225353 -1.54538351 0.03928815 -2.06115615 0.0426312\n",
       "4 ENSG00000117118 1   0.73754554 -0.33510546 0.95718135 -0.05369101 0.9518644\n",
       "5 ENSG00000117115 1   0.26937576 -1.10450124 0.07594689 -1.77470331 0.1178218\n",
       "6 ENSG00000158748 1   0.08305581  1.73322428 0.06390926  1.85281234 0.0634120\n",
       "  enet_z      mr_ash_pval mr_ash_z   susie_qval lasso_qval enet_qval \n",
       "1         NaN 0.896210155 -0.1304503 1.00000000 1.00000000 1.00000000\n",
       "2 -0.43639828 0.499605350 -0.6751108 0.88339705 0.89523247 0.88339705\n",
       "3 -2.02730527 0.085125875 -1.7216890 0.12225353 0.08526241 0.08526241\n",
       "4  0.06036566 0.761034824 -0.3041222 0.95718135 0.95718135 0.95718135\n",
       "5 -1.56398218 0.522042520  0.6402001 0.35916769 0.23564351 0.23564351\n",
       "6  1.85629165 0.001551992  3.1647820 0.08305581 0.08305581 0.08305581\n",
       "  mr_ash_qval susie_pval_adj lasso_pval_adj enet_pval_adj mr_ash_pval_adj\n",
       "1 1.000000000 1              NaN            NaN           1.00000        \n",
       "2 0.883397048 1                1              1           1.00000        \n",
       "3 0.113501166 1                1              1           1.00000        \n",
       "4 0.957181348 1                1              1           1.00000        \n",
       "5 0.522042520 1                1              1           1.00000        \n",
       "6 0.006207967 1                1              1           0.74806        "
      ]
     },
     "metadata": {},
     "output_type": "display_data"
    }
   ],
   "source": [
    "library(data.table)\n",
    "DLPFC_genes = readRDS(\"~/MR_KMT_analysis/PTWAS/DLPFC_bulk_data/twas_candidate_gene.rds\")\n",
    "dim(DLPFC_genes$gene_pq_adj)\n",
    "head(DLPFC_genes$gene_pq_adj)"
   ]
  },
  {
   "cell_type": "markdown",
   "metadata": {
    "kernel": "SoS"
   },
   "source": [
    "After fine mapping, there are only 482 genes have significant results. Thus, we only list the pvalue and qvalue of 482 genes.\n",
    "\n",
    "We set pvalue threshold to be 0.05 and compare the bonferroni adjusted pvalue with the 0.05, \n",
    "* For the susie method, we obtained 28 candidate significant genes;\n",
    "* For the lasso method, we obtained 12 candidate significant genes;\n",
    "* For the enet method, we obtained 12 candidate significant genes;\n",
    "* For the mr_ash method, we obtained 23 candidate significant genes"
   ]
  },
  {
   "cell_type": "code",
   "execution_count": 27,
   "metadata": {
    "kernel": "SoS"
   },
   "outputs": [
    {
     "data": {
      "text/html": [
       "28"
      ],
      "text/latex": [
       "28"
      ],
      "text/markdown": [
       "28"
      ],
      "text/plain": [
       "[1] 28"
      ]
     },
     "metadata": {},
     "output_type": "display_data"
    },
    {
     "data": {
      "text/html": [
       "12"
      ],
      "text/latex": [
       "12"
      ],
      "text/markdown": [
       "12"
      ],
      "text/plain": [
       "[1] 12"
      ]
     },
     "metadata": {},
     "output_type": "display_data"
    },
    {
     "data": {
      "text/html": [
       "12"
      ],
      "text/latex": [
       "12"
      ],
      "text/markdown": [
       "12"
      ],
      "text/plain": [
       "[1] 12"
      ]
     },
     "metadata": {},
     "output_type": "display_data"
    },
    {
     "data": {
      "text/html": [
       "23"
      ],
      "text/latex": [
       "23"
      ],
      "text/markdown": [
       "23"
      ],
      "text/plain": [
       "[1] 23"
      ]
     },
     "metadata": {},
     "output_type": "display_data"
    }
   ],
   "source": [
    "length(DLPFC_genes$susie_adj$gene_name)\n",
    "length(DLPFC_genes$lasso_adj$gene_name)\n",
    "length(DLPFC_genes$enet_adj$gene_name)\n",
    "length(DLPFC_genes$mr_ash_adj$gene_name)"
   ]
  },
  {
   "cell_type": "markdown",
   "metadata": {
    "kernel": "SoS"
   },
   "source": [
    "* After merge the candidate genes of four methods, we finally obtained genes"
   ]
  },
  {
   "cell_type": "code",
   "execution_count": 23,
   "metadata": {
    "kernel": "SoS"
   },
   "outputs": [
    {
     "data": {
      "text/html": [
       "40"
      ],
      "text/latex": [
       "40"
      ],
      "text/markdown": [
       "40"
      ],
      "text/plain": [
       "[1] 40"
      ]
     },
     "metadata": {},
     "output_type": "display_data"
    }
   ],
   "source": [
    "candidate_genes_merge = unique(c(DLPFC_genes$susie_adj$gene_name, DLPFC_genes$lasso_adj$gene_name, DLPFC_genes$enet_adj$gene_name, DLPFC_genes$mr_ash_adj$gene_name))\n",
    "length(candidate_genes_merge)"
   ]
  },
  {
   "cell_type": "code",
   "execution_count": 24,
   "metadata": {
    "kernel": "SoS"
   },
   "outputs": [
    {
     "data": {
      "text/html": [
       "<style>\n",
       ".list-inline {list-style: none; margin:0; padding: 0}\n",
       ".list-inline>li {display: inline-block}\n",
       ".list-inline>li:not(:last-child)::after {content: \"\\00b7\"; padding: 0 .5ex}\n",
       "</style>\n",
       "<ol class=list-inline><li>'ENSG00000117322'</li><li>'ENSG00000203710'</li><li>'ENSG00000196549'</li><li>'ENSG00000196126'</li><li>'ENSG00000234745'</li><li>'ENSG00000240065'</li><li>'ENSG00000095970'</li><li>'ENSG00000086288'</li><li>'ENSG00000106351'</li><li>'ENSG00000095585'</li><li>'ENSG00000109919'</li><li>'ENSG00000110079'</li><li>'ENSG00000100599'</li><li>'ENSG00000103550'</li><li>'ENSG00000099364'</li><li>'ENSG00000099381'</li><li>'ENSG00000103495'</li><li>'ENSG00000103510'</li><li>'ENSG00000149922'</li><li>'ENSG00000156885'</li><li>'ENSG00000108556'</li><li>'ENSG00000030582'</li><li>'ENSG00000005379'</li><li>'ENSG00000159640'</li><li>'ENSG00000007255'</li><li>'ENSG00000073008'</li><li>'ENSG00000130204'</li><li>'ENSG00000161640'</li><li>'ENSG00000204520'</li><li>'ENSG00000120885'</li><li>'ENSG00000064300'</li><li>'ENSG00000182087'</li><li>'ENSG00000104853'</li><li>'ENSG00000150672'</li><li>'ENSG00000104856'</li><li>'ENSG00000104884'</li><li>'ENSG00000130208'</li><li>'ENSG00000138442'</li><li>'ENSG00000127184'</li><li>'ENSG00000197943'</li></ol>\n"
      ],
      "text/latex": [
       "\\begin{enumerate*}\n",
       "\\item 'ENSG00000117322'\n",
       "\\item 'ENSG00000203710'\n",
       "\\item 'ENSG00000196549'\n",
       "\\item 'ENSG00000196126'\n",
       "\\item 'ENSG00000234745'\n",
       "\\item 'ENSG00000240065'\n",
       "\\item 'ENSG00000095970'\n",
       "\\item 'ENSG00000086288'\n",
       "\\item 'ENSG00000106351'\n",
       "\\item 'ENSG00000095585'\n",
       "\\item 'ENSG00000109919'\n",
       "\\item 'ENSG00000110079'\n",
       "\\item 'ENSG00000100599'\n",
       "\\item 'ENSG00000103550'\n",
       "\\item 'ENSG00000099364'\n",
       "\\item 'ENSG00000099381'\n",
       "\\item 'ENSG00000103495'\n",
       "\\item 'ENSG00000103510'\n",
       "\\item 'ENSG00000149922'\n",
       "\\item 'ENSG00000156885'\n",
       "\\item 'ENSG00000108556'\n",
       "\\item 'ENSG00000030582'\n",
       "\\item 'ENSG00000005379'\n",
       "\\item 'ENSG00000159640'\n",
       "\\item 'ENSG00000007255'\n",
       "\\item 'ENSG00000073008'\n",
       "\\item 'ENSG00000130204'\n",
       "\\item 'ENSG00000161640'\n",
       "\\item 'ENSG00000204520'\n",
       "\\item 'ENSG00000120885'\n",
       "\\item 'ENSG00000064300'\n",
       "\\item 'ENSG00000182087'\n",
       "\\item 'ENSG00000104853'\n",
       "\\item 'ENSG00000150672'\n",
       "\\item 'ENSG00000104856'\n",
       "\\item 'ENSG00000104884'\n",
       "\\item 'ENSG00000130208'\n",
       "\\item 'ENSG00000138442'\n",
       "\\item 'ENSG00000127184'\n",
       "\\item 'ENSG00000197943'\n",
       "\\end{enumerate*}\n"
      ],
      "text/markdown": [
       "1. 'ENSG00000117322'\n",
       "2. 'ENSG00000203710'\n",
       "3. 'ENSG00000196549'\n",
       "4. 'ENSG00000196126'\n",
       "5. 'ENSG00000234745'\n",
       "6. 'ENSG00000240065'\n",
       "7. 'ENSG00000095970'\n",
       "8. 'ENSG00000086288'\n",
       "9. 'ENSG00000106351'\n",
       "10. 'ENSG00000095585'\n",
       "11. 'ENSG00000109919'\n",
       "12. 'ENSG00000110079'\n",
       "13. 'ENSG00000100599'\n",
       "14. 'ENSG00000103550'\n",
       "15. 'ENSG00000099364'\n",
       "16. 'ENSG00000099381'\n",
       "17. 'ENSG00000103495'\n",
       "18. 'ENSG00000103510'\n",
       "19. 'ENSG00000149922'\n",
       "20. 'ENSG00000156885'\n",
       "21. 'ENSG00000108556'\n",
       "22. 'ENSG00000030582'\n",
       "23. 'ENSG00000005379'\n",
       "24. 'ENSG00000159640'\n",
       "25. 'ENSG00000007255'\n",
       "26. 'ENSG00000073008'\n",
       "27. 'ENSG00000130204'\n",
       "28. 'ENSG00000161640'\n",
       "29. 'ENSG00000204520'\n",
       "30. 'ENSG00000120885'\n",
       "31. 'ENSG00000064300'\n",
       "32. 'ENSG00000182087'\n",
       "33. 'ENSG00000104853'\n",
       "34. 'ENSG00000150672'\n",
       "35. 'ENSG00000104856'\n",
       "36. 'ENSG00000104884'\n",
       "37. 'ENSG00000130208'\n",
       "38. 'ENSG00000138442'\n",
       "39. 'ENSG00000127184'\n",
       "40. 'ENSG00000197943'\n",
       "\n",
       "\n"
      ],
      "text/plain": [
       " [1] \"ENSG00000117322\" \"ENSG00000203710\" \"ENSG00000196549\" \"ENSG00000196126\"\n",
       " [5] \"ENSG00000234745\" \"ENSG00000240065\" \"ENSG00000095970\" \"ENSG00000086288\"\n",
       " [9] \"ENSG00000106351\" \"ENSG00000095585\" \"ENSG00000109919\" \"ENSG00000110079\"\n",
       "[13] \"ENSG00000100599\" \"ENSG00000103550\" \"ENSG00000099364\" \"ENSG00000099381\"\n",
       "[17] \"ENSG00000103495\" \"ENSG00000103510\" \"ENSG00000149922\" \"ENSG00000156885\"\n",
       "[21] \"ENSG00000108556\" \"ENSG00000030582\" \"ENSG00000005379\" \"ENSG00000159640\"\n",
       "[25] \"ENSG00000007255\" \"ENSG00000073008\" \"ENSG00000130204\" \"ENSG00000161640\"\n",
       "[29] \"ENSG00000204520\" \"ENSG00000120885\" \"ENSG00000064300\" \"ENSG00000182087\"\n",
       "[33] \"ENSG00000104853\" \"ENSG00000150672\" \"ENSG00000104856\" \"ENSG00000104884\"\n",
       "[37] \"ENSG00000130208\" \"ENSG00000138442\" \"ENSG00000127184\" \"ENSG00000197943\""
      ]
     },
     "metadata": {},
     "output_type": "display_data"
    }
   ],
   "source": [
    "candidate_genes_merge"
   ]
  },
  {
   "cell_type": "code",
   "execution_count": 37,
   "metadata": {
    "kernel": "SoS"
   },
   "outputs": [],
   "source": [
    "mr_output = readRDS(\"~/MR_KMT_analysis/PTWAS/DLPFC_bulk_data/mr_output.rds\")"
   ]
  },
  {
   "cell_type": "code",
   "execution_count": 38,
   "metadata": {
    "kernel": "SoS"
   },
   "outputs": [
    {
     "data": {
      "text/html": [
       "<table class=\"dataframe\">\n",
       "<caption>A data.frame: 6 × 9</caption>\n",
       "<thead>\n",
       "\t<tr><th></th><th scope=col>snp</th><th scope=col>maf</th><th scope=col>bhat_x</th><th scope=col>sbhat_x</th><th scope=col>pip</th><th scope=col>cs</th><th scope=col>X_ID</th><th scope=col>bhat_y</th><th scope=col>sbhat_y</th></tr>\n",
       "\t<tr><th></th><th scope=col>&lt;chr&gt;</th><th scope=col>&lt;dbl&gt;</th><th scope=col>&lt;dbl&gt;</th><th scope=col>&lt;dbl&gt;</th><th scope=col>&lt;dbl&gt;</th><th scope=col>&lt;dbl&gt;</th><th scope=col>&lt;chr&gt;</th><th scope=col>&lt;dbl&gt;</th><th scope=col>&lt;dbl&gt;</th></tr>\n",
       "</thead>\n",
       "<tbody>\n",
       "\t<tr><th scope=row>1</th><td>chr1:207505962:A:G</td><td>0.2008929</td><td>-0.1833420</td><td>0.03515377</td><td>0.03532058</td><td>1</td><td>ENSG00000117322</td><td>-0.1093</td><td>0.0102</td></tr>\n",
       "\t<tr><th scope=row>2</th><td>chr1:207510847:T:G</td><td>0.1932398</td><td>-0.1878704</td><td>0.03512318</td><td>0.05683321</td><td>1</td><td>ENSG00000117322</td><td>-0.1234</td><td>0.0104</td></tr>\n",
       "\t<tr><th scope=row>3</th><td>chr1:207512441:T:C</td><td>0.2028061</td><td>-0.1862302</td><td>0.03513435</td><td>0.05114225</td><td>1</td><td>ENSG00000117322</td><td>-0.1115</td><td>0.0102</td></tr>\n",
       "\t<tr><th scope=row>4</th><td>chr1:207512620:A:C</td><td>0.1934866</td><td>-0.1923521</td><td>0.03509215</td><td>0.11236450</td><td>1</td><td>ENSG00000117322</td><td>-0.1240</td><td>0.0104</td></tr>\n",
       "\t<tr><th scope=row>5</th><td>chr1:207518704:A:G</td><td>0.1926020</td><td>-0.1950117</td><td>0.03507337</td><td>0.16032051</td><td>1</td><td>ENSG00000117322</td><td>-0.1253</td><td>0.0104</td></tr>\n",
       "\t<tr><th scope=row>6</th><td>chr1:207524699:T:C</td><td>0.2021684</td><td>-0.1877230</td><td>0.03512419</td><td>0.06340718</td><td>1</td><td>ENSG00000117322</td><td>-0.1126</td><td>0.0102</td></tr>\n",
       "</tbody>\n",
       "</table>\n"
      ],
      "text/latex": [
       "A data.frame: 6 × 9\n",
       "\\begin{tabular}{r|lllllllll}\n",
       "  & snp & maf & bhat\\_x & sbhat\\_x & pip & cs & X\\_ID & bhat\\_y & sbhat\\_y\\\\\n",
       "  & <chr> & <dbl> & <dbl> & <dbl> & <dbl> & <dbl> & <chr> & <dbl> & <dbl>\\\\\n",
       "\\hline\n",
       "\t1 & chr1:207505962:A:G & 0.2008929 & -0.1833420 & 0.03515377 & 0.03532058 & 1 & ENSG00000117322 & -0.1093 & 0.0102\\\\\n",
       "\t2 & chr1:207510847:T:G & 0.1932398 & -0.1878704 & 0.03512318 & 0.05683321 & 1 & ENSG00000117322 & -0.1234 & 0.0104\\\\\n",
       "\t3 & chr1:207512441:T:C & 0.2028061 & -0.1862302 & 0.03513435 & 0.05114225 & 1 & ENSG00000117322 & -0.1115 & 0.0102\\\\\n",
       "\t4 & chr1:207512620:A:C & 0.1934866 & -0.1923521 & 0.03509215 & 0.11236450 & 1 & ENSG00000117322 & -0.1240 & 0.0104\\\\\n",
       "\t5 & chr1:207518704:A:G & 0.1926020 & -0.1950117 & 0.03507337 & 0.16032051 & 1 & ENSG00000117322 & -0.1253 & 0.0104\\\\\n",
       "\t6 & chr1:207524699:T:C & 0.2021684 & -0.1877230 & 0.03512419 & 0.06340718 & 1 & ENSG00000117322 & -0.1126 & 0.0102\\\\\n",
       "\\end{tabular}\n"
      ],
      "text/markdown": [
       "\n",
       "A data.frame: 6 × 9\n",
       "\n",
       "| <!--/--> | snp &lt;chr&gt; | maf &lt;dbl&gt; | bhat_x &lt;dbl&gt; | sbhat_x &lt;dbl&gt; | pip &lt;dbl&gt; | cs &lt;dbl&gt; | X_ID &lt;chr&gt; | bhat_y &lt;dbl&gt; | sbhat_y &lt;dbl&gt; |\n",
       "|---|---|---|---|---|---|---|---|---|---|\n",
       "| 1 | chr1:207505962:A:G | 0.2008929 | -0.1833420 | 0.03515377 | 0.03532058 | 1 | ENSG00000117322 | -0.1093 | 0.0102 |\n",
       "| 2 | chr1:207510847:T:G | 0.1932398 | -0.1878704 | 0.03512318 | 0.05683321 | 1 | ENSG00000117322 | -0.1234 | 0.0104 |\n",
       "| 3 | chr1:207512441:T:C | 0.2028061 | -0.1862302 | 0.03513435 | 0.05114225 | 1 | ENSG00000117322 | -0.1115 | 0.0102 |\n",
       "| 4 | chr1:207512620:A:C | 0.1934866 | -0.1923521 | 0.03509215 | 0.11236450 | 1 | ENSG00000117322 | -0.1240 | 0.0104 |\n",
       "| 5 | chr1:207518704:A:G | 0.1926020 | -0.1950117 | 0.03507337 | 0.16032051 | 1 | ENSG00000117322 | -0.1253 | 0.0104 |\n",
       "| 6 | chr1:207524699:T:C | 0.2021684 | -0.1877230 | 0.03512419 | 0.06340718 | 1 | ENSG00000117322 | -0.1126 | 0.0102 |\n",
       "\n"
      ],
      "text/plain": [
       "  snp                maf       bhat_x     sbhat_x    pip        cs\n",
       "1 chr1:207505962:A:G 0.2008929 -0.1833420 0.03515377 0.03532058 1 \n",
       "2 chr1:207510847:T:G 0.1932398 -0.1878704 0.03512318 0.05683321 1 \n",
       "3 chr1:207512441:T:C 0.2028061 -0.1862302 0.03513435 0.05114225 1 \n",
       "4 chr1:207512620:A:C 0.1934866 -0.1923521 0.03509215 0.11236450 1 \n",
       "5 chr1:207518704:A:G 0.1926020 -0.1950117 0.03507337 0.16032051 1 \n",
       "6 chr1:207524699:T:C 0.2021684 -0.1877230 0.03512419 0.06340718 1 \n",
       "  X_ID            bhat_y  sbhat_y\n",
       "1 ENSG00000117322 -0.1093 0.0102 \n",
       "2 ENSG00000117322 -0.1234 0.0104 \n",
       "3 ENSG00000117322 -0.1115 0.0102 \n",
       "4 ENSG00000117322 -0.1240 0.0104 \n",
       "5 ENSG00000117322 -0.1253 0.0104 \n",
       "6 ENSG00000117322 -0.1126 0.0102 "
      ]
     },
     "metadata": {},
     "output_type": "display_data"
    }
   ],
   "source": [
    "head(DLPFC_genes$susie_adj_format_input)"
   ]
  },
  {
   "cell_type": "markdown",
   "metadata": {
    "kernel": "SoS"
   },
   "source": [
    "* Apply mr method to the susie_adj_format_input"
   ]
  },
  {
   "cell_type": "code",
   "execution_count": 39,
   "metadata": {
    "kernel": "SoS"
   },
   "outputs": [
    {
     "data": {
      "text/html": [
       "<table class=\"dataframe\">\n",
       "<caption>A tibble: 6 × 10</caption>\n",
       "<thead>\n",
       "\t<tr><th scope=col>X_ID</th><th scope=col>num_CS</th><th scope=col>num_IV</th><th scope=col>meta_eff</th><th scope=col>se_meta_eff</th><th scope=col>meta_pval</th><th scope=col>meta_qval</th><th scope=col>Q</th><th scope=col>Q_pval</th><th scope=col>I2</th></tr>\n",
       "\t<tr><th scope=col>&lt;chr&gt;</th><th scope=col>&lt;int&gt;</th><th scope=col>&lt;int&gt;</th><th scope=col>&lt;dbl&gt;</th><th scope=col>&lt;dbl&gt;</th><th scope=col>&lt;dbl&gt;</th><th scope=col>&lt;dbl&gt;</th><th scope=col>&lt;dbl&gt;</th><th scope=col>&lt;dbl&gt;</th><th scope=col>&lt;dbl&gt;</th></tr>\n",
       "</thead>\n",
       "<tbody>\n",
       "\t<tr><td>ENSG00000117322</td><td>1</td><td> 19</td><td> 0.022</td><td>0.005</td><td>0</td><td>0</td><td>0</td><td>0</td><td>0</td></tr>\n",
       "\t<tr><td>ENSG00000203710</td><td>1</td><td> 12</td><td> 0.010</td><td>0.001</td><td>0</td><td>0</td><td>0</td><td>1</td><td>0</td></tr>\n",
       "\t<tr><td>ENSG00000110079</td><td>1</td><td>124</td><td> 0.013</td><td>0.004</td><td>0</td><td>0</td><td>0</td><td>1</td><td>0</td></tr>\n",
       "\t<tr><td>ENSG00000103550</td><td>1</td><td> 36</td><td>-0.005</td><td>0.001</td><td>0</td><td>0</td><td>0</td><td>1</td><td>0</td></tr>\n",
       "\t<tr><td>ENSG00000108556</td><td>1</td><td> 11</td><td> 0.005</td><td>0.001</td><td>0</td><td>0</td><td>0</td><td>1</td><td>0</td></tr>\n",
       "\t<tr><td>ENSG00000161640</td><td>1</td><td>  5</td><td> 0.005</td><td>0.001</td><td>0</td><td>0</td><td>0</td><td>1</td><td>0</td></tr>\n",
       "</tbody>\n",
       "</table>\n"
      ],
      "text/latex": [
       "A tibble: 6 × 10\n",
       "\\begin{tabular}{llllllllll}\n",
       " X\\_ID & num\\_CS & num\\_IV & meta\\_eff & se\\_meta\\_eff & meta\\_pval & meta\\_qval & Q & Q\\_pval & I2\\\\\n",
       " <chr> & <int> & <int> & <dbl> & <dbl> & <dbl> & <dbl> & <dbl> & <dbl> & <dbl>\\\\\n",
       "\\hline\n",
       "\t ENSG00000117322 & 1 &  19 &  0.022 & 0.005 & 0 & 0 & 0 & 0 & 0\\\\\n",
       "\t ENSG00000203710 & 1 &  12 &  0.010 & 0.001 & 0 & 0 & 0 & 1 & 0\\\\\n",
       "\t ENSG00000110079 & 1 & 124 &  0.013 & 0.004 & 0 & 0 & 0 & 1 & 0\\\\\n",
       "\t ENSG00000103550 & 1 &  36 & -0.005 & 0.001 & 0 & 0 & 0 & 1 & 0\\\\\n",
       "\t ENSG00000108556 & 1 &  11 &  0.005 & 0.001 & 0 & 0 & 0 & 1 & 0\\\\\n",
       "\t ENSG00000161640 & 1 &   5 &  0.005 & 0.001 & 0 & 0 & 0 & 1 & 0\\\\\n",
       "\\end{tabular}\n"
      ],
      "text/markdown": [
       "\n",
       "A tibble: 6 × 10\n",
       "\n",
       "| X_ID &lt;chr&gt; | num_CS &lt;int&gt; | num_IV &lt;int&gt; | meta_eff &lt;dbl&gt; | se_meta_eff &lt;dbl&gt; | meta_pval &lt;dbl&gt; | meta_qval &lt;dbl&gt; | Q &lt;dbl&gt; | Q_pval &lt;dbl&gt; | I2 &lt;dbl&gt; |\n",
       "|---|---|---|---|---|---|---|---|---|---|\n",
       "| ENSG00000117322 | 1 |  19 |  0.022 | 0.005 | 0 | 0 | 0 | 0 | 0 |\n",
       "| ENSG00000203710 | 1 |  12 |  0.010 | 0.001 | 0 | 0 | 0 | 1 | 0 |\n",
       "| ENSG00000110079 | 1 | 124 |  0.013 | 0.004 | 0 | 0 | 0 | 1 | 0 |\n",
       "| ENSG00000103550 | 1 |  36 | -0.005 | 0.001 | 0 | 0 | 0 | 1 | 0 |\n",
       "| ENSG00000108556 | 1 |  11 |  0.005 | 0.001 | 0 | 0 | 0 | 1 | 0 |\n",
       "| ENSG00000161640 | 1 |   5 |  0.005 | 0.001 | 0 | 0 | 0 | 1 | 0 |\n",
       "\n"
      ],
      "text/plain": [
       "  X_ID            num_CS num_IV meta_eff se_meta_eff meta_pval meta_qval Q\n",
       "1 ENSG00000117322 1       19     0.022   0.005       0         0         0\n",
       "2 ENSG00000203710 1       12     0.010   0.001       0         0         0\n",
       "3 ENSG00000110079 1      124     0.013   0.004       0         0         0\n",
       "4 ENSG00000103550 1       36    -0.005   0.001       0         0         0\n",
       "5 ENSG00000108556 1       11     0.005   0.001       0         0         0\n",
       "6 ENSG00000161640 1        5     0.005   0.001       0         0         0\n",
       "  Q_pval I2\n",
       "1 0      0 \n",
       "2 1      0 \n",
       "3 1      0 \n",
       "4 1      0 \n",
       "5 1      0 \n",
       "6 1      0 "
      ]
     },
     "metadata": {},
     "output_type": "display_data"
    }
   ],
   "source": [
    "mr_output$susie_adj"
   ]
  },
  {
   "cell_type": "markdown",
   "metadata": {
    "kernel": "SoS"
   },
   "source": [
    "We can obtain six causal genes using the mr method. In fact, meta_pvals of ENSG00000108556 and ENSG00000161640 are equal to 0.0002 and 0.0003. Because we use round(x,3) to keep meta_pval to three decimal, all the meta_pval are zero in the table. And the Q value of first gene is equal to $5.538\\times10^{-31}$, so the Q_pval is equal to 0."
   ]
  }
 ],
 "metadata": {
  "kernelspec": {
   "display_name": "R",
   "language": "R",
   "name": "ir"
  },
  "language_info": {
   "codemirror_mode": "r",
   "file_extension": ".r",
   "mimetype": "text/x-r-source",
   "name": "R",
   "pygments_lexer": "r",
   "version": "3.6.3"
  },
  "sos": {
   "kernels": [
    [
     "Bash",
     "bash",
     "Bash",
     "#E6EEFF",
     "shell"
    ],
    [
     "SoS",
     "sos",
     "",
     "",
     "sos"
    ]
   ],
   "version": "0.20.1"
  }
 },
 "nbformat": 4,
 "nbformat_minor": 4
}
