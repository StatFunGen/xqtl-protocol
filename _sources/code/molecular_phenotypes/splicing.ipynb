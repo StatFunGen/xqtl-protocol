{
 "cells": [
  {
   "cell_type": "markdown",
   "id": "binding-ottawa",
   "metadata": {
    "kernel": "SoS",
    "tags": []
   },
   "source": [
    "# Alternative splicing from RNA-seq data\n",
    "\n"
   ]
  },
  {
   "cell_type": "markdown",
   "id": "fe558690-5e2a-4d42-8ca3-ae0227741716",
   "metadata": {},
   "source": [
    "#### Miniprotocol Timing\n",
    "\n",
    "Timing <2 hours"
   ]
  },
  {
   "cell_type": "markdown",
   "id": "5f48cddc-f1ec-42c5-80cc-35e4048fdf27",
   "metadata": {},
   "source": [
    "## Overview"
   ]
  },
  {
   "cell_type": "markdown",
   "id": "0e4d6a37-3eec-4e48-9978-bbee34068dfa",
   "metadata": {},
   "source": [
    "Several other modules should be run before generating splicing data to prepare the data. These include:\n",
    "1. `molecular_phenotypes/calling/RNA_calling.ipynb` (step i): Generate data quality summary with fastqc\n",
    "2. `molecular_phenotypes/calling/RNA_calling.ipynb` (step ii): Trim adaptors\n",
    "3. `molecular_phenotypes/calling/RNA_calling.ipynb` (step iii): Align RNASeq reads with STAR using the wasp option specifically for splicing data\n",
    "\n",
    "This miniprotocol shows the use of modules for splicing quantification and normalization. They are as follows:\n",
    "1. `molecular_phenotypes/calling/splicing_calling.ipynb` (step i): Quantify splicing with leafcutter or psichomics\n",
    "2. `molecular_phenotypes/QC/splicing_normalization.ipynb` (step ii): Quality control and normalization of splicing data\n",
    "3. `data_preprocessing/phenotype/gene_annotation.ipynb` (step iii): Process splicing data for use in TensorQTL"
   ]
  },
  {
   "cell_type": "markdown",
   "id": "34d14dfc-4045-451b-9071-69b799642c25",
   "metadata": {},
   "source": [
    "## Steps"
   ]
  },
  {
   "cell_type": "markdown",
   "id": "517cdd3d-4b37-45b5-ba39-18890862e426",
   "metadata": {
    "kernel": "Markdown",
    "tags": []
   },
   "source": [
    "## i. Splicing Quantification \n",
    "### a. LeafCutter"
   ]
  },
  {
   "cell_type": "markdown",
   "id": "e37659c8-a16f-4cd2-936f-9524df8c091b",
   "metadata": {
    "kernel": "Markdown",
    "tags": []
   },
   "source": [
    "### Intron usage ratio quantification via `leafCutter`\n",
    "*  `input`: a meta data file contains locations of all Aligned.sortedByCoord.out.bam files to be analyzed.\n",
    "*  `output`: a file with intron usage ratios, end with \"_intron_usage_perind.counts.gz\""
   ]
  },
  {
   "cell_type": "code",
   "execution_count": null,
   "id": "fc36a8fe-0622-4a5a-93e9-5df6f65aa781",
   "metadata": {},
   "outputs": [],
   "source": [
    "sos run pipeline/splicing_calling.ipynb leafcutter \\\n",
    "    --cwd output/leaf_cutter/ \\\n",
    "    --samples output/rnaseq/xqtl_protocol_data_bam_list \\\n",
    "    --container containers/leafcutter.sif "
   ]
  },
  {
   "cell_type": "markdown",
   "id": "a30c920a-fd94-4572-b0b2-bb56c423bce5",
   "metadata": {},
   "source": [
    "### b. Psichomics"
   ]
  },
  {
   "cell_type": "markdown",
   "id": "524e8d51-c7e4-4812-bdeb-3c6918824923",
   "metadata": {},
   "source": [
    "### Percent Spliced In (PSI) quantification for alternative splicing events via `Psichomics`\n",
    "*  `input`: a meta data file contains locations of all SJ.out.tab files to be analyzed.\n",
    "*  `output`: psi_raw_data.tsv, contains percent spliced in values for each alternative splicing event"
   ]
  },
  {
   "cell_type": "code",
   "execution_count": null,
   "id": "992578bb-bca0-42b4-b9b1-9e637b79f106",
   "metadata": {},
   "outputs": [],
   "source": [
    "sos run pipeline/splicing_calling.ipynb psichomics \\\n",
    "    --cwd output/psichomics/ \\\n",
    "    --samples output/rnaseq/xqtl_protocol_data_bam_list \\\n",
    "    --splicing_annotation hg38_suppa.rds \\\n",
    "    --container containers/psichomics.sif"
   ]
  },
  {
   "cell_type": "markdown",
   "id": "f4e7c8ad-d196-4546-83bd-d9b4a428eeb7",
   "metadata": {},
   "source": [
    "## ii. Splicing QC and Normalization\n",
    "### a. Leafcutter"
   ]
  },
  {
   "cell_type": "markdown",
   "id": "76a2be61-279c-412e-ac2c-486ac03c3f18",
   "metadata": {
    "kernel": "SoS"
   },
   "source": [
    "### QC and Normalization of leafCutter outputs\n",
    "*  `input`: the \"_intron_usage_perind.counts.gz\" file from previous step\n",
    "*  `output`: QC'd and normalized phenotype table end with \"qqnorm.txt\"\n",
    "Be noted that the `ratio` file to be fed into the leafcutter_norm are the one without `number` tag in its filename. "
   ]
  },
  {
   "cell_type": "code",
   "execution_count": null,
   "id": "18794388-051e-4dca-912f-646d20c460ef",
   "metadata": {
    "kernel": "Bash",
    "tags": []
   },
   "outputs": [],
   "source": [
    "\n",
    "sos run pipeline/splicing_normalization.ipynb leafcutter_norm \\\n",
    "    --cwd output/leaf_cutter/ \\\n",
    "    --ratios output/leaf_cutter/xqtl_protocol_data_bam_list_intron_usage_perind.counts.gz \\\n",
    "    --container containers/leafcutter.sif \n",
    "\n"
   ]
  },
  {
   "cell_type": "markdown",
   "id": "e8d11c5e-8394-41f8-8222-a76522cadba3",
   "metadata": {},
   "source": [
    "### b. Psichomics"
   ]
  },
  {
   "cell_type": "markdown",
   "id": "4897e752-073d-44e1-bda2-33d8220fc171",
   "metadata": {},
   "source": [
    "### QC and Normalization of psichomics outputs\n",
    "*  `input`: the \"psi_raw_data.tsv\" file from previous step\n",
    "*  `output`: QC'd and normalized phenotype table end with \"qqnorm.txt\""
   ]
  },
  {
   "cell_type": "code",
   "execution_count": null,
   "id": "a6137874-38d8-47a6-91df-7b8b127a0933",
   "metadata": {},
   "outputs": [],
   "source": [
    "sos run pipeline/splicing_normalization.ipynb psichomics_norm \\\n",
    "    --cwd psichomics_output \\\n",
    "    --ratios psichomics_output/psi_raw_data.tsv \\\n",
    "    --container containers/psichomics.sif"
   ]
  },
  {
   "cell_type": "markdown",
   "id": "650ab818-25a1-447c-a7cd-7f422e1f56df",
   "metadata": {},
   "source": [
    "## iii. Post Processing for TensorQTL\n",
    "### a. Leafcutter"
   ]
  },
  {
   "cell_type": "markdown",
   "id": "b15ab174-b9e5-44a7-b1ec-9d9365149922",
   "metadata": {
    "kernel": "SoS",
    "tags": []
   },
   "source": [
    "### Post-process of leafcutter outputs for them to be TensorQTL ready\n",
    "*  `input`: output of the previous two steps and the gtf file.\n",
    "*  `output`: a file in bed format end with \"formated.bed.gz\" "
   ]
  },
  {
   "cell_type": "code",
   "execution_count": null,
   "id": "75febff1-0246-4dde-b6bb-71e35c4ce521",
   "metadata": {
    "kernel": "Bash",
    "tags": []
   },
   "outputs": [],
   "source": [
    "sos run pipeline/gene_annotation.ipynb annotate_leafcutter_isoforms \\\n",
    "    --cwd output/leaf_cutter/ \\\n",
    "    --intron_count output/leaf_cutter/xqtl_protocol_data_bam_list_intron_usage_perind_numers.counts.gz \\\n",
    "    --phenoFile output/leaf_cutter/xqtl_protocol_data_bam_list_intron_usage_perind.counts.gz_raw_data.qqnorm.txt \\\n",
    "    --annotation-gtf reference_data/Homo_sapiens.GRCh38.103.chr.reformatted.collapse_only.gene.gtf \\\n",
    "    --container containers/bioinfo.sif \\\n",
    "    --sample_participant_lookup reference_data/sample_participant_lookup.rnaseq"
   ]
  },
  {
   "cell_type": "markdown",
   "id": "f8789922-2ffc-4a34-b611-dde3f95526f6",
   "metadata": {
    "kernel": "Markdown",
    "tags": []
   },
   "source": [
    "### b. Psichomics"
   ]
  },
  {
   "cell_type": "markdown",
   "id": "eb9cd0d0-b276-4af0-bc4c-722f0bde19a4",
   "metadata": {
    "kernel": "SoS"
   },
   "source": [
    "### Post-process of psichomics outputs for them to be TensorQTL ready\n",
    "*  `input`: the \"qqnorm.txt\" output from the previous step and the gtf file.\n",
    "*  `output`: a file in bed format end with \"formated.bed.gz\" "
   ]
  },
  {
   "cell_type": "code",
   "execution_count": null,
   "id": "315abc98-6eef-472d-b072-ccad5b15c5dc",
   "metadata": {
    "kernel": "Bash",
    "tags": []
   },
   "outputs": [],
   "source": [
    "sos run pipeline/code/data_preprocessing/phenotype/gene_annotation.ipynb annotate_psichomics_isoforms \\\n",
    "    --cwd psichomics_output \\\n",
    "    --phenoFile psichomics_output/psichomics_raw_data_bedded.qqnorm.txt \\\n",
    "    --annotation-gtf reference_data/Homo_sapiens.GRCh38.103.chr.reformated.ERCC.gene.gtf \\\n",
    "    --container containers/bioinfo.sif"
   ]
  },
  {
   "cell_type": "markdown",
   "id": "d57cb038-e7ef-4203-add0-4017e743d258",
   "metadata": {},
   "source": [
    "## Anticipated Results"
   ]
  },
  {
   "cell_type": "markdown",
   "id": "806ee486-73f3-4759-9cbe-0cfb89a00b93",
   "metadata": {},
   "source": [
    "The final output contains the QCed and normalized splicing data from leafcutter and psichonics."
   ]
  },
  {
   "cell_type": "code",
   "execution_count": null,
   "id": "4958da63-d8bd-47bd-9c1d-0aee23d4eba0",
   "metadata": {},
   "outputs": [],
   "source": []
  }
 ],
 "metadata": {
  "kernelspec": {
   "display_name": "SoS",
   "language": "sos",
   "name": "sos"
  },
  "language_info": {
   "codemirror_mode": "sos",
   "file_extension": ".sos",
   "mimetype": "text/x-sos",
   "name": "sos",
   "nbconvert_exporter": "sos_notebook.converter.SoS_Exporter",
   "pygments_lexer": "sos"
  },
  "sos": {
   "kernels": [
    [
     "Bash",
     "bash",
     "Bash",
     "#E6EEFF",
     "shell"
    ],
    [
     "Markdown",
     "markdown",
     "markdown",
     "",
     ""
    ]
   ],
   "version": "0.24.0"
  }
 },
 "nbformat": 4,
 "nbformat_minor": 5
}
