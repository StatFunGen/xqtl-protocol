{
 "cells": [
  {
   "cell_type": "markdown",
   "id": "binding-ottawa",
   "metadata": {
    "kernel": "SoS",
    "tags": []
   },
   "source": [
    "# Alternative splicing from RNA-seq data\n",
    "\n",
    "This document shows the use of Quantification and Quality Control + Normalization modules for Splicing events analysis. Two tools, leafCutter and Psichomics are used in these modules. Various reference data needs to be prepared before using this please check pages listed below for details.\n",
    "\n",
    "A minimal working example can be download [here](https://drive.google.com/drive/folders/1wEZUC4LIM8IsnYF03fR4GEIUcEAGsPP5). (Only example inputs of leafcutter is provided at current stage)"
   ]
  },
  {
   "cell_type": "markdown",
   "id": "05518e87-8405-4da9-a2b9-caaae518f994",
   "metadata": {
    "kernel": "SoS"
   },
   "source": [
    "## Alternative splicing events quantification\n",
    "\n",
    "`code/molecular_phenotypes/calling/splicing_calling.ipynb`"
   ]
  },
  {
   "cell_type": "markdown",
   "id": "253d2fe0-8c3a-4acc-952c-be1e3dbf0741",
   "metadata": {
    "kernel": "SoS"
   },
   "source": [
    "## Alternative splicing data normalization"
   ]
  },
  {
   "cell_type": "markdown",
   "id": "8e8ee57b-4392-457e-b671-8c6ea6092ae4",
   "metadata": {
    "kernel": "SoS"
   },
   "source": [
    "`code/molecular_phenotypes/QC/splicing_normalization.ipynb`"
   ]
  },
  {
   "cell_type": "code",
   "execution_count": 3,
   "id": "fb072a0a-ad02-4981-ab81-c0fb916b4fd1",
   "metadata": {
    "jupyter": {
     "source_hidden": true
    },
    "kernel": "Markdown",
    "tags": []
   },
   "outputs": [
    {
     "data": {
      "text/markdown": [
       "## Intron usage ratio quantification via `leafCutter`\n"
      ]
     },
     "metadata": {},
     "output_type": "display_data"
    }
   ],
   "source": [
    "## Intron usage ratio quantification via `leafCutter`"
   ]
  },
  {
   "cell_type": "code",
   "execution_count": null,
   "id": "63bcc8fc-7c48-45fd-8ca6-24b2df2cfc61",
   "metadata": {
    "kernel": "Bash",
    "tags": []
   },
   "outputs": [],
   "source": [
    "sos run pipeline/splicing_calling.ipynb leafcutter \\\n",
    "    --cwd leafcutter_output/ \\\n",
    "    --samples  sample_fastq_bam_list\\\n",
    "    --container containers/leafcutter.sif "
   ]
  },
  {
   "cell_type": "markdown",
   "id": "eb9cd0d0-b276-4af0-bc4c-722f0bde19a4",
   "metadata": {
    "kernel": "SoS"
   },
   "source": [
    "## Percent Spliced In (PSI) quantification for alternative splicing events via `Psichomics`"
   ]
  },
  {
   "cell_type": "code",
   "execution_count": null,
   "id": "315abc98-6eef-472d-b072-ccad5b15c5dc",
   "metadata": {
    "kernel": "Bash",
    "tags": []
   },
   "outputs": [],
   "source": [
    "sos run splicing_calling.ipynb psichomics \\\n",
    "    --cwd psichomics_output/ \\\n",
    "    --samples sample_fastq_bam_list\\\n",
    "    --splicing_annotation hg38_suppa.rds \\\n",
    "    --container container/psichomics.sif"
   ]
  },
  {
   "cell_type": "markdown",
   "id": "76a2be61-279c-412e-ac2c-486ac03c3f18",
   "metadata": {
    "kernel": "SoS"
   },
   "source": [
    "## QC and Normalization of leafCutter outputs"
   ]
  },
  {
   "cell_type": "code",
   "execution_count": null,
   "id": "18794388-051e-4dca-912f-646d20c460ef",
   "metadata": {
    "kernel": "Bash",
    "tags": []
   },
   "outputs": [],
   "source": [
    "sos run pipeline/splicing_normalization.ipynb leafcutter_norm \\\n",
    "    --cwd leafcutter_output/ \\\n",
    "    --ratios leafcutter_output/sample_list_intron_usage_perind.counts.gz \\\n",
    "    --container containers/leafcutter.sif "
   ]
  },
  {
   "cell_type": "markdown",
   "id": "57fd143b-3cfa-484d-a208-ba09a3238b92",
   "metadata": {
    "kernel": "SoS"
   },
   "source": [
    "## QC and Normalization of psichomics outputs"
   ]
  },
  {
   "cell_type": "code",
   "execution_count": null,
   "id": "8117c046-b0f1-4ef4-875e-2d0bbb1b99bb",
   "metadata": {
    "kernel": "Bash"
   },
   "outputs": [],
   "source": [
    "sos run pipeline/splicing_normalization.ipynb psichomics_norm\\\n",
    "    --cwd psichomics_output \\\n",
    "    --ratios psichomics_output/psi_raw_data.tsv \\\n",
    "    --container containers/psichomics.sif"
   ]
  }
 ],
 "metadata": {
  "kernelspec": {
   "display_name": "SoS",
   "language": "sos",
   "name": "sos"
  },
  "language_info": {
   "codemirror_mode": "sos",
   "file_extension": ".sos",
   "mimetype": "text/x-sos",
   "name": "sos",
   "nbconvert_exporter": "sos_notebook.converter.SoS_Exporter",
   "pygments_lexer": "sos"
  },
  "sos": {
   "kernels": [
    [
     "Bash",
     "bash",
     "Bash",
     "#E6EEFF",
     "shell"
    ],
    [
     "Markdown",
     "markdown",
     "markdown",
     "",
     "markdown"
    ]
   ],
   "version": "0.23.3"
  }
 },
 "nbformat": 4,
 "nbformat_minor": 5
}
