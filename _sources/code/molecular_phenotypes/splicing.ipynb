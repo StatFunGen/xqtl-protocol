{
 "cells": [
  {
   "cell_type": "markdown",
   "id": "binding-ottawa",
   "metadata": {
    "kernel": "SoS",
    "tags": []
   },
   "source": [
    "# Alternative splicing from RNA-seq data\n",
    "\n",
    "This document shows the use of moudules for Data Preperation, Quantification, Quality Control + Normalization for Splicing events analysis, and converting the results to molecular phenotype data in `bed` format. In particular:\n",
    "\n",
    "1. `molecular_phenotypes/calling/RNA_calling.ipynb`\n",
    "2. `molecular_phenotypes/calling/splicing_calling.ipynb`\n",
    "3. `molecular_phenotypes/QC/splicing_normalization.ipynb`\n",
    "4. `data_preprocessing/phenotype/gene_annotation.ipynb`\n",
    "\n",
    "Two tools, leafCutter and Psichomics are used in this splicing analyzing workflow and please check the corresponding modules for code documentation. Various reference data need to be prepared before using this workflow, please check [this module](https://cumc.github.io/xqtl-pipeline/code/data_preprocessing/reference_data.html) to download and prepare the reference data. \n"
   ]
  },
  {
   "cell_type": "markdown",
   "id": "5e2e7539-0a66-4ab4-bf3c-a8fccac0e8bc",
   "metadata": {
    "kernel": "SoS",
    "tags": []
   },
   "source": [
    "## Minimal Working Example\n",
    "\n",
    "As a minimal working example, some toy `fastq` data can be found on [Google Drive](https://drive.google.com/drive/u/0/folders/11kQv7PXozsKkgeqADH-28bC_kZ-w_oHo). These `fastq` files can be used to test step \"fastqc\", \"fast_trim_adaptor\", and \"STAR_output\" steps below.\n",
    "\n",
    "Since the STAR aligned output from data above contains too little infomation to generate valid output in leafcutter and psichomics, some leafcutter and psichomics inputs are prepared and can be download [here](https://drive.google.com/drive/folders/1lpcx3eKG2UpauntLUuJ6bMBjHyIhWW_R). The minimal working example files are publicly available data from the [1000 Genomes Project](https://www.ebi.ac.uk/arrayexpress/experiments/E-GEUV-1/), an international research project with an extensive catalog of human genome variation. For the minimal working example, 3 of 465 unrelated human lymphoblastoid cell lines from the 1000 Genomes Project was selected to produce leafcutter and psichomics example inputs via STAR alignment. For details of the preperation method of the minimal working example please check [this document](https://docs.google.com/document/d/1Gmk8C-zhfQRLceYE9ViGl_JcoSbkJn3jPe-E9y3L-UM/edit).\n"
   ]
  },
  {
   "cell_type": "markdown",
   "id": "ba33210e-63a0-4c89-b3cd-c6a6fd10fe5f",
   "metadata": {
    "kernel": "Markdown",
    "tags": []
   },
   "source": [
    "## To generate `fastqc` report"
   ]
  },
  {
   "cell_type": "code",
   "execution_count": null,
   "id": "712fd4be-b7b7-4d75-bde6-21c2e99ae5ac",
   "metadata": {
    "kernel": "Bash",
    "tags": []
   },
   "outputs": [],
   "source": [
    "sos run pipeline/RNA_calling.ipynb fastqc \\\n",
    "    --cwd output/ \\\n",
    "    --samples data/sample_fastq.list \\\n",
    "    --gtf reference_data/Homo_sapiens.GRCh38.103.chr.reformated.ERCC.gene.gtf \\\n",
    "    --container containers/rna_quantification.sif"
   ]
  },
  {
   "cell_type": "markdown",
   "id": "4cf2e698-0ff6-4620-9ddc-da4f8a4984df",
   "metadata": {
    "kernel": "Markdown",
    "tags": []
   },
   "source": [
    "## To cut adaptor\n",
    "After cutting the adaptor, a new sample list will be generated with the trimmed fastq file"
   ]
  },
  {
   "cell_type": "code",
   "execution_count": null,
   "id": "cd549525-c7ab-4d23-b90d-d44addded919",
   "metadata": {
    "kernel": "Bash"
   },
   "outputs": [],
   "source": [
    "sos run pipeline/RNA_calling.ipynb fastp_trim_adaptor \\\n",
    "    --cwd output2 \\\n",
    "    --samples data/sample_fastq.list \\\n",
    "    --data-dir data \\\n",
    "    --STAR-index reference_data/STAR_Index/ \\\n",
    "    --gtf reference_data/Homo_sapiens.GRCh38.103.chr.reformatted.ERCC.gene.gtf \\\n",
    "    --container containers/rna_quantification.sif \\\n",
    "    --reference-fasta reference_data/GRCh38_full_analysis_set_plus_decoy_hla.noALT_noHLA_noDecoy.fasta.fasta \\\n",
    "    --ref-flat reference_data/Homo_sapiens.GRCh38.103.chr.reformated.ERCC.gtf.ref.flat "
   ]
  },
  {
   "cell_type": "markdown",
   "id": "ca1918a5-1811-40bb-aa47-b1f2bb2d0f0b",
   "metadata": {
    "kernel": "Markdown",
    "tags": []
   },
   "source": [
    "## To align the reads with STAR"
   ]
  },
  {
   "cell_type": "code",
   "execution_count": null,
   "id": "2b312d12-1b88-47b9-92a0-2e3e6d1f8b79",
   "metadata": {
    "kernel": "Bash"
   },
   "outputs": [],
   "source": [
    "sos run pipeline/RNA_calling.ipynb STAR_output \\\n",
    "    --cwd output2 \\\n",
    "    --samples data/sample_fastq.list \\\n",
    "    --data-dir data \\\n",
    "    --STAR-index reference_data3/STAR_Index/ \\\n",
    "    --gtf reference_data/Homo_sapiens.GRCh38.103.chr.reformated.ERCC.gene.gtf \\\n",
    "    --container containers/rna_quantification.sif \\\n",
    "    --reference-fasta reference_data/GRCh38_full_analysis_set_plus_decoy_hla.noALT_noHLA_noDecoy.fasta.fasta \\\n",
    "    --ref-flat reference_data/Homo_sapiens.GRCh38.103.chr.reformated.ERCC.gtf.ref.flat"
   ]
  },
  {
   "cell_type": "markdown",
   "id": "d74876bd-4e1d-4724-9753-a15161721de7",
   "metadata": {
    "kernel": "Markdown",
    "tags": []
   },
   "source": [
    "The LeafCutter and Psichomics part below should are in parallel. They should be run independently and the corresponding inputs/outputs are not depend on eachother."
   ]
  },
  {
   "cell_type": "markdown",
   "id": "517cdd3d-4b37-45b5-ba39-18890862e426",
   "metadata": {
    "kernel": "Markdown",
    "tags": []
   },
   "source": [
    "# LeafCutter part workflow"
   ]
  },
  {
   "cell_type": "markdown",
   "id": "e37659c8-a16f-4cd2-936f-9524df8c091b",
   "metadata": {
    "kernel": "Markdown",
    "tags": []
   },
   "source": [
    "## Intron usage ratio quantification via `leafCutter`\n",
    "*  `input`: a meta data file contains locations of all Aligned.sortedByCoord.out.bam files to be analyzed.\n",
    "*  `output`: a file with intron usage ratios, end with \"_intron_usage_perind.counts.gz\""
   ]
  },
  {
   "cell_type": "code",
   "execution_count": null,
   "id": "63bcc8fc-7c48-45fd-8ca6-24b2df2cfc61",
   "metadata": {
    "kernel": "Bash",
    "tags": []
   },
   "outputs": [],
   "source": [
    "sos run pipeline/splicing_calling.ipynb leafcutter \\\n",
    "    --cwd leafcutter_output/ \\\n",
    "    --samples  sample_fastq_bam_list\\\n",
    "    --container containers/leafcutter.sif "
   ]
  },
  {
   "cell_type": "markdown",
   "id": "76a2be61-279c-412e-ac2c-486ac03c3f18",
   "metadata": {
    "kernel": "SoS"
   },
   "source": [
    "## QC and Normalization of leafCutter outputs\n",
    "*  `input`: the \"_intron_usage_perind.counts.gz\" file from previous step\n",
    "*  `output`: QC'd and normalized phenotype table end with \"qqnorm.txt\""
   ]
  },
  {
   "cell_type": "code",
   "execution_count": null,
   "id": "18794388-051e-4dca-912f-646d20c460ef",
   "metadata": {
    "kernel": "Bash",
    "tags": []
   },
   "outputs": [],
   "source": [
    "sos run pipeline/splicing_normalization.ipynb leafcutter_norm \\\n",
    "    --cwd leafcutter_output/ \\\n",
    "    --ratios leafcutter_output/sample_list_intron_usage_perind.counts.gz \\\n",
    "    --container containers/leafcutter.sif "
   ]
  },
  {
   "cell_type": "markdown",
   "id": "b15ab174-b9e5-44a7-b1ec-9d9365149922",
   "metadata": {
    "kernel": "SoS",
    "tags": []
   },
   "source": [
    "## Post-process of leafcutter outputs for them to be TensorQTL ready\n",
    "*  `input`: output of the previous two steps and the gtf file.\n",
    "*  `output`: a file in bed format end with \"formated.bed.gz\" "
   ]
  },
  {
   "cell_type": "code",
   "execution_count": null,
   "id": "75febff1-0246-4dde-b6bb-71e35c4ce521",
   "metadata": {
    "kernel": "Bash",
    "tags": []
   },
   "outputs": [],
   "source": [
    "sos run pipeline/code/data_preprocessing/phenotype/gene_annotation.ipynb map_leafcutter_cluster_to_gene \\\n",
    "    --cwd leafcutter_output \\\n",
    "    --intron_count  leafcutter_output/sample_fastq_bam_list_intron_usage_perind.counts.gz \\\n",
    "    --phenoFile leafcutter_output/sample_fastq_bam_list_intron_usage_perind.counts.gz_raw_data.qqnorm.txt \\\n",
    "    --annotation-gtf reference_data/Homo_sapiens.GRCh38.103.chr.reformated.ERCC.gene.gtf \\\n",
    "    --container containers/bioinfo.sif"
   ]
  },
  {
   "cell_type": "code",
   "execution_count": null,
   "id": "1bab5126-7b6a-4bd4-b54a-c8f6d61f0248",
   "metadata": {
    "kernel": "Bash"
   },
   "outputs": [],
   "source": [
    "sos run pipeline/code/data_preprocessing/phenotype/gene_annotation.ipynb annotate_leafcutter_isoforms\\\n",
    "    --cwd leafcutter_output \\\n",
    "    --intron_count leafcutter_output/sample_fastq_bam_list_intron_usage_perind.counts.gz \\\n",
    "    --phenoFile leafcutter_output/sample_fastq_bam_list_intron_usage_perind.counts.gz_raw_data.qqnorm.txt \\\n",
    "    --annotation-gtf reference_data/Homo_sapiens.GRCh38.103.chr.reformated.ERCC.gene.gtf \\\n",
    "    --container containers/bioinfo.sif"
   ]
  },
  {
   "cell_type": "markdown",
   "id": "f8789922-2ffc-4a34-b611-dde3f95526f6",
   "metadata": {
    "kernel": "Markdown",
    "tags": []
   },
   "source": [
    "# Psichomics part workflow"
   ]
  },
  {
   "cell_type": "markdown",
   "id": "eb9cd0d0-b276-4af0-bc4c-722f0bde19a4",
   "metadata": {
    "kernel": "SoS"
   },
   "source": [
    "## Percent Spliced In (PSI) quantification for alternative splicing events via `Psichomics`\n",
    "*  `input`: a meta data file contains locations of all SJ.out.tab files to be analyzed.\n",
    "*  `output`: psi_raw_data.tsv, contains percent spliced in values for each alternative splicing event"
   ]
  },
  {
   "cell_type": "code",
   "execution_count": null,
   "id": "315abc98-6eef-472d-b072-ccad5b15c5dc",
   "metadata": {
    "kernel": "Bash",
    "tags": []
   },
   "outputs": [],
   "source": [
    "sos run splicing_calling.ipynb psichomics \\\n",
    "    --cwd psichomics_output/ \\\n",
    "    --samples sample_fastq_bam_list\\\n",
    "    --splicing_annotation hg38_suppa.rds \\\n",
    "    --container containers/psichomics.sif"
   ]
  },
  {
   "cell_type": "markdown",
   "id": "57fd143b-3cfa-484d-a208-ba09a3238b92",
   "metadata": {
    "kernel": "SoS"
   },
   "source": [
    "## QC and Normalization of psichomics outputs\n",
    "*  `input`: the \"psi_raw_data.tsv\" file from previous step\n",
    "*  `output`: QC'd and normalized phenotype table end with \"qqnorm.txt\""
   ]
  },
  {
   "cell_type": "code",
   "execution_count": null,
   "id": "8117c046-b0f1-4ef4-875e-2d0bbb1b99bb",
   "metadata": {
    "kernel": "Bash",
    "tags": []
   },
   "outputs": [],
   "source": [
    "sos run pipeline/splicing_normalization.ipynb psichomics_norm\\\n",
    "    --cwd psichomics_output \\\n",
    "    --ratios psichomics_output/psi_raw_data.tsv \\\n",
    "    --container containers/psichomics.sif"
   ]
  },
  {
   "cell_type": "markdown",
   "id": "95271cb7-ad99-4ed4-8e8d-29b268482ffc",
   "metadata": {
    "kernel": "SoS"
   },
   "source": [
    "## Post-process of psichomics outputs for them to be TensorQTL ready\n",
    "*  `input`: the \"qqnorm.txt\" output from the previous step and the gtf file.\n",
    "*  `output`: a file in bed format end with \"formated.bed.gz\" "
   ]
  },
  {
   "cell_type": "code",
   "execution_count": null,
   "id": "1f325183-6ec2-466d-9e2f-66cd30fa6a5b",
   "metadata": {
    "kernel": "Bash"
   },
   "outputs": [],
   "source": [
    "sos run pipeline/code/data_preprocessing/phenotype/gene_annotation.ipynb annotate_psichomics_isoforms \\\n",
    "    --cwd psichomics_output \\\n",
    "    --phenoFile psichomics_output/psichomics_raw_data_bedded.qqnorm.txt \\\n",
    "    --annotation-gtf reference_data/Homo_sapiens.GRCh38.103.chr.reformated.ERCC.gene.gtf \\\n",
    "    --container containers/bioinfo.sif"
   ]
  }
 ],
 "metadata": {
  "kernelspec": {
   "display_name": "SoS",
   "language": "sos",
   "name": "sos"
  },
  "language_info": {
   "codemirror_mode": "sos",
   "file_extension": ".sos",
   "mimetype": "text/x-sos",
   "name": "sos",
   "nbconvert_exporter": "sos_notebook.converter.SoS_Exporter",
   "pygments_lexer": "sos"
  },
  "sos": {
   "kernels": [
    [
     "Bash",
     "bash",
     "Bash",
     "#E6EEFF",
     "shell"
    ],
    [
     "Markdown",
     "markdown",
     "markdown",
     "",
     ""
    ]
   ],
   "version": "0.23.3"
  }
 },
 "nbformat": 4,
 "nbformat_minor": 5
}
