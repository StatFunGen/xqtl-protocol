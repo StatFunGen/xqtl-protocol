{
 "cells": [
  {
   "cell_type": "markdown",
   "id": "binding-ottawa",
   "metadata": {
    "kernel": "SoS",
    "tags": []
   },
   "source": [
    "# Alternative splicing from RNA-seq data\n",
    "\n",
    "This document shows the use of Quantification and Quality Control + Normalization modules for Splicing events analysis. Two tools, leafCutter and Psichomics are used in these modules. Various reference data needs to be prepared before using this please check pages listed below for details.\n",
    "\n",
    "A minimal working example can be download [here](https://drive.google.com/drive/folders/1wEZUC4LIM8IsnYF03fR4GEIUcEAGsPP5). (Only example inputs of leafcutter is provided at current stage)"
   ]
  },
  {
   "cell_type": "markdown",
   "id": "ba33210e-63a0-4c89-b3cd-c6a6fd10fe5f",
   "metadata": {
    "kernel": "Markdown",
    "tags": []
   },
   "source": [
    "## Intron usage ratio quantification via `leafCutter`"
   ]
  },
  {
   "cell_type": "code",
   "execution_count": null,
   "id": "63bcc8fc-7c48-45fd-8ca6-24b2df2cfc61",
   "metadata": {
    "kernel": "Bash",
    "tags": []
   },
   "outputs": [],
   "source": [
    "sos run pipeline/splicing_calling.ipynb leafcutter \\\n",
    "    --cwd leafcutter_output/ \\\n",
    "    --samples  sample_fastq_bam_list\\\n",
    "    --container containers/leafcutter.sif "
   ]
  },
  {
   "cell_type": "markdown",
   "id": "eb9cd0d0-b276-4af0-bc4c-722f0bde19a4",
   "metadata": {
    "kernel": "SoS"
   },
   "source": [
    "## Percent Spliced In (PSI) quantification for alternative splicing events via `Psichomics`"
   ]
  },
  {
   "cell_type": "code",
   "execution_count": null,
   "id": "315abc98-6eef-472d-b072-ccad5b15c5dc",
   "metadata": {
    "kernel": "Bash",
    "tags": []
   },
   "outputs": [],
   "source": [
    "sos run splicing_calling.ipynb psichomics \\\n",
    "    --cwd psichomics_output/ \\\n",
    "    --samples sample_fastq_bam_list\\\n",
    "    --splicing_annotation hg38_suppa.rds \\\n",
    "    --container container/psichomics.sif"
   ]
  },
  {
   "cell_type": "markdown",
   "id": "76a2be61-279c-412e-ac2c-486ac03c3f18",
   "metadata": {
    "kernel": "SoS"
   },
   "source": [
    "## QC and Normalization of leafCutter outputs"
   ]
  },
  {
   "cell_type": "code",
   "execution_count": null,
   "id": "18794388-051e-4dca-912f-646d20c460ef",
   "metadata": {
    "kernel": "Bash",
    "tags": []
   },
   "outputs": [],
   "source": [
    "sos run pipeline/splicing_normalization.ipynb leafcutter_norm \\\n",
    "    --cwd leafcutter_output/ \\\n",
    "    --ratios leafcutter_output/sample_list_intron_usage_perind.counts.gz \\\n",
    "    --container containers/leafcutter.sif "
   ]
  },
  {
   "cell_type": "markdown",
   "id": "57fd143b-3cfa-484d-a208-ba09a3238b92",
   "metadata": {
    "kernel": "SoS"
   },
   "source": [
    "## QC and Normalization of psichomics outputs"
   ]
  },
  {
   "cell_type": "code",
   "execution_count": null,
   "id": "8117c046-b0f1-4ef4-875e-2d0bbb1b99bb",
   "metadata": {
    "kernel": "Bash"
   },
   "outputs": [],
   "source": [
    "sos run pipeline/splicing_normalization.ipynb psichomics_norm\\\n",
    "    --cwd psichomics_output \\\n",
    "    --ratios psichomics_output/psi_raw_data.tsv \\\n",
    "    --container containers/psichomics.sif"
   ]
  }
 ],
 "metadata": {
  "kernelspec": {
   "display_name": "SoS",
   "language": "sos",
   "name": "sos"
  },
  "language_info": {
   "codemirror_mode": "sos",
   "file_extension": ".sos",
   "mimetype": "text/x-sos",
   "name": "sos",
   "nbconvert_exporter": "sos_notebook.converter.SoS_Exporter",
   "pygments_lexer": "sos"
  },
  "sos": {
   "kernels": [
    [
     "Bash",
     "bash",
     "Bash",
     "#E6EEFF",
     "shell"
    ],
    [
     "Markdown",
     "markdown",
     "markdown",
     "",
     "markdown"
    ]
   ],
   "version": "0.22.9"
  }
 },
 "nbformat": 4,
 "nbformat_minor": 5
}
