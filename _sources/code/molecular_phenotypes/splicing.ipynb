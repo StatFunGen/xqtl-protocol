{
 "cells": [
  {
   "cell_type": "markdown",
   "id": "binding-ottawa",
   "metadata": {
    "kernel": "SoS",
    "tags": []
   },
   "source": [
    "# Alternative splicing from RNA-seq data\n"
   ]
  },
  {
   "cell_type": "markdown",
   "id": "05518e87-8405-4da9-a2b9-caaae518f994",
   "metadata": {
    "kernel": "SoS"
   },
   "source": [
    "## Alternative splicing events quantification\n",
    "\n",
    "`code/molecular_phenotypes/calling/splicing_calling.ipynb`"
   ]
  },
  {
   "cell_type": "markdown",
   "id": "253d2fe0-8c3a-4acc-952c-be1e3dbf0741",
   "metadata": {
    "kernel": "SoS"
   },
   "source": [
    "## Alternative splicing data normalization"
   ]
  },
  {
   "cell_type": "markdown",
   "id": "8e8ee57b-4392-457e-b671-8c6ea6092ae4",
   "metadata": {
    "kernel": "SoS"
   },
   "source": [
    "`code/molecular_phenotypes/QC/splicing_normalization.ipynb`"
   ]
  },
  {
   "cell_type": "code",
   "execution_count": null,
   "id": "315abc98-6eef-472d-b072-ccad5b15c5dc",
   "metadata": {
    "kernel": "SoS"
   },
   "outputs": [],
   "source": []
  }
 ],
 "metadata": {
  "kernelspec": {
   "display_name": "SoS",
   "language": "sos",
   "name": "sos"
  },
  "language_info": {
   "codemirror_mode": "sos",
   "file_extension": ".sos",
   "mimetype": "text/x-sos",
   "name": "sos",
   "nbconvert_exporter": "sos_notebook.converter.SoS_Exporter",
   "pygments_lexer": "sos"
  },
  "sos": {
   "kernels": [
    [
     "Bash",
     "bash",
     "Bash",
     "#E6EEFF",
     "shell"
    ],
    [
     "Markdown",
     "markdown",
     "markdown",
     "",
     ""
    ],
    [
     "Python3",
     "python3",
     "Python3",
     "#FFD91A",
     {
      "name": "ipython",
      "version": 3
     }
    ],
    [
     "R",
     "ir",
     "R",
     "#DCDCDA",
     "r"
    ],
    [
     "SoS",
     "sos",
     "",
     "",
     "sos"
    ]
   ],
   "version": "0.22.9"
  }
 },
 "nbformat": 4,
 "nbformat_minor": 5
}
