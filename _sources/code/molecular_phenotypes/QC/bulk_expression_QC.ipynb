{
 "cells": [
  {
   "cell_type": "markdown",
   "id": "damaged-entrepreneur",
   "metadata": {
    "kernel": "SoS"
   },
   "source": [
    "# Sample level RNA-seq quality control\n"
   ]
  },
  {
   "cell_type": "markdown",
   "id": "cada4b84-bb26-44aa-ba1f-c0032418e739",
   "metadata": {
    "kernel": "SoS"
   },
   "source": [
    "## Description"
   ]
  },
  {
   "cell_type": "markdown",
   "id": "b88b1088-38ff-4e87-bf93-590e77e92894",
   "metadata": {
    "kernel": "SoS"
   },
   "source": [
    "Quality control of the TPM matrices follows methods outlined by [GTEx V8](https://gtexportal.org/home/aboutGTEx#staticTextAnalysisMethods). First, genes are removed from the matrices if over 20% of samples have have a TPM expression level of 10% or less. Sample level filtering includes three checks to detect sample outliers. Samples are only removed if they are marked as outliers in all three checks. \n",
    "\n",
    "The first looks at Relative Log Expression (RLE). It is assumed that most gene expression values in a sample should be near a mean value and only a few genes are differentially expressed. To calculate RLE, for each gene *i*, calculate its median in *N* samples as *Medi*. Then for each sample *j* and expression value *eij*, count the difference between *eij* and *Medi* (*deij = eij-Medi*). Then create boxplots for each sample based on *deij* and sort by interquartile range. Samples with larger interquartile ranges are more likely to be outliers. \n",
    "\n",
    "The second quality control check looks at heirarchical clustering of samples. Samples are expected to have short distances between others and therefore should cluster homogeneously, so distant samples are expected to be outliers. Distance is calculated as 1-spearman correlation for heirarchical clustering. The top 100 genes sorted by variance are used to calculate Mahalanobis distance. Chi2 p-values are then calculated based on Mahalanobis distance. Clusters with 60% or more samples with Bonferroni corrected p-values less than 0.05 are marked as outliers. \n",
    "\n",
    "The third and last quality control check looks at D-statistics which represent the average correlation between a sample's expression and other sampels. Samples with low D-statistics are likely to be outliers. "
   ]
  },
  {
   "cell_type": "markdown",
   "id": "5ded23a1-a99e-4c4a-b233-b7dcdf20d883",
   "metadata": {
    "kernel": "SoS"
   },
   "source": [
    "## Input\n",
    "\n",
    "Gene expression in TPM. A data table with gene ID as first column and each sample ID as a subsquent columns.\n",
    "\n",
    "## Output\n",
    "\n",
    "1. A set of three diagnostic plots from each of the outlier detection method\n",
    "2. A TPM file with low expression genes, samples with missing data, and outliers removed\n",
    "3. Raw gene count file will also be processed to remove the same individuals and genes, as determined by the QC on TPM data."
   ]
  },
  {
   "cell_type": "markdown",
   "id": "4ab7b162-539f-482f-b634-596352defb3d",
   "metadata": {
    "kernel": "SoS"
   },
   "source": [
    "## Minimal Working Example Steps"
   ]
  },
  {
   "cell_type": "markdown",
   "id": "37c14c92-443e-487f-9f04-196c9b7809fa",
   "metadata": {
    "kernel": "SoS"
   },
   "source": [
    "### vi. Multi-sample RNA-seq QC"
   ]
  },
  {
   "cell_type": "markdown",
   "id": "89668958-675f-4d02-9805-2822aba391f5",
   "metadata": {
    "kernel": "SoS"
   },
   "source": [
    "Timing: <15min"
   ]
  },
  {
   "cell_type": "markdown",
   "id": "83954ae8-43b7-474f-9d73-a41727d3508f",
   "metadata": {
    "kernel": "SoS"
   },
   "source": [
    "Implement RNA-seq QC that identifies and removes genes and samples from the TPM matrix"
   ]
  },
  {
   "cell_type": "markdown",
   "id": "767d1a2b-8abd-4a15-b61e-2c968d388e4d",
   "metadata": {
    "kernel": "SoS"
   },
   "source": [
    "**Note:** We recommend using DSFilterPercent default value of 0.05. DSFilterPercent changed from default (0.05) to 0.1 here for testing with few samples."
   ]
  },
  {
   "cell_type": "code",
   "execution_count": 10,
   "id": "ecf2fa64-56d8-43d3-9071-edc26fb9e96f",
   "metadata": {
    "kernel": "SoS"
   },
   "outputs": [
    {
     "name": "stdout",
     "output_type": "stream",
     "text": [
      "INFO: Running \u001b[32mbasic check and low expression filtering\u001b[0m: \n",
      "INFO: tafc955937c3625d3 \u001b[32mre-execute completed\u001b[0m\n",
      "INFO: tafc955937c3625d3 \u001b[32msubmitted\u001b[0m to neurology with job id Your job 2487320 (\"job_tafc955937c3625d3\") has been submitted\n",
      "INFO: Waiting for the completion of \u001b[32m1\u001b[0m task.\n",
      "INFO: \u001b[32mbasic check and low expression filtering\u001b[0m output:   \u001b[32m/restricted/projectnb/xqtl/xqtl_protocol/output_test/rnaseqc_qc/PCC_sample_list_subset.rnaseqc.low_expression_filtered.tpm.gct.gz\u001b[0m\n",
      "INFO: Running \u001b[32mremove outliers\u001b[0m: \n",
      "INFO: tc7361a814fec7f21 \u001b[32msubmitted\u001b[0m to neurology with job id Your job 2487339 (\"job_tc7361a814fec7f21\") has been submitted\n",
      "INFO: Waiting for the completion of \u001b[32m1\u001b[0m task.\n",
      "INFO: Waiting for the completion of \u001b[32m1\u001b[0m task.\n",
      "INFO: Waiting for the completion of \u001b[32m1\u001b[0m task.\n",
      "INFO: Waiting for the completion of \u001b[32m1\u001b[0m task.\n",
      "INFO: \u001b[32mremove outliers\u001b[0m output:   \u001b[32m/restricted/projectnb/xqtl/xqtl_protocol/output_test/rnaseqc_qc/PCC_sample_list_subset.rnaseqc.low_expression_filtered.outlier_removed.tpm.gct.gz\u001b[0m\n",
      "INFO: Running \u001b[32mremove gene and samples from raw counts\u001b[0m: \n",
      "INFO: tab40adeac3335a70 \u001b[32msubmitted\u001b[0m to neurology with job id Your job 2487364 (\"job_tab40adeac3335a70\") has been submitted\n",
      "INFO: Waiting for the completion of \u001b[32m1\u001b[0m task.\n",
      "INFO: Waiting for the completion of \u001b[32m1\u001b[0m task.\n",
      "INFO: Waiting for the completion of \u001b[32m1\u001b[0m task.\n",
      "INFO: Waiting for the completion of \u001b[32m1\u001b[0m task.\n",
      "INFO: \u001b[32mremove gene and samples from raw counts\u001b[0m output:   \u001b[32m/restricted/projectnb/xqtl/xqtl_protocol/output_test/rnaseqc_qc/PCC_sample_list_subset.rnaseqc.low_expression_filtered.outlier_removed.geneCount.gct.gz\u001b[0m\n",
      "INFO: Workflow qc (ID=w1ced59ea596cdce1) is executed successfully with 3 completed steps and 3 completed tasks.\n"
     ]
    }
   ],
   "source": [
    "!sos run bulk_expression_QC.ipynb qc \\\n",
    "    --cwd ../../output_test/rnaseqc_qc \\\n",
    "    --tpm-gct ../../output_test/star_output/PCC_sample_list_subset.rnaseqc.gene_tpm.gct.gz \\\n",
    "    --counts-gct ../../output_test/star_output/PCC_sample_list_subset.rnaseqc.gene_readsCount.gct.gz \\\n",
    "    --DSFilterPercent 0.1 \\\n",
    "    --container oras://ghcr.io/statfungen/rna_quantification_apptainer:latest \\\n",
    "    -s force -c ../csg.yml  -q neurology "
   ]
  },
  {
   "cell_type": "markdown",
   "id": "70d98b4d-fc04-4af8-94bf-2b4a7674868a",
   "metadata": {
    "kernel": "SoS"
   },
   "source": [
    "## Troubleshooting"
   ]
  },
  {
   "cell_type": "markdown",
   "id": "d36a6717-eac5-4698-aced-c4969c9a2030",
   "metadata": {
    "kernel": "SoS"
   },
   "source": [
    "| Step | Substep | Problem | Possible Reason | Solution |\n",
    "|------|---------|---------|------------------|---------|\n",
    "|  |  |  |  |  |\n",
    "\n",
    "\n"
   ]
  },
  {
   "cell_type": "markdown",
   "id": "intimate-manhattan",
   "metadata": {
    "kernel": "SoS"
   },
   "source": [
    "## Command interface"
   ]
  },
  {
   "cell_type": "code",
   "execution_count": 1,
   "id": "native-lingerie",
   "metadata": {
    "kernel": "Bash"
   },
   "outputs": [
    {
     "name": "stdout",
     "output_type": "stream",
     "text": [
      "usage: sos run bulk_expression_QC.ipynb\n",
      "               [workflow_name | -t targets] [options] [workflow_options]\n",
      "  workflow_name:        Single or combined workflows defined in this script\n",
      "  targets:              One or more targets to generate\n",
      "  options:              Single-hyphen sos parameters (see \"sos run -h\" for details)\n",
      "  workflow_options:     Double-hyphen workflow-specific parameters\n",
      "\n",
      "Workflows:\n",
      "  qc\n",
      "\n",
      "Global Workflow Options:\n",
      "  --tpm-gct VAL (as path, required)\n",
      "                        Required input is TPM file\n",
      "  --counts-gct . (as path)\n",
      "                        Raw counts file is optional and if available, it will be\n",
      "                        filtered to match with the TPM file sample and genes\n",
      "  --cwd output (as path)\n",
      "  --container ''\n",
      "\n",
      "Sections\n",
      "  qc_1:\n",
      "    Workflow Options:\n",
      "      --low-expr-TPM 0.1 (as float)\n",
      "      --low-expr-TPM-percent 0.2 (as float)\n",
      "  qc_2:\n",
      "    Workflow Options:\n",
      "      --RLEFilterPercent 0.05 (as float)\n",
      "      --DSFilterPercent 0.05 (as float)\n",
      "      --topk-genes 100 (as int)\n",
      "      --cluster-percent 0.6 (as float)\n",
      "      --pvalue-cutoff 0.05 (as float)\n",
      "      --cluster-level 5 (as int)\n",
      "  qc_3:\n"
     ]
    }
   ],
   "source": [
    "sos run bulk_expression_QC.ipynb -h"
   ]
  },
  {
   "cell_type": "markdown",
   "id": "entitled-increase",
   "metadata": {
    "kernel": "Bash"
   },
   "source": [
    "## Workflow implementation"
   ]
  },
  {
   "cell_type": "code",
   "execution_count": 1,
   "id": "packed-argentina",
   "metadata": {
    "kernel": "SoS",
    "tags": []
   },
   "outputs": [],
   "source": [
    "[global]\n",
    "# Required input is TPM file\n",
    "parameter: tpm_gct = path\n",
    "# Raw counts file is optional and if available, it will be filtered to match with the TPM file sample and genes\n",
    "parameter: counts_gct = path()\n",
    "parameter: cwd = path(\"output\")\n",
    "parameter: container = \"\"\n",
    "import re\n",
    "parameter: entrypoint= ('micromamba run -a \"\" -n' + ' ' + re.sub(r'(_apptainer:latest|_docker:latest|\\.sif)$', '', container.split('/')[-1])) if container else \"\"\n",
    "cwd = path(f'{cwd:a}')\n",
    "# For cluster jobs, number commands to run per job\n",
    "parameter: job_size = 1\n",
    "# Wall clock time expected\n",
    "parameter: walltime = \"5h\"\n",
    "# Memory expected\n",
    "parameter: mem = \"16G\"\n",
    "\n",
    "# Number of threads\n",
    "parameter: numThreads = 8"
   ]
  },
  {
   "cell_type": "code",
   "execution_count": 2,
   "id": "broken-diabetes",
   "metadata": {
    "kernel": "SoS"
   },
   "outputs": [],
   "source": [
    "[qc_1 (basic check and low expression filtering)]\n",
    "parameter: low_expr_TPM = 0.1\n",
    "parameter: low_expr_TPM_percent = 0.2\n",
    "input: tpm_gct\n",
    "output: f'{cwd}/{_input:bnnn}.low_expression_filtered.tpm.gct.gz'\n",
    "task: trunk_workers = 1, trunk_size = job_size, walltime = walltime, mem = mem, cores = numThreads\n",
    "R: expand = \"$[ ]\", stderr = f'{_output:nnn}.stderr', stdout = f'{_output:nnn}.log',container = container, entrypoint = entrypoint\n",
    "    # Load packages\n",
    "    library(dplyr)\n",
    "    library(readr)\n",
    "    library(tibble)\n",
    "    library(purrr)\n",
    "    ## Setting inputs\n",
    "    low_expr_TPM <- $[low_expr_TPM]\n",
    "    low_expr_TPM_percent <- $[low_expr_TPM_percent]\n",
    "    ## QC\n",
    "    ### Data integrity check. The input file should has sample ID as column name; the first column is gene ID\n",
    "    TPM_data <- read_tsv($[_input:ar], col_names = TRUE, comment = \"#\")%>%as.data.frame()\n",
    "    names(TPM_data)[1] <- \"feature\"\n",
    "    if( sum(duplicated(TPM_data$feature)) > 0){\n",
    "      message(\"feature (e.g. gene names) should be in the first column. Please remove duplicated feature IDs, Exit!\")\n",
    "      quit(save = \"no\", status = 1, runLast = FALSE)\n",
    "    }else{\n",
    "      rownames(TPM_data) <- TPM_data$feature\n",
    "      TPM_data = TPM_data[,-1]\n",
    "      loaded_sample_count <- ncol(TPM_data)\n",
    "    }\n",
    "    #### NA check\n",
    "    if(sum(is.na(TPM_data)) > 0 ){      \n",
    "      message(paste0(\"NA is not allowed in the data, there are \",sum(is.na(TPM_data)),\" NAs, Exit!\"))\n",
    "      quit(save = \"no\", status = 1, runLast = FALSE)}\n",
    "    #### make sure every expr column is in numeric type\n",
    "    matrix_check <- map(TPM_data, is.numeric) %>% unlist\n",
    "    if(sum(!matrix_check) > 0){\n",
    "      message(\"The following column(s) in expression matrix is/are NOT in numeric type. Plese check, Proceed by excluding those samples\")\n",
    "      message(paste(names(matrix_check)[!matrix_check], collapse = \"; \"))\n",
    "      TPM_data = TPM_data[,matrix_check]\n",
    "    }\n",
    "    message(\"Gene expression profiles loaded successfully!\")\n",
    "    message(paste(nrow(TPM_data), \"genes and\", ncol(TPM_data), \"samples are loaded from\", $[_input:r], sep = \" \"))\n",
    "    \n",
    "    #### Filter out low exp genes\n",
    "    keep_genes_idx <- (rowMeans(TPM_data>low_expr_TPM)>low_expr_TPM_percent) \n",
    "    TPM_data = TPM_data[keep_genes_idx,]\n",
    "    message(paste(sum(1 - keep_genes_idx), \"genes are filtered by filter: >\", low_expr_TPM_percent*100, \"% samples have expression values <\", low_expr_TPM))\n",
    "    message(paste(sum(keep_genes_idx), \"genes left, saving output to $[_output].\"))\n",
    "    TPM_data%>%as_tibble(rownames = \"gene_ID\")%>%write_delim(\"$[_output]\",\"\\t\")"
   ]
  },
  {
   "cell_type": "markdown",
   "id": "6f839b61-edfe-4b5f-b049-02c7eaf88c93",
   "metadata": {
    "kernel": "SoS"
   },
   "source": [
    "**CAUTION: I (GW) am not sure what to do with the offset for log-transformation on TPM. GTEx suggests using offset = 1. Here I keep the recommendation from [these authors](https://github.com/stormlovetao/eQTLQC/blob/master/Sample/src/report.Rmd) where both 0.0001 and 1 were used in different steps.**\n",
    "\n"
   ]
  },
  {
   "cell_type": "code",
   "execution_count": null,
   "id": "traditional-trance",
   "metadata": {
    "kernel": "SoS"
   },
   "outputs": [],
   "source": [
    "[qc_2 (remove outliers)]\n",
    "parameter: RLEFilterPercent = 0.05\n",
    "parameter: DSFilterPercent = 0.05\n",
    "parameter: topk_genes = 100\n",
    "parameter: cluster_percent = 0.6\n",
    "parameter: pvalue_cutoff = 0.05\n",
    "parameter: cluster_level = 5\n",
    "output: f'{cwd}/{_input:bnnn}.outlier_removed.tpm.gct.gz'\n",
    "task: trunk_workers = 1, trunk_size = job_size, walltime = walltime, mem = mem, cores = numThreads\n",
    "R: expand = \"$[ ]\", stderr = f'{_output:nnn}.stderr', stdout = f'{_output:nnn}.log', container = container, entrypoint = entrypoint\n",
    "    library(RColorBrewer)\n",
    "    library(ape)\n",
    "    library(reshape2)\n",
    "    library(dplyr)\n",
    "    library(readr)\n",
    "    ## Setting parameters\n",
    "    RLEFilterPercent <-$[RLEFilterPercent]\n",
    "    DSFilterPercent <- $[DSFilterPercent]\n",
    "    ### Hcluster parameter\n",
    "    pvalues.cut <- $[pvalue_cutoff]\n",
    "    topk_genes <- $[topk_genes]\n",
    "    cluster_percent <- $[cluster_percent]\n",
    "    treesNum <- $[cluster_level]\n",
    "    ## Define functions to accomodate rank deficient covariance matrices in https://github.com/statfungen/xqtl-protocol/issues/307\n",
    "    mahalanobis = function (x, center, cov, inverted = FALSE, ...) \n",
    "        {\n",
    "            x <- if (is.vector(x)) \n",
    "                matrix(x, ncol = length(x))\n",
    "            else as.matrix(x)\n",
    "            if (!isFALSE(center)) \n",
    "                x <- sweep(x, 2L, center)\n",
    "            if (!inverted) \n",
    "                cov <- MASS::ginv(cov, ...)\n",
    "            setNames(rowSums(x %*% cov * x), rownames(x))\n",
    "        }\n",
    "          \n",
    "    ## laod Data\n",
    "    TPM_data <- read_tsv($[_input:ar], col_names = TRUE, comment = \"#\")%>%as.data.frame()\n",
    "    rownames(TPM_data) <- TPM_data$gene_ID\n",
    "    TPM_data = TPM_data[,-1]\n",
    "    RLEFilterLength <- RLEFilterPercent*ncol(TPM_data)\n",
    "    DSFilter <- DSFilterPercent*ncol(TPM_data)\n",
    "  \n",
    "    ## Outlier detection\n",
    "  \n",
    "    ### RLE\n",
    "    # https://github.com/stormlovetao/eQTLQC/blob/86dcc388c8da7f1bd5b223f4b9b26f09c907eb15/Sample/src/report.Rmd#L71\n",
    "    log_offset <- 0.0001\n",
    "    logtpm = log10(TPM_data%>%as.matrix + log_offset)\n",
    "    rle=logtpm-apply(logtpm, 1, median) # change \"/\" to \"-\" so that we got log(fold-change) which centered on 0 on the RLE plot.\n",
    "    iqr = apply(rle,2,IQR)\n",
    "    rle=melt( rle , variable.name = \"Sample\",value.name =\"TPM\", id=\"feature\")\n",
    "    names(rle) <- c(\"feature\",\"Sample\",\"TPM\")\n",
    "    rle_IQR <- rle %>% group_by(Sample) %>% summarise(IQR = IQR(TPM))\n",
    "    rle_IQR_range <- rle_IQR$IQR %>% range %>% abs() %>% max()\n",
    "    rle_IQR_range <- 2*rle_IQR_range %>% ceiling()\n",
    "    bymedian <- with(rle, reorder(Sample, TPM, IQR))  # sort by IQR\n",
    "    par(mar=c(3,3,3,3))\n",
    "    pdf(file = \"$[_output:n].RLEplot.pdf\")\n",
    "    boxplot(TPM ~ bymedian, data=rle, outline=F, ylim = c(-rle_IQR_range, rle_IQR_range), las=2, boxwex=1, col='gray', cex.axis=0.3, main=\"RLE plot before QC\", xlab=\"\", ylab=\"Residual expression levels\", frame=F)\n",
    "    dev.off()\n",
    "    ExpPerSample <- nrow(TPM_data)\n",
    "    RLEFilterList <- unique(levels(bymedian)[((length(levels(bymedian))-(RLEFilterLength))+1):(length(levels(bymedian))+1)])\n",
    "    RLEFilterList <- as.character(RLEFilterList)\n",
    "    message(paste0(\"The right most \", RLEFilterPercent*100, \"% samples (N = \", length(RLEFilterList), \") are marked as candidate outliers in this step:\") )\n",
    "    for (x in 1:length(RLEFilterList)){\n",
    "      message(RLEFilterList[x])\n",
    "    }\n",
    "\n",
    "    ### hcluster  \n",
    "    sampleDists <- 1 - cor(logtpm, method='spearman')\n",
    "    hc <- hclust(as.dist(sampleDists), method = \"complete\")\n",
    "    hcphy <- as.phylo(hc)\n",
    "  \n",
    "    pdf(file = \"$[_output:n].preQC_cluster.pdf\")\n",
    "    plot(hcphy, type = \"unrooted\", cex=.2, lab4ut='axial',underscore = T, main=\"Sample clustering before QC (Spearman - Cor.)\")\n",
    "    dev.off()\n",
    "    # https://github.com/stormlovetao/eQTLQC/blob/86dcc388c8da7f1bd5b223f4b9b26f09c907eb15/Sample/src/report.Rmd#L102\n",
    "    log_offset <- 1\n",
    "    logtpm = log10(TPM_data%>%as.matrix + log_offset)\n",
    "    ntop <- topk_genes\n",
    "    Pvars <- apply(logtpm, 1, var)\n",
    "    select <- order(Pvars, decreasing =TRUE)[seq_len(min(ntop, length(Pvars)))]\n",
    "    MD_matrix <- logtpm[select, ]\n",
    "    MahalanobisDistance = mahalanobis(t(MD_matrix), colMeans(t(MD_matrix)), cov(t(MD_matrix))) \n",
    "    # Note: t(MD_matrix)=sample_row*gene_column, Manhalanobis() returns one vector with length=row number\n",
    "    pvalues = pchisq(MahalanobisDistance, df=nrow(MD_matrix), lower.tail=F)\n",
    "    pvalues.adjust = p.adjust(pvalues, method =\"bonferroni\") # adjusted pvalues for each sample\n",
    "    pvalues.low <- pvalues.adjust[pvalues.adjust<pvalues.cut]\n",
    "    \n",
    "    HCoutliers <- character()\n",
    "    for(x in c(1:treesNum)){\n",
    "      trees <- cutree(hc,k=x)\n",
    "      idx <- c(1:x)#which tree is checking\n",
    "      for(i in idx)\n",
    "      {\n",
    "        group <- hc$labels[which(trees == i)]\n",
    "        if(sum(group %in% names(pvalues.low))/length(group) >= cluster_percent)\n",
    "        {\n",
    "          HCoutliers <- union(HCoutliers,group)\n",
    "        }\n",
    "      }\n",
    "    }\n",
    "    \n",
    "    message(paste(length(HCoutliers), \"samples are marked as candidate outlier(s) in this step.\", sep = \" \"))\n",
    "    if(length(HCoutliers)>0){\n",
    "      message(\"Sample outliers are marked in red as follows:\")\n",
    "      for (x in 1:length(HCoutliers)){\n",
    "          message(HCoutliers[x])\n",
    "      }\n",
    "      co1 = hc$labels%in%HCoutliers\n",
    "      co1[which(co1 == \"FALSE\")]<-\"gray0\"\n",
    "      co1[which(co1 == \"TRUE\")]<-\"red\"\n",
    "      par(mar=c(3,3,3,3))\n",
    "  \n",
    "    pdf(file = \"$[_output:n].cluster.pdf\")\n",
    "    plot(hcphy, tip.col = co1, type = \"unrooted\", cex=.2, lab4ut='axial',underscore = T, main=\"Label Outliers in Red\")\n",
    "    Xcol = c(\"gray0\", \"red\")\n",
    "    Xtext = c(\"Normal Sample\", \"Outliers\")\n",
    "    legend('bottomleft',pch=21,Xtext, col='white',pt.bg=Xcol, cex=1)\n",
    "    dev.off()\n",
    "    }else{\n",
    "      message(\"No outlier detected.\")\n",
    "    }\n",
    "    \n",
    "    ### D-s\n",
    "    D = apply(1-sampleDists, 1, median)\n",
    "    pdf(file = \"$[_output:n].D_stat_hist.pdf\")\n",
    "    hist(D, breaks=100, ylab=\"Number of samples\", xlab=\"D-statistic\", main=\"Histogram of Sample D-statistics before data QC\")\n",
    "    dev.off()\n",
    "    \n",
    "    DSFilter <- sort(D)[DSFilter]\n",
    "    D<-as.data.frame(D)\n",
    "    D<-data.frame(Sample = rownames(D),D = D$D)\n",
    "    D_filterList = D%>%filter(D <= DSFilter)\n",
    "    D_filterList <- D_filterList$Sample\n",
    "    D_filterList<-as.character(D_filterList)\n",
    "    message(paste0(\"The right most \", DSFilterPercent*100, \"% samples (N=\", length(D_filterList), \") are marked as candidate outliers in this step:\") )\n",
    "    for (x in 1:length(D_filterList)){\n",
    "      message(D_filterList[x])\n",
    "    }\n",
    "    \n",
    "    ## Outliers are the intersect of three candidates list\n",
    "    outliersList <- intersect(RLEFilterList,intersect(HCoutliers,D_filterList))\n",
    "    message(\"Outliers:\")\n",
    "    for (x in 1:length(outliersList)){\n",
    "      message(outliersList[x])\n",
    "    }\n",
    "    outliersIndex <- which(colnames(logtpm) %in% outliersList)\n",
    "    if(!length(outliersIndex) == 0){\n",
    "        TPM_data <- TPM_data[,-outliersIndex]\n",
    "    }\n",
    "    ## Add 2 header lines, https://github.com/getzlab/rnaseqc/blob/286f99dfd4164d33014241dd4f3149da0cddf5bf/src/RNASeQC.cpp#L426\n",
    "    cat(paste(\"#1.2\\n#\", nrow(TPM_data), ncol(TPM_data), \"\\n\"), file=$[_output:nr], append=FALSE)\n",
    "    TPM_data%>%as_tibble(rownames = \"gene_ID\")%>%write_delim($[_output:nr],delim = \"\\t\",col_names = T, append = T)\n",
    "  \n",
    "bash: expand = \"$[ ]\", stderr = f'{_output:nnn}.stderr', stdout = f'{_output:nnn}.log', container = container, entrypoint = entrypoint\n",
    "    gzip -f --best $[_output:n]"
   ]
  },
  {
   "cell_type": "markdown",
   "id": "lucky-edward",
   "metadata": {
    "kernel": "SoS"
   },
   "source": [
    "Additional formatting:\n",
    "\n",
    "1. Filter out the geneCount table based on TPM table.\n",
    "2. Adds two comment lines above the header of TPM and geneCount table to mimick the original output from RNASeQC."
   ]
  },
  {
   "cell_type": "code",
   "execution_count": 4,
   "id": "dental-scheduling",
   "metadata": {
    "kernel": "SoS"
   },
   "outputs": [],
   "source": [
    "[qc_3 (remove gene and samples from raw counts)]\n",
    "stop_if(not counts_gct.is_file())\n",
    "output: f'{cwd}/{_input:bnnn}.geneCount.gct.gz'\n",
    "task: trunk_workers = 1, trunk_size = job_size, walltime = walltime, mem = mem, cores = numThreads\n",
    "R: expand = \"$[ ]\", stderr = f'{_output:nn}.stderr', stdout = f'{_output:nn}.stdout', container = container, entrypoint = entrypoint\n",
    "    library(\"dplyr\")\n",
    "    library(\"readr\")\n",
    "    # Reason to use read.table: 1.accomodate both \" \" and \"\\t\"\n",
    "    tpm = read_delim($[_input:ar], \"\\t\", col_names = T, comment = \"#\")\n",
    "    geneCount = read_delim($[counts_gct:ar], \"\\t\" ,col_names = T, comment = \"#\")\n",
    "    ## Make geneCount consistant with tpm, remove gene by filter() and remove samples by select()\n",
    "    geneCount = geneCount%>%filter(gene_ID %in% tpm$gene_ID)%>%select(colnames(tpm))\n",
    "    ## Add 2 header lines, https://github.com/getzlab/rnaseqc/blob/286f99dfd4164d33014241dd4f3149da0cddf5bf/src/RNASeQC.cpp#L426\n",
    "    cat(paste(\"#1.2\\n#\", nrow(geneCount), ncol(geneCount) - 1, \"\\n\"), file=$[_output:nr], append=FALSE)\n",
    "    ## Save each file with 3 header line\n",
    "    geneCount%>%write_delim($[_output:nr],delim = \"\\t\",col_names = T, append = T)\n",
    "\n",
    "bash: expand = \"$[ ]\", stderr = f'{_output:nnn}.stderr', stdout = f'{_output:nnn}.log', container = container, entrypoint = entrypoint\n",
    "    gzip -f --best $[_output:n]"
   ]
  }
 ],
 "metadata": {
  "jupytext": {
   "cell_metadata_filter": "warning,tags,message,name,-all",
   "main_language": "R",
   "notebook_metadata_filter": "-all"
  },
  "kernelspec": {
   "display_name": "SoS",
   "language": "sos",
   "name": "sos"
  },
  "language_info": {
   "codemirror_mode": "sos",
   "file_extension": ".sos",
   "mimetype": "text/x-sos",
   "name": "sos",
   "nbconvert_exporter": "sos_notebook.converter.SoS_Exporter",
   "pygments_lexer": "sos"
  },
  "sos": {
   "kernels": [
    [
     "Bash",
     "bash",
     "Bash",
     "#E6EEFF",
     "shell"
    ],
    [
     "SoS",
     "sos",
     "",
     "",
     "sos"
    ]
   ],
   "version": "0.20.1"
  }
 },
 "nbformat": 4,
 "nbformat_minor": 5
}
